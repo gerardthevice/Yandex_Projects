{
 "cells": [
  {
   "cell_type": "markdown",
   "metadata": {},
   "source": [
    "# Определение перспективного тарифа для телеком-компании"
   ]
  },
  {
   "cell_type": "markdown",
   "metadata": {},
   "source": [
    "В нашем распоряжении данные компании «Мегалайн» — федерального оператора сотовой связи. Клиентам предлагают два тарифных плана: «Смарт» и «Ультра». Чтобы скорректировать рекламный бюджет, коммерческий департамент хочет понять, какой тариф приносит больше денег.\n",
    "Необходимо сделать предварительный анализ тарифов на небольшой выборке клиентов. В нашем распоряжении данные 500 пользователей «Мегалайна»: кто они, откуда, каким тарифом пользуются, сколько звонков и сообщений каждый отправил за 2018 год. Нужно проанализировать поведение клиентов и сделать вывод — какой тариф лучше.\n"
   ]
  },
  {
   "cell_type": "markdown",
   "metadata": {},
   "source": [
    "## Изучение данных из файла"
   ]
  },
  {
   "cell_type": "code",
   "execution_count": 1,
   "metadata": {},
   "outputs": [
    {
     "data": {
      "text/html": [
       "<div>\n",
       "<style scoped>\n",
       "    .dataframe tbody tr th:only-of-type {\n",
       "        vertical-align: middle;\n",
       "    }\n",
       "\n",
       "    .dataframe tbody tr th {\n",
       "        vertical-align: top;\n",
       "    }\n",
       "\n",
       "    .dataframe thead th {\n",
       "        text-align: right;\n",
       "    }\n",
       "</style>\n",
       "<table border=\"1\" class=\"dataframe\">\n",
       "  <thead>\n",
       "    <tr style=\"text-align: right;\">\n",
       "      <th></th>\n",
       "      <th>id</th>\n",
       "      <th>call_date</th>\n",
       "      <th>duration</th>\n",
       "      <th>user_id</th>\n",
       "    </tr>\n",
       "  </thead>\n",
       "  <tbody>\n",
       "    <tr>\n",
       "      <th>0</th>\n",
       "      <td>1000_0</td>\n",
       "      <td>2018-07-25</td>\n",
       "      <td>0.00</td>\n",
       "      <td>1000</td>\n",
       "    </tr>\n",
       "    <tr>\n",
       "      <th>1</th>\n",
       "      <td>1000_1</td>\n",
       "      <td>2018-08-17</td>\n",
       "      <td>0.00</td>\n",
       "      <td>1000</td>\n",
       "    </tr>\n",
       "    <tr>\n",
       "      <th>2</th>\n",
       "      <td>1000_2</td>\n",
       "      <td>2018-06-11</td>\n",
       "      <td>2.85</td>\n",
       "      <td>1000</td>\n",
       "    </tr>\n",
       "    <tr>\n",
       "      <th>3</th>\n",
       "      <td>1000_3</td>\n",
       "      <td>2018-09-21</td>\n",
       "      <td>13.80</td>\n",
       "      <td>1000</td>\n",
       "    </tr>\n",
       "    <tr>\n",
       "      <th>4</th>\n",
       "      <td>1000_4</td>\n",
       "      <td>2018-12-15</td>\n",
       "      <td>5.18</td>\n",
       "      <td>1000</td>\n",
       "    </tr>\n",
       "    <tr>\n",
       "      <th>5</th>\n",
       "      <td>1000_5</td>\n",
       "      <td>2018-11-02</td>\n",
       "      <td>0.00</td>\n",
       "      <td>1000</td>\n",
       "    </tr>\n",
       "    <tr>\n",
       "      <th>6</th>\n",
       "      <td>1000_6</td>\n",
       "      <td>2018-10-18</td>\n",
       "      <td>0.00</td>\n",
       "      <td>1000</td>\n",
       "    </tr>\n",
       "    <tr>\n",
       "      <th>7</th>\n",
       "      <td>1000_7</td>\n",
       "      <td>2018-08-22</td>\n",
       "      <td>18.31</td>\n",
       "      <td>1000</td>\n",
       "    </tr>\n",
       "    <tr>\n",
       "      <th>8</th>\n",
       "      <td>1000_8</td>\n",
       "      <td>2018-09-15</td>\n",
       "      <td>18.44</td>\n",
       "      <td>1000</td>\n",
       "    </tr>\n",
       "    <tr>\n",
       "      <th>9</th>\n",
       "      <td>1000_9</td>\n",
       "      <td>2018-08-15</td>\n",
       "      <td>0.00</td>\n",
       "      <td>1000</td>\n",
       "    </tr>\n",
       "  </tbody>\n",
       "</table>\n",
       "</div>"
      ],
      "text/plain": [
       "       id   call_date  duration  user_id\n",
       "0  1000_0  2018-07-25      0.00     1000\n",
       "1  1000_1  2018-08-17      0.00     1000\n",
       "2  1000_2  2018-06-11      2.85     1000\n",
       "3  1000_3  2018-09-21     13.80     1000\n",
       "4  1000_4  2018-12-15      5.18     1000\n",
       "5  1000_5  2018-11-02      0.00     1000\n",
       "6  1000_6  2018-10-18      0.00     1000\n",
       "7  1000_7  2018-08-22     18.31     1000\n",
       "8  1000_8  2018-09-15     18.44     1000\n",
       "9  1000_9  2018-08-15      0.00     1000"
      ]
     },
     "metadata": {},
     "output_type": "display_data"
    },
    {
     "name": "stdout",
     "output_type": "stream",
     "text": [
      "<class 'pandas.core.frame.DataFrame'>\n",
      "RangeIndex: 202607 entries, 0 to 202606\n",
      "Data columns (total 4 columns):\n",
      " #   Column     Non-Null Count   Dtype  \n",
      "---  ------     --------------   -----  \n",
      " 0   id         202607 non-null  object \n",
      " 1   call_date  202607 non-null  object \n",
      " 2   duration   202607 non-null  float64\n",
      " 3   user_id    202607 non-null  int64  \n",
      "dtypes: float64(1), int64(1), object(2)\n",
      "memory usage: 6.2+ MB\n"
     ]
    },
    {
     "data": {
      "text/plain": [
       "count    202607.000000\n",
       "mean          6.755887\n",
       "std           5.843365\n",
       "min           0.000000\n",
       "25%           1.300000\n",
       "50%           6.000000\n",
       "75%          10.700000\n",
       "max          38.000000\n",
       "Name: duration, dtype: float64"
      ]
     },
     "execution_count": 1,
     "metadata": {},
     "output_type": "execute_result"
    }
   ],
   "source": [
    "import pandas as pd\n",
    "import numpy as np\n",
    "import matplotlib.pyplot as plt \n",
    "from scipy import stats as st\n",
    "data_calls = pd.read_csv('/datasets/calls.csv')\n",
    "display(data_calls.head(10)) # получение таблицы\n",
    "data_calls.info() # получение общей информации о данных в таблице\n",
    "data_calls['call_date'].describe()\n",
    "data_calls['duration'].describe()"
   ]
  },
  {
   "cell_type": "markdown",
   "metadata": {},
   "source": [
    "Открыв первый датасет видим 4 колонки и 202607 строк. В колонках нет пропусков, присутствуют данные типа float64(1), int64(1), object(2). В датасете предствалены данные по звонкам (дата и длительностть), идентификатор пользователя и уникальный номер звонка (id).\n",
    "Также посмотрели на данные столбца call_date, из него видим, что данные представлены за год.\n",
    "Изучили данные по длительности звонков. Есть нулевые значения, но мы знаем, что это не ошибка: нулями обозначены пропущенные звонки, поэтому их не нужно удалять."
   ]
  },
  {
   "cell_type": "code",
   "execution_count": 2,
   "metadata": {},
   "outputs": [
    {
     "data": {
      "text/html": [
       "<div>\n",
       "<style scoped>\n",
       "    .dataframe tbody tr th:only-of-type {\n",
       "        vertical-align: middle;\n",
       "    }\n",
       "\n",
       "    .dataframe tbody tr th {\n",
       "        vertical-align: top;\n",
       "    }\n",
       "\n",
       "    .dataframe thead th {\n",
       "        text-align: right;\n",
       "    }\n",
       "</style>\n",
       "<table border=\"1\" class=\"dataframe\">\n",
       "  <thead>\n",
       "    <tr style=\"text-align: right;\">\n",
       "      <th></th>\n",
       "      <th>Unnamed: 0</th>\n",
       "      <th>id</th>\n",
       "      <th>mb_used</th>\n",
       "      <th>session_date</th>\n",
       "      <th>user_id</th>\n",
       "    </tr>\n",
       "  </thead>\n",
       "  <tbody>\n",
       "    <tr>\n",
       "      <th>0</th>\n",
       "      <td>0</td>\n",
       "      <td>1000_0</td>\n",
       "      <td>112.95</td>\n",
       "      <td>2018-11-25</td>\n",
       "      <td>1000</td>\n",
       "    </tr>\n",
       "    <tr>\n",
       "      <th>1</th>\n",
       "      <td>1</td>\n",
       "      <td>1000_1</td>\n",
       "      <td>1052.81</td>\n",
       "      <td>2018-09-07</td>\n",
       "      <td>1000</td>\n",
       "    </tr>\n",
       "    <tr>\n",
       "      <th>2</th>\n",
       "      <td>2</td>\n",
       "      <td>1000_2</td>\n",
       "      <td>1197.26</td>\n",
       "      <td>2018-06-25</td>\n",
       "      <td>1000</td>\n",
       "    </tr>\n",
       "    <tr>\n",
       "      <th>3</th>\n",
       "      <td>3</td>\n",
       "      <td>1000_3</td>\n",
       "      <td>550.27</td>\n",
       "      <td>2018-08-22</td>\n",
       "      <td>1000</td>\n",
       "    </tr>\n",
       "    <tr>\n",
       "      <th>4</th>\n",
       "      <td>4</td>\n",
       "      <td>1000_4</td>\n",
       "      <td>302.56</td>\n",
       "      <td>2018-09-24</td>\n",
       "      <td>1000</td>\n",
       "    </tr>\n",
       "    <tr>\n",
       "      <th>5</th>\n",
       "      <td>5</td>\n",
       "      <td>1000_5</td>\n",
       "      <td>399.97</td>\n",
       "      <td>2018-10-02</td>\n",
       "      <td>1000</td>\n",
       "    </tr>\n",
       "    <tr>\n",
       "      <th>6</th>\n",
       "      <td>6</td>\n",
       "      <td>1000_6</td>\n",
       "      <td>540.08</td>\n",
       "      <td>2018-09-07</td>\n",
       "      <td>1000</td>\n",
       "    </tr>\n",
       "    <tr>\n",
       "      <th>7</th>\n",
       "      <td>7</td>\n",
       "      <td>1000_7</td>\n",
       "      <td>415.70</td>\n",
       "      <td>2018-07-11</td>\n",
       "      <td>1000</td>\n",
       "    </tr>\n",
       "    <tr>\n",
       "      <th>8</th>\n",
       "      <td>8</td>\n",
       "      <td>1000_8</td>\n",
       "      <td>505.40</td>\n",
       "      <td>2018-10-08</td>\n",
       "      <td>1000</td>\n",
       "    </tr>\n",
       "    <tr>\n",
       "      <th>9</th>\n",
       "      <td>9</td>\n",
       "      <td>1000_9</td>\n",
       "      <td>345.54</td>\n",
       "      <td>2018-09-03</td>\n",
       "      <td>1000</td>\n",
       "    </tr>\n",
       "  </tbody>\n",
       "</table>\n",
       "</div>"
      ],
      "text/plain": [
       "   Unnamed: 0      id  mb_used session_date  user_id\n",
       "0           0  1000_0   112.95   2018-11-25     1000\n",
       "1           1  1000_1  1052.81   2018-09-07     1000\n",
       "2           2  1000_2  1197.26   2018-06-25     1000\n",
       "3           3  1000_3   550.27   2018-08-22     1000\n",
       "4           4  1000_4   302.56   2018-09-24     1000\n",
       "5           5  1000_5   399.97   2018-10-02     1000\n",
       "6           6  1000_6   540.08   2018-09-07     1000\n",
       "7           7  1000_7   415.70   2018-07-11     1000\n",
       "8           8  1000_8   505.40   2018-10-08     1000\n",
       "9           9  1000_9   345.54   2018-09-03     1000"
      ]
     },
     "metadata": {},
     "output_type": "display_data"
    },
    {
     "name": "stdout",
     "output_type": "stream",
     "text": [
      "<class 'pandas.core.frame.DataFrame'>\n",
      "RangeIndex: 149396 entries, 0 to 149395\n",
      "Data columns (total 5 columns):\n",
      " #   Column        Non-Null Count   Dtype  \n",
      "---  ------        --------------   -----  \n",
      " 0   Unnamed: 0    149396 non-null  int64  \n",
      " 1   id            149396 non-null  object \n",
      " 2   mb_used       149396 non-null  float64\n",
      " 3   session_date  149396 non-null  object \n",
      " 4   user_id       149396 non-null  int64  \n",
      "dtypes: float64(1), int64(2), object(2)\n",
      "memory usage: 5.7+ MB\n"
     ]
    },
    {
     "data": {
      "text/plain": [
       "count    149396.000000\n",
       "mean        370.192426\n",
       "std         278.300951\n",
       "min           0.000000\n",
       "25%         138.187500\n",
       "50%         348.015000\n",
       "75%         559.552500\n",
       "max        1724.830000\n",
       "Name: mb_used, dtype: float64"
      ]
     },
     "execution_count": 2,
     "metadata": {},
     "output_type": "execute_result"
    }
   ],
   "source": [
    "data_internet = pd.read_csv('/datasets/internet.csv')\n",
    "display(data_internet.head(10)) # получение таблицы\n",
    "data_internet.info() # получение общей информации о данных в таблице\n",
    "data_internet['mb_used'].describe()"
   ]
  },
  {
   "cell_type": "markdown",
   "metadata": {},
   "source": [
    "Во втором датасете предствалены данные по пользованию интернетом: 5 колонок, 149396 столбцов, пропусков нет, присутствуют данные типа float64, int64, object. В этом датасета id обозначет уникалый номер сессии.\n",
    "В mb_used видим, что минимальное значение 0. Это можно принять за ошибку данных, но, возможно, это те пользователи, которые не пользуются интернетом."
   ]
  },
  {
   "cell_type": "code",
   "execution_count": 3,
   "metadata": {},
   "outputs": [
    {
     "data": {
      "text/html": [
       "<div>\n",
       "<style scoped>\n",
       "    .dataframe tbody tr th:only-of-type {\n",
       "        vertical-align: middle;\n",
       "    }\n",
       "\n",
       "    .dataframe tbody tr th {\n",
       "        vertical-align: top;\n",
       "    }\n",
       "\n",
       "    .dataframe thead th {\n",
       "        text-align: right;\n",
       "    }\n",
       "</style>\n",
       "<table border=\"1\" class=\"dataframe\">\n",
       "  <thead>\n",
       "    <tr style=\"text-align: right;\">\n",
       "      <th></th>\n",
       "      <th>id</th>\n",
       "      <th>message_date</th>\n",
       "      <th>user_id</th>\n",
       "    </tr>\n",
       "  </thead>\n",
       "  <tbody>\n",
       "    <tr>\n",
       "      <th>0</th>\n",
       "      <td>1000_0</td>\n",
       "      <td>2018-06-27</td>\n",
       "      <td>1000</td>\n",
       "    </tr>\n",
       "    <tr>\n",
       "      <th>1</th>\n",
       "      <td>1000_1</td>\n",
       "      <td>2018-10-08</td>\n",
       "      <td>1000</td>\n",
       "    </tr>\n",
       "    <tr>\n",
       "      <th>2</th>\n",
       "      <td>1000_2</td>\n",
       "      <td>2018-08-04</td>\n",
       "      <td>1000</td>\n",
       "    </tr>\n",
       "    <tr>\n",
       "      <th>3</th>\n",
       "      <td>1000_3</td>\n",
       "      <td>2018-06-16</td>\n",
       "      <td>1000</td>\n",
       "    </tr>\n",
       "    <tr>\n",
       "      <th>4</th>\n",
       "      <td>1000_4</td>\n",
       "      <td>2018-12-05</td>\n",
       "      <td>1000</td>\n",
       "    </tr>\n",
       "    <tr>\n",
       "      <th>5</th>\n",
       "      <td>1000_5</td>\n",
       "      <td>2018-06-20</td>\n",
       "      <td>1000</td>\n",
       "    </tr>\n",
       "    <tr>\n",
       "      <th>6</th>\n",
       "      <td>1000_6</td>\n",
       "      <td>2018-11-19</td>\n",
       "      <td>1000</td>\n",
       "    </tr>\n",
       "    <tr>\n",
       "      <th>7</th>\n",
       "      <td>1000_7</td>\n",
       "      <td>2018-10-29</td>\n",
       "      <td>1000</td>\n",
       "    </tr>\n",
       "    <tr>\n",
       "      <th>8</th>\n",
       "      <td>1000_8</td>\n",
       "      <td>2018-06-25</td>\n",
       "      <td>1000</td>\n",
       "    </tr>\n",
       "    <tr>\n",
       "      <th>9</th>\n",
       "      <td>1000_9</td>\n",
       "      <td>2018-12-18</td>\n",
       "      <td>1000</td>\n",
       "    </tr>\n",
       "  </tbody>\n",
       "</table>\n",
       "</div>"
      ],
      "text/plain": [
       "       id message_date  user_id\n",
       "0  1000_0   2018-06-27     1000\n",
       "1  1000_1   2018-10-08     1000\n",
       "2  1000_2   2018-08-04     1000\n",
       "3  1000_3   2018-06-16     1000\n",
       "4  1000_4   2018-12-05     1000\n",
       "5  1000_5   2018-06-20     1000\n",
       "6  1000_6   2018-11-19     1000\n",
       "7  1000_7   2018-10-29     1000\n",
       "8  1000_8   2018-06-25     1000\n",
       "9  1000_9   2018-12-18     1000"
      ]
     },
     "metadata": {},
     "output_type": "display_data"
    },
    {
     "name": "stdout",
     "output_type": "stream",
     "text": [
      "<class 'pandas.core.frame.DataFrame'>\n",
      "RangeIndex: 123036 entries, 0 to 123035\n",
      "Data columns (total 3 columns):\n",
      " #   Column        Non-Null Count   Dtype \n",
      "---  ------        --------------   ----- \n",
      " 0   id            123036 non-null  object\n",
      " 1   message_date  123036 non-null  object\n",
      " 2   user_id       123036 non-null  int64 \n",
      "dtypes: int64(1), object(2)\n",
      "memory usage: 2.8+ MB\n"
     ]
    }
   ],
   "source": [
    "data_messages = pd.read_csv('/datasets/messages.csv')\n",
    "display(data_messages.head(10)) # получение таблицы\n",
    "data_messages.info() # получение общей информации о данных в таблице"
   ]
  },
  {
   "cell_type": "markdown",
   "metadata": {},
   "source": [
    "Во третьем датасете предствалены данные по пользованию сообщениями: 3 колонки, 123036 столбцов, пропусков нет, присутствуют данные типа int64, object. В этом датасета id обозначет уникалый номер сообщения."
   ]
  },
  {
   "cell_type": "code",
   "execution_count": 4,
   "metadata": {},
   "outputs": [
    {
     "data": {
      "text/html": [
       "<div>\n",
       "<style scoped>\n",
       "    .dataframe tbody tr th:only-of-type {\n",
       "        vertical-align: middle;\n",
       "    }\n",
       "\n",
       "    .dataframe tbody tr th {\n",
       "        vertical-align: top;\n",
       "    }\n",
       "\n",
       "    .dataframe thead th {\n",
       "        text-align: right;\n",
       "    }\n",
       "</style>\n",
       "<table border=\"1\" class=\"dataframe\">\n",
       "  <thead>\n",
       "    <tr style=\"text-align: right;\">\n",
       "      <th></th>\n",
       "      <th>messages_included</th>\n",
       "      <th>mb_per_month_included</th>\n",
       "      <th>minutes_included</th>\n",
       "      <th>rub_monthly_fee</th>\n",
       "      <th>rub_per_gb</th>\n",
       "      <th>rub_per_message</th>\n",
       "      <th>rub_per_minute</th>\n",
       "      <th>tariff_name</th>\n",
       "    </tr>\n",
       "  </thead>\n",
       "  <tbody>\n",
       "    <tr>\n",
       "      <th>0</th>\n",
       "      <td>50</td>\n",
       "      <td>15360</td>\n",
       "      <td>500</td>\n",
       "      <td>550</td>\n",
       "      <td>200</td>\n",
       "      <td>3</td>\n",
       "      <td>3</td>\n",
       "      <td>smart</td>\n",
       "    </tr>\n",
       "    <tr>\n",
       "      <th>1</th>\n",
       "      <td>1000</td>\n",
       "      <td>30720</td>\n",
       "      <td>3000</td>\n",
       "      <td>1950</td>\n",
       "      <td>150</td>\n",
       "      <td>1</td>\n",
       "      <td>1</td>\n",
       "      <td>ultra</td>\n",
       "    </tr>\n",
       "  </tbody>\n",
       "</table>\n",
       "</div>"
      ],
      "text/plain": [
       "   messages_included  mb_per_month_included  minutes_included  \\\n",
       "0                 50                  15360               500   \n",
       "1               1000                  30720              3000   \n",
       "\n",
       "   rub_monthly_fee  rub_per_gb  rub_per_message  rub_per_minute tariff_name  \n",
       "0              550         200                3               3       smart  \n",
       "1             1950         150                1               1       ultra  "
      ]
     },
     "metadata": {},
     "output_type": "display_data"
    },
    {
     "name": "stdout",
     "output_type": "stream",
     "text": [
      "<class 'pandas.core.frame.DataFrame'>\n",
      "RangeIndex: 2 entries, 0 to 1\n",
      "Data columns (total 8 columns):\n",
      " #   Column                 Non-Null Count  Dtype \n",
      "---  ------                 --------------  ----- \n",
      " 0   messages_included      2 non-null      int64 \n",
      " 1   mb_per_month_included  2 non-null      int64 \n",
      " 2   minutes_included       2 non-null      int64 \n",
      " 3   rub_monthly_fee        2 non-null      int64 \n",
      " 4   rub_per_gb             2 non-null      int64 \n",
      " 5   rub_per_message        2 non-null      int64 \n",
      " 6   rub_per_minute         2 non-null      int64 \n",
      " 7   tariff_name            2 non-null      object\n",
      "dtypes: int64(7), object(1)\n",
      "memory usage: 256.0+ bytes\n"
     ]
    }
   ],
   "source": [
    "data_tariffs = pd.read_csv('/datasets/tariffs.csv')\n",
    "display(data_tariffs.head(10)) # получение таблицы\n",
    "data_tariffs.info() # получение общей информации о данных в таблице"
   ]
  },
  {
   "cell_type": "markdown",
   "metadata": {},
   "source": [
    "В этом датасете присутсвтвуют данные о тарифах, представлены в 2 строках и 8 колонках, тип данных int64, object, пропусков нет."
   ]
  },
  {
   "cell_type": "code",
   "execution_count": 5,
   "metadata": {},
   "outputs": [
    {
     "data": {
      "text/html": [
       "<div>\n",
       "<style scoped>\n",
       "    .dataframe tbody tr th:only-of-type {\n",
       "        vertical-align: middle;\n",
       "    }\n",
       "\n",
       "    .dataframe tbody tr th {\n",
       "        vertical-align: top;\n",
       "    }\n",
       "\n",
       "    .dataframe thead th {\n",
       "        text-align: right;\n",
       "    }\n",
       "</style>\n",
       "<table border=\"1\" class=\"dataframe\">\n",
       "  <thead>\n",
       "    <tr style=\"text-align: right;\">\n",
       "      <th></th>\n",
       "      <th>user_id</th>\n",
       "      <th>age</th>\n",
       "      <th>churn_date</th>\n",
       "      <th>city</th>\n",
       "      <th>first_name</th>\n",
       "      <th>last_name</th>\n",
       "      <th>reg_date</th>\n",
       "      <th>tariff</th>\n",
       "    </tr>\n",
       "  </thead>\n",
       "  <tbody>\n",
       "    <tr>\n",
       "      <th>0</th>\n",
       "      <td>1000</td>\n",
       "      <td>52</td>\n",
       "      <td>NaN</td>\n",
       "      <td>Краснодар</td>\n",
       "      <td>Рафаил</td>\n",
       "      <td>Верещагин</td>\n",
       "      <td>2018-05-25</td>\n",
       "      <td>ultra</td>\n",
       "    </tr>\n",
       "    <tr>\n",
       "      <th>1</th>\n",
       "      <td>1001</td>\n",
       "      <td>41</td>\n",
       "      <td>NaN</td>\n",
       "      <td>Москва</td>\n",
       "      <td>Иван</td>\n",
       "      <td>Ежов</td>\n",
       "      <td>2018-11-01</td>\n",
       "      <td>smart</td>\n",
       "    </tr>\n",
       "    <tr>\n",
       "      <th>2</th>\n",
       "      <td>1002</td>\n",
       "      <td>59</td>\n",
       "      <td>NaN</td>\n",
       "      <td>Стерлитамак</td>\n",
       "      <td>Евгений</td>\n",
       "      <td>Абрамович</td>\n",
       "      <td>2018-06-17</td>\n",
       "      <td>smart</td>\n",
       "    </tr>\n",
       "    <tr>\n",
       "      <th>3</th>\n",
       "      <td>1003</td>\n",
       "      <td>23</td>\n",
       "      <td>NaN</td>\n",
       "      <td>Москва</td>\n",
       "      <td>Белла</td>\n",
       "      <td>Белякова</td>\n",
       "      <td>2018-08-17</td>\n",
       "      <td>ultra</td>\n",
       "    </tr>\n",
       "    <tr>\n",
       "      <th>4</th>\n",
       "      <td>1004</td>\n",
       "      <td>68</td>\n",
       "      <td>NaN</td>\n",
       "      <td>Новокузнецк</td>\n",
       "      <td>Татьяна</td>\n",
       "      <td>Авдеенко</td>\n",
       "      <td>2018-05-14</td>\n",
       "      <td>ultra</td>\n",
       "    </tr>\n",
       "    <tr>\n",
       "      <th>5</th>\n",
       "      <td>1005</td>\n",
       "      <td>67</td>\n",
       "      <td>NaN</td>\n",
       "      <td>Набережные Челны</td>\n",
       "      <td>Афанасий</td>\n",
       "      <td>Горлов</td>\n",
       "      <td>2018-01-25</td>\n",
       "      <td>smart</td>\n",
       "    </tr>\n",
       "    <tr>\n",
       "      <th>6</th>\n",
       "      <td>1006</td>\n",
       "      <td>21</td>\n",
       "      <td>NaN</td>\n",
       "      <td>Ульяновск</td>\n",
       "      <td>Леонид</td>\n",
       "      <td>Ермолаев</td>\n",
       "      <td>2018-02-26</td>\n",
       "      <td>smart</td>\n",
       "    </tr>\n",
       "    <tr>\n",
       "      <th>7</th>\n",
       "      <td>1007</td>\n",
       "      <td>65</td>\n",
       "      <td>NaN</td>\n",
       "      <td>Москва</td>\n",
       "      <td>Юна</td>\n",
       "      <td>Березина</td>\n",
       "      <td>2018-04-19</td>\n",
       "      <td>smart</td>\n",
       "    </tr>\n",
       "    <tr>\n",
       "      <th>8</th>\n",
       "      <td>1008</td>\n",
       "      <td>63</td>\n",
       "      <td>NaN</td>\n",
       "      <td>Челябинск</td>\n",
       "      <td>Рустэм</td>\n",
       "      <td>Пономарёв</td>\n",
       "      <td>2018-12-19</td>\n",
       "      <td>smart</td>\n",
       "    </tr>\n",
       "    <tr>\n",
       "      <th>9</th>\n",
       "      <td>1009</td>\n",
       "      <td>24</td>\n",
       "      <td>NaN</td>\n",
       "      <td>Пермь</td>\n",
       "      <td>Василиса</td>\n",
       "      <td>Блинова</td>\n",
       "      <td>2018-03-22</td>\n",
       "      <td>smart</td>\n",
       "    </tr>\n",
       "  </tbody>\n",
       "</table>\n",
       "</div>"
      ],
      "text/plain": [
       "   user_id  age churn_date              city first_name  last_name  \\\n",
       "0     1000   52        NaN         Краснодар     Рафаил  Верещагин   \n",
       "1     1001   41        NaN            Москва       Иван       Ежов   \n",
       "2     1002   59        NaN       Стерлитамак    Евгений  Абрамович   \n",
       "3     1003   23        NaN            Москва      Белла   Белякова   \n",
       "4     1004   68        NaN       Новокузнецк    Татьяна   Авдеенко   \n",
       "5     1005   67        NaN  Набережные Челны   Афанасий     Горлов   \n",
       "6     1006   21        NaN         Ульяновск     Леонид   Ермолаев   \n",
       "7     1007   65        NaN            Москва        Юна   Березина   \n",
       "8     1008   63        NaN         Челябинск     Рустэм  Пономарёв   \n",
       "9     1009   24        NaN             Пермь   Василиса    Блинова   \n",
       "\n",
       "     reg_date tariff  \n",
       "0  2018-05-25  ultra  \n",
       "1  2018-11-01  smart  \n",
       "2  2018-06-17  smart  \n",
       "3  2018-08-17  ultra  \n",
       "4  2018-05-14  ultra  \n",
       "5  2018-01-25  smart  \n",
       "6  2018-02-26  smart  \n",
       "7  2018-04-19  smart  \n",
       "8  2018-12-19  smart  \n",
       "9  2018-03-22  smart  "
      ]
     },
     "metadata": {},
     "output_type": "display_data"
    },
    {
     "name": "stdout",
     "output_type": "stream",
     "text": [
      "<class 'pandas.core.frame.DataFrame'>\n",
      "RangeIndex: 500 entries, 0 to 499\n",
      "Data columns (total 8 columns):\n",
      " #   Column      Non-Null Count  Dtype \n",
      "---  ------      --------------  ----- \n",
      " 0   user_id     500 non-null    int64 \n",
      " 1   age         500 non-null    int64 \n",
      " 2   churn_date  38 non-null     object\n",
      " 3   city        500 non-null    object\n",
      " 4   first_name  500 non-null    object\n",
      " 5   last_name   500 non-null    object\n",
      " 6   reg_date    500 non-null    object\n",
      " 7   tariff      500 non-null    object\n",
      "dtypes: int64(2), object(6)\n",
      "memory usage: 31.4+ KB\n"
     ]
    },
    {
     "data": {
      "text/plain": [
       "53    14\n",
       "42    14\n",
       "63    13\n",
       "64    13\n",
       "71    13\n",
       "21    12\n",
       "40    12\n",
       "73    12\n",
       "29    11\n",
       "39    11\n",
       "37    11\n",
       "47    11\n",
       "26    11\n",
       "41    10\n",
       "45    10\n",
       "58    10\n",
       "36    10\n",
       "70    10\n",
       "52    10\n",
       "65     9\n",
       "66     9\n",
       "56     9\n",
       "68     9\n",
       "20     9\n",
       "51     9\n",
       "50     9\n",
       "48     9\n",
       "30     9\n",
       "19     9\n",
       "24     9\n",
       "28     9\n",
       "27     9\n",
       "23     9\n",
       "62     8\n",
       "60     8\n",
       "55     8\n",
       "69     8\n",
       "44     8\n",
       "25     7\n",
       "31     7\n",
       "35     7\n",
       "67     7\n",
       "74     7\n",
       "43     7\n",
       "32     7\n",
       "46     7\n",
       "18     6\n",
       "59     6\n",
       "54     6\n",
       "75     6\n",
       "38     5\n",
       "34     5\n",
       "72     5\n",
       "33     5\n",
       "22     5\n",
       "57     4\n",
       "49     4\n",
       "61     3\n",
       "Name: age, dtype: int64"
      ]
     },
     "execution_count": 5,
     "metadata": {},
     "output_type": "execute_result"
    }
   ],
   "source": [
    "data_users = pd.read_csv('/datasets/users.csv')\n",
    "display(data_users.head(10)) # получение таблицы\n",
    "data_users.info() # получение общей информации о данных в таблице\n",
    "data_users['city'].unique()\n",
    "data_users['age'].value_counts()"
   ]
  },
  {
   "cell_type": "markdown",
   "metadata": {},
   "source": [
    "В этом датасете представлены данные о пользователях. Видим 500 строк и 8 колонок. Присутствуют пропуски в колонке churn_date \n",
    "- это дата прекращения пользования тарифом (если значение пропущено, то тариф ещё действовал на момент выгрузки данных).\n",
    "Посмотрели столбцы city и age - никаких аномалий не обнаружили.\n"
   ]
  },
  {
   "cell_type": "markdown",
   "metadata": {},
   "source": [
    "### Вывод"
   ]
  },
  {
   "cell_type": "markdown",
   "metadata": {},
   "source": [
    "Открыв данные из 5 источников, мы имеем 5 таблиц с разным количеством строк. 4 таблицы имеют общую колонку - это user_id. В остальных видим, что в столбцах с одинаковым названем содержатся разные данные. 1 датасет предствадяет собой информацию о тарифах. "
   ]
  },
  {
   "cell_type": "markdown",
   "metadata": {},
   "source": [
    "## Подготовка данных"
   ]
  },
  {
   "cell_type": "code",
   "execution_count": 6,
   "metadata": {},
   "outputs": [],
   "source": [
    "# приводим данные к нужному типу\n",
    "# для начала изменим данных в data_calls['call_date'] на datetime\n",
    "data_calls['call_date'] = pd.to_datetime(data_calls['call_date'], format='%Y-%m-%d')\n",
    "# выделим месяц в отдельную категорию и поместим эти данные в отдельный столбец, так как это потребуется для дальнейшего анализа\n",
    "data_calls['month'] = data_calls['call_date'].dt.month\n",
    "# округлим минуты в duration в большую сторону\n",
    "data_calls['duration'] = data_calls['duration'].apply(np.ceil)"
   ]
  },
  {
   "cell_type": "code",
   "execution_count": 7,
   "metadata": {},
   "outputs": [],
   "source": [
    "# в таблице data_internet изменим данных в data_internet['session_date'] на datetime и тоже выделим столбец month\n",
    "data_internet['session_date'] = pd.to_datetime(data_internet['session_date'], format='%Y-%m-%d')\n",
    "data_internet['month'] = data_internet['session_date'].dt.month\n"
   ]
  },
  {
   "cell_type": "code",
   "execution_count": 8,
   "metadata": {},
   "outputs": [],
   "source": [
    "# в таблице data_messages изменим данных в data_messages['session_date'] на datetime и тоже выделим столбец month\n",
    "data_messages['message_date'] = pd.to_datetime(data_messages['message_date'], format='%Y-%m-%d')\n",
    "data_messages['month'] = data_messages['message_date'].dt.month\n"
   ]
  },
  {
   "cell_type": "code",
   "execution_count": 9,
   "metadata": {},
   "outputs": [],
   "source": [
    "# в таблице data_users изменим данных в data_users['reg_date'] на datetime \n",
    "data_users['reg_date'] = pd.to_datetime(data_users['reg_date'], format='%Y-%m-%d')\n"
   ]
  },
  {
   "cell_type": "markdown",
   "metadata": {},
   "source": [
    "В таблице data_calls видим значения 0, однако их не будем трогать, так как нулями обозначены пропущенные звонки\n"
   ]
  },
  {
   "cell_type": "code",
   "execution_count": 10,
   "metadata": {},
   "outputs": [
    {
     "data": {
      "text/plain": [
       "0.00      19598\n",
       "335.91        9\n",
       "447.30        9\n",
       "197.56        9\n",
       "199.11        8\n",
       "          ...  \n",
       "182.69        1\n",
       "726.03        1\n",
       "315.12        1\n",
       "898.99        1\n",
       "677.66        1\n",
       "Name: mb_used, Length: 70003, dtype: int64"
      ]
     },
     "execution_count": 10,
     "metadata": {},
     "output_type": "execute_result"
    }
   ],
   "source": [
    "# в таблице data_internet также видим значения 0\n",
    "# возможно,это пользователи, которые не пользуются мобильным интернетом, но он включен в тариф\n",
    "data_internet['mb_used'].describe()\n",
    "data_internet['mb_used'].value_counts()"
   ]
  },
  {
   "cell_type": "markdown",
   "metadata": {},
   "source": [
    "### Далее сделаем таблицы  и расчитаем необходимые показатели"
   ]
  },
  {
   "cell_type": "code",
   "execution_count": 11,
   "metadata": {},
   "outputs": [
    {
     "data": {
      "text/html": [
       "<div>\n",
       "<style scoped>\n",
       "    .dataframe tbody tr th:only-of-type {\n",
       "        vertical-align: middle;\n",
       "    }\n",
       "\n",
       "    .dataframe tbody tr th {\n",
       "        vertical-align: top;\n",
       "    }\n",
       "\n",
       "    .dataframe thead th {\n",
       "        text-align: right;\n",
       "    }\n",
       "</style>\n",
       "<table border=\"1\" class=\"dataframe\">\n",
       "  <thead>\n",
       "    <tr style=\"text-align: right;\">\n",
       "      <th></th>\n",
       "      <th></th>\n",
       "      <th>duration</th>\n",
       "    </tr>\n",
       "    <tr>\n",
       "      <th>user_id</th>\n",
       "      <th>month</th>\n",
       "      <th></th>\n",
       "    </tr>\n",
       "  </thead>\n",
       "  <tbody>\n",
       "    <tr>\n",
       "      <th rowspan=\"5\" valign=\"top\">1000</th>\n",
       "      <th>5</th>\n",
       "      <td>159.0</td>\n",
       "    </tr>\n",
       "    <tr>\n",
       "      <th>6</th>\n",
       "      <td>172.0</td>\n",
       "    </tr>\n",
       "    <tr>\n",
       "      <th>7</th>\n",
       "      <td>340.0</td>\n",
       "    </tr>\n",
       "    <tr>\n",
       "      <th>8</th>\n",
       "      <td>408.0</td>\n",
       "    </tr>\n",
       "    <tr>\n",
       "      <th>9</th>\n",
       "      <td>466.0</td>\n",
       "    </tr>\n",
       "    <tr>\n",
       "      <th>...</th>\n",
       "      <th>...</th>\n",
       "      <td>...</td>\n",
       "    </tr>\n",
       "    <tr>\n",
       "      <th>1498</th>\n",
       "      <th>10</th>\n",
       "      <td>247.0</td>\n",
       "    </tr>\n",
       "    <tr>\n",
       "      <th rowspan=\"4\" valign=\"top\">1499</th>\n",
       "      <th>9</th>\n",
       "      <td>70.0</td>\n",
       "    </tr>\n",
       "    <tr>\n",
       "      <th>10</th>\n",
       "      <td>449.0</td>\n",
       "    </tr>\n",
       "    <tr>\n",
       "      <th>11</th>\n",
       "      <td>612.0</td>\n",
       "    </tr>\n",
       "    <tr>\n",
       "      <th>12</th>\n",
       "      <td>492.0</td>\n",
       "    </tr>\n",
       "  </tbody>\n",
       "</table>\n",
       "<p>3174 rows × 1 columns</p>\n",
       "</div>"
      ],
      "text/plain": [
       "               duration\n",
       "user_id month          \n",
       "1000    5         159.0\n",
       "        6         172.0\n",
       "        7         340.0\n",
       "        8         408.0\n",
       "        9         466.0\n",
       "...                 ...\n",
       "1498    10        247.0\n",
       "1499    9          70.0\n",
       "        10        449.0\n",
       "        11        612.0\n",
       "        12        492.0\n",
       "\n",
       "[3174 rows x 1 columns]"
      ]
     },
     "metadata": {},
     "output_type": "display_data"
    }
   ],
   "source": [
    "# посчитаем для каждого пользователя количество сделанных звонков и израсходованных минут разговора по месяцам\n",
    "calls_pivot = data_calls.pivot_table(index = ['user_id', 'month'], values='duration', aggfunc = 'sum')\n",
    "display(calls_pivot)"
   ]
  },
  {
   "cell_type": "code",
   "execution_count": 12,
   "metadata": {},
   "outputs": [
    {
     "data": {
      "text/html": [
       "<div>\n",
       "<style scoped>\n",
       "    .dataframe tbody tr th:only-of-type {\n",
       "        vertical-align: middle;\n",
       "    }\n",
       "\n",
       "    .dataframe tbody tr th {\n",
       "        vertical-align: top;\n",
       "    }\n",
       "\n",
       "    .dataframe thead th {\n",
       "        text-align: right;\n",
       "    }\n",
       "</style>\n",
       "<table border=\"1\" class=\"dataframe\">\n",
       "  <thead>\n",
       "    <tr style=\"text-align: right;\">\n",
       "      <th></th>\n",
       "      <th></th>\n",
       "      <th>total_messages</th>\n",
       "    </tr>\n",
       "    <tr>\n",
       "      <th>user_id</th>\n",
       "      <th>month</th>\n",
       "      <th></th>\n",
       "    </tr>\n",
       "  </thead>\n",
       "  <tbody>\n",
       "    <tr>\n",
       "      <th rowspan=\"5\" valign=\"top\">1000</th>\n",
       "      <th>5</th>\n",
       "      <td>22</td>\n",
       "    </tr>\n",
       "    <tr>\n",
       "      <th>6</th>\n",
       "      <td>60</td>\n",
       "    </tr>\n",
       "    <tr>\n",
       "      <th>7</th>\n",
       "      <td>75</td>\n",
       "    </tr>\n",
       "    <tr>\n",
       "      <th>8</th>\n",
       "      <td>81</td>\n",
       "    </tr>\n",
       "    <tr>\n",
       "      <th>9</th>\n",
       "      <td>57</td>\n",
       "    </tr>\n",
       "    <tr>\n",
       "      <th>...</th>\n",
       "      <th>...</th>\n",
       "      <td>...</td>\n",
       "    </tr>\n",
       "    <tr>\n",
       "      <th>1498</th>\n",
       "      <th>10</th>\n",
       "      <td>42</td>\n",
       "    </tr>\n",
       "    <tr>\n",
       "      <th rowspan=\"4\" valign=\"top\">1499</th>\n",
       "      <th>9</th>\n",
       "      <td>11</td>\n",
       "    </tr>\n",
       "    <tr>\n",
       "      <th>10</th>\n",
       "      <td>48</td>\n",
       "    </tr>\n",
       "    <tr>\n",
       "      <th>11</th>\n",
       "      <td>59</td>\n",
       "    </tr>\n",
       "    <tr>\n",
       "      <th>12</th>\n",
       "      <td>66</td>\n",
       "    </tr>\n",
       "  </tbody>\n",
       "</table>\n",
       "<p>2717 rows × 1 columns</p>\n",
       "</div>"
      ],
      "text/plain": [
       "               total_messages\n",
       "user_id month                \n",
       "1000    5                  22\n",
       "        6                  60\n",
       "        7                  75\n",
       "        8                  81\n",
       "        9                  57\n",
       "...                       ...\n",
       "1498    10                 42\n",
       "1499    9                  11\n",
       "        10                 48\n",
       "        11                 59\n",
       "        12                 66\n",
       "\n",
       "[2717 rows x 1 columns]"
      ]
     },
     "metadata": {},
     "output_type": "display_data"
    }
   ],
   "source": [
    "# посчитаем для каждого пользователя количество отправленных сообщений по месяцам\n",
    "messages_pivot = data_messages.pivot_table(index = ['user_id', 'month'], values='id', aggfunc = 'count')\n",
    "messages_pivot.columns = ['total_messages']\n",
    "display(messages_pivot)"
   ]
  },
  {
   "cell_type": "code",
   "execution_count": 13,
   "metadata": {},
   "outputs": [
    {
     "data": {
      "text/html": [
       "<div>\n",
       "<style scoped>\n",
       "    .dataframe tbody tr th:only-of-type {\n",
       "        vertical-align: middle;\n",
       "    }\n",
       "\n",
       "    .dataframe tbody tr th {\n",
       "        vertical-align: top;\n",
       "    }\n",
       "\n",
       "    .dataframe thead th {\n",
       "        text-align: right;\n",
       "    }\n",
       "</style>\n",
       "<table border=\"1\" class=\"dataframe\">\n",
       "  <thead>\n",
       "    <tr style=\"text-align: right;\">\n",
       "      <th></th>\n",
       "      <th></th>\n",
       "      <th>total_traffic_mb</th>\n",
       "      <th>total_traffic_gb</th>\n",
       "    </tr>\n",
       "    <tr>\n",
       "      <th>user_id</th>\n",
       "      <th>month</th>\n",
       "      <th></th>\n",
       "      <th></th>\n",
       "    </tr>\n",
       "  </thead>\n",
       "  <tbody>\n",
       "    <tr>\n",
       "      <th rowspan=\"5\" valign=\"top\">1000</th>\n",
       "      <th>5</th>\n",
       "      <td>2253.49</td>\n",
       "      <td>3.0</td>\n",
       "    </tr>\n",
       "    <tr>\n",
       "      <th>6</th>\n",
       "      <td>23233.77</td>\n",
       "      <td>23.0</td>\n",
       "    </tr>\n",
       "    <tr>\n",
       "      <th>7</th>\n",
       "      <td>14003.64</td>\n",
       "      <td>14.0</td>\n",
       "    </tr>\n",
       "    <tr>\n",
       "      <th>8</th>\n",
       "      <td>14055.93</td>\n",
       "      <td>14.0</td>\n",
       "    </tr>\n",
       "    <tr>\n",
       "      <th>9</th>\n",
       "      <td>14568.91</td>\n",
       "      <td>15.0</td>\n",
       "    </tr>\n",
       "    <tr>\n",
       "      <th>...</th>\n",
       "      <th>...</th>\n",
       "      <td>...</td>\n",
       "      <td>...</td>\n",
       "    </tr>\n",
       "    <tr>\n",
       "      <th>1498</th>\n",
       "      <th>10</th>\n",
       "      <td>20579.36</td>\n",
       "      <td>21.0</td>\n",
       "    </tr>\n",
       "    <tr>\n",
       "      <th rowspan=\"4\" valign=\"top\">1499</th>\n",
       "      <th>9</th>\n",
       "      <td>1845.75</td>\n",
       "      <td>2.0</td>\n",
       "    </tr>\n",
       "    <tr>\n",
       "      <th>10</th>\n",
       "      <td>17788.51</td>\n",
       "      <td>18.0</td>\n",
       "    </tr>\n",
       "    <tr>\n",
       "      <th>11</th>\n",
       "      <td>17963.31</td>\n",
       "      <td>18.0</td>\n",
       "    </tr>\n",
       "    <tr>\n",
       "      <th>12</th>\n",
       "      <td>13055.58</td>\n",
       "      <td>13.0</td>\n",
       "    </tr>\n",
       "  </tbody>\n",
       "</table>\n",
       "<p>3203 rows × 2 columns</p>\n",
       "</div>"
      ],
      "text/plain": [
       "               total_traffic_mb  total_traffic_gb\n",
       "user_id month                                    \n",
       "1000    5               2253.49               3.0\n",
       "        6              23233.77              23.0\n",
       "        7              14003.64              14.0\n",
       "        8              14055.93              14.0\n",
       "        9              14568.91              15.0\n",
       "...                         ...               ...\n",
       "1498    10             20579.36              21.0\n",
       "1499    9               1845.75               2.0\n",
       "        10             17788.51              18.0\n",
       "        11             17963.31              18.0\n",
       "        12             13055.58              13.0\n",
       "\n",
       "[3203 rows x 2 columns]"
      ]
     },
     "metadata": {},
     "output_type": "display_data"
    }
   ],
   "source": [
    "# посчитаем для каждого пользователя объем израсходованного интернет-трафика по месяцам с округлением в большую сторону\n",
    "internet_pivot = data_internet.pivot_table(index = ['user_id', 'month'], values='mb_used', aggfunc = 'sum')\n",
    "internet_pivot.columns = ['total_traffic_mb']\n",
    "internet_pivot['total_traffic_gb'] = (internet_pivot['total_traffic_mb'] / 1024).apply(np.ceil)\n",
    "display(internet_pivot)"
   ]
  },
  {
   "cell_type": "code",
   "execution_count": 14,
   "metadata": {},
   "outputs": [
    {
     "data": {
      "text/html": [
       "<div>\n",
       "<style scoped>\n",
       "    .dataframe tbody tr th:only-of-type {\n",
       "        vertical-align: middle;\n",
       "    }\n",
       "\n",
       "    .dataframe tbody tr th {\n",
       "        vertical-align: top;\n",
       "    }\n",
       "\n",
       "    .dataframe thead th {\n",
       "        text-align: right;\n",
       "    }\n",
       "</style>\n",
       "<table border=\"1\" class=\"dataframe\">\n",
       "  <thead>\n",
       "    <tr style=\"text-align: right;\">\n",
       "      <th></th>\n",
       "      <th>user_id</th>\n",
       "      <th>month</th>\n",
       "      <th>duration</th>\n",
       "      <th>total_messages</th>\n",
       "      <th>total_traffic_gb</th>\n",
       "    </tr>\n",
       "  </thead>\n",
       "  <tbody>\n",
       "    <tr>\n",
       "      <th>0</th>\n",
       "      <td>1000</td>\n",
       "      <td>5</td>\n",
       "      <td>159.0</td>\n",
       "      <td>22.0</td>\n",
       "      <td>3.0</td>\n",
       "    </tr>\n",
       "    <tr>\n",
       "      <th>1</th>\n",
       "      <td>1000</td>\n",
       "      <td>6</td>\n",
       "      <td>172.0</td>\n",
       "      <td>60.0</td>\n",
       "      <td>23.0</td>\n",
       "    </tr>\n",
       "    <tr>\n",
       "      <th>2</th>\n",
       "      <td>1000</td>\n",
       "      <td>7</td>\n",
       "      <td>340.0</td>\n",
       "      <td>75.0</td>\n",
       "      <td>14.0</td>\n",
       "    </tr>\n",
       "    <tr>\n",
       "      <th>3</th>\n",
       "      <td>1000</td>\n",
       "      <td>8</td>\n",
       "      <td>408.0</td>\n",
       "      <td>81.0</td>\n",
       "      <td>14.0</td>\n",
       "    </tr>\n",
       "    <tr>\n",
       "      <th>4</th>\n",
       "      <td>1000</td>\n",
       "      <td>9</td>\n",
       "      <td>466.0</td>\n",
       "      <td>57.0</td>\n",
       "      <td>15.0</td>\n",
       "    </tr>\n",
       "    <tr>\n",
       "      <th>...</th>\n",
       "      <td>...</td>\n",
       "      <td>...</td>\n",
       "      <td>...</td>\n",
       "      <td>...</td>\n",
       "      <td>...</td>\n",
       "    </tr>\n",
       "    <tr>\n",
       "      <th>3209</th>\n",
       "      <td>1489</td>\n",
       "      <td>9</td>\n",
       "      <td>NaN</td>\n",
       "      <td>32.0</td>\n",
       "      <td>17.0</td>\n",
       "    </tr>\n",
       "    <tr>\n",
       "      <th>3210</th>\n",
       "      <td>1489</td>\n",
       "      <td>10</td>\n",
       "      <td>NaN</td>\n",
       "      <td>21.0</td>\n",
       "      <td>20.0</td>\n",
       "    </tr>\n",
       "    <tr>\n",
       "      <th>3211</th>\n",
       "      <td>1489</td>\n",
       "      <td>11</td>\n",
       "      <td>NaN</td>\n",
       "      <td>20.0</td>\n",
       "      <td>18.0</td>\n",
       "    </tr>\n",
       "    <tr>\n",
       "      <th>3212</th>\n",
       "      <td>1489</td>\n",
       "      <td>12</td>\n",
       "      <td>NaN</td>\n",
       "      <td>35.0</td>\n",
       "      <td>17.0</td>\n",
       "    </tr>\n",
       "    <tr>\n",
       "      <th>3213</th>\n",
       "      <td>1476</td>\n",
       "      <td>4</td>\n",
       "      <td>NaN</td>\n",
       "      <td>NaN</td>\n",
       "      <td>1.0</td>\n",
       "    </tr>\n",
       "  </tbody>\n",
       "</table>\n",
       "<p>3214 rows × 5 columns</p>\n",
       "</div>"
      ],
      "text/plain": [
       "      user_id  month  duration  total_messages  total_traffic_gb\n",
       "0        1000      5     159.0            22.0               3.0\n",
       "1        1000      6     172.0            60.0              23.0\n",
       "2        1000      7     340.0            75.0              14.0\n",
       "3        1000      8     408.0            81.0              14.0\n",
       "4        1000      9     466.0            57.0              15.0\n",
       "...       ...    ...       ...             ...               ...\n",
       "3209     1489      9       NaN            32.0              17.0\n",
       "3210     1489     10       NaN            21.0              20.0\n",
       "3211     1489     11       NaN            20.0              18.0\n",
       "3212     1489     12       NaN            35.0              17.0\n",
       "3213     1476      4       NaN             NaN               1.0\n",
       "\n",
       "[3214 rows x 5 columns]"
      ]
     },
     "metadata": {},
     "output_type": "display_data"
    }
   ],
   "source": [
    "# объединяем таблицы для дальнейших подсчетов\n",
    "final_data = (\n",
    "    calls_pivot.merge(\n",
    "        messages_pivot, on=['user_id', 'month'], how='outer').merge(\n",
    "        internet_pivot['total_traffic_gb'], on=['user_id', 'month'], how='outer')\n",
    ").reset_index()\n",
    "display(final_data)"
   ]
  },
  {
   "cell_type": "code",
   "execution_count": 15,
   "metadata": {},
   "outputs": [
    {
     "data": {
      "text/html": [
       "<div>\n",
       "<style scoped>\n",
       "    .dataframe tbody tr th:only-of-type {\n",
       "        vertical-align: middle;\n",
       "    }\n",
       "\n",
       "    .dataframe tbody tr th {\n",
       "        vertical-align: top;\n",
       "    }\n",
       "\n",
       "    .dataframe thead th {\n",
       "        text-align: right;\n",
       "    }\n",
       "</style>\n",
       "<table border=\"1\" class=\"dataframe\">\n",
       "  <thead>\n",
       "    <tr style=\"text-align: right;\">\n",
       "      <th></th>\n",
       "      <th>user_id</th>\n",
       "      <th>month</th>\n",
       "      <th>duration</th>\n",
       "      <th>total_messages</th>\n",
       "      <th>total_traffic_gb</th>\n",
       "      <th>city</th>\n",
       "      <th>tariff</th>\n",
       "    </tr>\n",
       "  </thead>\n",
       "  <tbody>\n",
       "    <tr>\n",
       "      <th>0</th>\n",
       "      <td>1000</td>\n",
       "      <td>5</td>\n",
       "      <td>159.0</td>\n",
       "      <td>22.0</td>\n",
       "      <td>3.0</td>\n",
       "      <td>Краснодар</td>\n",
       "      <td>ultra</td>\n",
       "    </tr>\n",
       "    <tr>\n",
       "      <th>1</th>\n",
       "      <td>1000</td>\n",
       "      <td>6</td>\n",
       "      <td>172.0</td>\n",
       "      <td>60.0</td>\n",
       "      <td>23.0</td>\n",
       "      <td>Краснодар</td>\n",
       "      <td>ultra</td>\n",
       "    </tr>\n",
       "    <tr>\n",
       "      <th>2</th>\n",
       "      <td>1000</td>\n",
       "      <td>7</td>\n",
       "      <td>340.0</td>\n",
       "      <td>75.0</td>\n",
       "      <td>14.0</td>\n",
       "      <td>Краснодар</td>\n",
       "      <td>ultra</td>\n",
       "    </tr>\n",
       "    <tr>\n",
       "      <th>3</th>\n",
       "      <td>1000</td>\n",
       "      <td>8</td>\n",
       "      <td>408.0</td>\n",
       "      <td>81.0</td>\n",
       "      <td>14.0</td>\n",
       "      <td>Краснодар</td>\n",
       "      <td>ultra</td>\n",
       "    </tr>\n",
       "    <tr>\n",
       "      <th>4</th>\n",
       "      <td>1000</td>\n",
       "      <td>9</td>\n",
       "      <td>466.0</td>\n",
       "      <td>57.0</td>\n",
       "      <td>15.0</td>\n",
       "      <td>Краснодар</td>\n",
       "      <td>ultra</td>\n",
       "    </tr>\n",
       "    <tr>\n",
       "      <th>...</th>\n",
       "      <td>...</td>\n",
       "      <td>...</td>\n",
       "      <td>...</td>\n",
       "      <td>...</td>\n",
       "      <td>...</td>\n",
       "      <td>...</td>\n",
       "      <td>...</td>\n",
       "    </tr>\n",
       "    <tr>\n",
       "      <th>3209</th>\n",
       "      <td>1489</td>\n",
       "      <td>9</td>\n",
       "      <td>NaN</td>\n",
       "      <td>32.0</td>\n",
       "      <td>17.0</td>\n",
       "      <td>Санкт-Петербург</td>\n",
       "      <td>smart</td>\n",
       "    </tr>\n",
       "    <tr>\n",
       "      <th>3210</th>\n",
       "      <td>1489</td>\n",
       "      <td>10</td>\n",
       "      <td>NaN</td>\n",
       "      <td>21.0</td>\n",
       "      <td>20.0</td>\n",
       "      <td>Санкт-Петербург</td>\n",
       "      <td>smart</td>\n",
       "    </tr>\n",
       "    <tr>\n",
       "      <th>3211</th>\n",
       "      <td>1489</td>\n",
       "      <td>11</td>\n",
       "      <td>NaN</td>\n",
       "      <td>20.0</td>\n",
       "      <td>18.0</td>\n",
       "      <td>Санкт-Петербург</td>\n",
       "      <td>smart</td>\n",
       "    </tr>\n",
       "    <tr>\n",
       "      <th>3212</th>\n",
       "      <td>1489</td>\n",
       "      <td>12</td>\n",
       "      <td>NaN</td>\n",
       "      <td>35.0</td>\n",
       "      <td>17.0</td>\n",
       "      <td>Санкт-Петербург</td>\n",
       "      <td>smart</td>\n",
       "    </tr>\n",
       "    <tr>\n",
       "      <th>3213</th>\n",
       "      <td>1476</td>\n",
       "      <td>4</td>\n",
       "      <td>NaN</td>\n",
       "      <td>NaN</td>\n",
       "      <td>1.0</td>\n",
       "      <td>Москва</td>\n",
       "      <td>ultra</td>\n",
       "    </tr>\n",
       "  </tbody>\n",
       "</table>\n",
       "<p>3214 rows × 7 columns</p>\n",
       "</div>"
      ],
      "text/plain": [
       "      user_id  month  duration  total_messages  total_traffic_gb  \\\n",
       "0        1000      5     159.0            22.0               3.0   \n",
       "1        1000      6     172.0            60.0              23.0   \n",
       "2        1000      7     340.0            75.0              14.0   \n",
       "3        1000      8     408.0            81.0              14.0   \n",
       "4        1000      9     466.0            57.0              15.0   \n",
       "...       ...    ...       ...             ...               ...   \n",
       "3209     1489      9       NaN            32.0              17.0   \n",
       "3210     1489     10       NaN            21.0              20.0   \n",
       "3211     1489     11       NaN            20.0              18.0   \n",
       "3212     1489     12       NaN            35.0              17.0   \n",
       "3213     1476      4       NaN             NaN               1.0   \n",
       "\n",
       "                 city tariff  \n",
       "0           Краснодар  ultra  \n",
       "1           Краснодар  ultra  \n",
       "2           Краснодар  ultra  \n",
       "3           Краснодар  ultra  \n",
       "4           Краснодар  ultra  \n",
       "...               ...    ...  \n",
       "3209  Санкт-Петербург  smart  \n",
       "3210  Санкт-Петербург  smart  \n",
       "3211  Санкт-Петербург  smart  \n",
       "3212  Санкт-Петербург  smart  \n",
       "3213           Москва  ultra  \n",
       "\n",
       "[3214 rows x 7 columns]"
      ]
     },
     "metadata": {},
     "output_type": "display_data"
    }
   ],
   "source": [
    "# объдиним таблицу с данными по пользователям\n",
    "final_data = final_data.merge(data_users[['user_id', 'city', 'tariff']], on='user_id', how='left')\n",
    "display(final_data)"
   ]
  },
  {
   "cell_type": "code",
   "execution_count": 16,
   "metadata": {},
   "outputs": [
    {
     "data": {
      "text/html": [
       "<div>\n",
       "<style scoped>\n",
       "    .dataframe tbody tr th:only-of-type {\n",
       "        vertical-align: middle;\n",
       "    }\n",
       "\n",
       "    .dataframe tbody tr th {\n",
       "        vertical-align: top;\n",
       "    }\n",
       "\n",
       "    .dataframe thead th {\n",
       "        text-align: right;\n",
       "    }\n",
       "</style>\n",
       "<table border=\"1\" class=\"dataframe\">\n",
       "  <thead>\n",
       "    <tr style=\"text-align: right;\">\n",
       "      <th></th>\n",
       "      <th>user_id</th>\n",
       "      <th>month</th>\n",
       "      <th>duration</th>\n",
       "      <th>total_messages</th>\n",
       "      <th>total_traffic_gb</th>\n",
       "      <th>city</th>\n",
       "      <th>tariff</th>\n",
       "      <th>messages_included</th>\n",
       "      <th>mb_per_month_included</th>\n",
       "      <th>minutes_included</th>\n",
       "      <th>rub_monthly_fee</th>\n",
       "      <th>rub_per_gb</th>\n",
       "      <th>rub_per_message</th>\n",
       "      <th>rub_per_minute</th>\n",
       "      <th>gb_per_month_included</th>\n",
       "    </tr>\n",
       "  </thead>\n",
       "  <tbody>\n",
       "    <tr>\n",
       "      <th>0</th>\n",
       "      <td>1000</td>\n",
       "      <td>5</td>\n",
       "      <td>159.0</td>\n",
       "      <td>22.0</td>\n",
       "      <td>3.0</td>\n",
       "      <td>Краснодар</td>\n",
       "      <td>ultra</td>\n",
       "      <td>1000</td>\n",
       "      <td>30720</td>\n",
       "      <td>3000</td>\n",
       "      <td>1950</td>\n",
       "      <td>150</td>\n",
       "      <td>1</td>\n",
       "      <td>1</td>\n",
       "      <td>30.0</td>\n",
       "    </tr>\n",
       "    <tr>\n",
       "      <th>1</th>\n",
       "      <td>1000</td>\n",
       "      <td>6</td>\n",
       "      <td>172.0</td>\n",
       "      <td>60.0</td>\n",
       "      <td>23.0</td>\n",
       "      <td>Краснодар</td>\n",
       "      <td>ultra</td>\n",
       "      <td>1000</td>\n",
       "      <td>30720</td>\n",
       "      <td>3000</td>\n",
       "      <td>1950</td>\n",
       "      <td>150</td>\n",
       "      <td>1</td>\n",
       "      <td>1</td>\n",
       "      <td>30.0</td>\n",
       "    </tr>\n",
       "    <tr>\n",
       "      <th>2</th>\n",
       "      <td>1000</td>\n",
       "      <td>7</td>\n",
       "      <td>340.0</td>\n",
       "      <td>75.0</td>\n",
       "      <td>14.0</td>\n",
       "      <td>Краснодар</td>\n",
       "      <td>ultra</td>\n",
       "      <td>1000</td>\n",
       "      <td>30720</td>\n",
       "      <td>3000</td>\n",
       "      <td>1950</td>\n",
       "      <td>150</td>\n",
       "      <td>1</td>\n",
       "      <td>1</td>\n",
       "      <td>30.0</td>\n",
       "    </tr>\n",
       "    <tr>\n",
       "      <th>3</th>\n",
       "      <td>1000</td>\n",
       "      <td>8</td>\n",
       "      <td>408.0</td>\n",
       "      <td>81.0</td>\n",
       "      <td>14.0</td>\n",
       "      <td>Краснодар</td>\n",
       "      <td>ultra</td>\n",
       "      <td>1000</td>\n",
       "      <td>30720</td>\n",
       "      <td>3000</td>\n",
       "      <td>1950</td>\n",
       "      <td>150</td>\n",
       "      <td>1</td>\n",
       "      <td>1</td>\n",
       "      <td>30.0</td>\n",
       "    </tr>\n",
       "    <tr>\n",
       "      <th>4</th>\n",
       "      <td>1000</td>\n",
       "      <td>9</td>\n",
       "      <td>466.0</td>\n",
       "      <td>57.0</td>\n",
       "      <td>15.0</td>\n",
       "      <td>Краснодар</td>\n",
       "      <td>ultra</td>\n",
       "      <td>1000</td>\n",
       "      <td>30720</td>\n",
       "      <td>3000</td>\n",
       "      <td>1950</td>\n",
       "      <td>150</td>\n",
       "      <td>1</td>\n",
       "      <td>1</td>\n",
       "      <td>30.0</td>\n",
       "    </tr>\n",
       "    <tr>\n",
       "      <th>...</th>\n",
       "      <td>...</td>\n",
       "      <td>...</td>\n",
       "      <td>...</td>\n",
       "      <td>...</td>\n",
       "      <td>...</td>\n",
       "      <td>...</td>\n",
       "      <td>...</td>\n",
       "      <td>...</td>\n",
       "      <td>...</td>\n",
       "      <td>...</td>\n",
       "      <td>...</td>\n",
       "      <td>...</td>\n",
       "      <td>...</td>\n",
       "      <td>...</td>\n",
       "      <td>...</td>\n",
       "    </tr>\n",
       "    <tr>\n",
       "      <th>3209</th>\n",
       "      <td>1489</td>\n",
       "      <td>8</td>\n",
       "      <td>NaN</td>\n",
       "      <td>17.0</td>\n",
       "      <td>11.0</td>\n",
       "      <td>Санкт-Петербург</td>\n",
       "      <td>smart</td>\n",
       "      <td>50</td>\n",
       "      <td>15360</td>\n",
       "      <td>500</td>\n",
       "      <td>550</td>\n",
       "      <td>200</td>\n",
       "      <td>3</td>\n",
       "      <td>3</td>\n",
       "      <td>15.0</td>\n",
       "    </tr>\n",
       "    <tr>\n",
       "      <th>3210</th>\n",
       "      <td>1489</td>\n",
       "      <td>9</td>\n",
       "      <td>NaN</td>\n",
       "      <td>32.0</td>\n",
       "      <td>17.0</td>\n",
       "      <td>Санкт-Петербург</td>\n",
       "      <td>smart</td>\n",
       "      <td>50</td>\n",
       "      <td>15360</td>\n",
       "      <td>500</td>\n",
       "      <td>550</td>\n",
       "      <td>200</td>\n",
       "      <td>3</td>\n",
       "      <td>3</td>\n",
       "      <td>15.0</td>\n",
       "    </tr>\n",
       "    <tr>\n",
       "      <th>3211</th>\n",
       "      <td>1489</td>\n",
       "      <td>10</td>\n",
       "      <td>NaN</td>\n",
       "      <td>21.0</td>\n",
       "      <td>20.0</td>\n",
       "      <td>Санкт-Петербург</td>\n",
       "      <td>smart</td>\n",
       "      <td>50</td>\n",
       "      <td>15360</td>\n",
       "      <td>500</td>\n",
       "      <td>550</td>\n",
       "      <td>200</td>\n",
       "      <td>3</td>\n",
       "      <td>3</td>\n",
       "      <td>15.0</td>\n",
       "    </tr>\n",
       "    <tr>\n",
       "      <th>3212</th>\n",
       "      <td>1489</td>\n",
       "      <td>11</td>\n",
       "      <td>NaN</td>\n",
       "      <td>20.0</td>\n",
       "      <td>18.0</td>\n",
       "      <td>Санкт-Петербург</td>\n",
       "      <td>smart</td>\n",
       "      <td>50</td>\n",
       "      <td>15360</td>\n",
       "      <td>500</td>\n",
       "      <td>550</td>\n",
       "      <td>200</td>\n",
       "      <td>3</td>\n",
       "      <td>3</td>\n",
       "      <td>15.0</td>\n",
       "    </tr>\n",
       "    <tr>\n",
       "      <th>3213</th>\n",
       "      <td>1489</td>\n",
       "      <td>12</td>\n",
       "      <td>NaN</td>\n",
       "      <td>35.0</td>\n",
       "      <td>17.0</td>\n",
       "      <td>Санкт-Петербург</td>\n",
       "      <td>smart</td>\n",
       "      <td>50</td>\n",
       "      <td>15360</td>\n",
       "      <td>500</td>\n",
       "      <td>550</td>\n",
       "      <td>200</td>\n",
       "      <td>3</td>\n",
       "      <td>3</td>\n",
       "      <td>15.0</td>\n",
       "    </tr>\n",
       "  </tbody>\n",
       "</table>\n",
       "<p>3214 rows × 15 columns</p>\n",
       "</div>"
      ],
      "text/plain": [
       "      user_id  month  duration  total_messages  total_traffic_gb  \\\n",
       "0        1000      5     159.0            22.0               3.0   \n",
       "1        1000      6     172.0            60.0              23.0   \n",
       "2        1000      7     340.0            75.0              14.0   \n",
       "3        1000      8     408.0            81.0              14.0   \n",
       "4        1000      9     466.0            57.0              15.0   \n",
       "...       ...    ...       ...             ...               ...   \n",
       "3209     1489      8       NaN            17.0              11.0   \n",
       "3210     1489      9       NaN            32.0              17.0   \n",
       "3211     1489     10       NaN            21.0              20.0   \n",
       "3212     1489     11       NaN            20.0              18.0   \n",
       "3213     1489     12       NaN            35.0              17.0   \n",
       "\n",
       "                 city tariff  messages_included  mb_per_month_included  \\\n",
       "0           Краснодар  ultra               1000                  30720   \n",
       "1           Краснодар  ultra               1000                  30720   \n",
       "2           Краснодар  ultra               1000                  30720   \n",
       "3           Краснодар  ultra               1000                  30720   \n",
       "4           Краснодар  ultra               1000                  30720   \n",
       "...               ...    ...                ...                    ...   \n",
       "3209  Санкт-Петербург  smart                 50                  15360   \n",
       "3210  Санкт-Петербург  smart                 50                  15360   \n",
       "3211  Санкт-Петербург  smart                 50                  15360   \n",
       "3212  Санкт-Петербург  smart                 50                  15360   \n",
       "3213  Санкт-Петербург  smart                 50                  15360   \n",
       "\n",
       "      minutes_included  rub_monthly_fee  rub_per_gb  rub_per_message  \\\n",
       "0                 3000             1950         150                1   \n",
       "1                 3000             1950         150                1   \n",
       "2                 3000             1950         150                1   \n",
       "3                 3000             1950         150                1   \n",
       "4                 3000             1950         150                1   \n",
       "...                ...              ...         ...              ...   \n",
       "3209               500              550         200                3   \n",
       "3210               500              550         200                3   \n",
       "3211               500              550         200                3   \n",
       "3212               500              550         200                3   \n",
       "3213               500              550         200                3   \n",
       "\n",
       "      rub_per_minute  gb_per_month_included  \n",
       "0                  1                   30.0  \n",
       "1                  1                   30.0  \n",
       "2                  1                   30.0  \n",
       "3                  1                   30.0  \n",
       "4                  1                   30.0  \n",
       "...              ...                    ...  \n",
       "3209               3                   15.0  \n",
       "3210               3                   15.0  \n",
       "3211               3                   15.0  \n",
       "3212               3                   15.0  \n",
       "3213               3                   15.0  \n",
       "\n",
       "[3214 rows x 15 columns]"
      ]
     },
     "metadata": {},
     "output_type": "display_data"
    }
   ],
   "source": [
    "# присоединим таблицу с данными по тарифам к основной таблице и переведем мегабайты в гигабайты\n",
    "final_data = final_data.merge(data_tariffs.rename(columns={'tariff_name': 'tariff'}), on='tariff')\n",
    "final_data['gb_per_month_included'] = (final_data['mb_per_month_included'] / 1024).apply(np.ceil)\n",
    "display(final_data)"
   ]
  },
  {
   "cell_type": "code",
   "execution_count": 17,
   "metadata": {},
   "outputs": [],
   "source": [
    "# создаем функцию для подсчета дохода с каждого абонента\n",
    "def income(row):\n",
    "    minutes_over = (row['duration'] - row['minutes_included']) * row['rub_per_minute']\n",
    "    messages_over = (row['total_messages'] - row['messages_included']) * row['rub_per_message']\n",
    "    gb_over = (row['total_traffic_gb'] - row['gb_per_month_included']) * row['rub_per_gb']\n",
    "    if minutes_over < 0:\n",
    "        minutes_over = 0\n",
    "    if messages_over < 0:\n",
    "        messages_over = 0\n",
    "    if gb_over < 0:\n",
    "        gb_over = 0\n",
    "    return minutes_over + messages_over + gb_over + row['rub_monthly_fee']\n",
    "\n",
    "final_data['total_income'] = final_data.apply(income, axis = 1)\n",
    " "
   ]
  },
  {
   "cell_type": "code",
   "execution_count": 18,
   "metadata": {},
   "outputs": [
    {
     "data": {
      "text/plain": [
       "count    2667.00000\n",
       "mean     1504.47994\n",
       "std       796.07941\n",
       "min       550.00000\n",
       "25%       747.50000\n",
       "50%      1550.00000\n",
       "75%      1950.00000\n",
       "max      6770.00000\n",
       "Name: total_income, dtype: float64"
      ]
     },
     "execution_count": 18,
     "metadata": {},
     "output_type": "execute_result"
    }
   ],
   "source": [
    "final_data['total_income'].describe()"
   ]
  },
  {
   "cell_type": "code",
   "execution_count": 19,
   "metadata": {},
   "outputs": [
    {
     "data": {
      "text/html": [
       "<div>\n",
       "<style scoped>\n",
       "    .dataframe tbody tr th:only-of-type {\n",
       "        vertical-align: middle;\n",
       "    }\n",
       "\n",
       "    .dataframe tbody tr th {\n",
       "        vertical-align: top;\n",
       "    }\n",
       "\n",
       "    .dataframe thead th {\n",
       "        text-align: right;\n",
       "    }\n",
       "</style>\n",
       "<table border=\"1\" class=\"dataframe\">\n",
       "  <thead>\n",
       "    <tr style=\"text-align: right;\">\n",
       "      <th></th>\n",
       "      <th>user_id</th>\n",
       "      <th>month</th>\n",
       "      <th>duration</th>\n",
       "      <th>total_messages</th>\n",
       "      <th>total_traffic_gb</th>\n",
       "      <th>city</th>\n",
       "      <th>tariff</th>\n",
       "      <th>messages_included</th>\n",
       "      <th>mb_per_month_included</th>\n",
       "      <th>minutes_included</th>\n",
       "      <th>rub_monthly_fee</th>\n",
       "      <th>rub_per_gb</th>\n",
       "      <th>rub_per_message</th>\n",
       "      <th>rub_per_minute</th>\n",
       "      <th>gb_per_month_included</th>\n",
       "      <th>total_income</th>\n",
       "    </tr>\n",
       "  </thead>\n",
       "  <tbody>\n",
       "    <tr>\n",
       "      <th>0</th>\n",
       "      <td>1000</td>\n",
       "      <td>5</td>\n",
       "      <td>159.0</td>\n",
       "      <td>22.0</td>\n",
       "      <td>3.0</td>\n",
       "      <td>Краснодар</td>\n",
       "      <td>ultra</td>\n",
       "      <td>1000</td>\n",
       "      <td>30720</td>\n",
       "      <td>3000</td>\n",
       "      <td>1950</td>\n",
       "      <td>150</td>\n",
       "      <td>1</td>\n",
       "      <td>1</td>\n",
       "      <td>30.0</td>\n",
       "      <td>1950.0</td>\n",
       "    </tr>\n",
       "    <tr>\n",
       "      <th>1</th>\n",
       "      <td>1000</td>\n",
       "      <td>6</td>\n",
       "      <td>172.0</td>\n",
       "      <td>60.0</td>\n",
       "      <td>23.0</td>\n",
       "      <td>Краснодар</td>\n",
       "      <td>ultra</td>\n",
       "      <td>1000</td>\n",
       "      <td>30720</td>\n",
       "      <td>3000</td>\n",
       "      <td>1950</td>\n",
       "      <td>150</td>\n",
       "      <td>1</td>\n",
       "      <td>1</td>\n",
       "      <td>30.0</td>\n",
       "      <td>1950.0</td>\n",
       "    </tr>\n",
       "    <tr>\n",
       "      <th>2</th>\n",
       "      <td>1000</td>\n",
       "      <td>7</td>\n",
       "      <td>340.0</td>\n",
       "      <td>75.0</td>\n",
       "      <td>14.0</td>\n",
       "      <td>Краснодар</td>\n",
       "      <td>ultra</td>\n",
       "      <td>1000</td>\n",
       "      <td>30720</td>\n",
       "      <td>3000</td>\n",
       "      <td>1950</td>\n",
       "      <td>150</td>\n",
       "      <td>1</td>\n",
       "      <td>1</td>\n",
       "      <td>30.0</td>\n",
       "      <td>1950.0</td>\n",
       "    </tr>\n",
       "    <tr>\n",
       "      <th>3</th>\n",
       "      <td>1000</td>\n",
       "      <td>8</td>\n",
       "      <td>408.0</td>\n",
       "      <td>81.0</td>\n",
       "      <td>14.0</td>\n",
       "      <td>Краснодар</td>\n",
       "      <td>ultra</td>\n",
       "      <td>1000</td>\n",
       "      <td>30720</td>\n",
       "      <td>3000</td>\n",
       "      <td>1950</td>\n",
       "      <td>150</td>\n",
       "      <td>1</td>\n",
       "      <td>1</td>\n",
       "      <td>30.0</td>\n",
       "      <td>1950.0</td>\n",
       "    </tr>\n",
       "    <tr>\n",
       "      <th>4</th>\n",
       "      <td>1000</td>\n",
       "      <td>9</td>\n",
       "      <td>466.0</td>\n",
       "      <td>57.0</td>\n",
       "      <td>15.0</td>\n",
       "      <td>Краснодар</td>\n",
       "      <td>ultra</td>\n",
       "      <td>1000</td>\n",
       "      <td>30720</td>\n",
       "      <td>3000</td>\n",
       "      <td>1950</td>\n",
       "      <td>150</td>\n",
       "      <td>1</td>\n",
       "      <td>1</td>\n",
       "      <td>30.0</td>\n",
       "      <td>1950.0</td>\n",
       "    </tr>\n",
       "    <tr>\n",
       "      <th>...</th>\n",
       "      <td>...</td>\n",
       "      <td>...</td>\n",
       "      <td>...</td>\n",
       "      <td>...</td>\n",
       "      <td>...</td>\n",
       "      <td>...</td>\n",
       "      <td>...</td>\n",
       "      <td>...</td>\n",
       "      <td>...</td>\n",
       "      <td>...</td>\n",
       "      <td>...</td>\n",
       "      <td>...</td>\n",
       "      <td>...</td>\n",
       "      <td>...</td>\n",
       "      <td>...</td>\n",
       "      <td>...</td>\n",
       "    </tr>\n",
       "    <tr>\n",
       "      <th>3209</th>\n",
       "      <td>1489</td>\n",
       "      <td>8</td>\n",
       "      <td>NaN</td>\n",
       "      <td>17.0</td>\n",
       "      <td>11.0</td>\n",
       "      <td>Санкт-Петербург</td>\n",
       "      <td>smart</td>\n",
       "      <td>50</td>\n",
       "      <td>15360</td>\n",
       "      <td>500</td>\n",
       "      <td>550</td>\n",
       "      <td>200</td>\n",
       "      <td>3</td>\n",
       "      <td>3</td>\n",
       "      <td>15.0</td>\n",
       "      <td>NaN</td>\n",
       "    </tr>\n",
       "    <tr>\n",
       "      <th>3210</th>\n",
       "      <td>1489</td>\n",
       "      <td>9</td>\n",
       "      <td>NaN</td>\n",
       "      <td>32.0</td>\n",
       "      <td>17.0</td>\n",
       "      <td>Санкт-Петербург</td>\n",
       "      <td>smart</td>\n",
       "      <td>50</td>\n",
       "      <td>15360</td>\n",
       "      <td>500</td>\n",
       "      <td>550</td>\n",
       "      <td>200</td>\n",
       "      <td>3</td>\n",
       "      <td>3</td>\n",
       "      <td>15.0</td>\n",
       "      <td>NaN</td>\n",
       "    </tr>\n",
       "    <tr>\n",
       "      <th>3211</th>\n",
       "      <td>1489</td>\n",
       "      <td>10</td>\n",
       "      <td>NaN</td>\n",
       "      <td>21.0</td>\n",
       "      <td>20.0</td>\n",
       "      <td>Санкт-Петербург</td>\n",
       "      <td>smart</td>\n",
       "      <td>50</td>\n",
       "      <td>15360</td>\n",
       "      <td>500</td>\n",
       "      <td>550</td>\n",
       "      <td>200</td>\n",
       "      <td>3</td>\n",
       "      <td>3</td>\n",
       "      <td>15.0</td>\n",
       "      <td>NaN</td>\n",
       "    </tr>\n",
       "    <tr>\n",
       "      <th>3212</th>\n",
       "      <td>1489</td>\n",
       "      <td>11</td>\n",
       "      <td>NaN</td>\n",
       "      <td>20.0</td>\n",
       "      <td>18.0</td>\n",
       "      <td>Санкт-Петербург</td>\n",
       "      <td>smart</td>\n",
       "      <td>50</td>\n",
       "      <td>15360</td>\n",
       "      <td>500</td>\n",
       "      <td>550</td>\n",
       "      <td>200</td>\n",
       "      <td>3</td>\n",
       "      <td>3</td>\n",
       "      <td>15.0</td>\n",
       "      <td>NaN</td>\n",
       "    </tr>\n",
       "    <tr>\n",
       "      <th>3213</th>\n",
       "      <td>1489</td>\n",
       "      <td>12</td>\n",
       "      <td>NaN</td>\n",
       "      <td>35.0</td>\n",
       "      <td>17.0</td>\n",
       "      <td>Санкт-Петербург</td>\n",
       "      <td>smart</td>\n",
       "      <td>50</td>\n",
       "      <td>15360</td>\n",
       "      <td>500</td>\n",
       "      <td>550</td>\n",
       "      <td>200</td>\n",
       "      <td>3</td>\n",
       "      <td>3</td>\n",
       "      <td>15.0</td>\n",
       "      <td>NaN</td>\n",
       "    </tr>\n",
       "  </tbody>\n",
       "</table>\n",
       "<p>3214 rows × 16 columns</p>\n",
       "</div>"
      ],
      "text/plain": [
       "      user_id  month  duration  total_messages  total_traffic_gb  \\\n",
       "0        1000      5     159.0            22.0               3.0   \n",
       "1        1000      6     172.0            60.0              23.0   \n",
       "2        1000      7     340.0            75.0              14.0   \n",
       "3        1000      8     408.0            81.0              14.0   \n",
       "4        1000      9     466.0            57.0              15.0   \n",
       "...       ...    ...       ...             ...               ...   \n",
       "3209     1489      8       NaN            17.0              11.0   \n",
       "3210     1489      9       NaN            32.0              17.0   \n",
       "3211     1489     10       NaN            21.0              20.0   \n",
       "3212     1489     11       NaN            20.0              18.0   \n",
       "3213     1489     12       NaN            35.0              17.0   \n",
       "\n",
       "                 city tariff  messages_included  mb_per_month_included  \\\n",
       "0           Краснодар  ultra               1000                  30720   \n",
       "1           Краснодар  ultra               1000                  30720   \n",
       "2           Краснодар  ultra               1000                  30720   \n",
       "3           Краснодар  ultra               1000                  30720   \n",
       "4           Краснодар  ultra               1000                  30720   \n",
       "...               ...    ...                ...                    ...   \n",
       "3209  Санкт-Петербург  smart                 50                  15360   \n",
       "3210  Санкт-Петербург  smart                 50                  15360   \n",
       "3211  Санкт-Петербург  smart                 50                  15360   \n",
       "3212  Санкт-Петербург  smart                 50                  15360   \n",
       "3213  Санкт-Петербург  smart                 50                  15360   \n",
       "\n",
       "      minutes_included  rub_monthly_fee  rub_per_gb  rub_per_message  \\\n",
       "0                 3000             1950         150                1   \n",
       "1                 3000             1950         150                1   \n",
       "2                 3000             1950         150                1   \n",
       "3                 3000             1950         150                1   \n",
       "4                 3000             1950         150                1   \n",
       "...                ...              ...         ...              ...   \n",
       "3209               500              550         200                3   \n",
       "3210               500              550         200                3   \n",
       "3211               500              550         200                3   \n",
       "3212               500              550         200                3   \n",
       "3213               500              550         200                3   \n",
       "\n",
       "      rub_per_minute  gb_per_month_included  total_income  \n",
       "0                  1                   30.0        1950.0  \n",
       "1                  1                   30.0        1950.0  \n",
       "2                  1                   30.0        1950.0  \n",
       "3                  1                   30.0        1950.0  \n",
       "4                  1                   30.0        1950.0  \n",
       "...              ...                    ...           ...  \n",
       "3209               3                   15.0           NaN  \n",
       "3210               3                   15.0           NaN  \n",
       "3211               3                   15.0           NaN  \n",
       "3212               3                   15.0           NaN  \n",
       "3213               3                   15.0           NaN  \n",
       "\n",
       "[3214 rows x 16 columns]"
      ]
     },
     "metadata": {},
     "output_type": "display_data"
    }
   ],
   "source": [
    "# выводим общую таблицу с вырочкой по каждому клиенту\n",
    "display(final_data)"
   ]
  },
  {
   "cell_type": "markdown",
   "metadata": {},
   "source": [
    "### Вывод\n"
   ]
  },
  {
   "cell_type": "markdown",
   "metadata": {},
   "source": [
    "На данном этапе произвели подготовку данных. Для некоторых столбцов изменили на datetime, чтобы можно было выделить месяц.\n",
    "В звонках и трафике были обнаружены нулевые значения, однако логичнее всего их не трогать, так как это значит, что человек либо не пользовался услугой в тарифе, либо  это пропущенные звонки.\n",
    "\n",
    "Далее посчитали для каждого пользователя количество сделанных звонков и израсходованных минут разговора по месяцам, количество отправленных сообщений по месяцам, израсходованный трафик по месяцам, предварительно переведя мегабайты в гигабайты.\n",
    "\n",
    "На последнем этапе посчитали выручку с каждого клиента."
   ]
  },
  {
   "cell_type": "markdown",
   "metadata": {},
   "source": [
    "## Анализ данных"
   ]
  },
  {
   "cell_type": "markdown",
   "metadata": {},
   "source": [
    "### Проанализируем поведение пользователей тарифа smart  и ultra относительно звонков"
   ]
  },
  {
   "cell_type": "code",
   "execution_count": 20,
   "metadata": {},
   "outputs": [
    {
     "data": {
      "text/html": [
       "<div>\n",
       "<style scoped>\n",
       "    .dataframe tbody tr th:only-of-type {\n",
       "        vertical-align: middle;\n",
       "    }\n",
       "\n",
       "    .dataframe tbody tr th {\n",
       "        vertical-align: top;\n",
       "    }\n",
       "\n",
       "    .dataframe thead th {\n",
       "        text-align: right;\n",
       "    }\n",
       "</style>\n",
       "<table border=\"1\" class=\"dataframe\">\n",
       "  <thead>\n",
       "    <tr style=\"text-align: right;\">\n",
       "      <th></th>\n",
       "      <th>user_id</th>\n",
       "      <th>month</th>\n",
       "      <th>duration</th>\n",
       "      <th>total_messages</th>\n",
       "      <th>total_traffic_gb</th>\n",
       "      <th>city</th>\n",
       "      <th>tariff</th>\n",
       "      <th>messages_included</th>\n",
       "      <th>mb_per_month_included</th>\n",
       "      <th>minutes_included</th>\n",
       "      <th>rub_monthly_fee</th>\n",
       "      <th>rub_per_gb</th>\n",
       "      <th>rub_per_message</th>\n",
       "      <th>rub_per_minute</th>\n",
       "      <th>gb_per_month_included</th>\n",
       "      <th>total_income</th>\n",
       "    </tr>\n",
       "  </thead>\n",
       "  <tbody>\n",
       "    <tr>\n",
       "      <th>985</th>\n",
       "      <td>1001</td>\n",
       "      <td>11</td>\n",
       "      <td>430.0</td>\n",
       "      <td>NaN</td>\n",
       "      <td>18.0</td>\n",
       "      <td>Москва</td>\n",
       "      <td>smart</td>\n",
       "      <td>50</td>\n",
       "      <td>15360</td>\n",
       "      <td>500</td>\n",
       "      <td>550</td>\n",
       "      <td>200</td>\n",
       "      <td>3</td>\n",
       "      <td>3</td>\n",
       "      <td>15.0</td>\n",
       "      <td>NaN</td>\n",
       "    </tr>\n",
       "    <tr>\n",
       "      <th>986</th>\n",
       "      <td>1001</td>\n",
       "      <td>12</td>\n",
       "      <td>414.0</td>\n",
       "      <td>NaN</td>\n",
       "      <td>14.0</td>\n",
       "      <td>Москва</td>\n",
       "      <td>smart</td>\n",
       "      <td>50</td>\n",
       "      <td>15360</td>\n",
       "      <td>500</td>\n",
       "      <td>550</td>\n",
       "      <td>200</td>\n",
       "      <td>3</td>\n",
       "      <td>3</td>\n",
       "      <td>15.0</td>\n",
       "      <td>NaN</td>\n",
       "    </tr>\n",
       "    <tr>\n",
       "      <th>987</th>\n",
       "      <td>1002</td>\n",
       "      <td>6</td>\n",
       "      <td>117.0</td>\n",
       "      <td>4.0</td>\n",
       "      <td>11.0</td>\n",
       "      <td>Стерлитамак</td>\n",
       "      <td>smart</td>\n",
       "      <td>50</td>\n",
       "      <td>15360</td>\n",
       "      <td>500</td>\n",
       "      <td>550</td>\n",
       "      <td>200</td>\n",
       "      <td>3</td>\n",
       "      <td>3</td>\n",
       "      <td>15.0</td>\n",
       "      <td>550.0</td>\n",
       "    </tr>\n",
       "    <tr>\n",
       "      <th>988</th>\n",
       "      <td>1002</td>\n",
       "      <td>7</td>\n",
       "      <td>214.0</td>\n",
       "      <td>11.0</td>\n",
       "      <td>18.0</td>\n",
       "      <td>Стерлитамак</td>\n",
       "      <td>smart</td>\n",
       "      <td>50</td>\n",
       "      <td>15360</td>\n",
       "      <td>500</td>\n",
       "      <td>550</td>\n",
       "      <td>200</td>\n",
       "      <td>3</td>\n",
       "      <td>3</td>\n",
       "      <td>15.0</td>\n",
       "      <td>1150.0</td>\n",
       "    </tr>\n",
       "    <tr>\n",
       "      <th>989</th>\n",
       "      <td>1002</td>\n",
       "      <td>8</td>\n",
       "      <td>289.0</td>\n",
       "      <td>13.0</td>\n",
       "      <td>20.0</td>\n",
       "      <td>Стерлитамак</td>\n",
       "      <td>smart</td>\n",
       "      <td>50</td>\n",
       "      <td>15360</td>\n",
       "      <td>500</td>\n",
       "      <td>550</td>\n",
       "      <td>200</td>\n",
       "      <td>3</td>\n",
       "      <td>3</td>\n",
       "      <td>15.0</td>\n",
       "      <td>1550.0</td>\n",
       "    </tr>\n",
       "    <tr>\n",
       "      <th>...</th>\n",
       "      <td>...</td>\n",
       "      <td>...</td>\n",
       "      <td>...</td>\n",
       "      <td>...</td>\n",
       "      <td>...</td>\n",
       "      <td>...</td>\n",
       "      <td>...</td>\n",
       "      <td>...</td>\n",
       "      <td>...</td>\n",
       "      <td>...</td>\n",
       "      <td>...</td>\n",
       "      <td>...</td>\n",
       "      <td>...</td>\n",
       "      <td>...</td>\n",
       "      <td>...</td>\n",
       "      <td>...</td>\n",
       "    </tr>\n",
       "    <tr>\n",
       "      <th>3209</th>\n",
       "      <td>1489</td>\n",
       "      <td>8</td>\n",
       "      <td>NaN</td>\n",
       "      <td>17.0</td>\n",
       "      <td>11.0</td>\n",
       "      <td>Санкт-Петербург</td>\n",
       "      <td>smart</td>\n",
       "      <td>50</td>\n",
       "      <td>15360</td>\n",
       "      <td>500</td>\n",
       "      <td>550</td>\n",
       "      <td>200</td>\n",
       "      <td>3</td>\n",
       "      <td>3</td>\n",
       "      <td>15.0</td>\n",
       "      <td>NaN</td>\n",
       "    </tr>\n",
       "    <tr>\n",
       "      <th>3210</th>\n",
       "      <td>1489</td>\n",
       "      <td>9</td>\n",
       "      <td>NaN</td>\n",
       "      <td>32.0</td>\n",
       "      <td>17.0</td>\n",
       "      <td>Санкт-Петербург</td>\n",
       "      <td>smart</td>\n",
       "      <td>50</td>\n",
       "      <td>15360</td>\n",
       "      <td>500</td>\n",
       "      <td>550</td>\n",
       "      <td>200</td>\n",
       "      <td>3</td>\n",
       "      <td>3</td>\n",
       "      <td>15.0</td>\n",
       "      <td>NaN</td>\n",
       "    </tr>\n",
       "    <tr>\n",
       "      <th>3211</th>\n",
       "      <td>1489</td>\n",
       "      <td>10</td>\n",
       "      <td>NaN</td>\n",
       "      <td>21.0</td>\n",
       "      <td>20.0</td>\n",
       "      <td>Санкт-Петербург</td>\n",
       "      <td>smart</td>\n",
       "      <td>50</td>\n",
       "      <td>15360</td>\n",
       "      <td>500</td>\n",
       "      <td>550</td>\n",
       "      <td>200</td>\n",
       "      <td>3</td>\n",
       "      <td>3</td>\n",
       "      <td>15.0</td>\n",
       "      <td>NaN</td>\n",
       "    </tr>\n",
       "    <tr>\n",
       "      <th>3212</th>\n",
       "      <td>1489</td>\n",
       "      <td>11</td>\n",
       "      <td>NaN</td>\n",
       "      <td>20.0</td>\n",
       "      <td>18.0</td>\n",
       "      <td>Санкт-Петербург</td>\n",
       "      <td>smart</td>\n",
       "      <td>50</td>\n",
       "      <td>15360</td>\n",
       "      <td>500</td>\n",
       "      <td>550</td>\n",
       "      <td>200</td>\n",
       "      <td>3</td>\n",
       "      <td>3</td>\n",
       "      <td>15.0</td>\n",
       "      <td>NaN</td>\n",
       "    </tr>\n",
       "    <tr>\n",
       "      <th>3213</th>\n",
       "      <td>1489</td>\n",
       "      <td>12</td>\n",
       "      <td>NaN</td>\n",
       "      <td>35.0</td>\n",
       "      <td>17.0</td>\n",
       "      <td>Санкт-Петербург</td>\n",
       "      <td>smart</td>\n",
       "      <td>50</td>\n",
       "      <td>15360</td>\n",
       "      <td>500</td>\n",
       "      <td>550</td>\n",
       "      <td>200</td>\n",
       "      <td>3</td>\n",
       "      <td>3</td>\n",
       "      <td>15.0</td>\n",
       "      <td>NaN</td>\n",
       "    </tr>\n",
       "  </tbody>\n",
       "</table>\n",
       "<p>2229 rows × 16 columns</p>\n",
       "</div>"
      ],
      "text/plain": [
       "      user_id  month  duration  total_messages  total_traffic_gb  \\\n",
       "985      1001     11     430.0             NaN              18.0   \n",
       "986      1001     12     414.0             NaN              14.0   \n",
       "987      1002      6     117.0             4.0              11.0   \n",
       "988      1002      7     214.0            11.0              18.0   \n",
       "989      1002      8     289.0            13.0              20.0   \n",
       "...       ...    ...       ...             ...               ...   \n",
       "3209     1489      8       NaN            17.0              11.0   \n",
       "3210     1489      9       NaN            32.0              17.0   \n",
       "3211     1489     10       NaN            21.0              20.0   \n",
       "3212     1489     11       NaN            20.0              18.0   \n",
       "3213     1489     12       NaN            35.0              17.0   \n",
       "\n",
       "                 city tariff  messages_included  mb_per_month_included  \\\n",
       "985            Москва  smart                 50                  15360   \n",
       "986            Москва  smart                 50                  15360   \n",
       "987       Стерлитамак  smart                 50                  15360   \n",
       "988       Стерлитамак  smart                 50                  15360   \n",
       "989       Стерлитамак  smart                 50                  15360   \n",
       "...               ...    ...                ...                    ...   \n",
       "3209  Санкт-Петербург  smart                 50                  15360   \n",
       "3210  Санкт-Петербург  smart                 50                  15360   \n",
       "3211  Санкт-Петербург  smart                 50                  15360   \n",
       "3212  Санкт-Петербург  smart                 50                  15360   \n",
       "3213  Санкт-Петербург  smart                 50                  15360   \n",
       "\n",
       "      minutes_included  rub_monthly_fee  rub_per_gb  rub_per_message  \\\n",
       "985                500              550         200                3   \n",
       "986                500              550         200                3   \n",
       "987                500              550         200                3   \n",
       "988                500              550         200                3   \n",
       "989                500              550         200                3   \n",
       "...                ...              ...         ...              ...   \n",
       "3209               500              550         200                3   \n",
       "3210               500              550         200                3   \n",
       "3211               500              550         200                3   \n",
       "3212               500              550         200                3   \n",
       "3213               500              550         200                3   \n",
       "\n",
       "      rub_per_minute  gb_per_month_included  total_income  \n",
       "985                3                   15.0           NaN  \n",
       "986                3                   15.0           NaN  \n",
       "987                3                   15.0         550.0  \n",
       "988                3                   15.0        1150.0  \n",
       "989                3                   15.0        1550.0  \n",
       "...              ...                    ...           ...  \n",
       "3209               3                   15.0           NaN  \n",
       "3210               3                   15.0           NaN  \n",
       "3211               3                   15.0           NaN  \n",
       "3212               3                   15.0           NaN  \n",
       "3213               3                   15.0           NaN  \n",
       "\n",
       "[2229 rows x 16 columns]"
      ]
     },
     "metadata": {},
     "output_type": "display_data"
    },
    {
     "data": {
      "text/plain": [
       "count    2223.000000\n",
       "mean      419.062978\n",
       "std       189.325618\n",
       "min         0.000000\n",
       "25%       285.000000\n",
       "50%       423.000000\n",
       "75%       545.500000\n",
       "max      1435.000000\n",
       "Name: duration, dtype: float64"
      ]
     },
     "execution_count": 20,
     "metadata": {},
     "output_type": "execute_result"
    }
   ],
   "source": [
    "# сделаем срез данных для пользователей тарифа smart и изучим характерные значения длительности звонков\n",
    "smart_users = final_data.query('tariff ==\"smart\"')\n",
    "display(smart_users)\n",
    "smart_users['duration'].describe()"
   ]
  },
  {
   "cell_type": "markdown",
   "metadata": {},
   "source": [
    "Видим, что в среднем пользователи тарифа smart используют 419 мин в месяц, медианное значение - 423 мин, при максимальном 1435 и минимальном 0."
   ]
  },
  {
   "cell_type": "code",
   "execution_count": null,
   "metadata": {},
   "outputs": [],
   "source": []
  },
  {
   "cell_type": "code",
   "execution_count": 21,
   "metadata": {},
   "outputs": [
    {
     "data": {
      "text/html": [
       "<div>\n",
       "<style scoped>\n",
       "    .dataframe tbody tr th:only-of-type {\n",
       "        vertical-align: middle;\n",
       "    }\n",
       "\n",
       "    .dataframe tbody tr th {\n",
       "        vertical-align: top;\n",
       "    }\n",
       "\n",
       "    .dataframe thead th {\n",
       "        text-align: right;\n",
       "    }\n",
       "</style>\n",
       "<table border=\"1\" class=\"dataframe\">\n",
       "  <thead>\n",
       "    <tr style=\"text-align: right;\">\n",
       "      <th></th>\n",
       "      <th>user_id</th>\n",
       "      <th>month</th>\n",
       "      <th>duration</th>\n",
       "      <th>total_messages</th>\n",
       "      <th>total_traffic_gb</th>\n",
       "      <th>city</th>\n",
       "      <th>tariff</th>\n",
       "      <th>messages_included</th>\n",
       "      <th>mb_per_month_included</th>\n",
       "      <th>minutes_included</th>\n",
       "      <th>rub_monthly_fee</th>\n",
       "      <th>rub_per_gb</th>\n",
       "      <th>rub_per_message</th>\n",
       "      <th>rub_per_minute</th>\n",
       "      <th>gb_per_month_included</th>\n",
       "      <th>total_income</th>\n",
       "    </tr>\n",
       "  </thead>\n",
       "  <tbody>\n",
       "    <tr>\n",
       "      <th>0</th>\n",
       "      <td>1000</td>\n",
       "      <td>5</td>\n",
       "      <td>159.0</td>\n",
       "      <td>22.0</td>\n",
       "      <td>3.0</td>\n",
       "      <td>Краснодар</td>\n",
       "      <td>ultra</td>\n",
       "      <td>1000</td>\n",
       "      <td>30720</td>\n",
       "      <td>3000</td>\n",
       "      <td>1950</td>\n",
       "      <td>150</td>\n",
       "      <td>1</td>\n",
       "      <td>1</td>\n",
       "      <td>30.0</td>\n",
       "      <td>1950.0</td>\n",
       "    </tr>\n",
       "    <tr>\n",
       "      <th>1</th>\n",
       "      <td>1000</td>\n",
       "      <td>6</td>\n",
       "      <td>172.0</td>\n",
       "      <td>60.0</td>\n",
       "      <td>23.0</td>\n",
       "      <td>Краснодар</td>\n",
       "      <td>ultra</td>\n",
       "      <td>1000</td>\n",
       "      <td>30720</td>\n",
       "      <td>3000</td>\n",
       "      <td>1950</td>\n",
       "      <td>150</td>\n",
       "      <td>1</td>\n",
       "      <td>1</td>\n",
       "      <td>30.0</td>\n",
       "      <td>1950.0</td>\n",
       "    </tr>\n",
       "    <tr>\n",
       "      <th>2</th>\n",
       "      <td>1000</td>\n",
       "      <td>7</td>\n",
       "      <td>340.0</td>\n",
       "      <td>75.0</td>\n",
       "      <td>14.0</td>\n",
       "      <td>Краснодар</td>\n",
       "      <td>ultra</td>\n",
       "      <td>1000</td>\n",
       "      <td>30720</td>\n",
       "      <td>3000</td>\n",
       "      <td>1950</td>\n",
       "      <td>150</td>\n",
       "      <td>1</td>\n",
       "      <td>1</td>\n",
       "      <td>30.0</td>\n",
       "      <td>1950.0</td>\n",
       "    </tr>\n",
       "    <tr>\n",
       "      <th>3</th>\n",
       "      <td>1000</td>\n",
       "      <td>8</td>\n",
       "      <td>408.0</td>\n",
       "      <td>81.0</td>\n",
       "      <td>14.0</td>\n",
       "      <td>Краснодар</td>\n",
       "      <td>ultra</td>\n",
       "      <td>1000</td>\n",
       "      <td>30720</td>\n",
       "      <td>3000</td>\n",
       "      <td>1950</td>\n",
       "      <td>150</td>\n",
       "      <td>1</td>\n",
       "      <td>1</td>\n",
       "      <td>30.0</td>\n",
       "      <td>1950.0</td>\n",
       "    </tr>\n",
       "    <tr>\n",
       "      <th>4</th>\n",
       "      <td>1000</td>\n",
       "      <td>9</td>\n",
       "      <td>466.0</td>\n",
       "      <td>57.0</td>\n",
       "      <td>15.0</td>\n",
       "      <td>Краснодар</td>\n",
       "      <td>ultra</td>\n",
       "      <td>1000</td>\n",
       "      <td>30720</td>\n",
       "      <td>3000</td>\n",
       "      <td>1950</td>\n",
       "      <td>150</td>\n",
       "      <td>1</td>\n",
       "      <td>1</td>\n",
       "      <td>30.0</td>\n",
       "      <td>1950.0</td>\n",
       "    </tr>\n",
       "    <tr>\n",
       "      <th>...</th>\n",
       "      <td>...</td>\n",
       "      <td>...</td>\n",
       "      <td>...</td>\n",
       "      <td>...</td>\n",
       "      <td>...</td>\n",
       "      <td>...</td>\n",
       "      <td>...</td>\n",
       "      <td>...</td>\n",
       "      <td>...</td>\n",
       "      <td>...</td>\n",
       "      <td>...</td>\n",
       "      <td>...</td>\n",
       "      <td>...</td>\n",
       "      <td>...</td>\n",
       "      <td>...</td>\n",
       "      <td>...</td>\n",
       "    </tr>\n",
       "    <tr>\n",
       "      <th>980</th>\n",
       "      <td>1473</td>\n",
       "      <td>9</td>\n",
       "      <td>NaN</td>\n",
       "      <td>19.0</td>\n",
       "      <td>17.0</td>\n",
       "      <td>Красноярск</td>\n",
       "      <td>ultra</td>\n",
       "      <td>1000</td>\n",
       "      <td>30720</td>\n",
       "      <td>3000</td>\n",
       "      <td>1950</td>\n",
       "      <td>150</td>\n",
       "      <td>1</td>\n",
       "      <td>1</td>\n",
       "      <td>30.0</td>\n",
       "      <td>NaN</td>\n",
       "    </tr>\n",
       "    <tr>\n",
       "      <th>981</th>\n",
       "      <td>1473</td>\n",
       "      <td>10</td>\n",
       "      <td>NaN</td>\n",
       "      <td>20.0</td>\n",
       "      <td>14.0</td>\n",
       "      <td>Красноярск</td>\n",
       "      <td>ultra</td>\n",
       "      <td>1000</td>\n",
       "      <td>30720</td>\n",
       "      <td>3000</td>\n",
       "      <td>1950</td>\n",
       "      <td>150</td>\n",
       "      <td>1</td>\n",
       "      <td>1</td>\n",
       "      <td>30.0</td>\n",
       "      <td>NaN</td>\n",
       "    </tr>\n",
       "    <tr>\n",
       "      <th>982</th>\n",
       "      <td>1473</td>\n",
       "      <td>11</td>\n",
       "      <td>NaN</td>\n",
       "      <td>14.0</td>\n",
       "      <td>22.0</td>\n",
       "      <td>Красноярск</td>\n",
       "      <td>ultra</td>\n",
       "      <td>1000</td>\n",
       "      <td>30720</td>\n",
       "      <td>3000</td>\n",
       "      <td>1950</td>\n",
       "      <td>150</td>\n",
       "      <td>1</td>\n",
       "      <td>1</td>\n",
       "      <td>30.0</td>\n",
       "      <td>NaN</td>\n",
       "    </tr>\n",
       "    <tr>\n",
       "      <th>983</th>\n",
       "      <td>1473</td>\n",
       "      <td>12</td>\n",
       "      <td>NaN</td>\n",
       "      <td>20.0</td>\n",
       "      <td>18.0</td>\n",
       "      <td>Красноярск</td>\n",
       "      <td>ultra</td>\n",
       "      <td>1000</td>\n",
       "      <td>30720</td>\n",
       "      <td>3000</td>\n",
       "      <td>1950</td>\n",
       "      <td>150</td>\n",
       "      <td>1</td>\n",
       "      <td>1</td>\n",
       "      <td>30.0</td>\n",
       "      <td>NaN</td>\n",
       "    </tr>\n",
       "    <tr>\n",
       "      <th>984</th>\n",
       "      <td>1476</td>\n",
       "      <td>4</td>\n",
       "      <td>NaN</td>\n",
       "      <td>NaN</td>\n",
       "      <td>1.0</td>\n",
       "      <td>Москва</td>\n",
       "      <td>ultra</td>\n",
       "      <td>1000</td>\n",
       "      <td>30720</td>\n",
       "      <td>3000</td>\n",
       "      <td>1950</td>\n",
       "      <td>150</td>\n",
       "      <td>1</td>\n",
       "      <td>1</td>\n",
       "      <td>30.0</td>\n",
       "      <td>NaN</td>\n",
       "    </tr>\n",
       "  </tbody>\n",
       "</table>\n",
       "<p>985 rows × 16 columns</p>\n",
       "</div>"
      ],
      "text/plain": [
       "     user_id  month  duration  total_messages  total_traffic_gb        city  \\\n",
       "0       1000      5     159.0            22.0               3.0   Краснодар   \n",
       "1       1000      6     172.0            60.0              23.0   Краснодар   \n",
       "2       1000      7     340.0            75.0              14.0   Краснодар   \n",
       "3       1000      8     408.0            81.0              14.0   Краснодар   \n",
       "4       1000      9     466.0            57.0              15.0   Краснодар   \n",
       "..       ...    ...       ...             ...               ...         ...   \n",
       "980     1473      9       NaN            19.0              17.0  Красноярск   \n",
       "981     1473     10       NaN            20.0              14.0  Красноярск   \n",
       "982     1473     11       NaN            14.0              22.0  Красноярск   \n",
       "983     1473     12       NaN            20.0              18.0  Красноярск   \n",
       "984     1476      4       NaN             NaN               1.0      Москва   \n",
       "\n",
       "    tariff  messages_included  mb_per_month_included  minutes_included  \\\n",
       "0    ultra               1000                  30720              3000   \n",
       "1    ultra               1000                  30720              3000   \n",
       "2    ultra               1000                  30720              3000   \n",
       "3    ultra               1000                  30720              3000   \n",
       "4    ultra               1000                  30720              3000   \n",
       "..     ...                ...                    ...               ...   \n",
       "980  ultra               1000                  30720              3000   \n",
       "981  ultra               1000                  30720              3000   \n",
       "982  ultra               1000                  30720              3000   \n",
       "983  ultra               1000                  30720              3000   \n",
       "984  ultra               1000                  30720              3000   \n",
       "\n",
       "     rub_monthly_fee  rub_per_gb  rub_per_message  rub_per_minute  \\\n",
       "0               1950         150                1               1   \n",
       "1               1950         150                1               1   \n",
       "2               1950         150                1               1   \n",
       "3               1950         150                1               1   \n",
       "4               1950         150                1               1   \n",
       "..               ...         ...              ...             ...   \n",
       "980             1950         150                1               1   \n",
       "981             1950         150                1               1   \n",
       "982             1950         150                1               1   \n",
       "983             1950         150                1               1   \n",
       "984             1950         150                1               1   \n",
       "\n",
       "     gb_per_month_included  total_income  \n",
       "0                     30.0        1950.0  \n",
       "1                     30.0        1950.0  \n",
       "2                     30.0        1950.0  \n",
       "3                     30.0        1950.0  \n",
       "4                     30.0        1950.0  \n",
       "..                     ...           ...  \n",
       "980                   30.0           NaN  \n",
       "981                   30.0           NaN  \n",
       "982                   30.0           NaN  \n",
       "983                   30.0           NaN  \n",
       "984                   30.0           NaN  \n",
       "\n",
       "[985 rows x 16 columns]"
      ]
     },
     "metadata": {},
     "output_type": "display_data"
    },
    {
     "data": {
      "text/plain": [
       "count     951.000000\n",
       "mean      545.451104\n",
       "std       306.925754\n",
       "min         0.000000\n",
       "25%       310.000000\n",
       "50%       528.000000\n",
       "75%       756.500000\n",
       "max      1673.000000\n",
       "Name: duration, dtype: float64"
      ]
     },
     "execution_count": 21,
     "metadata": {},
     "output_type": "execute_result"
    }
   ],
   "source": [
    "# сделаем срез данных для пользователей тарифа ultra и изучим характерные значения длительности звонков\n",
    "ultra_users = final_data.query('tariff ==\"ultra\"')\n",
    "display(ultra_users)\n",
    "ultra_users['duration'].describe()"
   ]
  },
  {
   "cell_type": "markdown",
   "metadata": {},
   "source": [
    "Видим, что в среднем пользователи тарифа ultra используют 545 мин в месяц, медианное значение - 528 мин, при максимальном 1673 и минимальном 0."
   ]
  },
  {
   "cell_type": "code",
   "execution_count": 22,
   "metadata": {},
   "outputs": [
    {
     "name": "stdout",
     "output_type": "stream",
     "text": [
      "Среднее значение минут по тарифу smart 419.0629779577148\n",
      "Среднее значение минут по тарифу ultra 545.4511041009464\n"
     ]
    }
   ],
   "source": [
    "# считаем среднее для тарифа smart\n",
    "mean_duration_smart = smart_users['duration'].mean()\n",
    "print(\"Среднее значение минут по тарифу smart\", mean_duration_smart)\n",
    "\n",
    "# считаем среднее для тарифа ultra\n",
    "mean_duration_ultra = ultra_users['duration'].mean()\n",
    "print(\"Среднее значение минут по тарифу ultra\", mean_duration_ultra)"
   ]
  },
  {
   "cell_type": "code",
   "execution_count": 23,
   "metadata": {},
   "outputs": [
    {
     "name": "stdout",
     "output_type": "stream",
     "text": [
      "Дисперсия для звонков тарифа smart 35844.1895513438\n",
      "Дисперсия для звонков тарифа ultra 94203.41839614812\n"
     ]
    }
   ],
   "source": [
    "# читаем дисперсию для звонков тарифа smart\n",
    "variance_duration_smart = np.var(smart_users['duration'], ddof=1)\n",
    "print('Дисперсия для звонков тарифа smart', variance_duration_smart)\n",
    "\n",
    "# читаем дисперсию для звонков тарифа ultra\n",
    "variance_duration_ultra = np.var(ultra_users['duration'], ddof=1)\n",
    "print('Дисперсия для звонков тарифа ultra', variance_duration_ultra)"
   ]
  },
  {
   "cell_type": "code",
   "execution_count": 24,
   "metadata": {},
   "outputs": [
    {
     "name": "stdout",
     "output_type": "stream",
     "text": [
      "Стандартное отклонение длительности звонков по тарифу smart 189.3256177894154\n",
      "Стандартное отклонение длительности звонков по тарифу ultra 306.92575388218586\n"
     ]
    }
   ],
   "source": [
    "# находим стандартное отклонение для звонков в тарифе smart\n",
    "st_duration_smart = np.sqrt(variance_duration_smart)\n",
    "print('Стандартное отклонение длительности звонков по тарифу smart', st_duration_smart)\n",
    "\n",
    "# находим стандартное отклонение для звонков в тарифе ultra\n",
    "st_duration_ultra = np.sqrt(variance_duration_ultra)\n",
    "print('Стандартное отклонение длительности звонков по тарифу ultra', st_duration_ultra)"
   ]
  },
  {
   "cell_type": "code",
   "execution_count": 25,
   "metadata": {},
   "outputs": [
    {
     "data": {
      "text/plain": [
       "Text(0.5, 1.0, 'Гистограмма звонков тарифа smart')"
      ]
     },
     "execution_count": 25,
     "metadata": {},
     "output_type": "execute_result"
    },
    {
     "data": {
      "image/png": "[encoded data removed]",
      "text/plain": [
       "<Figure size 1080x360 with 1 Axes>"
      ]
     },
     "metadata": {
      "needs_background": "light"
     },
     "output_type": "display_data"
    }
   ],
   "source": [
    "# строим гистограмму для тарифа smart\n",
    "smart_users['duration'].hist(bins=50, figsize=(15,5), color='forestgreen')\n",
    "plt.title('Гистограмма звонков тарифа smart')"
   ]
  },
  {
   "cell_type": "markdown",
   "metadata": {},
   "source": [
    "Из гистограммы видим, что в основном длительность звонков находится в итервале от 200 до 620 минут. Звонки длиннее 700 минут встречаются гораздо реже, и видим аномально долгие звонки, превышающие 1000 мин."
   ]
  },
  {
   "cell_type": "code",
   "execution_count": 26,
   "metadata": {},
   "outputs": [
    {
     "data": {
      "text/plain": [
       "Text(0.5, 1.0, 'Гистограмма звонков тарифа ultra')"
      ]
     },
     "execution_count": 26,
     "metadata": {},
     "output_type": "execute_result"
    },
    {
     "data": {
      "image/png": "[encoded data removed]",
      "text/plain": [
       "<Figure size 1080x360 with 1 Axes>"
      ]
     },
     "metadata": {
      "needs_background": "light"
     },
     "output_type": "display_data"
    }
   ],
   "source": [
    "# строим гистограмму для тарифа ultra\n",
    "ultra_users['duration'].hist(bins=50, figsize=(15,5), color='forestgreen')\n",
    "plt.title('Гистограмма звонков тарифа ultra')"
   ]
  },
  {
   "cell_type": "markdown",
   "metadata": {},
   "source": [
    "Из гистаграммы видим, что в основном длительность звонков в тарифе ultra находится в итервале от 200 до 850 минут. Далее видим плавный \"хвост\" звонков. В данном тарифе видно, что более долгие звонки встречаются чаще, и аномально большие значения находятся в диапазоне 1600 мин."
   ]
  },
  {
   "cell_type": "code",
   "execution_count": 27,
   "metadata": {},
   "outputs": [
    {
     "data": {
      "image/png": "[encoded data removed]",
      "text/plain": [
       "<Figure size 720x576 with 1 Axes>"
      ]
     },
     "metadata": {
      "needs_background": "light"
     },
     "output_type": "display_data"
    }
   ],
   "source": [
    "\n",
    "import seaborn as sns\n",
    "colors = ['lightskyblue', 'forestgreen']\n",
    "sns.set_palette(colors)\n",
    "\n",
    "final_data.groupby('tariff')['duration'].plot.hist(alpha=0.5, legend=True, bins=25, figsize=(10,8))\n",
    "\n",
    "plt.legend(['Смарт', 'Ультра'])\n",
    "plt.title('Общая гистограмма')\n",
    "\n",
    "plt.show()"
   ]
  },
  {
   "cell_type": "markdown",
   "metadata": {},
   "source": [
    "### Вывод\n"
   ]
  },
  {
   "cell_type": "markdown",
   "metadata": {},
   "source": [
    "Проанализировав данные длительности звонков 2х тарифов можно сделать вывод, что средняя и медианная длительность звонков в тарифах smart и ultra отличается Среднее значение минут по тарифу smart 419 и среднее значение минут по тарифу ultra 545. Пользоватнли тарифа ultra соверают более длинные звонки. \n",
    "\n",
    "Стандартное отклонение длительности звонков по тарифу smart составляет 189 и по тарифу ultra 306. Для тарифа ultra коллебания выше, что видно на гистаграмме.\n",
    "\n",
    "Из гистаграммы видим, что в основном длительность звонков для тарифа smart находится в итервале от 200 до 620 минут. Звонки длиннее 700 минут встречаются гораздо реже, и видим аномально долгие звонки, превышающие 1000 мин. Длительность звонков в тарифе ultra находится в интервале от 200 до 850 минут. В данном тарифе видно, что более долгие звонки встречаются чаще, и аномально большие значения находятся в диапазоне 1600 мин.\n",
    "\n",
    "\n"
   ]
  },
  {
   "cell_type": "markdown",
   "metadata": {},
   "source": [
    "### Проанализируем поведение пользователей тарифа smart  и ultra относительно сообщений"
   ]
  },
  {
   "cell_type": "code",
   "execution_count": 28,
   "metadata": {},
   "outputs": [
    {
     "data": {
      "text/plain": [
       "count    1922.000000\n",
       "mean       38.716441\n",
       "std        26.787949\n",
       "min         1.000000\n",
       "25%        17.000000\n",
       "50%        34.000000\n",
       "75%        55.000000\n",
       "max       143.000000\n",
       "Name: total_messages, dtype: float64"
      ]
     },
     "execution_count": 28,
     "metadata": {},
     "output_type": "execute_result"
    }
   ],
   "source": [
    "# посмотрим на основную информацию по сообщениям по обоим тарифам\n",
    "smart_users['total_messages'].describe()"
   ]
  },
  {
   "cell_type": "markdown",
   "metadata": {},
   "source": [
    "Видим, что в среднем пользователи тарифа smart отправляют по 38 сообщений в месяц. Медиана - 34 сообщения, минимальное - 1 и максимальное - 143."
   ]
  },
  {
   "cell_type": "code",
   "execution_count": 29,
   "metadata": {},
   "outputs": [
    {
     "data": {
      "text/plain": [
       "count    795.000000\n",
       "mean      61.161006\n",
       "std       45.931026\n",
       "min        1.000000\n",
       "25%       24.000000\n",
       "50%       51.000000\n",
       "75%       87.500000\n",
       "max      224.000000\n",
       "Name: total_messages, dtype: float64"
      ]
     },
     "execution_count": 29,
     "metadata": {},
     "output_type": "execute_result"
    }
   ],
   "source": [
    "ultra_users['total_messages'].describe()"
   ]
  },
  {
   "cell_type": "markdown",
   "metadata": {},
   "source": [
    "Видим, что в среднем пользователи тарифа ultra отправляют в полтора раза больше сообщений по сравнению с тарифом smart - 61 сообщений в месяц. Медиана - 51 сообщения, минимальное - 1 и максимальное - 224."
   ]
  },
  {
   "cell_type": "code",
   "execution_count": 30,
   "metadata": {},
   "outputs": [
    {
     "name": "stdout",
     "output_type": "stream",
     "text": [
      "Среднее значение сообщений по тарифу smart 38.71644120707596\n",
      "Среднее значение сообщений по тарифу ultra 61.161006289308176\n"
     ]
    }
   ],
   "source": [
    "# считаем среднее для тарифа smart\n",
    "mean_messages_smart = smart_users['total_messages'].mean()\n",
    "print(\"Среднее значение сообщений по тарифу smart\", mean_messages_smart)\n",
    "\n",
    "# считаем среднее дл тарифа ultra\n",
    "mean_messages_ultra = ultra_users['total_messages'].mean()\n",
    "print(\"Среднее значение сообщений по тарифу ultra\", mean_messages_ultra)"
   ]
  },
  {
   "cell_type": "code",
   "execution_count": 31,
   "metadata": {},
   "outputs": [
    {
     "name": "stdout",
     "output_type": "stream",
     "text": [
      "Дисперсия для сообщений тарифа smart 717.5942011753547\n",
      "Дисперсия для сообщений тарифа ultra 2109.6591828651995\n"
     ]
    }
   ],
   "source": [
    "# читаем дисперсию для сообщений тарифа smart\n",
    "variance_messages_smart = np.var(smart_users['total_messages'], ddof=1)\n",
    "print('Дисперсия для сообщений тарифа smart', variance_messages_smart)\n",
    "\n",
    "# читаем дисперсию для сообщений тарифа ultra\n",
    "variance_messages_ultra = np.var(ultra_users['total_messages'], ddof=1)\n",
    "print('Дисперсия для сообщений тарифа ultra', variance_messages_ultra)"
   ]
  },
  {
   "cell_type": "code",
   "execution_count": 32,
   "metadata": {},
   "outputs": [
    {
     "name": "stdout",
     "output_type": "stream",
     "text": [
      "Стандартное отклонение сообщений по тарифу smart 26.787948804926344\n",
      "Стандартное отклонение сообщений по тарифу ultra 45.93102636416042\n"
     ]
    }
   ],
   "source": [
    "# находим стандартное отклонение для сообщений в тарифе smart\n",
    "st_messages_smart = np.sqrt(variance_messages_smart)\n",
    "print('Стандартное отклонение сообщений по тарифу smart', st_messages_smart)\n",
    "\n",
    "# находим стандартное отклонение для сообщений в тарифе ultra\n",
    "st_messages_ultra = np.sqrt(variance_messages_ultra)\n",
    "print('Стандартное отклонение сообщений по тарифу ultra', st_messages_ultra)"
   ]
  },
  {
   "cell_type": "code",
   "execution_count": 33,
   "metadata": {},
   "outputs": [
    {
     "data": {
      "text/plain": [
       "Text(0.5, 1.0, 'Гистограмма сообщений тарифа smart')"
      ]
     },
     "execution_count": 33,
     "metadata": {},
     "output_type": "execute_result"
    },
    {
     "data": {
      "image/png": "[encoded data removed]",
      "text/plain": [
       "<Figure size 1080x360 with 1 Axes>"
      ]
     },
     "metadata": {
      "needs_background": "light"
     },
     "output_type": "display_data"
    }
   ],
   "source": [
    "# строим гистограмму для тарифа smart\n",
    "smart_users['total_messages'].hist(bins=50, figsize=(15,5), color='orange')\n",
    "plt.title('Гистограмма сообщений тарифа smart')\n"
   ]
  },
  {
   "cell_type": "markdown",
   "metadata": {},
   "source": [
    "Из гистограммы видим, что пользователи тарифа smart в среднем отправляют около 40 сообщений, посл е отметки 60 количество сообщений уменьшается, и видно, что пользователей, отправляющих больше 100 сообщений в месяц очень мало."
   ]
  },
  {
   "cell_type": "code",
   "execution_count": 34,
   "metadata": {},
   "outputs": [
    {
     "data": {
      "text/plain": [
       "Text(0.5, 1.0, 'Гистограмма сообщений тарифа ultra')"
      ]
     },
     "execution_count": 34,
     "metadata": {},
     "output_type": "execute_result"
    },
    {
     "data": {
      "image/png": "[encoded data removed]",
      "text/plain": [
       "<Figure size 1080x360 with 1 Axes>"
      ]
     },
     "metadata": {
      "needs_background": "light"
     },
     "output_type": "display_data"
    }
   ],
   "source": [
    "# строим гистограмму для тарифа ultra\n",
    "ultra_users['total_messages'].hist(bins=50, figsize=(15,5), color='orange')\n",
    "plt.title('Гистограмма сообщений тарифа ultra')"
   ]
  },
  {
   "cell_type": "markdown",
   "metadata": {},
   "source": [
    "На данной гистограмме видим пик в отметке 0. Видимо, мноие пользователи тарифа не используют пакет сообщений. Видно, что данные распределены неравномерно. Оджнако среднее число сообщений находится в отметке 61. Стандартное отклонение для тарифа ultra = 45, это как раз объясняет одиночные пики на шрафике после отметки 60 и далее. Возможно, есть пользователи, которые очень любят смс."
   ]
  },
  {
   "cell_type": "markdown",
   "metadata": {},
   "source": [
    "### Вывод"
   ]
  },
  {
   "cell_type": "markdown",
   "metadata": {},
   "source": [
    "Проанализировав данные сообщений 2х тарифов можно сделать вывод, что среднее и медианное количества сообщений в тарифах smart и ultra также отличается. Среднее значение сообщений по тарифу smart 38 и среднее значение сообщений по тарифу ultra 61. Пользоватнли тарифа ultra шлют существенно больше сообщений. \n",
    "\n",
    "Стандартное отклонение количества сообщений по тарифу smart составляет 26 и по тарифу ultra 45. Для тарифа ultra коллебания также выше.\n",
    "\n",
    "Из гистограммы видим, что в основном количество сообщений для тарифа smart находится в итервале от 20 до 90. Однако на гистограмме видны пики после среднего значения, и медиана ниже среднего (51 vs 61 соответственно). Есть аномалии в более, чем 200 сообщений. В тарифе ultra пользователи, очевидно, пользуются сообщениями чаще, чем в тарифе smart."
   ]
  },
  {
   "cell_type": "markdown",
   "metadata": {},
   "source": [
    "### Проанализируем поведение пользователей тарифа smart  и ultra относительно трафика"
   ]
  },
  {
   "cell_type": "code",
   "execution_count": 35,
   "metadata": {},
   "outputs": [
    {
     "data": {
      "text/plain": [
       "count    2228.000000\n",
       "mean       16.336176\n",
       "std         5.737923\n",
       "min         0.000000\n",
       "25%        13.000000\n",
       "50%        17.000000\n",
       "75%        20.000000\n",
       "max        38.000000\n",
       "Name: total_traffic_gb, dtype: float64"
      ]
     },
     "execution_count": 35,
     "metadata": {},
     "output_type": "execute_result"
    }
   ],
   "source": [
    "# посмотрим на основную информацию по трафику по обоим тарифам\n",
    "smart_users['total_traffic_gb'].describe()"
   ]
  },
  {
   "cell_type": "markdown",
   "metadata": {},
   "source": [
    "Видим, что в среднем пользователи тарифа smart используют 16 Гб в месяц. Медиана - 17 Гб, минимальное - 0 и максимальное - 38."
   ]
  },
  {
   "cell_type": "code",
   "execution_count": 36,
   "metadata": {},
   "outputs": [
    {
     "data": {
      "text/plain": [
       "count    975.000000\n",
       "mean      19.694359\n",
       "std        9.702924\n",
       "min        0.000000\n",
       "25%       12.000000\n",
       "50%       19.000000\n",
       "75%       27.000000\n",
       "max       49.000000\n",
       "Name: total_traffic_gb, dtype: float64"
      ]
     },
     "execution_count": 36,
     "metadata": {},
     "output_type": "execute_result"
    }
   ],
   "source": [
    "ultra_users['total_traffic_gb'].describe()"
   ]
  },
  {
   "cell_type": "markdown",
   "metadata": {},
   "source": [
    "Видим, что в среднем пользователи тарифа smart используют больше интернета - 19 Гб в месяц. Медиана - 19 Гб, минимальное - 0 и максимальное - 49."
   ]
  },
  {
   "cell_type": "code",
   "execution_count": 37,
   "metadata": {},
   "outputs": [
    {
     "name": "stdout",
     "output_type": "stream",
     "text": [
      "Среднее значение трафика по тарифу smart 16.33617594254937\n",
      "Среднее значение трафика по тарифу ultra 19.694358974358973\n"
     ]
    }
   ],
   "source": [
    "# считаем среднее для тарифа smart\n",
    "mean_traffic_smart = smart_users['total_traffic_gb'].mean()\n",
    "print(\"Среднее значение трафика по тарифу smart\", mean_traffic_smart)\n",
    "\n",
    "# считаем среднее дл тарифа ultra\n",
    "mean_traffic_ultra = ultra_users['total_traffic_gb'].mean()\n",
    "print(\"Среднее значение трафика по тарифу ultra\", mean_traffic_ultra)"
   ]
  },
  {
   "cell_type": "code",
   "execution_count": 38,
   "metadata": {},
   "outputs": [
    {
     "name": "stdout",
     "output_type": "stream",
     "text": [
      "Дисперсия для трафика тарифа smart 32.92375582354312\n",
      "Дисперсия для трафика тарифа ultra 94.14673405991682\n"
     ]
    }
   ],
   "source": [
    "# читаем дисперсию для трафика тарифа smart\n",
    "variance_traffic_smart = np.var(smart_users['total_traffic_gb'], ddof=1)\n",
    "print('Дисперсия для трафика тарифа smart', variance_traffic_smart)\n",
    "\n",
    "# читаем дисперсию для трафика тарифа ultra\n",
    "variance_traffic_ultra = np.var(ultra_users['total_traffic_gb'], ddof=1)\n",
    "print('Дисперсия для трафика тарифа ultra', variance_traffic_ultra)"
   ]
  },
  {
   "cell_type": "code",
   "execution_count": 39,
   "metadata": {},
   "outputs": [
    {
     "name": "stdout",
     "output_type": "stream",
     "text": [
      "Стандартное отклонение трафика по тарифу smart 5.737922605224221\n",
      "Стандартное отклонение трафика по тарифу ultra 9.70292399536948\n"
     ]
    }
   ],
   "source": [
    "# находим стандартное отклонение для трафика в тарифе smart\n",
    "st_traffic_smart = np.sqrt(variance_traffic_smart)\n",
    "print('Стандартное отклонение трафика по тарифу smart', st_traffic_smart)\n",
    "\n",
    "# находим стандартное отклонение для трафика в тарифе ultra\n",
    "st_traffic_ultra = np.sqrt(variance_traffic_ultra)\n",
    "print('Стандартное отклонение трафика по тарифу ultra', st_traffic_ultra)"
   ]
  },
  {
   "cell_type": "code",
   "execution_count": 40,
   "metadata": {},
   "outputs": [
    {
     "data": {
      "text/plain": [
       "Text(0.5, 1.0, 'Гистограмма трафика тарифа smart')"
      ]
     },
     "execution_count": 40,
     "metadata": {},
     "output_type": "execute_result"
    },
    {
     "data": {
      "image/png": "[encoded data removed]",
      "text/plain": [
       "<Figure size 1080x360 with 1 Axes>"
      ]
     },
     "metadata": {
      "needs_background": "light"
     },
     "output_type": "display_data"
    }
   ],
   "source": [
    "# строим гистограмму для тарифа smart\n",
    "smart_users['total_traffic_gb'].hist(bins=50, figsize=(15,5), color='darkmagenta')\n",
    "plt.title('Гистограмма трафика тарифа smart')"
   ]
  },
  {
   "cell_type": "markdown",
   "metadata": {},
   "source": [
    "На гистограмме видим, что трафик в основном распределен междку значениями от 13 до 23 Гб в месяц. По форме гистограмма выдант нормальное распределение. Есть небольшой \"хвост\" из больших значений, однака после отметки 30 они почти не втречаются."
   ]
  },
  {
   "cell_type": "code",
   "execution_count": 41,
   "metadata": {},
   "outputs": [
    {
     "data": {
      "text/plain": [
       "Text(0.5, 1.0, 'Гистограмма трафика тарифа ultra')"
      ]
     },
     "execution_count": 41,
     "metadata": {},
     "output_type": "execute_result"
    },
    {
     "data": {
      "image/png": "[encoded data removed]",
      "text/plain": [
       "<Figure size 1080x360 with 1 Axes>"
      ]
     },
     "metadata": {
      "needs_background": "light"
     },
     "output_type": "display_data"
    }
   ],
   "source": [
    "# строим гистограмму для тарифа ultra\n",
    "ultra_users['total_traffic_gb'].hist(bins=50, figsize=(15,5), color='darkmagenta')\n",
    "plt.title('Гистограмма трафика тарифа ultra')"
   ]
  },
  {
   "cell_type": "markdown",
   "metadata": {},
   "source": [
    "На гистограмме трафика тарифа ultra видно, что значения распределены менее равномерно. Встречаются скачки после среднего. В основном данные распределены в промежутке 9 - 29 при равном среднем и медианном (19), при стандартном отклонении 9. "
   ]
  },
  {
   "cell_type": "markdown",
   "metadata": {},
   "source": [
    "### Вывод"
   ]
  },
  {
   "cell_type": "markdown",
   "metadata": {},
   "source": [
    "Проанализировав данные трафика 2х тарифов можно сделать вывод, что среднее и медианное количества сообщений в тарифах smart и ultra также отличается. Среднее значение трафика по тарифу smart 16 и среднее значение по тарифу ultra 91. Пользоватнли тарифа ultra более активно пользуются интернетом.\n",
    "\n",
    "Стандартное отклонение количества по тарифу smart составляет 5.7 и по тарифу ultra 9.7. Для тарифа ultra коллебания также выше.\n",
    "\n",
    "Из гистограммы видим, что в основном объем трафика для тарифа smart находится в итервале от 13 до 23 Гб, а для тарифа ultra это 9 и 29. Есть аномалии в более, чем в 30 и 40 Гб соответственно. В тарифе ultra пользователи, очевидно, пользуются интренетом больше, чем в тарифе smart."
   ]
  },
  {
   "cell_type": "markdown",
   "metadata": {},
   "source": [
    "### Общий вывод по анализу"
   ]
  },
  {
   "cell_type": "markdown",
   "metadata": {},
   "source": [
    "Проанализировав поведение пользователей тарифов smart и ultra можно выявить следующую закономерность. \n",
    "Пользователи тарифа ultra пользуются всеми видами услуг больше, что ожидаемо. \n"
   ]
  },
  {
   "cell_type": "code",
   "execution_count": 42,
   "metadata": {},
   "outputs": [
    {
     "data": {
      "text/html": [
       "<div>\n",
       "<style scoped>\n",
       "    .dataframe tbody tr th:only-of-type {\n",
       "        vertical-align: middle;\n",
       "    }\n",
       "\n",
       "    .dataframe tbody tr th {\n",
       "        vertical-align: top;\n",
       "    }\n",
       "\n",
       "    .dataframe thead tr th {\n",
       "        text-align: left;\n",
       "    }\n",
       "\n",
       "    .dataframe thead tr:last-of-type th {\n",
       "        text-align: right;\n",
       "    }\n",
       "</style>\n",
       "<table border=\"1\" class=\"dataframe\">\n",
       "  <thead>\n",
       "    <tr>\n",
       "      <th></th>\n",
       "      <th colspan=\"3\" halign=\"left\">mean</th>\n",
       "      <th colspan=\"3\" halign=\"left\">std</th>\n",
       "      <th colspan=\"3\" halign=\"left\">var</th>\n",
       "    </tr>\n",
       "    <tr>\n",
       "      <th></th>\n",
       "      <th>duration</th>\n",
       "      <th>total_messages</th>\n",
       "      <th>total_traffic_gb</th>\n",
       "      <th>duration</th>\n",
       "      <th>total_messages</th>\n",
       "      <th>total_traffic_gb</th>\n",
       "      <th>duration</th>\n",
       "      <th>total_messages</th>\n",
       "      <th>total_traffic_gb</th>\n",
       "    </tr>\n",
       "    <tr>\n",
       "      <th>tariff</th>\n",
       "      <th></th>\n",
       "      <th></th>\n",
       "      <th></th>\n",
       "      <th></th>\n",
       "      <th></th>\n",
       "      <th></th>\n",
       "      <th></th>\n",
       "      <th></th>\n",
       "      <th></th>\n",
       "    </tr>\n",
       "  </thead>\n",
       "  <tbody>\n",
       "    <tr>\n",
       "      <th>smart</th>\n",
       "      <td>419.062978</td>\n",
       "      <td>38.716441</td>\n",
       "      <td>16.336176</td>\n",
       "      <td>189.325618</td>\n",
       "      <td>26.787949</td>\n",
       "      <td>5.737923</td>\n",
       "      <td>35844.189551</td>\n",
       "      <td>717.594201</td>\n",
       "      <td>32.923756</td>\n",
       "    </tr>\n",
       "    <tr>\n",
       "      <th>ultra</th>\n",
       "      <td>545.451104</td>\n",
       "      <td>61.161006</td>\n",
       "      <td>19.694359</td>\n",
       "      <td>306.925754</td>\n",
       "      <td>45.931026</td>\n",
       "      <td>9.702924</td>\n",
       "      <td>94203.418396</td>\n",
       "      <td>2109.659183</td>\n",
       "      <td>94.146734</td>\n",
       "    </tr>\n",
       "  </tbody>\n",
       "</table>\n",
       "</div>"
      ],
      "text/plain": [
       "              mean                                         std                 \\\n",
       "          duration total_messages total_traffic_gb    duration total_messages   \n",
       "tariff                                                                          \n",
       "smart   419.062978      38.716441        16.336176  189.325618      26.787949   \n",
       "ultra   545.451104      61.161006        19.694359  306.925754      45.931026   \n",
       "\n",
       "                                  var                                  \n",
       "       total_traffic_gb      duration total_messages total_traffic_gb  \n",
       "tariff                                                                 \n",
       "smart          5.737923  35844.189551     717.594201        32.923756  \n",
       "ultra          9.702924  94203.418396    2109.659183        94.146734  "
      ]
     },
     "execution_count": 42,
     "metadata": {},
     "output_type": "execute_result"
    }
   ],
   "source": [
    "# КОД РЕВЬЮЕРА\n",
    "\n",
    "final_data.pivot_table(index='tariff', values=['duration', 'total_messages', 'total_traffic_gb'],\n",
    "                       aggfunc=['mean', 'std', 'var'])"
   ]
  },
  {
   "cell_type": "code",
   "execution_count": 48,
   "metadata": {},
   "outputs": [
    {
     "name": "stdout",
     "output_type": "stream",
     "text": [
      "MultiIndex([(        'duration', 'mean'),\n",
      "            (        'duration',  'var'),\n",
      "            (        'duration',  'std'),\n",
      "            (  'total_messages', 'mean'),\n",
      "            (  'total_messages',  'var'),\n",
      "            (  'total_messages',  'std'),\n",
      "            ('total_traffic_gb', 'mean'),\n",
      "            ('total_traffic_gb',  'var'),\n",
      "            ('total_traffic_gb',  'std')],\n",
      "           )\n",
      "\n",
      "\n",
      "\n",
      "Индексы:  ('duration', 'mean') Первый:  duration Второй:  mean\n"
     ]
    },
    {
     "data": {
      "text/html": [
       "<div>\n",
       "<style scoped>\n",
       "    .dataframe tbody tr th:only-of-type {\n",
       "        vertical-align: middle;\n",
       "    }\n",
       "\n",
       "    .dataframe tbody tr th {\n",
       "        vertical-align: top;\n",
       "    }\n",
       "\n",
       "    .dataframe thead tr th {\n",
       "        text-align: left;\n",
       "    }\n",
       "</style>\n",
       "<table border=\"1\" class=\"dataframe\">\n",
       "  <thead>\n",
       "    <tr>\n",
       "      <th></th>\n",
       "      <th colspan=\"3\" halign=\"left\">duration</th>\n",
       "      <th colspan=\"3\" halign=\"left\">total_messages</th>\n",
       "      <th colspan=\"3\" halign=\"left\">total_traffic_gb</th>\n",
       "    </tr>\n",
       "    <tr>\n",
       "      <th></th>\n",
       "      <th>mean</th>\n",
       "      <th>var</th>\n",
       "      <th>std</th>\n",
       "      <th>mean</th>\n",
       "      <th>var</th>\n",
       "      <th>std</th>\n",
       "      <th>mean</th>\n",
       "      <th>var</th>\n",
       "      <th>std</th>\n",
       "    </tr>\n",
       "  </thead>\n",
       "  <tbody>\n",
       "    <tr>\n",
       "      <th>smart</th>\n",
       "      <td>419.06</td>\n",
       "      <td>35844.19</td>\n",
       "      <td>189.33</td>\n",
       "      <td>38.72</td>\n",
       "      <td>717.59</td>\n",
       "      <td>26.79</td>\n",
       "      <td>16.34</td>\n",
       "      <td>32.92</td>\n",
       "      <td>5.74</td>\n",
       "    </tr>\n",
       "    <tr>\n",
       "      <th>ultra</th>\n",
       "      <td>545.45</td>\n",
       "      <td>94203.42</td>\n",
       "      <td>306.93</td>\n",
       "      <td>61.16</td>\n",
       "      <td>2109.66</td>\n",
       "      <td>45.93</td>\n",
       "      <td>19.69</td>\n",
       "      <td>94.15</td>\n",
       "      <td>9.7</td>\n",
       "    </tr>\n",
       "  </tbody>\n",
       "</table>\n",
       "</div>"
      ],
      "text/plain": [
       "      duration                   total_messages                  \\\n",
       "          mean       var     std           mean      var    std   \n",
       "smart   419.06  35844.19  189.33          38.72   717.59  26.79   \n",
       "ultra   545.45  94203.42  306.93          61.16  2109.66  45.93   \n",
       "\n",
       "      total_traffic_gb               \n",
       "                  mean    var   std  \n",
       "smart            16.34  32.92  5.74  \n",
       "ultra            19.69  94.15   9.7  "
      ]
     },
     "execution_count": 48,
     "metadata": {},
     "output_type": "execute_result"
    }
   ],
   "source": [
    "# мультиндекс\n",
    "l1 = ['duration', 'total_messages', 'total_traffic_gb']\n",
    "l2 = ['mean', 'var', 'std']\n",
    "idx = pd.MultiIndex.from_product([l1, l2])\n",
    "\n",
    "\n",
    "print(idx)\n",
    "\n",
    "print('\\n\\n\\nИндексы: ', idx[0], 'Первый: ', idx[0][0], 'Второй: ', idx[0][1])\n",
    "\n",
    "df = pd.DataFrame(index=['smart', 'ultra'], columns=idx)\n",
    "\n",
    "for i in df.columns:\n",
    "    #  Срез по первому индексу, агрегирование — по второму. \n",
    "    df.loc['smart',i] = np.round(final_data.query('tariff==\"smart\"')[i[0]].agg(i[1]),2)\n",
    "    df.loc['ultra',i] = np.round(final_data.query('tariff==\"ultra\"')[i[0]].agg(i[1]),2)\n",
    "    \n",
    "df    "
   ]
  },
  {
   "cell_type": "markdown",
   "metadata": {},
   "source": [
    "## Проверка гипотез"
   ]
  },
  {
   "cell_type": "markdown",
   "metadata": {},
   "source": [
    "### Различается ли средняя выручка по тарифам"
   ]
  },
  {
   "cell_type": "markdown",
   "metadata": {},
   "source": [
    "Проверяем гипотезу, что выручка тарифов smart и ultra различается. Пусть нулевая гипотеза Н0 значит, что средняя выручка равна, альтернативная Н1 - то, что выручка не равна. Пороговое значение 5%."
   ]
  },
  {
   "cell_type": "code",
   "execution_count": 44,
   "metadata": {},
   "outputs": [
    {
     "data": {
      "text/plain": [
       "1290.6778067885118"
      ]
     },
     "metadata": {},
     "output_type": "display_data"
    },
    {
     "data": {
      "text/plain": [
       "2048.936170212766"
      ]
     },
     "metadata": {},
     "output_type": "display_data"
    }
   ],
   "source": [
    "display(smart_users['total_income'].mean())\n",
    "display(ultra_users['total_income'].mean())"
   ]
  },
  {
   "cell_type": "code",
   "execution_count": 45,
   "metadata": {},
   "outputs": [
    {
     "name": "stdout",
     "output_type": "stream",
     "text": [
      "p-значение 1.1515961964890638e-119\n",
      "Отвергаем нулевую гипотезу\n"
     ]
    },
    {
     "name": "stderr",
     "output_type": "stream",
     "text": [
      "/tmp/ipykernel_162/1468683447.py:3: SettingWithCopyWarning: \n",
      "A value is trying to be set on a copy of a slice from a DataFrame\n",
      "\n",
      "See the caveats in the documentation: https://pandas.pydata.org/pandas-docs/stable/user_guide/indexing.html#returning-a-view-versus-a-copy\n",
      "  smart_users.dropna(subset = ['total_income'], inplace=True)\n",
      "/tmp/ipykernel_162/1468683447.py:4: SettingWithCopyWarning: \n",
      "A value is trying to be set on a copy of a slice from a DataFrame\n",
      "\n",
      "See the caveats in the documentation: https://pandas.pydata.org/pandas-docs/stable/user_guide/indexing.html#returning-a-view-versus-a-copy\n",
      "  ultra_users.dropna(subset = ['total_income'], inplace=True)\n"
     ]
    }
   ],
   "source": [
    "# проверим гипотезу, что средняя выручка от двух тарифов отличается\n",
    "# зададим потоговое значение 5% и проверим двустороннюю гипотезу\n",
    "smart_users.dropna(subset = ['total_income'], inplace=True)\n",
    "ultra_users.dropna(subset = ['total_income'], inplace=True)\n",
    "\n",
    "alpha = .05\n",
    "results = st.ttest_ind(\n",
    "    smart_users['total_income'],\n",
    "    ultra_users['total_income'])\n",
    "\n",
    "print('p-значение', results.pvalue)\n",
    "\n",
    "if results.pvalue < alpha:\n",
    "    print(\"Отвергаем нулевую гипотезу\")\n",
    "else:\n",
    "    print(\"Не получилось отвергнуть нулевую гипотезу\") \n"
   ]
  },
  {
   "cell_type": "markdown",
   "metadata": {},
   "source": [
    "### Средняя выручка пользователей из Москвы отличается от выручки пользователей из других регионов"
   ]
  },
  {
   "cell_type": "markdown",
   "metadata": {},
   "source": [
    "Проверяем гипотезу, что выручка тарифов в Москве и в других городах различается. Пусть нулевая гипотеза Н0 значит, что средняя выручка равна, альтернативная Н1 - то, что выручка не равна. Пороговое значение 5%."
   ]
  },
  {
   "cell_type": "code",
   "execution_count": 46,
   "metadata": {},
   "outputs": [
    {
     "name": "stdout",
     "output_type": "stream",
     "text": [
      "Средняя выручка по Москве 1554.7107942973523\n",
      "Средняя выручка по другим городам 1493.1456801470588\n"
     ]
    }
   ],
   "source": [
    "# выделяем абонентов из Москвы и находим среднюю выручку для них\n",
    "moscow_users = final_data.query('city == \"Москва\"')\n",
    "mean_moscow_users = moscow_users['total_income'].mean()\n",
    "print('Средняя выручка по Москве', mean_moscow_users)\n",
    "\n",
    "# выделяем абонентов не из Москвы и находим среднюю выручку для них\n",
    "other_users = final_data.query('city != \"Москва\"')\n",
    "mean_other_users = other_users['total_income'].mean()\n",
    "print('Средняя выручка по другим городам', mean_other_users)\n",
    "\n"
   ]
  },
  {
   "cell_type": "code",
   "execution_count": 47,
   "metadata": {},
   "outputs": [
    {
     "name": "stdout",
     "output_type": "stream",
     "text": [
      "p-значение 0.12167256176036186\n",
      "Не получилось отвергнуть нулевую гипотезу\n"
     ]
    },
    {
     "name": "stderr",
     "output_type": "stream",
     "text": [
      "/tmp/ipykernel_162/1477036254.py:2: SettingWithCopyWarning: \n",
      "A value is trying to be set on a copy of a slice from a DataFrame\n",
      "\n",
      "See the caveats in the documentation: https://pandas.pydata.org/pandas-docs/stable/user_guide/indexing.html#returning-a-view-versus-a-copy\n",
      "  moscow_users.dropna(subset = ['total_income'], inplace=True)\n",
      "/tmp/ipykernel_162/1477036254.py:3: SettingWithCopyWarning: \n",
      "A value is trying to be set on a copy of a slice from a DataFrame\n",
      "\n",
      "See the caveats in the documentation: https://pandas.pydata.org/pandas-docs/stable/user_guide/indexing.html#returning-a-view-versus-a-copy\n",
      "  other_users.dropna(subset = ['total_income'], inplace=True)\n"
     ]
    }
   ],
   "source": [
    "# # зададим потоговое значение 5% и проверим двустороннюю гипотезу\n",
    "moscow_users.dropna(subset = ['total_income'], inplace=True)\n",
    "other_users.dropna(subset = ['total_income'], inplace=True)\n",
    "\n",
    "alpha = .05\n",
    "results = st.ttest_ind(\n",
    "    moscow_users['total_income'],\n",
    "    other_users['total_income'])\n",
    "\n",
    "print('p-значение', results.pvalue)\n",
    "\n",
    "if results.pvalue < alpha:\n",
    "    print(\"Отвергаем нулевую гипотезу\")\n",
    "else:\n",
    "    print(\"Не получилось отвергнуть нулевую гипотезу\") "
   ]
  },
  {
   "cell_type": "markdown",
   "metadata": {},
   "source": [
    "## Вывод по гипотезам"
   ]
  },
  {
   "cell_type": "markdown",
   "metadata": {},
   "source": [
    "По итогам проведения t-тестов удалось выяснить:\n",
    "- выручка по тарифам smart и ultra отличается,\n",
    "- выручка по Москве и другим городам не различается."
   ]
  },
  {
   "cell_type": "markdown",
   "metadata": {},
   "source": [
    "## Общий вывод"
   ]
  },
  {
   "cell_type": "markdown",
   "metadata": {},
   "source": [
    "В данном проекте исследовали данные 500 пользователей «Мегалайна»: кто они, откуда, каким тарифом пользуются, сколько звонков и сообщений каждый отправил за 2018 год. Нужно было проанализировать поведение клиентов и сделать вывод — какой тариф лучше для того, чтобы скорректировать рекламный бюджет.\n",
    "\n",
    "На начальном этапе провели подготовку данных, поменяли типы данных и посчитали выручку по тарифам для каждого пользователя. \n",
    "Для некоторых столбцов изменили на datetime, чтобы можно было выделить месяц. В звонках и трафике были обнаружены нулевые значения, однако логичнее всего их не трогать, так как это значит, что человек либо не пользовался услугой в тарифе, либо это пропущенные звонки.\n",
    "\n",
    "Далее посчитали для каждого пользователя количество сделанных звонков и израсходованных минут разговора по месяцам, количество отправленных сообщений по месяцам, израсходованный трафик по месяцам, предварительно переведя мегабайты в гигабайты.\n",
    "\n",
    "На последнем этапе посчитали выручку с каждого клиента.\n",
    "\n",
    "Далее провели анализ данных с построением гистограмм. Проанализировав поведение пользователей тарифов smart и ultra можно выявить следующую закономерность. Пользователи тарифа ultra пользуются всеми видами услуг больше, что ожидаемо.\n",
    "\n",
    "Далее провели t-тесты для проверки двусторонних гипотез. По итогам этих тестов выяснили, что:\n",
    "выручка по тарифам smart и ultra отличается (пользователи терифа ultra приносят большую выручку),\n",
    "выручка по Москве и другим городам не различается.\n",
    "\n",
    "На основе анализа можно сделать следующий выводы:\n",
    "- пользователи тарифа smart пользуются услугами пропорционально меньше, чем пользователи ultra. Это касается всех услуг: звонков(среднее 419 мин vs 545 мин), сообщений (38 vs 61) и интернета (16 vs 19 Гб). Однако, эта разница не слишком существенна, с учетом того, на сколько большую выручку приносит тариф ultra.\n",
    "- выручка в Москве и регионах не отличается.\n",
    "Таким образом, можно сделать вывод, что тариф ultra лучше.\n",
    "\n"
   ]
  },
  {
   "cell_type": "code",
   "execution_count": null,
   "metadata": {},
   "outputs": [],
   "source": []
  }
 ],
 "metadata": {
  "ExecuteTimeLog": [
   {
    "duration": 173,
    "start_time": "2022-01-16T13:05:48.905Z"
   },
   {
    "duration": 360,
    "start_time": "2022-01-16T13:07:35.580Z"
   },
   {
    "duration": 168,
    "start_time": "2022-01-16T13:07:56.981Z"
   },
   {
    "duration": 193,
    "start_time": "2022-01-16T13:08:37.435Z"
   },
   {
    "duration": 190,
    "start_time": "2022-01-16T13:09:48.419Z"
   },
   {
    "duration": 192,
    "start_time": "2022-01-16T13:10:28.850Z"
   },
   {
    "duration": 933,
    "start_time": "2022-01-16T13:20:00.028Z"
   },
   {
    "duration": 956,
    "start_time": "2022-01-16T13:20:19.065Z"
   },
   {
    "duration": 1147,
    "start_time": "2022-01-16T13:21:18.592Z"
   },
   {
    "duration": 157,
    "start_time": "2022-01-16T13:21:41.796Z"
   },
   {
    "duration": 111,
    "start_time": "2022-01-16T13:35:45.071Z"
   },
   {
    "duration": 24,
    "start_time": "2022-01-16T13:38:37.002Z"
   },
   {
    "duration": 45,
    "start_time": "2022-01-16T13:46:10.243Z"
   },
   {
    "duration": 38,
    "start_time": "2022-01-16T13:49:30.277Z"
   },
   {
    "duration": 41,
    "start_time": "2022-01-16T13:51:07.909Z"
   },
   {
    "duration": 207,
    "start_time": "2022-01-16T13:53:53.148Z"
   },
   {
    "duration": 160,
    "start_time": "2022-01-16T15:00:52.857Z"
   },
   {
    "duration": 370,
    "start_time": "2022-01-16T19:06:06.250Z"
   },
   {
    "duration": 1112,
    "start_time": "2022-01-16T19:06:24.710Z"
   },
   {
    "duration": 346,
    "start_time": "2022-01-16T19:06:25.825Z"
   },
   {
    "duration": 209,
    "start_time": "2022-01-16T19:06:26.176Z"
   },
   {
    "duration": 41,
    "start_time": "2022-01-16T19:06:26.388Z"
   },
   {
    "duration": 73,
    "start_time": "2022-01-16T19:06:26.432Z"
   },
   {
    "duration": 108,
    "start_time": "2022-01-16T19:06:26.508Z"
   },
   {
    "duration": 211,
    "start_time": "2022-01-16T19:06:26.408Z"
   },
   {
    "duration": 59,
    "start_time": "2022-01-16T19:06:43.350Z"
   },
   {
    "duration": 31,
    "start_time": "2022-01-16T19:07:24.243Z"
   },
   {
    "duration": 37,
    "start_time": "2022-01-16T19:08:06.054Z"
   },
   {
    "duration": 520,
    "start_time": "2022-01-16T19:11:14.850Z"
   },
   {
    "duration": 61,
    "start_time": "2022-01-16T19:11:58.355Z"
   },
   {
    "duration": 50,
    "start_time": "2022-01-16T19:12:07.351Z"
   },
   {
    "duration": 52,
    "start_time": "2022-01-16T19:18:03.839Z"
   },
   {
    "duration": 40,
    "start_time": "2022-01-16T19:18:17.419Z"
   },
   {
    "duration": 55,
    "start_time": "2022-01-16T19:28:49.581Z"
   },
   {
    "duration": 7,
    "start_time": "2022-01-16T19:30:40.655Z"
   },
   {
    "duration": 33,
    "start_time": "2022-01-16T19:42:39.099Z"
   },
   {
    "duration": 390,
    "start_time": "2022-01-16T19:50:29.239Z"
   },
   {
    "duration": 315,
    "start_time": "2022-01-16T19:50:59.234Z"
   },
   {
    "duration": 82,
    "start_time": "2022-01-16T19:51:06.275Z"
   },
   {
    "duration": 832,
    "start_time": "2022-01-16T20:02:13.680Z"
   },
   {
    "duration": 882,
    "start_time": "2022-01-16T20:04:57.857Z"
   },
   {
    "duration": 381,
    "start_time": "2022-01-16T20:13:00.650Z"
   },
   {
    "duration": 321,
    "start_time": "2022-01-16T20:13:31.218Z"
   },
   {
    "duration": 51,
    "start_time": "2022-01-16T20:14:04.063Z"
   },
   {
    "duration": 64,
    "start_time": "2022-01-16T20:18:12.878Z"
   },
   {
    "duration": 64,
    "start_time": "2022-01-16T20:18:33.226Z"
   },
   {
    "duration": 55,
    "start_time": "2022-01-16T20:18:47.295Z"
   },
   {
    "duration": 687,
    "start_time": "2022-01-16T20:31:18.127Z"
   },
   {
    "duration": 49,
    "start_time": "2022-01-16T20:31:55.159Z"
   },
   {
    "duration": 51,
    "start_time": "2022-01-16T20:36:22.845Z"
   },
   {
    "duration": 852,
    "start_time": "2022-01-16T20:48:09.474Z"
   },
   {
    "duration": 102,
    "start_time": "2022-01-16T20:53:36.696Z"
   },
   {
    "duration": 109,
    "start_time": "2022-01-16T20:55:17.286Z"
   },
   {
    "duration": 41,
    "start_time": "2022-01-16T20:56:15.139Z"
   },
   {
    "duration": 31,
    "start_time": "2022-01-16T20:59:05.442Z"
   },
   {
    "duration": 57,
    "start_time": "2022-01-16T20:59:12.868Z"
   },
   {
    "duration": 39,
    "start_time": "2022-01-16T20:59:16.811Z"
   },
   {
    "duration": 43,
    "start_time": "2022-01-16T20:59:29.535Z"
   },
   {
    "duration": 35,
    "start_time": "2022-01-16T20:59:55.996Z"
   },
   {
    "duration": 45,
    "start_time": "2022-01-16T21:00:30.850Z"
   },
   {
    "duration": 26,
    "start_time": "2022-01-16T21:00:50.106Z"
   },
   {
    "duration": 43,
    "start_time": "2022-01-16T21:01:04.017Z"
   },
   {
    "duration": 40,
    "start_time": "2022-01-16T21:01:12.463Z"
   },
   {
    "duration": 355,
    "start_time": "2022-01-16T21:07:12.991Z"
   },
   {
    "duration": 434,
    "start_time": "2022-01-16T21:07:25.981Z"
   },
   {
    "duration": 104,
    "start_time": "2022-01-16T21:08:37.392Z"
   },
   {
    "duration": 34,
    "start_time": "2022-01-16T21:09:21.428Z"
   },
   {
    "duration": 46,
    "start_time": "2022-01-16T21:09:37.298Z"
   },
   {
    "duration": 41,
    "start_time": "2022-01-16T21:09:44.187Z"
   },
   {
    "duration": 30,
    "start_time": "2022-01-16T21:13:14.316Z"
   },
   {
    "duration": 378,
    "start_time": "2022-01-16T21:18:10.669Z"
   },
   {
    "duration": 48,
    "start_time": "2022-01-16T21:18:28.441Z"
   },
   {
    "duration": 46,
    "start_time": "2022-01-16T21:20:20.977Z"
   },
   {
    "duration": 46,
    "start_time": "2022-01-16T21:20:27.487Z"
   },
   {
    "duration": 42,
    "start_time": "2022-01-16T21:20:38.355Z"
   },
   {
    "duration": 1632,
    "start_time": "2022-01-16T21:21:36.943Z"
   },
   {
    "duration": 1403,
    "start_time": "2022-01-16T21:22:11.656Z"
   },
   {
    "duration": 48,
    "start_time": "2022-01-16T21:23:44.995Z"
   },
   {
    "duration": 32,
    "start_time": "2022-01-16T21:25:22.518Z"
   },
   {
    "duration": 51,
    "start_time": "2022-01-16T21:25:31.653Z"
   },
   {
    "duration": 49,
    "start_time": "2022-01-16T21:27:18.017Z"
   },
   {
    "duration": 34,
    "start_time": "2022-01-16T21:27:39.345Z"
   },
   {
    "duration": 27,
    "start_time": "2022-01-16T21:27:42.133Z"
   },
   {
    "duration": 1225,
    "start_time": "2022-01-16T21:28:01.106Z"
   },
   {
    "duration": 238,
    "start_time": "2022-01-16T21:28:02.333Z"
   },
   {
    "duration": 159,
    "start_time": "2022-01-16T21:28:02.574Z"
   },
   {
    "duration": 41,
    "start_time": "2022-01-16T21:28:02.737Z"
   },
   {
    "duration": 53,
    "start_time": "2022-01-16T21:28:02.781Z"
   },
   {
    "duration": 106,
    "start_time": "2022-01-16T21:28:02.837Z"
   },
   {
    "duration": 74,
    "start_time": "2022-01-16T21:28:02.946Z"
   },
   {
    "duration": 78,
    "start_time": "2022-01-16T21:28:03.024Z"
   },
   {
    "duration": 7,
    "start_time": "2022-01-16T21:28:03.105Z"
   },
   {
    "duration": 22,
    "start_time": "2022-01-16T21:28:03.115Z"
   },
   {
    "duration": 39,
    "start_time": "2022-01-16T21:28:03.168Z"
   },
   {
    "duration": 88,
    "start_time": "2022-01-16T21:28:03.209Z"
   },
   {
    "duration": 70,
    "start_time": "2022-01-16T21:28:03.300Z"
   },
   {
    "duration": 59,
    "start_time": "2022-01-16T21:28:03.372Z"
   },
   {
    "duration": 8549,
    "start_time": "2022-01-16T21:28:03.433Z"
   },
   {
    "duration": 297,
    "start_time": "2022-01-16T21:28:11.687Z"
   },
   {
    "duration": 41,
    "start_time": "2022-01-16T21:29:41.310Z"
   },
   {
    "duration": 1290,
    "start_time": "2022-01-16T21:33:23.616Z"
   },
   {
    "duration": 1525,
    "start_time": "2022-01-16T21:34:06.008Z"
   },
   {
    "duration": 1285,
    "start_time": "2022-01-16T21:34:30.725Z"
   },
   {
    "duration": 47,
    "start_time": "2022-01-16T21:34:57.142Z"
   },
   {
    "duration": 40,
    "start_time": "2022-01-16T21:35:06.548Z"
   },
   {
    "duration": 735,
    "start_time": "2022-01-20T09:45:34.560Z"
   },
   {
    "duration": 155,
    "start_time": "2022-01-20T09:45:35.296Z"
   },
   {
    "duration": 97,
    "start_time": "2022-01-20T09:45:35.453Z"
   },
   {
    "duration": 21,
    "start_time": "2022-01-20T09:45:35.552Z"
   },
   {
    "duration": 63,
    "start_time": "2022-01-20T09:45:35.574Z"
   },
   {
    "duration": 52,
    "start_time": "2022-01-20T09:45:35.638Z"
   },
   {
    "duration": 40,
    "start_time": "2022-01-20T09:45:35.692Z"
   },
   {
    "duration": 29,
    "start_time": "2022-01-20T09:45:35.734Z"
   },
   {
    "duration": 4,
    "start_time": "2022-01-20T09:45:35.764Z"
   },
   {
    "duration": 26,
    "start_time": "2022-01-20T09:45:35.770Z"
   },
   {
    "duration": 33,
    "start_time": "2022-01-20T09:45:35.812Z"
   },
   {
    "duration": 28,
    "start_time": "2022-01-20T09:45:35.847Z"
   },
   {
    "duration": 53,
    "start_time": "2022-01-20T09:45:35.877Z"
   },
   {
    "duration": 22,
    "start_time": "2022-01-20T09:45:35.931Z"
   },
   {
    "duration": 84,
    "start_time": "2022-01-20T09:45:35.954Z"
   },
   {
    "duration": 8,
    "start_time": "2022-01-20T09:57:32.406Z"
   },
   {
    "duration": 20,
    "start_time": "2022-01-20T09:57:48.292Z"
   },
   {
    "duration": 5837,
    "start_time": "2022-01-20T09:59:30.786Z"
   },
   {
    "duration": 19,
    "start_time": "2022-01-20T10:00:03.951Z"
   },
   {
    "duration": 738,
    "start_time": "2022-01-20T10:00:49.832Z"
   },
   {
    "duration": 142,
    "start_time": "2022-01-20T10:00:50.573Z"
   },
   {
    "duration": 96,
    "start_time": "2022-01-20T10:00:50.717Z"
   },
   {
    "duration": 24,
    "start_time": "2022-01-20T10:00:50.815Z"
   },
   {
    "duration": 48,
    "start_time": "2022-01-20T10:00:50.840Z"
   },
   {
    "duration": 55,
    "start_time": "2022-01-20T10:00:50.890Z"
   },
   {
    "duration": 35,
    "start_time": "2022-01-20T10:00:50.946Z"
   },
   {
    "duration": 47,
    "start_time": "2022-01-20T10:00:50.984Z"
   },
   {
    "duration": 5,
    "start_time": "2022-01-20T10:00:51.033Z"
   },
   {
    "duration": 30,
    "start_time": "2022-01-20T10:00:51.040Z"
   },
   {
    "duration": 48,
    "start_time": "2022-01-20T10:00:51.072Z"
   },
   {
    "duration": 32,
    "start_time": "2022-01-20T10:00:51.122Z"
   },
   {
    "duration": 57,
    "start_time": "2022-01-20T10:00:51.156Z"
   },
   {
    "duration": 27,
    "start_time": "2022-01-20T10:00:51.215Z"
   },
   {
    "duration": 106,
    "start_time": "2022-01-20T10:00:56.807Z"
   },
   {
    "duration": 19,
    "start_time": "2022-01-20T10:01:12.213Z"
   },
   {
    "duration": 74,
    "start_time": "2022-01-20T10:51:31.616Z"
   },
   {
    "duration": 316,
    "start_time": "2022-01-20T10:51:55.462Z"
   },
   {
    "duration": 17,
    "start_time": "2022-01-20T10:52:28.751Z"
   },
   {
    "duration": 22,
    "start_time": "2022-01-20T10:53:20.464Z"
   },
   {
    "duration": 289,
    "start_time": "2022-01-20T15:47:46.023Z"
   },
   {
    "duration": 723,
    "start_time": "2022-01-20T15:48:01.424Z"
   },
   {
    "duration": 145,
    "start_time": "2022-01-20T15:48:02.149Z"
   },
   {
    "duration": 91,
    "start_time": "2022-01-20T15:48:02.295Z"
   },
   {
    "duration": 23,
    "start_time": "2022-01-20T15:48:02.388Z"
   },
   {
    "duration": 41,
    "start_time": "2022-01-20T15:48:02.413Z"
   },
   {
    "duration": 49,
    "start_time": "2022-01-20T15:48:02.455Z"
   },
   {
    "duration": 32,
    "start_time": "2022-01-20T15:48:02.506Z"
   },
   {
    "duration": 38,
    "start_time": "2022-01-20T15:48:02.540Z"
   },
   {
    "duration": 4,
    "start_time": "2022-01-20T15:48:02.579Z"
   },
   {
    "duration": 25,
    "start_time": "2022-01-20T15:48:02.584Z"
   },
   {
    "duration": 35,
    "start_time": "2022-01-20T15:48:02.610Z"
   },
   {
    "duration": 63,
    "start_time": "2022-01-20T15:48:02.647Z"
   },
   {
    "duration": 36,
    "start_time": "2022-01-20T15:48:02.712Z"
   },
   {
    "duration": 35,
    "start_time": "2022-01-20T15:48:02.750Z"
   },
   {
    "duration": 16,
    "start_time": "2022-01-20T15:48:02.786Z"
   },
   {
    "duration": 28,
    "start_time": "2022-01-20T15:48:02.804Z"
   },
   {
    "duration": 97,
    "start_time": "2022-01-20T15:57:20.111Z"
   },
   {
    "duration": 82,
    "start_time": "2022-01-20T15:57:41.707Z"
   },
   {
    "duration": 92,
    "start_time": "2022-01-20T15:58:38.228Z"
   },
   {
    "duration": 526,
    "start_time": "2022-01-20T16:00:01.949Z"
   },
   {
    "duration": 197,
    "start_time": "2022-01-20T16:01:36.924Z"
   },
   {
    "duration": 18,
    "start_time": "2022-01-20T16:02:15.114Z"
   },
   {
    "duration": 9,
    "start_time": "2022-01-20T16:03:11.888Z"
   },
   {
    "duration": 56,
    "start_time": "2022-01-20T16:51:23.282Z"
   },
   {
    "duration": 20,
    "start_time": "2022-01-20T16:52:09.904Z"
   },
   {
    "duration": 23,
    "start_time": "2022-01-20T16:54:54.686Z"
   },
   {
    "duration": 24,
    "start_time": "2022-01-20T16:58:38.048Z"
   },
   {
    "duration": 4,
    "start_time": "2022-01-20T17:03:20.440Z"
   },
   {
    "duration": 5,
    "start_time": "2022-01-20T17:05:17.163Z"
   },
   {
    "duration": 4,
    "start_time": "2022-01-20T17:11:56.512Z"
   },
   {
    "duration": 4,
    "start_time": "2022-01-20T17:16:28.700Z"
   },
   {
    "duration": 260,
    "start_time": "2022-01-20T17:19:11.348Z"
   },
   {
    "duration": 171,
    "start_time": "2022-01-20T17:19:23.745Z"
   },
   {
    "duration": 582,
    "start_time": "2022-01-20T17:22:05.354Z"
   },
   {
    "duration": 287,
    "start_time": "2022-01-20T17:23:05.558Z"
   },
   {
    "duration": 310,
    "start_time": "2022-01-20T17:27:13.834Z"
   },
   {
    "duration": 178,
    "start_time": "2022-01-20T17:32:05.349Z"
   },
   {
    "duration": 280,
    "start_time": "2022-01-20T17:34:59.913Z"
   },
   {
    "duration": 178,
    "start_time": "2022-01-20T17:45:09.534Z"
   },
   {
    "duration": 54,
    "start_time": "2022-01-20T17:45:22.284Z"
   },
   {
    "duration": 272,
    "start_time": "2022-01-20T18:08:23.798Z"
   },
   {
    "duration": 254,
    "start_time": "2022-01-20T18:12:35.540Z"
   },
   {
    "duration": 262,
    "start_time": "2022-01-20T18:13:11.905Z"
   },
   {
    "duration": 8,
    "start_time": "2022-01-20T18:18:06.849Z"
   },
   {
    "duration": 7,
    "start_time": "2022-01-20T18:21:39.637Z"
   },
   {
    "duration": 4,
    "start_time": "2022-01-20T18:25:07.557Z"
   },
   {
    "duration": 6,
    "start_time": "2022-01-20T18:26:38.681Z"
   },
   {
    "duration": 5,
    "start_time": "2022-01-20T18:27:58.870Z"
   },
   {
    "duration": 3,
    "start_time": "2022-01-20T18:30:22.725Z"
   },
   {
    "duration": 524,
    "start_time": "2022-01-20T18:31:50.394Z"
   },
   {
    "duration": 585,
    "start_time": "2022-01-20T18:32:06.217Z"
   },
   {
    "duration": 291,
    "start_time": "2022-01-20T18:33:20.530Z"
   },
   {
    "duration": 330,
    "start_time": "2022-01-20T18:37:44.568Z"
   },
   {
    "duration": 8,
    "start_time": "2022-01-20T18:58:48.905Z"
   },
   {
    "duration": 9,
    "start_time": "2022-01-20T19:00:36.024Z"
   },
   {
    "duration": 5,
    "start_time": "2022-01-20T19:06:17.279Z"
   },
   {
    "duration": 5,
    "start_time": "2022-01-20T19:08:02.369Z"
   },
   {
    "duration": 4,
    "start_time": "2022-01-20T19:09:55.335Z"
   },
   {
    "duration": 277,
    "start_time": "2022-01-20T19:12:35.309Z"
   },
   {
    "duration": 282,
    "start_time": "2022-01-20T19:13:59.066Z"
   },
   {
    "duration": 275,
    "start_time": "2022-01-20T19:14:57.060Z"
   },
   {
    "duration": 296,
    "start_time": "2022-01-20T19:15:27.512Z"
   },
   {
    "duration": 284,
    "start_time": "2022-01-20T19:16:08.415Z"
   },
   {
    "duration": 278,
    "start_time": "2022-01-20T19:16:32.780Z"
   },
   {
    "duration": 278,
    "start_time": "2022-01-20T19:16:58.220Z"
   },
   {
    "duration": 281,
    "start_time": "2022-01-20T19:17:13.256Z"
   },
   {
    "duration": 273,
    "start_time": "2022-01-20T19:17:27.405Z"
   },
   {
    "duration": 278,
    "start_time": "2022-01-20T19:18:13.945Z"
   },
   {
    "duration": 338,
    "start_time": "2022-01-20T19:24:06.194Z"
   },
   {
    "duration": 449,
    "start_time": "2022-01-21T10:03:02.187Z"
   },
   {
    "duration": 1417,
    "start_time": "2022-01-21T10:03:24.142Z"
   },
   {
    "duration": 217,
    "start_time": "2022-01-21T10:03:25.562Z"
   },
   {
    "duration": 134,
    "start_time": "2022-01-21T10:03:25.782Z"
   },
   {
    "duration": 31,
    "start_time": "2022-01-21T10:03:25.919Z"
   },
   {
    "duration": 90,
    "start_time": "2022-01-21T10:03:25.952Z"
   },
   {
    "duration": 81,
    "start_time": "2022-01-21T10:03:26.045Z"
   },
   {
    "duration": 63,
    "start_time": "2022-01-21T10:03:26.129Z"
   },
   {
    "duration": 44,
    "start_time": "2022-01-21T10:03:26.195Z"
   },
   {
    "duration": 20,
    "start_time": "2022-01-21T10:03:26.241Z"
   },
   {
    "duration": 36,
    "start_time": "2022-01-21T10:03:26.264Z"
   },
   {
    "duration": 74,
    "start_time": "2022-01-21T10:03:26.302Z"
   },
   {
    "duration": 46,
    "start_time": "2022-01-21T10:03:26.378Z"
   },
   {
    "duration": 75,
    "start_time": "2022-01-21T10:03:26.427Z"
   },
   {
    "duration": 38,
    "start_time": "2022-01-21T10:03:26.504Z"
   },
   {
    "duration": 39,
    "start_time": "2022-01-21T10:03:26.544Z"
   },
   {
    "duration": 39,
    "start_time": "2022-01-21T10:03:26.585Z"
   },
   {
    "duration": 374,
    "start_time": "2022-01-21T10:03:26.626Z"
   },
   {
    "duration": 31,
    "start_time": "2022-01-21T10:03:27.002Z"
   },
   {
    "duration": 59,
    "start_time": "2022-01-21T10:03:27.036Z"
   },
   {
    "duration": 68,
    "start_time": "2022-01-21T10:03:27.097Z"
   },
   {
    "duration": 6,
    "start_time": "2022-01-21T10:03:27.167Z"
   },
   {
    "duration": 8,
    "start_time": "2022-01-21T10:03:27.176Z"
   },
   {
    "duration": 5,
    "start_time": "2022-01-21T10:03:27.189Z"
   },
   {
    "duration": 551,
    "start_time": "2022-01-21T10:03:27.197Z"
   },
   {
    "duration": 498,
    "start_time": "2022-01-21T10:03:27.750Z"
   },
   {
    "duration": 15,
    "start_time": "2022-01-21T10:03:28.251Z"
   },
   {
    "duration": 12,
    "start_time": "2022-01-21T10:03:28.268Z"
   },
   {
    "duration": 8,
    "start_time": "2022-01-21T10:03:28.282Z"
   },
   {
    "duration": 8,
    "start_time": "2022-01-21T10:03:28.293Z"
   },
   {
    "duration": 54,
    "start_time": "2022-01-21T10:03:28.304Z"
   },
   {
    "duration": 567,
    "start_time": "2022-01-21T10:03:28.361Z"
   },
   {
    "duration": 681,
    "start_time": "2022-01-21T10:03:28.930Z"
   },
   {
    "duration": 11,
    "start_time": "2022-01-21T10:03:29.613Z"
   },
   {
    "duration": 35,
    "start_time": "2022-01-21T10:03:29.626Z"
   },
   {
    "duration": 6,
    "start_time": "2022-01-21T10:03:29.663Z"
   },
   {
    "duration": 9,
    "start_time": "2022-01-21T10:03:29.672Z"
   },
   {
    "duration": 7,
    "start_time": "2022-01-21T10:03:29.683Z"
   },
   {
    "duration": 544,
    "start_time": "2022-01-21T10:03:29.692Z"
   },
   {
    "duration": 502,
    "start_time": "2022-01-21T10:03:30.239Z"
   },
   {
    "duration": 7,
    "start_time": "2022-01-21T10:03:30.764Z"
   },
   {
    "duration": 6,
    "start_time": "2022-01-21T10:05:01.482Z"
   },
   {
    "duration": 769,
    "start_time": "2022-01-21T10:07:10.980Z"
   },
   {
    "duration": 7,
    "start_time": "2022-01-21T10:10:57.552Z"
   },
   {
    "duration": 7,
    "start_time": "2022-01-21T10:13:30.678Z"
   },
   {
    "duration": 10,
    "start_time": "2022-01-21T10:13:36.932Z"
   },
   {
    "duration": 1989,
    "start_time": "2022-01-21T10:13:55.421Z"
   },
   {
    "duration": 227,
    "start_time": "2022-01-21T10:13:57.413Z"
   },
   {
    "duration": 159,
    "start_time": "2022-01-21T10:13:57.643Z"
   },
   {
    "duration": 32,
    "start_time": "2022-01-21T10:13:57.805Z"
   },
   {
    "duration": 65,
    "start_time": "2022-01-21T10:13:57.839Z"
   },
   {
    "duration": 90,
    "start_time": "2022-01-21T10:13:57.907Z"
   },
   {
    "duration": 68,
    "start_time": "2022-01-21T10:13:58.000Z"
   },
   {
    "duration": 44,
    "start_time": "2022-01-21T10:13:58.070Z"
   },
   {
    "duration": 6,
    "start_time": "2022-01-21T10:13:58.120Z"
   },
   {
    "duration": 58,
    "start_time": "2022-01-21T10:13:58.130Z"
   },
   {
    "duration": 70,
    "start_time": "2022-01-21T10:13:58.191Z"
   },
   {
    "duration": 48,
    "start_time": "2022-01-21T10:13:58.264Z"
   },
   {
    "duration": 90,
    "start_time": "2022-01-21T10:13:58.315Z"
   },
   {
    "duration": 43,
    "start_time": "2022-01-21T10:13:58.407Z"
   },
   {
    "duration": 27,
    "start_time": "2022-01-21T10:13:58.453Z"
   },
   {
    "duration": 42,
    "start_time": "2022-01-21T10:13:58.483Z"
   },
   {
    "duration": 425,
    "start_time": "2022-01-21T10:13:58.527Z"
   },
   {
    "duration": 33,
    "start_time": "2022-01-21T10:13:58.954Z"
   },
   {
    "duration": 77,
    "start_time": "2022-01-21T10:13:58.989Z"
   },
   {
    "duration": 44,
    "start_time": "2022-01-21T10:13:59.068Z"
   },
   {
    "duration": 7,
    "start_time": "2022-01-21T10:13:59.114Z"
   },
   {
    "duration": 43,
    "start_time": "2022-01-21T10:13:59.123Z"
   },
   {
    "duration": 7,
    "start_time": "2022-01-21T10:13:59.169Z"
   },
   {
    "duration": 565,
    "start_time": "2022-01-21T10:13:59.179Z"
   },
   {
    "duration": 544,
    "start_time": "2022-01-21T10:13:59.747Z"
   },
   {
    "duration": 10,
    "start_time": "2022-01-21T10:14:00.294Z"
   },
   {
    "duration": 19,
    "start_time": "2022-01-21T10:14:00.308Z"
   },
   {
    "duration": 31,
    "start_time": "2022-01-21T10:14:00.330Z"
   },
   {
    "duration": 7,
    "start_time": "2022-01-21T10:14:00.363Z"
   },
   {
    "duration": 16,
    "start_time": "2022-01-21T10:14:00.372Z"
   },
   {
    "duration": 534,
    "start_time": "2022-01-21T10:14:00.391Z"
   },
   {
    "duration": 553,
    "start_time": "2022-01-21T10:14:00.928Z"
   },
   {
    "duration": 14,
    "start_time": "2022-01-21T10:14:01.484Z"
   },
   {
    "duration": 17,
    "start_time": "2022-01-21T10:14:01.501Z"
   },
   {
    "duration": 42,
    "start_time": "2022-01-21T10:14:01.521Z"
   },
   {
    "duration": 11,
    "start_time": "2022-01-21T10:14:01.566Z"
   },
   {
    "duration": 6,
    "start_time": "2022-01-21T10:14:01.580Z"
   },
   {
    "duration": 630,
    "start_time": "2022-01-21T10:14:01.589Z"
   },
   {
    "duration": 662,
    "start_time": "2022-01-21T10:14:02.222Z"
   },
   {
    "duration": 8,
    "start_time": "2022-01-21T10:14:02.887Z"
   },
   {
    "duration": 11,
    "start_time": "2022-01-21T10:14:02.897Z"
   },
   {
    "duration": 14,
    "start_time": "2022-01-21T10:26:12.459Z"
   },
   {
    "duration": 8,
    "start_time": "2022-01-21T10:28:00.779Z"
   },
   {
    "duration": 16,
    "start_time": "2022-01-21T10:34:28.685Z"
   },
   {
    "duration": 7,
    "start_time": "2022-01-21T10:34:40.022Z"
   },
   {
    "duration": 7,
    "start_time": "2022-01-21T10:42:19.963Z"
   },
   {
    "duration": 9,
    "start_time": "2022-01-21T10:42:26.082Z"
   },
   {
    "duration": 1748,
    "start_time": "2022-01-21T10:42:33.542Z"
   },
   {
    "duration": 208,
    "start_time": "2022-01-21T10:42:35.292Z"
   },
   {
    "duration": 141,
    "start_time": "2022-01-21T10:42:35.503Z"
   },
   {
    "duration": 31,
    "start_time": "2022-01-21T10:42:35.647Z"
   },
   {
    "duration": 52,
    "start_time": "2022-01-21T10:42:35.681Z"
   },
   {
    "duration": 89,
    "start_time": "2022-01-21T10:42:35.735Z"
   },
   {
    "duration": 62,
    "start_time": "2022-01-21T10:42:35.826Z"
   },
   {
    "duration": 47,
    "start_time": "2022-01-21T10:42:35.891Z"
   },
   {
    "duration": 6,
    "start_time": "2022-01-21T10:42:35.940Z"
   },
   {
    "duration": 31,
    "start_time": "2022-01-21T10:42:35.960Z"
   },
   {
    "duration": 81,
    "start_time": "2022-01-21T10:42:35.993Z"
   },
   {
    "duration": 46,
    "start_time": "2022-01-21T10:42:36.077Z"
   },
   {
    "duration": 74,
    "start_time": "2022-01-21T10:42:36.125Z"
   },
   {
    "duration": 59,
    "start_time": "2022-01-21T10:42:36.202Z"
   },
   {
    "duration": 30,
    "start_time": "2022-01-21T10:42:36.264Z"
   },
   {
    "duration": 67,
    "start_time": "2022-01-21T10:42:36.296Z"
   },
   {
    "duration": 378,
    "start_time": "2022-01-21T10:42:36.365Z"
   },
   {
    "duration": 35,
    "start_time": "2022-01-21T10:42:36.746Z"
   },
   {
    "duration": 40,
    "start_time": "2022-01-21T10:42:36.784Z"
   },
   {
    "duration": 52,
    "start_time": "2022-01-21T10:42:36.827Z"
   },
   {
    "duration": 5,
    "start_time": "2022-01-21T10:42:36.882Z"
   },
   {
    "duration": 10,
    "start_time": "2022-01-21T10:42:36.890Z"
   },
   {
    "duration": 5,
    "start_time": "2022-01-21T10:42:36.905Z"
   },
   {
    "duration": 542,
    "start_time": "2022-01-21T10:42:36.913Z"
   },
   {
    "duration": 579,
    "start_time": "2022-01-21T10:42:37.459Z"
   },
   {
    "duration": 23,
    "start_time": "2022-01-21T10:42:38.040Z"
   },
   {
    "duration": 10,
    "start_time": "2022-01-21T10:42:38.065Z"
   },
   {
    "duration": 7,
    "start_time": "2022-01-21T10:42:38.077Z"
   },
   {
    "duration": 7,
    "start_time": "2022-01-21T10:42:38.087Z"
   },
   {
    "duration": 6,
    "start_time": "2022-01-21T10:42:38.096Z"
   },
   {
    "duration": 661,
    "start_time": "2022-01-21T10:42:38.104Z"
   },
   {
    "duration": 494,
    "start_time": "2022-01-21T10:42:38.768Z"
   },
   {
    "duration": 11,
    "start_time": "2022-01-21T10:42:39.264Z"
   },
   {
    "duration": 10,
    "start_time": "2022-01-21T10:42:39.277Z"
   },
   {
    "duration": 5,
    "start_time": "2022-01-21T10:42:39.290Z"
   },
   {
    "duration": 8,
    "start_time": "2022-01-21T10:42:39.298Z"
   },
   {
    "duration": 6,
    "start_time": "2022-01-21T10:42:39.308Z"
   },
   {
    "duration": 557,
    "start_time": "2022-01-21T10:42:39.361Z"
   },
   {
    "duration": 586,
    "start_time": "2022-01-21T10:42:39.920Z"
   },
   {
    "duration": 8,
    "start_time": "2022-01-21T10:42:40.509Z"
   },
   {
    "duration": 42,
    "start_time": "2022-01-21T10:42:40.520Z"
   },
   {
    "duration": 17,
    "start_time": "2022-01-21T10:42:40.565Z"
   },
   {
    "duration": 6,
    "start_time": "2022-01-21T10:42:40.596Z"
   },
   {
    "duration": 16,
    "start_time": "2022-01-21T10:43:06.292Z"
   },
   {
    "duration": 8,
    "start_time": "2022-01-21T10:43:30.179Z"
   },
   {
    "duration": 8,
    "start_time": "2022-01-21T10:47:04.497Z"
   },
   {
    "duration": 119,
    "start_time": "2022-01-21T10:47:10.084Z"
   },
   {
    "duration": 17,
    "start_time": "2022-01-21T10:47:12.046Z"
   },
   {
    "duration": 7,
    "start_time": "2022-01-21T10:47:17.305Z"
   },
   {
    "duration": 8,
    "start_time": "2022-01-21T10:47:34.394Z"
   },
   {
    "duration": 7,
    "start_time": "2022-01-21T10:49:10.345Z"
   },
   {
    "duration": 1584,
    "start_time": "2022-01-26T02:34:41.269Z"
   },
   {
    "duration": 170,
    "start_time": "2022-01-26T02:34:42.855Z"
   },
   {
    "duration": 114,
    "start_time": "2022-01-26T02:34:43.028Z"
   },
   {
    "duration": 24,
    "start_time": "2022-01-26T02:34:43.144Z"
   },
   {
    "duration": 81,
    "start_time": "2022-01-26T02:34:43.170Z"
   },
   {
    "duration": 58,
    "start_time": "2022-01-26T02:34:43.253Z"
   },
   {
    "duration": 42,
    "start_time": "2022-01-26T02:34:43.313Z"
   },
   {
    "duration": 42,
    "start_time": "2022-01-26T02:34:43.357Z"
   },
   {
    "duration": 4,
    "start_time": "2022-01-26T02:34:43.401Z"
   },
   {
    "duration": 28,
    "start_time": "2022-01-26T02:34:43.407Z"
   },
   {
    "duration": 41,
    "start_time": "2022-01-26T02:34:43.437Z"
   },
   {
    "duration": 54,
    "start_time": "2022-01-26T02:34:43.479Z"
   },
   {
    "duration": 37,
    "start_time": "2022-01-26T02:34:43.534Z"
   },
   {
    "duration": 47,
    "start_time": "2022-01-26T02:34:43.573Z"
   },
   {
    "duration": 19,
    "start_time": "2022-01-26T02:34:43.622Z"
   },
   {
    "duration": 26,
    "start_time": "2022-01-26T02:34:43.643Z"
   },
   {
    "duration": 246,
    "start_time": "2022-01-26T02:34:43.671Z"
   },
   {
    "duration": 23,
    "start_time": "2022-01-26T02:34:43.918Z"
   },
   {
    "duration": 34,
    "start_time": "2022-01-26T02:34:43.942Z"
   },
   {
    "duration": 46,
    "start_time": "2022-01-26T02:34:43.978Z"
   },
   {
    "duration": 4,
    "start_time": "2022-01-26T02:34:44.025Z"
   },
   {
    "duration": 7,
    "start_time": "2022-01-26T02:34:44.031Z"
   },
   {
    "duration": 4,
    "start_time": "2022-01-26T02:34:44.041Z"
   },
   {
    "duration": 395,
    "start_time": "2022-01-26T02:34:44.046Z"
   },
   {
    "duration": 370,
    "start_time": "2022-01-26T02:34:44.443Z"
   },
   {
    "duration": 8,
    "start_time": "2022-01-26T02:34:44.814Z"
   },
   {
    "duration": 9,
    "start_time": "2022-01-26T02:34:44.824Z"
   },
   {
    "duration": 7,
    "start_time": "2022-01-26T02:34:44.834Z"
   },
   {
    "duration": 6,
    "start_time": "2022-01-26T02:34:44.843Z"
   },
   {
    "duration": 8,
    "start_time": "2022-01-26T02:34:44.850Z"
   },
   {
    "duration": 387,
    "start_time": "2022-01-26T02:34:44.860Z"
   },
   {
    "duration": 349,
    "start_time": "2022-01-26T02:34:45.249Z"
   },
   {
    "duration": 8,
    "start_time": "2022-01-26T02:34:45.600Z"
   },
   {
    "duration": 9,
    "start_time": "2022-01-26T02:34:45.610Z"
   },
   {
    "duration": 5,
    "start_time": "2022-01-26T02:34:45.620Z"
   },
   {
    "duration": 8,
    "start_time": "2022-01-26T02:34:45.626Z"
   },
   {
    "duration": 5,
    "start_time": "2022-01-26T02:34:45.636Z"
   },
   {
    "duration": 393,
    "start_time": "2022-01-26T02:34:45.643Z"
   },
   {
    "duration": 377,
    "start_time": "2022-01-26T02:34:46.037Z"
   },
   {
    "duration": 5,
    "start_time": "2022-01-26T02:34:46.415Z"
   },
   {
    "duration": 12,
    "start_time": "2022-01-26T02:34:46.422Z"
   },
   {
    "duration": 4,
    "start_time": "2022-01-26T02:34:46.436Z"
   },
   {
    "duration": 233,
    "start_time": "2022-01-26T02:35:18.087Z"
   },
   {
    "duration": 164,
    "start_time": "2022-01-26T02:35:18.322Z"
   },
   {
    "duration": 104,
    "start_time": "2022-01-26T02:35:18.488Z"
   },
   {
    "duration": 23,
    "start_time": "2022-01-26T02:35:18.593Z"
   },
   {
    "duration": 83,
    "start_time": "2022-01-26T02:35:18.618Z"
   },
   {
    "duration": 62,
    "start_time": "2022-01-26T02:35:18.702Z"
   },
   {
    "duration": 42,
    "start_time": "2022-01-26T02:35:18.766Z"
   },
   {
    "duration": 32,
    "start_time": "2022-01-26T02:35:18.810Z"
   },
   {
    "duration": 7,
    "start_time": "2022-01-26T02:35:18.845Z"
   },
   {
    "duration": 33,
    "start_time": "2022-01-26T02:35:18.854Z"
   },
   {
    "duration": 42,
    "start_time": "2022-01-26T02:35:18.898Z"
   },
   {
    "duration": 36,
    "start_time": "2022-01-26T02:35:18.942Z"
   },
   {
    "duration": 54,
    "start_time": "2022-01-26T02:35:18.979Z"
   },
   {
    "duration": 26,
    "start_time": "2022-01-26T02:35:19.035Z"
   },
   {
    "duration": 40,
    "start_time": "2022-01-26T02:35:19.063Z"
   },
   {
    "duration": 27,
    "start_time": "2022-01-26T02:35:19.105Z"
   },
   {
    "duration": 234,
    "start_time": "2022-01-26T02:35:19.134Z"
   },
   {
    "duration": 29,
    "start_time": "2022-01-26T02:35:19.370Z"
   },
   {
    "duration": 28,
    "start_time": "2022-01-26T02:35:19.401Z"
   },
   {
    "duration": 29,
    "start_time": "2022-01-26T02:35:19.431Z"
   },
   {
    "duration": 5,
    "start_time": "2022-01-26T02:35:19.461Z"
   },
   {
    "duration": 35,
    "start_time": "2022-01-26T02:35:19.467Z"
   },
   {
    "duration": 29,
    "start_time": "2022-01-26T02:35:19.504Z"
   },
   {
    "duration": 429,
    "start_time": "2022-01-26T02:35:19.535Z"
   },
   {
    "duration": 365,
    "start_time": "2022-01-26T02:35:19.965Z"
   },
   {
    "duration": 8,
    "start_time": "2022-01-26T02:35:20.332Z"
   },
   {
    "duration": 20,
    "start_time": "2022-01-26T02:35:20.344Z"
   },
   {
    "duration": 19,
    "start_time": "2022-01-26T02:35:20.366Z"
   },
   {
    "duration": 16,
    "start_time": "2022-01-26T02:35:20.386Z"
   },
   {
    "duration": 9,
    "start_time": "2022-01-26T02:35:20.404Z"
   },
   {
    "duration": 370,
    "start_time": "2022-01-26T02:35:20.414Z"
   },
   {
    "duration": 351,
    "start_time": "2022-01-26T02:35:20.786Z"
   },
   {
    "duration": 8,
    "start_time": "2022-01-26T02:35:21.138Z"
   },
   {
    "duration": 15,
    "start_time": "2022-01-26T02:35:21.148Z"
   },
   {
    "duration": 4,
    "start_time": "2022-01-26T02:35:21.165Z"
   },
   {
    "duration": 8,
    "start_time": "2022-01-26T02:35:21.171Z"
   },
   {
    "duration": 19,
    "start_time": "2022-01-26T02:35:21.181Z"
   },
   {
    "duration": 379,
    "start_time": "2022-01-26T02:35:21.202Z"
   },
   {
    "duration": 349,
    "start_time": "2022-01-26T02:35:21.583Z"
   },
   {
    "duration": 5,
    "start_time": "2022-01-26T02:35:21.934Z"
   },
   {
    "duration": 12,
    "start_time": "2022-01-26T02:35:21.940Z"
   },
   {
    "duration": 5,
    "start_time": "2022-01-26T02:35:21.954Z"
   },
   {
    "duration": 367,
    "start_time": "2022-01-26T02:43:07.710Z"
   },
   {
    "duration": 390,
    "start_time": "2022-01-26T02:44:45.367Z"
   },
   {
    "duration": 531,
    "start_time": "2022-01-26T02:45:26.190Z"
   },
   {
    "duration": 501,
    "start_time": "2022-01-26T02:47:15.958Z"
   },
   {
    "duration": 366,
    "start_time": "2022-01-26T02:47:24.094Z"
   },
   {
    "duration": 363,
    "start_time": "2022-01-26T02:48:08.477Z"
   },
   {
    "duration": 383,
    "start_time": "2022-01-26T02:48:38.499Z"
   },
   {
    "duration": 487,
    "start_time": "2022-01-26T02:49:47.213Z"
   },
   {
    "duration": 412,
    "start_time": "2022-01-26T02:49:52.344Z"
   },
   {
    "duration": 390,
    "start_time": "2022-01-26T02:50:01.449Z"
   },
   {
    "duration": 454,
    "start_time": "2022-01-26T02:51:12.332Z"
   },
   {
    "duration": 357,
    "start_time": "2022-01-26T02:51:42.315Z"
   },
   {
    "duration": 357,
    "start_time": "2022-01-26T02:51:48.125Z"
   },
   {
    "duration": 34,
    "start_time": "2022-01-26T02:53:30.410Z"
   },
   {
    "duration": 60,
    "start_time": "2022-01-26T02:54:04.711Z"
   },
   {
    "duration": 90,
    "start_time": "2022-01-26T09:46:57.237Z"
   },
   {
    "duration": 105,
    "start_time": "2022-01-26T09:47:16.589Z"
   },
   {
    "duration": 345,
    "start_time": "2022-01-26T09:47:30.393Z"
   },
   {
    "duration": 1217,
    "start_time": "2022-01-26T09:48:15.717Z"
   },
   {
    "duration": 145,
    "start_time": "2022-01-26T09:48:16.936Z"
   },
   {
    "duration": 95,
    "start_time": "2022-01-26T09:48:17.083Z"
   },
   {
    "duration": 24,
    "start_time": "2022-01-26T09:48:17.179Z"
   },
   {
    "duration": 72,
    "start_time": "2022-01-26T09:48:17.205Z"
   },
   {
    "duration": 54,
    "start_time": "2022-01-26T09:48:17.278Z"
   },
   {
    "duration": 51,
    "start_time": "2022-01-26T09:48:17.334Z"
   },
   {
    "duration": 30,
    "start_time": "2022-01-26T09:48:17.387Z"
   },
   {
    "duration": 4,
    "start_time": "2022-01-26T09:48:17.419Z"
   },
   {
    "duration": 25,
    "start_time": "2022-01-26T09:48:17.424Z"
   },
   {
    "duration": 54,
    "start_time": "2022-01-26T09:48:17.451Z"
   },
   {
    "duration": 32,
    "start_time": "2022-01-26T09:48:17.507Z"
   },
   {
    "duration": 55,
    "start_time": "2022-01-26T09:48:17.541Z"
   },
   {
    "duration": 24,
    "start_time": "2022-01-26T09:48:17.598Z"
   },
   {
    "duration": 17,
    "start_time": "2022-01-26T09:48:17.623Z"
   },
   {
    "duration": 49,
    "start_time": "2022-01-26T09:48:17.642Z"
   },
   {
    "duration": 208,
    "start_time": "2022-01-26T09:48:17.692Z"
   },
   {
    "duration": 19,
    "start_time": "2022-01-26T09:48:17.902Z"
   },
   {
    "duration": 24,
    "start_time": "2022-01-26T09:48:17.922Z"
   },
   {
    "duration": 46,
    "start_time": "2022-01-26T09:48:17.947Z"
   },
   {
    "duration": 4,
    "start_time": "2022-01-26T09:48:17.994Z"
   },
   {
    "duration": 7,
    "start_time": "2022-01-26T09:48:17.999Z"
   },
   {
    "duration": 3,
    "start_time": "2022-01-26T09:48:18.010Z"
   },
   {
    "duration": 316,
    "start_time": "2022-01-26T09:48:18.015Z"
   },
   {
    "duration": 277,
    "start_time": "2022-01-26T09:48:18.332Z"
   },
   {
    "duration": 395,
    "start_time": "2022-01-26T09:48:18.610Z"
   },
   {
    "duration": 6,
    "start_time": "2022-01-26T09:48:19.007Z"
   },
   {
    "duration": 9,
    "start_time": "2022-01-26T09:48:19.015Z"
   },
   {
    "duration": 4,
    "start_time": "2022-01-26T09:48:19.025Z"
   },
   {
    "duration": 16,
    "start_time": "2022-01-26T09:48:19.031Z"
   },
   {
    "duration": 12,
    "start_time": "2022-01-26T09:48:19.049Z"
   },
   {
    "duration": 298,
    "start_time": "2022-01-26T09:48:19.062Z"
   },
   {
    "duration": 276,
    "start_time": "2022-01-26T09:48:19.362Z"
   },
   {
    "duration": 7,
    "start_time": "2022-01-26T09:48:19.639Z"
   },
   {
    "duration": 7,
    "start_time": "2022-01-26T09:48:19.648Z"
   },
   {
    "duration": 17,
    "start_time": "2022-01-26T09:48:19.656Z"
   },
   {
    "duration": 5,
    "start_time": "2022-01-26T09:48:19.674Z"
   },
   {
    "duration": 5,
    "start_time": "2022-01-26T09:48:19.681Z"
   },
   {
    "duration": 364,
    "start_time": "2022-01-26T09:48:19.688Z"
   },
   {
    "duration": 284,
    "start_time": "2022-01-26T09:48:20.053Z"
   },
   {
    "duration": 37,
    "start_time": "2022-01-26T09:48:20.339Z"
   },
   {
    "duration": 58,
    "start_time": "2022-01-26T09:48:20.378Z"
   },
   {
    "duration": 4,
    "start_time": "2022-01-26T09:48:20.438Z"
   },
   {
    "duration": 33,
    "start_time": "2022-01-26T09:48:20.444Z"
   },
   {
    "duration": 5,
    "start_time": "2022-01-26T09:48:20.479Z"
   },
   {
    "duration": 25,
    "start_time": "2022-01-26T09:58:02.728Z"
   },
   {
    "duration": 5,
    "start_time": "2022-01-26T10:12:36.042Z"
   },
   {
    "duration": 1255,
    "start_time": "2022-01-26T10:13:16.603Z"
   },
   {
    "duration": 162,
    "start_time": "2022-01-26T10:13:17.860Z"
   },
   {
    "duration": 101,
    "start_time": "2022-01-26T10:13:18.024Z"
   },
   {
    "duration": 23,
    "start_time": "2022-01-26T10:13:18.127Z"
   },
   {
    "duration": 52,
    "start_time": "2022-01-26T10:13:18.152Z"
   },
   {
    "duration": 51,
    "start_time": "2022-01-26T10:13:18.205Z"
   },
   {
    "duration": 47,
    "start_time": "2022-01-26T10:13:18.258Z"
   },
   {
    "duration": 28,
    "start_time": "2022-01-26T10:13:18.307Z"
   },
   {
    "duration": 4,
    "start_time": "2022-01-26T10:13:18.337Z"
   },
   {
    "duration": 47,
    "start_time": "2022-01-26T10:13:18.343Z"
   },
   {
    "duration": 48,
    "start_time": "2022-01-26T10:13:18.392Z"
   },
   {
    "duration": 46,
    "start_time": "2022-01-26T10:13:18.442Z"
   },
   {
    "duration": 32,
    "start_time": "2022-01-26T10:13:18.489Z"
   },
   {
    "duration": 22,
    "start_time": "2022-01-26T10:13:18.523Z"
   },
   {
    "duration": 44,
    "start_time": "2022-01-26T10:13:18.546Z"
   },
   {
    "duration": 24,
    "start_time": "2022-01-26T10:13:18.592Z"
   },
   {
    "duration": 227,
    "start_time": "2022-01-26T10:13:18.618Z"
   },
   {
    "duration": 19,
    "start_time": "2022-01-26T10:13:18.847Z"
   },
   {
    "duration": 32,
    "start_time": "2022-01-26T10:13:18.867Z"
   },
   {
    "duration": 26,
    "start_time": "2022-01-26T10:13:18.900Z"
   },
   {
    "duration": 5,
    "start_time": "2022-01-26T10:13:18.928Z"
   },
   {
    "duration": 7,
    "start_time": "2022-01-26T10:13:18.935Z"
   },
   {
    "duration": 6,
    "start_time": "2022-01-26T10:13:18.972Z"
   },
   {
    "duration": 396,
    "start_time": "2022-01-26T10:13:18.982Z"
   },
   {
    "duration": 338,
    "start_time": "2022-01-26T10:13:19.380Z"
   },
   {
    "duration": 435,
    "start_time": "2022-01-26T10:13:19.720Z"
   },
   {
    "duration": 14,
    "start_time": "2022-01-26T10:13:20.159Z"
   },
   {
    "duration": 12,
    "start_time": "2022-01-26T10:13:20.177Z"
   },
   {
    "duration": 5,
    "start_time": "2022-01-26T10:13:20.191Z"
   },
   {
    "duration": 12,
    "start_time": "2022-01-26T10:13:20.198Z"
   },
   {
    "duration": 13,
    "start_time": "2022-01-26T10:13:20.211Z"
   },
   {
    "duration": 334,
    "start_time": "2022-01-26T10:13:20.225Z"
   },
   {
    "duration": 306,
    "start_time": "2022-01-26T10:13:20.561Z"
   },
   {
    "duration": 14,
    "start_time": "2022-01-26T10:13:20.869Z"
   },
   {
    "duration": 10,
    "start_time": "2022-01-26T10:13:20.885Z"
   },
   {
    "duration": 7,
    "start_time": "2022-01-26T10:13:20.896Z"
   },
   {
    "duration": 11,
    "start_time": "2022-01-26T10:13:20.904Z"
   },
   {
    "duration": 4,
    "start_time": "2022-01-26T10:13:20.916Z"
   },
   {
    "duration": 409,
    "start_time": "2022-01-26T10:13:20.922Z"
   },
   {
    "duration": 307,
    "start_time": "2022-01-26T10:13:21.333Z"
   },
   {
    "duration": 41,
    "start_time": "2022-01-26T10:13:21.642Z"
   },
   {
    "duration": 62,
    "start_time": "2022-01-26T10:13:21.685Z"
   },
   {
    "duration": 24,
    "start_time": "2022-01-26T10:13:21.749Z"
   },
   {
    "duration": 14,
    "start_time": "2022-01-26T10:13:21.775Z"
   },
   {
    "duration": 4,
    "start_time": "2022-01-26T10:13:21.792Z"
   },
   {
    "duration": 5,
    "start_time": "2022-01-26T10:14:00.263Z"
   },
   {
    "duration": 7,
    "start_time": "2022-01-26T10:15:05.720Z"
   },
   {
    "duration": 11,
    "start_time": "2022-01-26T10:16:21.068Z"
   },
   {
    "duration": 8,
    "start_time": "2022-01-26T10:17:04.032Z"
   },
   {
    "duration": 10,
    "start_time": "2022-01-26T10:20:18.361Z"
   },
   {
    "duration": 414,
    "start_time": "2022-01-26T10:26:36.285Z"
   },
   {
    "duration": 227,
    "start_time": "2022-01-26T10:28:55.809Z"
   },
   {
    "duration": 6,
    "start_time": "2022-01-26T10:29:15.857Z"
   },
   {
    "duration": 204,
    "start_time": "2022-01-26T10:34:47.236Z"
   },
   {
    "duration": 7,
    "start_time": "2022-01-26T10:35:18.342Z"
   },
   {
    "duration": 5,
    "start_time": "2022-01-26T10:36:29.414Z"
   },
   {
    "duration": 1299,
    "start_time": "2022-01-26T10:36:37.459Z"
   },
   {
    "duration": 162,
    "start_time": "2022-01-26T10:36:38.760Z"
   },
   {
    "duration": 102,
    "start_time": "2022-01-26T10:36:38.924Z"
   },
   {
    "duration": 23,
    "start_time": "2022-01-26T10:36:39.027Z"
   },
   {
    "duration": 48,
    "start_time": "2022-01-26T10:36:39.052Z"
   },
   {
    "duration": 52,
    "start_time": "2022-01-26T10:36:39.102Z"
   },
   {
    "duration": 55,
    "start_time": "2022-01-26T10:36:39.156Z"
   },
   {
    "duration": 28,
    "start_time": "2022-01-26T10:36:39.212Z"
   },
   {
    "duration": 4,
    "start_time": "2022-01-26T10:36:39.241Z"
   },
   {
    "duration": 44,
    "start_time": "2022-01-26T10:36:39.246Z"
   },
   {
    "duration": 35,
    "start_time": "2022-01-26T10:36:39.291Z"
   },
   {
    "duration": 48,
    "start_time": "2022-01-26T10:36:39.328Z"
   },
   {
    "duration": 39,
    "start_time": "2022-01-26T10:36:39.378Z"
   },
   {
    "duration": 22,
    "start_time": "2022-01-26T10:36:39.419Z"
   },
   {
    "duration": 34,
    "start_time": "2022-01-26T10:36:39.442Z"
   },
   {
    "duration": 25,
    "start_time": "2022-01-26T10:36:39.478Z"
   },
   {
    "duration": 214,
    "start_time": "2022-01-26T10:36:39.505Z"
   },
   {
    "duration": 7,
    "start_time": "2022-01-26T10:36:39.722Z"
   },
   {
    "duration": 25,
    "start_time": "2022-01-26T10:36:39.731Z"
   },
   {
    "duration": 40,
    "start_time": "2022-01-26T10:36:39.758Z"
   },
   {
    "duration": 26,
    "start_time": "2022-01-26T10:36:39.800Z"
   },
   {
    "duration": 4,
    "start_time": "2022-01-26T10:36:39.828Z"
   },
   {
    "duration": 30,
    "start_time": "2022-01-26T10:36:39.833Z"
   },
   {
    "duration": 12,
    "start_time": "2022-01-26T10:36:39.865Z"
   },
   {
    "duration": 330,
    "start_time": "2022-01-26T10:36:39.879Z"
   },
   {
    "duration": 332,
    "start_time": "2022-01-26T10:36:40.210Z"
   },
   {
    "duration": 430,
    "start_time": "2022-01-26T10:36:40.544Z"
   },
   {
    "duration": 11,
    "start_time": "2022-01-26T10:36:40.977Z"
   },
   {
    "duration": 7,
    "start_time": "2022-01-26T10:36:40.990Z"
   },
   {
    "duration": 5,
    "start_time": "2022-01-26T10:36:40.998Z"
   },
   {
    "duration": 8,
    "start_time": "2022-01-26T10:36:41.004Z"
   },
   {
    "duration": 4,
    "start_time": "2022-01-26T10:36:41.013Z"
   },
   {
    "duration": 334,
    "start_time": "2022-01-26T10:36:41.019Z"
   },
   {
    "duration": 293,
    "start_time": "2022-01-26T10:36:41.354Z"
   },
   {
    "duration": 8,
    "start_time": "2022-01-26T10:36:41.649Z"
   },
   {
    "duration": 24,
    "start_time": "2022-01-26T10:36:41.658Z"
   },
   {
    "duration": 5,
    "start_time": "2022-01-26T10:36:41.684Z"
   },
   {
    "duration": 5,
    "start_time": "2022-01-26T10:36:41.691Z"
   },
   {
    "duration": 7,
    "start_time": "2022-01-26T10:36:41.697Z"
   },
   {
    "duration": 397,
    "start_time": "2022-01-26T10:36:41.705Z"
   },
   {
    "duration": 293,
    "start_time": "2022-01-26T10:36:42.104Z"
   },
   {
    "duration": 27,
    "start_time": "2022-01-26T10:36:42.399Z"
   },
   {
    "duration": 86,
    "start_time": "2022-01-26T10:36:42.428Z"
   },
   {
    "duration": 5,
    "start_time": "2022-01-26T10:36:42.516Z"
   },
   {
    "duration": 11,
    "start_time": "2022-01-26T10:36:42.522Z"
   },
   {
    "duration": 4,
    "start_time": "2022-01-26T10:36:42.535Z"
   },
   {
    "duration": 5,
    "start_time": "2022-01-26T10:37:18.697Z"
   },
   {
    "duration": 6,
    "start_time": "2022-01-26T10:38:47.767Z"
   },
   {
    "duration": 5,
    "start_time": "2022-01-26T10:39:01.424Z"
   },
   {
    "duration": 13,
    "start_time": "2022-01-26T10:43:41.136Z"
   },
   {
    "duration": 12,
    "start_time": "2022-01-26T10:43:56.556Z"
   },
   {
    "duration": 10,
    "start_time": "2022-01-26T10:49:06.583Z"
   },
   {
    "duration": 5,
    "start_time": "2022-01-26T10:49:16.898Z"
   },
   {
    "duration": 11,
    "start_time": "2022-01-26T10:49:58.947Z"
   },
   {
    "duration": 1142,
    "start_time": "2022-07-04T10:24:26.874Z"
   },
   {
    "duration": 1231,
    "start_time": "2022-07-04T10:24:40.982Z"
   },
   {
    "duration": 309,
    "start_time": "2022-07-04T10:24:42.215Z"
   },
   {
    "duration": 124,
    "start_time": "2022-07-04T10:24:42.526Z"
   },
   {
    "duration": 42,
    "start_time": "2022-07-04T10:24:42.652Z"
   },
   {
    "duration": 54,
    "start_time": "2022-07-04T10:24:42.696Z"
   },
   {
    "duration": 52,
    "start_time": "2022-07-04T10:24:42.752Z"
   },
   {
    "duration": 45,
    "start_time": "2022-07-04T10:24:42.806Z"
   },
   {
    "duration": 30,
    "start_time": "2022-07-04T10:24:42.852Z"
   },
   {
    "duration": 3,
    "start_time": "2022-07-04T10:24:42.884Z"
   },
   {
    "duration": 24,
    "start_time": "2022-07-04T10:24:42.889Z"
   },
   {
    "duration": 51,
    "start_time": "2022-07-04T10:24:42.914Z"
   },
   {
    "duration": 27,
    "start_time": "2022-07-04T10:24:42.967Z"
   },
   {
    "duration": 30,
    "start_time": "2022-07-04T10:24:42.995Z"
   },
   {
    "duration": 41,
    "start_time": "2022-07-04T10:24:43.028Z"
   },
   {
    "duration": 17,
    "start_time": "2022-07-04T10:24:43.071Z"
   },
   {
    "duration": 24,
    "start_time": "2022-07-04T10:24:43.089Z"
   },
   {
    "duration": 118,
    "start_time": "2022-07-04T10:24:43.114Z"
   },
   {
    "duration": 7,
    "start_time": "2022-07-04T10:24:43.234Z"
   },
   {
    "duration": 24,
    "start_time": "2022-07-04T10:24:43.242Z"
   },
   {
    "duration": 30,
    "start_time": "2022-07-04T10:24:43.267Z"
   },
   {
    "duration": 26,
    "start_time": "2022-07-04T10:24:43.298Z"
   },
   {
    "duration": 26,
    "start_time": "2022-07-04T10:24:43.325Z"
   },
   {
    "duration": 9,
    "start_time": "2022-07-04T10:24:43.353Z"
   },
   {
    "duration": 5,
    "start_time": "2022-07-04T10:24:43.363Z"
   },
   {
    "duration": 221,
    "start_time": "2022-07-04T10:24:43.370Z"
   },
   {
    "duration": 191,
    "start_time": "2022-07-04T10:24:43.593Z"
   },
   {
    "duration": 288,
    "start_time": "2022-07-04T10:24:43.786Z"
   },
   {
    "duration": 9,
    "start_time": "2022-07-04T10:24:44.076Z"
   },
   {
    "duration": 7,
    "start_time": "2022-07-04T10:24:44.086Z"
   },
   {
    "duration": 5,
    "start_time": "2022-07-04T10:24:44.095Z"
   },
   {
    "duration": 6,
    "start_time": "2022-07-04T10:24:44.102Z"
   },
   {
    "duration": 5,
    "start_time": "2022-07-04T10:24:44.110Z"
   },
   {
    "duration": 222,
    "start_time": "2022-07-04T10:24:44.116Z"
   },
   {
    "duration": 229,
    "start_time": "2022-07-04T10:24:44.339Z"
   },
   {
    "duration": 9,
    "start_time": "2022-07-04T10:24:44.570Z"
   },
   {
    "duration": 13,
    "start_time": "2022-07-04T10:24:44.581Z"
   },
   {
    "duration": 8,
    "start_time": "2022-07-04T10:24:44.595Z"
   },
   {
    "duration": 7,
    "start_time": "2022-07-04T10:24:44.606Z"
   },
   {
    "duration": 7,
    "start_time": "2022-07-04T10:24:44.615Z"
   },
   {
    "duration": 216,
    "start_time": "2022-07-04T10:24:44.624Z"
   },
   {
    "duration": 255,
    "start_time": "2022-07-04T10:24:44.851Z"
   },
   {
    "duration": 27,
    "start_time": "2022-07-04T10:24:45.107Z"
   },
   {
    "duration": 64,
    "start_time": "2022-07-04T10:24:45.135Z"
   },
   {
    "duration": 5,
    "start_time": "2022-07-04T10:24:45.200Z"
   },
   {
    "duration": 12,
    "start_time": "2022-07-04T10:24:45.207Z"
   },
   {
    "duration": 9,
    "start_time": "2022-07-04T10:24:45.220Z"
   },
   {
    "duration": 10,
    "start_time": "2022-07-04T10:24:45.251Z"
   },
   {
    "duration": 58,
    "start_time": "2022-07-04T10:25:57.579Z"
   }
  ],
  "kernelspec": {
   "display_name": "Python 3 (ipykernel)",
   "language": "python",
   "name": "python3"
  },
  "language_info": {
   "codemirror_mode": {
    "name": "ipython",
    "version": 3
   },
   "file_extension": ".py",
   "mimetype": "text/x-python",
   "name": "python",
   "nbconvert_exporter": "python",
   "pygments_lexer": "ipython3",
   "version": "3.9.5"
  },
  "toc": {
   "base_numbering": 1,
   "nav_menu": {},
   "number_sections": true,
   "sideBar": true,
   "skip_h1_title": true,
   "title_cell": "Table of Contents",
   "title_sidebar": "Contents",
   "toc_cell": false,
   "toc_position": {
    "height": "calc(100% - 180px)",
    "left": "10px",
    "top": "150px",
    "width": "292px"
   },
   "toc_section_display": true,
   "toc_window_display": false
  }
 },
 "nbformat": 4,
 "nbformat_minor": 2
}

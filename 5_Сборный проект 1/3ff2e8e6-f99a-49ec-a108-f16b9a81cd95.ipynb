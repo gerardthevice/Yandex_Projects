{
 "cells": [
  {
   "cell_type": "markdown",
   "metadata": {},
   "source": [
    "# Проект о продаже компьютерных игр"
   ]
  },
  {
   "cell_type": "markdown",
   "metadata": {},
   "source": [
    "Интернет-магазине «Стримчик» продаёт по всему миру компьютерные игры. Из открытых источников доступны  данные о продажах игр, оценки пользователей и экспертов, жанры и платформы (например, Xbox или PlayStation). Необходимо выявить определяющие успешность игры закономерности. Это позволит сделать ставку на потенциально популярный продукт и спланировать рекламные кампании.\n",
    "Перед нами данные до 2016 года. Представим, что сейчас декабрь 2016 г., и мы планируем кампанию на 2017-й. Необходимо отработать принцип работы с данными. "
   ]
  },
  {
   "cell_type": "markdown",
   "metadata": {},
   "source": [
    "## Изучение данных из файла"
   ]
  },
  {
   "cell_type": "code",
   "execution_count": null,
   "metadata": {},
   "outputs": [],
   "source": [
    "# получение таблицы  и импортируем необходимые библиотеки\n",
    "import pandas as pd\n",
    "import matplotlib.pyplot as plt\n",
    "from scipy import stats as st\n",
    "\n",
    "import warnings\n",
    "warnings.filterwarnings('ignore')"
   ]
  },
  {
   "cell_type": "code",
   "execution_count": 1,
   "metadata": {},
   "outputs": [
    {
     "data": {
      "text/html": [
       "<div>\n",
       "<style scoped>\n",
       "    .dataframe tbody tr th:only-of-type {\n",
       "        vertical-align: middle;\n",
       "    }\n",
       "\n",
       "    .dataframe tbody tr th {\n",
       "        vertical-align: top;\n",
       "    }\n",
       "\n",
       "    .dataframe thead th {\n",
       "        text-align: right;\n",
       "    }\n",
       "</style>\n",
       "<table border=\"1\" class=\"dataframe\">\n",
       "  <thead>\n",
       "    <tr style=\"text-align: right;\">\n",
       "      <th></th>\n",
       "      <th>Name</th>\n",
       "      <th>Platform</th>\n",
       "      <th>Year_of_Release</th>\n",
       "      <th>Genre</th>\n",
       "      <th>NA_sales</th>\n",
       "      <th>EU_sales</th>\n",
       "      <th>JP_sales</th>\n",
       "      <th>Other_sales</th>\n",
       "      <th>Critic_Score</th>\n",
       "      <th>User_Score</th>\n",
       "      <th>Rating</th>\n",
       "    </tr>\n",
       "  </thead>\n",
       "  <tbody>\n",
       "    <tr>\n",
       "      <td>0</td>\n",
       "      <td>Wii Sports</td>\n",
       "      <td>Wii</td>\n",
       "      <td>2006.0</td>\n",
       "      <td>Sports</td>\n",
       "      <td>41.36</td>\n",
       "      <td>28.96</td>\n",
       "      <td>3.77</td>\n",
       "      <td>8.45</td>\n",
       "      <td>76.0</td>\n",
       "      <td>8</td>\n",
       "      <td>E</td>\n",
       "    </tr>\n",
       "    <tr>\n",
       "      <td>1</td>\n",
       "      <td>Super Mario Bros.</td>\n",
       "      <td>NES</td>\n",
       "      <td>1985.0</td>\n",
       "      <td>Platform</td>\n",
       "      <td>29.08</td>\n",
       "      <td>3.58</td>\n",
       "      <td>6.81</td>\n",
       "      <td>0.77</td>\n",
       "      <td>NaN</td>\n",
       "      <td>NaN</td>\n",
       "      <td>NaN</td>\n",
       "    </tr>\n",
       "    <tr>\n",
       "      <td>2</td>\n",
       "      <td>Mario Kart Wii</td>\n",
       "      <td>Wii</td>\n",
       "      <td>2008.0</td>\n",
       "      <td>Racing</td>\n",
       "      <td>15.68</td>\n",
       "      <td>12.76</td>\n",
       "      <td>3.79</td>\n",
       "      <td>3.29</td>\n",
       "      <td>82.0</td>\n",
       "      <td>8.3</td>\n",
       "      <td>E</td>\n",
       "    </tr>\n",
       "    <tr>\n",
       "      <td>3</td>\n",
       "      <td>Wii Sports Resort</td>\n",
       "      <td>Wii</td>\n",
       "      <td>2009.0</td>\n",
       "      <td>Sports</td>\n",
       "      <td>15.61</td>\n",
       "      <td>10.93</td>\n",
       "      <td>3.28</td>\n",
       "      <td>2.95</td>\n",
       "      <td>80.0</td>\n",
       "      <td>8</td>\n",
       "      <td>E</td>\n",
       "    </tr>\n",
       "    <tr>\n",
       "      <td>4</td>\n",
       "      <td>Pokemon Red/Pokemon Blue</td>\n",
       "      <td>GB</td>\n",
       "      <td>1996.0</td>\n",
       "      <td>Role-Playing</td>\n",
       "      <td>11.27</td>\n",
       "      <td>8.89</td>\n",
       "      <td>10.22</td>\n",
       "      <td>1.00</td>\n",
       "      <td>NaN</td>\n",
       "      <td>NaN</td>\n",
       "      <td>NaN</td>\n",
       "    </tr>\n",
       "    <tr>\n",
       "      <td>5</td>\n",
       "      <td>Tetris</td>\n",
       "      <td>GB</td>\n",
       "      <td>1989.0</td>\n",
       "      <td>Puzzle</td>\n",
       "      <td>23.20</td>\n",
       "      <td>2.26</td>\n",
       "      <td>4.22</td>\n",
       "      <td>0.58</td>\n",
       "      <td>NaN</td>\n",
       "      <td>NaN</td>\n",
       "      <td>NaN</td>\n",
       "    </tr>\n",
       "    <tr>\n",
       "      <td>6</td>\n",
       "      <td>New Super Mario Bros.</td>\n",
       "      <td>DS</td>\n",
       "      <td>2006.0</td>\n",
       "      <td>Platform</td>\n",
       "      <td>11.28</td>\n",
       "      <td>9.14</td>\n",
       "      <td>6.50</td>\n",
       "      <td>2.88</td>\n",
       "      <td>89.0</td>\n",
       "      <td>8.5</td>\n",
       "      <td>E</td>\n",
       "    </tr>\n",
       "    <tr>\n",
       "      <td>7</td>\n",
       "      <td>Wii Play</td>\n",
       "      <td>Wii</td>\n",
       "      <td>2006.0</td>\n",
       "      <td>Misc</td>\n",
       "      <td>13.96</td>\n",
       "      <td>9.18</td>\n",
       "      <td>2.93</td>\n",
       "      <td>2.84</td>\n",
       "      <td>58.0</td>\n",
       "      <td>6.6</td>\n",
       "      <td>E</td>\n",
       "    </tr>\n",
       "    <tr>\n",
       "      <td>8</td>\n",
       "      <td>New Super Mario Bros. Wii</td>\n",
       "      <td>Wii</td>\n",
       "      <td>2009.0</td>\n",
       "      <td>Platform</td>\n",
       "      <td>14.44</td>\n",
       "      <td>6.94</td>\n",
       "      <td>4.70</td>\n",
       "      <td>2.24</td>\n",
       "      <td>87.0</td>\n",
       "      <td>8.4</td>\n",
       "      <td>E</td>\n",
       "    </tr>\n",
       "    <tr>\n",
       "      <td>9</td>\n",
       "      <td>Duck Hunt</td>\n",
       "      <td>NES</td>\n",
       "      <td>1984.0</td>\n",
       "      <td>Shooter</td>\n",
       "      <td>26.93</td>\n",
       "      <td>0.63</td>\n",
       "      <td>0.28</td>\n",
       "      <td>0.47</td>\n",
       "      <td>NaN</td>\n",
       "      <td>NaN</td>\n",
       "      <td>NaN</td>\n",
       "    </tr>\n",
       "  </tbody>\n",
       "</table>\n",
       "</div>"
      ],
      "text/plain": [
       "                        Name Platform  Year_of_Release         Genre  \\\n",
       "0                 Wii Sports      Wii           2006.0        Sports   \n",
       "1          Super Mario Bros.      NES           1985.0      Platform   \n",
       "2             Mario Kart Wii      Wii           2008.0        Racing   \n",
       "3          Wii Sports Resort      Wii           2009.0        Sports   \n",
       "4   Pokemon Red/Pokemon Blue       GB           1996.0  Role-Playing   \n",
       "5                     Tetris       GB           1989.0        Puzzle   \n",
       "6      New Super Mario Bros.       DS           2006.0      Platform   \n",
       "7                   Wii Play      Wii           2006.0          Misc   \n",
       "8  New Super Mario Bros. Wii      Wii           2009.0      Platform   \n",
       "9                  Duck Hunt      NES           1984.0       Shooter   \n",
       "\n",
       "   NA_sales  EU_sales  JP_sales  Other_sales  Critic_Score User_Score Rating  \n",
       "0     41.36     28.96      3.77         8.45          76.0          8      E  \n",
       "1     29.08      3.58      6.81         0.77           NaN        NaN    NaN  \n",
       "2     15.68     12.76      3.79         3.29          82.0        8.3      E  \n",
       "3     15.61     10.93      3.28         2.95          80.0          8      E  \n",
       "4     11.27      8.89     10.22         1.00           NaN        NaN    NaN  \n",
       "5     23.20      2.26      4.22         0.58           NaN        NaN    NaN  \n",
       "6     11.28      9.14      6.50         2.88          89.0        8.5      E  \n",
       "7     13.96      9.18      2.93         2.84          58.0        6.6      E  \n",
       "8     14.44      6.94      4.70         2.24          87.0        8.4      E  \n",
       "9     26.93      0.63      0.28         0.47           NaN        NaN    NaN  "
      ]
     },
     "metadata": {},
     "output_type": "display_data"
    }
   ],
   "source": [
    "data = pd.read_csv('/datasets/games.csv')\n",
    "display(data.head(10))"
   ]
  },
  {
   "cell_type": "code",
   "execution_count": 2,
   "metadata": {},
   "outputs": [
    {
     "name": "stdout",
     "output_type": "stream",
     "text": [
      "<class 'pandas.core.frame.DataFrame'>\n",
      "RangeIndex: 16715 entries, 0 to 16714\n",
      "Data columns (total 11 columns):\n",
      "Name               16713 non-null object\n",
      "Platform           16715 non-null object\n",
      "Year_of_Release    16446 non-null float64\n",
      "Genre              16713 non-null object\n",
      "NA_sales           16715 non-null float64\n",
      "EU_sales           16715 non-null float64\n",
      "JP_sales           16715 non-null float64\n",
      "Other_sales        16715 non-null float64\n",
      "Critic_Score       8137 non-null float64\n",
      "User_Score         10014 non-null object\n",
      "Rating             9949 non-null object\n",
      "dtypes: float64(6), object(5)\n",
      "memory usage: 1.4+ MB\n"
     ]
    }
   ],
   "source": [
    "# получение общей информации о данных в таблице\n",
    "data.info()"
   ]
  },
  {
   "cell_type": "markdown",
   "metadata": {},
   "source": [
    "###  Вывод"
   ]
  },
  {
   "cell_type": "markdown",
   "metadata": {},
   "source": [
    "В таблице 16715 строк и 11 столбцов, представлены данные типов object и float64. Судя по количеству данных в столбцах Year_of_Release, Critic_Score, User_Score и Rating присутствуют пропуски. Также видим в заголовках столбцов нарушения регистра - заглавные буквы."
   ]
  },
  {
   "cell_type": "markdown",
   "metadata": {},
   "source": [
    "## Подготовка данных"
   ]
  },
  {
   "cell_type": "code",
   "execution_count": 3,
   "metadata": {},
   "outputs": [
    {
     "name": "stdout",
     "output_type": "stream",
     "text": [
      "<class 'pandas.core.frame.DataFrame'>\n",
      "RangeIndex: 16715 entries, 0 to 16714\n",
      "Data columns (total 11 columns):\n",
      "name               16713 non-null object\n",
      "platform           16715 non-null object\n",
      "year_of_release    16446 non-null float64\n",
      "genre              16713 non-null object\n",
      "na_sales           16715 non-null float64\n",
      "eu_sales           16715 non-null float64\n",
      "jp_sales           16715 non-null float64\n",
      "other_sales        16715 non-null float64\n",
      "critic_score       8137 non-null float64\n",
      "user_score         10014 non-null object\n",
      "rating             9949 non-null object\n",
      "dtypes: float64(6), object(5)\n",
      "memory usage: 1.4+ MB\n"
     ]
    }
   ],
   "source": [
    "# приведем данные к нижнему регистру\n",
    "data.columns = data.columns.str.lower()\n",
    "data.info()"
   ]
  },
  {
   "cell_type": "code",
   "execution_count": 4,
   "metadata": {},
   "outputs": [],
   "source": [
    "# поменяем тип данных в Year_of_Release на datetime\n",
    "data['year_of_release'] = pd.to_datetime(data['year_of_release'], format='%Y')"
   ]
  },
  {
   "cell_type": "code",
   "execution_count": 5,
   "metadata": {},
   "outputs": [],
   "source": [
    "# в графе user_score можно поменять данные на float  и заменить значения tbd (подлежит уточнению) на nan\n",
    "data['user_score'].unique()\n",
    "data.loc[data['user_score'] == 'tbd', 'user_score'] = float('nan')\n",
    "data['user_score'] = data['user_score'].astype(float)"
   ]
  },
  {
   "cell_type": "code",
   "execution_count": 6,
   "metadata": {},
   "outputs": [],
   "source": [
    "# в столбце rating просмотрели данные, заменим пропуски на indefinite\n",
    "data['rating'].unique()\n",
    "data['rating'] = data['rating'].fillna('indefinite')"
   ]
  },
  {
   "cell_type": "code",
   "execution_count": 7,
   "metadata": {},
   "outputs": [
    {
     "data": {
      "text/plain": [
       "name                  2\n",
       "platform              0\n",
       "year_of_release     269\n",
       "genre                 2\n",
       "na_sales              0\n",
       "eu_sales              0\n",
       "jp_sales              0\n",
       "other_sales           0\n",
       "critic_score       8578\n",
       "user_score         9125\n",
       "rating                0\n",
       "dtype: int64"
      ]
     },
     "execution_count": 7,
     "metadata": {},
     "output_type": "execute_result"
    }
   ],
   "source": [
    "# посмотрим на пропуски\n",
    "# используем метод isna(), чтобы найти пропущенные значения в столбцах, где данные, очевидно, пропущенны\n",
    "data.isna().sum()"
   ]
  },
  {
   "cell_type": "markdown",
   "metadata": {},
   "source": [
    "Доля пропусков в name и genre составляет 1%, с ними можно ничего не делать"
   ]
  },
  {
   "cell_type": "code",
   "execution_count": 8,
   "metadata": {},
   "outputs": [],
   "source": [
    "# пропусков в годах не так много (1.6%), их можно удалить\n",
    "data.dropna(subset = ['year_of_release'], inplace=True)"
   ]
  },
  {
   "cell_type": "code",
   "execution_count": 9,
   "metadata": {},
   "outputs": [
    {
     "data": {
      "text/html": [
       "<div>\n",
       "<style scoped>\n",
       "    .dataframe tbody tr th:only-of-type {\n",
       "        vertical-align: middle;\n",
       "    }\n",
       "\n",
       "    .dataframe tbody tr th {\n",
       "        vertical-align: top;\n",
       "    }\n",
       "\n",
       "    .dataframe thead th {\n",
       "        text-align: right;\n",
       "    }\n",
       "</style>\n",
       "<table border=\"1\" class=\"dataframe\">\n",
       "  <thead>\n",
       "    <tr style=\"text-align: right;\">\n",
       "      <th></th>\n",
       "      <th>name</th>\n",
       "      <th>platform</th>\n",
       "      <th>year_of_release</th>\n",
       "      <th>genre</th>\n",
       "      <th>na_sales</th>\n",
       "      <th>eu_sales</th>\n",
       "      <th>jp_sales</th>\n",
       "      <th>other_sales</th>\n",
       "      <th>critic_score</th>\n",
       "      <th>user_score</th>\n",
       "      <th>rating</th>\n",
       "      <th>total_sales</th>\n",
       "    </tr>\n",
       "  </thead>\n",
       "  <tbody>\n",
       "    <tr>\n",
       "      <td>0</td>\n",
       "      <td>Wii Sports</td>\n",
       "      <td>Wii</td>\n",
       "      <td>2006-01-01</td>\n",
       "      <td>Sports</td>\n",
       "      <td>41.36</td>\n",
       "      <td>28.96</td>\n",
       "      <td>3.77</td>\n",
       "      <td>8.45</td>\n",
       "      <td>76.0</td>\n",
       "      <td>8.0</td>\n",
       "      <td>E</td>\n",
       "      <td>82.54</td>\n",
       "    </tr>\n",
       "    <tr>\n",
       "      <td>1</td>\n",
       "      <td>Super Mario Bros.</td>\n",
       "      <td>NES</td>\n",
       "      <td>1985-01-01</td>\n",
       "      <td>Platform</td>\n",
       "      <td>29.08</td>\n",
       "      <td>3.58</td>\n",
       "      <td>6.81</td>\n",
       "      <td>0.77</td>\n",
       "      <td>NaN</td>\n",
       "      <td>NaN</td>\n",
       "      <td>indefinite</td>\n",
       "      <td>40.24</td>\n",
       "    </tr>\n",
       "    <tr>\n",
       "      <td>2</td>\n",
       "      <td>Mario Kart Wii</td>\n",
       "      <td>Wii</td>\n",
       "      <td>2008-01-01</td>\n",
       "      <td>Racing</td>\n",
       "      <td>15.68</td>\n",
       "      <td>12.76</td>\n",
       "      <td>3.79</td>\n",
       "      <td>3.29</td>\n",
       "      <td>82.0</td>\n",
       "      <td>8.3</td>\n",
       "      <td>E</td>\n",
       "      <td>35.52</td>\n",
       "    </tr>\n",
       "    <tr>\n",
       "      <td>3</td>\n",
       "      <td>Wii Sports Resort</td>\n",
       "      <td>Wii</td>\n",
       "      <td>2009-01-01</td>\n",
       "      <td>Sports</td>\n",
       "      <td>15.61</td>\n",
       "      <td>10.93</td>\n",
       "      <td>3.28</td>\n",
       "      <td>2.95</td>\n",
       "      <td>80.0</td>\n",
       "      <td>8.0</td>\n",
       "      <td>E</td>\n",
       "      <td>32.77</td>\n",
       "    </tr>\n",
       "    <tr>\n",
       "      <td>4</td>\n",
       "      <td>Pokemon Red/Pokemon Blue</td>\n",
       "      <td>GB</td>\n",
       "      <td>1996-01-01</td>\n",
       "      <td>Role-Playing</td>\n",
       "      <td>11.27</td>\n",
       "      <td>8.89</td>\n",
       "      <td>10.22</td>\n",
       "      <td>1.00</td>\n",
       "      <td>NaN</td>\n",
       "      <td>NaN</td>\n",
       "      <td>indefinite</td>\n",
       "      <td>31.38</td>\n",
       "    </tr>\n",
       "  </tbody>\n",
       "</table>\n",
       "</div>"
      ],
      "text/plain": [
       "                       name platform year_of_release         genre  na_sales  \\\n",
       "0                Wii Sports      Wii      2006-01-01        Sports     41.36   \n",
       "1         Super Mario Bros.      NES      1985-01-01      Platform     29.08   \n",
       "2            Mario Kart Wii      Wii      2008-01-01        Racing     15.68   \n",
       "3         Wii Sports Resort      Wii      2009-01-01        Sports     15.61   \n",
       "4  Pokemon Red/Pokemon Blue       GB      1996-01-01  Role-Playing     11.27   \n",
       "\n",
       "   eu_sales  jp_sales  other_sales  critic_score  user_score      rating  \\\n",
       "0     28.96      3.77         8.45          76.0         8.0           E   \n",
       "1      3.58      6.81         0.77           NaN         NaN  indefinite   \n",
       "2     12.76      3.79         3.29          82.0         8.3           E   \n",
       "3     10.93      3.28         2.95          80.0         8.0           E   \n",
       "4      8.89     10.22         1.00           NaN         NaN  indefinite   \n",
       "\n",
       "   total_sales  \n",
       "0        82.54  \n",
       "1        40.24  \n",
       "2        35.52  \n",
       "3        32.77  \n",
       "4        31.38  "
      ]
     },
     "execution_count": 9,
     "metadata": {},
     "output_type": "execute_result"
    }
   ],
   "source": [
    "# считаем выручку по всем регионам и записываем ее в новый столбец\n",
    "data['total_sales'] = data['na_sales'] + data['eu_sales'] + data['jp_sales'] + data['other_sales']\n",
    "data.head()"
   ]
  },
  {
   "cell_type": "markdown",
   "metadata": {},
   "source": [
    "### Вывод"
   ]
  },
  {
   "cell_type": "markdown",
   "metadata": {},
   "source": [
    "По итогам предобработки данных были заменены типы данных в Year_of_Release на datetime и в графе user_score - на float. \n",
    "В столбце rating пропуски заменила на indefinite, так как пропуски будут мешать при будущем анализе.\n",
    "Пропуски в year_of_release удалили, так как их доля составляет 1.6%.\n",
    "Названия столбцов приведены к нижнему регистру.\n",
    "Также был создан столбец с подсчетами общей выручки по всем регионам."
   ]
  },
  {
   "cell_type": "markdown",
   "metadata": {},
   "source": [
    "## Исследовательский анализ данных"
   ]
  },
  {
   "cell_type": "markdown",
   "metadata": {},
   "source": [
    "### Сколько игр выпускалось в разные годы"
   ]
  },
  {
   "cell_type": "code",
   "execution_count": 10,
   "metadata": {},
   "outputs": [
    {
     "data": {
      "text/html": [
       "<div>\n",
       "<style scoped>\n",
       "    .dataframe tbody tr th:only-of-type {\n",
       "        vertical-align: middle;\n",
       "    }\n",
       "\n",
       "    .dataframe tbody tr th {\n",
       "        vertical-align: top;\n",
       "    }\n",
       "\n",
       "    .dataframe thead th {\n",
       "        text-align: right;\n",
       "    }\n",
       "</style>\n",
       "<table border=\"1\" class=\"dataframe\">\n",
       "  <thead>\n",
       "    <tr style=\"text-align: right;\">\n",
       "      <th></th>\n",
       "      <th>number_of_games</th>\n",
       "    </tr>\n",
       "    <tr>\n",
       "      <th>year_of_release</th>\n",
       "      <th></th>\n",
       "    </tr>\n",
       "  </thead>\n",
       "  <tbody>\n",
       "    <tr>\n",
       "      <td>2008-01-01</td>\n",
       "      <td>1427</td>\n",
       "    </tr>\n",
       "    <tr>\n",
       "      <td>2009-01-01</td>\n",
       "      <td>1426</td>\n",
       "    </tr>\n",
       "    <tr>\n",
       "      <td>2010-01-01</td>\n",
       "      <td>1255</td>\n",
       "    </tr>\n",
       "    <tr>\n",
       "      <td>2007-01-01</td>\n",
       "      <td>1197</td>\n",
       "    </tr>\n",
       "    <tr>\n",
       "      <td>2011-01-01</td>\n",
       "      <td>1136</td>\n",
       "    </tr>\n",
       "    <tr>\n",
       "      <td>2006-01-01</td>\n",
       "      <td>1006</td>\n",
       "    </tr>\n",
       "    <tr>\n",
       "      <td>2005-01-01</td>\n",
       "      <td>939</td>\n",
       "    </tr>\n",
       "    <tr>\n",
       "      <td>2002-01-01</td>\n",
       "      <td>829</td>\n",
       "    </tr>\n",
       "    <tr>\n",
       "      <td>2003-01-01</td>\n",
       "      <td>775</td>\n",
       "    </tr>\n",
       "    <tr>\n",
       "      <td>2004-01-01</td>\n",
       "      <td>762</td>\n",
       "    </tr>\n",
       "    <tr>\n",
       "      <td>2012-01-01</td>\n",
       "      <td>653</td>\n",
       "    </tr>\n",
       "    <tr>\n",
       "      <td>2015-01-01</td>\n",
       "      <td>606</td>\n",
       "    </tr>\n",
       "    <tr>\n",
       "      <td>2014-01-01</td>\n",
       "      <td>581</td>\n",
       "    </tr>\n",
       "    <tr>\n",
       "      <td>2013-01-01</td>\n",
       "      <td>544</td>\n",
       "    </tr>\n",
       "    <tr>\n",
       "      <td>2016-01-01</td>\n",
       "      <td>502</td>\n",
       "    </tr>\n",
       "    <tr>\n",
       "      <td>2001-01-01</td>\n",
       "      <td>482</td>\n",
       "    </tr>\n",
       "    <tr>\n",
       "      <td>1998-01-01</td>\n",
       "      <td>379</td>\n",
       "    </tr>\n",
       "    <tr>\n",
       "      <td>2000-01-01</td>\n",
       "      <td>350</td>\n",
       "    </tr>\n",
       "    <tr>\n",
       "      <td>1999-01-01</td>\n",
       "      <td>338</td>\n",
       "    </tr>\n",
       "    <tr>\n",
       "      <td>1997-01-01</td>\n",
       "      <td>289</td>\n",
       "    </tr>\n",
       "    <tr>\n",
       "      <td>1996-01-01</td>\n",
       "      <td>263</td>\n",
       "    </tr>\n",
       "    <tr>\n",
       "      <td>1995-01-01</td>\n",
       "      <td>219</td>\n",
       "    </tr>\n",
       "    <tr>\n",
       "      <td>1994-01-01</td>\n",
       "      <td>121</td>\n",
       "    </tr>\n",
       "    <tr>\n",
       "      <td>1993-01-01</td>\n",
       "      <td>62</td>\n",
       "    </tr>\n",
       "    <tr>\n",
       "      <td>1981-01-01</td>\n",
       "      <td>46</td>\n",
       "    </tr>\n",
       "    <tr>\n",
       "      <td>1992-01-01</td>\n",
       "      <td>43</td>\n",
       "    </tr>\n",
       "    <tr>\n",
       "      <td>1991-01-01</td>\n",
       "      <td>41</td>\n",
       "    </tr>\n",
       "    <tr>\n",
       "      <td>1982-01-01</td>\n",
       "      <td>36</td>\n",
       "    </tr>\n",
       "    <tr>\n",
       "      <td>1986-01-01</td>\n",
       "      <td>21</td>\n",
       "    </tr>\n",
       "    <tr>\n",
       "      <td>1989-01-01</td>\n",
       "      <td>17</td>\n",
       "    </tr>\n",
       "    <tr>\n",
       "      <td>1983-01-01</td>\n",
       "      <td>17</td>\n",
       "    </tr>\n",
       "    <tr>\n",
       "      <td>1990-01-01</td>\n",
       "      <td>16</td>\n",
       "    </tr>\n",
       "    <tr>\n",
       "      <td>1987-01-01</td>\n",
       "      <td>16</td>\n",
       "    </tr>\n",
       "    <tr>\n",
       "      <td>1988-01-01</td>\n",
       "      <td>15</td>\n",
       "    </tr>\n",
       "    <tr>\n",
       "      <td>1985-01-01</td>\n",
       "      <td>14</td>\n",
       "    </tr>\n",
       "    <tr>\n",
       "      <td>1984-01-01</td>\n",
       "      <td>14</td>\n",
       "    </tr>\n",
       "    <tr>\n",
       "      <td>1980-01-01</td>\n",
       "      <td>9</td>\n",
       "    </tr>\n",
       "  </tbody>\n",
       "</table>\n",
       "</div>"
      ],
      "text/plain": [
       "                 number_of_games\n",
       "year_of_release                 \n",
       "2008-01-01                  1427\n",
       "2009-01-01                  1426\n",
       "2010-01-01                  1255\n",
       "2007-01-01                  1197\n",
       "2011-01-01                  1136\n",
       "2006-01-01                  1006\n",
       "2005-01-01                   939\n",
       "2002-01-01                   829\n",
       "2003-01-01                   775\n",
       "2004-01-01                   762\n",
       "2012-01-01                   653\n",
       "2015-01-01                   606\n",
       "2014-01-01                   581\n",
       "2013-01-01                   544\n",
       "2016-01-01                   502\n",
       "2001-01-01                   482\n",
       "1998-01-01                   379\n",
       "2000-01-01                   350\n",
       "1999-01-01                   338\n",
       "1997-01-01                   289\n",
       "1996-01-01                   263\n",
       "1995-01-01                   219\n",
       "1994-01-01                   121\n",
       "1993-01-01                    62\n",
       "1981-01-01                    46\n",
       "1992-01-01                    43\n",
       "1991-01-01                    41\n",
       "1982-01-01                    36\n",
       "1986-01-01                    21\n",
       "1989-01-01                    17\n",
       "1983-01-01                    17\n",
       "1990-01-01                    16\n",
       "1987-01-01                    16\n",
       "1988-01-01                    15\n",
       "1985-01-01                    14\n",
       "1984-01-01                    14\n",
       "1980-01-01                     9"
      ]
     },
     "metadata": {},
     "output_type": "display_data"
    },
    {
     "data": {
      "text/plain": [
       "<matplotlib.axes._subplots.AxesSubplot at 0x7fbe94ee8890>"
      ]
     },
     "execution_count": 10,
     "metadata": {},
     "output_type": "execute_result"
    },
    {
     "data": {
      "image/png": "[encoded data removed]",
      "text/plain": [
       "<Figure size 1080x360 with 1 Axes>"
      ]
     },
     "metadata": {
      "needs_background": "light"
     },
     "output_type": "display_data"
    }
   ],
   "source": [
    "# группируем количество игр по годам и сортируем в порядке убывания\n",
    "game_years = data.groupby(['year_of_release']).agg({'year_of_release' : 'count'})\n",
    "game_years.columns = ['number_of_games']\n",
    "display(game_years.sort_values(by='number_of_games', ascending = False))\n",
    "game_years.sort_values(by='number_of_games', ascending = False).plot(figsize=(15,5), title = 'Выпуск игр по годам')"
   ]
  },
  {
   "cell_type": "markdown",
   "metadata": {},
   "source": [
    "Из таблицы и графика видно, что большинство игр выходило в период с 2002 по 2011 годы, в 2012 наблюдалось падение выпуска игр, с тех пор рост оставался незначительным. Пик выпуска игр наблюдался с 2007 по 2009 года."
   ]
  },
  {
   "cell_type": "markdown",
   "metadata": {},
   "source": [
    "### На каких платформах выпускались игры в разные годы"
   ]
  },
  {
   "cell_type": "code",
   "execution_count": 11,
   "metadata": {},
   "outputs": [
    {
     "data": {
      "text/html": [
       "<div>\n",
       "<style scoped>\n",
       "    .dataframe tbody tr th:only-of-type {\n",
       "        vertical-align: middle;\n",
       "    }\n",
       "\n",
       "    .dataframe tbody tr th {\n",
       "        vertical-align: top;\n",
       "    }\n",
       "\n",
       "    .dataframe thead th {\n",
       "        text-align: right;\n",
       "    }\n",
       "</style>\n",
       "<table border=\"1\" class=\"dataframe\">\n",
       "  <thead>\n",
       "    <tr style=\"text-align: right;\">\n",
       "      <th></th>\n",
       "      <th>platform_sales</th>\n",
       "    </tr>\n",
       "    <tr>\n",
       "      <th>platform</th>\n",
       "      <th></th>\n",
       "    </tr>\n",
       "  </thead>\n",
       "  <tbody>\n",
       "    <tr>\n",
       "      <td>PS2</td>\n",
       "      <td>1233.56</td>\n",
       "    </tr>\n",
       "    <tr>\n",
       "      <td>X360</td>\n",
       "      <td>961.24</td>\n",
       "    </tr>\n",
       "    <tr>\n",
       "      <td>PS3</td>\n",
       "      <td>931.34</td>\n",
       "    </tr>\n",
       "    <tr>\n",
       "      <td>Wii</td>\n",
       "      <td>891.18</td>\n",
       "    </tr>\n",
       "    <tr>\n",
       "      <td>DS</td>\n",
       "      <td>802.78</td>\n",
       "    </tr>\n",
       "    <tr>\n",
       "      <td>PS</td>\n",
       "      <td>727.58</td>\n",
       "    </tr>\n",
       "    <tr>\n",
       "      <td>PS4</td>\n",
       "      <td>314.14</td>\n",
       "    </tr>\n",
       "    <tr>\n",
       "      <td>GBA</td>\n",
       "      <td>312.88</td>\n",
       "    </tr>\n",
       "    <tr>\n",
       "      <td>PSP</td>\n",
       "      <td>289.53</td>\n",
       "    </tr>\n",
       "    <tr>\n",
       "      <td>3DS</td>\n",
       "      <td>257.81</td>\n",
       "    </tr>\n",
       "    <tr>\n",
       "      <td>PC</td>\n",
       "      <td>255.76</td>\n",
       "    </tr>\n",
       "    <tr>\n",
       "      <td>GB</td>\n",
       "      <td>254.43</td>\n",
       "    </tr>\n",
       "    <tr>\n",
       "      <td>XB</td>\n",
       "      <td>251.57</td>\n",
       "    </tr>\n",
       "    <tr>\n",
       "      <td>NES</td>\n",
       "      <td>251.05</td>\n",
       "    </tr>\n",
       "    <tr>\n",
       "      <td>N64</td>\n",
       "      <td>218.01</td>\n",
       "    </tr>\n",
       "    <tr>\n",
       "      <td>SNES</td>\n",
       "      <td>200.04</td>\n",
       "    </tr>\n",
       "    <tr>\n",
       "      <td>GC</td>\n",
       "      <td>196.73</td>\n",
       "    </tr>\n",
       "    <tr>\n",
       "      <td>XOne</td>\n",
       "      <td>159.32</td>\n",
       "    </tr>\n",
       "    <tr>\n",
       "      <td>2600</td>\n",
       "      <td>86.48</td>\n",
       "    </tr>\n",
       "    <tr>\n",
       "      <td>WiiU</td>\n",
       "      <td>82.19</td>\n",
       "    </tr>\n",
       "    <tr>\n",
       "      <td>PSV</td>\n",
       "      <td>53.81</td>\n",
       "    </tr>\n",
       "    <tr>\n",
       "      <td>SAT</td>\n",
       "      <td>33.59</td>\n",
       "    </tr>\n",
       "    <tr>\n",
       "      <td>GEN</td>\n",
       "      <td>30.77</td>\n",
       "    </tr>\n",
       "    <tr>\n",
       "      <td>DC</td>\n",
       "      <td>15.95</td>\n",
       "    </tr>\n",
       "    <tr>\n",
       "      <td>SCD</td>\n",
       "      <td>1.86</td>\n",
       "    </tr>\n",
       "    <tr>\n",
       "      <td>NG</td>\n",
       "      <td>1.44</td>\n",
       "    </tr>\n",
       "    <tr>\n",
       "      <td>WS</td>\n",
       "      <td>1.42</td>\n",
       "    </tr>\n",
       "    <tr>\n",
       "      <td>TG16</td>\n",
       "      <td>0.16</td>\n",
       "    </tr>\n",
       "    <tr>\n",
       "      <td>3DO</td>\n",
       "      <td>0.10</td>\n",
       "    </tr>\n",
       "    <tr>\n",
       "      <td>GG</td>\n",
       "      <td>0.04</td>\n",
       "    </tr>\n",
       "    <tr>\n",
       "      <td>PCFX</td>\n",
       "      <td>0.03</td>\n",
       "    </tr>\n",
       "  </tbody>\n",
       "</table>\n",
       "</div>"
      ],
      "text/plain": [
       "          platform_sales\n",
       "platform                \n",
       "PS2              1233.56\n",
       "X360              961.24\n",
       "PS3               931.34\n",
       "Wii               891.18\n",
       "DS                802.78\n",
       "PS                727.58\n",
       "PS4               314.14\n",
       "GBA               312.88\n",
       "PSP               289.53\n",
       "3DS               257.81\n",
       "PC                255.76\n",
       "GB                254.43\n",
       "XB                251.57\n",
       "NES               251.05\n",
       "N64               218.01\n",
       "SNES              200.04\n",
       "GC                196.73\n",
       "XOne              159.32\n",
       "2600               86.48\n",
       "WiiU               82.19\n",
       "PSV                53.81\n",
       "SAT                33.59\n",
       "GEN                30.77\n",
       "DC                 15.95\n",
       "SCD                 1.86\n",
       "NG                  1.44\n",
       "WS                  1.42\n",
       "TG16                0.16\n",
       "3DO                 0.10\n",
       "GG                  0.04\n",
       "PCFX                0.03"
      ]
     },
     "metadata": {},
     "output_type": "display_data"
    }
   ],
   "source": [
    "# построим таблицу, где можно будет увидеть платформы c наиболььшим количеством продаж\n",
    "platform_sales = data.groupby(['platform']).agg({'total_sales' : 'sum'})\n",
    "platform_sales.columns = ['platform_sales']\n",
    "display(platform_sales.sort_values(by='platform_sales', ascending = False))"
   ]
  },
  {
   "cell_type": "markdown",
   "metadata": {},
   "source": [
    "Из таблицы видно, что самыми популярными платформами были PS2, X360, PS3, Wii."
   ]
  },
  {
   "cell_type": "code",
   "execution_count": 12,
   "metadata": {},
   "outputs": [
    {
     "data": {
      "text/plain": [
       "<matplotlib.axes._subplots.AxesSubplot at 0x7fbf14069090>"
      ]
     },
     "execution_count": 12,
     "metadata": {},
     "output_type": "execute_result"
    },
    {
     "data": {
      "image/png": "[encoded data removed]",
      "text/plain": [
       "<Figure size 864x360 with 1 Axes>"
      ]
     },
     "metadata": {
      "needs_background": "light"
     },
     "output_type": "display_data"
    }
   ],
   "source": [
    "data.query('platform in [\"PS2\", \"X360\", \"PS3\", \"Wii\"]').pivot_table(index='year_of_release', columns = 'platform', values='total_sales', aggfunc='sum').plot(grid=True, figsize=(12, 5), title = 'Продажи игр на разных платформах по годам')\n"
   ]
  },
  {
   "cell_type": "markdown",
   "metadata": {},
   "source": [
    "Из таблицы и графика видно, что пик продаж игровой платформы длится примерно 5 лет, после чего продажи спадают."
   ]
  },
  {
   "cell_type": "markdown",
   "metadata": {},
   "source": [
    "### Какие платформы лидируют по продажам, растут или падают на основе данных актуального периода"
   ]
  },
  {
   "cell_type": "markdown",
   "metadata": {},
   "source": [
    "На основе проанализированных данных можно выделить актуальный период для дальнейшего анализа и прогнозирования  - 2 года. \n",
    "Во-первых, стоит помнить о специфике индустрии. Продукты геймдева могут вести себя непредсказуемо, с учетом этого, стоит оставаться в рамка краткосрочного или среднесрочного периодов. \n",
    "Во-вторых, жизнь платформы составляет 5 лет, что включает в себя рост и постепенный спад популярности.\n",
    "На основе этих доводов стоит брать период для анализа не более 2 лет.\n"
   ]
  },
  {
   "cell_type": "code",
   "execution_count": 13,
   "metadata": {},
   "outputs": [
    {
     "data": {
      "text/html": [
       "<div>\n",
       "<style scoped>\n",
       "    .dataframe tbody tr th:only-of-type {\n",
       "        vertical-align: middle;\n",
       "    }\n",
       "\n",
       "    .dataframe tbody tr th {\n",
       "        vertical-align: top;\n",
       "    }\n",
       "\n",
       "    .dataframe thead th {\n",
       "        text-align: right;\n",
       "    }\n",
       "</style>\n",
       "<table border=\"1\" class=\"dataframe\">\n",
       "  <thead>\n",
       "    <tr style=\"text-align: right;\">\n",
       "      <th></th>\n",
       "      <th>name</th>\n",
       "      <th>platform</th>\n",
       "      <th>year_of_release</th>\n",
       "      <th>genre</th>\n",
       "      <th>na_sales</th>\n",
       "      <th>eu_sales</th>\n",
       "      <th>jp_sales</th>\n",
       "      <th>other_sales</th>\n",
       "      <th>critic_score</th>\n",
       "      <th>user_score</th>\n",
       "      <th>rating</th>\n",
       "      <th>total_sales</th>\n",
       "    </tr>\n",
       "  </thead>\n",
       "  <tbody>\n",
       "    <tr>\n",
       "      <td>31</td>\n",
       "      <td>Call of Duty: Black Ops 3</td>\n",
       "      <td>PS4</td>\n",
       "      <td>2015-01-01</td>\n",
       "      <td>Shooter</td>\n",
       "      <td>6.03</td>\n",
       "      <td>5.86</td>\n",
       "      <td>0.36</td>\n",
       "      <td>2.38</td>\n",
       "      <td>NaN</td>\n",
       "      <td>NaN</td>\n",
       "      <td>indefinite</td>\n",
       "      <td>14.63</td>\n",
       "    </tr>\n",
       "    <tr>\n",
       "      <td>77</td>\n",
       "      <td>FIFA 16</td>\n",
       "      <td>PS4</td>\n",
       "      <td>2015-01-01</td>\n",
       "      <td>Sports</td>\n",
       "      <td>1.12</td>\n",
       "      <td>6.12</td>\n",
       "      <td>0.06</td>\n",
       "      <td>1.28</td>\n",
       "      <td>82.0</td>\n",
       "      <td>4.3</td>\n",
       "      <td>E</td>\n",
       "      <td>8.58</td>\n",
       "    </tr>\n",
       "    <tr>\n",
       "      <td>87</td>\n",
       "      <td>Star Wars Battlefront (2015)</td>\n",
       "      <td>PS4</td>\n",
       "      <td>2015-01-01</td>\n",
       "      <td>Shooter</td>\n",
       "      <td>2.99</td>\n",
       "      <td>3.49</td>\n",
       "      <td>0.22</td>\n",
       "      <td>1.28</td>\n",
       "      <td>NaN</td>\n",
       "      <td>NaN</td>\n",
       "      <td>indefinite</td>\n",
       "      <td>7.98</td>\n",
       "    </tr>\n",
       "    <tr>\n",
       "      <td>94</td>\n",
       "      <td>FIFA 17</td>\n",
       "      <td>PS4</td>\n",
       "      <td>2016-01-01</td>\n",
       "      <td>Sports</td>\n",
       "      <td>0.66</td>\n",
       "      <td>5.75</td>\n",
       "      <td>0.08</td>\n",
       "      <td>1.11</td>\n",
       "      <td>85.0</td>\n",
       "      <td>5.0</td>\n",
       "      <td>E</td>\n",
       "      <td>7.60</td>\n",
       "    </tr>\n",
       "    <tr>\n",
       "      <td>99</td>\n",
       "      <td>Call of Duty: Black Ops 3</td>\n",
       "      <td>XOne</td>\n",
       "      <td>2015-01-01</td>\n",
       "      <td>Shooter</td>\n",
       "      <td>4.59</td>\n",
       "      <td>2.11</td>\n",
       "      <td>0.01</td>\n",
       "      <td>0.68</td>\n",
       "      <td>NaN</td>\n",
       "      <td>NaN</td>\n",
       "      <td>indefinite</td>\n",
       "      <td>7.39</td>\n",
       "    </tr>\n",
       "    <tr>\n",
       "      <td>...</td>\n",
       "      <td>...</td>\n",
       "      <td>...</td>\n",
       "      <td>...</td>\n",
       "      <td>...</td>\n",
       "      <td>...</td>\n",
       "      <td>...</td>\n",
       "      <td>...</td>\n",
       "      <td>...</td>\n",
       "      <td>...</td>\n",
       "      <td>...</td>\n",
       "      <td>...</td>\n",
       "      <td>...</td>\n",
       "    </tr>\n",
       "    <tr>\n",
       "      <td>16699</td>\n",
       "      <td>The Longest 5 Minutes</td>\n",
       "      <td>PSV</td>\n",
       "      <td>2016-01-01</td>\n",
       "      <td>Action</td>\n",
       "      <td>0.00</td>\n",
       "      <td>0.00</td>\n",
       "      <td>0.01</td>\n",
       "      <td>0.00</td>\n",
       "      <td>NaN</td>\n",
       "      <td>NaN</td>\n",
       "      <td>indefinite</td>\n",
       "      <td>0.01</td>\n",
       "    </tr>\n",
       "    <tr>\n",
       "      <td>16703</td>\n",
       "      <td>Strawberry Nauts</td>\n",
       "      <td>PSV</td>\n",
       "      <td>2016-01-01</td>\n",
       "      <td>Adventure</td>\n",
       "      <td>0.00</td>\n",
       "      <td>0.00</td>\n",
       "      <td>0.01</td>\n",
       "      <td>0.00</td>\n",
       "      <td>NaN</td>\n",
       "      <td>NaN</td>\n",
       "      <td>indefinite</td>\n",
       "      <td>0.01</td>\n",
       "    </tr>\n",
       "    <tr>\n",
       "      <td>16710</td>\n",
       "      <td>Samurai Warriors: Sanada Maru</td>\n",
       "      <td>PS3</td>\n",
       "      <td>2016-01-01</td>\n",
       "      <td>Action</td>\n",
       "      <td>0.00</td>\n",
       "      <td>0.00</td>\n",
       "      <td>0.01</td>\n",
       "      <td>0.00</td>\n",
       "      <td>NaN</td>\n",
       "      <td>NaN</td>\n",
       "      <td>indefinite</td>\n",
       "      <td>0.01</td>\n",
       "    </tr>\n",
       "    <tr>\n",
       "      <td>16712</td>\n",
       "      <td>Haitaka no Psychedelica</td>\n",
       "      <td>PSV</td>\n",
       "      <td>2016-01-01</td>\n",
       "      <td>Adventure</td>\n",
       "      <td>0.00</td>\n",
       "      <td>0.00</td>\n",
       "      <td>0.01</td>\n",
       "      <td>0.00</td>\n",
       "      <td>NaN</td>\n",
       "      <td>NaN</td>\n",
       "      <td>indefinite</td>\n",
       "      <td>0.01</td>\n",
       "    </tr>\n",
       "    <tr>\n",
       "      <td>16714</td>\n",
       "      <td>Winning Post 8 2016</td>\n",
       "      <td>PSV</td>\n",
       "      <td>2016-01-01</td>\n",
       "      <td>Simulation</td>\n",
       "      <td>0.00</td>\n",
       "      <td>0.00</td>\n",
       "      <td>0.01</td>\n",
       "      <td>0.00</td>\n",
       "      <td>NaN</td>\n",
       "      <td>NaN</td>\n",
       "      <td>indefinite</td>\n",
       "      <td>0.01</td>\n",
       "    </tr>\n",
       "  </tbody>\n",
       "</table>\n",
       "<p>1108 rows × 12 columns</p>\n",
       "</div>"
      ],
      "text/plain": [
       "                                name platform year_of_release       genre  \\\n",
       "31         Call of Duty: Black Ops 3      PS4      2015-01-01     Shooter   \n",
       "77                           FIFA 16      PS4      2015-01-01      Sports   \n",
       "87      Star Wars Battlefront (2015)      PS4      2015-01-01     Shooter   \n",
       "94                           FIFA 17      PS4      2016-01-01      Sports   \n",
       "99         Call of Duty: Black Ops 3     XOne      2015-01-01     Shooter   \n",
       "...                              ...      ...             ...         ...   \n",
       "16699          The Longest 5 Minutes      PSV      2016-01-01      Action   \n",
       "16703               Strawberry Nauts      PSV      2016-01-01   Adventure   \n",
       "16710  Samurai Warriors: Sanada Maru      PS3      2016-01-01      Action   \n",
       "16712        Haitaka no Psychedelica      PSV      2016-01-01   Adventure   \n",
       "16714            Winning Post 8 2016      PSV      2016-01-01  Simulation   \n",
       "\n",
       "       na_sales  eu_sales  jp_sales  other_sales  critic_score  user_score  \\\n",
       "31         6.03      5.86      0.36         2.38           NaN         NaN   \n",
       "77         1.12      6.12      0.06         1.28          82.0         4.3   \n",
       "87         2.99      3.49      0.22         1.28           NaN         NaN   \n",
       "94         0.66      5.75      0.08         1.11          85.0         5.0   \n",
       "99         4.59      2.11      0.01         0.68           NaN         NaN   \n",
       "...         ...       ...       ...          ...           ...         ...   \n",
       "16699      0.00      0.00      0.01         0.00           NaN         NaN   \n",
       "16703      0.00      0.00      0.01         0.00           NaN         NaN   \n",
       "16710      0.00      0.00      0.01         0.00           NaN         NaN   \n",
       "16712      0.00      0.00      0.01         0.00           NaN         NaN   \n",
       "16714      0.00      0.00      0.01         0.00           NaN         NaN   \n",
       "\n",
       "           rating  total_sales  \n",
       "31     indefinite        14.63  \n",
       "77              E         8.58  \n",
       "87     indefinite         7.98  \n",
       "94              E         7.60  \n",
       "99     indefinite         7.39  \n",
       "...           ...          ...  \n",
       "16699  indefinite         0.01  \n",
       "16703  indefinite         0.01  \n",
       "16710  indefinite         0.01  \n",
       "16712  indefinite         0.01  \n",
       "16714  indefinite         0.01  \n",
       "\n",
       "[1108 rows x 12 columns]"
      ]
     },
     "metadata": {},
     "output_type": "display_data"
    }
   ],
   "source": [
    "# создадим датафрем с актульным периодом\n",
    "actual_data = data.query('year_of_release > 2014')\n",
    "display(actual_data)"
   ]
  },
  {
   "cell_type": "code",
   "execution_count": 14,
   "metadata": {},
   "outputs": [
    {
     "data": {
      "text/html": [
       "<div>\n",
       "<style scoped>\n",
       "    .dataframe tbody tr th:only-of-type {\n",
       "        vertical-align: middle;\n",
       "    }\n",
       "\n",
       "    .dataframe tbody tr th {\n",
       "        vertical-align: top;\n",
       "    }\n",
       "\n",
       "    .dataframe thead th {\n",
       "        text-align: right;\n",
       "    }\n",
       "</style>\n",
       "<table border=\"1\" class=\"dataframe\">\n",
       "  <thead>\n",
       "    <tr style=\"text-align: right;\">\n",
       "      <th></th>\n",
       "      <th>total_sales</th>\n",
       "    </tr>\n",
       "    <tr>\n",
       "      <th>platform</th>\n",
       "      <th></th>\n",
       "    </tr>\n",
       "  </thead>\n",
       "  <tbody>\n",
       "    <tr>\n",
       "      <td>PS4</td>\n",
       "      <td>188.15</td>\n",
       "    </tr>\n",
       "    <tr>\n",
       "      <td>XOne</td>\n",
       "      <td>86.29</td>\n",
       "    </tr>\n",
       "    <tr>\n",
       "      <td>3DS</td>\n",
       "      <td>42.92</td>\n",
       "    </tr>\n",
       "    <tr>\n",
       "      <td>WiiU</td>\n",
       "      <td>20.95</td>\n",
       "    </tr>\n",
       "    <tr>\n",
       "      <td>PS3</td>\n",
       "      <td>20.42</td>\n",
       "    </tr>\n",
       "    <tr>\n",
       "      <td>PC</td>\n",
       "      <td>13.77</td>\n",
       "    </tr>\n",
       "    <tr>\n",
       "      <td>X360</td>\n",
       "      <td>13.48</td>\n",
       "    </tr>\n",
       "    <tr>\n",
       "      <td>PSV</td>\n",
       "      <td>10.50</td>\n",
       "    </tr>\n",
       "    <tr>\n",
       "      <td>Wii</td>\n",
       "      <td>1.32</td>\n",
       "    </tr>\n",
       "    <tr>\n",
       "      <td>PSP</td>\n",
       "      <td>0.12</td>\n",
       "    </tr>\n",
       "  </tbody>\n",
       "</table>\n",
       "</div>"
      ],
      "text/plain": [
       "          total_sales\n",
       "platform             \n",
       "PS4            188.15\n",
       "XOne            86.29\n",
       "3DS             42.92\n",
       "WiiU            20.95\n",
       "PS3             20.42\n",
       "PC              13.77\n",
       "X360            13.48\n",
       "PSV             10.50\n",
       "Wii              1.32\n",
       "PSP              0.12"
      ]
     },
     "metadata": {},
     "output_type": "display_data"
    },
    {
     "data": {
      "text/plain": [
       "<matplotlib.axes._subplots.AxesSubplot at 0x7fbe8c6b3ed0>"
      ]
     },
     "execution_count": 14,
     "metadata": {},
     "output_type": "execute_result"
    },
    {
     "data": {
      "image/png": "[encoded data removed]",
      "text/plain": [
       "<Figure size 864x360 with 1 Axes>"
      ]
     },
     "metadata": {
      "needs_background": "light"
     },
     "output_type": "display_data"
    }
   ],
   "source": [
    "# построим таблицу, чтобы увидеть,какие платформы лидируют по продажам, растут или падают\n",
    "leading_platforms = actual_data.pivot_table(index='platform', values='total_sales', aggfunc='sum')\n",
    "display(leading_platforms.sort_values(by='total_sales', ascending=False))\n",
    "data.query('platform in [\"PS4\", \"XOne\", \"3DS\", \"WiiU\"]').pivot_table(index='year_of_release', columns = 'platform', values='total_sales', aggfunc='sum').plot(grid=True, figsize=(12, 5), title = 'Динамика игр')"
   ]
  },
  {
   "cell_type": "markdown",
   "metadata": {},
   "source": [
    "Из таблицы и графика видно, что самые высокие показатели в продажах за 2015 и 2016 год имеют платформы PS4, XOne и 3DS. \n",
    "Однако на графике видно, что их продажи все равно снижаются с 2015 года."
   ]
  },
  {
   "cell_type": "markdown",
   "metadata": {},
   "source": [
    "### Построение графика «ящик с усами» по глобальным продажам игр в разбивке по платформам. "
   ]
  },
  {
   "cell_type": "code",
   "execution_count": 15,
   "metadata": {},
   "outputs": [
    {
     "data": {
      "text/plain": [
       "Text(0.5, 1.0, 'Глобальные продажи игр по платформам')"
      ]
     },
     "execution_count": 15,
     "metadata": {},
     "output_type": "execute_result"
    },
    {
     "data": {
      "image/png": "[encoded data removed]",
      "text/plain": [
       "<Figure size 1440x720 with 1 Axes>"
      ]
     },
     "metadata": {
      "needs_background": "light"
     },
     "output_type": "display_data"
    }
   ],
   "source": [
    "actual_data.boxplot(column = 'total_sales', by='platform', figsize=(20,10))\n",
    "plt.ylim(0, 3)\n",
    "plt.title('Глобальные продажи игр по платформам')"
   ]
  },
  {
   "cell_type": "markdown",
   "metadata": {},
   "source": [
    "Построив графики типа boxplot видно, что в XOne имела самые высокие продажи (верхняя граница квартиля), за ней следует PS4 и WiiU. При этом их медианные значения (зеленая линяя) не сильно различаются. Также для PS4 наблюдается большое число выбросов. Для XOne, 3DS и WiiU их меньше. Выбросы видны за верхней границей, они обозначаются точками. "
   ]
  },
  {
   "cell_type": "markdown",
   "metadata": {},
   "source": [
    "### Влияние отзывов пользователей и критиков на продажи внутри одной популярной платформы "
   ]
  },
  {
   "cell_type": "code",
   "execution_count": 16,
   "metadata": {},
   "outputs": [
    {
     "data": {
      "image/png": "[encoded data removed]",
      "text/plain": [
       "<Figure size 576x288 with 1 Axes>"
      ]
     },
     "metadata": {
      "needs_background": "light"
     },
     "output_type": "display_data"
    },
    {
     "name": "stdout",
     "output_type": "stream",
     "text": [
      "-0.05973845712638215\n"
     ]
    }
   ],
   "source": [
    "# Далее необходимо выявить засисимости между отзывами пользователей и продажами внутри платформы PS4\n",
    "PS4_user_score = actual_data.query('platform == \"PS4\"')\n",
    "PS4_user_score.plot(kind = 'scatter', x='user_score', y='total_sales', title ='Зависимость между отзывами пользователей и продажами внутри платформы PS4',  grid=True, figsize=(8,4))\n",
    "plt.show()\n",
    "# посчитываем корреляцию\n",
    "print(PS4_user_score['total_sales'].corr(PS4_user_score['user_score']))"
   ]
  },
  {
   "cell_type": "markdown",
   "metadata": {},
   "source": [
    "Из диаграммы рассеяния и из коэффициента корреляции, что зависимость между оценкой пользователей и продажами практически отсутствует."
   ]
  },
  {
   "cell_type": "code",
   "execution_count": 17,
   "metadata": {},
   "outputs": [
    {
     "data": {
      "image/png": "[encoded data removed]",
      "text/plain": [
       "<Figure size 576x288 with 1 Axes>"
      ]
     },
     "metadata": {
      "needs_background": "light"
     },
     "output_type": "display_data"
    },
    {
     "name": "stdout",
     "output_type": "stream",
     "text": [
      "0.3928485555130601\n"
     ]
    }
   ],
   "source": [
    "# Далее необходимо выявить засисимости между отзывами критиков и продажами внутри платформы PS4\n",
    "PS4_critic_score = actual_data.query('platform == \"PS4\"')\n",
    "PS4_critic_score.plot(kind = 'scatter', x='critic_score', y='total_sales', title ='Зависимость между отзывами критиков и продажами внутри платформы PS4', color='orangered',  grid=True, figsize=(8,4))\n",
    "plt.show()\n",
    "# посчитываем корреляцию\n",
    "print(PS4_critic_score['total_sales'].corr(PS4_critic_score['critic_score']))"
   ]
  },
  {
   "cell_type": "markdown",
   "metadata": {},
   "source": [
    "Отзовы критиков сильнее влияют на продажи. Диаграмма показывает рост продаж там, где оценки критиков выше. Также коэффициент корреляции Пирсона равен 0.39. это говорит о наличии зависимости, хоть она и не слишком сильная."
   ]
  },
  {
   "cell_type": "markdown",
   "metadata": {},
   "source": [
    "### Влияние отзывов пользователей и критиков на продажи игр на других платформах"
   ]
  },
  {
   "cell_type": "code",
   "execution_count": 18,
   "metadata": {},
   "outputs": [
    {
     "data": {
      "image/png": "[encoded data removed]",
      "text/plain": [
       "<Figure size 576x288 with 1 Axes>"
      ]
     },
     "metadata": {
      "needs_background": "light"
     },
     "output_type": "display_data"
    },
    {
     "name": "stdout",
     "output_type": "stream",
     "text": [
      "0.017521130656321507\n"
     ]
    }
   ],
   "source": [
    "# необходимо выделить другие платформы и посмотрим зависимость между продажами и отзывами пользователей\n",
    "other_user_score = actual_data.query('platform != \"PS4\"')\n",
    "other_user_score.plot(kind = 'scatter', x='user_score', y='total_sales', title ='Зависимость между отзывами пользователей и продажами на других платформах', color='slateblue',  grid=True, figsize=(8,4))\n",
    "plt.show()\n",
    "# посчитываем корреляцию\n",
    "print(other_user_score['total_sales'].corr(other_user_score['user_score']))\n"
   ]
  },
  {
   "cell_type": "markdown",
   "metadata": {},
   "source": [
    "На других платформах отзывы пользователей тоже не влияют на продажи."
   ]
  },
  {
   "cell_type": "code",
   "execution_count": 19,
   "metadata": {},
   "outputs": [
    {
     "data": {
      "image/png": "[encoded data removed]",
      "text/plain": [
       "<Figure size 576x288 with 1 Axes>"
      ]
     },
     "metadata": {
      "needs_background": "light"
     },
     "output_type": "display_data"
    },
    {
     "name": "stdout",
     "output_type": "stream",
     "text": [
      "0.30324302098520883\n"
     ]
    }
   ],
   "source": [
    "# необходимо выявить засисимости между отзывами критиков и продажами на других платформах\n",
    "other_critic_score = actual_data.query('platform != \"PS4\"')\n",
    "other_critic_score.plot(kind = 'scatter', x='critic_score', y='total_sales', title ='Зависимость между отзывами критиков и продажами на других платформах', color='crimson',  grid=True, figsize=(8,4))\n",
    "plt.show()\n",
    "# посчитываем корреляцию\n",
    "print(other_critic_score['total_sales'].corr(other_critic_score['critic_score']))"
   ]
  },
  {
   "cell_type": "markdown",
   "metadata": {},
   "source": [
    "Внутри других платформ также видна пположительная зависимость между оценками критиков и продажами, она немного слабее, чем для платформы PS4."
   ]
  },
  {
   "cell_type": "markdown",
   "metadata": {},
   "source": [
    "### Общее распределение игр по жанрам"
   ]
  },
  {
   "cell_type": "code",
   "execution_count": 32,
   "metadata": {},
   "outputs": [
    {
     "data": {
      "text/html": [
       "<div>\n",
       "<style scoped>\n",
       "    .dataframe tbody tr th:only-of-type {\n",
       "        vertical-align: middle;\n",
       "    }\n",
       "\n",
       "    .dataframe tbody tr th {\n",
       "        vertical-align: top;\n",
       "    }\n",
       "\n",
       "    .dataframe thead th {\n",
       "        text-align: right;\n",
       "    }\n",
       "</style>\n",
       "<table border=\"1\" class=\"dataframe\">\n",
       "  <thead>\n",
       "    <tr style=\"text-align: right;\">\n",
       "      <th></th>\n",
       "      <th>total_sales</th>\n",
       "    </tr>\n",
       "    <tr>\n",
       "      <th>genre</th>\n",
       "      <th></th>\n",
       "    </tr>\n",
       "  </thead>\n",
       "  <tbody>\n",
       "    <tr>\n",
       "      <td>Shooter</td>\n",
       "      <td>0.380</td>\n",
       "    </tr>\n",
       "    <tr>\n",
       "      <td>Sports</td>\n",
       "      <td>0.120</td>\n",
       "    </tr>\n",
       "    <tr>\n",
       "      <td>Role-Playing</td>\n",
       "      <td>0.115</td>\n",
       "    </tr>\n",
       "    <tr>\n",
       "      <td>Platform</td>\n",
       "      <td>0.100</td>\n",
       "    </tr>\n",
       "    <tr>\n",
       "      <td>Simulation</td>\n",
       "      <td>0.100</td>\n",
       "    </tr>\n",
       "    <tr>\n",
       "      <td>Fighting</td>\n",
       "      <td>0.090</td>\n",
       "    </tr>\n",
       "    <tr>\n",
       "      <td>Action</td>\n",
       "      <td>0.060</td>\n",
       "    </tr>\n",
       "    <tr>\n",
       "      <td>Misc</td>\n",
       "      <td>0.060</td>\n",
       "    </tr>\n",
       "    <tr>\n",
       "      <td>Racing</td>\n",
       "      <td>0.055</td>\n",
       "    </tr>\n",
       "    <tr>\n",
       "      <td>Strategy</td>\n",
       "      <td>0.050</td>\n",
       "    </tr>\n",
       "    <tr>\n",
       "      <td>Adventure</td>\n",
       "      <td>0.030</td>\n",
       "    </tr>\n",
       "    <tr>\n",
       "      <td>Puzzle</td>\n",
       "      <td>0.030</td>\n",
       "    </tr>\n",
       "  </tbody>\n",
       "</table>\n",
       "</div>"
      ],
      "text/plain": [
       "              total_sales\n",
       "genre                    \n",
       "Shooter             0.380\n",
       "Sports              0.120\n",
       "Role-Playing        0.115\n",
       "Platform            0.100\n",
       "Simulation          0.100\n",
       "Fighting            0.090\n",
       "Action              0.060\n",
       "Misc                0.060\n",
       "Racing              0.055\n",
       "Strategy            0.050\n",
       "Adventure           0.030\n",
       "Puzzle              0.030"
      ]
     },
     "metadata": {},
     "output_type": "display_data"
    }
   ],
   "source": [
    "# посмотрим, какие жанры прибыльнее других\n",
    "leading_genres = actual_data.pivot_table(index='genre', values='total_sales', aggfunc='median')\n",
    "display(leading_genres.sort_values(by='total_sales', ascending=False))\n"
   ]
  },
  {
   "cell_type": "markdown",
   "metadata": {},
   "source": [
    "В таблице видно, что самыми прибыльными жанрами являются жанры Shooter, Sports и Role-Playing.\n",
    "Жанры с самым низким рейтингом продаж это: Puzzle, Strategy и Adventure."
   ]
  },
  {
   "cell_type": "markdown",
   "metadata": {},
   "source": [
    "### Вывод по исследовательскому анализу данных"
   ]
  },
  {
   "cell_type": "markdown",
   "metadata": {},
   "source": [
    "В исследовательском анализе данных было определено следующее.\n",
    "\n",
    "1) Выявлено сколько игр выпускалось в разны годы. Большинство игр выходило в период с 2002 по 2011 годы, в 2012 наблюдалось падение выпуска игр, с тех пор рост оставался незначительный. Пик выпуска игр наблюдался с 2007 по 2009 года.\n",
    "\n",
    "2) Продажи игр на разных платформах по годам, что позволило установить, что средняя продолжительность \"жизни\" платформы 5 лет.\n",
    "\n",
    "3) Установлен актуальный период (2 года) для основы будущего анализа. Также было определено, что в актуальном периоде лидирующими платформами являются PS4, XOne и 3DS.\n",
    "\n",
    "4) Далее было выявлено, что оценки пользователей не влияют на продажи игр, в то время как оценки критиков, наоборот, показывают определенную корреляцию с продажами, но эта зависимость слабая.\n",
    "\n",
    "5) Было определено, что самые прибыльные жанры это Shooter, Sports и Role-Playing."
   ]
  },
  {
   "cell_type": "markdown",
   "metadata": {},
   "source": [
    "## Портрет пользователя каждого региона"
   ]
  },
  {
   "cell_type": "markdown",
   "metadata": {},
   "source": [
    "### Популярные платформы по регионам"
   ]
  },
  {
   "cell_type": "code",
   "execution_count": 21,
   "metadata": {},
   "outputs": [
    {
     "data": {
      "text/html": [
       "<div>\n",
       "<style scoped>\n",
       "    .dataframe tbody tr th:only-of-type {\n",
       "        vertical-align: middle;\n",
       "    }\n",
       "\n",
       "    .dataframe tbody tr th {\n",
       "        vertical-align: top;\n",
       "    }\n",
       "\n",
       "    .dataframe thead th {\n",
       "        text-align: right;\n",
       "    }\n",
       "</style>\n",
       "<table border=\"1\" class=\"dataframe\">\n",
       "  <thead>\n",
       "    <tr style=\"text-align: right;\">\n",
       "      <th></th>\n",
       "      <th>na_sales</th>\n",
       "      <th>total_sales</th>\n",
       "      <th>na_share, %</th>\n",
       "    </tr>\n",
       "    <tr>\n",
       "      <th>platform</th>\n",
       "      <th></th>\n",
       "      <th></th>\n",
       "      <th></th>\n",
       "    </tr>\n",
       "  </thead>\n",
       "  <tbody>\n",
       "    <tr>\n",
       "      <td>PS4</td>\n",
       "      <td>63.86</td>\n",
       "      <td>188.15</td>\n",
       "      <td>33.941005</td>\n",
       "    </tr>\n",
       "    <tr>\n",
       "      <td>XOne</td>\n",
       "      <td>50.30</td>\n",
       "      <td>86.29</td>\n",
       "      <td>58.291807</td>\n",
       "    </tr>\n",
       "    <tr>\n",
       "      <td>3DS</td>\n",
       "      <td>10.31</td>\n",
       "      <td>42.92</td>\n",
       "      <td>24.021435</td>\n",
       "    </tr>\n",
       "    <tr>\n",
       "      <td>WiiU</td>\n",
       "      <td>8.86</td>\n",
       "      <td>20.95</td>\n",
       "      <td>42.291169</td>\n",
       "    </tr>\n",
       "    <tr>\n",
       "      <td>X360</td>\n",
       "      <td>8.05</td>\n",
       "      <td>13.48</td>\n",
       "      <td>59.718101</td>\n",
       "    </tr>\n",
       "  </tbody>\n",
       "</table>\n",
       "</div>"
      ],
      "text/plain": [
       "          na_sales  total_sales  na_share, %\n",
       "platform                                    \n",
       "PS4          63.86       188.15    33.941005\n",
       "XOne         50.30        86.29    58.291807\n",
       "3DS          10.31        42.92    24.021435\n",
       "WiiU          8.86        20.95    42.291169\n",
       "X360          8.05        13.48    59.718101"
      ]
     },
     "metadata": {},
     "output_type": "display_data"
    }
   ],
   "source": [
    "# выделим топ-5 платформ в Северной Америке\n",
    "na_top_platforms = actual_data.pivot_table(index='platform', values=['na_sales', 'total_sales'], aggfunc='sum')\n",
    "na_top_platforms['na_share, %'] = na_top_platforms['na_sales'] / na_top_platforms['total_sales'] * 100\n",
    "display(na_top_platforms.sort_values(by='na_sales', ascending=False).head(5))"
   ]
  },
  {
   "cell_type": "markdown",
   "metadata": {},
   "source": [
    "В таблице видно рейтинг продаж по платформам в Северной Америке. Самая большая доля от общих продаж у XOne и X360. Возможно на них выпускаются самые популярные игры."
   ]
  },
  {
   "cell_type": "code",
   "execution_count": 22,
   "metadata": {},
   "outputs": [
    {
     "data": {
      "text/html": [
       "<div>\n",
       "<style scoped>\n",
       "    .dataframe tbody tr th:only-of-type {\n",
       "        vertical-align: middle;\n",
       "    }\n",
       "\n",
       "    .dataframe tbody tr th {\n",
       "        vertical-align: top;\n",
       "    }\n",
       "\n",
       "    .dataframe thead th {\n",
       "        text-align: right;\n",
       "    }\n",
       "</style>\n",
       "<table border=\"1\" class=\"dataframe\">\n",
       "  <thead>\n",
       "    <tr style=\"text-align: right;\">\n",
       "      <th></th>\n",
       "      <th>eu_sales</th>\n",
       "      <th>total_sales</th>\n",
       "      <th>eu_sales, %</th>\n",
       "    </tr>\n",
       "    <tr>\n",
       "      <th>platform</th>\n",
       "      <th></th>\n",
       "      <th></th>\n",
       "      <th></th>\n",
       "    </tr>\n",
       "  </thead>\n",
       "  <tbody>\n",
       "    <tr>\n",
       "      <td>PS4</td>\n",
       "      <td>83.54</td>\n",
       "      <td>188.15</td>\n",
       "      <td>44.400744</td>\n",
       "    </tr>\n",
       "    <tr>\n",
       "      <td>XOne</td>\n",
       "      <td>28.10</td>\n",
       "      <td>86.29</td>\n",
       "      <td>32.564608</td>\n",
       "    </tr>\n",
       "    <tr>\n",
       "      <td>PC</td>\n",
       "      <td>9.10</td>\n",
       "      <td>13.77</td>\n",
       "      <td>66.085694</td>\n",
       "    </tr>\n",
       "    <tr>\n",
       "      <td>3DS</td>\n",
       "      <td>7.39</td>\n",
       "      <td>42.92</td>\n",
       "      <td>17.218080</td>\n",
       "    </tr>\n",
       "    <tr>\n",
       "      <td>PS3</td>\n",
       "      <td>7.30</td>\n",
       "      <td>20.42</td>\n",
       "      <td>35.749265</td>\n",
       "    </tr>\n",
       "  </tbody>\n",
       "</table>\n",
       "</div>"
      ],
      "text/plain": [
       "          eu_sales  total_sales  eu_sales, %\n",
       "platform                                    \n",
       "PS4          83.54       188.15    44.400744\n",
       "XOne         28.10        86.29    32.564608\n",
       "PC            9.10        13.77    66.085694\n",
       "3DS           7.39        42.92    17.218080\n",
       "PS3           7.30        20.42    35.749265"
      ]
     },
     "metadata": {},
     "output_type": "display_data"
    }
   ],
   "source": [
    "# выделим топ-5 платформ в Европе\n",
    "eu_top_platforms = actual_data.pivot_table(index='platform', values=['eu_sales', 'total_sales'], aggfunc='sum')\n",
    "eu_top_platforms['eu_sales, %'] = eu_top_platforms['eu_sales'] / eu_top_platforms['total_sales'] * 100\n",
    "display(eu_top_platforms.sort_values(by='eu_sales', ascending=False).head(5))"
   ]
  },
  {
   "cell_type": "markdown",
   "metadata": {},
   "source": [
    "В таблице видно рейтинг продаж по платформам в Европе. Самая большая доля от общих продаж у PC и PS4, хотя в абсолютном выражении первые 2 места занимает PS4 и XOne."
   ]
  },
  {
   "cell_type": "code",
   "execution_count": 23,
   "metadata": {},
   "outputs": [
    {
     "data": {
      "text/html": [
       "<div>\n",
       "<style scoped>\n",
       "    .dataframe tbody tr th:only-of-type {\n",
       "        vertical-align: middle;\n",
       "    }\n",
       "\n",
       "    .dataframe tbody tr th {\n",
       "        vertical-align: top;\n",
       "    }\n",
       "\n",
       "    .dataframe thead th {\n",
       "        text-align: right;\n",
       "    }\n",
       "</style>\n",
       "<table border=\"1\" class=\"dataframe\">\n",
       "  <thead>\n",
       "    <tr style=\"text-align: right;\">\n",
       "      <th></th>\n",
       "      <th>jp_sales</th>\n",
       "      <th>total_sales</th>\n",
       "      <th>jp_sales, %</th>\n",
       "    </tr>\n",
       "    <tr>\n",
       "      <th>platform</th>\n",
       "      <th></th>\n",
       "      <th></th>\n",
       "      <th></th>\n",
       "    </tr>\n",
       "  </thead>\n",
       "  <tbody>\n",
       "    <tr>\n",
       "      <td>3DS</td>\n",
       "      <td>23.55</td>\n",
       "      <td>42.92</td>\n",
       "      <td>54.869525</td>\n",
       "    </tr>\n",
       "    <tr>\n",
       "      <td>PS4</td>\n",
       "      <td>12.05</td>\n",
       "      <td>188.15</td>\n",
       "      <td>6.404465</td>\n",
       "    </tr>\n",
       "    <tr>\n",
       "      <td>PSV</td>\n",
       "      <td>8.41</td>\n",
       "      <td>10.50</td>\n",
       "      <td>80.095238</td>\n",
       "    </tr>\n",
       "    <tr>\n",
       "      <td>PS3</td>\n",
       "      <td>4.97</td>\n",
       "      <td>20.42</td>\n",
       "      <td>24.338883</td>\n",
       "    </tr>\n",
       "    <tr>\n",
       "      <td>WiiU</td>\n",
       "      <td>4.12</td>\n",
       "      <td>20.95</td>\n",
       "      <td>19.665871</td>\n",
       "    </tr>\n",
       "  </tbody>\n",
       "</table>\n",
       "</div>"
      ],
      "text/plain": [
       "          jp_sales  total_sales  jp_sales, %\n",
       "platform                                    \n",
       "3DS          23.55        42.92    54.869525\n",
       "PS4          12.05       188.15     6.404465\n",
       "PSV           8.41        10.50    80.095238\n",
       "PS3           4.97        20.42    24.338883\n",
       "WiiU          4.12        20.95    19.665871"
      ]
     },
     "metadata": {},
     "output_type": "display_data"
    }
   ],
   "source": [
    "# выделим топ-5 платформ в Японии\n",
    "jp_top_platforms = actual_data.pivot_table(index='platform', values=['jp_sales', 'total_sales'], aggfunc='sum')\n",
    "jp_top_platforms['jp_sales, %'] = jp_top_platforms['jp_sales'] / jp_top_platforms['total_sales'] * 100\n",
    "display(jp_top_platforms.sort_values(by='jp_sales', ascending=False).head(5))"
   ]
  },
  {
   "cell_type": "markdown",
   "metadata": {},
   "source": [
    "В Японии лидиует 3DS по количеству продаж, однако ее относительная доля занимает второе место - 55%. PSV, занимая 80% всех продаж, третяя по популярности платформа. Возможно на ней вышла очень популярная игра, которая продавалась только в Японии."
   ]
  },
  {
   "cell_type": "markdown",
   "metadata": {},
   "source": [
    "### Популярные жанры по регионам"
   ]
  },
  {
   "cell_type": "code",
   "execution_count": 24,
   "metadata": {},
   "outputs": [
    {
     "data": {
      "text/html": [
       "<div>\n",
       "<style scoped>\n",
       "    .dataframe tbody tr th:only-of-type {\n",
       "        vertical-align: middle;\n",
       "    }\n",
       "\n",
       "    .dataframe tbody tr th {\n",
       "        vertical-align: top;\n",
       "    }\n",
       "\n",
       "    .dataframe thead th {\n",
       "        text-align: right;\n",
       "    }\n",
       "</style>\n",
       "<table border=\"1\" class=\"dataframe\">\n",
       "  <thead>\n",
       "    <tr style=\"text-align: right;\">\n",
       "      <th></th>\n",
       "      <th>na_sales</th>\n",
       "    </tr>\n",
       "    <tr>\n",
       "      <th>genre</th>\n",
       "      <th></th>\n",
       "    </tr>\n",
       "  </thead>\n",
       "  <tbody>\n",
       "    <tr>\n",
       "      <td>Shooter</td>\n",
       "      <td>48.18</td>\n",
       "    </tr>\n",
       "    <tr>\n",
       "      <td>Action</td>\n",
       "      <td>33.68</td>\n",
       "    </tr>\n",
       "    <tr>\n",
       "      <td>Sports</td>\n",
       "      <td>26.31</td>\n",
       "    </tr>\n",
       "    <tr>\n",
       "      <td>Role-Playing</td>\n",
       "      <td>19.82</td>\n",
       "    </tr>\n",
       "    <tr>\n",
       "      <td>Misc</td>\n",
       "      <td>5.58</td>\n",
       "    </tr>\n",
       "  </tbody>\n",
       "</table>\n",
       "</div>"
      ],
      "text/plain": [
       "              na_sales\n",
       "genre                 \n",
       "Shooter          48.18\n",
       "Action           33.68\n",
       "Sports           26.31\n",
       "Role-Playing     19.82\n",
       "Misc              5.58"
      ]
     },
     "metadata": {},
     "output_type": "display_data"
    }
   ],
   "source": [
    "# выделим топ-5 жанров в Северной Америке\n",
    "na_top_genres = actual_data.pivot_table(index='genre', values='na_sales', aggfunc='sum')\n",
    "display(na_top_genres.sort_values(by='na_sales', ascending=False).head(5))"
   ]
  },
  {
   "cell_type": "markdown",
   "metadata": {},
   "source": [
    "Американцы любят Shooter, Action и Sports."
   ]
  },
  {
   "cell_type": "code",
   "execution_count": 25,
   "metadata": {},
   "outputs": [
    {
     "data": {
      "text/html": [
       "<div>\n",
       "<style scoped>\n",
       "    .dataframe tbody tr th:only-of-type {\n",
       "        vertical-align: middle;\n",
       "    }\n",
       "\n",
       "    .dataframe tbody tr th {\n",
       "        vertical-align: top;\n",
       "    }\n",
       "\n",
       "    .dataframe thead th {\n",
       "        text-align: right;\n",
       "    }\n",
       "</style>\n",
       "<table border=\"1\" class=\"dataframe\">\n",
       "  <thead>\n",
       "    <tr style=\"text-align: right;\">\n",
       "      <th></th>\n",
       "      <th>eu_sales</th>\n",
       "    </tr>\n",
       "    <tr>\n",
       "      <th>genre</th>\n",
       "      <th></th>\n",
       "    </tr>\n",
       "  </thead>\n",
       "  <tbody>\n",
       "    <tr>\n",
       "      <td>Shooter</td>\n",
       "      <td>40.28</td>\n",
       "    </tr>\n",
       "    <tr>\n",
       "      <td>Action</td>\n",
       "      <td>34.82</td>\n",
       "    </tr>\n",
       "    <tr>\n",
       "      <td>Sports</td>\n",
       "      <td>27.82</td>\n",
       "    </tr>\n",
       "    <tr>\n",
       "      <td>Role-Playing</td>\n",
       "      <td>17.21</td>\n",
       "    </tr>\n",
       "    <tr>\n",
       "      <td>Racing</td>\n",
       "      <td>6.52</td>\n",
       "    </tr>\n",
       "  </tbody>\n",
       "</table>\n",
       "</div>"
      ],
      "text/plain": [
       "              eu_sales\n",
       "genre                 \n",
       "Shooter          40.28\n",
       "Action           34.82\n",
       "Sports           27.82\n",
       "Role-Playing     17.21\n",
       "Racing            6.52"
      ]
     },
     "metadata": {},
     "output_type": "display_data"
    }
   ],
   "source": [
    "# выделим топ-5 жанров в Европе\n",
    "eu_top_genres = actual_data.pivot_table(index='genre', values='eu_sales', aggfunc='sum')\n",
    "display(eu_top_genres.sort_values(by='eu_sales', ascending=False).head(5))"
   ]
  },
  {
   "cell_type": "markdown",
   "metadata": {},
   "source": [
    "Европейцы тоже любят Shooter, Action и Sports, но стрелять любят немного меньше американцев."
   ]
  },
  {
   "cell_type": "code",
   "execution_count": 26,
   "metadata": {},
   "outputs": [
    {
     "data": {
      "text/html": [
       "<div>\n",
       "<style scoped>\n",
       "    .dataframe tbody tr th:only-of-type {\n",
       "        vertical-align: middle;\n",
       "    }\n",
       "\n",
       "    .dataframe tbody tr th {\n",
       "        vertical-align: top;\n",
       "    }\n",
       "\n",
       "    .dataframe thead th {\n",
       "        text-align: right;\n",
       "    }\n",
       "</style>\n",
       "<table border=\"1\" class=\"dataframe\">\n",
       "  <thead>\n",
       "    <tr style=\"text-align: right;\">\n",
       "      <th></th>\n",
       "      <th>jp_sales</th>\n",
       "    </tr>\n",
       "    <tr>\n",
       "      <th>genre</th>\n",
       "      <th></th>\n",
       "    </tr>\n",
       "  </thead>\n",
       "  <tbody>\n",
       "    <tr>\n",
       "      <td>Action</td>\n",
       "      <td>23.05</td>\n",
       "    </tr>\n",
       "    <tr>\n",
       "      <td>Role-Playing</td>\n",
       "      <td>13.41</td>\n",
       "    </tr>\n",
       "    <tr>\n",
       "      <td>Shooter</td>\n",
       "      <td>3.79</td>\n",
       "    </tr>\n",
       "    <tr>\n",
       "      <td>Misc</td>\n",
       "      <td>3.19</td>\n",
       "    </tr>\n",
       "    <tr>\n",
       "      <td>Adventure</td>\n",
       "      <td>2.22</td>\n",
       "    </tr>\n",
       "  </tbody>\n",
       "</table>\n",
       "</div>"
      ],
      "text/plain": [
       "              jp_sales\n",
       "genre                 \n",
       "Action           23.05\n",
       "Role-Playing     13.41\n",
       "Shooter           3.79\n",
       "Misc              3.19\n",
       "Adventure         2.22"
      ]
     },
     "metadata": {},
     "output_type": "display_data"
    }
   ],
   "source": [
    "# выделим топ-5 жанров в Японии\n",
    "jp_top_genres = actual_data.pivot_table(index='genre', values='jp_sales', aggfunc='sum')\n",
    "display(jp_top_genres.sort_values(by='jp_sales', ascending=False).head(5))"
   ]
  },
  {
   "cell_type": "markdown",
   "metadata": {},
   "source": [
    "Япония предпочитает Action и Role-Playing. Стрелялки занимают всего 3%, в то время как Sport вообще не вошел в топ-5. "
   ]
  },
  {
   "cell_type": "markdown",
   "metadata": {},
   "source": [
    "### Влияние рейтинга ESRB на продажи в регионах"
   ]
  },
  {
   "cell_type": "code",
   "execution_count": 27,
   "metadata": {},
   "outputs": [
    {
     "data": {
      "text/plain": [
       "Text(0.5, 1.0, 'Влияние рейтинга ESRB на продажи в Северной Америке')"
      ]
     },
     "execution_count": 27,
     "metadata": {},
     "output_type": "execute_result"
    },
    {
     "data": {
      "image/png": "[encoded data removed]",
      "text/plain": [
       "<Figure size 1440x720 with 1 Axes>"
      ]
     },
     "metadata": {
      "needs_background": "light"
     },
     "output_type": "display_data"
    }
   ],
   "source": [
    "# построим гистограмму размаха, чтобы посмотреть, как влияет рейтинг ESRB на продажи в Северной Америке\n",
    "actual_data.boxplot(column ='na_sales', by='rating', figsize=(20,10))\n",
    "plt.ylim(0, 3)\n",
    "plt.title('Влияние рейтинга ESRB на продажи в Северной Америке')"
   ]
  },
  {
   "cell_type": "markdown",
   "metadata": {},
   "source": [
    "Из диаграммы размаха видно, где проходит медиана. По ней можно оценить, как вляет рейтиинг на продажи в регионе. \n",
    "В данном случае самые высокие продажи у игр с рейтингом М, далее следует Е10+, Е и Т, три последних находятся примерно на одном уровне."
   ]
  },
  {
   "cell_type": "code",
   "execution_count": 28,
   "metadata": {},
   "outputs": [
    {
     "data": {
      "text/plain": [
       "Text(0.5, 1.0, 'Влияние рейтинга ESRB на продажи в Европе')"
      ]
     },
     "execution_count": 28,
     "metadata": {},
     "output_type": "execute_result"
    },
    {
     "data": {
      "image/png": "[encoded data removed]",
      "text/plain": [
       "<Figure size 1440x720 with 1 Axes>"
      ]
     },
     "metadata": {
      "needs_background": "light"
     },
     "output_type": "display_data"
    }
   ],
   "source": [
    "# построим гистограмму размаха, чтобы посмотреть, как влияет рейтинг ESRB на продажи в Европе\n",
    "actual_data.boxplot(column ='eu_sales', by='rating', figsize=(20,10))\n",
    "plt.ylim(0, 3)\n",
    "plt.title('Влияние рейтинга ESRB на продажи в Европе')"
   ]
  },
  {
   "cell_type": "markdown",
   "metadata": {},
   "source": [
    "В Европе случае самые высокие продажи у игр с рейтингом М, далее следет Е10+ и Е."
   ]
  },
  {
   "cell_type": "code",
   "execution_count": 29,
   "metadata": {},
   "outputs": [
    {
     "data": {
      "text/plain": [
       "Text(0.5, 1.0, 'Влияние рейтинга ESRB на продажи в Японии')"
      ]
     },
     "execution_count": 29,
     "metadata": {},
     "output_type": "execute_result"
    },
    {
     "data": {
      "image/png": "[encoded data removed]",
      "text/plain": [
       "<Figure size 1440x720 with 1 Axes>"
      ]
     },
     "metadata": {
      "needs_background": "light"
     },
     "output_type": "display_data"
    }
   ],
   "source": [
    "# построим гистограмму размаха, чтобы посмотреть, как влияет рейтинг ESRB на продажи в Японии\n",
    "actual_data.boxplot(column ='jp_sales', by='rating', figsize=(20,10))\n",
    "plt.ylim(0, 3)\n",
    "plt.title('Влияние рейтинга ESRB на продажи в Японии')"
   ]
  },
  {
   "cell_type": "markdown",
   "metadata": {},
   "source": [
    "В Японии тяжело определить влияние рейтинга. В случае, где медиана просматривается, рейтинг не определен. Это можно объяснить тем, что в Японии не присваивается рейтинг, который существует для игр в Северной Америке и Европе."
   ]
  },
  {
   "cell_type": "markdown",
   "metadata": {},
   "source": [
    "### Вывод по портретам пользователя"
   ]
  },
  {
   "cell_type": "markdown",
   "metadata": {},
   "source": [
    "Портрет пользователя в Северной Америке:\n",
    "- топ-5 платформ PS4 (33% рынка), XOne (58% рынка), 3DS (24% рынка), WiiU (42% рынка) и X360 (59% рынка);\n",
    "- топ-5 жанров Shooter, Action, Sports, Role-Playing, Misc;\n",
    "- самые высокие продажи у игр с рейтингом М, далее следет Е10+, Е и Т.\n",
    "\n",
    "Портрет пользователя в Европе:\n",
    "- топ-5 платформ PS4 (44% рынка), XOne (32% рынка), PC (66% рынка), 3DS (17% рынка) и PS3 (35% рынка);\n",
    "- топ-5 жанров Shooter, Action, Sports, Role-Playing, Racing;\n",
    "- самые высокие продажи у игр с рейтингом М, далее следет Е10+ и Е.\n",
    "\n",
    "Портрет пользователя в Японии:\n",
    "- топ-5 платформ 3DS (55% рынка), PS4 (6% рынка), PSV (80% рынка), PS3 (24% рынка) и WiiU (20% рынка);\n",
    "- топ-5 жанров Action, Role-Playing, Shooter, Misc, Adventure;\n",
    "- рейтинг ESRB не используется в Японии.\n",
    "\n",
    "Таким образом, самая популярная платформа в Северной Америке и Европе - это PS4, в Японии она занимает 2 место. В Европе и Америке XOne также пользуется большой популярностью, в то время как в Европе она не вошла в топ-5. В Японии нна первом месте рейтинга 3DS, в Европе и СА она не так популярна. \n",
    "\n",
    "Северная Америка и Европа имеет схожие вкусы в жанрах - Shooter, Action, Sports, Role-Playing на первых метах. В Японии же на первых местах среди жанров Action, Role-Playing, Shooter.\n",
    "\n",
    "Рейтинг ESRB, очевидно, используется только в СА и Европе.\n",
    "\n"
   ]
  },
  {
   "cell_type": "markdown",
   "metadata": {},
   "source": [
    "## Проверка гипотез"
   ]
  },
  {
   "cell_type": "markdown",
   "metadata": {},
   "source": [
    "### Проверка гипотезы, что средние пользовательские рейтинги платформ Xbox One и PC одинаковые"
   ]
  },
  {
   "cell_type": "markdown",
   "metadata": {},
   "source": [
    "Зададим условие, что пользовательские рейтинги платформ Xbox One и PC одинаковые - H0 (нулевая гипотеза), тогда Н1 (альтернаятиная гипотеза) утверждает, что рейтинги платформ Xbox One и PC разные.\n",
    "Зададим пороговое значение 5% и проверим двустороннюю гипотезу."
   ]
  },
  {
   "cell_type": "code",
   "execution_count": 30,
   "metadata": {},
   "outputs": [
    {
     "name": "stdout",
     "output_type": "stream",
     "text": [
      "p-значение 0.2778542084733835\n",
      "Не получилось отвергнуть нулевую гипотезу\n"
     ]
    }
   ],
   "source": [
    "xbox_users = actual_data.query('platform == \"XOne\"')\n",
    "pc_users = actual_data.query('platform == \"PC\"')\n",
    "\n",
    "xbox_users.dropna(subset = ['user_score'], inplace=True)\n",
    "pc_users.dropna(subset = ['user_score'], inplace=True)\n",
    "\n",
    "alpha = .05\n",
    "results = st.ttest_ind(\n",
    "    xbox_users['user_score'],\n",
    "    pc_users['user_score'])\n",
    "\n",
    "print('p-значение', results.pvalue)\n",
    "\n",
    "if results.pvalue < alpha:\n",
    "    print(\"Отвергаем нулевую гипотезу\")\n",
    "else:\n",
    "    print(\"Не получилось отвергнуть нулевую гипотезу\") \n"
   ]
  },
  {
   "cell_type": "markdown",
   "metadata": {},
   "source": [
    "Не получилось отвергнуть нулевую гипотезу - пользовательский рейтинг у Xbox One и PC одинаковый."
   ]
  },
  {
   "cell_type": "markdown",
   "metadata": {},
   "source": [
    "### Проверка гипотезы, что cредние пользовательские рейтинги жанров Action и Sports разные."
   ]
  },
  {
   "cell_type": "markdown",
   "metadata": {},
   "source": [
    "Зададим условие, что пользовательские рейтинги жанров Action и Sports одинаковые - H0 (нулевая гипотеза), тогда Н1 (альтернаятиная гипотеза) утверждает, что рейтинги жанров Action и Sports разные. Зададим пороговое значение 5% и проверим двустороннюю гипотезу."
   ]
  },
  {
   "cell_type": "code",
   "execution_count": 31,
   "metadata": {},
   "outputs": [
    {
     "name": "stdout",
     "output_type": "stream",
     "text": [
      "p-значение 1.0012846807938657e-13\n",
      "Отвергаем нулевую гипотезу\n"
     ]
    }
   ],
   "source": [
    "action_lovers = actual_data.query('genre == \"Action\"')\n",
    "sport_lovers = actual_data.query('genre == \"Sports\"')\n",
    "\n",
    "action_lovers.dropna(subset = ['user_score'], inplace=True)\n",
    "sport_lovers.dropna(subset = ['user_score'], inplace=True)\n",
    "\n",
    "alpha = .05\n",
    "results = st.ttest_ind(\n",
    "    action_lovers['user_score'],\n",
    "    sport_lovers['user_score'])\n",
    "\n",
    "print('p-значение', results.pvalue)\n",
    "\n",
    "if results.pvalue < alpha:\n",
    "    print(\"Отвергаем нулевую гипотезу\")\n",
    "else:\n",
    "    print(\"Не получилось отвергнуть нулевую гипотезу\") "
   ]
  },
  {
   "cell_type": "markdown",
   "metadata": {},
   "source": [
    "Отвергаем нулевую гипотезу - рейтинги жанров Action и Sports разные."
   ]
  },
  {
   "cell_type": "markdown",
   "metadata": {},
   "source": [
    "### Вывод по гипотезам"
   ]
  },
  {
   "cell_type": "markdown",
   "metadata": {},
   "source": [
    "После проведения t-теста определили, что\n",
    "- пользовательский рейтинг у Xbox One и PC одинаковый;\n",
    "- пользовательский рейтинг жанров Action и Sports разный."
   ]
  },
  {
   "cell_type": "markdown",
   "metadata": {},
   "source": [
    "## Общий вывод"
   ]
  },
  {
   "cell_type": "markdown",
   "metadata": {},
   "source": [
    "Аналитический отчет подготовлен для Интернет-магазина «Стримчик», который продаёт по всему миру компьютерные игры. На основе данных о продажах игр, оценки пользователей и экспертов, жанры и платформы (например, Xbox или PlayStation) необходимо было выявить определяющие успешность игры закономерности для того, чтобы сделать ставку на потенциально популярный продукт и спланировать рекламные кампании. Были доступны данные до 2017 года. \n",
    "\n",
    "На начальном этапе анализа данные были изучены и подготовлены к дальнейшей работе. \n",
    "В таблице 16715 строк и 11 столбцов, представлены данные типов object и float64. \n",
    "По итогам предобработки данных были заменены типы данных в Year_of_Release на datetime и в графе user_score - на float. В столбце rating пропуски заменили на indefiniteю. Пропуски в year_of_release удалили, так как их доля составляет 1.6%. Названия столбцов приведены к нижнему регистру. Также был создан столбец с подсчетами общей выручки по всем регионам.\n",
    "\n",
    "На следующем этапе был проведен исследовательский анализ данных.\n",
    "В исследовательском анализе данных было определено сколько игр выпускалось в разны годы, проанализированы продажи игр на разных платформах по годам, что позволило установить, что средняя продолжительность \"жизни\" платформы 5 лет. Был установлен актуальный период (2 года) для основы будущего анализа. Также было определено, что в актуальном периоде лидирующими платформами являются PS4, XOne и 3DS. Далее было выявлено, что оценки пользователей не влияют на продажи игр, в то время как оценки критиков, наоборот, показывают определенную корреляцию с продажами, но эта зависимость слабая. Также удалось определить самые прибыльные жанры, это  Shooter, Sports и Role-Playing.\n",
    "\n",
    "Далее составили был составлен пользовательский портрет по Северной Америке, Европе и Японии. \n",
    "По итогам анализа, выяснили, что самая популярная платформа в Северной Америке и Европе - это PS4, в Японии она занимает 2 место. В Европе и Америке XOne также пользуется большой популярностью, в то время как в Европе она не вошла в топ-5. В Японии на первом месте рейтинга 3DS, в Европе и СА она не так популярна. Северная Америка и Европа предпочитают те же жанры - Shooter, Action, Sports, Role-Playing на первых метах. В Японии же на первых местах среди жанров Action, Role-Playing, Shooter.\n",
    "Рейтинг ESRB, очевидно, используется только в СА и Европе.\n",
    "\n",
    "По итогам статистического анализа подтвердилась гипотеза, что пользовательский рейтинг у Xbox One и PC одинаковый, и что пользовательский рейтинг жанров Action и Sports разный.\n",
    "\n",
    "Для того, чтобы сделать ставку на потенциально популярный продукт и спланировать рекламные кампании, необходимо учитывать следующие факторы:\n",
    "- необходимо понимать, в каких регионах какие платформы сейчас популярны. С учетом того, что платформа живет около 5 лет, необходимо учитывать стадию ее развития.\n",
    "- важно понимать, в каком регионе какая платформа популярна. \n",
    "- стоит уделить внимание на то, какие жанры предпочитает целевая аудитория в конкретном регионе. \n"
   ]
  },
  {
   "cell_type": "code",
   "execution_count": null,
   "metadata": {},
   "outputs": [],
   "source": []
  }
 ],
 "metadata": {
  "ExecuteTimeLog": [
   {
    "duration": 2836,
    "start_time": "2022-01-27T09:39:24.745Z"
   },
   {
    "duration": 378,
    "start_time": "2022-01-27T09:39:42.324Z"
   },
   {
    "duration": 92,
    "start_time": "2022-01-27T09:40:17.058Z"
   },
   {
    "duration": 19,
    "start_time": "2022-01-27T09:40:36.219Z"
   },
   {
    "duration": 17,
    "start_time": "2022-01-27T09:42:26.373Z"
   },
   {
    "duration": 15,
    "start_time": "2022-01-27T09:42:38.922Z"
   },
   {
    "duration": 18,
    "start_time": "2022-01-27T09:42:46.963Z"
   },
   {
    "duration": 8,
    "start_time": "2022-01-27T09:42:54.168Z"
   },
   {
    "duration": 11,
    "start_time": "2022-01-27T09:43:01.024Z"
   },
   {
    "duration": 12,
    "start_time": "2022-01-27T09:43:26.857Z"
   },
   {
    "duration": 40,
    "start_time": "2022-01-27T09:43:40.217Z"
   },
   {
    "duration": 854,
    "start_time": "2022-01-27T09:56:10.252Z"
   },
   {
    "duration": 759,
    "start_time": "2022-01-27T09:56:54.649Z"
   },
   {
    "duration": 355,
    "start_time": "2022-01-27T09:58:03.692Z"
   },
   {
    "duration": 21,
    "start_time": "2022-01-27T09:58:32.603Z"
   },
   {
    "duration": 23,
    "start_time": "2022-01-27T09:59:00.308Z"
   },
   {
    "duration": 347,
    "start_time": "2022-01-27T10:03:52.219Z"
   },
   {
    "duration": 26,
    "start_time": "2022-01-27T10:04:26.568Z"
   },
   {
    "duration": 23,
    "start_time": "2022-01-27T10:04:58.248Z"
   },
   {
    "duration": 395,
    "start_time": "2022-01-27T10:07:29.852Z"
   },
   {
    "duration": 463,
    "start_time": "2022-01-27T10:09:26.887Z"
   },
   {
    "duration": 562,
    "start_time": "2022-01-27T10:11:15.718Z"
   },
   {
    "duration": 1104,
    "start_time": "2022-01-27T10:12:31.474Z"
   },
   {
    "duration": 804,
    "start_time": "2022-01-27T10:13:07.197Z"
   },
   {
    "duration": 484,
    "start_time": "2022-01-27T10:13:22.209Z"
   },
   {
    "duration": 25,
    "start_time": "2022-01-27T10:21:17.565Z"
   },
   {
    "duration": 17,
    "start_time": "2022-01-27T10:22:16.307Z"
   },
   {
    "duration": 507,
    "start_time": "2022-01-27T10:38:47.590Z"
   },
   {
    "duration": 492,
    "start_time": "2022-01-27T10:40:37.492Z"
   },
   {
    "duration": 502,
    "start_time": "2022-01-27T10:43:29.819Z"
   },
   {
    "duration": 310,
    "start_time": "2022-01-27T11:10:20.078Z"
   },
   {
    "duration": 36,
    "start_time": "2022-01-27T11:10:34.773Z"
   },
   {
    "duration": 623,
    "start_time": "2022-01-27T11:20:58.644Z"
   },
   {
    "duration": 573,
    "start_time": "2022-01-27T11:23:36.784Z"
   },
   {
    "duration": 408,
    "start_time": "2022-01-27T11:24:23.646Z"
   },
   {
    "duration": 477,
    "start_time": "2022-01-27T11:25:38.130Z"
   },
   {
    "duration": 303,
    "start_time": "2022-01-27T11:26:58.409Z"
   },
   {
    "duration": 26,
    "start_time": "2022-01-27T11:31:51.013Z"
   },
   {
    "duration": 331,
    "start_time": "2022-01-27T11:33:43.462Z"
   },
   {
    "duration": 355,
    "start_time": "2022-01-27T11:34:12.886Z"
   },
   {
    "duration": 338,
    "start_time": "2022-01-27T11:35:51.728Z"
   },
   {
    "duration": 297,
    "start_time": "2022-01-27T11:36:11.055Z"
   },
   {
    "duration": 21,
    "start_time": "2022-01-27T11:37:50.346Z"
   },
   {
    "duration": 108,
    "start_time": "2022-01-27T11:40:12.037Z"
   },
   {
    "duration": 467,
    "start_time": "2022-01-27T11:40:21.858Z"
   },
   {
    "duration": 484,
    "start_time": "2022-01-27T11:41:01.488Z"
   },
   {
    "duration": 550,
    "start_time": "2022-01-27T11:48:11.111Z"
   },
   {
    "duration": 596,
    "start_time": "2022-01-27T11:50:26.857Z"
   },
   {
    "duration": 949,
    "start_time": "2022-01-27T11:54:00.451Z"
   },
   {
    "duration": 853,
    "start_time": "2022-01-27T11:55:05.450Z"
   },
   {
    "duration": 574,
    "start_time": "2022-01-27T12:07:20.894Z"
   },
   {
    "duration": 929,
    "start_time": "2022-01-27T12:07:29.344Z"
   },
   {
    "duration": 383,
    "start_time": "2022-01-27T16:36:32.959Z"
   },
   {
    "duration": 1502,
    "start_time": "2022-01-27T16:36:56.465Z"
   },
   {
    "duration": 21,
    "start_time": "2022-01-27T16:36:57.971Z"
   },
   {
    "duration": 35,
    "start_time": "2022-01-27T16:36:57.996Z"
   },
   {
    "duration": 9,
    "start_time": "2022-01-27T16:36:58.033Z"
   },
   {
    "duration": 14,
    "start_time": "2022-01-27T16:36:58.045Z"
   },
   {
    "duration": 11,
    "start_time": "2022-01-27T16:36:58.062Z"
   },
   {
    "duration": 49,
    "start_time": "2022-01-27T16:36:58.075Z"
   },
   {
    "duration": 10,
    "start_time": "2022-01-27T16:36:58.127Z"
   },
   {
    "duration": 33,
    "start_time": "2022-01-27T16:36:58.141Z"
   },
   {
    "duration": 473,
    "start_time": "2022-01-27T16:36:58.177Z"
   },
   {
    "duration": 18,
    "start_time": "2022-01-27T16:36:58.653Z"
   },
   {
    "duration": 510,
    "start_time": "2022-01-27T16:36:58.674Z"
   },
   {
    "duration": 51,
    "start_time": "2022-01-27T16:36:59.187Z"
   },
   {
    "duration": 454,
    "start_time": "2022-01-27T16:36:59.240Z"
   },
   {
    "duration": 1157,
    "start_time": "2022-01-27T16:36:59.697Z"
   },
   {
    "duration": 431,
    "start_time": "2022-01-27T16:37:01.334Z"
   },
   {
    "duration": 464,
    "start_time": "2022-01-27T17:00:01.147Z"
   },
   {
    "duration": 455,
    "start_time": "2022-01-27T17:00:20.849Z"
   },
   {
    "duration": 112,
    "start_time": "2022-01-27T17:05:08.044Z"
   },
   {
    "duration": 523,
    "start_time": "2022-01-27T17:05:25.315Z"
   },
   {
    "duration": 605,
    "start_time": "2022-01-27T17:14:51.668Z"
   },
   {
    "duration": 217,
    "start_time": "2022-01-27T17:18:20.449Z"
   },
   {
    "duration": 459,
    "start_time": "2022-01-27T17:18:50.768Z"
   },
   {
    "duration": 447,
    "start_time": "2022-01-27T17:20:42.315Z"
   },
   {
    "duration": 407,
    "start_time": "2022-01-27T17:23:17.258Z"
   },
   {
    "duration": 445,
    "start_time": "2022-01-27T17:23:45.348Z"
   },
   {
    "duration": 21,
    "start_time": "2022-01-27T17:30:19.809Z"
   },
   {
    "duration": 23,
    "start_time": "2022-01-27T17:55:42.457Z"
   },
   {
    "duration": 22,
    "start_time": "2022-01-27T17:56:56.172Z"
   },
   {
    "duration": 28,
    "start_time": "2022-01-27T17:57:13.184Z"
   },
   {
    "duration": 37,
    "start_time": "2022-01-27T18:04:05.305Z"
   },
   {
    "duration": 33,
    "start_time": "2022-01-27T18:09:07.745Z"
   },
   {
    "duration": 34,
    "start_time": "2022-01-27T18:09:18.392Z"
   },
   {
    "duration": 25,
    "start_time": "2022-01-27T18:10:04.300Z"
   },
   {
    "duration": 33,
    "start_time": "2022-01-27T18:10:10.465Z"
   },
   {
    "duration": 26,
    "start_time": "2022-01-27T18:15:42.753Z"
   },
   {
    "duration": 29,
    "start_time": "2022-01-27T18:18:25.532Z"
   },
   {
    "duration": 478,
    "start_time": "2022-01-27T18:25:12.114Z"
   },
   {
    "duration": 481,
    "start_time": "2022-01-27T18:25:31.815Z"
   },
   {
    "duration": 26,
    "start_time": "2022-01-27T18:26:21.935Z"
   },
   {
    "duration": 26,
    "start_time": "2022-01-27T18:26:34.469Z"
   },
   {
    "duration": 9241,
    "start_time": "2022-01-27T18:31:40.673Z"
   },
   {
    "duration": 279,
    "start_time": "2022-01-27T18:32:21.354Z"
   },
   {
    "duration": 371,
    "start_time": "2022-01-27T18:33:00.752Z"
   },
   {
    "duration": 24,
    "start_time": "2022-01-27T18:33:21.571Z"
   },
   {
    "duration": 27,
    "start_time": "2022-01-27T18:34:11.858Z"
   },
   {
    "duration": 364,
    "start_time": "2022-01-27T18:34:23.940Z"
   },
   {
    "duration": 20,
    "start_time": "2022-01-27T18:34:35.299Z"
   },
   {
    "duration": 23,
    "start_time": "2022-01-27T18:35:15.181Z"
   },
   {
    "duration": 121,
    "start_time": "2022-01-27T18:46:46.503Z"
   },
   {
    "duration": 130,
    "start_time": "2022-01-27T18:46:53.759Z"
   },
   {
    "duration": 119,
    "start_time": "2022-01-27T18:47:12.982Z"
   },
   {
    "duration": 102,
    "start_time": "2022-01-27T18:47:51.456Z"
   },
   {
    "duration": 107,
    "start_time": "2022-01-27T18:48:33.743Z"
   },
   {
    "duration": 1297,
    "start_time": "2022-01-27T18:48:45.789Z"
   },
   {
    "duration": 726,
    "start_time": "2022-01-27T18:50:30.539Z"
   },
   {
    "duration": 949,
    "start_time": "2022-01-27T19:00:55.260Z"
   },
   {
    "duration": 1060,
    "start_time": "2022-01-27T19:02:37.706Z"
   },
   {
    "duration": 719,
    "start_time": "2022-01-27T19:03:30.383Z"
   },
   {
    "duration": 28,
    "start_time": "2022-01-27T19:38:17.418Z"
   },
   {
    "duration": 8081,
    "start_time": "2022-01-27T20:06:19.398Z"
   },
   {
    "duration": 9165,
    "start_time": "2022-01-27T20:06:36.107Z"
   },
   {
    "duration": 7,
    "start_time": "2022-01-27T20:06:52.275Z"
   },
   {
    "duration": 830,
    "start_time": "2022-01-27T20:11:36.709Z"
   },
   {
    "duration": 16,
    "start_time": "2022-01-27T20:13:54.363Z"
   },
   {
    "duration": 26,
    "start_time": "2022-01-27T20:14:01.268Z"
   },
   {
    "duration": 21,
    "start_time": "2022-01-27T20:21:06.893Z"
   },
   {
    "duration": 1317,
    "start_time": "2022-02-05T15:51:02.751Z"
   },
   {
    "duration": 8,
    "start_time": "2022-02-05T15:51:04.070Z"
   },
   {
    "duration": 8,
    "start_time": "2022-02-05T15:51:04.080Z"
   },
   {
    "duration": 6,
    "start_time": "2022-02-05T15:51:04.089Z"
   },
   {
    "duration": 8,
    "start_time": "2022-02-05T15:51:04.096Z"
   },
   {
    "duration": 5,
    "start_time": "2022-02-05T15:51:04.105Z"
   },
   {
    "duration": 13,
    "start_time": "2022-02-05T15:51:04.112Z"
   },
   {
    "duration": 6,
    "start_time": "2022-02-05T15:51:04.127Z"
   },
   {
    "duration": 37,
    "start_time": "2022-02-05T15:51:04.135Z"
   },
   {
    "duration": 240,
    "start_time": "2022-02-05T15:51:04.174Z"
   },
   {
    "duration": 10,
    "start_time": "2022-02-05T15:51:04.415Z"
   },
   {
    "duration": 267,
    "start_time": "2022-02-05T15:51:04.426Z"
   },
   {
    "duration": 21,
    "start_time": "2022-02-05T15:51:04.695Z"
   },
   {
    "duration": 261,
    "start_time": "2022-02-05T15:51:04.718Z"
   },
   {
    "duration": 464,
    "start_time": "2022-02-05T15:51:04.981Z"
   },
   {
    "duration": 345,
    "start_time": "2022-02-05T15:51:05.447Z"
   },
   {
    "duration": 307,
    "start_time": "2022-02-05T15:51:05.793Z"
   },
   {
    "duration": 293,
    "start_time": "2022-02-05T15:51:06.102Z"
   },
   {
    "duration": 302,
    "start_time": "2022-02-05T15:51:06.397Z"
   },
   {
    "duration": 12,
    "start_time": "2022-02-05T15:51:06.700Z"
   },
   {
    "duration": 14,
    "start_time": "2022-02-05T15:51:06.713Z"
   },
   {
    "duration": 13,
    "start_time": "2022-02-05T15:51:06.729Z"
   },
   {
    "duration": 35,
    "start_time": "2022-02-05T15:51:06.743Z"
   },
   {
    "duration": 12,
    "start_time": "2022-02-05T15:51:06.779Z"
   },
   {
    "duration": 11,
    "start_time": "2022-02-05T15:51:06.793Z"
   },
   {
    "duration": 10,
    "start_time": "2022-02-05T15:51:06.805Z"
   },
   {
    "duration": 533,
    "start_time": "2022-02-05T15:51:06.817Z"
   },
   {
    "duration": 366,
    "start_time": "2022-02-05T15:51:07.352Z"
   },
   {
    "duration": 368,
    "start_time": "2022-02-05T15:51:07.719Z"
   },
   {
    "duration": 12,
    "start_time": "2022-02-05T15:51:08.088Z"
   },
   {
    "duration": 23,
    "start_time": "2022-02-05T15:51:08.102Z"
   },
   {
    "duration": 632,
    "start_time": "2022-02-05T17:30:34.286Z"
   },
   {
    "duration": 295,
    "start_time": "2022-02-05T17:30:58.369Z"
   },
   {
    "duration": 242,
    "start_time": "2022-02-05T17:31:03.910Z"
   },
   {
    "duration": 1375,
    "start_time": "2022-02-05T17:31:11.379Z"
   },
   {
    "duration": 14,
    "start_time": "2022-02-05T17:31:12.757Z"
   },
   {
    "duration": 19,
    "start_time": "2022-02-05T17:31:12.774Z"
   },
   {
    "duration": 8,
    "start_time": "2022-02-05T17:31:12.796Z"
   },
   {
    "duration": 43,
    "start_time": "2022-02-05T17:31:12.806Z"
   },
   {
    "duration": 8,
    "start_time": "2022-02-05T17:31:12.851Z"
   },
   {
    "duration": 15,
    "start_time": "2022-02-05T17:31:12.861Z"
   },
   {
    "duration": 10,
    "start_time": "2022-02-05T17:31:12.880Z"
   },
   {
    "duration": 59,
    "start_time": "2022-02-05T17:31:12.894Z"
   },
   {
    "duration": 426,
    "start_time": "2022-02-05T17:31:12.956Z"
   },
   {
    "duration": 16,
    "start_time": "2022-02-05T17:31:13.384Z"
   },
   {
    "duration": 500,
    "start_time": "2022-02-05T17:31:13.403Z"
   },
   {
    "duration": 47,
    "start_time": "2022-02-05T17:31:13.906Z"
   },
   {
    "duration": 433,
    "start_time": "2022-02-05T17:31:13.957Z"
   },
   {
    "duration": 773,
    "start_time": "2022-02-05T17:31:14.393Z"
   },
   {
    "duration": 405,
    "start_time": "2022-02-05T17:31:15.169Z"
   },
   {
    "duration": 406,
    "start_time": "2022-02-05T17:31:15.576Z"
   },
   {
    "duration": 397,
    "start_time": "2022-02-05T17:31:15.985Z"
   },
   {
    "duration": 406,
    "start_time": "2022-02-05T17:31:16.384Z"
   },
   {
    "duration": 20,
    "start_time": "2022-02-05T17:31:16.793Z"
   },
   {
    "duration": 48,
    "start_time": "2022-02-05T17:31:16.815Z"
   },
   {
    "duration": 22,
    "start_time": "2022-02-05T17:31:16.865Z"
   },
   {
    "duration": 24,
    "start_time": "2022-02-05T17:31:16.891Z"
   },
   {
    "duration": 46,
    "start_time": "2022-02-05T17:31:16.918Z"
   },
   {
    "duration": 26,
    "start_time": "2022-02-05T17:31:16.966Z"
   },
   {
    "duration": 19,
    "start_time": "2022-02-05T17:31:16.994Z"
   },
   {
    "duration": 827,
    "start_time": "2022-02-05T17:31:17.015Z"
   },
   {
    "duration": 630,
    "start_time": "2022-02-05T17:31:17.848Z"
   },
   {
    "duration": 821,
    "start_time": "2022-02-05T17:31:18.480Z"
   },
   {
    "duration": 20,
    "start_time": "2022-02-05T17:31:19.303Z"
   },
   {
    "duration": 34,
    "start_time": "2022-02-05T17:31:19.326Z"
   },
   {
    "duration": 19,
    "start_time": "2022-02-05T17:32:11.970Z"
   }
  ],
  "kernelspec": {
   "display_name": "Python 3 (ipykernel)",
   "language": "python",
   "name": "python3"
  },
  "language_info": {
   "codemirror_mode": {
    "name": "ipython",
    "version": 3
   },
   "file_extension": ".py",
   "mimetype": "text/x-python",
   "name": "python",
   "nbconvert_exporter": "python",
   "pygments_lexer": "ipython3",
   "version": "3.9.5"
  },
  "toc": {
   "base_numbering": 1,
   "nav_menu": {},
   "number_sections": false,
   "sideBar": true,
   "skip_h1_title": false,
   "title_cell": "Table of Contents",
   "title_sidebar": "Contents",
   "toc_cell": false,
   "toc_position": {},
   "toc_section_display": true,
   "toc_window_display": false
  }
 },
 "nbformat": 4,
 "nbformat_minor": 2
}

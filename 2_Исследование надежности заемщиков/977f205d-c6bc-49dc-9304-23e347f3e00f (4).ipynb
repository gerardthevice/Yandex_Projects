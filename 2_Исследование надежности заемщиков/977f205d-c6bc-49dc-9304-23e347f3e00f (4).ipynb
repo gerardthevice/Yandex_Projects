{
 "cells": [
  {
   "cell_type": "markdown",
   "metadata": {},
   "source": [
    "# Исследование надёжности заёмщиков\n",
    "\n",
    "Заказчик — кредитный отдел банка. Нужно разобраться, влияет ли семейное положение и количество детей клиента на факт погашения кредита в срок. Входные данные от банка — статистика о платёжеспособности клиентов.\n",
    "\n",
    "Результаты исследования будут учтены при построении модели **кредитного скоринга** — специальной системы, которая оценивает способность потенциального заёмщика вернуть кредит банку."
   ]
  },
  {
   "cell_type": "markdown",
   "metadata": {},
   "source": [
    "## Шаг 1. Откройте файл с данными и изучите общую информацию"
   ]
  },
  {
   "cell_type": "code",
   "execution_count": 1,
   "metadata": {},
   "outputs": [
    {
     "data": {
      "text/html": [
       "<div>\n",
       "<style scoped>\n",
       "    .dataframe tbody tr th:only-of-type {\n",
       "        vertical-align: middle;\n",
       "    }\n",
       "\n",
       "    .dataframe tbody tr th {\n",
       "        vertical-align: top;\n",
       "    }\n",
       "\n",
       "    .dataframe thead th {\n",
       "        text-align: right;\n",
       "    }\n",
       "</style>\n",
       "<table border=\"1\" class=\"dataframe\">\n",
       "  <thead>\n",
       "    <tr style=\"text-align: right;\">\n",
       "      <th></th>\n",
       "      <th>children</th>\n",
       "      <th>days_employed</th>\n",
       "      <th>dob_years</th>\n",
       "      <th>education</th>\n",
       "      <th>education_id</th>\n",
       "      <th>family_status</th>\n",
       "      <th>family_status_id</th>\n",
       "      <th>gender</th>\n",
       "      <th>income_type</th>\n",
       "      <th>debt</th>\n",
       "      <th>total_income</th>\n",
       "      <th>purpose</th>\n",
       "    </tr>\n",
       "  </thead>\n",
       "  <tbody>\n",
       "    <tr>\n",
       "      <th>0</th>\n",
       "      <td>1</td>\n",
       "      <td>-8437.673028</td>\n",
       "      <td>42</td>\n",
       "      <td>высшее</td>\n",
       "      <td>0</td>\n",
       "      <td>женат / замужем</td>\n",
       "      <td>0</td>\n",
       "      <td>F</td>\n",
       "      <td>сотрудник</td>\n",
       "      <td>0</td>\n",
       "      <td>253875.639453</td>\n",
       "      <td>покупка жилья</td>\n",
       "    </tr>\n",
       "    <tr>\n",
       "      <th>1</th>\n",
       "      <td>1</td>\n",
       "      <td>-4024.803754</td>\n",
       "      <td>36</td>\n",
       "      <td>среднее</td>\n",
       "      <td>1</td>\n",
       "      <td>женат / замужем</td>\n",
       "      <td>0</td>\n",
       "      <td>F</td>\n",
       "      <td>сотрудник</td>\n",
       "      <td>0</td>\n",
       "      <td>112080.014102</td>\n",
       "      <td>приобретение автомобиля</td>\n",
       "    </tr>\n",
       "    <tr>\n",
       "      <th>2</th>\n",
       "      <td>0</td>\n",
       "      <td>-5623.422610</td>\n",
       "      <td>33</td>\n",
       "      <td>Среднее</td>\n",
       "      <td>1</td>\n",
       "      <td>женат / замужем</td>\n",
       "      <td>0</td>\n",
       "      <td>M</td>\n",
       "      <td>сотрудник</td>\n",
       "      <td>0</td>\n",
       "      <td>145885.952297</td>\n",
       "      <td>покупка жилья</td>\n",
       "    </tr>\n",
       "    <tr>\n",
       "      <th>3</th>\n",
       "      <td>3</td>\n",
       "      <td>-4124.747207</td>\n",
       "      <td>32</td>\n",
       "      <td>среднее</td>\n",
       "      <td>1</td>\n",
       "      <td>женат / замужем</td>\n",
       "      <td>0</td>\n",
       "      <td>M</td>\n",
       "      <td>сотрудник</td>\n",
       "      <td>0</td>\n",
       "      <td>267628.550329</td>\n",
       "      <td>дополнительное образование</td>\n",
       "    </tr>\n",
       "    <tr>\n",
       "      <th>4</th>\n",
       "      <td>0</td>\n",
       "      <td>340266.072047</td>\n",
       "      <td>53</td>\n",
       "      <td>среднее</td>\n",
       "      <td>1</td>\n",
       "      <td>гражданский брак</td>\n",
       "      <td>1</td>\n",
       "      <td>F</td>\n",
       "      <td>пенсионер</td>\n",
       "      <td>0</td>\n",
       "      <td>158616.077870</td>\n",
       "      <td>сыграть свадьбу</td>\n",
       "    </tr>\n",
       "    <tr>\n",
       "      <th>5</th>\n",
       "      <td>0</td>\n",
       "      <td>-926.185831</td>\n",
       "      <td>27</td>\n",
       "      <td>высшее</td>\n",
       "      <td>0</td>\n",
       "      <td>гражданский брак</td>\n",
       "      <td>1</td>\n",
       "      <td>M</td>\n",
       "      <td>компаньон</td>\n",
       "      <td>0</td>\n",
       "      <td>255763.565419</td>\n",
       "      <td>покупка жилья</td>\n",
       "    </tr>\n",
       "    <tr>\n",
       "      <th>6</th>\n",
       "      <td>0</td>\n",
       "      <td>-2879.202052</td>\n",
       "      <td>43</td>\n",
       "      <td>высшее</td>\n",
       "      <td>0</td>\n",
       "      <td>женат / замужем</td>\n",
       "      <td>0</td>\n",
       "      <td>F</td>\n",
       "      <td>компаньон</td>\n",
       "      <td>0</td>\n",
       "      <td>240525.971920</td>\n",
       "      <td>операции с жильем</td>\n",
       "    </tr>\n",
       "    <tr>\n",
       "      <th>7</th>\n",
       "      <td>0</td>\n",
       "      <td>-152.779569</td>\n",
       "      <td>50</td>\n",
       "      <td>СРЕДНЕЕ</td>\n",
       "      <td>1</td>\n",
       "      <td>женат / замужем</td>\n",
       "      <td>0</td>\n",
       "      <td>M</td>\n",
       "      <td>сотрудник</td>\n",
       "      <td>0</td>\n",
       "      <td>135823.934197</td>\n",
       "      <td>образование</td>\n",
       "    </tr>\n",
       "    <tr>\n",
       "      <th>8</th>\n",
       "      <td>2</td>\n",
       "      <td>-6929.865299</td>\n",
       "      <td>35</td>\n",
       "      <td>ВЫСШЕЕ</td>\n",
       "      <td>0</td>\n",
       "      <td>гражданский брак</td>\n",
       "      <td>1</td>\n",
       "      <td>F</td>\n",
       "      <td>сотрудник</td>\n",
       "      <td>0</td>\n",
       "      <td>95856.832424</td>\n",
       "      <td>на проведение свадьбы</td>\n",
       "    </tr>\n",
       "    <tr>\n",
       "      <th>9</th>\n",
       "      <td>0</td>\n",
       "      <td>-2188.756445</td>\n",
       "      <td>41</td>\n",
       "      <td>среднее</td>\n",
       "      <td>1</td>\n",
       "      <td>женат / замужем</td>\n",
       "      <td>0</td>\n",
       "      <td>M</td>\n",
       "      <td>сотрудник</td>\n",
       "      <td>0</td>\n",
       "      <td>144425.938277</td>\n",
       "      <td>покупка жилья для семьи</td>\n",
       "    </tr>\n",
       "  </tbody>\n",
       "</table>\n",
       "</div>"
      ],
      "text/plain": [
       "   children  days_employed  dob_years education  education_id  \\\n",
       "0         1   -8437.673028         42    высшее             0   \n",
       "1         1   -4024.803754         36   среднее             1   \n",
       "2         0   -5623.422610         33   Среднее             1   \n",
       "3         3   -4124.747207         32   среднее             1   \n",
       "4         0  340266.072047         53   среднее             1   \n",
       "5         0    -926.185831         27    высшее             0   \n",
       "6         0   -2879.202052         43    высшее             0   \n",
       "7         0    -152.779569         50   СРЕДНЕЕ             1   \n",
       "8         2   -6929.865299         35    ВЫСШЕЕ             0   \n",
       "9         0   -2188.756445         41   среднее             1   \n",
       "\n",
       "      family_status  family_status_id gender income_type  debt   total_income  \\\n",
       "0   женат / замужем                 0      F   сотрудник     0  253875.639453   \n",
       "1   женат / замужем                 0      F   сотрудник     0  112080.014102   \n",
       "2   женат / замужем                 0      M   сотрудник     0  145885.952297   \n",
       "3   женат / замужем                 0      M   сотрудник     0  267628.550329   \n",
       "4  гражданский брак                 1      F   пенсионер     0  158616.077870   \n",
       "5  гражданский брак                 1      M   компаньон     0  255763.565419   \n",
       "6   женат / замужем                 0      F   компаньон     0  240525.971920   \n",
       "7   женат / замужем                 0      M   сотрудник     0  135823.934197   \n",
       "8  гражданский брак                 1      F   сотрудник     0   95856.832424   \n",
       "9   женат / замужем                 0      M   сотрудник     0  144425.938277   \n",
       "\n",
       "                      purpose  \n",
       "0               покупка жилья  \n",
       "1     приобретение автомобиля  \n",
       "2               покупка жилья  \n",
       "3  дополнительное образование  \n",
       "4             сыграть свадьбу  \n",
       "5               покупка жилья  \n",
       "6           операции с жильем  \n",
       "7                 образование  \n",
       "8       на проведение свадьбы  \n",
       "9     покупка жилья для семьи  "
      ]
     },
     "metadata": {},
     "output_type": "display_data"
    },
    {
     "name": "stdout",
     "output_type": "stream",
     "text": [
      "<class 'pandas.core.frame.DataFrame'>\n",
      "RangeIndex: 21525 entries, 0 to 21524\n",
      "Data columns (total 12 columns):\n",
      " #   Column            Non-Null Count  Dtype  \n",
      "---  ------            --------------  -----  \n",
      " 0   children          21525 non-null  int64  \n",
      " 1   days_employed     19351 non-null  float64\n",
      " 2   dob_years         21525 non-null  int64  \n",
      " 3   education         21525 non-null  object \n",
      " 4   education_id      21525 non-null  int64  \n",
      " 5   family_status     21525 non-null  object \n",
      " 6   family_status_id  21525 non-null  int64  \n",
      " 7   gender            21525 non-null  object \n",
      " 8   income_type       21525 non-null  object \n",
      " 9   debt              21525 non-null  int64  \n",
      " 10  total_income      19351 non-null  float64\n",
      " 11  purpose           21525 non-null  object \n",
      "dtypes: float64(2), int64(5), object(5)\n",
      "memory usage: 2.0+ MB\n"
     ]
    },
    {
     "data": {
      "text/plain": [
       "свадьба                                   797\n",
       "на проведение свадьбы                     777\n",
       "сыграть свадьбу                           774\n",
       "операции с недвижимостью                  676\n",
       "покупка коммерческой недвижимости         664\n",
       "покупка жилья для сдачи                   653\n",
       "операции с жильем                         653\n",
       "операции с коммерческой недвижимостью     651\n",
       "жилье                                     647\n",
       "покупка жилья                             647\n",
       "покупка жилья для семьи                   641\n",
       "строительство собственной недвижимости    635\n",
       "недвижимость                              634\n",
       "операции со своей недвижимостью           630\n",
       "строительство жилой недвижимости          626\n",
       "покупка недвижимости                      624\n",
       "строительство недвижимости                620\n",
       "покупка своего жилья                      620\n",
       "ремонт жилью                              612\n",
       "покупка жилой недвижимости                607\n",
       "на покупку своего автомобиля              505\n",
       "заняться высшим образованием              496\n",
       "автомобиль                                495\n",
       "сделка с подержанным автомобилем          489\n",
       "свой автомобиль                           480\n",
       "на покупку подержанного автомобиля        479\n",
       "автомобили                                478\n",
       "на покупку автомобиля                     472\n",
       "дополнительное образование                462\n",
       "приобретение автомобиля                   462\n",
       "сделка с автомобилем                      455\n",
       "высшее образование                        453\n",
       "получение дополнительного образования     447\n",
       "образование                               447\n",
       "получение образования                     443\n",
       "профильное образование                    436\n",
       "получение высшего образования             426\n",
       "заняться образованием                     412\n",
       "Name: purpose, dtype: int64"
      ]
     },
     "execution_count": 1,
     "metadata": {},
     "output_type": "execute_result"
    }
   ],
   "source": [
    "import pandas as pd\n",
    "data = pd.read_csv('/datasets/data.csv')\n",
    "display(data.head(10)) # получение таблицы\n",
    "data.info() # получение общей информации о данных в таблице\n",
    "data['children'].value_counts()\n",
    "data['dob_years'].value_counts()\n",
    "data['education'].value_counts()\n",
    "data['family_status'].value_counts()\n",
    "data['gender'].value_counts()\n",
    "data['income_type'].value_counts()\n",
    "data['total_income'].min()\n",
    "data['total_income'].max()\n",
    "data['purpose'].value_counts()\n"
   ]
  },
  {
   "cell_type": "markdown",
   "metadata": {},
   "source": [
    "**Вывод**"
   ]
  },
  {
   "cell_type": "markdown",
   "metadata": {},
   "source": [
    "В таблице **12 столбцов** и **21525 строк**. Тип данных во всех столбцах — **object, int64, float64**.\n",
    "\n",
    "Таблица содержит данные о заемщике в следующем виде:\n",
    "**children** — количество детей в семье,\n",
    "**days_employed** — общий трудовой стаж в днях,\n",
    "**dob_years** — возраст клиента в годах,\n",
    "**education** — уровень образования клиента,\n",
    "**education_id** — идентификатор уровня образования,\n",
    "**family_status** — семейное положение,\n",
    "**family_status_id** — идентификатор семейного положения,\n",
    "**gender** — пол клиента,\n",
    "**income_type** — тип занятости,\n",
    "**debt** — имел ли задолженность по возврату кредитов,\n",
    "**total_income** — ежемесячный доход,\n",
    "**purpose** — цель получения кредита,\n",
    "\n",
    "В названиях колонок нет нарушений, однако, количество значений в столбцах различается. Значит, в данных есть пропущенные значения. В столбце education встречаются шрифты разного регистра, в столбце days_employed присутсвуют значения со знаком '-' и аномально большие значения. В столбце gender выявлено одно значение XNA, возможно произошла ошибка при выгрузке или заполнении.  Для корректного анализа эти данные необходимо обработать.\n",
    "\n",
    "В каждой строке находятся данные о заемщике. Часть колонок содержит общую информацию (возраст, пол, образование, количесво детей, тип занятости, семейное положение). Другие колонки напряму связаны с его банковской историей (наличие/отсутствие задодженности, ежемесячный доход, цель получения кредита). \n",
    "\n",
    "Можно сказать, что данных достаточно для анализа, однако, необходимо устранить пропуски.\n",
    "\n"
   ]
  },
  {
   "cell_type": "markdown",
   "metadata": {},
   "source": [
    "## Шаг 2. Предобработка данных"
   ]
  },
  {
   "cell_type": "markdown",
   "metadata": {},
   "source": [
    "### Обработка пропусков"
   ]
  },
  {
   "cell_type": "code",
   "execution_count": 2,
   "metadata": {},
   "outputs": [
    {
     "name": "stdout",
     "output_type": "stream",
     "text": [
      "<class 'pandas.core.frame.DataFrame'>\n",
      "RangeIndex: 21525 entries, 0 to 21524\n",
      "Data columns (total 12 columns):\n",
      " #   Column            Non-Null Count  Dtype  \n",
      "---  ------            --------------  -----  \n",
      " 0   children          21525 non-null  int64  \n",
      " 1   days_employed     21525 non-null  float64\n",
      " 2   dob_years         21525 non-null  float64\n",
      " 3   education         21525 non-null  object \n",
      " 4   education_id      21525 non-null  int64  \n",
      " 5   family_status     21525 non-null  object \n",
      " 6   family_status_id  21525 non-null  int64  \n",
      " 7   gender            21525 non-null  object \n",
      " 8   income_type       21525 non-null  object \n",
      " 9   debt              21525 non-null  int64  \n",
      " 10  total_income      21525 non-null  float64\n",
      " 11  purpose           21525 non-null  object \n",
      "dtypes: float64(3), int64(4), object(5)\n",
      "memory usage: 2.0+ MB\n"
     ]
    }
   ],
   "source": [
    "# используем метод isna(), чтобы найти пропущенные значения в столбцах, где данные, очевидно, пропущенны. Посчитали их припомощи метода len()\n",
    "len(data[data['days_employed'].isna()]) # 2174\n",
    "len(data[data['total_income'].isna()]) # 2174\n",
    "\n",
    "# работа над заменой пропусков в days_employed и total_income\n",
    "data.loc[data['days_employed'].isna(), 'days_employed'] = data['days_employed'].sort_values(ascending=True).median()\n",
    "data.loc[data['total_income'].isna(), 'total_income'] = data['total_income'].sort_values(ascending=True).median()\n",
    "\n",
    "# нулевые значения в возрасте заменим на средние\n",
    "data.loc[data['dob_years'] == 0, 'dob_years'] = data['dob_years'].sum() / data['dob_years'].count()\n",
    "data.info() \n"
   ]
  },
  {
   "cell_type": "markdown",
   "metadata": {},
   "source": [
    "**Вывод**"
   ]
  },
  {
   "cell_type": "markdown",
   "metadata": {},
   "source": [
    "Первым делом необходимо обнаружить пропуски. Для этого использовали метод isna() и len(), чтоб подсчитать их количество. Получили по 2174 в колонках days_employed и total_income. Так как данные по колическву дней и суммарному доходу представляют значимость для исследования, причем составляют 10% от общих данных, их нельзя удалить вместе со всей строкой. Нужно сказать, что это количественные переменные. Пропуски в таких переменных заполняют характерными значениями. Чтобы примерно оценить типичные значения выборки, в данном случае можно применить среднее арифметическое или медианное значение. \n",
    "Нули в графе dob_years заменили на среднее значение.\n",
    "После проверки видимо, что все пропуски заполнены.\n",
    "Возможно, подобные ошибки появились при выгрузке данных, либо их причина - человеческий фактор."
   ]
  },
  {
   "cell_type": "markdown",
   "metadata": {},
   "source": [
    "### Замена типа данных"
   ]
  },
  {
   "cell_type": "code",
   "execution_count": 3,
   "metadata": {},
   "outputs": [],
   "source": [
    "# перевод вещественных чисел в целочисленные\n",
    "data['days_employed'] = data['days_employed'].apply(abs)\n",
    "data['days_employed'] = data['days_employed'].astype('int')\n",
    "data.loc[data['days_employed'] > 30000, 'days_employed'] = data['days_employed'] / 24\n",
    "data['days_employed'] = data['days_employed'].astype('int')\n",
    "\n",
    "data['total_income'] = data['total_income'].astype('int')\n",
    "\n",
    "data['dob_years'] = data['dob_years'].astype('int')\n"
   ]
  },
  {
   "cell_type": "markdown",
   "metadata": {},
   "source": [
    "**Вывод**"
   ]
  },
  {
   "cell_type": "markdown",
   "metadata": {},
   "source": [
    "Существует несколько способов перевода из одного типа данных в другой, в том числе to_numeric(), однако он подходит для  перевода строковых значений в вещественные. В данном пункты переводим вещественные числа в целочисленные методом astype('int'). "
   ]
  },
  {
   "cell_type": "markdown",
   "metadata": {},
   "source": [
    "### Обработка дубликатов"
   ]
  },
  {
   "cell_type": "code",
   "execution_count": 4,
   "metadata": {},
   "outputs": [
    {
     "data": {
      "text/plain": [
       "0    14149\n",
       "1     4865\n",
       "2     2131\n",
       "3      330\n",
       "4       41\n",
       "5        9\n",
       "Name: children, dtype: int64"
      ]
     },
     "execution_count": 4,
     "metadata": {},
     "output_type": "execute_result"
    }
   ],
   "source": [
    "data.duplicated().sum() # нашли 54 дубликата\n",
    " # удалили 54 дубликата\n",
    "\n",
    "# проверим наличие скрытых дуьликатов в столбце children\n",
    "data['children'].unique()\n",
    "#array([ 1,  0,  3,  2, -1,  4, 20,  5])\n",
    "data['children'].value_counts() \n",
    "data['children'] = data['children'].replace(-1, 1)\n",
    "data['children'] = data['children'].replace(20, 2)\n",
    "data['children'].value_counts()\n"
   ]
  },
  {
   "cell_type": "code",
   "execution_count": 5,
   "metadata": {},
   "outputs": [
    {
     "data": {
      "text/plain": [
       "F      14236\n",
       "M       7288\n",
       "XNA        1\n",
       "Name: gender, dtype: int64"
      ]
     },
     "execution_count": 5,
     "metadata": {},
     "output_type": "execute_result"
    }
   ],
   "source": [
    "data['gender'].value_counts()\n",
    "# доля аномалий в колонке gender 0,05% и она не участвует в исследовании, поэтому можно ее не трогать\n"
   ]
  },
  {
   "cell_type": "code",
   "execution_count": 6,
   "metadata": {},
   "outputs": [
    {
     "data": {
      "text/plain": [
       "среднее                15233\n",
       "высшее                  5260\n",
       "неоконченное высшее      744\n",
       "начальное                282\n",
       "ученая степень             6\n",
       "Name: education, dtype: int64"
      ]
     },
     "execution_count": 6,
     "metadata": {},
     "output_type": "execute_result"
    }
   ],
   "source": [
    "# проверим наличие скрытых дуьликатов в столбце education\n",
    "data['education'].unique()\n",
    "data['education'] = data['education'].str.lower()\n",
    "data['education'].value_counts()\n",
    "\n"
   ]
  },
  {
   "cell_type": "code",
   "execution_count": 7,
   "metadata": {},
   "outputs": [
    {
     "data": {
      "text/plain": [
       "array(['женат / замужем', 'гражданский брак', 'вдовец / вдова',\n",
       "       'в разводе', 'Не женат / не замужем'], dtype=object)"
      ]
     },
     "execution_count": 7,
     "metadata": {},
     "output_type": "execute_result"
    }
   ],
   "source": [
    "# проверим наличие скрытых дуьликатов в столбце family_status\n",
    "data['family_status'].unique()"
   ]
  },
  {
   "cell_type": "code",
   "execution_count": 8,
   "metadata": {},
   "outputs": [
    {
     "data": {
      "text/plain": [
       "array(['сотрудник', 'пенсионер', 'компаньон', 'госслужащий',\n",
       "       'безработный', 'предприниматель', 'студент', 'в декрете'],\n",
       "      dtype=object)"
      ]
     },
     "execution_count": 8,
     "metadata": {},
     "output_type": "execute_result"
    }
   ],
   "source": [
    "# проверим наличие скрытых дуьликатов в столбце income_type\n",
    "data['income_type'].unique()"
   ]
  },
  {
   "cell_type": "code",
   "execution_count": 9,
   "metadata": {},
   "outputs": [
    {
     "data": {
      "text/plain": [
       "array(['покупка жилья', 'приобретение автомобиля',\n",
       "       'дополнительное образование', 'сыграть свадьбу',\n",
       "       'операции с жильем', 'образование', 'на проведение свадьбы',\n",
       "       'покупка жилья для семьи', 'покупка недвижимости',\n",
       "       'покупка коммерческой недвижимости', 'покупка жилой недвижимости',\n",
       "       'строительство собственной недвижимости', 'недвижимость',\n",
       "       'строительство недвижимости', 'на покупку подержанного автомобиля',\n",
       "       'на покупку своего автомобиля',\n",
       "       'операции с коммерческой недвижимостью',\n",
       "       'строительство жилой недвижимости', 'жилье',\n",
       "       'операции со своей недвижимостью', 'автомобили',\n",
       "       'заняться образованием', 'сделка с подержанным автомобилем',\n",
       "       'получение образования', 'автомобиль', 'свадьба',\n",
       "       'получение дополнительного образования', 'покупка своего жилья',\n",
       "       'операции с недвижимостью', 'получение высшего образования',\n",
       "       'свой автомобиль', 'сделка с автомобилем',\n",
       "       'профильное образование', 'высшее образование',\n",
       "       'покупка жилья для сдачи', 'на покупку автомобиля', 'ремонт жилью',\n",
       "       'заняться высшим образованием'], dtype=object)"
      ]
     },
     "execution_count": 9,
     "metadata": {},
     "output_type": "execute_result"
    }
   ],
   "source": [
    "# проверим наличие скрытых дуьликатов в столбце purpose\n",
    "data['purpose'].unique()"
   ]
  },
  {
   "cell_type": "code",
   "execution_count": 10,
   "metadata": {},
   "outputs": [
    {
     "data": {
      "text/plain": [
       "array([0, 1])"
      ]
     },
     "execution_count": 10,
     "metadata": {},
     "output_type": "execute_result"
    }
   ],
   "source": [
    "# проверим наличие скрытых дуьликатов в столбце debt\n",
    "data['debt'].unique()"
   ]
  },
  {
   "cell_type": "code",
   "execution_count": 11,
   "metadata": {},
   "outputs": [
    {
     "data": {
      "text/plain": [
       "0"
      ]
     },
     "execution_count": 11,
     "metadata": {},
     "output_type": "execute_result"
    }
   ],
   "source": [
    "data = data.drop_duplicates().reset_index(drop=True)\n",
    "data.duplicated().sum()"
   ]
  },
  {
   "cell_type": "markdown",
   "metadata": {},
   "source": [
    "**Вывод**"
   ]
  },
  {
   "cell_type": "code",
   "execution_count": null,
   "metadata": {},
   "outputs": [],
   "source": []
  },
  {
   "cell_type": "markdown",
   "metadata": {},
   "source": [
    "Для поиска дубликатов применили метод duplicated() и произвели их подсчет методом sum(). Таким образом были выявлены строки с полным совпадением данных. Для удаления дубликатов использовали метод data.drop_duplicates().reset_index(drop=True), чтобы не создавать столбец со старыми значениями индексов.\n",
    "\n",
    "Для поиска неявных дубликатов применили метод unique() к слолбцам education, children, debt, purpose, income_type, family_status, education, gender. Обнаружили повторы из-за разного регистра в колонке education, привели все к нижнему регистру методом str.lower(). При проверке столбца children были обнаружены подозрительные значения -1 и 20. Подобные значения могли возникнуть при выгрузке данных. Они могут обозначать 1 ребенка и 2х соотвественно. Доля этих значений несущественна, поэтому логичнее всего заменить эти значения на 1 и 2 при помощи метода replace().\n",
    "\n",
    "После проверки указанных столбцов на наличие дубликатов удалили все дубликаты при помощи метода drop_duplicates().\n"
   ]
  },
  {
   "cell_type": "markdown",
   "metadata": {},
   "source": [
    "### Лемматизация"
   ]
  },
  {
   "cell_type": "code",
   "execution_count": 12,
   "metadata": {},
   "outputs": [
    {
     "data": {
      "text/plain": [
       "Counter({'покупка': 10,\n",
       "         ' ': 96,\n",
       "         'жилье': 7,\n",
       "         'приобретение': 1,\n",
       "         'автомобиль': 9,\n",
       "         'дополнительный': 2,\n",
       "         'образование': 9,\n",
       "         'сыграть': 1,\n",
       "         'свадьба': 3,\n",
       "         'операция': 4,\n",
       "         'с': 5,\n",
       "         'на': 4,\n",
       "         'проведение': 1,\n",
       "         'для': 2,\n",
       "         'семья': 1,\n",
       "         'недвижимость': 10,\n",
       "         'коммерческий': 2,\n",
       "         'жилой': 2,\n",
       "         'строительство': 3,\n",
       "         'собственный': 1,\n",
       "         'подержать': 2,\n",
       "         'свой': 4,\n",
       "         'со': 1,\n",
       "         'заниматься': 2,\n",
       "         'сделка': 2,\n",
       "         'получение': 3,\n",
       "         'высокий': 3,\n",
       "         'профильный': 1,\n",
       "         'сдача': 1,\n",
       "         'ремонт': 1,\n",
       "         '\\n': 1})"
      ]
     },
     "metadata": {},
     "output_type": "display_data"
    },
    {
     "data": {
      "text/html": [
       "<div>\n",
       "<style scoped>\n",
       "    .dataframe tbody tr th:only-of-type {\n",
       "        vertical-align: middle;\n",
       "    }\n",
       "\n",
       "    .dataframe tbody tr th {\n",
       "        vertical-align: top;\n",
       "    }\n",
       "\n",
       "    .dataframe thead th {\n",
       "        text-align: right;\n",
       "    }\n",
       "</style>\n",
       "<table border=\"1\" class=\"dataframe\">\n",
       "  <thead>\n",
       "    <tr style=\"text-align: right;\">\n",
       "      <th></th>\n",
       "      <th>children</th>\n",
       "      <th>days_employed</th>\n",
       "      <th>dob_years</th>\n",
       "      <th>education</th>\n",
       "      <th>education_id</th>\n",
       "      <th>family_status</th>\n",
       "      <th>family_status_id</th>\n",
       "      <th>gender</th>\n",
       "      <th>income_type</th>\n",
       "      <th>debt</th>\n",
       "      <th>total_income</th>\n",
       "      <th>purpose</th>\n",
       "      <th>general_purposes</th>\n",
       "    </tr>\n",
       "  </thead>\n",
       "  <tbody>\n",
       "    <tr>\n",
       "      <th>0</th>\n",
       "      <td>1</td>\n",
       "      <td>8437</td>\n",
       "      <td>42</td>\n",
       "      <td>высшее</td>\n",
       "      <td>0</td>\n",
       "      <td>женат / замужем</td>\n",
       "      <td>0</td>\n",
       "      <td>F</td>\n",
       "      <td>сотрудник</td>\n",
       "      <td>0</td>\n",
       "      <td>253875</td>\n",
       "      <td>покупка жилья</td>\n",
       "      <td>недвижимость</td>\n",
       "    </tr>\n",
       "    <tr>\n",
       "      <th>1</th>\n",
       "      <td>1</td>\n",
       "      <td>4024</td>\n",
       "      <td>36</td>\n",
       "      <td>среднее</td>\n",
       "      <td>1</td>\n",
       "      <td>женат / замужем</td>\n",
       "      <td>0</td>\n",
       "      <td>F</td>\n",
       "      <td>сотрудник</td>\n",
       "      <td>0</td>\n",
       "      <td>112080</td>\n",
       "      <td>приобретение автомобиля</td>\n",
       "      <td>автомобиль</td>\n",
       "    </tr>\n",
       "    <tr>\n",
       "      <th>2</th>\n",
       "      <td>0</td>\n",
       "      <td>5623</td>\n",
       "      <td>33</td>\n",
       "      <td>среднее</td>\n",
       "      <td>1</td>\n",
       "      <td>женат / замужем</td>\n",
       "      <td>0</td>\n",
       "      <td>M</td>\n",
       "      <td>сотрудник</td>\n",
       "      <td>0</td>\n",
       "      <td>145885</td>\n",
       "      <td>покупка жилья</td>\n",
       "      <td>недвижимость</td>\n",
       "    </tr>\n",
       "    <tr>\n",
       "      <th>3</th>\n",
       "      <td>3</td>\n",
       "      <td>4124</td>\n",
       "      <td>32</td>\n",
       "      <td>среднее</td>\n",
       "      <td>1</td>\n",
       "      <td>женат / замужем</td>\n",
       "      <td>0</td>\n",
       "      <td>M</td>\n",
       "      <td>сотрудник</td>\n",
       "      <td>0</td>\n",
       "      <td>267628</td>\n",
       "      <td>дополнительное образование</td>\n",
       "      <td>образование</td>\n",
       "    </tr>\n",
       "    <tr>\n",
       "      <th>4</th>\n",
       "      <td>0</td>\n",
       "      <td>14177</td>\n",
       "      <td>53</td>\n",
       "      <td>среднее</td>\n",
       "      <td>1</td>\n",
       "      <td>гражданский брак</td>\n",
       "      <td>1</td>\n",
       "      <td>F</td>\n",
       "      <td>пенсионер</td>\n",
       "      <td>0</td>\n",
       "      <td>158616</td>\n",
       "      <td>сыграть свадьбу</td>\n",
       "      <td>свадьба</td>\n",
       "    </tr>\n",
       "  </tbody>\n",
       "</table>\n",
       "</div>"
      ],
      "text/plain": [
       "   children  days_employed  dob_years education  education_id  \\\n",
       "0         1           8437         42    высшее             0   \n",
       "1         1           4024         36   среднее             1   \n",
       "2         0           5623         33   среднее             1   \n",
       "3         3           4124         32   среднее             1   \n",
       "4         0          14177         53   среднее             1   \n",
       "\n",
       "      family_status  family_status_id gender income_type  debt  total_income  \\\n",
       "0   женат / замужем                 0      F   сотрудник     0        253875   \n",
       "1   женат / замужем                 0      F   сотрудник     0        112080   \n",
       "2   женат / замужем                 0      M   сотрудник     0        145885   \n",
       "3   женат / замужем                 0      M   сотрудник     0        267628   \n",
       "4  гражданский брак                 1      F   пенсионер     0        158616   \n",
       "\n",
       "                      purpose general_purposes  \n",
       "0               покупка жилья     недвижимость  \n",
       "1     приобретение автомобиля       автомобиль  \n",
       "2               покупка жилья     недвижимость  \n",
       "3  дополнительное образование      образование  \n",
       "4             сыграть свадьбу          свадьба  "
      ]
     },
     "metadata": {},
     "output_type": "display_data"
    },
    {
     "data": {
      "text/plain": [
       "недвижимость    10811\n",
       "автомобиль       4306\n",
       "образование      4013\n",
       "свадьба          2324\n",
       "Name: general_purposes, dtype: int64"
      ]
     },
     "execution_count": 12,
     "metadata": {},
     "output_type": "execute_result"
    }
   ],
   "source": [
    "# выгружаем библиотеку Pymystem3 для лемматизации\n",
    "from pymystem3 import Mystem\n",
    "from collections import Counter # используем для подсчета повторов\n",
    "m = Mystem() \n",
    "text = data['purpose'].unique()\n",
    "separator = ' '\n",
    "text = separator.join(text)\n",
    "lemmas = (m.lemmatize(text))\n",
    "display(Counter(lemmas)) \n",
    "\n",
    "#пишем функцию\n",
    "def lemmas_purpose(row):\n",
    "    purpose = row['purpose']\n",
    "    purpose_lemmas = m.lemmatize(purpose)\n",
    "    if ('недвижимость' in purpose_lemmas or 'жилье' in purpose_lemmas):\n",
    "        return 'недвижимость'\n",
    "    elif ('свадьба' in purpose_lemmas or 'сыграть' in purpose_lemmas):\n",
    "        return 'свадьба'\n",
    "    elif 'автомобиль' in purpose_lemmas:\n",
    "        return 'автомобиль'\n",
    "    elif 'образование' in purpose_lemmas:\n",
    "        return 'образование'\n",
    "    else:\n",
    "        return 'цель не определена'\n",
    "\n",
    "data['general_purposes'] = data.apply(lemmas_purpose, axis = 1)\n",
    "display(data.head())\n",
    "data['general_purposes'].value_counts()\n",
    "    \n",
    " "
   ]
  },
  {
   "cell_type": "markdown",
   "metadata": {},
   "source": [
    "**Вывод**"
   ]
  },
  {
   "cell_type": "markdown",
   "metadata": {},
   "source": [
    "Находим леммы в значениях столбца с целями получения кредита и осуществляем их подсчет. Это может выявить основные цели получения кредита.\n",
    "Для лемматизиции необходимо выгрузить бублиотеку Pymystem3, далее нашли все уникальные значения для колонки purpose и провели леммизацию. С помощью Counter посчитали частоту появления слов. Дальше выделили самые часто встречающиеся категории при помощи ввода функции, в которой метод apply лемматизирует каждую ячейку столбца purpose и проверяет какая категория обнаружится.\n",
    "Таким образом обнаружили 4 самые большие группы заемщиков."
   ]
  },
  {
   "cell_type": "markdown",
   "metadata": {},
   "source": [
    "### Категоризация данных"
   ]
  },
  {
   "cell_type": "code",
   "execution_count": 13,
   "metadata": {},
   "outputs": [
    {
     "data": {
      "text/html": [
       "<div>\n",
       "<style scoped>\n",
       "    .dataframe tbody tr th:only-of-type {\n",
       "        vertical-align: middle;\n",
       "    }\n",
       "\n",
       "    .dataframe tbody tr th {\n",
       "        vertical-align: top;\n",
       "    }\n",
       "\n",
       "    .dataframe thead th {\n",
       "        text-align: right;\n",
       "    }\n",
       "</style>\n",
       "<table border=\"1\" class=\"dataframe\">\n",
       "  <thead>\n",
       "    <tr style=\"text-align: right;\">\n",
       "      <th></th>\n",
       "      <th>education</th>\n",
       "    </tr>\n",
       "  </thead>\n",
       "  <tbody>\n",
       "    <tr>\n",
       "      <th>0</th>\n",
       "      <td>высшее</td>\n",
       "    </tr>\n",
       "    <tr>\n",
       "      <th>1</th>\n",
       "      <td>среднее</td>\n",
       "    </tr>\n",
       "    <tr>\n",
       "      <th>13</th>\n",
       "      <td>неоконченное высшее</td>\n",
       "    </tr>\n",
       "    <tr>\n",
       "      <th>31</th>\n",
       "      <td>начальное</td>\n",
       "    </tr>\n",
       "    <tr>\n",
       "      <th>2962</th>\n",
       "      <td>ученая степень</td>\n",
       "    </tr>\n",
       "  </tbody>\n",
       "</table>\n",
       "</div>"
      ],
      "text/plain": [
       "                education\n",
       "0                  высшее\n",
       "1                 среднее\n",
       "13    неоконченное высшее\n",
       "31              начальное\n",
       "2962       ученая степень"
      ]
     },
     "execution_count": 13,
     "metadata": {},
     "output_type": "execute_result"
    }
   ],
   "source": [
    "# выделяем категории\n",
    "data[['education']].drop_duplicates()\n"
   ]
  },
  {
   "cell_type": "code",
   "execution_count": 14,
   "metadata": {},
   "outputs": [
    {
     "data": {
      "text/html": [
       "<div>\n",
       "<style scoped>\n",
       "    .dataframe tbody tr th:only-of-type {\n",
       "        vertical-align: middle;\n",
       "    }\n",
       "\n",
       "    .dataframe tbody tr th {\n",
       "        vertical-align: top;\n",
       "    }\n",
       "\n",
       "    .dataframe thead th {\n",
       "        text-align: right;\n",
       "    }\n",
       "</style>\n",
       "<table border=\"1\" class=\"dataframe\">\n",
       "  <thead>\n",
       "    <tr style=\"text-align: right;\">\n",
       "      <th></th>\n",
       "      <th>family_status</th>\n",
       "    </tr>\n",
       "  </thead>\n",
       "  <tbody>\n",
       "    <tr>\n",
       "      <th>0</th>\n",
       "      <td>женат / замужем</td>\n",
       "    </tr>\n",
       "    <tr>\n",
       "      <th>4</th>\n",
       "      <td>гражданский брак</td>\n",
       "    </tr>\n",
       "    <tr>\n",
       "      <th>18</th>\n",
       "      <td>вдовец / вдова</td>\n",
       "    </tr>\n",
       "    <tr>\n",
       "      <th>19</th>\n",
       "      <td>в разводе</td>\n",
       "    </tr>\n",
       "    <tr>\n",
       "      <th>24</th>\n",
       "      <td>Не женат / не замужем</td>\n",
       "    </tr>\n",
       "  </tbody>\n",
       "</table>\n",
       "</div>"
      ],
      "text/plain": [
       "            family_status\n",
       "0         женат / замужем\n",
       "4        гражданский брак\n",
       "18         вдовец / вдова\n",
       "19              в разводе\n",
       "24  Не женат / не замужем"
      ]
     },
     "execution_count": 14,
     "metadata": {},
     "output_type": "execute_result"
    }
   ],
   "source": [
    "data[['family_status']].drop_duplicates()\n"
   ]
  },
  {
   "cell_type": "code",
   "execution_count": 15,
   "metadata": {},
   "outputs": [
    {
     "data": {
      "text/html": [
       "<div>\n",
       "<style scoped>\n",
       "    .dataframe tbody tr th:only-of-type {\n",
       "        vertical-align: middle;\n",
       "    }\n",
       "\n",
       "    .dataframe tbody tr th {\n",
       "        vertical-align: top;\n",
       "    }\n",
       "\n",
       "    .dataframe thead th {\n",
       "        text-align: right;\n",
       "    }\n",
       "</style>\n",
       "<table border=\"1\" class=\"dataframe\">\n",
       "  <thead>\n",
       "    <tr style=\"text-align: right;\">\n",
       "      <th></th>\n",
       "      <th>family_status</th>\n",
       "    </tr>\n",
       "    <tr>\n",
       "      <th>family_status_id</th>\n",
       "      <th></th>\n",
       "    </tr>\n",
       "  </thead>\n",
       "  <tbody>\n",
       "    <tr>\n",
       "      <th>0</th>\n",
       "      <td>женат / замужем</td>\n",
       "    </tr>\n",
       "    <tr>\n",
       "      <th>1</th>\n",
       "      <td>гражданский брак</td>\n",
       "    </tr>\n",
       "    <tr>\n",
       "      <th>2</th>\n",
       "      <td>вдовец / вдова</td>\n",
       "    </tr>\n",
       "    <tr>\n",
       "      <th>3</th>\n",
       "      <td>в разводе</td>\n",
       "    </tr>\n",
       "    <tr>\n",
       "      <th>4</th>\n",
       "      <td>Не женат / не замужем</td>\n",
       "    </tr>\n",
       "  </tbody>\n",
       "</table>\n",
       "</div>"
      ],
      "text/plain": [
       "                          family_status\n",
       "family_status_id                       \n",
       "0                       женат / замужем\n",
       "1                      гражданский брак\n",
       "2                        вдовец / вдова\n",
       "3                             в разводе\n",
       "4                 Не женат / не замужем"
      ]
     },
     "execution_count": 15,
     "metadata": {},
     "output_type": "execute_result"
    }
   ],
   "source": [
    "data[['family_status_id', 'family_status']].drop_duplicates().set_index('family_status_id')\n"
   ]
  },
  {
   "cell_type": "code",
   "execution_count": 16,
   "metadata": {},
   "outputs": [
    {
     "data": {
      "text/html": [
       "<div>\n",
       "<style scoped>\n",
       "    .dataframe tbody tr th:only-of-type {\n",
       "        vertical-align: middle;\n",
       "    }\n",
       "\n",
       "    .dataframe tbody tr th {\n",
       "        vertical-align: top;\n",
       "    }\n",
       "\n",
       "    .dataframe thead th {\n",
       "        text-align: right;\n",
       "    }\n",
       "</style>\n",
       "<table border=\"1\" class=\"dataframe\">\n",
       "  <thead>\n",
       "    <tr style=\"text-align: right;\">\n",
       "      <th></th>\n",
       "      <th>income_type</th>\n",
       "    </tr>\n",
       "  </thead>\n",
       "  <tbody>\n",
       "    <tr>\n",
       "      <th>0</th>\n",
       "      <td>сотрудник</td>\n",
       "    </tr>\n",
       "    <tr>\n",
       "      <th>4</th>\n",
       "      <td>пенсионер</td>\n",
       "    </tr>\n",
       "    <tr>\n",
       "      <th>5</th>\n",
       "      <td>компаньон</td>\n",
       "    </tr>\n",
       "    <tr>\n",
       "      <th>26</th>\n",
       "      <td>госслужащий</td>\n",
       "    </tr>\n",
       "    <tr>\n",
       "      <th>3132</th>\n",
       "      <td>безработный</td>\n",
       "    </tr>\n",
       "    <tr>\n",
       "      <th>5931</th>\n",
       "      <td>предприниматель</td>\n",
       "    </tr>\n",
       "    <tr>\n",
       "      <th>9399</th>\n",
       "      <td>студент</td>\n",
       "    </tr>\n",
       "    <tr>\n",
       "      <th>20778</th>\n",
       "      <td>в декрете</td>\n",
       "    </tr>\n",
       "  </tbody>\n",
       "</table>\n",
       "</div>"
      ],
      "text/plain": [
       "           income_type\n",
       "0            сотрудник\n",
       "4            пенсионер\n",
       "5            компаньон\n",
       "26         госслужащий\n",
       "3132       безработный\n",
       "5931   предприниматель\n",
       "9399           студент\n",
       "20778        в декрете"
      ]
     },
     "execution_count": 16,
     "metadata": {},
     "output_type": "execute_result"
    }
   ],
   "source": [
    "data[['income_type']].drop_duplicates()\n"
   ]
  },
  {
   "cell_type": "code",
   "execution_count": 17,
   "metadata": {},
   "outputs": [
    {
     "data": {
      "text/html": [
       "<div>\n",
       "<style scoped>\n",
       "    .dataframe tbody tr th:only-of-type {\n",
       "        vertical-align: middle;\n",
       "    }\n",
       "\n",
       "    .dataframe tbody tr th {\n",
       "        vertical-align: top;\n",
       "    }\n",
       "\n",
       "    .dataframe thead th {\n",
       "        text-align: right;\n",
       "    }\n",
       "</style>\n",
       "<table border=\"1\" class=\"dataframe\">\n",
       "  <thead>\n",
       "    <tr style=\"text-align: right;\">\n",
       "      <th></th>\n",
       "      <th>purpose</th>\n",
       "    </tr>\n",
       "  </thead>\n",
       "  <tbody>\n",
       "    <tr>\n",
       "      <th>0</th>\n",
       "      <td>покупка жилья</td>\n",
       "    </tr>\n",
       "    <tr>\n",
       "      <th>1</th>\n",
       "      <td>приобретение автомобиля</td>\n",
       "    </tr>\n",
       "    <tr>\n",
       "      <th>3</th>\n",
       "      <td>дополнительное образование</td>\n",
       "    </tr>\n",
       "    <tr>\n",
       "      <th>4</th>\n",
       "      <td>сыграть свадьбу</td>\n",
       "    </tr>\n",
       "    <tr>\n",
       "      <th>6</th>\n",
       "      <td>операции с жильем</td>\n",
       "    </tr>\n",
       "    <tr>\n",
       "      <th>7</th>\n",
       "      <td>образование</td>\n",
       "    </tr>\n",
       "    <tr>\n",
       "      <th>8</th>\n",
       "      <td>на проведение свадьбы</td>\n",
       "    </tr>\n",
       "    <tr>\n",
       "      <th>9</th>\n",
       "      <td>покупка жилья для семьи</td>\n",
       "    </tr>\n",
       "    <tr>\n",
       "      <th>10</th>\n",
       "      <td>покупка недвижимости</td>\n",
       "    </tr>\n",
       "    <tr>\n",
       "      <th>11</th>\n",
       "      <td>покупка коммерческой недвижимости</td>\n",
       "    </tr>\n",
       "    <tr>\n",
       "      <th>14</th>\n",
       "      <td>покупка жилой недвижимости</td>\n",
       "    </tr>\n",
       "    <tr>\n",
       "      <th>15</th>\n",
       "      <td>строительство собственной недвижимости</td>\n",
       "    </tr>\n",
       "    <tr>\n",
       "      <th>16</th>\n",
       "      <td>недвижимость</td>\n",
       "    </tr>\n",
       "    <tr>\n",
       "      <th>17</th>\n",
       "      <td>строительство недвижимости</td>\n",
       "    </tr>\n",
       "    <tr>\n",
       "      <th>18</th>\n",
       "      <td>на покупку подержанного автомобиля</td>\n",
       "    </tr>\n",
       "    <tr>\n",
       "      <th>19</th>\n",
       "      <td>на покупку своего автомобиля</td>\n",
       "    </tr>\n",
       "    <tr>\n",
       "      <th>24</th>\n",
       "      <td>операции с коммерческой недвижимостью</td>\n",
       "    </tr>\n",
       "    <tr>\n",
       "      <th>29</th>\n",
       "      <td>строительство жилой недвижимости</td>\n",
       "    </tr>\n",
       "    <tr>\n",
       "      <th>31</th>\n",
       "      <td>жилье</td>\n",
       "    </tr>\n",
       "    <tr>\n",
       "      <th>34</th>\n",
       "      <td>операции со своей недвижимостью</td>\n",
       "    </tr>\n",
       "    <tr>\n",
       "      <th>36</th>\n",
       "      <td>автомобили</td>\n",
       "    </tr>\n",
       "    <tr>\n",
       "      <th>39</th>\n",
       "      <td>заняться образованием</td>\n",
       "    </tr>\n",
       "    <tr>\n",
       "      <th>41</th>\n",
       "      <td>сделка с подержанным автомобилем</td>\n",
       "    </tr>\n",
       "    <tr>\n",
       "      <th>42</th>\n",
       "      <td>получение образования</td>\n",
       "    </tr>\n",
       "    <tr>\n",
       "      <th>49</th>\n",
       "      <td>автомобиль</td>\n",
       "    </tr>\n",
       "    <tr>\n",
       "      <th>51</th>\n",
       "      <td>свадьба</td>\n",
       "    </tr>\n",
       "    <tr>\n",
       "      <th>52</th>\n",
       "      <td>получение дополнительного образования</td>\n",
       "    </tr>\n",
       "    <tr>\n",
       "      <th>53</th>\n",
       "      <td>покупка своего жилья</td>\n",
       "    </tr>\n",
       "    <tr>\n",
       "      <th>59</th>\n",
       "      <td>операции с недвижимостью</td>\n",
       "    </tr>\n",
       "    <tr>\n",
       "      <th>62</th>\n",
       "      <td>получение высшего образования</td>\n",
       "    </tr>\n",
       "    <tr>\n",
       "      <th>77</th>\n",
       "      <td>свой автомобиль</td>\n",
       "    </tr>\n",
       "    <tr>\n",
       "      <th>78</th>\n",
       "      <td>сделка с автомобилем</td>\n",
       "    </tr>\n",
       "    <tr>\n",
       "      <th>81</th>\n",
       "      <td>профильное образование</td>\n",
       "    </tr>\n",
       "    <tr>\n",
       "      <th>85</th>\n",
       "      <td>высшее образование</td>\n",
       "    </tr>\n",
       "    <tr>\n",
       "      <th>87</th>\n",
       "      <td>покупка жилья для сдачи</td>\n",
       "    </tr>\n",
       "    <tr>\n",
       "      <th>117</th>\n",
       "      <td>на покупку автомобиля</td>\n",
       "    </tr>\n",
       "    <tr>\n",
       "      <th>139</th>\n",
       "      <td>ремонт жилью</td>\n",
       "    </tr>\n",
       "    <tr>\n",
       "      <th>176</th>\n",
       "      <td>заняться высшим образованием</td>\n",
       "    </tr>\n",
       "  </tbody>\n",
       "</table>\n",
       "</div>"
      ],
      "text/plain": [
       "                                    purpose\n",
       "0                             покупка жилья\n",
       "1                   приобретение автомобиля\n",
       "3                дополнительное образование\n",
       "4                           сыграть свадьбу\n",
       "6                         операции с жильем\n",
       "7                               образование\n",
       "8                     на проведение свадьбы\n",
       "9                   покупка жилья для семьи\n",
       "10                     покупка недвижимости\n",
       "11        покупка коммерческой недвижимости\n",
       "14               покупка жилой недвижимости\n",
       "15   строительство собственной недвижимости\n",
       "16                             недвижимость\n",
       "17               строительство недвижимости\n",
       "18       на покупку подержанного автомобиля\n",
       "19             на покупку своего автомобиля\n",
       "24    операции с коммерческой недвижимостью\n",
       "29         строительство жилой недвижимости\n",
       "31                                    жилье\n",
       "34          операции со своей недвижимостью\n",
       "36                               автомобили\n",
       "39                    заняться образованием\n",
       "41         сделка с подержанным автомобилем\n",
       "42                    получение образования\n",
       "49                               автомобиль\n",
       "51                                  свадьба\n",
       "52    получение дополнительного образования\n",
       "53                     покупка своего жилья\n",
       "59                 операции с недвижимостью\n",
       "62            получение высшего образования\n",
       "77                          свой автомобиль\n",
       "78                     сделка с автомобилем\n",
       "81                   профильное образование\n",
       "85                       высшее образование\n",
       "87                  покупка жилья для сдачи\n",
       "117                   на покупку автомобиля\n",
       "139                            ремонт жилью\n",
       "176            заняться высшим образованием"
      ]
     },
     "execution_count": 17,
     "metadata": {},
     "output_type": "execute_result"
    }
   ],
   "source": [
    "data[['purpose']].drop_duplicates()\n"
   ]
  },
  {
   "cell_type": "markdown",
   "metadata": {},
   "source": [
    "**Вывод**"
   ]
  },
  {
   "cell_type": "markdown",
   "metadata": {},
   "source": [
    "На данном этапе изучили словари с категориальными переменными. Категоризация служит инструментом обнаружения того, какие категории вообще есть в датафрейме и в каком формате они записаны."
   ]
  },
  {
   "cell_type": "markdown",
   "metadata": {},
   "source": [
    "## Шаг 3. Ответьте на вопросы"
   ]
  },
  {
   "cell_type": "markdown",
   "metadata": {},
   "source": [
    "- Есть ли зависимость между наличием детей и возвратом кредита в срок?"
   ]
  },
  {
   "cell_type": "code",
   "execution_count": 18,
   "metadata": {},
   "outputs": [
    {
     "data": {
      "text/html": [
       "<div>\n",
       "<style scoped>\n",
       "    .dataframe tbody tr th:only-of-type {\n",
       "        vertical-align: middle;\n",
       "    }\n",
       "\n",
       "    .dataframe tbody tr th {\n",
       "        vertical-align: top;\n",
       "    }\n",
       "\n",
       "    .dataframe thead th {\n",
       "        text-align: right;\n",
       "    }\n",
       "</style>\n",
       "<table border=\"1\" class=\"dataframe\">\n",
       "  <thead>\n",
       "    <tr style=\"text-align: right;\">\n",
       "      <th></th>\n",
       "      <th>has_debt</th>\n",
       "      <th>total</th>\n",
       "      <th>%</th>\n",
       "    </tr>\n",
       "    <tr>\n",
       "      <th>children</th>\n",
       "      <th></th>\n",
       "      <th></th>\n",
       "      <th></th>\n",
       "    </tr>\n",
       "  </thead>\n",
       "  <tbody>\n",
       "    <tr>\n",
       "      <th>5</th>\n",
       "      <td>0</td>\n",
       "      <td>9</td>\n",
       "      <td>0.000000</td>\n",
       "    </tr>\n",
       "    <tr>\n",
       "      <th>4</th>\n",
       "      <td>4</td>\n",
       "      <td>41</td>\n",
       "      <td>9.756098</td>\n",
       "    </tr>\n",
       "    <tr>\n",
       "      <th>3</th>\n",
       "      <td>27</td>\n",
       "      <td>330</td>\n",
       "      <td>8.181818</td>\n",
       "    </tr>\n",
       "    <tr>\n",
       "      <th>2</th>\n",
       "      <td>202</td>\n",
       "      <td>2128</td>\n",
       "      <td>9.492481</td>\n",
       "    </tr>\n",
       "    <tr>\n",
       "      <th>1</th>\n",
       "      <td>445</td>\n",
       "      <td>4855</td>\n",
       "      <td>9.165808</td>\n",
       "    </tr>\n",
       "    <tr>\n",
       "      <th>0</th>\n",
       "      <td>1063</td>\n",
       "      <td>14091</td>\n",
       "      <td>7.543822</td>\n",
       "    </tr>\n",
       "  </tbody>\n",
       "</table>\n",
       "</div>"
      ],
      "text/plain": [
       "          has_debt  total         %\n",
       "children                           \n",
       "5                0      9  0.000000\n",
       "4                4     41  9.756098\n",
       "3               27    330  8.181818\n",
       "2              202   2128  9.492481\n",
       "1              445   4855  9.165808\n",
       "0             1063  14091  7.543822"
      ]
     },
     "metadata": {},
     "output_type": "display_data"
    }
   ],
   "source": [
    "# Делаем сводную таблицу для children и debt\n",
    "children_pivot = data.pivot_table(index = ['children'], values = 'debt', aggfunc = ['sum', 'count', 'mean'])\n",
    "children_pivot['mean'] = children_pivot['mean'] * 100 # получили процент\n",
    "children_pivot.columns = ['has_debt', 'total', '%'] # создали колонки\n",
    "children_pivot = children_pivot.sort_values(by = 'children', ascending = False) # отсортировали в порядке убывания\n",
    "display(children_pivot)"
   ]
  },
  {
   "cell_type": "markdown",
   "metadata": {},
   "source": [
    "**Вывод**"
   ]
  },
  {
   "cell_type": "markdown",
   "metadata": {},
   "source": [
    "По итогам сводной таблицы мы видим, что самый большой процент имеющих кредит (9,7%) имеют 4х детей, далее следуют семьи с 2мя детьми (9,5%) и семьи с 1 ребенком (9,1%). Доля семей с 3 детьми в среднем на 1% ниже, чем с одним, двумя и четыремя детьми. Однако доля имеющих кредит среди семей, не имеющих детей, равна 7,5%. Таким образом средний показатель долга для семей с детьми - 9,1%, в то время как только 7,5% семей без детей имеют кредит. Разница составляет полтора процента и не кажется существенной.\n",
    "Также стоит иметь в виду, что абсолютное количество кредитов в семьях без детей выше."
   ]
  },
  {
   "cell_type": "markdown",
   "metadata": {},
   "source": [
    "- Есть ли зависимость между семейным положением и возвратом кредита в срок?"
   ]
  },
  {
   "cell_type": "code",
   "execution_count": 19,
   "metadata": {},
   "outputs": [
    {
     "data": {
      "text/html": [
       "<div>\n",
       "<style scoped>\n",
       "    .dataframe tbody tr th:only-of-type {\n",
       "        vertical-align: middle;\n",
       "    }\n",
       "\n",
       "    .dataframe tbody tr th {\n",
       "        vertical-align: top;\n",
       "    }\n",
       "\n",
       "    .dataframe thead th {\n",
       "        text-align: right;\n",
       "    }\n",
       "</style>\n",
       "<table border=\"1\" class=\"dataframe\">\n",
       "  <thead>\n",
       "    <tr style=\"text-align: right;\">\n",
       "      <th></th>\n",
       "      <th>has_debt</th>\n",
       "      <th>total</th>\n",
       "      <th>%</th>\n",
       "    </tr>\n",
       "    <tr>\n",
       "      <th>family_status</th>\n",
       "      <th></th>\n",
       "      <th></th>\n",
       "      <th></th>\n",
       "    </tr>\n",
       "  </thead>\n",
       "  <tbody>\n",
       "    <tr>\n",
       "      <th>женат / замужем</th>\n",
       "      <td>931</td>\n",
       "      <td>12339</td>\n",
       "      <td>7.545182</td>\n",
       "    </tr>\n",
       "    <tr>\n",
       "      <th>гражданский брак</th>\n",
       "      <td>388</td>\n",
       "      <td>4151</td>\n",
       "      <td>9.347145</td>\n",
       "    </tr>\n",
       "    <tr>\n",
       "      <th>вдовец / вдова</th>\n",
       "      <td>63</td>\n",
       "      <td>959</td>\n",
       "      <td>6.569343</td>\n",
       "    </tr>\n",
       "    <tr>\n",
       "      <th>в разводе</th>\n",
       "      <td>85</td>\n",
       "      <td>1195</td>\n",
       "      <td>7.112971</td>\n",
       "    </tr>\n",
       "    <tr>\n",
       "      <th>Не женат / не замужем</th>\n",
       "      <td>274</td>\n",
       "      <td>2810</td>\n",
       "      <td>9.750890</td>\n",
       "    </tr>\n",
       "  </tbody>\n",
       "</table>\n",
       "</div>"
      ],
      "text/plain": [
       "                       has_debt  total         %\n",
       "family_status                                   \n",
       "женат / замужем             931  12339  7.545182\n",
       "гражданский брак            388   4151  9.347145\n",
       "вдовец / вдова               63    959  6.569343\n",
       "в разводе                    85   1195  7.112971\n",
       "Не женат / не замужем       274   2810  9.750890"
      ]
     },
     "metadata": {},
     "output_type": "display_data"
    }
   ],
   "source": [
    "# Делаем сводную таблицу для family_status и debt\n",
    "family_status_pivot = data.pivot_table(index = ['family_status'], values = 'debt', aggfunc = ['sum', 'count', 'mean'])\n",
    "family_status_pivot['mean'] = family_status_pivot['mean'] * 100 # получили процент\n",
    "family_status_pivot.columns = ['has_debt', 'total', '%'] # создали колонки\n",
    "family_status_pivot = family_status_pivot.sort_values(by = 'family_status', ascending = False) # отсортировали в порядке убывания\n",
    "display(family_status_pivot)"
   ]
  },
  {
   "cell_type": "markdown",
   "metadata": {},
   "source": [
    "**Вывод**"
   ]
  },
  {
   "cell_type": "markdown",
   "metadata": {},
   "source": [
    "В данном случае мы видим, что больше всего кредитов имеют неженатые/незамужние люди (9,7%) и люди в гражданском браке (9,2%). Женатые/замужние и люди в разводе имеют по 7,5% и 7,1% соответственно. Меньше всего (6,6%) кредитов у вдовцов. Разница между каждой группой, представленной в семейном положении не превышает 2,2%. Из этого можно сделать вывод, что семейное положение практически не влияет на возврат кредита."
   ]
  },
  {
   "cell_type": "markdown",
   "metadata": {},
   "source": [
    "- Есть ли зависимость между уровнем дохода и возвратом кредита в срок?"
   ]
  },
  {
   "cell_type": "code",
   "execution_count": 21,
   "metadata": {},
   "outputs": [
    {
     "data": {
      "text/html": [
       "<div>\n",
       "<style scoped>\n",
       "    .dataframe tbody tr th:only-of-type {\n",
       "        vertical-align: middle;\n",
       "    }\n",
       "\n",
       "    .dataframe tbody tr th {\n",
       "        vertical-align: top;\n",
       "    }\n",
       "\n",
       "    .dataframe thead th {\n",
       "        text-align: right;\n",
       "    }\n",
       "</style>\n",
       "<table border=\"1\" class=\"dataframe\">\n",
       "  <thead>\n",
       "    <tr style=\"text-align: right;\">\n",
       "      <th></th>\n",
       "      <th>has_debt</th>\n",
       "      <th>total</th>\n",
       "      <th>%</th>\n",
       "    </tr>\n",
       "    <tr>\n",
       "      <th>income_type</th>\n",
       "      <th></th>\n",
       "      <th></th>\n",
       "      <th></th>\n",
       "    </tr>\n",
       "  </thead>\n",
       "  <tbody>\n",
       "    <tr>\n",
       "      <th>студент</th>\n",
       "      <td>0</td>\n",
       "      <td>1</td>\n",
       "      <td>0.000000</td>\n",
       "    </tr>\n",
       "    <tr>\n",
       "      <th>сотрудник</th>\n",
       "      <td>1061</td>\n",
       "      <td>11084</td>\n",
       "      <td>9.572357</td>\n",
       "    </tr>\n",
       "    <tr>\n",
       "      <th>предприниматель</th>\n",
       "      <td>0</td>\n",
       "      <td>2</td>\n",
       "      <td>0.000000</td>\n",
       "    </tr>\n",
       "    <tr>\n",
       "      <th>пенсионер</th>\n",
       "      <td>216</td>\n",
       "      <td>3829</td>\n",
       "      <td>5.641160</td>\n",
       "    </tr>\n",
       "    <tr>\n",
       "      <th>компаньон</th>\n",
       "      <td>376</td>\n",
       "      <td>5078</td>\n",
       "      <td>7.404490</td>\n",
       "    </tr>\n",
       "    <tr>\n",
       "      <th>госслужащий</th>\n",
       "      <td>86</td>\n",
       "      <td>1457</td>\n",
       "      <td>5.902539</td>\n",
       "    </tr>\n",
       "    <tr>\n",
       "      <th>в декрете</th>\n",
       "      <td>1</td>\n",
       "      <td>1</td>\n",
       "      <td>100.000000</td>\n",
       "    </tr>\n",
       "    <tr>\n",
       "      <th>безработный</th>\n",
       "      <td>1</td>\n",
       "      <td>2</td>\n",
       "      <td>50.000000</td>\n",
       "    </tr>\n",
       "  </tbody>\n",
       "</table>\n",
       "</div>"
      ],
      "text/plain": [
       "                 has_debt  total           %\n",
       "income_type                                 \n",
       "студент                 0      1    0.000000\n",
       "сотрудник            1061  11084    9.572357\n",
       "предприниматель         0      2    0.000000\n",
       "пенсионер             216   3829    5.641160\n",
       "компаньон             376   5078    7.404490\n",
       "госслужащий            86   1457    5.902539\n",
       "в декрете               1      1  100.000000\n",
       "безработный             1      2   50.000000"
      ]
     },
     "metadata": {},
     "output_type": "display_data"
    }
   ],
   "source": [
    "# Делаем сводную таблицу для income_type и debt\n",
    "\n",
    "income_type_pivot = data.pivot_table(index = ['income_type'], values = 'debt', aggfunc = ['sum', 'count', 'mean'])\n",
    "income_type_pivot['mean'] = income_type_pivot['mean'] * 100 # получили процент\n",
    "income_type_pivot.columns = ['has_debt', 'total', '%'] # создали колонки\n",
    "income_type_pivot = income_type_pivot.sort_values(by = 'income_type', ascending = False) # отсортировали в порядке убывания\n",
    "display(income_type_pivot)"
   ]
  },
  {
   "cell_type": "markdown",
   "metadata": {},
   "source": [
    "**Вывод**"
   ]
  },
  {
   "cell_type": "markdown",
   "metadata": {},
   "source": [
    "В данной таблице наблюдаем тот факт, что больше всего кредитов у сотрудников компаний (9,5%). На втором месте  компаньоны - 7,4%, госслужащие и пенсионеры имеют самый низкий процент кредитов - 5,8% и 5,6%. В абсолютном выражении люди в декрете и безработные не представляют статистической значимости. По данной группе также не выявлено значительных колебаний в возврате долга, что приводит к выводу, что зависимость  между доходом и возвратом долга отсутствует. "
   ]
  },
  {
   "cell_type": "code",
   "execution_count": null,
   "metadata": {},
   "outputs": [],
   "source": []
  },
  {
   "cell_type": "markdown",
   "metadata": {},
   "source": [
    "- Как разные цели кредита влияют на его возврат в срок?"
   ]
  },
  {
   "cell_type": "code",
   "execution_count": null,
   "metadata": {},
   "outputs": [],
   "source": [
    "# Делаем сводную таблицу для general_purposes и debt\n",
    "pivot_purposes = data.pivot_table(index = ['general_purposes'], values = 'debt', aggfunc = ['sum', 'count', 'mean'])\n",
    "pivot_purposes['mean'] = pivot_purposes['mean'] * 100\n",
    "pivot_purposes.columns = ['has_debt', 'total', '%']\n",
    "pivot_purposes = pivot_purposes.sort_values(by = '%', ascending = False)\n",
    "display(pivot_purposes)"
   ]
  },
  {
   "cell_type": "markdown",
   "metadata": {},
   "source": [
    "**Вывод**"
   ]
  },
  {
   "cell_type": "markdown",
   "metadata": {},
   "source": [
    "Цели кредита, очевидно также существенно не влияют на его возврат. В данной таблице мы видим колебания от 7,2% до 9,3% по категориям."
   ]
  },
  {
   "cell_type": "markdown",
   "metadata": {},
   "source": [
    "## Шаг 4. Общий вывод"
   ]
  },
  {
   "cell_type": "markdown",
   "metadata": {},
   "source": [
    "В данном проекте были проанализированы даные статистики о платёжеспособности клиентов банка с целью выяления зависимости между семейным положением и количеством детей клиента на факт погашения кредита в срок. \n",
    "\n",
    "Перед началом анализа данные были выгружены из папки и датафрейм был проанализирован при помощи методов info() и value_counts(). Это помогло ознакомиться с размером датафрейма и  типами данных в нем и увидеть потенциальные проблемы. Таким образом обнаружилось, что в данных присутствовали пропуски, дубликаты и аномальные значения. Также нужно сказать, что в таблице были представлены данные вида object, int64, float64. \n",
    "\n",
    "На следующем шаге происходила поэтапная предобработка данных.\n",
    "\n",
    "Во-первых, была произведена обработка пропусков с использованием метода isna() в столбцах days_employed,\n",
    "total_income, dob_years.\n",
    "\n",
    "Во-вторых, привели типы данных в формат int методом astype. Для столбца days_employеd предварительно произвели замену  вещественных чисел на целочисленные, убрали знак \"-\" и перевели данные в часы.\n",
    "\n",
    "Далее был произведен поиск явных и неявных дубликатов при помощи  метода unique() к столбцам education, children, debt, purpose, income_type, family_status, education, gender. Обнаружили повторы из-за разного регистра в колонке education, привели все к нижнему регистру методом str.lower(). При проверке столбца children были обнаружены подозрительные значения -1 и 20. Подобные значения могли возникнуть при выгрузке данных. Они могут обозначать 1 ребенка и 2х соответственно. Доля этих значений несущественна, поэтому заменили эти значения на 1 и 2 при помощи метода replace(). Остальные данные не участвуют в анализе или их доля несущественна.\n",
    "\n",
    "На следующем этапе предобработки произвели лемматизацию столбца purpose с целью обозначения общих категорий целей кредита. Для этого написали функцию и сохранили результат в отдельном столбце general_purposes.\n",
    "\n",
    "Далее была произведена категоризация данных. Для этого выделили словари с категориальными переменными, которые необходимы для решения задачи проекта по поиску зависимости между семейным положением и количеством детей клиента на факт погашения кредита в срок.\n",
    "\n",
    "В пункте три анализа было составлено 4 таблицы:\n",
    "1. Сводная таблица для children и debt. В ней был произведен анализ с целью ответа на вопрос, есть ли зависимость между количеством детей и возвратом кредита в срок. По итогам сводной таблицы мы видим, что самый большой процент имеющих кредит (9,7%) имеют 4х детей, далее следуют семьи с 2мя детьми (9,5%) и семьи с 1 ребенком (9,1%). Доля семей с 3 детьми в среднем на 1% ниже, чем с одним, двумя и четыремя детьми. Однако доля имеющих кредит среди семей, не имеющих детей, равна 7,5%. Таким образом средний показатель долга для семей с детьми - 9,1%, в то время как только 7,5% семей без детей имеют кредит. Разница составляет полтора процента и не кажется существенной.\n",
    "\n",
    "2. Сводная таблица для family_status и debt. В ней был произведен анализ с целью ответа на вопрос, есть ли зависимость между семейным положением и возвратом кредита в срок. Из таблицы очевидно, что больше всего кредитов имеют неженатые/незамужние люди (9,7%) и люди в гражданском браке (9,2%). Женатые/замужние и люди в разводе имеют по 7,5% и 7,1% соответственно. Меньше всего (6,6%) кредитов у вдовцов. Разница между каждой группой, представленной в семейном положении не превышает 2,2%. Из этого можно сделать вывод, что семейное положение практически не влияет на возврат кредита.\n",
    "\n",
    "3. Сводная таблица для income_type и debt. В ней был произведен анализ с целью ответа на вопрос, есть ли зависимость между доходом и возвратом кредита в срок. В данной таблице наблюдаем тот факт, что больше всего кредитов у сотрудников компаний (9,5%). На втором месте компаньоны - 7,4%, госслужащие и пенсионеры имеют самый низкий процент кредитов - 5,8% и 5,6%. В абсолютном выражении люди в декрете и безработные не представляют статистической значимости. По данной группе также не выявлено значительных колебаний в возврате долга, что приводит к выводу, что зависимость между доходом и возвратом долга отсутствует.\n",
    "\n",
    "4. Сводная таблица для general_purposes и debt. В ней был произведен анализ с целью ответа на вопрос, есть ли зависимость между доходом и возвратом кредита в срок. Цели кредита, очевидно также существенно не влияют на его возврат. В данной таблице мы видим колебания от 7,2% до 9,3% по категориям.\n",
    "\n",
    "По итогам исследования можно сделать вывод, что наличие детей и семейное положение не влияет на возврат кредита в срок. Анализ каждой категории показал, что каждая группа закредитована в промежутке от 6,6% до 9,7%. \n",
    "Также из данных очевидно, что доход и цель кредита также не влияют на возвратность кредита в срок.\n",
    "\n",
    "Исходя из анализа данных, можно сделать вывод, что заказчику в первую очередь стоит дополнить данные для дальнейшего анализа и продолжить поиск потенциальных категорий, которые могли оказать более существенное влияние для возврат кредита в срок.\n",
    "Тем не менее, не стоит забывать, о том, что данные пополняются, и, возможно, при изменении кредитной политики банка, эти данные покажут новые виды зависимости, которые будут полезны в будущем. \n",
    "\n",
    "\n"
   ]
  },
  {
   "cell_type": "markdown",
   "metadata": {},
   "source": [
    "## Чек-лист готовности проекта\n",
    "\n",
    "Поставьте 'x' в выполненных пунктах. Далее нажмите Shift+Enter."
   ]
  },
  {
   "cell_type": "markdown",
   "metadata": {},
   "source": [
    "- [x]  открыт файл;\n",
    "- [x]  файл изучен;\n",
    "- [x]  определены пропущенные значения;\n",
    "- [x]  заполнены пропущенные значения;\n",
    "- [x]  есть пояснение, какие пропущенные значения обнаружены;\n",
    "- [x]  описаны возможные причины появления пропусков в данных;\n",
    "- [x]  объяснено, по какому принципу заполнены пропуски;\n",
    "- [x]  заменен вещественный тип данных на целочисленный;\n",
    "- [x]  есть пояснение, какой метод используется для изменения типа данных и почему;\n",
    "- [x]  удалены дубликаты;\n",
    "- [x]  есть пояснение, какой метод используется для поиска и удаления дубликатов;\n",
    "- [x]  описаны возможные причины появления дубликатов в данных;\n",
    "- [x]  выделены леммы в значениях столбца с целями получения кредита;\n",
    "- [x]  описан процесс лемматизации;\n",
    "- [x]  данные категоризированы;\n",
    "- [x]  есть объяснение принципа категоризации данных;\n",
    "- [x]  есть ответ на вопрос: \"Есть ли зависимость между наличием детей и возвратом кредита в срок?\";\n",
    "- [x]  есть ответ на вопрос: \"Есть ли зависимость между семейным положением и возвратом кредита в срок?\";\n",
    "- [x]  есть ответ на вопрос: \"Есть ли зависимость между уровнем дохода и возвратом кредита в срок?\";\n",
    "- [x]  есть ответ на вопрос: \"Как разные цели кредита влияют на его возврат в срок?\";\n",
    "- [x]  в каждом этапе есть выводы;\n",
    "- [x]  есть общий вывод."
   ]
  },
  {
   "cell_type": "code",
   "execution_count": null,
   "metadata": {},
   "outputs": [],
   "source": []
  }
 ],
 "metadata": {
  "ExecuteTimeLog": [
   {
    "duration": 701,
    "start_time": "2021-12-07T09:07:05.656Z"
   },
   {
    "duration": 796,
    "start_time": "2021-12-07T18:46:07.844Z"
   },
   {
    "duration": 89,
    "start_time": "2021-12-07T18:46:34.376Z"
   },
   {
    "duration": 426,
    "start_time": "2021-12-07T19:18:26.817Z"
   },
   {
    "duration": 114,
    "start_time": "2021-12-07T19:19:04.186Z"
   },
   {
    "duration": 8,
    "start_time": "2021-12-07T19:19:10.908Z"
   },
   {
    "duration": 13,
    "start_time": "2021-12-07T19:21:29.159Z"
   },
   {
    "duration": 11,
    "start_time": "2021-12-07T19:22:55.767Z"
   },
   {
    "duration": 19,
    "start_time": "2021-12-07T19:26:06.824Z"
   },
   {
    "duration": 8,
    "start_time": "2021-12-07T19:27:48.754Z"
   },
   {
    "duration": 9,
    "start_time": "2021-12-07T19:28:03.268Z"
   },
   {
    "duration": 14,
    "start_time": "2021-12-07T19:28:53.367Z"
   },
   {
    "duration": 95,
    "start_time": "2021-12-07T19:32:00.112Z"
   },
   {
    "duration": 13,
    "start_time": "2021-12-07T19:32:23.177Z"
   },
   {
    "duration": 36,
    "start_time": "2021-12-07T19:33:00.163Z"
   },
   {
    "duration": 90,
    "start_time": "2021-12-07T19:33:38.040Z"
   },
   {
    "duration": 10,
    "start_time": "2021-12-07T19:33:45.337Z"
   },
   {
    "duration": 454,
    "start_time": "2021-12-07T19:38:06.476Z"
   },
   {
    "duration": 432,
    "start_time": "2021-12-07T19:38:29.546Z"
   },
   {
    "duration": 6760,
    "start_time": "2021-12-07T19:38:52.710Z"
   },
   {
    "duration": 88,
    "start_time": "2021-12-07T19:39:49.801Z"
   },
   {
    "duration": 21,
    "start_time": "2021-12-07T20:04:16.910Z"
   },
   {
    "duration": 339,
    "start_time": "2021-12-07T20:16:35.400Z"
   },
   {
    "duration": 86,
    "start_time": "2021-12-07T20:16:54.054Z"
   },
   {
    "duration": 83,
    "start_time": "2021-12-07T20:19:28.424Z"
   },
   {
    "duration": 39,
    "start_time": "2021-12-07T20:19:44.029Z"
   },
   {
    "duration": 45,
    "start_time": "2021-12-07T20:20:16.475Z"
   },
   {
    "duration": 65,
    "start_time": "2021-12-07T20:22:09.926Z"
   },
   {
    "duration": 47,
    "start_time": "2021-12-07T20:22:23.845Z"
   },
   {
    "duration": 37,
    "start_time": "2021-12-07T20:22:59.367Z"
   },
   {
    "duration": 38,
    "start_time": "2021-12-07T20:23:22.246Z"
   },
   {
    "duration": 30,
    "start_time": "2021-12-07T20:28:19.900Z"
   },
   {
    "duration": 16,
    "start_time": "2021-12-07T20:28:38.456Z"
   },
   {
    "duration": 22,
    "start_time": "2021-12-07T20:28:56.769Z"
   },
   {
    "duration": 23,
    "start_time": "2021-12-07T20:29:14.923Z"
   },
   {
    "duration": 20,
    "start_time": "2021-12-07T20:33:12.538Z"
   },
   {
    "duration": 35,
    "start_time": "2021-12-07T20:36:40.030Z"
   },
   {
    "duration": 42,
    "start_time": "2021-12-07T20:36:46.327Z"
   },
   {
    "duration": 63,
    "start_time": "2021-12-07T20:39:06.879Z"
   },
   {
    "duration": 75,
    "start_time": "2021-12-07T20:57:14.627Z"
   },
   {
    "duration": 25,
    "start_time": "2021-12-07T20:57:30.781Z"
   },
   {
    "duration": 16,
    "start_time": "2021-12-07T20:58:22.440Z"
   },
   {
    "duration": 30,
    "start_time": "2021-12-07T20:59:36.546Z"
   },
   {
    "duration": 289,
    "start_time": "2021-12-07T21:02:36.232Z"
   },
   {
    "duration": 295,
    "start_time": "2021-12-07T21:02:46.994Z"
   },
   {
    "duration": 30,
    "start_time": "2021-12-07T21:03:05.576Z"
   },
   {
    "duration": 44,
    "start_time": "2021-12-07T21:03:21.016Z"
   },
   {
    "duration": 31,
    "start_time": "2021-12-07T21:03:43.513Z"
   },
   {
    "duration": 23,
    "start_time": "2021-12-07T21:03:59.659Z"
   },
   {
    "duration": 52,
    "start_time": "2021-12-07T21:04:26.395Z"
   },
   {
    "duration": 34,
    "start_time": "2021-12-07T21:05:55.568Z"
   },
   {
    "duration": 45,
    "start_time": "2021-12-07T21:06:32.236Z"
   },
   {
    "duration": 32,
    "start_time": "2021-12-07T21:07:07.802Z"
   },
   {
    "duration": 27,
    "start_time": "2021-12-07T21:07:45.403Z"
   },
   {
    "duration": 90,
    "start_time": "2021-12-07T21:12:23.232Z"
   },
   {
    "duration": 30,
    "start_time": "2021-12-07T21:12:44.806Z"
   },
   {
    "duration": 34,
    "start_time": "2021-12-07T21:13:54.444Z"
   },
   {
    "duration": 48,
    "start_time": "2021-12-07T21:38:22.182Z"
   },
   {
    "duration": 31,
    "start_time": "2021-12-07T21:38:44.317Z"
   },
   {
    "duration": 380,
    "start_time": "2021-12-09T09:15:46.461Z"
   },
   {
    "duration": 302,
    "start_time": "2021-12-09T09:16:02.677Z"
   },
   {
    "duration": 372,
    "start_time": "2021-12-09T09:16:36.809Z"
   },
   {
    "duration": 315,
    "start_time": "2021-12-09T09:17:05.505Z"
   },
   {
    "duration": 281,
    "start_time": "2021-12-09T09:17:24.219Z"
   },
   {
    "duration": 896,
    "start_time": "2021-12-09T09:17:33.685Z"
   },
   {
    "duration": 36,
    "start_time": "2021-12-09T09:17:42.373Z"
   },
   {
    "duration": 18,
    "start_time": "2021-12-09T09:17:49.861Z"
   },
   {
    "duration": 373,
    "start_time": "2021-12-09T09:17:53.537Z"
   },
   {
    "duration": 38,
    "start_time": "2021-12-09T09:18:22.678Z"
   },
   {
    "duration": 28,
    "start_time": "2021-12-09T09:20:17.540Z"
   },
   {
    "duration": 334,
    "start_time": "2021-12-09T09:20:34.020Z"
   },
   {
    "duration": 31,
    "start_time": "2021-12-09T09:24:54.942Z"
   },
   {
    "duration": 317,
    "start_time": "2021-12-09T09:25:17.817Z"
   },
   {
    "duration": 299,
    "start_time": "2021-12-09T09:25:24.847Z"
   },
   {
    "duration": 324,
    "start_time": "2021-12-09T09:26:48.368Z"
   },
   {
    "duration": 319,
    "start_time": "2021-12-09T09:35:32.352Z"
   },
   {
    "duration": 428,
    "start_time": "2021-12-09T09:35:49.647Z"
   },
   {
    "duration": 493,
    "start_time": "2021-12-09T09:36:18.240Z"
   },
   {
    "duration": 335,
    "start_time": "2021-12-09T09:36:46.486Z"
   },
   {
    "duration": 456,
    "start_time": "2021-12-09T09:36:55.454Z"
   },
   {
    "duration": 287,
    "start_time": "2021-12-09T09:37:21.575Z"
   },
   {
    "duration": 24,
    "start_time": "2021-12-09T09:38:00.545Z"
   },
   {
    "duration": 330,
    "start_time": "2021-12-09T09:38:27.507Z"
   },
   {
    "duration": 323,
    "start_time": "2021-12-09T09:38:50.173Z"
   },
   {
    "duration": 20,
    "start_time": "2021-12-09T09:39:06.232Z"
   },
   {
    "duration": 27,
    "start_time": "2021-12-09T09:39:17.938Z"
   },
   {
    "duration": 25,
    "start_time": "2021-12-09T09:39:37.168Z"
   },
   {
    "duration": 19,
    "start_time": "2021-12-09T09:41:32.092Z"
   },
   {
    "duration": 9,
    "start_time": "2021-12-09T09:41:40.293Z"
   },
   {
    "duration": 20,
    "start_time": "2021-12-09T09:41:46.655Z"
   },
   {
    "duration": 17,
    "start_time": "2021-12-09T09:41:52.934Z"
   },
   {
    "duration": 37,
    "start_time": "2021-12-09T09:42:04.106Z"
   },
   {
    "duration": 33,
    "start_time": "2021-12-09T09:42:10.708Z"
   },
   {
    "duration": 25,
    "start_time": "2021-12-09T09:42:36.975Z"
   },
   {
    "duration": 33,
    "start_time": "2021-12-09T09:46:52.042Z"
   },
   {
    "duration": 2047,
    "start_time": "2021-12-09T09:48:55.803Z"
   },
   {
    "duration": 33,
    "start_time": "2021-12-09T09:49:06.473Z"
   },
   {
    "duration": 20,
    "start_time": "2021-12-09T09:52:37.210Z"
   },
   {
    "duration": 24,
    "start_time": "2021-12-09T09:58:57.406Z"
   },
   {
    "duration": 25,
    "start_time": "2021-12-09T10:20:43.160Z"
   },
   {
    "duration": 62,
    "start_time": "2021-12-09T10:36:11.667Z"
   },
   {
    "duration": 58,
    "start_time": "2021-12-09T10:37:35.021Z"
   },
   {
    "duration": 60,
    "start_time": "2021-12-09T10:37:42.134Z"
   },
   {
    "duration": 44,
    "start_time": "2021-12-09T10:53:31.592Z"
   },
   {
    "duration": 57,
    "start_time": "2021-12-09T10:56:41.288Z"
   },
   {
    "duration": 61,
    "start_time": "2021-12-09T10:56:58.185Z"
   },
   {
    "duration": 44,
    "start_time": "2021-12-09T10:57:55.224Z"
   },
   {
    "duration": 42,
    "start_time": "2021-12-09T10:57:58.995Z"
   },
   {
    "duration": 59,
    "start_time": "2021-12-09T10:59:11.361Z"
   },
   {
    "duration": 83,
    "start_time": "2021-12-09T11:10:08.339Z"
   },
   {
    "duration": 64,
    "start_time": "2021-12-09T11:10:16.133Z"
   },
   {
    "duration": 68,
    "start_time": "2021-12-09T11:10:26.415Z"
   },
   {
    "duration": 121,
    "start_time": "2021-12-09T11:13:35.941Z"
   },
   {
    "duration": 75,
    "start_time": "2021-12-09T11:14:25.680Z"
   },
   {
    "duration": 614,
    "start_time": "2021-12-09T11:17:54.355Z"
   },
   {
    "duration": 620,
    "start_time": "2021-12-09T11:18:10.917Z"
   },
   {
    "duration": 73,
    "start_time": "2021-12-09T11:18:54.744Z"
   },
   {
    "duration": 117,
    "start_time": "2021-12-09T11:19:07.042Z"
   },
   {
    "duration": 76,
    "start_time": "2021-12-09T11:19:10.008Z"
   },
   {
    "duration": 100,
    "start_time": "2021-12-09T11:21:18.493Z"
   },
   {
    "duration": 72,
    "start_time": "2021-12-09T11:24:08.688Z"
   },
   {
    "duration": 319,
    "start_time": "2021-12-09T11:58:08.219Z"
   },
   {
    "duration": 283,
    "start_time": "2021-12-09T11:59:39.210Z"
   },
   {
    "duration": 378,
    "start_time": "2021-12-09T11:59:54.766Z"
   },
   {
    "duration": 953,
    "start_time": "2021-12-09T12:00:53.604Z"
   },
   {
    "duration": 931,
    "start_time": "2021-12-09T12:01:08.770Z"
   },
   {
    "duration": 333,
    "start_time": "2021-12-09T12:01:32.591Z"
   },
   {
    "duration": 222,
    "start_time": "2021-12-09T19:44:12.136Z"
   },
   {
    "duration": 160,
    "start_time": "2021-12-09T19:44:57.075Z"
   },
   {
    "duration": 188,
    "start_time": "2021-12-09T19:47:36.769Z"
   },
   {
    "duration": 1766,
    "start_time": "2021-12-09T19:48:16.381Z"
   },
   {
    "duration": 630,
    "start_time": "2021-12-09T19:48:27.200Z"
   },
   {
    "duration": 25,
    "start_time": "2021-12-09T19:48:27.832Z"
   },
   {
    "duration": 14,
    "start_time": "2021-12-09T19:48:27.859Z"
   },
   {
    "duration": 53,
    "start_time": "2021-12-09T19:48:27.875Z"
   },
   {
    "duration": 243,
    "start_time": "2021-12-09T19:48:27.930Z"
   },
   {
    "duration": 75,
    "start_time": "2021-12-09T19:49:56.623Z"
   },
   {
    "duration": 56,
    "start_time": "2021-12-09T19:52:56.855Z"
   },
   {
    "duration": 60,
    "start_time": "2021-12-09T19:53:39.671Z"
   },
   {
    "duration": 190,
    "start_time": "2021-12-09T19:54:44.749Z"
   },
   {
    "duration": 515,
    "start_time": "2021-12-09T19:55:25.412Z"
   },
   {
    "duration": 181,
    "start_time": "2021-12-09T19:55:31.707Z"
   },
   {
    "duration": 185,
    "start_time": "2021-12-09T19:56:30.146Z"
   },
   {
    "duration": 172,
    "start_time": "2021-12-09T19:56:42.689Z"
   },
   {
    "duration": 183,
    "start_time": "2021-12-09T19:58:21.358Z"
   },
   {
    "duration": 171,
    "start_time": "2021-12-09T20:04:46.471Z"
   },
   {
    "duration": 655,
    "start_time": "2021-12-09T20:06:31.312Z"
   },
   {
    "duration": 59,
    "start_time": "2021-12-09T20:31:46.807Z"
   },
   {
    "duration": 58,
    "start_time": "2021-12-09T20:31:58.887Z"
   },
   {
    "duration": 62,
    "start_time": "2021-12-09T20:32:45.677Z"
   },
   {
    "duration": 1036,
    "start_time": "2021-12-09T20:32:51.908Z"
   },
   {
    "duration": 1139,
    "start_time": "2021-12-09T20:33:26.442Z"
   },
   {
    "duration": 905,
    "start_time": "2021-12-09T20:34:29.451Z"
   },
   {
    "duration": 916,
    "start_time": "2021-12-09T20:34:59.423Z"
   },
   {
    "duration": 908,
    "start_time": "2021-12-09T20:36:32.044Z"
   },
   {
    "duration": 888,
    "start_time": "2021-12-09T20:38:35.915Z"
   },
   {
    "duration": 894,
    "start_time": "2021-12-09T20:39:25.111Z"
   },
   {
    "duration": 891,
    "start_time": "2021-12-09T20:40:22.841Z"
   },
   {
    "duration": 893,
    "start_time": "2021-12-09T20:40:48.098Z"
   },
   {
    "duration": 53490,
    "start_time": "2021-12-09T20:41:52.998Z"
   },
   {
    "duration": 54130,
    "start_time": "2021-12-09T20:47:43.140Z"
   },
   {
    "duration": 4312,
    "start_time": "2021-12-09T20:49:17.186Z"
   },
   {
    "duration": 368,
    "start_time": "2021-12-10T09:14:46.636Z"
   },
   {
    "duration": 435,
    "start_time": "2021-12-10T09:15:23.990Z"
   },
   {
    "duration": 346,
    "start_time": "2021-12-10T09:15:37.287Z"
   },
   {
    "duration": 106,
    "start_time": "2021-12-10T09:16:18.722Z"
   },
   {
    "duration": 110,
    "start_time": "2021-12-10T09:16:59.020Z"
   },
   {
    "duration": 338,
    "start_time": "2021-12-10T09:17:08.838Z"
   },
   {
    "duration": 399,
    "start_time": "2021-12-10T09:18:12.397Z"
   },
   {
    "duration": 910,
    "start_time": "2021-12-10T09:18:12.860Z"
   },
   {
    "duration": 52,
    "start_time": "2021-12-10T09:18:13.772Z"
   },
   {
    "duration": 22,
    "start_time": "2021-12-10T09:18:13.827Z"
   },
   {
    "duration": 83,
    "start_time": "2021-12-10T09:18:13.852Z"
   },
   {
    "duration": 5327,
    "start_time": "2021-12-10T09:18:13.937Z"
   },
   {
    "duration": 12,
    "start_time": "2021-12-10T09:18:19.266Z"
   },
   {
    "duration": 18,
    "start_time": "2021-12-10T09:23:22.677Z"
   },
   {
    "duration": 435,
    "start_time": "2021-12-10T09:24:08.225Z"
   },
   {
    "duration": 1347,
    "start_time": "2021-12-10T09:24:14.861Z"
   },
   {
    "duration": 348,
    "start_time": "2021-12-10T09:24:59.749Z"
   },
   {
    "duration": 10,
    "start_time": "2021-12-10T09:26:13.589Z"
   },
   {
    "duration": 1487,
    "start_time": "2021-12-10T09:28:23.868Z"
   },
   {
    "duration": 391,
    "start_time": "2021-12-10T09:28:31.012Z"
   },
   {
    "duration": 14,
    "start_time": "2021-12-10T09:46:50.352Z"
   },
   {
    "duration": 12,
    "start_time": "2021-12-10T09:47:12.768Z"
   },
   {
    "duration": 11,
    "start_time": "2021-12-10T09:47:20.080Z"
   },
   {
    "duration": 334,
    "start_time": "2021-12-10T09:47:42.163Z"
   },
   {
    "duration": 334,
    "start_time": "2021-12-10T09:47:50.010Z"
   },
   {
    "duration": 11,
    "start_time": "2021-12-10T09:48:08.044Z"
   },
   {
    "duration": 418,
    "start_time": "2021-12-11T16:45:07.197Z"
   },
   {
    "duration": 833,
    "start_time": "2021-12-11T16:45:25.241Z"
   },
   {
    "duration": 52,
    "start_time": "2021-12-11T16:45:26.076Z"
   },
   {
    "duration": 27,
    "start_time": "2021-12-11T16:45:26.131Z"
   },
   {
    "duration": 72,
    "start_time": "2021-12-11T16:45:26.160Z"
   },
   {
    "duration": 5599,
    "start_time": "2021-12-11T16:45:26.235Z"
   },
   {
    "duration": 9,
    "start_time": "2021-12-11T16:45:31.837Z"
   },
   {
    "duration": 412,
    "start_time": "2021-12-11T16:46:07.697Z"
   },
   {
    "duration": 7,
    "start_time": "2021-12-11T16:46:15.483Z"
   },
   {
    "duration": 8,
    "start_time": "2021-12-11T16:46:23.643Z"
   },
   {
    "duration": 7,
    "start_time": "2021-12-11T16:46:54.663Z"
   },
   {
    "duration": 10,
    "start_time": "2021-12-11T16:47:46.579Z"
   },
   {
    "duration": 299,
    "start_time": "2021-12-11T16:48:16.293Z"
   },
   {
    "duration": 14,
    "start_time": "2021-12-11T16:48:42.987Z"
   },
   {
    "duration": 14,
    "start_time": "2021-12-11T16:49:22.535Z"
   },
   {
    "duration": 19,
    "start_time": "2021-12-11T16:50:14.089Z"
   },
   {
    "duration": 18,
    "start_time": "2021-12-11T16:51:03.019Z"
   },
   {
    "duration": 19,
    "start_time": "2021-12-11T16:51:54.155Z"
   },
   {
    "duration": 19,
    "start_time": "2021-12-11T16:51:59.711Z"
   },
   {
    "duration": 17,
    "start_time": "2021-12-11T16:52:11.500Z"
   },
   {
    "duration": 300,
    "start_time": "2021-12-11T16:52:33.859Z"
   },
   {
    "duration": 293,
    "start_time": "2021-12-11T16:52:58.706Z"
   },
   {
    "duration": 318,
    "start_time": "2021-12-11T16:53:01.296Z"
   },
   {
    "duration": 509,
    "start_time": "2021-12-11T16:53:23.943Z"
   },
   {
    "duration": 494,
    "start_time": "2021-12-11T16:53:44.357Z"
   },
   {
    "duration": 344,
    "start_time": "2021-12-11T16:53:53.541Z"
   },
   {
    "duration": 309,
    "start_time": "2021-12-11T16:53:59.837Z"
   },
   {
    "duration": 315,
    "start_time": "2021-12-11T16:54:12.329Z"
   },
   {
    "duration": 16,
    "start_time": "2021-12-11T16:54:17.509Z"
   },
   {
    "duration": 20,
    "start_time": "2021-12-11T16:56:09.660Z"
   },
   {
    "duration": 26,
    "start_time": "2021-12-11T16:56:22.944Z"
   },
   {
    "duration": 28,
    "start_time": "2021-12-11T16:59:50.096Z"
   },
   {
    "duration": 28,
    "start_time": "2021-12-11T17:00:45.052Z"
   },
   {
    "duration": 26,
    "start_time": "2021-12-11T17:00:56.796Z"
   },
   {
    "duration": 25,
    "start_time": "2021-12-11T17:01:48.181Z"
   },
   {
    "duration": 6,
    "start_time": "2021-12-11T17:10:56.179Z"
   },
   {
    "duration": 6,
    "start_time": "2021-12-11T17:10:59.789Z"
   },
   {
    "duration": 13,
    "start_time": "2021-12-11T17:11:29.214Z"
   },
   {
    "duration": 11,
    "start_time": "2021-12-11T17:11:33.665Z"
   },
   {
    "duration": 14,
    "start_time": "2021-12-11T17:11:37.374Z"
   },
   {
    "duration": 16,
    "start_time": "2021-12-11T17:11:44.390Z"
   },
   {
    "duration": 16,
    "start_time": "2021-12-11T17:12:20.983Z"
   },
   {
    "duration": 16,
    "start_time": "2021-12-11T17:14:07.707Z"
   },
   {
    "duration": 18,
    "start_time": "2021-12-11T17:15:24.385Z"
   },
   {
    "duration": 93,
    "start_time": "2021-12-11T17:16:41.518Z"
   },
   {
    "duration": 96,
    "start_time": "2021-12-11T17:17:20.734Z"
   },
   {
    "duration": 580,
    "start_time": "2021-12-11T17:18:04.302Z"
   },
   {
    "duration": 13,
    "start_time": "2021-12-11T17:18:19.438Z"
   },
   {
    "duration": 13,
    "start_time": "2021-12-11T17:18:29.972Z"
   },
   {
    "duration": 103,
    "start_time": "2021-12-11T17:18:40.346Z"
   },
   {
    "duration": 16,
    "start_time": "2021-12-11T17:18:43.184Z"
   },
   {
    "duration": 13,
    "start_time": "2021-12-11T17:19:00.118Z"
   },
   {
    "duration": 16,
    "start_time": "2021-12-11T17:19:40.994Z"
   },
   {
    "duration": 372,
    "start_time": "2021-12-11T17:28:54.767Z"
   },
   {
    "duration": 297,
    "start_time": "2021-12-11T17:29:13.173Z"
   },
   {
    "duration": 13,
    "start_time": "2021-12-11T17:29:39.014Z"
   },
   {
    "duration": 360,
    "start_time": "2021-12-11T17:43:34.456Z"
   },
   {
    "duration": 43,
    "start_time": "2021-12-11T17:43:41.052Z"
   },
   {
    "duration": 53,
    "start_time": "2021-12-11T17:44:59.393Z"
   },
   {
    "duration": 43,
    "start_time": "2021-12-11T17:53:29.952Z"
   },
   {
    "duration": 44,
    "start_time": "2021-12-11T18:01:06.526Z"
   },
   {
    "duration": 49,
    "start_time": "2021-12-11T22:17:00.109Z"
   },
   {
    "duration": 67,
    "start_time": "2021-12-11T22:18:18.617Z"
   },
   {
    "duration": 345,
    "start_time": "2021-12-12T09:20:34.569Z"
   },
   {
    "duration": 336,
    "start_time": "2021-12-12T09:21:08.542Z"
   },
   {
    "duration": 879,
    "start_time": "2021-12-12T09:21:16.345Z"
   },
   {
    "duration": 50,
    "start_time": "2021-12-12T09:21:17.227Z"
   },
   {
    "duration": 28,
    "start_time": "2021-12-12T09:21:17.285Z"
   },
   {
    "duration": 90,
    "start_time": "2021-12-12T09:21:17.315Z"
   },
   {
    "duration": 6249,
    "start_time": "2021-12-12T09:21:17.408Z"
   },
   {
    "duration": 19,
    "start_time": "2021-12-12T09:21:23.667Z"
   },
   {
    "duration": 16,
    "start_time": "2021-12-12T09:21:23.692Z"
   },
   {
    "duration": 56,
    "start_time": "2021-12-12T09:21:23.711Z"
   },
   {
    "duration": 15,
    "start_time": "2021-12-12T09:21:23.769Z"
   },
   {
    "duration": 16,
    "start_time": "2021-12-12T09:21:23.786Z"
   },
   {
    "duration": 78,
    "start_time": "2021-12-12T09:21:23.804Z"
   },
   {
    "duration": 49,
    "start_time": "2021-12-12T09:21:23.884Z"
   },
   {
    "duration": 70,
    "start_time": "2021-12-12T09:21:23.936Z"
   },
   {
    "duration": 46,
    "start_time": "2021-12-12T09:34:07.077Z"
   },
   {
    "duration": 92,
    "start_time": "2021-12-13T09:51:52.652Z"
   },
   {
    "duration": 603,
    "start_time": "2021-12-13T10:19:47.559Z"
   },
   {
    "duration": 68,
    "start_time": "2021-12-13T10:20:23.380Z"
   },
   {
    "duration": 69,
    "start_time": "2021-12-13T10:22:42.063Z"
   },
   {
    "duration": 73,
    "start_time": "2021-12-13T10:23:06.225Z"
   },
   {
    "duration": 69,
    "start_time": "2021-12-13T10:24:10.909Z"
   },
   {
    "duration": 73,
    "start_time": "2021-12-13T10:25:20.847Z"
   },
   {
    "duration": 73,
    "start_time": "2021-12-13T10:29:11.740Z"
   },
   {
    "duration": 82,
    "start_time": "2021-12-13T10:29:37.086Z"
   },
   {
    "duration": 78,
    "start_time": "2021-12-13T10:31:11.085Z"
   },
   {
    "duration": 82,
    "start_time": "2021-12-13T10:31:32.613Z"
   },
   {
    "duration": 83,
    "start_time": "2021-12-13T10:31:44.249Z"
   },
   {
    "duration": 155,
    "start_time": "2021-12-13T10:32:08.987Z"
   },
   {
    "duration": 80,
    "start_time": "2021-12-13T10:32:25.941Z"
   },
   {
    "duration": 87,
    "start_time": "2021-12-13T10:38:46.798Z"
   },
   {
    "duration": 82,
    "start_time": "2021-12-13T10:51:45.503Z"
   },
   {
    "duration": 33,
    "start_time": "2021-12-13T10:52:56.814Z"
   },
   {
    "duration": 87,
    "start_time": "2021-12-13T10:53:20.173Z"
   },
   {
    "duration": 84,
    "start_time": "2021-12-13T10:55:04.204Z"
   },
   {
    "duration": 8,
    "start_time": "2021-12-13T10:58:20.442Z"
   },
   {
    "duration": 5,
    "start_time": "2021-12-13T11:09:06.959Z"
   },
   {
    "duration": 352,
    "start_time": "2021-12-13T11:25:19.590Z"
   },
   {
    "duration": 304,
    "start_time": "2021-12-13T11:25:55.382Z"
   },
   {
    "duration": 346,
    "start_time": "2021-12-13T11:26:07.581Z"
   },
   {
    "duration": 351,
    "start_time": "2021-12-13T11:26:38.434Z"
   },
   {
    "duration": 252,
    "start_time": "2021-12-13T11:26:54.592Z"
   },
   {
    "duration": 199,
    "start_time": "2021-12-13T11:27:08.052Z"
   },
   {
    "duration": 23,
    "start_time": "2021-12-13T11:27:17.135Z"
   },
   {
    "duration": 31,
    "start_time": "2021-12-13T11:27:24.858Z"
   },
   {
    "duration": 37,
    "start_time": "2021-12-13T11:28:15.299Z"
   },
   {
    "duration": 39,
    "start_time": "2021-12-13T11:32:14.271Z"
   },
   {
    "duration": 19,
    "start_time": "2021-12-13T11:33:05.299Z"
   },
   {
    "duration": 15,
    "start_time": "2021-12-13T11:47:43.557Z"
   },
   {
    "duration": 15,
    "start_time": "2021-12-13T11:47:48.217Z"
   },
   {
    "duration": 6,
    "start_time": "2021-12-13T11:47:54.559Z"
   },
   {
    "duration": 5,
    "start_time": "2021-12-13T12:35:55.633Z"
   },
   {
    "duration": 4,
    "start_time": "2021-12-13T12:36:26.761Z"
   },
   {
    "duration": 8,
    "start_time": "2021-12-13T12:37:20.518Z"
   },
   {
    "duration": 7,
    "start_time": "2021-12-13T12:38:02.460Z"
   },
   {
    "duration": 36,
    "start_time": "2021-12-13T12:38:33.653Z"
   },
   {
    "duration": 201,
    "start_time": "2021-12-13T12:39:29.925Z"
   },
   {
    "duration": 194,
    "start_time": "2021-12-13T12:39:35.800Z"
   },
   {
    "duration": 64,
    "start_time": "2021-12-13T12:39:45.787Z"
   },
   {
    "duration": 32,
    "start_time": "2021-12-13T12:39:53.934Z"
   },
   {
    "duration": 29,
    "start_time": "2021-12-13T12:41:53.834Z"
   },
   {
    "duration": 30,
    "start_time": "2021-12-13T12:43:08.791Z"
   },
   {
    "duration": 745,
    "start_time": "2022-06-19T20:49:19.386Z"
   },
   {
    "duration": 30,
    "start_time": "2022-06-19T20:49:20.133Z"
   },
   {
    "duration": 31,
    "start_time": "2022-06-19T20:49:20.165Z"
   },
   {
    "duration": 22,
    "start_time": "2022-06-19T20:49:20.198Z"
   },
   {
    "duration": 6,
    "start_time": "2022-06-19T20:49:20.223Z"
   },
   {
    "duration": 23,
    "start_time": "2022-06-19T20:49:20.230Z"
   },
   {
    "duration": 6,
    "start_time": "2022-06-19T20:49:20.255Z"
   },
   {
    "duration": 6,
    "start_time": "2022-06-19T20:49:20.293Z"
   },
   {
    "duration": 12,
    "start_time": "2022-06-19T20:49:20.301Z"
   },
   {
    "duration": 9,
    "start_time": "2022-06-19T20:49:20.314Z"
   },
   {
    "duration": 36,
    "start_time": "2022-06-19T20:49:20.324Z"
   },
   {
    "duration": 4161,
    "start_time": "2022-06-19T20:49:20.362Z"
   },
   {
    "duration": 12,
    "start_time": "2022-06-19T20:49:24.524Z"
   },
   {
    "duration": 10,
    "start_time": "2022-06-19T20:49:24.538Z"
   },
   {
    "duration": 11,
    "start_time": "2022-06-19T20:49:24.549Z"
   },
   {
    "duration": 40,
    "start_time": "2022-06-19T20:49:24.561Z"
   },
   {
    "duration": 11,
    "start_time": "2022-06-19T20:49:24.603Z"
   },
   {
    "duration": 28,
    "start_time": "2022-06-19T20:49:24.616Z"
   },
   {
    "duration": 139,
    "start_time": "2022-06-19T20:49:24.646Z"
   },
   {
    "duration": 0,
    "start_time": "2022-06-19T20:49:24.788Z"
   },
   {
    "duration": 0,
    "start_time": "2022-06-19T20:49:24.793Z"
   },
   {
    "duration": 54,
    "start_time": "2022-06-19T20:50:09.049Z"
   },
   {
    "duration": 496,
    "start_time": "2022-06-19T20:50:47.954Z"
   },
   {
    "duration": 50,
    "start_time": "2022-06-19T20:50:48.452Z"
   },
   {
    "duration": 14,
    "start_time": "2022-06-19T20:50:48.504Z"
   },
   {
    "duration": 22,
    "start_time": "2022-06-19T20:50:48.520Z"
   },
   {
    "duration": 6,
    "start_time": "2022-06-19T20:50:48.544Z"
   },
   {
    "duration": 48,
    "start_time": "2022-06-19T20:50:48.551Z"
   },
   {
    "duration": 5,
    "start_time": "2022-06-19T20:50:48.601Z"
   },
   {
    "duration": 7,
    "start_time": "2022-06-19T20:50:48.607Z"
   },
   {
    "duration": 7,
    "start_time": "2022-06-19T20:50:48.616Z"
   },
   {
    "duration": 4,
    "start_time": "2022-06-19T20:50:48.626Z"
   },
   {
    "duration": 63,
    "start_time": "2022-06-19T20:50:48.632Z"
   },
   {
    "duration": 4042,
    "start_time": "2022-06-19T20:50:48.696Z"
   },
   {
    "duration": 11,
    "start_time": "2022-06-19T20:50:52.740Z"
   },
   {
    "duration": 9,
    "start_time": "2022-06-19T20:50:52.753Z"
   },
   {
    "duration": 35,
    "start_time": "2022-06-19T20:50:52.764Z"
   },
   {
    "duration": 9,
    "start_time": "2022-06-19T20:50:52.800Z"
   },
   {
    "duration": 11,
    "start_time": "2022-06-19T20:50:52.811Z"
   },
   {
    "duration": 26,
    "start_time": "2022-06-19T20:50:52.823Z"
   },
   {
    "duration": 127,
    "start_time": "2022-06-19T20:50:52.851Z"
   },
   {
    "duration": 0,
    "start_time": "2022-06-19T20:50:52.980Z"
   },
   {
    "duration": 0,
    "start_time": "2022-06-19T20:50:52.982Z"
   },
   {
    "duration": 554,
    "start_time": "2022-06-19T20:52:09.763Z"
   },
   {
    "duration": 30,
    "start_time": "2022-06-19T20:52:10.319Z"
   },
   {
    "duration": 14,
    "start_time": "2022-06-19T20:52:10.351Z"
   },
   {
    "duration": 42,
    "start_time": "2022-06-19T20:52:10.368Z"
   },
   {
    "duration": 6,
    "start_time": "2022-06-19T20:52:10.411Z"
   },
   {
    "duration": 20,
    "start_time": "2022-06-19T20:52:10.419Z"
   },
   {
    "duration": 5,
    "start_time": "2022-06-19T20:52:10.441Z"
   },
   {
    "duration": 7,
    "start_time": "2022-06-19T20:52:10.447Z"
   },
   {
    "duration": 40,
    "start_time": "2022-06-19T20:52:10.455Z"
   },
   {
    "duration": 6,
    "start_time": "2022-06-19T20:52:10.498Z"
   },
   {
    "duration": 44,
    "start_time": "2022-06-19T20:52:10.505Z"
   },
   {
    "duration": 4206,
    "start_time": "2022-06-19T20:52:10.550Z"
   },
   {
    "duration": 12,
    "start_time": "2022-06-19T20:52:14.758Z"
   },
   {
    "duration": 24,
    "start_time": "2022-06-19T20:52:14.772Z"
   },
   {
    "duration": 11,
    "start_time": "2022-06-19T20:52:14.798Z"
   },
   {
    "duration": 9,
    "start_time": "2022-06-19T20:52:14.810Z"
   },
   {
    "duration": 13,
    "start_time": "2022-06-19T20:52:14.820Z"
   },
   {
    "duration": 26,
    "start_time": "2022-06-19T20:52:14.835Z"
   },
   {
    "duration": 107,
    "start_time": "2022-06-19T20:52:14.894Z"
   },
   {
    "duration": 0,
    "start_time": "2022-06-19T20:52:15.003Z"
   },
   {
    "duration": 0,
    "start_time": "2022-06-19T20:52:15.004Z"
   },
   {
    "duration": 330,
    "start_time": "2022-06-19T20:55:45.410Z"
   },
   {
    "duration": 28,
    "start_time": "2022-06-19T21:03:52.259Z"
   },
   {
    "duration": 319,
    "start_time": "2022-06-19T21:03:55.829Z"
   },
   {
    "duration": 315,
    "start_time": "2022-06-19T21:06:47.190Z"
   },
   {
    "duration": 339,
    "start_time": "2022-06-19T21:06:51.361Z"
   },
   {
    "duration": 32,
    "start_time": "2022-06-19T21:08:29.779Z"
   },
   {
    "duration": 543,
    "start_time": "2022-06-19T21:09:04.779Z"
   },
   {
    "duration": 26,
    "start_time": "2022-06-19T21:09:05.326Z"
   },
   {
    "duration": 14,
    "start_time": "2022-06-19T21:09:05.355Z"
   },
   {
    "duration": 47,
    "start_time": "2022-06-19T21:09:05.370Z"
   },
   {
    "duration": 10,
    "start_time": "2022-06-19T21:09:05.419Z"
   },
   {
    "duration": 27,
    "start_time": "2022-06-19T21:09:05.431Z"
   },
   {
    "duration": 17,
    "start_time": "2022-06-19T21:09:05.460Z"
   },
   {
    "duration": 28,
    "start_time": "2022-06-19T21:09:05.478Z"
   },
   {
    "duration": 18,
    "start_time": "2022-06-19T21:09:05.510Z"
   },
   {
    "duration": 21,
    "start_time": "2022-06-19T21:09:05.530Z"
   },
   {
    "duration": 60,
    "start_time": "2022-06-19T21:09:05.554Z"
   },
   {
    "duration": 4419,
    "start_time": "2022-06-19T21:09:05.616Z"
   },
   {
    "duration": 16,
    "start_time": "2022-06-19T21:09:10.038Z"
   },
   {
    "duration": 13,
    "start_time": "2022-06-19T21:09:10.056Z"
   },
   {
    "duration": 36,
    "start_time": "2022-06-19T21:09:10.071Z"
   },
   {
    "duration": 9,
    "start_time": "2022-06-19T21:09:10.109Z"
   },
   {
    "duration": 11,
    "start_time": "2022-06-19T21:09:10.120Z"
   },
   {
    "duration": 32,
    "start_time": "2022-06-19T21:09:10.132Z"
   },
   {
    "duration": 71,
    "start_time": "2022-06-19T21:09:10.166Z"
   },
   {
    "duration": 115,
    "start_time": "2022-06-19T21:09:10.239Z"
   },
   {
    "duration": 0,
    "start_time": "2022-06-19T21:09:10.356Z"
   },
   {
    "duration": 30,
    "start_time": "2022-06-19T21:11:17.106Z"
   }
  ],
  "kernelspec": {
   "display_name": "Python 3 (ipykernel)",
   "language": "python",
   "name": "python3"
  },
  "language_info": {
   "codemirror_mode": {
    "name": "ipython",
    "version": 3
   },
   "file_extension": ".py",
   "mimetype": "text/x-python",
   "name": "python",
   "nbconvert_exporter": "python",
   "pygments_lexer": "ipython3",
   "version": "3.9.5"
  },
  "toc": {
   "base_numbering": 1,
   "nav_menu": {},
   "number_sections": true,
   "sideBar": true,
   "skip_h1_title": true,
   "title_cell": "Table of Contents",
   "title_sidebar": "Contents",
   "toc_cell": false,
   "toc_position": {},
   "toc_section_display": true,
   "toc_window_display": false
  }
 },
 "nbformat": 4,
 "nbformat_minor": 2
}

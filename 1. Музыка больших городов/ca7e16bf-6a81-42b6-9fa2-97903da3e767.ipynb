{
 "cells": [
  {
   "cell_type": "markdown",
   "metadata": {
    "id": "E0vqbgi9ay0H"
   },
   "source": [
    "# Яндекс.Музыка"
   ]
  },
  {
   "cell_type": "markdown",
   "metadata": {
    "id": "VUC88oWjTJw2"
   },
   "source": [
    "Сравнение Москвы и Петербурга окружено мифами. Например:\n",
    " * Москва — мегаполис, подчинённый жёсткому ритму рабочей недели;\n",
    " * Петербург — культурная столица, со своими вкусами.\n",
    "\n",
    "На данных Яндекс.Музыки вы сравните поведение пользователей двух столиц.\n",
    "\n",
    "**Цель исследования** — проверьте три гипотезы:\n",
    "1. Активность пользователей зависит от дня недели. Причём в Москве и Петербурге это проявляется по-разному.\n",
    "2. В понедельник утром в Москве преобладают одни жанры, а в Петербурге — другие. Так же и вечером пятницы преобладают разные жанры — в зависимости от города. \n",
    "3. Москва и Петербург предпочитают разные жанры музыки. В Москве чаще слушают поп-музыку, в Петербурге — русский рэп.\n",
    "\n",
    "**Ход исследования**\n",
    "\n",
    "Данные о поведении пользователей вы получите из файла `yandex_music_project.csv`. О качестве данных ничего не известно. Поэтому перед проверкой гипотез понадобится обзор данных. \n",
    "\n",
    "Вы проверите данные на ошибки и оцените их влияние на исследование. Затем, на этапе предобработки вы поищете возможность исправить самые критичные ошибки данных.\n",
    " \n",
    "Таким образом, исследование пройдёт в три этапа:\n",
    " 1. Обзор данных.\n",
    " 2. Предобработка данных.\n",
    " 3. Проверка гипотез.\n",
    "\n"
   ]
  },
  {
   "cell_type": "markdown",
   "metadata": {
    "id": "Ml1hmfXC_Zcs"
   },
   "source": [
    "## Обзор данных\n",
    "\n",
    "Составьте первое представление о данных Яндекс.Музыки.\n",
    "\n",
    "\n"
   ]
  },
  {
   "cell_type": "markdown",
   "metadata": {
    "id": "57eAOGIz_Zcs"
   },
   "source": [
    "Основной инструмент аналитика — `pandas`. Импортируйте эту библиотеку."
   ]
  },
  {
   "cell_type": "code",
   "execution_count": 1,
   "metadata": {
    "id": "AXN7PHPN_Zcs"
   },
   "outputs": [],
   "source": [
    "import pandas # импорт библиотеки pandas"
   ]
  },
  {
   "cell_type": "markdown",
   "metadata": {
    "id": "SG23P8tt_Zcs"
   },
   "source": [
    "Прочитайте файл `yandex_music_project.csv` из папки `/datasets` и сохраните его в переменной `df`:"
   ]
  },
  {
   "cell_type": "code",
   "execution_count": 2,
   "metadata": {
    "id": "fFVu7vqh_Zct"
   },
   "outputs": [
    {
     "data": {
      "text/html": [
       "<div>\n",
       "<style scoped>\n",
       "    .dataframe tbody tr th:only-of-type {\n",
       "        vertical-align: middle;\n",
       "    }\n",
       "\n",
       "    .dataframe tbody tr th {\n",
       "        vertical-align: top;\n",
       "    }\n",
       "\n",
       "    .dataframe thead th {\n",
       "        text-align: right;\n",
       "    }\n",
       "</style>\n",
       "<table border=\"1\" class=\"dataframe\">\n",
       "  <thead>\n",
       "    <tr style=\"text-align: right;\">\n",
       "      <th></th>\n",
       "      <th>userID</th>\n",
       "      <th>Track</th>\n",
       "      <th>artist</th>\n",
       "      <th>genre</th>\n",
       "      <th>City</th>\n",
       "      <th>time</th>\n",
       "      <th>Day</th>\n",
       "    </tr>\n",
       "  </thead>\n",
       "  <tbody>\n",
       "    <tr>\n",
       "      <th>0</th>\n",
       "      <td>FFB692EC</td>\n",
       "      <td>Kamigata To Boots</td>\n",
       "      <td>The Mass Missile</td>\n",
       "      <td>rock</td>\n",
       "      <td>Saint-Petersburg</td>\n",
       "      <td>20:28:33</td>\n",
       "      <td>Wednesday</td>\n",
       "    </tr>\n",
       "    <tr>\n",
       "      <th>1</th>\n",
       "      <td>55204538</td>\n",
       "      <td>Delayed Because of Accident</td>\n",
       "      <td>Andreas Rönnberg</td>\n",
       "      <td>rock</td>\n",
       "      <td>Moscow</td>\n",
       "      <td>14:07:09</td>\n",
       "      <td>Friday</td>\n",
       "    </tr>\n",
       "    <tr>\n",
       "      <th>2</th>\n",
       "      <td>20EC38</td>\n",
       "      <td>Funiculì funiculà</td>\n",
       "      <td>Mario Lanza</td>\n",
       "      <td>pop</td>\n",
       "      <td>Saint-Petersburg</td>\n",
       "      <td>20:58:07</td>\n",
       "      <td>Wednesday</td>\n",
       "    </tr>\n",
       "    <tr>\n",
       "      <th>3</th>\n",
       "      <td>A3DD03C9</td>\n",
       "      <td>Dragons in the Sunset</td>\n",
       "      <td>Fire + Ice</td>\n",
       "      <td>folk</td>\n",
       "      <td>Saint-Petersburg</td>\n",
       "      <td>08:37:09</td>\n",
       "      <td>Monday</td>\n",
       "    </tr>\n",
       "    <tr>\n",
       "      <th>4</th>\n",
       "      <td>E2DC1FAE</td>\n",
       "      <td>Soul People</td>\n",
       "      <td>Space Echo</td>\n",
       "      <td>dance</td>\n",
       "      <td>Moscow</td>\n",
       "      <td>08:34:34</td>\n",
       "      <td>Monday</td>\n",
       "    </tr>\n",
       "  </tbody>\n",
       "</table>\n",
       "</div>"
      ],
      "text/plain": [
       "     userID                        Track            artist  genre  \\\n",
       "0  FFB692EC            Kamigata To Boots  The Mass Missile   rock   \n",
       "1  55204538  Delayed Because of Accident  Andreas Rönnberg   rock   \n",
       "2    20EC38            Funiculì funiculà       Mario Lanza    pop   \n",
       "3  A3DD03C9        Dragons in the Sunset        Fire + Ice   folk   \n",
       "4  E2DC1FAE                  Soul People        Space Echo  dance   \n",
       "\n",
       "             City        time        Day  \n",
       "0  Saint-Petersburg  20:28:33  Wednesday  \n",
       "1            Moscow  14:07:09     Friday  \n",
       "2  Saint-Petersburg  20:58:07  Wednesday  \n",
       "3  Saint-Petersburg  08:37:09     Monday  \n",
       "4            Moscow  08:34:34     Monday  "
      ]
     },
     "execution_count": 2,
     "metadata": {},
     "output_type": "execute_result"
    }
   ],
   "source": [
    "df = pandas.read_csv('/datasets/yandex_music_project.csv')\n",
    "df.head()"
   ]
  },
  {
   "cell_type": "markdown",
   "metadata": {
    "id": "rDoOMd3uTqnZ"
   },
   "source": [
    "Выведите на экран первые десять строк таблицы:"
   ]
  },
  {
   "cell_type": "code",
   "execution_count": 4,
   "metadata": {
    "id": "oWTVX3gW_Zct"
   },
   "outputs": [
    {
     "data": {
      "text/html": [
       "<div>\n",
       "<style scoped>\n",
       "    .dataframe tbody tr th:only-of-type {\n",
       "        vertical-align: middle;\n",
       "    }\n",
       "\n",
       "    .dataframe tbody tr th {\n",
       "        vertical-align: top;\n",
       "    }\n",
       "\n",
       "    .dataframe thead th {\n",
       "        text-align: right;\n",
       "    }\n",
       "</style>\n",
       "<table border=\"1\" class=\"dataframe\">\n",
       "  <thead>\n",
       "    <tr style=\"text-align: right;\">\n",
       "      <th></th>\n",
       "      <th>userID</th>\n",
       "      <th>Track</th>\n",
       "      <th>artist</th>\n",
       "      <th>genre</th>\n",
       "      <th>City</th>\n",
       "      <th>time</th>\n",
       "      <th>Day</th>\n",
       "    </tr>\n",
       "  </thead>\n",
       "  <tbody>\n",
       "    <tr>\n",
       "      <th>0</th>\n",
       "      <td>FFB692EC</td>\n",
       "      <td>Kamigata To Boots</td>\n",
       "      <td>The Mass Missile</td>\n",
       "      <td>rock</td>\n",
       "      <td>Saint-Petersburg</td>\n",
       "      <td>20:28:33</td>\n",
       "      <td>Wednesday</td>\n",
       "    </tr>\n",
       "    <tr>\n",
       "      <th>1</th>\n",
       "      <td>55204538</td>\n",
       "      <td>Delayed Because of Accident</td>\n",
       "      <td>Andreas Rönnberg</td>\n",
       "      <td>rock</td>\n",
       "      <td>Moscow</td>\n",
       "      <td>14:07:09</td>\n",
       "      <td>Friday</td>\n",
       "    </tr>\n",
       "    <tr>\n",
       "      <th>2</th>\n",
       "      <td>20EC38</td>\n",
       "      <td>Funiculì funiculà</td>\n",
       "      <td>Mario Lanza</td>\n",
       "      <td>pop</td>\n",
       "      <td>Saint-Petersburg</td>\n",
       "      <td>20:58:07</td>\n",
       "      <td>Wednesday</td>\n",
       "    </tr>\n",
       "    <tr>\n",
       "      <th>3</th>\n",
       "      <td>A3DD03C9</td>\n",
       "      <td>Dragons in the Sunset</td>\n",
       "      <td>Fire + Ice</td>\n",
       "      <td>folk</td>\n",
       "      <td>Saint-Petersburg</td>\n",
       "      <td>08:37:09</td>\n",
       "      <td>Monday</td>\n",
       "    </tr>\n",
       "    <tr>\n",
       "      <th>4</th>\n",
       "      <td>E2DC1FAE</td>\n",
       "      <td>Soul People</td>\n",
       "      <td>Space Echo</td>\n",
       "      <td>dance</td>\n",
       "      <td>Moscow</td>\n",
       "      <td>08:34:34</td>\n",
       "      <td>Monday</td>\n",
       "    </tr>\n",
       "    <tr>\n",
       "      <th>5</th>\n",
       "      <td>842029A1</td>\n",
       "      <td>Преданная</td>\n",
       "      <td>IMPERVTOR</td>\n",
       "      <td>rusrap</td>\n",
       "      <td>Saint-Petersburg</td>\n",
       "      <td>13:09:41</td>\n",
       "      <td>Friday</td>\n",
       "    </tr>\n",
       "    <tr>\n",
       "      <th>6</th>\n",
       "      <td>4CB90AA5</td>\n",
       "      <td>True</td>\n",
       "      <td>Roman Messer</td>\n",
       "      <td>dance</td>\n",
       "      <td>Moscow</td>\n",
       "      <td>13:00:07</td>\n",
       "      <td>Wednesday</td>\n",
       "    </tr>\n",
       "    <tr>\n",
       "      <th>7</th>\n",
       "      <td>F03E1C1F</td>\n",
       "      <td>Feeling This Way</td>\n",
       "      <td>Polina Griffith</td>\n",
       "      <td>dance</td>\n",
       "      <td>Moscow</td>\n",
       "      <td>20:47:49</td>\n",
       "      <td>Wednesday</td>\n",
       "    </tr>\n",
       "    <tr>\n",
       "      <th>8</th>\n",
       "      <td>8FA1D3BE</td>\n",
       "      <td>И вновь продолжается бой</td>\n",
       "      <td>NaN</td>\n",
       "      <td>ruspop</td>\n",
       "      <td>Moscow</td>\n",
       "      <td>09:17:40</td>\n",
       "      <td>Friday</td>\n",
       "    </tr>\n",
       "    <tr>\n",
       "      <th>9</th>\n",
       "      <td>E772D5C0</td>\n",
       "      <td>Pessimist</td>\n",
       "      <td>NaN</td>\n",
       "      <td>dance</td>\n",
       "      <td>Saint-Petersburg</td>\n",
       "      <td>21:20:49</td>\n",
       "      <td>Wednesday</td>\n",
       "    </tr>\n",
       "  </tbody>\n",
       "</table>\n",
       "</div>"
      ],
      "text/plain": [
       "     userID                        Track            artist   genre  \\\n",
       "0  FFB692EC            Kamigata To Boots  The Mass Missile    rock   \n",
       "1  55204538  Delayed Because of Accident  Andreas Rönnberg    rock   \n",
       "2    20EC38            Funiculì funiculà       Mario Lanza     pop   \n",
       "3  A3DD03C9        Dragons in the Sunset        Fire + Ice    folk   \n",
       "4  E2DC1FAE                  Soul People        Space Echo   dance   \n",
       "5  842029A1                    Преданная         IMPERVTOR  rusrap   \n",
       "6  4CB90AA5                         True      Roman Messer   dance   \n",
       "7  F03E1C1F             Feeling This Way   Polina Griffith   dance   \n",
       "8  8FA1D3BE     И вновь продолжается бой               NaN  ruspop   \n",
       "9  E772D5C0                    Pessimist               NaN   dance   \n",
       "\n",
       "             City        time        Day  \n",
       "0  Saint-Petersburg  20:28:33  Wednesday  \n",
       "1            Moscow  14:07:09     Friday  \n",
       "2  Saint-Petersburg  20:58:07  Wednesday  \n",
       "3  Saint-Petersburg  08:37:09     Monday  \n",
       "4            Moscow  08:34:34     Monday  \n",
       "5  Saint-Petersburg  13:09:41     Friday  \n",
       "6            Moscow  13:00:07  Wednesday  \n",
       "7            Moscow  20:47:49  Wednesday  \n",
       "8            Moscow  09:17:40     Friday  \n",
       "9  Saint-Petersburg  21:20:49  Wednesday  "
      ]
     },
     "execution_count": 4,
     "metadata": {},
     "output_type": "execute_result"
    }
   ],
   "source": [
    "df.head(10) # получение первых 10 строк таблицы df"
   ]
  },
  {
   "cell_type": "markdown",
   "metadata": {
    "id": "EO73Kwic_Zct"
   },
   "source": [
    "Одной командой получить общую информацию о таблице:"
   ]
  },
  {
   "cell_type": "code",
   "execution_count": 5,
   "metadata": {
    "id": "DSf2kIb-_Zct"
   },
   "outputs": [
    {
     "name": "stdout",
     "output_type": "stream",
     "text": [
      "<class 'pandas.core.frame.DataFrame'>\n",
      "RangeIndex: 65079 entries, 0 to 65078\n",
      "Data columns (total 7 columns):\n",
      " #   Column    Non-Null Count  Dtype \n",
      "---  ------    --------------  ----- \n",
      " 0     userID  65079 non-null  object\n",
      " 1   Track     63848 non-null  object\n",
      " 2   artist    57876 non-null  object\n",
      " 3   genre     63881 non-null  object\n",
      " 4     City    65079 non-null  object\n",
      " 5   time      65079 non-null  object\n",
      " 6   Day       65079 non-null  object\n",
      "dtypes: object(7)\n",
      "memory usage: 3.5+ MB\n"
     ]
    }
   ],
   "source": [
    "df.info() # получение общей информации о данных в таблице df"
   ]
  },
  {
   "cell_type": "markdown",
   "metadata": {
    "id": "TaQ2Iwbr_Zct"
   },
   "source": [
    "Итак, в таблице семь столбцов. Тип данных во всех столбцах — `object`.\n",
    "\n",
    "Согласно документации к данным:\n",
    "* `userID` — идентификатор пользователя;\n",
    "* `Track` — название трека;  \n",
    "* `artist` — имя исполнителя;\n",
    "* `genre` — название жанра;\n",
    "* `City` — город пользователя;\n",
    "* `time` — время начала прослушивания;\n",
    "* `Day` — день недели.\n",
    "\n",
    "В названиях колонок видны три нарушения стиля:\n",
    "1. Строчные буквы сочетаются с прописными.\n",
    "2. Встречаются пробелы.\n",
    "3. Найдите ещё одну проблему в названии колонок и опишите её в этом пункте. Названия типа userID не в \"змеином регистре\"\n",
    "\n",
    "\n",
    "\n",
    "Количество значений в столбцах различается. Значит, в данных есть пропущенные значения.\n"
   ]
  },
  {
   "cell_type": "markdown",
   "metadata": {
    "id": "MCB6-dXG_Zct"
   },
   "source": [
    "**Выводы**\n",
    "\n",
    "В каждой строке таблицы — данные о прослушанном треке. Часть колонок описывает саму композицию: название, исполнителя и жанр. Остальные данные рассказывают о пользователе: из какого он города, когда он слушал музыку. \n",
    "\n",
    "Предварительно можно утверждать, что, данных достаточно для проверки гипотез. Но встречаются пропуски в данных, а в названиях колонок — расхождения с хорошим стилем.\n",
    "\n",
    "Чтобы двигаться дальше, нужно устранить проблемы в данных."
   ]
  },
  {
   "cell_type": "markdown",
   "metadata": {
    "id": "SjYF6Ub9_Zct"
   },
   "source": [
    "## Предобработка данных\n",
    "Исправьте стиль в заголовках столбцов, исключите пропуски. Затем проверьте данные на дубликаты."
   ]
  },
  {
   "cell_type": "markdown",
   "metadata": {
    "id": "dIaKXr29_Zct"
   },
   "source": [
    "### Стиль заголовков\n",
    "Выведите на экран названия столбцов:"
   ]
  },
  {
   "cell_type": "code",
   "execution_count": 6,
   "metadata": {
    "id": "oKOTdF_Q_Zct"
   },
   "outputs": [
    {
     "data": {
      "text/plain": [
       "Index(['  userID', 'Track', 'artist', 'genre', '  City  ', 'time', 'Day'], dtype='object')"
      ]
     },
     "execution_count": 6,
     "metadata": {},
     "output_type": "execute_result"
    }
   ],
   "source": [
    "df.columns # перечень названий столбцов таблицы df"
   ]
  },
  {
   "cell_type": "markdown",
   "metadata": {
    "id": "zj5534cv_Zct"
   },
   "source": [
    "Приведите названия в соответствие с хорошим стилем:\n",
    "* несколько слов в названии запишите в «змеином_регистре»,\n",
    "* все символы сделайте строчными,\n",
    "* устраните пробелы.\n",
    "\n",
    "Для этого переименуйте колонки так:\n",
    "* `'  userID'` → `'user_id'`;\n",
    "* `'Track'` → `'track'`;\n",
    "* `'  City  '` → `'city'`;\n",
    "* `'Day'` → `'day'`."
   ]
  },
  {
   "cell_type": "code",
   "execution_count": 7,
   "metadata": {
    "id": "ISlFqs5y_Zct"
   },
   "outputs": [],
   "source": [
    "df = df.rename(columns={'  userID' : 'user_id', 'Track': 'track', '  City  ': 'city', 'Day' : 'day'}) # переименование столбцов"
   ]
  },
  {
   "cell_type": "code",
   "execution_count": 8,
   "metadata": {},
   "outputs": [],
   "source": [
    "df = df.rename(columns = {\n",
    "    '  userID':'user_id',\n",
    "    'Track':'track',\n",
    "    '  City  ':'city',\n",
    "    'Day':'day'})"
   ]
  },
  {
   "cell_type": "markdown",
   "metadata": {
    "id": "1dqbh00J_Zct"
   },
   "source": [
    "Проверьте результат. Для этого ещё раз выведите на экран названия столбцов:"
   ]
  },
  {
   "cell_type": "code",
   "execution_count": 9,
   "metadata": {
    "id": "d4NOAmTW_Zct"
   },
   "outputs": [
    {
     "data": {
      "text/plain": [
       "Index(['user_id', 'track', 'artist', 'genre', 'city', 'time', 'day'], dtype='object')"
      ]
     },
     "execution_count": 9,
     "metadata": {},
     "output_type": "execute_result"
    }
   ],
   "source": [
    "df.columns # проверка результатов - перечень названий столбцов"
   ]
  },
  {
   "cell_type": "markdown",
   "metadata": {
    "id": "5ISfbcfY_Zct"
   },
   "source": [
    "### Пропуски значений\n",
    "Сначала посчитайте, сколько в таблице пропущенных значений. Для этого достаточно двух методов `pandas`:"
   ]
  },
  {
   "cell_type": "code",
   "execution_count": 10,
   "metadata": {
    "id": "RskX29qr_Zct"
   },
   "outputs": [
    {
     "data": {
      "text/plain": [
       "user_id       0\n",
       "track      1231\n",
       "artist     7203\n",
       "genre      1198\n",
       "city          0\n",
       "time          0\n",
       "day           0\n",
       "dtype: int64"
      ]
     },
     "execution_count": 10,
     "metadata": {},
     "output_type": "execute_result"
    }
   ],
   "source": [
    "df.isnull().sum() # подсчёт пропусков"
   ]
  },
  {
   "cell_type": "markdown",
   "metadata": {
    "id": "qubhgnlO_Zct"
   },
   "source": [
    "Не все пропущенные значения влияют на исследование. Так в `track` и `artist` пропуски не важны для вашей работы. Достаточно заменить их явными обозначениями.\n",
    "\n",
    "Но пропуски в `genre` могут помешать сравнению музыкальных вкусов в Москве и Санкт-Петербурге. На практике было бы правильно установить причину пропусков и восстановить данные. Такой возможности нет в учебном проекте. Придётся:\n",
    "* заполнить и эти пропуски явными обозначениями,\n",
    "* оценить, насколько они повредят расчётам. "
   ]
  },
  {
   "cell_type": "markdown",
   "metadata": {
    "id": "fSv2laPA_Zct"
   },
   "source": [
    "Замените пропущенные значения в столбцах `track`, `artist` и `genre` на строку `'unknown'`. Для этого создайте список `columns_to_replace`, переберите его элементы циклом `for` и для каждого столбца выполните замену пропущенных значений:"
   ]
  },
  {
   "cell_type": "code",
   "execution_count": 11,
   "metadata": {
    "id": "KplB5qWs_Zct"
   },
   "outputs": [],
   "source": [
    "columns_to_replace = ['track', 'artist', 'genre']\n",
    "for column in columns_to_replace:\n",
    "     df[column] = df[column].fillna('unknown')\n",
    "\n",
    "     # перебор названий столбцов в цикле и замена пропущенных значений на 'unknown'"
   ]
  },
  {
   "cell_type": "markdown",
   "metadata": {
    "id": "Ilsm-MZo_Zct"
   },
   "source": [
    "Убедитесь, что в таблице не осталось пропусков. Для этого ещё раз посчитайте пропущенные значения."
   ]
  },
  {
   "cell_type": "code",
   "execution_count": 12,
   "metadata": {
    "id": "Tq4nYRX4_Zct"
   },
   "outputs": [
    {
     "data": {
      "text/plain": [
       "user_id    0\n",
       "track      0\n",
       "artist     0\n",
       "genre      0\n",
       "city       0\n",
       "time       0\n",
       "day        0\n",
       "dtype: int64"
      ]
     },
     "execution_count": 12,
     "metadata": {},
     "output_type": "execute_result"
    }
   ],
   "source": [
    "df.isnull().sum() # подсчёт пропусков"
   ]
  },
  {
   "cell_type": "markdown",
   "metadata": {
    "id": "BWKRtBJ3_Zct"
   },
   "source": [
    "### Дубликаты\n",
    "Посчитайте явные дубликаты в таблице одной командой:"
   ]
  },
  {
   "cell_type": "code",
   "execution_count": 13,
   "metadata": {
    "id": "36eES_S0_Zct"
   },
   "outputs": [
    {
     "data": {
      "text/plain": [
       "3826"
      ]
     },
     "execution_count": 13,
     "metadata": {},
     "output_type": "execute_result"
    }
   ],
   "source": [
    "df.duplicated().sum() # подсчёт явных дубликатов"
   ]
  },
  {
   "cell_type": "markdown",
   "metadata": {
    "id": "Ot25h6XR_Zct"
   },
   "source": [
    "Вызовите специальный метод `pandas`, чтобы удалить явные дубликаты:"
   ]
  },
  {
   "cell_type": "code",
   "execution_count": 14,
   "metadata": {
    "id": "exFHq6tt_Zct"
   },
   "outputs": [],
   "source": [
    "df = df.drop_duplicates().reset_index(drop=True) # удаление явных дубликатов (с удалением старых индексов и формированием новых)"
   ]
  },
  {
   "cell_type": "markdown",
   "metadata": {
    "id": "Im2YwBEG_Zct"
   },
   "source": [
    "Ещё раз посчитайте явные дубликаты в таблице — убедитесь, что полностью от них избавились:"
   ]
  },
  {
   "cell_type": "code",
   "execution_count": 15,
   "metadata": {
    "id": "-8PuNWQ0_Zct"
   },
   "outputs": [
    {
     "data": {
      "text/plain": [
       "0"
      ]
     },
     "execution_count": 15,
     "metadata": {},
     "output_type": "execute_result"
    }
   ],
   "source": [
    "df.duplicated().sum() # проверка на отсутствие дубликатов"
   ]
  },
  {
   "cell_type": "code",
   "execution_count": 16,
   "metadata": {},
   "outputs": [
    {
     "name": "stdout",
     "output_type": "stream",
     "text": [
      "Количество пропусков: 0\n"
     ]
    }
   ],
   "source": [
    "print(\"Количество пропусков: {}\".format(df.duplicated().sum()))"
   ]
  },
  {
   "cell_type": "markdown",
   "metadata": {
    "id": "QlFBsxAr_Zct"
   },
   "source": [
    "Теперь избавьтесь от неявных дубликатов в колонке `genre`. Например, название одного и того же жанра может быть записано немного по-разному. Такие ошибки тоже повлияют на результат исследования."
   ]
  },
  {
   "cell_type": "markdown",
   "metadata": {
    "id": "eSjWwsOh_Zct"
   },
   "source": [
    "Выведите на экран список уникальных названий жанров, отсортированный в алфавитном порядке. Для этого:\n",
    "* извлеките нужный столбец датафрейма, \n",
    "* примените к нему метод сортировки,\n",
    "* для отсортированного столбца вызовите метод, который вернёт уникальные значения из столбца."
   ]
  },
  {
   "cell_type": "code",
   "execution_count": 17,
   "metadata": {
    "id": "JIUcqzZN_Zct",
    "scrolled": true
   },
   "outputs": [
    {
     "data": {
      "text/plain": [
       "array(['acid', 'acoustic', 'action', 'adult', 'africa', 'afrikaans',\n",
       "       'alternative', 'alternativepunk', 'ambient', 'americana',\n",
       "       'animated', 'anime', 'arabesk', 'arabic', 'arena',\n",
       "       'argentinetango', 'art', 'audiobook', 'author', 'avantgarde',\n",
       "       'axé', 'baile', 'balkan', 'beats', 'bigroom', 'black', 'bluegrass',\n",
       "       'blues', 'bollywood', 'bossa', 'brazilian', 'breakbeat', 'breaks',\n",
       "       'broadway', 'cantautori', 'cantopop', 'canzone', 'caribbean',\n",
       "       'caucasian', 'celtic', 'chamber', 'chanson', 'children', 'chill',\n",
       "       'chinese', 'choral', 'christian', 'christmas', 'classical',\n",
       "       'classicmetal', 'club', 'colombian', 'comedy', 'conjazz',\n",
       "       'contemporary', 'country', 'cuban', 'dance', 'dancehall',\n",
       "       'dancepop', 'dark', 'death', 'deep', 'deutschrock', 'deutschspr',\n",
       "       'dirty', 'disco', 'dnb', 'documentary', 'downbeat', 'downtempo',\n",
       "       'drum', 'dub', 'dubstep', 'eastern', 'easy', 'electronic',\n",
       "       'electropop', 'emo', 'entehno', 'epicmetal', 'estrada', 'ethnic',\n",
       "       'eurofolk', 'european', 'experimental', 'extrememetal', 'fado',\n",
       "       'fairytail', 'film', 'fitness', 'flamenco', 'folk', 'folklore',\n",
       "       'folkmetal', 'folkrock', 'folktronica', 'forró', 'frankreich',\n",
       "       'französisch', 'french', 'funk', 'future', 'gangsta', 'garage',\n",
       "       'german', 'ghazal', 'gitarre', 'glitch', 'gospel', 'gothic',\n",
       "       'grime', 'grunge', 'gypsy', 'handsup', \"hard'n'heavy\", 'hardcore',\n",
       "       'hardstyle', 'hardtechno', 'hip', 'hip-hop', 'hiphop',\n",
       "       'historisch', 'holiday', 'hop', 'horror', 'house', 'hymn', 'idm',\n",
       "       'independent', 'indian', 'indie', 'indipop', 'industrial',\n",
       "       'inspirational', 'instrumental', 'international', 'irish', 'jam',\n",
       "       'japanese', 'jazz', 'jewish', 'jpop', 'jungle', 'k-pop',\n",
       "       'karadeniz', 'karaoke', 'kayokyoku', 'korean', 'laiko', 'latin',\n",
       "       'latino', 'leftfield', 'local', 'lounge', 'loungeelectronic',\n",
       "       'lovers', 'malaysian', 'mandopop', 'marschmusik', 'meditative',\n",
       "       'mediterranean', 'melodic', 'metal', 'metalcore', 'mexican',\n",
       "       'middle', 'minimal', 'miscellaneous', 'modern', 'mood', 'mpb',\n",
       "       'muslim', 'native', 'neoklassik', 'neue', 'new', 'newage',\n",
       "       'newwave', 'nu', 'nujazz', 'numetal', 'oceania', 'old', 'opera',\n",
       "       'orchestral', 'other', 'piano', 'podcasts', 'pop', 'popdance',\n",
       "       'popelectronic', 'popeurodance', 'poprussian', 'post',\n",
       "       'posthardcore', 'postrock', 'power', 'progmetal', 'progressive',\n",
       "       'psychedelic', 'punjabi', 'punk', 'quebecois', 'ragga', 'ram',\n",
       "       'rancheras', 'rap', 'rave', 'reggae', 'reggaeton', 'regional',\n",
       "       'relax', 'religious', 'retro', 'rhythm', 'rnb', 'rnr', 'rock',\n",
       "       'rockabilly', 'rockalternative', 'rockindie', 'rockother',\n",
       "       'romance', 'roots', 'ruspop', 'rusrap', 'rusrock', 'russian',\n",
       "       'salsa', 'samba', 'scenic', 'schlager', 'self', 'sertanejo',\n",
       "       'shanson', 'shoegazing', 'showtunes', 'singer', 'ska', 'skarock',\n",
       "       'slow', 'smooth', 'soft', 'soul', 'soulful', 'sound', 'soundtrack',\n",
       "       'southern', 'specialty', 'speech', 'spiritual', 'sport',\n",
       "       'stonerrock', 'surf', 'swing', 'synthpop', 'synthrock',\n",
       "       'sängerportrait', 'tango', 'tanzorchester', 'taraftar', 'tatar',\n",
       "       'tech', 'techno', 'teen', 'thrash', 'top', 'traditional',\n",
       "       'tradjazz', 'trance', 'tribal', 'trip', 'triphop', 'tropical',\n",
       "       'türk', 'türkçe', 'ukrrock', 'unknown', 'urban', 'uzbek',\n",
       "       'variété', 'vi', 'videogame', 'vocal', 'western', 'world',\n",
       "       'worldbeat', 'ïîï', 'электроника'], dtype=object)"
      ]
     },
     "execution_count": 17,
     "metadata": {},
     "output_type": "execute_result"
    }
   ],
   "source": [
    "\n",
    "df['genre'].sort_values(ascending = True).unique() # Просмотр уникальных названий жанров"
   ]
  },
  {
   "cell_type": "markdown",
   "metadata": {
    "id": "qej-Qmuo_Zct"
   },
   "source": [
    "Просмотрите список и найдите неявные дубликаты названия `hiphop`. Это могут быть названия с ошибками или альтернативные названия того же жанра.\n",
    "\n",
    "Вы увидите следующие неявные дубликаты:\n",
    "* *hip*,\n",
    "* *hop*,\n",
    "* *hip-hop*.\n",
    "\n",
    "Чтобы очистить от них таблицу, напишите функцию `replace_wrong_genres()` с двумя параметрами: \n",
    "* `wrong_genres` — список дубликатов,\n",
    "* `correct_genre` — строка с правильным значением.\n",
    "\n",
    "Функция должна исправить колонку `genre` в таблице `df`: заменить каждое значение из списка `wrong_genres` на значение из `correct_genre`."
   ]
  },
  {
   "cell_type": "code",
   "execution_count": 18,
   "metadata": {
    "id": "ErNDkmns_Zct"
   },
   "outputs": [],
   "source": [
    "def replace_wrong_genres(wrong_genres, correct_genre):\n",
    "    for wrong_genre in wrong_genres:\n",
    "        df['genre'] = df['genre'].replace(wrong_genres, correct_genre)\n",
    "\n",
    "        \n",
    "            \n",
    "            # Функция для замены неявных дубликатов"
   ]
  },
  {
   "cell_type": "markdown",
   "metadata": {
    "id": "aDoBJxbA_Zct"
   },
   "source": [
    "Вызовите `replace_wrong_genres()` и передайте ей такие аргументы, чтобы она устранила неявные дубликаты: вместо `hip`, `hop` и `hip-hop` в таблице должно быть значение `hiphop`:\n"
   ]
  },
  {
   "cell_type": "code",
   "execution_count": 19,
   "metadata": {
    "id": "YN5i2hpmSo09"
   },
   "outputs": [],
   "source": [
    "duplicates = ['hip', 'hop', 'hip-hop']\n",
    "genre = 'hiphop'\n",
    "replace_wrong_genres(duplicates, genre) # Устранение неявных дубликатов"
   ]
  },
  {
   "cell_type": "markdown",
   "metadata": {
    "id": "zQKF16_RG15m"
   },
   "source": [
    "Проверьте, что заменили неправильные названия:\n",
    "\n",
    "*   hip\n",
    "*   hop\n",
    "*   hip-hop\n",
    "\n",
    "Выведите отсортированный список уникальных значений столбца `genre`:"
   ]
  },
  {
   "cell_type": "code",
   "execution_count": 20,
   "metadata": {
    "id": "wvixALnFG15m",
    "scrolled": true
   },
   "outputs": [
    {
     "data": {
      "text/plain": [
       "array(['acid', 'acoustic', 'action', 'adult', 'africa', 'afrikaans',\n",
       "       'alternative', 'alternativepunk', 'ambient', 'americana',\n",
       "       'animated', 'anime', 'arabesk', 'arabic', 'arena',\n",
       "       'argentinetango', 'art', 'audiobook', 'author', 'avantgarde',\n",
       "       'axé', 'baile', 'balkan', 'beats', 'bigroom', 'black', 'bluegrass',\n",
       "       'blues', 'bollywood', 'bossa', 'brazilian', 'breakbeat', 'breaks',\n",
       "       'broadway', 'cantautori', 'cantopop', 'canzone', 'caribbean',\n",
       "       'caucasian', 'celtic', 'chamber', 'chanson', 'children', 'chill',\n",
       "       'chinese', 'choral', 'christian', 'christmas', 'classical',\n",
       "       'classicmetal', 'club', 'colombian', 'comedy', 'conjazz',\n",
       "       'contemporary', 'country', 'cuban', 'dance', 'dancehall',\n",
       "       'dancepop', 'dark', 'death', 'deep', 'deutschrock', 'deutschspr',\n",
       "       'dirty', 'disco', 'dnb', 'documentary', 'downbeat', 'downtempo',\n",
       "       'drum', 'dub', 'dubstep', 'eastern', 'easy', 'electronic',\n",
       "       'electropop', 'emo', 'entehno', 'epicmetal', 'estrada', 'ethnic',\n",
       "       'eurofolk', 'european', 'experimental', 'extrememetal', 'fado',\n",
       "       'fairytail', 'film', 'fitness', 'flamenco', 'folk', 'folklore',\n",
       "       'folkmetal', 'folkrock', 'folktronica', 'forró', 'frankreich',\n",
       "       'französisch', 'french', 'funk', 'future', 'gangsta', 'garage',\n",
       "       'german', 'ghazal', 'gitarre', 'glitch', 'gospel', 'gothic',\n",
       "       'grime', 'grunge', 'gypsy', 'handsup', \"hard'n'heavy\", 'hardcore',\n",
       "       'hardstyle', 'hardtechno', 'hiphop', 'historisch', 'holiday',\n",
       "       'horror', 'house', 'hymn', 'idm', 'independent', 'indian', 'indie',\n",
       "       'indipop', 'industrial', 'inspirational', 'instrumental',\n",
       "       'international', 'irish', 'jam', 'japanese', 'jazz', 'jewish',\n",
       "       'jpop', 'jungle', 'k-pop', 'karadeniz', 'karaoke', 'kayokyoku',\n",
       "       'korean', 'laiko', 'latin', 'latino', 'leftfield', 'local',\n",
       "       'lounge', 'loungeelectronic', 'lovers', 'malaysian', 'mandopop',\n",
       "       'marschmusik', 'meditative', 'mediterranean', 'melodic', 'metal',\n",
       "       'metalcore', 'mexican', 'middle', 'minimal', 'miscellaneous',\n",
       "       'modern', 'mood', 'mpb', 'muslim', 'native', 'neoklassik', 'neue',\n",
       "       'new', 'newage', 'newwave', 'nu', 'nujazz', 'numetal', 'oceania',\n",
       "       'old', 'opera', 'orchestral', 'other', 'piano', 'podcasts', 'pop',\n",
       "       'popdance', 'popelectronic', 'popeurodance', 'poprussian', 'post',\n",
       "       'posthardcore', 'postrock', 'power', 'progmetal', 'progressive',\n",
       "       'psychedelic', 'punjabi', 'punk', 'quebecois', 'ragga', 'ram',\n",
       "       'rancheras', 'rap', 'rave', 'reggae', 'reggaeton', 'regional',\n",
       "       'relax', 'religious', 'retro', 'rhythm', 'rnb', 'rnr', 'rock',\n",
       "       'rockabilly', 'rockalternative', 'rockindie', 'rockother',\n",
       "       'romance', 'roots', 'ruspop', 'rusrap', 'rusrock', 'russian',\n",
       "       'salsa', 'samba', 'scenic', 'schlager', 'self', 'sertanejo',\n",
       "       'shanson', 'shoegazing', 'showtunes', 'singer', 'ska', 'skarock',\n",
       "       'slow', 'smooth', 'soft', 'soul', 'soulful', 'sound', 'soundtrack',\n",
       "       'southern', 'specialty', 'speech', 'spiritual', 'sport',\n",
       "       'stonerrock', 'surf', 'swing', 'synthpop', 'synthrock',\n",
       "       'sängerportrait', 'tango', 'tanzorchester', 'taraftar', 'tatar',\n",
       "       'tech', 'techno', 'teen', 'thrash', 'top', 'traditional',\n",
       "       'tradjazz', 'trance', 'tribal', 'trip', 'triphop', 'tropical',\n",
       "       'türk', 'türkçe', 'ukrrock', 'unknown', 'urban', 'uzbek',\n",
       "       'variété', 'vi', 'videogame', 'vocal', 'western', 'world',\n",
       "       'worldbeat', 'ïîï', 'электроника'], dtype=object)"
      ]
     },
     "execution_count": 20,
     "metadata": {},
     "output_type": "execute_result"
    }
   ],
   "source": [
    "df['genre'].sort_values(ascending = True).unique() # Проверка на неявные дубликаты"
   ]
  },
  {
   "cell_type": "markdown",
   "metadata": {
    "id": "jz6a9-7HQUDd"
   },
   "source": [
    "**Выводы**\n",
    "\n",
    "Предобработка обнаружила три проблемы в данных:\n",
    "\n",
    "- нарушения в стиле заголовков,\n",
    "- пропущенные значения,\n",
    "- дубликаты — явные и неявные.\n",
    "\n",
    "Вы исправили заголовки, чтобы упростить работу с таблицей. Без дубликатов исследование станет более точным.\n",
    "\n",
    "Пропущенные значения вы заменили на `'unknown'`. Ещё предстоит увидеть, не повредят ли исследованию пропуски в колонке `genre`.\n",
    "\n",
    "Теперь можно перейти к проверке гипотез. "
   ]
  },
  {
   "cell_type": "markdown",
   "metadata": {
    "id": "WttZHXH0SqKk"
   },
   "source": [
    "## Проверка гипотез"
   ]
  },
  {
   "cell_type": "markdown",
   "metadata": {
    "id": "Im936VVi_Zcu"
   },
   "source": [
    "### Сравнение поведения пользователей двух столиц"
   ]
  },
  {
   "cell_type": "markdown",
   "metadata": {
    "id": "nwt_MuaL_Zcu"
   },
   "source": [
    "Первая гипотеза утверждает, что пользователи по-разному слушают музыку в Москве и Санкт-Петербурге. Проверьте это предположение по данным о трёх днях недели — понедельнике, среде и пятнице. Для этого:\n",
    "\n",
    "* Разделите пользователей Москвы и Санкт-Петербурга\n",
    "* Сравните, сколько треков послушала каждая группа пользователей в понедельник, среду и пятницу.\n"
   ]
  },
  {
   "cell_type": "markdown",
   "metadata": {
    "id": "8Dw_YMmT_Zcu"
   },
   "source": [
    "Для тренировки сначала выполните каждый из расчётов по отдельности. \n",
    "\n",
    "Оцените активность пользователей в каждом городе. Сгруппируйте данные по городу и посчитайте прослушивания в каждой группе.\n",
    "\n"
   ]
  },
  {
   "cell_type": "code",
   "execution_count": 21,
   "metadata": {
    "id": "0_Qs96oh_Zcu"
   },
   "outputs": [
    {
     "data": {
      "text/html": [
       "<div>\n",
       "<style scoped>\n",
       "    .dataframe tbody tr th:only-of-type {\n",
       "        vertical-align: middle;\n",
       "    }\n",
       "\n",
       "    .dataframe tbody tr th {\n",
       "        vertical-align: top;\n",
       "    }\n",
       "\n",
       "    .dataframe thead th {\n",
       "        text-align: right;\n",
       "    }\n",
       "</style>\n",
       "<table border=\"1\" class=\"dataframe\">\n",
       "  <thead>\n",
       "    <tr style=\"text-align: right;\">\n",
       "      <th></th>\n",
       "      <th>user_id</th>\n",
       "      <th>track</th>\n",
       "      <th>artist</th>\n",
       "      <th>genre</th>\n",
       "      <th>time</th>\n",
       "      <th>day</th>\n",
       "    </tr>\n",
       "    <tr>\n",
       "      <th>city</th>\n",
       "      <th></th>\n",
       "      <th></th>\n",
       "      <th></th>\n",
       "      <th></th>\n",
       "      <th></th>\n",
       "      <th></th>\n",
       "    </tr>\n",
       "  </thead>\n",
       "  <tbody>\n",
       "    <tr>\n",
       "      <th>Moscow</th>\n",
       "      <td>42741</td>\n",
       "      <td>42741</td>\n",
       "      <td>42741</td>\n",
       "      <td>42741</td>\n",
       "      <td>42741</td>\n",
       "      <td>42741</td>\n",
       "    </tr>\n",
       "    <tr>\n",
       "      <th>Saint-Petersburg</th>\n",
       "      <td>18512</td>\n",
       "      <td>18512</td>\n",
       "      <td>18512</td>\n",
       "      <td>18512</td>\n",
       "      <td>18512</td>\n",
       "      <td>18512</td>\n",
       "    </tr>\n",
       "  </tbody>\n",
       "</table>\n",
       "</div>"
      ],
      "text/plain": [
       "                  user_id  track  artist  genre   time    day\n",
       "city                                                         \n",
       "Moscow              42741  42741   42741  42741  42741  42741\n",
       "Saint-Petersburg    18512  18512   18512  18512  18512  18512"
      ]
     },
     "execution_count": 21,
     "metadata": {},
     "output_type": "execute_result"
    }
   ],
   "source": [
    "df.groupby('city').count() # Подсчёт прослушиваний в каждом городе"
   ]
  },
  {
   "cell_type": "code",
   "execution_count": 22,
   "metadata": {},
   "outputs": [
    {
     "data": {
      "text/plain": [
       "city\n",
       "Moscow              42741\n",
       "Saint-Petersburg    18512\n",
       "Name: user_id, dtype: int64"
      ]
     },
     "execution_count": 22,
     "metadata": {},
     "output_type": "execute_result"
    }
   ],
   "source": [
    "df.groupby('city')['user_id'].count()"
   ]
  },
  {
   "cell_type": "markdown",
   "metadata": {
    "id": "dzli3w8o_Zcu"
   },
   "source": [
    "В Москве прослушиваний больше, чем в Петербурге. Из этого не следует, что московские пользователи чаще слушают музыку. Просто самих пользователей в Москве больше.\n",
    "\n",
    "Теперь сгруппируйте данные по дню недели и подсчитайте прослушивания в понедельник, среду и пятницу. Учтите, что в данных есть информация только о прослушиваниях только за эти дни.\n"
   ]
  },
  {
   "cell_type": "code",
   "execution_count": 23,
   "metadata": {
    "id": "uZMKjiJz_Zcu"
   },
   "outputs": [
    {
     "data": {
      "text/html": [
       "<div>\n",
       "<style scoped>\n",
       "    .dataframe tbody tr th:only-of-type {\n",
       "        vertical-align: middle;\n",
       "    }\n",
       "\n",
       "    .dataframe tbody tr th {\n",
       "        vertical-align: top;\n",
       "    }\n",
       "\n",
       "    .dataframe thead th {\n",
       "        text-align: right;\n",
       "    }\n",
       "</style>\n",
       "<table border=\"1\" class=\"dataframe\">\n",
       "  <thead>\n",
       "    <tr style=\"text-align: right;\">\n",
       "      <th></th>\n",
       "      <th>user_id</th>\n",
       "      <th>track</th>\n",
       "      <th>artist</th>\n",
       "      <th>genre</th>\n",
       "      <th>city</th>\n",
       "      <th>time</th>\n",
       "    </tr>\n",
       "    <tr>\n",
       "      <th>day</th>\n",
       "      <th></th>\n",
       "      <th></th>\n",
       "      <th></th>\n",
       "      <th></th>\n",
       "      <th></th>\n",
       "      <th></th>\n",
       "    </tr>\n",
       "  </thead>\n",
       "  <tbody>\n",
       "    <tr>\n",
       "      <th>Friday</th>\n",
       "      <td>21840</td>\n",
       "      <td>21840</td>\n",
       "      <td>21840</td>\n",
       "      <td>21840</td>\n",
       "      <td>21840</td>\n",
       "      <td>21840</td>\n",
       "    </tr>\n",
       "    <tr>\n",
       "      <th>Monday</th>\n",
       "      <td>21354</td>\n",
       "      <td>21354</td>\n",
       "      <td>21354</td>\n",
       "      <td>21354</td>\n",
       "      <td>21354</td>\n",
       "      <td>21354</td>\n",
       "    </tr>\n",
       "    <tr>\n",
       "      <th>Wednesday</th>\n",
       "      <td>18059</td>\n",
       "      <td>18059</td>\n",
       "      <td>18059</td>\n",
       "      <td>18059</td>\n",
       "      <td>18059</td>\n",
       "      <td>18059</td>\n",
       "    </tr>\n",
       "  </tbody>\n",
       "</table>\n",
       "</div>"
      ],
      "text/plain": [
       "           user_id  track  artist  genre   city   time\n",
       "day                                                   \n",
       "Friday       21840  21840   21840  21840  21840  21840\n",
       "Monday       21354  21354   21354  21354  21354  21354\n",
       "Wednesday    18059  18059   18059  18059  18059  18059"
      ]
     },
     "execution_count": 23,
     "metadata": {},
     "output_type": "execute_result"
    }
   ],
   "source": [
    "df.groupby('day').count() # Подсчёт прослушиваний в каждый из трёх дней"
   ]
  },
  {
   "cell_type": "markdown",
   "metadata": {
    "id": "cC2tNrlL_Zcu"
   },
   "source": [
    "В среднем пользователи из двух городов менее активны по средам. Но картина может измениться, если рассмотреть каждый город в отдельности."
   ]
  },
  {
   "cell_type": "markdown",
   "metadata": {
    "id": "POzs8bGa_Zcu"
   },
   "source": [
    "Вы видели, как работает группировка по городу и по дням недели. Теперь напишите функцию, которая объединит два эти расчёта.\n",
    "\n",
    "Создайте функцию `number_tracks()`, которая посчитает прослушивания для заданного дня и города. Ей понадобятся два параметра:\n",
    "* день недели,\n",
    "* название города.\n",
    "\n",
    "В функции сохраните в переменную строки исходной таблицы, у которых значение:\n",
    "  * в колонке `day` равно параметру `day`,\n",
    "  * в колонке `city` равно параметру `city`.\n",
    "\n",
    "Для этого примените последовательную фильтрацию с логической индексацией.\n",
    "\n",
    "Затем посчитайте значения в столбце `user_id` получившейся таблицы. Результат сохраните в новую переменную. Верните эту переменную из функции."
   ]
  },
  {
   "cell_type": "code",
   "execution_count": 24,
   "metadata": {
    "id": "Nz3GdQB1_Zcu"
   },
   "outputs": [],
   "source": [
    "def number_tracks(day, city):\n",
    "    track_list = df[df['day'] == day]\n",
    "    track_list = track_list[track_list['city'] == city]\n",
    "    track_list_count  = track_list['user_id'].count()\n",
    "    return track_list_count\n",
    "\n"
   ]
  },
  {
   "cell_type": "markdown",
   "metadata": {
    "id": "ytf7xFrFJQ2r"
   },
   "source": [
    "Вызовите `number_tracks()` шесть раз, меняя значение параметров — так, чтобы получить данные для каждого города в каждый из трёх дней."
   ]
  },
  {
   "cell_type": "code",
   "execution_count": 25,
   "metadata": {
    "id": "rJcRATNQ_Zcu"
   },
   "outputs": [
    {
     "data": {
      "text/plain": [
       "15740"
      ]
     },
     "execution_count": 25,
     "metadata": {},
     "output_type": "execute_result"
    }
   ],
   "source": [
    "moscow_mon = number_tracks('Monday', 'Moscow') \n",
    "moscow_mon"
   ]
  },
  {
   "cell_type": "code",
   "execution_count": 26,
   "metadata": {
    "id": "hq_ncZ5T_Zcu"
   },
   "outputs": [
    {
     "data": {
      "text/plain": [
       "5614"
      ]
     },
     "execution_count": 26,
     "metadata": {},
     "output_type": "execute_result"
    }
   ],
   "source": [
    "peterburg_mon = number_tracks('Monday', 'Saint-Petersburg')\n",
    "peterburg_mon "
   ]
  },
  {
   "cell_type": "code",
   "execution_count": 27,
   "metadata": {
    "id": "_NTy2VPU_Zcu"
   },
   "outputs": [
    {
     "data": {
      "text/plain": [
       "11056"
      ]
     },
     "execution_count": 27,
     "metadata": {},
     "output_type": "execute_result"
    }
   ],
   "source": [
    "moscow_wed = number_tracks('Wednesday', 'Moscow')\n",
    "moscow_wed "
   ]
  },
  {
   "cell_type": "code",
   "execution_count": 28,
   "metadata": {
    "id": "j2y3TAwo_Zcu"
   },
   "outputs": [
    {
     "data": {
      "text/plain": [
       "7003"
      ]
     },
     "execution_count": 28,
     "metadata": {},
     "output_type": "execute_result"
    }
   ],
   "source": [
    "peterburg_wed = number_tracks('Wednesday', 'Saint-Petersburg')\n",
    "peterburg_wed "
   ]
  },
  {
   "cell_type": "code",
   "execution_count": 29,
   "metadata": {
    "id": "vYDw5u_K_Zcu"
   },
   "outputs": [
    {
     "data": {
      "text/plain": [
       "15945"
      ]
     },
     "execution_count": 29,
     "metadata": {},
     "output_type": "execute_result"
    }
   ],
   "source": [
    "moscow_fri = number_tracks('Friday', 'Moscow') \n",
    "moscow_fri "
   ]
  },
  {
   "cell_type": "code",
   "execution_count": 30,
   "metadata": {
    "id": "8_yzFtW3_Zcu"
   },
   "outputs": [
    {
     "data": {
      "text/plain": [
       "5895"
      ]
     },
     "execution_count": 30,
     "metadata": {},
     "output_type": "execute_result"
    }
   ],
   "source": [
    "peterburg_fri = number_tracks('Friday', 'Saint-Petersburg') \n",
    "peterburg_fri"
   ]
  },
  {
   "cell_type": "markdown",
   "metadata": {
    "id": "7QXffbO-_Zcu"
   },
   "source": [
    "Создайте c помощью конструктора `pd.DataFrame` таблицу, где\n",
    "* названия колонок — `['city', 'monday', 'wednesday', 'friday']`;\n",
    "* данные — результаты, которые вы получили с помощью `number_tracks`."
   ]
  },
  {
   "cell_type": "code",
   "execution_count": 31,
   "metadata": {
    "id": "APAcLpOr_Zcu"
   },
   "outputs": [
    {
     "data": {
      "text/html": [
       "<div>\n",
       "<style scoped>\n",
       "    .dataframe tbody tr th:only-of-type {\n",
       "        vertical-align: middle;\n",
       "    }\n",
       "\n",
       "    .dataframe tbody tr th {\n",
       "        vertical-align: top;\n",
       "    }\n",
       "\n",
       "    .dataframe thead th {\n",
       "        text-align: right;\n",
       "    }\n",
       "</style>\n",
       "<table border=\"1\" class=\"dataframe\">\n",
       "  <thead>\n",
       "    <tr style=\"text-align: right;\">\n",
       "      <th></th>\n",
       "      <th>city</th>\n",
       "      <th>monday</th>\n",
       "      <th>wednesday</th>\n",
       "      <th>friday</th>\n",
       "    </tr>\n",
       "  </thead>\n",
       "  <tbody>\n",
       "    <tr>\n",
       "      <th>0</th>\n",
       "      <td>Moscow</td>\n",
       "      <td>15740</td>\n",
       "      <td>11056</td>\n",
       "      <td>15945</td>\n",
       "    </tr>\n",
       "    <tr>\n",
       "      <th>1</th>\n",
       "      <td>Petersburg</td>\n",
       "      <td>5614</td>\n",
       "      <td>7003</td>\n",
       "      <td>5895</td>\n",
       "    </tr>\n",
       "  </tbody>\n",
       "</table>\n",
       "</div>"
      ],
      "text/plain": [
       "         city  monday  wednesday  friday\n",
       "0      Moscow   15740      11056   15945\n",
       "1  Petersburg    5614       7003    5895"
      ]
     },
     "metadata": {},
     "output_type": "display_data"
    }
   ],
   "source": [
    "\n",
    "number_tracks = [\n",
    "    ['Moscow', 15740, 11056, 15945],\n",
    "    ['Petersburg', 5614, 7003, 5895]\n",
    "]\n",
    "column_names = ['city', 'monday', 'wednesday', 'friday']\n",
    "listen_week = pandas.DataFrame(data=number_tracks, columns=column_names)\n",
    "display(listen_week)\n",
    "\n"
   ]
  },
  {
   "cell_type": "markdown",
   "metadata": {
    "id": "-EgPIHYu_Zcu"
   },
   "source": [
    "**Выводы**\n",
    "\n",
    "Данные показывают разницу поведения пользователей:\n",
    "\n",
    "- В Москве пик прослушиваний приходится на понедельник и пятницу, а в среду заметен спад.\n",
    "- В Петербурге, наоборот, больше слушают музыку по средам. Активность в понедельник и пятницу здесь почти в равной мере уступает среде.\n",
    "\n",
    "Значит, данные говорят в пользу первой гипотезы."
   ]
  },
  {
   "cell_type": "markdown",
   "metadata": {
    "id": "atZAxtq4_Zcu"
   },
   "source": [
    "### Музыка в начале и в конце недели"
   ]
  },
  {
   "cell_type": "markdown",
   "metadata": {
    "id": "eXrQqXFH_Zcu"
   },
   "source": [
    "Согласно второй гипотезе, утром в понедельник в Москве преобладают одни жанры, а в Петербурге — другие. Так же и вечером пятницы преобладают разные жанры — в зависимости от города."
   ]
  },
  {
   "cell_type": "markdown",
   "metadata": {
    "id": "S8UcW6Hw_Zcu"
   },
   "source": [
    "Сохраните таблицы с данными в две переменные:\n",
    "* по Москве — в `moscow_general`;\n",
    "* по Санкт-Петербургу — в `spb_general`."
   ]
  },
  {
   "cell_type": "code",
   "execution_count": 32,
   "metadata": {
    "id": "qeaFfM_P_Zcu"
   },
   "outputs": [],
   "source": [
    "moscow_general = df[df['city'] == 'Moscow'] # получение таблицы moscow_general из тех строк таблицы df, \n",
    "# для которых значение в столбце 'city' равно 'Moscow'\n"
   ]
  },
  {
   "cell_type": "code",
   "execution_count": 33,
   "metadata": {
    "id": "ORaVRKto_Zcu"
   },
   "outputs": [],
   "source": [
    "spb_general = df[df['city'] == 'Saint-Petersburg']  # получение таблицы spb_general из тех строк таблицы df,\n",
    "# для которых значение в столбце 'city' равно 'Saint-Petersburg'\n"
   ]
  },
  {
   "cell_type": "markdown",
   "metadata": {
    "id": "MEJV-CX2_Zcu"
   },
   "source": [
    "Создайте функцию `genre_weekday()` с четырьмя параметрами:\n",
    "* таблица (датафрейм) с данными,\n",
    "* день недели,\n",
    "* начальная временная метка в формате 'hh:mm', \n",
    "* последняя временная метка в формате 'hh:mm'.\n",
    "\n",
    "Функция должна вернуть информацию о топ-10 жанров тех треков, которые прослушивали в указанный день, в промежутке между двумя отметками времени."
   ]
  },
  {
   "cell_type": "code",
   "execution_count": 34,
   "metadata": {
    "id": "laJT9BYl_Zcu"
   },
   "outputs": [],
   "source": [
    "def genre_weekday(table, day, time1, time2):\n",
    "    genre_df = table[table['day'] == day]\n",
    "    genre_df = genre_df[genre_df['time'] > time1]\n",
    "    genre_df = genre_df[genre_df['time'] < time2]\n",
    "    genre_df_count = genre_df.groupby('genre')['day'].count()\n",
    "    genre_df_sorted = genre_df_count.sort_values(ascending = False)\n",
    "    return genre_df_sorted.head(10)\n",
    "# Объявление функции genre_weekday() с параметрами table, day, time1, time2,\n",
    "# которая возвращает информацию о самых популярных жанрах в указанный день в\n",
    "# заданное время:\n",
    "# 1) в переменную genre_df сохраняются те строки переданного датафрейма table, для\n",
    "#    которых одновременно:\n",
    "#    - значение в столбце day равно значению аргумента day\n",
    "#    - значение в столбце time больше значения аргумента time1\n",
    "#    - значение в столбце time меньше значения аргумента time2\n",
    "#    Используйте последовательную фильтрацию с помощью логической индексации.\n",
    "# 2) сгруппировать датафрейм genre_df по столбцу genre, взять один из его\n",
    "#    столбцов и посчитать методом count() количество записей для каждого из\n",
    "#    присутствующих жанров, получившийся Series записать в переменную\n",
    "#    genre_df_count\n",
    "# 3) отсортировать genre_df_count по убыванию встречаемости и сохранить\n",
    "#    в переменную genre_df_sorted\n",
    "# 4) вернуть Series из 10 первых значений genre_df_sorted, это будут топ-10\n",
    "#    популярных жанров (в указанный день, в заданное время)"
   ]
  },
  {
   "cell_type": "markdown",
   "metadata": {
    "id": "la2s2_PF_Zcu"
   },
   "source": [
    "Cравните результаты функции `genre_weekday()` для Москвы и Санкт-Петербурга в понедельник утром (с 7:00 до 11:00) и в пятницу вечером (с 17:00 до 23:00):"
   ]
  },
  {
   "cell_type": "code",
   "execution_count": 35,
   "metadata": {
    "id": "yz7itPUQ_Zcu"
   },
   "outputs": [
    {
     "data": {
      "text/plain": [
       "genre\n",
       "pop            781\n",
       "dance          549\n",
       "electronic     480\n",
       "rock           474\n",
       "hiphop         286\n",
       "ruspop         186\n",
       "world          181\n",
       "rusrap         175\n",
       "alternative    164\n",
       "unknown        161\n",
       "Name: day, dtype: int64"
      ]
     },
     "execution_count": 35,
     "metadata": {},
     "output_type": "execute_result"
    }
   ],
   "source": [
    "moscow_morning_mon = genre_weekday(moscow_general, 'Monday', '07:00', '11:00')\n",
    "moscow_morning_mon\n",
    "# вызов функции для утра понедельника в Москве (вместо df — таблица moscow_general)\n",
    "# объекты, хранящие время, являются строками и сравниваются как строки\n",
    "# пример вызова: genre_weekday(moscow_general, 'Monday', '07:00', '11:00')"
   ]
  },
  {
   "cell_type": "code",
   "execution_count": 36,
   "metadata": {
    "id": "kwUcHPdy_Zcu"
   },
   "outputs": [
    {
     "data": {
      "text/plain": [
       "genre\n",
       "pop            218\n",
       "dance          182\n",
       "rock           162\n",
       "electronic     147\n",
       "hiphop          80\n",
       "ruspop          64\n",
       "alternative     58\n",
       "rusrap          55\n",
       "jazz            44\n",
       "classical       40\n",
       "Name: day, dtype: int64"
      ]
     },
     "execution_count": 36,
     "metadata": {},
     "output_type": "execute_result"
    }
   ],
   "source": [
    "spb_morning_mon = genre_weekday(spb_general, 'Monday', '07:00', '11:00')\n",
    "spb_morning_mon\n",
    "# вызов функции для утра понедельника в Петербурге (вместо df — таблица spb_general)"
   ]
  },
  {
   "cell_type": "code",
   "execution_count": 37,
   "metadata": {
    "id": "EzXVRE1o_Zcu"
   },
   "outputs": [
    {
     "data": {
      "text/plain": [
       "genre\n",
       "pop            717\n",
       "dance          524\n",
       "rock           518\n",
       "electronic     485\n",
       "hiphop         238\n",
       "alternative    182\n",
       "classical      172\n",
       "world          172\n",
       "ruspop         149\n",
       "rusrap         133\n",
       "Name: day, dtype: int64"
      ]
     },
     "execution_count": 37,
     "metadata": {},
     "output_type": "execute_result"
    }
   ],
   "source": [
    "moscow_evening_fri = genre_weekday(moscow_general, 'Monday', '17:00', '23:00')\n",
    "moscow_evening_fri # вызов функции для вечера пятницы в Москве"
   ]
  },
  {
   "cell_type": "code",
   "execution_count": 38,
   "metadata": {
    "id": "JZaEKu5v_Zcu"
   },
   "outputs": [
    {
     "data": {
      "text/plain": [
       "genre\n",
       "pop            263\n",
       "rock           208\n",
       "electronic     192\n",
       "dance          191\n",
       "hiphop         104\n",
       "alternative     72\n",
       "classical       71\n",
       "jazz            57\n",
       "rusrap          54\n",
       "ruspop          53\n",
       "Name: day, dtype: int64"
      ]
     },
     "execution_count": 38,
     "metadata": {},
     "output_type": "execute_result"
    }
   ],
   "source": [
    "spb_evening_fri = genre_weekday(spb_general, 'Monday', '17:00', '23:00')\n",
    "spb_evening_fri # вызов функции для вечера пятницы в Петербурге"
   ]
  },
  {
   "cell_type": "markdown",
   "metadata": {
    "id": "wrCe4MNX_Zcu"
   },
   "source": [
    "**Выводы**\n",
    "\n",
    "Если сравнить топ-10 жанров в понедельник утром, можно сделать такие выводы:\n",
    "\n",
    "1. В Москве и Петербурге слушают похожую музыку. Единственное отличие — в московский рейтинг вошёл жанр “world”, а в петербургский — джаз и классика.\n",
    "\n",
    "2. В Москве пропущенных значений оказалось так много, что значение `'unknown'` заняло десятое место среди самых популярных жанров. Значит, пропущенные значения занимают существенную долю в данных и угрожают достоверности исследования.\n",
    "\n",
    "Вечер пятницы не меняет эту картину. Некоторые жанры поднимаются немного выше, другие спускаются, но в целом топ-10 остаётся тем же самым.\n",
    "\n",
    "Таким образом, вторая гипотеза подтвердилась лишь частично:\n",
    "* Пользователи слушают похожую музыку в начале недели и в конце.\n",
    "* Разница между Москвой и Петербургом не слишком выражена. В Москве чаще слушают русскую популярную музыку, в Петербурге — джаз.\n",
    "\n",
    "Однако пропуски в данных ставят под сомнение этот результат. В Москве их так много, что рейтинг топ-10 мог бы выглядеть иначе, если бы не утерянные  данные о жанрах."
   ]
  },
  {
   "cell_type": "markdown",
   "metadata": {
    "id": "JolODAqr_Zcu"
   },
   "source": [
    "### Жанровые предпочтения в Москве и Петербурге\n",
    "\n",
    "Гипотеза: Петербург — столица рэпа, музыку этого жанра там слушают чаще, чем в Москве.  А Москва — город контрастов, в котором, тем не менее, преобладает поп-музыка."
   ]
  },
  {
   "cell_type": "markdown",
   "metadata": {
    "id": "DlegSvaT_Zcu"
   },
   "source": [
    "Сгруппируйте таблицу `moscow_general` по жанру и посчитайте прослушивания треков каждого жанра методом `count()`. Затем отсортируйте результат в порядке убывания и сохраните его в таблице `moscow_genres`."
   ]
  },
  {
   "cell_type": "code",
   "execution_count": 39,
   "metadata": {
    "id": "r19lIPke_Zcu"
   },
   "outputs": [],
   "source": [
    "moscow_genres = moscow_general.groupby('genre')['genre'].count().sort_values(ascending=False)\n",
    "\n",
    "\n",
    "# одной строкой: группировка таблицы moscow_general по столбцу 'genre', \n",
    "# подсчёт числа значений 'genre' в этой группировке методом count(), \n",
    "# сортировка получившегося Series в порядке убывания и сохранение в moscow_genres"
   ]
  },
  {
   "cell_type": "markdown",
   "metadata": {
    "id": "6kMuomxTiIr8"
   },
   "source": [
    "Выведите на экран первые десять строк `moscow_genres`:"
   ]
  },
  {
   "cell_type": "code",
   "execution_count": 40,
   "metadata": {
    "id": "WhCSooF8_Zcv"
   },
   "outputs": [
    {
     "data": {
      "text/plain": [
       "genre\n",
       "pop            5892\n",
       "dance          4435\n",
       "rock           3965\n",
       "electronic     3786\n",
       "hiphop         2096\n",
       "classical      1616\n",
       "world          1432\n",
       "alternative    1379\n",
       "ruspop         1372\n",
       "rusrap         1161\n",
       "Name: genre, dtype: int64"
      ]
     },
     "execution_count": 40,
     "metadata": {},
     "output_type": "execute_result"
    }
   ],
   "source": [
    "moscow_genres.head(10) # просмотр первых 10 строк moscow_genres"
   ]
  },
  {
   "cell_type": "markdown",
   "metadata": {
    "id": "cnPG2vnN_Zcv"
   },
   "source": [
    "Теперь повторите то же и для Петербурга.\n",
    "\n",
    "Сгруппируйте таблицу `spb_general` по жанру. Посчитайте прослушивания треков каждого жанра. Результат отсортируйте в порядке убывания и сохраните в таблице `spb_genres`:\n"
   ]
  },
  {
   "cell_type": "code",
   "execution_count": 41,
   "metadata": {
    "id": "gluLIpE7_Zcv"
   },
   "outputs": [],
   "source": [
    "spb_genres = spb_general.groupby('genre')['genre'].count().sort_values(ascending=False)\n",
    "# одной строкой: группировка таблицы spb_general по столбцу 'genre', \n",
    "# подсчёт числа значений 'genre' в этой группировке методом count(), \n",
    "# сортировка получившегося Series в порядке убывания и сохранение в spb_genres"
   ]
  },
  {
   "cell_type": "markdown",
   "metadata": {
    "id": "5Doha_ODgyQ8"
   },
   "source": [
    "Выведите на экран первые десять строк `spb_genres`:"
   ]
  },
  {
   "cell_type": "code",
   "execution_count": 42,
   "metadata": {
    "id": "uaGJHjVU_Zcv"
   },
   "outputs": [
    {
     "data": {
      "text/plain": [
       "genre\n",
       "pop            2431\n",
       "dance          1932\n",
       "rock           1879\n",
       "electronic     1736\n",
       "hiphop          960\n",
       "alternative     649\n",
       "classical       646\n",
       "rusrap          564\n",
       "ruspop          538\n",
       "world           515\n",
       "Name: genre, dtype: int64"
      ]
     },
     "execution_count": 42,
     "metadata": {},
     "output_type": "execute_result"
    }
   ],
   "source": [
    "spb_genres.head(10) # просмотр первых 10 строк spb_genres"
   ]
  },
  {
   "cell_type": "markdown",
   "metadata": {
    "id": "RY51YJYu_Zcv"
   },
   "source": [
    "**Выводы**"
   ]
  },
  {
   "cell_type": "markdown",
   "metadata": {
    "id": "nVhnJEm__Zcv"
   },
   "source": [
    "Гипотеза частично подтвердилась:\n",
    "* Поп-музыка — самый популярный жанр в Москве, как и предполагала гипотеза. Более того, в топ-10 жанров встречается близкий жанр — русская популярная музыка.\n",
    "* Вопреки ожиданиям, рэп одинаково популярен в Москве и Петербурге. \n"
   ]
  },
  {
   "cell_type": "markdown",
   "metadata": {
    "id": "ykKQ0N65_Zcv"
   },
   "source": [
    "## Итоги исследования"
   ]
  },
  {
   "cell_type": "markdown",
   "metadata": {
    "id": "tjUwbHb3_Zcv"
   },
   "source": [
    "Вы проверили три гипотезы и установили:\n",
    "\n",
    "1. День недели по-разному влияет на активность пользователей в Москве и Петербурге. \n",
    "\n",
    "Первая гипотеза полностью подтвердилась.\n",
    "\n",
    "2. Музыкальные предпочтения не сильно меняются в течение недели — будь то Москва или Петербург. Небольшие различия заметны в начале недели, по понедельникам:\n",
    "* в Москве слушают музыку жанра “world”,\n",
    "* в Петербурге — джаз и классику.\n",
    "\n",
    "Таким образом, вторая гипотеза подтвердилась лишь отчасти. Этот результат мог оказаться иным, если бы не пропуски в данных.\n",
    "\n",
    "3. Во вкусах пользователей Москвы и Петербурга больше общего чем различий. Вопреки ожиданиям, предпочтения жанров в Петербурге напоминают московские.\n",
    "\n",
    "Третья гипотеза не подтвердилась. Если различия в предпочтениях и существуют, на основной массе пользователей они незаметны.\n",
    "\n",
    "**На практике исследования содержат проверки статистических гипотез.**\n",
    "Из данных одного сервиса не всегда можно сделать вывод о всех жителях города.\n",
    "Проверки статистических гипотез покажут, насколько они достоверны, исходя из имеющихся данных. \n",
    "С методами проверок гипотез вы ещё познакомитесь в следующих темах."
   ]
  },
  {
   "cell_type": "code",
   "execution_count": 45,
   "metadata": {},
   "outputs": [],
   "source": []
  },
  {
   "cell_type": "code",
   "execution_count": null,
   "metadata": {},
   "outputs": [],
   "source": []
  }
 ],
 "metadata": {
  "ExecuteTimeLog": [
   {
    "duration": 578,
    "start_time": "2021-11-24T19:29:46.170Z"
   },
   {
    "duration": 172,
    "start_time": "2021-11-24T19:32:57.640Z"
   },
   {
    "duration": 156,
    "start_time": "2021-11-24T19:33:58.040Z"
   },
   {
    "duration": 10,
    "start_time": "2021-11-24T19:35:35.362Z"
   },
   {
    "duration": 44,
    "start_time": "2021-11-24T19:36:09.866Z"
   },
   {
    "duration": 4,
    "start_time": "2021-11-24T19:49:36.860Z"
   },
   {
    "duration": 17,
    "start_time": "2021-11-24T19:52:30.634Z"
   },
   {
    "duration": 17,
    "start_time": "2021-11-24T19:52:44.296Z"
   },
   {
    "duration": 320,
    "start_time": "2021-11-24T19:53:00.178Z"
   },
   {
    "duration": 6,
    "start_time": "2021-11-24T19:54:16.734Z"
   },
   {
    "duration": 4,
    "start_time": "2021-11-24T19:54:58.974Z"
   },
   {
    "duration": 11,
    "start_time": "2021-11-24T19:55:14.852Z"
   },
   {
    "duration": 4,
    "start_time": "2021-11-24T19:55:18.621Z"
   },
   {
    "duration": 8,
    "start_time": "2021-11-24T19:56:35.742Z"
   },
   {
    "duration": 250,
    "start_time": "2021-11-24T19:57:07.829Z"
   },
   {
    "duration": 24,
    "start_time": "2021-11-24T19:57:20.025Z"
   },
   {
    "duration": 254,
    "start_time": "2021-11-24T20:09:18.445Z"
   },
   {
    "duration": 96,
    "start_time": "2021-11-24T20:10:21.417Z"
   },
   {
    "duration": 532,
    "start_time": "2021-11-24T20:11:33.541Z"
   },
   {
    "duration": 268,
    "start_time": "2021-11-24T20:18:12.917Z"
   },
   {
    "duration": 266,
    "start_time": "2021-11-24T20:20:52.823Z"
   },
   {
    "duration": 563,
    "start_time": "2021-11-24T20:23:48.461Z"
   },
   {
    "duration": 137,
    "start_time": "2021-11-24T20:23:49.026Z"
   },
   {
    "duration": 10,
    "start_time": "2021-11-24T20:23:49.165Z"
   },
   {
    "duration": 26,
    "start_time": "2021-11-24T20:23:49.177Z"
   },
   {
    "duration": 5,
    "start_time": "2021-11-24T20:23:49.205Z"
   },
   {
    "duration": 48,
    "start_time": "2021-11-24T20:23:49.212Z"
   },
   {
    "duration": 7,
    "start_time": "2021-11-24T20:23:49.261Z"
   },
   {
    "duration": 20,
    "start_time": "2021-11-24T20:23:49.270Z"
   },
   {
    "duration": 316,
    "start_time": "2021-11-24T20:23:49.292Z"
   },
   {
    "duration": 925,
    "start_time": "2021-11-24T20:23:48.685Z"
   },
   {
    "duration": 923,
    "start_time": "2021-11-24T20:23:48.688Z"
   },
   {
    "duration": 922,
    "start_time": "2021-11-24T20:23:48.690Z"
   },
   {
    "duration": 919,
    "start_time": "2021-11-24T20:23:48.693Z"
   },
   {
    "duration": 917,
    "start_time": "2021-11-24T20:23:48.696Z"
   },
   {
    "duration": 914,
    "start_time": "2021-11-24T20:23:48.700Z"
   },
   {
    "duration": 913,
    "start_time": "2021-11-24T20:23:48.702Z"
   },
   {
    "duration": 911,
    "start_time": "2021-11-24T20:23:48.705Z"
   },
   {
    "duration": 909,
    "start_time": "2021-11-24T20:23:48.708Z"
   },
   {
    "duration": 907,
    "start_time": "2021-11-24T20:23:48.710Z"
   },
   {
    "duration": 905,
    "start_time": "2021-11-24T20:23:48.713Z"
   },
   {
    "duration": 904,
    "start_time": "2021-11-24T20:23:48.715Z"
   },
   {
    "duration": 897,
    "start_time": "2021-11-24T20:23:48.723Z"
   },
   {
    "duration": 895,
    "start_time": "2021-11-24T20:23:48.726Z"
   },
   {
    "duration": 894,
    "start_time": "2021-11-24T20:23:48.728Z"
   },
   {
    "duration": 892,
    "start_time": "2021-11-24T20:23:48.731Z"
   },
   {
    "duration": 890,
    "start_time": "2021-11-24T20:23:48.734Z"
   },
   {
    "duration": 888,
    "start_time": "2021-11-24T20:23:48.737Z"
   },
   {
    "duration": 887,
    "start_time": "2021-11-24T20:23:48.739Z"
   },
   {
    "duration": 885,
    "start_time": "2021-11-24T20:23:48.742Z"
   },
   {
    "duration": 884,
    "start_time": "2021-11-24T20:23:48.744Z"
   },
   {
    "duration": 881,
    "start_time": "2021-11-24T20:23:48.747Z"
   },
   {
    "duration": 880,
    "start_time": "2021-11-24T20:23:48.749Z"
   },
   {
    "duration": 874,
    "start_time": "2021-11-24T20:23:48.756Z"
   },
   {
    "duration": 872,
    "start_time": "2021-11-24T20:23:48.759Z"
   },
   {
    "duration": 870,
    "start_time": "2021-11-24T20:23:48.762Z"
   },
   {
    "duration": 867,
    "start_time": "2021-11-24T20:23:48.765Z"
   },
   {
    "duration": 866,
    "start_time": "2021-11-24T20:23:48.767Z"
   },
   {
    "duration": 864,
    "start_time": "2021-11-24T20:23:48.770Z"
   },
   {
    "duration": 265,
    "start_time": "2021-11-24T20:24:05.569Z"
   },
   {
    "duration": 16,
    "start_time": "2021-11-24T20:25:16.603Z"
   },
   {
    "duration": 22,
    "start_time": "2021-11-24T20:26:06.524Z"
   },
   {
    "duration": 55,
    "start_time": "2021-11-24T20:56:05.480Z"
   },
   {
    "duration": 52,
    "start_time": "2021-11-24T20:56:16.184Z"
   },
   {
    "duration": 68,
    "start_time": "2021-11-24T20:58:45.403Z"
   },
   {
    "duration": 91,
    "start_time": "2021-11-24T20:58:55.767Z"
   },
   {
    "duration": 51,
    "start_time": "2021-11-24T20:59:05.685Z"
   },
   {
    "duration": 289,
    "start_time": "2021-11-24T21:05:19.302Z"
   },
   {
    "duration": 301,
    "start_time": "2021-11-24T21:05:32.277Z"
   },
   {
    "duration": 284,
    "start_time": "2021-11-24T21:05:58.411Z"
   },
   {
    "duration": 396,
    "start_time": "2021-11-24T21:09:12.465Z"
   },
   {
    "duration": 301,
    "start_time": "2021-11-24T21:09:35.789Z"
   },
   {
    "duration": 333,
    "start_time": "2021-11-24T21:13:26.685Z"
   },
   {
    "duration": 7721,
    "start_time": "2021-11-24T21:16:07.540Z"
   },
   {
    "duration": 6,
    "start_time": "2021-11-24T21:18:53.771Z"
   },
   {
    "duration": 633,
    "start_time": "2021-11-24T21:25:28.682Z"
   },
   {
    "duration": 39,
    "start_time": "2021-11-24T21:25:36.973Z"
   },
   {
    "duration": 93,
    "start_time": "2021-11-24T22:03:52.848Z"
   },
   {
    "duration": 86,
    "start_time": "2021-11-24T22:04:31.209Z"
   },
   {
    "duration": 96,
    "start_time": "2021-11-24T22:04:38.201Z"
   },
   {
    "duration": 3,
    "start_time": "2021-11-24T22:05:30.790Z"
   },
   {
    "duration": 580,
    "start_time": "2021-11-24T22:10:04.011Z"
   },
   {
    "duration": 6751,
    "start_time": "2021-11-24T22:10:51.276Z"
   },
   {
    "duration": 536,
    "start_time": "2021-11-24T22:17:45.920Z"
   },
   {
    "duration": 349,
    "start_time": "2021-11-24T22:19:27.244Z"
   },
   {
    "duration": 510,
    "start_time": "2021-11-24T22:19:36.235Z"
   },
   {
    "duration": 539,
    "start_time": "2021-11-24T22:23:40.817Z"
   },
   {
    "duration": 528,
    "start_time": "2021-11-24T22:30:21.529Z"
   },
   {
    "duration": 506,
    "start_time": "2021-11-24T22:39:03.419Z"
   },
   {
    "duration": 15,
    "start_time": "2021-11-24T22:42:34.959Z"
   },
   {
    "duration": 18,
    "start_time": "2021-11-24T22:46:28.038Z"
   },
   {
    "duration": 258,
    "start_time": "2021-11-24T22:47:28.754Z"
   },
   {
    "duration": 40,
    "start_time": "2021-11-24T22:48:13.601Z"
   },
   {
    "duration": 284,
    "start_time": "2021-11-24T22:48:33.797Z"
   },
   {
    "duration": 264,
    "start_time": "2021-11-24T22:48:40.086Z"
   },
   {
    "duration": 38,
    "start_time": "2021-11-24T22:49:33.411Z"
   },
   {
    "duration": 14,
    "start_time": "2021-11-24T22:50:20.394Z"
   },
   {
    "duration": 41,
    "start_time": "2021-11-24T22:50:27.073Z"
   },
   {
    "duration": 93,
    "start_time": "2021-11-25T10:10:33.706Z"
   },
   {
    "duration": 251,
    "start_time": "2021-11-25T10:10:45.750Z"
   },
   {
    "duration": 596,
    "start_time": "2021-11-25T10:11:04.809Z"
   },
   {
    "duration": 577,
    "start_time": "2021-11-25T10:11:45.878Z"
   },
   {
    "duration": 137,
    "start_time": "2021-11-25T10:11:46.457Z"
   },
   {
    "duration": 9,
    "start_time": "2021-11-25T10:11:46.596Z"
   },
   {
    "duration": 23,
    "start_time": "2021-11-25T10:11:46.607Z"
   },
   {
    "duration": 5,
    "start_time": "2021-11-25T10:11:46.632Z"
   },
   {
    "duration": 18,
    "start_time": "2021-11-25T10:11:46.638Z"
   },
   {
    "duration": 31,
    "start_time": "2021-11-25T10:11:46.658Z"
   },
   {
    "duration": 20,
    "start_time": "2021-11-25T10:11:46.692Z"
   },
   {
    "duration": 17,
    "start_time": "2021-11-25T10:11:46.714Z"
   },
   {
    "duration": 22,
    "start_time": "2021-11-25T10:11:46.732Z"
   },
   {
    "duration": 70,
    "start_time": "2021-11-25T10:11:46.755Z"
   },
   {
    "duration": 71,
    "start_time": "2021-11-25T10:11:46.827Z"
   },
   {
    "duration": 46,
    "start_time": "2021-11-25T10:11:46.899Z"
   },
   {
    "duration": 54,
    "start_time": "2021-11-25T10:11:46.947Z"
   },
   {
    "duration": 3,
    "start_time": "2021-11-25T10:11:47.003Z"
   },
   {
    "duration": 24,
    "start_time": "2021-11-25T10:11:47.007Z"
   },
   {
    "duration": 40,
    "start_time": "2021-11-25T10:11:47.033Z"
   },
   {
    "duration": 33,
    "start_time": "2021-11-25T10:11:47.074Z"
   },
   {
    "duration": 2,
    "start_time": "2021-11-25T10:11:47.108Z"
   },
   {
    "duration": 4,
    "start_time": "2021-11-25T10:11:47.112Z"
   },
   {
    "duration": 8,
    "start_time": "2021-11-25T10:11:47.118Z"
   },
   {
    "duration": 6,
    "start_time": "2021-11-25T10:11:47.127Z"
   },
   {
    "duration": 3,
    "start_time": "2021-11-25T10:11:47.136Z"
   },
   {
    "duration": 6,
    "start_time": "2021-11-25T10:11:47.141Z"
   },
   {
    "duration": 6,
    "start_time": "2021-11-25T10:11:47.148Z"
   },
   {
    "duration": 15,
    "start_time": "2021-11-25T10:11:47.155Z"
   },
   {
    "duration": 5,
    "start_time": "2021-11-25T10:11:47.171Z"
   },
   {
    "duration": 7,
    "start_time": "2021-11-25T10:11:47.177Z"
   },
   {
    "duration": 5,
    "start_time": "2021-11-25T10:11:47.187Z"
   },
   {
    "duration": 9,
    "start_time": "2021-11-25T10:11:47.194Z"
   },
   {
    "duration": 8,
    "start_time": "2021-11-25T10:11:47.204Z"
   },
   {
    "duration": 6,
    "start_time": "2021-11-25T10:11:47.213Z"
   },
   {
    "duration": 10,
    "start_time": "2021-11-25T10:11:47.221Z"
   },
   {
    "duration": 7,
    "start_time": "2021-11-25T10:11:47.233Z"
   },
   {
    "duration": 5,
    "start_time": "2021-11-25T10:11:47.242Z"
   },
   {
    "duration": 5,
    "start_time": "2021-11-25T10:11:47.248Z"
   },
   {
    "duration": 5,
    "start_time": "2021-11-25T10:11:47.255Z"
   },
   {
    "duration": 6,
    "start_time": "2021-11-25T10:11:47.261Z"
   },
   {
    "duration": 29,
    "start_time": "2021-11-25T10:15:09.279Z"
   },
   {
    "duration": 3,
    "start_time": "2021-11-25T10:31:52.866Z"
   },
   {
    "duration": 76,
    "start_time": "2021-11-25T10:35:40.797Z"
   },
   {
    "duration": 3,
    "start_time": "2021-11-25T10:35:48.877Z"
   },
   {
    "duration": 3330,
    "start_time": "2021-11-25T10:42:09.900Z"
   },
   {
    "duration": 4025,
    "start_time": "2021-11-25T10:43:02.651Z"
   },
   {
    "duration": 3280,
    "start_time": "2021-11-25T10:43:41.893Z"
   },
   {
    "duration": 553,
    "start_time": "2021-11-25T10:45:03.090Z"
   },
   {
    "duration": 131,
    "start_time": "2021-11-25T10:45:03.644Z"
   },
   {
    "duration": 11,
    "start_time": "2021-11-25T10:45:03.777Z"
   },
   {
    "duration": 22,
    "start_time": "2021-11-25T10:45:03.790Z"
   },
   {
    "duration": 8,
    "start_time": "2021-11-25T10:45:03.813Z"
   },
   {
    "duration": 27,
    "start_time": "2021-11-25T10:45:03.822Z"
   },
   {
    "duration": 8,
    "start_time": "2021-11-25T10:45:03.850Z"
   },
   {
    "duration": 32,
    "start_time": "2021-11-25T10:45:03.860Z"
   },
   {
    "duration": 20,
    "start_time": "2021-11-25T10:45:03.894Z"
   },
   {
    "duration": 19,
    "start_time": "2021-11-25T10:45:03.916Z"
   },
   {
    "duration": 61,
    "start_time": "2021-11-25T10:45:03.937Z"
   },
   {
    "duration": 55,
    "start_time": "2021-11-25T10:45:03.999Z"
   },
   {
    "duration": 57,
    "start_time": "2021-11-25T10:45:04.055Z"
   },
   {
    "duration": 36,
    "start_time": "2021-11-25T10:45:04.114Z"
   },
   {
    "duration": 21,
    "start_time": "2021-11-25T10:45:04.152Z"
   },
   {
    "duration": 32,
    "start_time": "2021-11-25T10:45:04.174Z"
   },
   {
    "duration": 60,
    "start_time": "2021-11-25T10:45:04.208Z"
   },
   {
    "duration": 30,
    "start_time": "2021-11-25T10:45:04.270Z"
   },
   {
    "duration": 25,
    "start_time": "2021-11-25T10:45:04.302Z"
   },
   {
    "duration": 2,
    "start_time": "2021-11-25T10:45:04.329Z"
   },
   {
    "duration": 546,
    "start_time": "2021-11-25T10:45:04.333Z"
   },
   {
    "duration": -34,
    "start_time": "2021-11-25T10:45:04.915Z"
   },
   {
    "duration": -40,
    "start_time": "2021-11-25T10:45:04.922Z"
   },
   {
    "duration": -42,
    "start_time": "2021-11-25T10:45:04.925Z"
   },
   {
    "duration": -44,
    "start_time": "2021-11-25T10:45:04.928Z"
   },
   {
    "duration": -45,
    "start_time": "2021-11-25T10:45:04.930Z"
   },
   {
    "duration": -47,
    "start_time": "2021-11-25T10:45:04.933Z"
   },
   {
    "duration": -48,
    "start_time": "2021-11-25T10:45:04.935Z"
   },
   {
    "duration": -51,
    "start_time": "2021-11-25T10:45:04.939Z"
   },
   {
    "duration": -55,
    "start_time": "2021-11-25T10:45:04.943Z"
   },
   {
    "duration": -56,
    "start_time": "2021-11-25T10:45:04.945Z"
   },
   {
    "duration": -57,
    "start_time": "2021-11-25T10:45:04.947Z"
   },
   {
    "duration": -59,
    "start_time": "2021-11-25T10:45:04.950Z"
   },
   {
    "duration": -60,
    "start_time": "2021-11-25T10:45:04.952Z"
   },
   {
    "duration": -62,
    "start_time": "2021-11-25T10:45:04.955Z"
   },
   {
    "duration": -65,
    "start_time": "2021-11-25T10:45:04.958Z"
   },
   {
    "duration": -67,
    "start_time": "2021-11-25T10:45:04.961Z"
   },
   {
    "duration": -67,
    "start_time": "2021-11-25T10:45:04.963Z"
   },
   {
    "duration": 468,
    "start_time": "2021-11-25T10:45:17.102Z"
   },
   {
    "duration": 570,
    "start_time": "2021-11-25T10:47:55.661Z"
   },
   {
    "duration": 3,
    "start_time": "2021-11-25T10:48:09.400Z"
   },
   {
    "duration": 17,
    "start_time": "2021-11-25T10:48:13.767Z"
   },
   {
    "duration": 14,
    "start_time": "2021-11-25T10:48:23.236Z"
   },
   {
    "duration": 577,
    "start_time": "2021-11-25T10:48:58.561Z"
   },
   {
    "duration": 134,
    "start_time": "2021-11-25T10:48:59.140Z"
   },
   {
    "duration": 8,
    "start_time": "2021-11-25T10:48:59.276Z"
   },
   {
    "duration": 24,
    "start_time": "2021-11-25T10:48:59.285Z"
   },
   {
    "duration": 3,
    "start_time": "2021-11-25T10:48:59.311Z"
   },
   {
    "duration": 18,
    "start_time": "2021-11-25T10:48:59.315Z"
   },
   {
    "duration": 4,
    "start_time": "2021-11-25T10:48:59.334Z"
   },
   {
    "duration": 20,
    "start_time": "2021-11-25T10:48:59.340Z"
   },
   {
    "duration": 36,
    "start_time": "2021-11-25T10:48:59.362Z"
   },
   {
    "duration": 19,
    "start_time": "2021-11-25T10:48:59.399Z"
   },
   {
    "duration": 53,
    "start_time": "2021-11-25T10:48:59.419Z"
   },
   {
    "duration": 76,
    "start_time": "2021-11-25T10:48:59.474Z"
   },
   {
    "duration": 89,
    "start_time": "2021-11-25T10:48:59.551Z"
   },
   {
    "duration": 39,
    "start_time": "2021-11-25T10:48:59.642Z"
   },
   {
    "duration": 2,
    "start_time": "2021-11-25T10:48:59.688Z"
   },
   {
    "duration": 15,
    "start_time": "2021-11-25T10:48:59.692Z"
   },
   {
    "duration": 36,
    "start_time": "2021-11-25T10:48:59.709Z"
   },
   {
    "duration": 43,
    "start_time": "2021-11-25T10:48:59.747Z"
   },
   {
    "duration": 27,
    "start_time": "2021-11-25T10:48:59.792Z"
   },
   {
    "duration": 2,
    "start_time": "2021-11-25T10:48:59.821Z"
   },
   {
    "duration": 16,
    "start_time": "2021-11-25T10:48:59.825Z"
   },
   {
    "duration": 1,
    "start_time": "2021-11-25T10:48:59.843Z"
   },
   {
    "duration": 3,
    "start_time": "2021-11-25T10:48:59.847Z"
   },
   {
    "duration": 7,
    "start_time": "2021-11-25T10:48:59.852Z"
   },
   {
    "duration": 5,
    "start_time": "2021-11-25T10:48:59.860Z"
   },
   {
    "duration": 22,
    "start_time": "2021-11-25T10:48:59.866Z"
   },
   {
    "duration": 4,
    "start_time": "2021-11-25T10:48:59.890Z"
   },
   {
    "duration": 5,
    "start_time": "2021-11-25T10:48:59.895Z"
   },
   {
    "duration": 7,
    "start_time": "2021-11-25T10:48:59.902Z"
   },
   {
    "duration": 4,
    "start_time": "2021-11-25T10:48:59.911Z"
   },
   {
    "duration": 7,
    "start_time": "2021-11-25T10:48:59.916Z"
   },
   {
    "duration": 4,
    "start_time": "2021-11-25T10:48:59.925Z"
   },
   {
    "duration": 6,
    "start_time": "2021-11-25T10:48:59.931Z"
   },
   {
    "duration": 6,
    "start_time": "2021-11-25T10:48:59.938Z"
   },
   {
    "duration": 5,
    "start_time": "2021-11-25T10:48:59.946Z"
   },
   {
    "duration": 4,
    "start_time": "2021-11-25T10:48:59.952Z"
   },
   {
    "duration": 4,
    "start_time": "2021-11-25T10:48:59.958Z"
   },
   {
    "duration": 4,
    "start_time": "2021-11-25T10:48:59.964Z"
   },
   {
    "duration": 14,
    "start_time": "2021-11-25T10:49:10.109Z"
   },
   {
    "duration": 30,
    "start_time": "2021-11-25T10:49:44.161Z"
   },
   {
    "duration": 15,
    "start_time": "2021-11-25T10:49:56.220Z"
   },
   {
    "duration": 13,
    "start_time": "2021-11-25T10:51:02.360Z"
   },
   {
    "duration": 13,
    "start_time": "2021-11-25T10:52:00.545Z"
   },
   {
    "duration": 13,
    "start_time": "2021-11-25T10:52:10.340Z"
   },
   {
    "duration": 13,
    "start_time": "2021-11-25T10:52:47.791Z"
   },
   {
    "duration": 15,
    "start_time": "2021-11-25T10:53:22.699Z"
   },
   {
    "duration": 9,
    "start_time": "2021-11-25T10:54:02.466Z"
   },
   {
    "duration": 15,
    "start_time": "2021-11-25T10:54:11.524Z"
   },
   {
    "duration": 278,
    "start_time": "2021-11-25T11:12:34.018Z"
   },
   {
    "duration": 224,
    "start_time": "2021-11-25T11:15:22.635Z"
   },
   {
    "duration": 215,
    "start_time": "2021-11-25T11:15:52.840Z"
   },
   {
    "duration": 229,
    "start_time": "2021-11-25T11:16:20.868Z"
   },
   {
    "duration": 235,
    "start_time": "2021-11-25T11:16:47.178Z"
   },
   {
    "duration": 582,
    "start_time": "2021-11-25T11:17:20.360Z"
   },
   {
    "duration": 133,
    "start_time": "2021-11-25T11:17:20.944Z"
   },
   {
    "duration": 9,
    "start_time": "2021-11-25T11:17:21.079Z"
   },
   {
    "duration": 43,
    "start_time": "2021-11-25T11:17:21.090Z"
   },
   {
    "duration": 26,
    "start_time": "2021-11-25T11:17:21.135Z"
   },
   {
    "duration": 38,
    "start_time": "2021-11-25T11:17:21.162Z"
   },
   {
    "duration": 23,
    "start_time": "2021-11-25T11:17:21.202Z"
   },
   {
    "duration": 26,
    "start_time": "2021-11-25T11:17:21.227Z"
   },
   {
    "duration": 38,
    "start_time": "2021-11-25T11:17:21.254Z"
   },
   {
    "duration": 28,
    "start_time": "2021-11-25T11:17:21.294Z"
   },
   {
    "duration": 78,
    "start_time": "2021-11-25T11:17:21.323Z"
   },
   {
    "duration": 57,
    "start_time": "2021-11-25T11:17:21.402Z"
   },
   {
    "duration": 57,
    "start_time": "2021-11-25T11:17:21.461Z"
   },
   {
    "duration": 38,
    "start_time": "2021-11-25T11:17:21.519Z"
   },
   {
    "duration": 6,
    "start_time": "2021-11-25T11:17:21.559Z"
   },
   {
    "duration": 31,
    "start_time": "2021-11-25T11:17:21.566Z"
   },
   {
    "duration": 37,
    "start_time": "2021-11-25T11:17:21.599Z"
   },
   {
    "duration": 29,
    "start_time": "2021-11-25T11:17:21.638Z"
   },
   {
    "duration": 48,
    "start_time": "2021-11-25T11:17:21.669Z"
   },
   {
    "duration": 3,
    "start_time": "2021-11-25T11:17:21.718Z"
   },
   {
    "duration": 18,
    "start_time": "2021-11-25T11:17:21.722Z"
   },
   {
    "duration": 14,
    "start_time": "2021-11-25T11:17:21.741Z"
   },
   {
    "duration": 40,
    "start_time": "2021-11-25T11:17:21.758Z"
   },
   {
    "duration": 11,
    "start_time": "2021-11-25T11:17:21.800Z"
   },
   {
    "duration": 14,
    "start_time": "2021-11-25T11:17:21.813Z"
   },
   {
    "duration": 12,
    "start_time": "2021-11-25T11:17:21.829Z"
   },
   {
    "duration": 274,
    "start_time": "2021-11-25T11:17:21.842Z"
   },
   {
    "duration": 30,
    "start_time": "2021-11-25T11:17:22.088Z"
   },
   {
    "duration": 23,
    "start_time": "2021-11-25T11:17:22.095Z"
   },
   {
    "duration": 19,
    "start_time": "2021-11-25T11:17:22.100Z"
   },
   {
    "duration": 13,
    "start_time": "2021-11-25T11:17:22.107Z"
   },
   {
    "duration": 9,
    "start_time": "2021-11-25T11:17:22.112Z"
   },
   {
    "duration": 4,
    "start_time": "2021-11-25T11:17:22.118Z"
   },
   {
    "duration": -4,
    "start_time": "2021-11-25T11:17:22.126Z"
   },
   {
    "duration": -19,
    "start_time": "2021-11-25T11:17:22.142Z"
   },
   {
    "duration": -47,
    "start_time": "2021-11-25T11:17:22.172Z"
   },
   {
    "duration": -52,
    "start_time": "2021-11-25T11:17:22.178Z"
   },
   {
    "duration": -58,
    "start_time": "2021-11-25T11:17:22.184Z"
   },
   {
    "duration": 248,
    "start_time": "2021-11-25T11:17:52.884Z"
   },
   {
    "duration": 222,
    "start_time": "2021-11-25T11:18:28.119Z"
   },
   {
    "duration": 249,
    "start_time": "2021-11-25T11:28:05.136Z"
   },
   {
    "duration": 224,
    "start_time": "2021-11-25T11:28:23.829Z"
   },
   {
    "duration": 270,
    "start_time": "2021-11-25T11:32:10.055Z"
   },
   {
    "duration": 239,
    "start_time": "2021-11-25T11:32:17.365Z"
   },
   {
    "duration": 243,
    "start_time": "2021-11-25T11:32:42.976Z"
   },
   {
    "duration": 225,
    "start_time": "2021-11-25T11:33:22.575Z"
   },
   {
    "duration": 220,
    "start_time": "2021-11-25T11:33:38.357Z"
   },
   {
    "duration": 257,
    "start_time": "2021-11-25T11:36:23.588Z"
   },
   {
    "duration": 227,
    "start_time": "2021-11-25T11:36:50.389Z"
   },
   {
    "duration": 221,
    "start_time": "2021-11-25T11:38:38.281Z"
   },
   {
    "duration": 78,
    "start_time": "2021-11-25T11:40:50.434Z"
   },
   {
    "duration": 225,
    "start_time": "2021-11-25T11:40:53.654Z"
   },
   {
    "duration": 244,
    "start_time": "2021-11-25T11:41:08.957Z"
   },
   {
    "duration": 222,
    "start_time": "2021-11-25T11:41:21.440Z"
   },
   {
    "duration": 229,
    "start_time": "2021-11-25T11:47:20.204Z"
   },
   {
    "duration": 232,
    "start_time": "2021-11-25T11:48:40.382Z"
   },
   {
    "duration": 256,
    "start_time": "2021-11-25T11:49:07.408Z"
   },
   {
    "duration": 8,
    "start_time": "2021-11-25T11:49:19.345Z"
   },
   {
    "duration": 446,
    "start_time": "2021-11-25T19:44:58.574Z"
   },
   {
    "duration": 786,
    "start_time": "2021-11-25T19:45:24.845Z"
   },
   {
    "duration": 201,
    "start_time": "2021-11-25T19:45:25.633Z"
   },
   {
    "duration": 24,
    "start_time": "2021-11-25T19:45:25.837Z"
   },
   {
    "duration": 35,
    "start_time": "2021-11-25T19:45:25.863Z"
   },
   {
    "duration": 6,
    "start_time": "2021-11-25T19:45:25.901Z"
   },
   {
    "duration": 58,
    "start_time": "2021-11-25T19:45:25.909Z"
   },
   {
    "duration": 11,
    "start_time": "2021-11-25T19:45:25.969Z"
   },
   {
    "duration": 43,
    "start_time": "2021-11-25T19:45:25.984Z"
   },
   {
    "duration": 30,
    "start_time": "2021-11-25T19:45:26.030Z"
   },
   {
    "duration": 31,
    "start_time": "2021-11-25T19:45:26.063Z"
   },
   {
    "duration": 115,
    "start_time": "2021-11-25T19:45:26.097Z"
   },
   {
    "duration": 106,
    "start_time": "2021-11-25T19:45:26.214Z"
   },
   {
    "duration": 87,
    "start_time": "2021-11-25T19:45:26.322Z"
   },
   {
    "duration": 61,
    "start_time": "2021-11-25T19:45:26.412Z"
   },
   {
    "duration": 4,
    "start_time": "2021-11-25T19:45:26.476Z"
   },
   {
    "duration": 25,
    "start_time": "2021-11-25T19:45:26.483Z"
   },
   {
    "duration": 81,
    "start_time": "2021-11-25T19:45:26.511Z"
   },
   {
    "duration": 45,
    "start_time": "2021-11-25T19:45:26.594Z"
   },
   {
    "duration": 58,
    "start_time": "2021-11-25T19:45:26.641Z"
   },
   {
    "duration": 5,
    "start_time": "2021-11-25T19:45:26.701Z"
   },
   {
    "duration": 24,
    "start_time": "2021-11-25T19:45:26.708Z"
   },
   {
    "duration": 40,
    "start_time": "2021-11-25T19:45:26.734Z"
   },
   {
    "duration": 19,
    "start_time": "2021-11-25T19:45:26.778Z"
   },
   {
    "duration": 18,
    "start_time": "2021-11-25T19:45:26.799Z"
   },
   {
    "duration": 58,
    "start_time": "2021-11-25T19:45:26.819Z"
   },
   {
    "duration": 22,
    "start_time": "2021-11-25T19:45:26.880Z"
   },
   {
    "duration": 13,
    "start_time": "2021-11-25T19:45:26.905Z"
   },
   {
    "duration": 48,
    "start_time": "2021-11-25T19:45:26.920Z"
   },
   {
    "duration": 3,
    "start_time": "2021-11-25T19:45:26.970Z"
   },
   {
    "duration": 8,
    "start_time": "2021-11-25T19:45:26.975Z"
   },
   {
    "duration": 5,
    "start_time": "2021-11-25T19:45:26.985Z"
   },
   {
    "duration": 10,
    "start_time": "2021-11-25T19:45:26.993Z"
   },
   {
    "duration": 7,
    "start_time": "2021-11-25T19:45:27.005Z"
   },
   {
    "duration": 7,
    "start_time": "2021-11-25T19:45:27.014Z"
   },
   {
    "duration": 38,
    "start_time": "2021-11-25T19:45:27.023Z"
   },
   {
    "duration": 8,
    "start_time": "2021-11-25T19:45:27.064Z"
   },
   {
    "duration": 12,
    "start_time": "2021-11-25T19:45:27.074Z"
   },
   {
    "duration": 10,
    "start_time": "2021-11-25T19:45:27.088Z"
   },
   {
    "duration": 18,
    "start_time": "2021-11-25T19:45:33.757Z"
   },
   {
    "duration": 12,
    "start_time": "2021-11-25T19:46:28.724Z"
   },
   {
    "duration": 6,
    "start_time": "2021-11-25T20:00:17.280Z"
   },
   {
    "duration": 6,
    "start_time": "2021-11-25T20:01:46.486Z"
   },
   {
    "duration": 6,
    "start_time": "2021-11-25T20:01:58.696Z"
   },
   {
    "duration": 129,
    "start_time": "2021-11-25T20:15:20.943Z"
   },
   {
    "duration": 6,
    "start_time": "2021-11-25T20:15:29.363Z"
   },
   {
    "duration": 829,
    "start_time": "2021-11-25T20:17:42.678Z"
   },
   {
    "duration": 1014,
    "start_time": "2021-11-25T20:20:48.510Z"
   },
   {
    "duration": 765,
    "start_time": "2021-11-25T20:21:50.592Z"
   },
   {
    "duration": 6,
    "start_time": "2021-11-25T20:23:49.226Z"
   },
   {
    "duration": 25,
    "start_time": "2021-11-25T20:23:52.484Z"
   },
   {
    "duration": 26,
    "start_time": "2021-11-25T20:24:30.977Z"
   },
   {
    "duration": 24,
    "start_time": "2021-11-25T20:24:35.680Z"
   },
   {
    "duration": 29,
    "start_time": "2021-11-25T20:24:56.985Z"
   },
   {
    "duration": 17,
    "start_time": "2021-11-25T20:25:59.814Z"
   },
   {
    "duration": 25,
    "start_time": "2021-11-25T20:27:40.935Z"
   },
   {
    "duration": 21,
    "start_time": "2021-11-25T20:28:23.523Z"
   },
   {
    "duration": 24,
    "start_time": "2021-11-25T20:29:14.301Z"
   },
   {
    "duration": 444,
    "start_time": "2021-11-25T20:36:22.060Z"
   },
   {
    "duration": 121,
    "start_time": "2021-11-25T20:37:00.083Z"
   },
   {
    "duration": 29,
    "start_time": "2021-11-25T20:37:13.414Z"
   },
   {
    "duration": 660,
    "start_time": "2021-11-25T20:39:37.797Z"
   },
   {
    "duration": 390,
    "start_time": "2021-11-25T20:40:01.762Z"
   },
   {
    "duration": 11,
    "start_time": "2021-11-25T20:41:29.707Z"
   },
   {
    "duration": 11,
    "start_time": "2021-11-25T20:41:34.972Z"
   },
   {
    "duration": 11,
    "start_time": "2021-11-25T20:41:50.530Z"
   },
   {
    "duration": 11,
    "start_time": "2021-11-25T20:43:04.560Z"
   },
   {
    "duration": 7,
    "start_time": "2021-11-25T20:43:31.201Z"
   },
   {
    "duration": 429,
    "start_time": "2021-11-25T20:51:17.814Z"
   },
   {
    "duration": 8,
    "start_time": "2021-11-25T20:51:42.115Z"
   },
   {
    "duration": 7,
    "start_time": "2021-11-25T20:53:24.995Z"
   },
   {
    "duration": 707,
    "start_time": "2021-11-26T07:30:12.535Z"
   },
   {
    "duration": 164,
    "start_time": "2021-11-26T07:30:13.245Z"
   },
   {
    "duration": 11,
    "start_time": "2021-11-26T07:30:13.411Z"
   },
   {
    "duration": 40,
    "start_time": "2021-11-26T07:30:13.424Z"
   },
   {
    "duration": 4,
    "start_time": "2021-11-26T07:30:13.466Z"
   },
   {
    "duration": 33,
    "start_time": "2021-11-26T07:30:13.472Z"
   },
   {
    "duration": 20,
    "start_time": "2021-11-26T07:30:13.507Z"
   },
   {
    "duration": 32,
    "start_time": "2021-11-26T07:30:13.529Z"
   },
   {
    "duration": 21,
    "start_time": "2021-11-26T07:30:13.564Z"
   },
   {
    "duration": 25,
    "start_time": "2021-11-26T07:30:13.588Z"
   },
   {
    "duration": 81,
    "start_time": "2021-11-26T07:30:13.615Z"
   },
   {
    "duration": 89,
    "start_time": "2021-11-26T07:30:13.697Z"
   },
   {
    "duration": 52,
    "start_time": "2021-11-26T07:30:13.788Z"
   },
   {
    "duration": 48,
    "start_time": "2021-11-26T07:30:13.842Z"
   },
   {
    "duration": 2,
    "start_time": "2021-11-26T07:30:13.892Z"
   },
   {
    "duration": 32,
    "start_time": "2021-11-26T07:30:13.896Z"
   },
   {
    "duration": 43,
    "start_time": "2021-11-26T07:30:13.929Z"
   },
   {
    "duration": 31,
    "start_time": "2021-11-26T07:30:13.974Z"
   },
   {
    "duration": 32,
    "start_time": "2021-11-26T07:30:14.006Z"
   },
   {
    "duration": 23,
    "start_time": "2021-11-26T07:30:14.040Z"
   },
   {
    "duration": 20,
    "start_time": "2021-11-26T07:30:14.066Z"
   },
   {
    "duration": 15,
    "start_time": "2021-11-26T07:30:14.088Z"
   },
   {
    "duration": 16,
    "start_time": "2021-11-26T07:30:14.105Z"
   },
   {
    "duration": 44,
    "start_time": "2021-11-26T07:30:14.122Z"
   },
   {
    "duration": 19,
    "start_time": "2021-11-26T07:30:14.168Z"
   },
   {
    "duration": 16,
    "start_time": "2021-11-26T07:30:14.189Z"
   },
   {
    "duration": 8,
    "start_time": "2021-11-26T07:30:14.210Z"
   },
   {
    "duration": 46,
    "start_time": "2021-11-26T07:30:14.220Z"
   },
   {
    "duration": 11,
    "start_time": "2021-11-26T07:30:14.268Z"
   },
   {
    "duration": 8,
    "start_time": "2021-11-26T07:30:14.281Z"
   },
   {
    "duration": 27,
    "start_time": "2021-11-26T07:30:14.290Z"
   },
   {
    "duration": 14,
    "start_time": "2021-11-26T07:30:14.319Z"
   },
   {
    "duration": 41,
    "start_time": "2021-11-26T07:30:14.335Z"
   },
   {
    "duration": 12,
    "start_time": "2021-11-26T07:30:14.378Z"
   },
   {
    "duration": 8,
    "start_time": "2021-11-26T07:30:14.392Z"
   },
   {
    "duration": 4,
    "start_time": "2021-11-26T07:30:14.402Z"
   },
   {
    "duration": 10,
    "start_time": "2021-11-26T07:30:14.408Z"
   },
   {
    "duration": 11,
    "start_time": "2021-11-26T07:30:14.419Z"
   },
   {
    "duration": 18,
    "start_time": "2021-11-26T07:30:50.680Z"
   },
   {
    "duration": 56,
    "start_time": "2021-11-26T07:31:20.065Z"
   },
   {
    "duration": 12,
    "start_time": "2021-11-26T07:32:31.990Z"
   },
   {
    "duration": 69,
    "start_time": "2022-04-27T12:16:52.446Z"
   },
   {
    "duration": 8,
    "start_time": "2022-04-27T12:17:06.407Z"
   },
   {
    "duration": 9,
    "start_time": "2022-04-27T12:17:16.588Z"
   },
   {
    "duration": 500,
    "start_time": "2022-04-27T12:17:30.999Z"
   },
   {
    "duration": 226,
    "start_time": "2022-04-27T12:17:31.502Z"
   },
   {
    "duration": 840,
    "start_time": "2022-04-27T12:17:31.730Z"
   },
   {
    "duration": 20,
    "start_time": "2022-04-27T12:17:32.574Z"
   },
   {
    "duration": 105,
    "start_time": "2022-04-27T12:17:32.597Z"
   },
   {
    "duration": 5,
    "start_time": "2022-04-27T12:17:32.705Z"
   },
   {
    "duration": 24,
    "start_time": "2022-04-27T12:17:32.712Z"
   },
   {
    "duration": 21,
    "start_time": "2022-04-27T12:17:32.738Z"
   },
   {
    "duration": 8,
    "start_time": "2022-04-27T12:17:32.762Z"
   },
   {
    "duration": 34,
    "start_time": "2022-04-27T12:17:32.773Z"
   },
   {
    "duration": 31,
    "start_time": "2022-04-27T12:17:32.811Z"
   },
   {
    "duration": 73,
    "start_time": "2022-04-27T12:17:32.845Z"
   },
   {
    "duration": 198,
    "start_time": "2022-04-27T12:17:32.920Z"
   },
   {
    "duration": 123,
    "start_time": "2022-04-27T12:17:33.121Z"
   },
   {
    "duration": 93,
    "start_time": "2022-04-27T12:17:33.246Z"
   },
   {
    "duration": 100,
    "start_time": "2022-04-27T12:17:33.341Z"
   },
   {
    "duration": 62,
    "start_time": "2022-04-27T12:17:33.443Z"
   },
   {
    "duration": 4,
    "start_time": "2022-04-27T12:17:33.507Z"
   },
   {
    "duration": 38,
    "start_time": "2022-04-27T12:17:33.513Z"
   },
   {
    "duration": 73,
    "start_time": "2022-04-27T12:17:33.553Z"
   },
   {
    "duration": 65,
    "start_time": "2022-04-27T12:17:33.628Z"
   },
   {
    "duration": 18,
    "start_time": "2022-04-27T12:17:33.695Z"
   },
   {
    "duration": 74,
    "start_time": "2022-04-27T12:17:33.715Z"
   },
   {
    "duration": 4,
    "start_time": "2022-04-27T12:17:33.791Z"
   },
   {
    "duration": 25,
    "start_time": "2022-04-27T12:17:33.797Z"
   },
   {
    "duration": 20,
    "start_time": "2022-04-27T12:17:33.824Z"
   },
   {
    "duration": 52,
    "start_time": "2022-04-27T12:17:33.846Z"
   },
   {
    "duration": 20,
    "start_time": "2022-04-27T12:17:33.903Z"
   },
   {
    "duration": 24,
    "start_time": "2022-04-27T12:17:33.925Z"
   },
   {
    "duration": 21,
    "start_time": "2022-04-27T12:17:33.982Z"
   },
   {
    "duration": 13,
    "start_time": "2022-04-27T12:17:34.005Z"
   },
   {
    "duration": 25,
    "start_time": "2022-04-27T12:17:34.020Z"
   },
   {
    "duration": 41,
    "start_time": "2022-04-27T12:17:34.048Z"
   },
   {
    "duration": 8,
    "start_time": "2022-04-27T12:17:34.091Z"
   },
   {
    "duration": 40,
    "start_time": "2022-04-27T12:17:34.102Z"
   },
   {
    "duration": 42,
    "start_time": "2022-04-27T12:17:34.144Z"
   },
   {
    "duration": 30,
    "start_time": "2022-04-27T12:17:34.189Z"
   },
   {
    "duration": 20,
    "start_time": "2022-04-27T12:17:34.222Z"
   },
   {
    "duration": 49,
    "start_time": "2022-04-27T12:17:34.244Z"
   },
   {
    "duration": 8,
    "start_time": "2022-04-27T12:17:34.296Z"
   },
   {
    "duration": 14,
    "start_time": "2022-04-27T12:17:34.306Z"
   },
   {
    "duration": 24,
    "start_time": "2022-04-27T12:17:34.322Z"
   },
   {
    "duration": 597,
    "start_time": "2022-04-27T12:17:48.738Z"
   },
   {
    "duration": 619,
    "start_time": "2022-04-27T12:32:47.217Z"
   },
   {
    "duration": 622,
    "start_time": "2022-04-27T12:34:20.613Z"
   }
  ],
  "colab": {
   "collapsed_sections": [
    "E0vqbgi9ay0H",
    "VUC88oWjTJw2"
   ],
   "name": "yandex_music_project_2021.2.ipynb",
   "provenance": []
  },
  "kernelspec": {
   "display_name": "Python 3 (ipykernel)",
   "language": "python",
   "name": "python3"
  },
  "language_info": {
   "codemirror_mode": {
    "name": "ipython",
    "version": 3
   },
   "file_extension": ".py",
   "mimetype": "text/x-python",
   "name": "python",
   "nbconvert_exporter": "python",
   "pygments_lexer": "ipython3",
   "version": "3.9.5"
  },
  "toc": {
   "base_numbering": 1,
   "nav_menu": {},
   "number_sections": true,
   "sideBar": true,
   "skip_h1_title": true,
   "title_cell": "Table of Contents",
   "title_sidebar": "Contents",
   "toc_cell": false,
   "toc_position": {},
   "toc_section_display": true,
   "toc_window_display": false
  }
 },
 "nbformat": 4,
 "nbformat_minor": 1
}

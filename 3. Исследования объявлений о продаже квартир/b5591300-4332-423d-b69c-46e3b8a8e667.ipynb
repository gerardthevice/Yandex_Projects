{
 "cells": [
  {
   "cell_type": "markdown",
   "metadata": {
    "toc": true
   },
   "source": [
    "<h1>Содержание<span class=\"tocSkip\"></span></h1>\n",
    "<div class=\"toc\"><ul class=\"toc-item\"><li><span><a href=\"#Изучение-данных-из-файла\" data-toc-modified-id=\"Изучение-данных-из-файла-1\"><span class=\"toc-item-num\">1&nbsp;&nbsp;</span>Изучение данных из файла</a></span><ul class=\"toc-item\"><li><span><a href=\"#Вывод\" data-toc-modified-id=\"Вывод-1.1\"><span class=\"toc-item-num\">1.1&nbsp;&nbsp;</span>Вывод</a></span></li></ul></li><li><span><a href=\"#Предобработка-данных\" data-toc-modified-id=\"Предобработка-данных-2\"><span class=\"toc-item-num\">2&nbsp;&nbsp;</span>Предобработка данных</a></span><ul class=\"toc-item\"><li><span><a href=\"#Вывод\" data-toc-modified-id=\"Вывод-2.1\"><span class=\"toc-item-num\">2.1&nbsp;&nbsp;</span>Вывод</a></span></li></ul></li><li><span><a href=\"#Расчёты-и-добавление-результатов-в-таблицу\" data-toc-modified-id=\"Расчёты-и-добавление-результатов-в-таблицу-3\"><span class=\"toc-item-num\">3&nbsp;&nbsp;</span>Расчёты и добавление результатов в таблицу</a></span><ul class=\"toc-item\"><li><span><a href=\"#Вывод\" data-toc-modified-id=\"Вывод-3.1\"><span class=\"toc-item-num\">3.1&nbsp;&nbsp;</span>Вывод</a></span></li></ul></li><li><span><a href=\"#Исследовательский-анализ-данных\" data-toc-modified-id=\"Исследовательский-анализ-данных-4\"><span class=\"toc-item-num\">4&nbsp;&nbsp;</span>Исследовательский анализ данных</a></span><ul class=\"toc-item\"><li><span><a href=\"#Вывод\" data-toc-modified-id=\"Вывод-4.1\"><span class=\"toc-item-num\">4.1&nbsp;&nbsp;</span>Вывод</a></span></li></ul></li><li><span><a href=\"#Общий-вывод\" data-toc-modified-id=\"Общий-вывод-5\"><span class=\"toc-item-num\">5&nbsp;&nbsp;</span>Общий вывод</a></span></li><li><span><a href=\"#Чек-лист-готовности-проекта\" data-toc-modified-id=\"Чек-лист-готовности-проекта-6\"><span class=\"toc-item-num\">6&nbsp;&nbsp;</span>Чек-лист готовности проекта</a></span></li></ul></div>"
   ]
  },
  {
   "cell_type": "markdown",
   "metadata": {},
   "source": [
    "# Исследование объявлений о продаже квартир\n",
    "\n",
    "В вашем распоряжении данные сервиса Яндекс.Недвижимость — архив объявлений о продаже квартир в Санкт-Петербурге и соседних населённых пунктах за несколько лет. Нужно научиться определять рыночную стоимость объектов недвижимости. Ваша задача — установить параметры. Это позволит построить автоматизированную систему: она отследит аномалии и мошенническую деятельность. \n",
    "\n",
    "По каждой квартире на продажу доступны два вида данных. Первые вписаны пользователем, вторые получены автоматически на основе картографических данных. Например, расстояние до центра, аэропорта, ближайшего парка и водоёма. "
   ]
  },
  {
   "cell_type": "markdown",
   "metadata": {},
   "source": [
    "## Изучение данных из файла"
   ]
  },
  {
   "cell_type": "code",
   "execution_count": null,
   "metadata": {},
   "outputs": [],
   "source": []
  },
  {
   "cell_type": "code",
   "execution_count": 1,
   "metadata": {},
   "outputs": [
    {
     "data": {
      "text/html": [
       "<div>\n",
       "<style scoped>\n",
       "    .dataframe tbody tr th:only-of-type {\n",
       "        vertical-align: middle;\n",
       "    }\n",
       "\n",
       "    .dataframe tbody tr th {\n",
       "        vertical-align: top;\n",
       "    }\n",
       "\n",
       "    .dataframe thead th {\n",
       "        text-align: right;\n",
       "    }\n",
       "</style>\n",
       "<table border=\"1\" class=\"dataframe\">\n",
       "  <thead>\n",
       "    <tr style=\"text-align: right;\">\n",
       "      <th></th>\n",
       "      <th>total_images</th>\n",
       "      <th>last_price</th>\n",
       "      <th>total_area</th>\n",
       "      <th>first_day_exposition</th>\n",
       "      <th>rooms</th>\n",
       "      <th>ceiling_height</th>\n",
       "      <th>floors_total</th>\n",
       "      <th>living_area</th>\n",
       "      <th>floor</th>\n",
       "      <th>is_apartment</th>\n",
       "      <th>...</th>\n",
       "      <th>kitchen_area</th>\n",
       "      <th>balcony</th>\n",
       "      <th>locality_name</th>\n",
       "      <th>airports_nearest</th>\n",
       "      <th>cityCenters_nearest</th>\n",
       "      <th>parks_around3000</th>\n",
       "      <th>parks_nearest</th>\n",
       "      <th>ponds_around3000</th>\n",
       "      <th>ponds_nearest</th>\n",
       "      <th>days_exposition</th>\n",
       "    </tr>\n",
       "  </thead>\n",
       "  <tbody>\n",
       "    <tr>\n",
       "      <td>0</td>\n",
       "      <td>20</td>\n",
       "      <td>13000000.0</td>\n",
       "      <td>108.00</td>\n",
       "      <td>2019-03-07T00:00:00</td>\n",
       "      <td>3</td>\n",
       "      <td>2.70</td>\n",
       "      <td>16.0</td>\n",
       "      <td>51.00</td>\n",
       "      <td>8</td>\n",
       "      <td>NaN</td>\n",
       "      <td>...</td>\n",
       "      <td>25.00</td>\n",
       "      <td>NaN</td>\n",
       "      <td>Санкт-Петербург</td>\n",
       "      <td>18863.0</td>\n",
       "      <td>16028.0</td>\n",
       "      <td>1.0</td>\n",
       "      <td>482.0</td>\n",
       "      <td>2.0</td>\n",
       "      <td>755.0</td>\n",
       "      <td>NaN</td>\n",
       "    </tr>\n",
       "    <tr>\n",
       "      <td>1</td>\n",
       "      <td>7</td>\n",
       "      <td>3350000.0</td>\n",
       "      <td>40.40</td>\n",
       "      <td>2018-12-04T00:00:00</td>\n",
       "      <td>1</td>\n",
       "      <td>NaN</td>\n",
       "      <td>11.0</td>\n",
       "      <td>18.60</td>\n",
       "      <td>1</td>\n",
       "      <td>NaN</td>\n",
       "      <td>...</td>\n",
       "      <td>11.00</td>\n",
       "      <td>2.0</td>\n",
       "      <td>посёлок Шушары</td>\n",
       "      <td>12817.0</td>\n",
       "      <td>18603.0</td>\n",
       "      <td>0.0</td>\n",
       "      <td>NaN</td>\n",
       "      <td>0.0</td>\n",
       "      <td>NaN</td>\n",
       "      <td>81.0</td>\n",
       "    </tr>\n",
       "    <tr>\n",
       "      <td>2</td>\n",
       "      <td>10</td>\n",
       "      <td>5196000.0</td>\n",
       "      <td>56.00</td>\n",
       "      <td>2015-08-20T00:00:00</td>\n",
       "      <td>2</td>\n",
       "      <td>NaN</td>\n",
       "      <td>5.0</td>\n",
       "      <td>34.30</td>\n",
       "      <td>4</td>\n",
       "      <td>NaN</td>\n",
       "      <td>...</td>\n",
       "      <td>8.30</td>\n",
       "      <td>0.0</td>\n",
       "      <td>Санкт-Петербург</td>\n",
       "      <td>21741.0</td>\n",
       "      <td>13933.0</td>\n",
       "      <td>1.0</td>\n",
       "      <td>90.0</td>\n",
       "      <td>2.0</td>\n",
       "      <td>574.0</td>\n",
       "      <td>558.0</td>\n",
       "    </tr>\n",
       "    <tr>\n",
       "      <td>3</td>\n",
       "      <td>0</td>\n",
       "      <td>64900000.0</td>\n",
       "      <td>159.00</td>\n",
       "      <td>2015-07-24T00:00:00</td>\n",
       "      <td>3</td>\n",
       "      <td>NaN</td>\n",
       "      <td>14.0</td>\n",
       "      <td>NaN</td>\n",
       "      <td>9</td>\n",
       "      <td>NaN</td>\n",
       "      <td>...</td>\n",
       "      <td>NaN</td>\n",
       "      <td>0.0</td>\n",
       "      <td>Санкт-Петербург</td>\n",
       "      <td>28098.0</td>\n",
       "      <td>6800.0</td>\n",
       "      <td>2.0</td>\n",
       "      <td>84.0</td>\n",
       "      <td>3.0</td>\n",
       "      <td>234.0</td>\n",
       "      <td>424.0</td>\n",
       "    </tr>\n",
       "    <tr>\n",
       "      <td>4</td>\n",
       "      <td>2</td>\n",
       "      <td>10000000.0</td>\n",
       "      <td>100.00</td>\n",
       "      <td>2018-06-19T00:00:00</td>\n",
       "      <td>2</td>\n",
       "      <td>3.03</td>\n",
       "      <td>14.0</td>\n",
       "      <td>32.00</td>\n",
       "      <td>13</td>\n",
       "      <td>NaN</td>\n",
       "      <td>...</td>\n",
       "      <td>41.00</td>\n",
       "      <td>NaN</td>\n",
       "      <td>Санкт-Петербург</td>\n",
       "      <td>31856.0</td>\n",
       "      <td>8098.0</td>\n",
       "      <td>2.0</td>\n",
       "      <td>112.0</td>\n",
       "      <td>1.0</td>\n",
       "      <td>48.0</td>\n",
       "      <td>121.0</td>\n",
       "    </tr>\n",
       "    <tr>\n",
       "      <td>5</td>\n",
       "      <td>10</td>\n",
       "      <td>2890000.0</td>\n",
       "      <td>30.40</td>\n",
       "      <td>2018-09-10T00:00:00</td>\n",
       "      <td>1</td>\n",
       "      <td>NaN</td>\n",
       "      <td>12.0</td>\n",
       "      <td>14.40</td>\n",
       "      <td>5</td>\n",
       "      <td>NaN</td>\n",
       "      <td>...</td>\n",
       "      <td>9.10</td>\n",
       "      <td>NaN</td>\n",
       "      <td>городской посёлок Янино-1</td>\n",
       "      <td>NaN</td>\n",
       "      <td>NaN</td>\n",
       "      <td>NaN</td>\n",
       "      <td>NaN</td>\n",
       "      <td>NaN</td>\n",
       "      <td>NaN</td>\n",
       "      <td>55.0</td>\n",
       "    </tr>\n",
       "    <tr>\n",
       "      <td>6</td>\n",
       "      <td>6</td>\n",
       "      <td>3700000.0</td>\n",
       "      <td>37.30</td>\n",
       "      <td>2017-11-02T00:00:00</td>\n",
       "      <td>1</td>\n",
       "      <td>NaN</td>\n",
       "      <td>26.0</td>\n",
       "      <td>10.60</td>\n",
       "      <td>6</td>\n",
       "      <td>NaN</td>\n",
       "      <td>...</td>\n",
       "      <td>14.40</td>\n",
       "      <td>1.0</td>\n",
       "      <td>посёлок Парголово</td>\n",
       "      <td>52996.0</td>\n",
       "      <td>19143.0</td>\n",
       "      <td>0.0</td>\n",
       "      <td>NaN</td>\n",
       "      <td>0.0</td>\n",
       "      <td>NaN</td>\n",
       "      <td>155.0</td>\n",
       "    </tr>\n",
       "    <tr>\n",
       "      <td>7</td>\n",
       "      <td>5</td>\n",
       "      <td>7915000.0</td>\n",
       "      <td>71.60</td>\n",
       "      <td>2019-04-18T00:00:00</td>\n",
       "      <td>2</td>\n",
       "      <td>NaN</td>\n",
       "      <td>24.0</td>\n",
       "      <td>NaN</td>\n",
       "      <td>22</td>\n",
       "      <td>NaN</td>\n",
       "      <td>...</td>\n",
       "      <td>18.90</td>\n",
       "      <td>2.0</td>\n",
       "      <td>Санкт-Петербург</td>\n",
       "      <td>23982.0</td>\n",
       "      <td>11634.0</td>\n",
       "      <td>0.0</td>\n",
       "      <td>NaN</td>\n",
       "      <td>0.0</td>\n",
       "      <td>NaN</td>\n",
       "      <td>NaN</td>\n",
       "    </tr>\n",
       "    <tr>\n",
       "      <td>8</td>\n",
       "      <td>20</td>\n",
       "      <td>2900000.0</td>\n",
       "      <td>33.16</td>\n",
       "      <td>2018-05-23T00:00:00</td>\n",
       "      <td>1</td>\n",
       "      <td>NaN</td>\n",
       "      <td>27.0</td>\n",
       "      <td>15.43</td>\n",
       "      <td>26</td>\n",
       "      <td>NaN</td>\n",
       "      <td>...</td>\n",
       "      <td>8.81</td>\n",
       "      <td>NaN</td>\n",
       "      <td>посёлок Мурино</td>\n",
       "      <td>NaN</td>\n",
       "      <td>NaN</td>\n",
       "      <td>NaN</td>\n",
       "      <td>NaN</td>\n",
       "      <td>NaN</td>\n",
       "      <td>NaN</td>\n",
       "      <td>189.0</td>\n",
       "    </tr>\n",
       "    <tr>\n",
       "      <td>9</td>\n",
       "      <td>18</td>\n",
       "      <td>5400000.0</td>\n",
       "      <td>61.00</td>\n",
       "      <td>2017-02-26T00:00:00</td>\n",
       "      <td>3</td>\n",
       "      <td>2.50</td>\n",
       "      <td>9.0</td>\n",
       "      <td>43.60</td>\n",
       "      <td>7</td>\n",
       "      <td>NaN</td>\n",
       "      <td>...</td>\n",
       "      <td>6.50</td>\n",
       "      <td>2.0</td>\n",
       "      <td>Санкт-Петербург</td>\n",
       "      <td>50898.0</td>\n",
       "      <td>15008.0</td>\n",
       "      <td>0.0</td>\n",
       "      <td>NaN</td>\n",
       "      <td>0.0</td>\n",
       "      <td>NaN</td>\n",
       "      <td>289.0</td>\n",
       "    </tr>\n",
       "  </tbody>\n",
       "</table>\n",
       "<p>10 rows × 22 columns</p>\n",
       "</div>"
      ],
      "text/plain": [
       "   total_images  last_price  total_area first_day_exposition  rooms  \\\n",
       "0            20  13000000.0      108.00  2019-03-07T00:00:00      3   \n",
       "1             7   3350000.0       40.40  2018-12-04T00:00:00      1   \n",
       "2            10   5196000.0       56.00  2015-08-20T00:00:00      2   \n",
       "3             0  64900000.0      159.00  2015-07-24T00:00:00      3   \n",
       "4             2  10000000.0      100.00  2018-06-19T00:00:00      2   \n",
       "5            10   2890000.0       30.40  2018-09-10T00:00:00      1   \n",
       "6             6   3700000.0       37.30  2017-11-02T00:00:00      1   \n",
       "7             5   7915000.0       71.60  2019-04-18T00:00:00      2   \n",
       "8            20   2900000.0       33.16  2018-05-23T00:00:00      1   \n",
       "9            18   5400000.0       61.00  2017-02-26T00:00:00      3   \n",
       "\n",
       "   ceiling_height  floors_total  living_area  floor is_apartment  ...  \\\n",
       "0            2.70          16.0        51.00      8          NaN  ...   \n",
       "1             NaN          11.0        18.60      1          NaN  ...   \n",
       "2             NaN           5.0        34.30      4          NaN  ...   \n",
       "3             NaN          14.0          NaN      9          NaN  ...   \n",
       "4            3.03          14.0        32.00     13          NaN  ...   \n",
       "5             NaN          12.0        14.40      5          NaN  ...   \n",
       "6             NaN          26.0        10.60      6          NaN  ...   \n",
       "7             NaN          24.0          NaN     22          NaN  ...   \n",
       "8             NaN          27.0        15.43     26          NaN  ...   \n",
       "9            2.50           9.0        43.60      7          NaN  ...   \n",
       "\n",
       "   kitchen_area  balcony              locality_name  airports_nearest  \\\n",
       "0         25.00      NaN            Санкт-Петербург           18863.0   \n",
       "1         11.00      2.0             посёлок Шушары           12817.0   \n",
       "2          8.30      0.0            Санкт-Петербург           21741.0   \n",
       "3           NaN      0.0            Санкт-Петербург           28098.0   \n",
       "4         41.00      NaN            Санкт-Петербург           31856.0   \n",
       "5          9.10      NaN  городской посёлок Янино-1               NaN   \n",
       "6         14.40      1.0          посёлок Парголово           52996.0   \n",
       "7         18.90      2.0            Санкт-Петербург           23982.0   \n",
       "8          8.81      NaN             посёлок Мурино               NaN   \n",
       "9          6.50      2.0            Санкт-Петербург           50898.0   \n",
       "\n",
       "  cityCenters_nearest  parks_around3000  parks_nearest  ponds_around3000  \\\n",
       "0             16028.0               1.0          482.0               2.0   \n",
       "1             18603.0               0.0            NaN               0.0   \n",
       "2             13933.0               1.0           90.0               2.0   \n",
       "3              6800.0               2.0           84.0               3.0   \n",
       "4              8098.0               2.0          112.0               1.0   \n",
       "5                 NaN               NaN            NaN               NaN   \n",
       "6             19143.0               0.0            NaN               0.0   \n",
       "7             11634.0               0.0            NaN               0.0   \n",
       "8                 NaN               NaN            NaN               NaN   \n",
       "9             15008.0               0.0            NaN               0.0   \n",
       "\n",
       "   ponds_nearest  days_exposition  \n",
       "0          755.0              NaN  \n",
       "1            NaN             81.0  \n",
       "2          574.0            558.0  \n",
       "3          234.0            424.0  \n",
       "4           48.0            121.0  \n",
       "5            NaN             55.0  \n",
       "6            NaN            155.0  \n",
       "7            NaN              NaN  \n",
       "8            NaN            189.0  \n",
       "9            NaN            289.0  \n",
       "\n",
       "[10 rows x 22 columns]"
      ]
     },
     "metadata": {},
     "output_type": "display_data"
    }
   ],
   "source": [
    "import pandas as pd\n",
    "data = pd.read_csv('/datasets/real_estate_data.csv', sep='\\t')\n",
    "display(data.head(10)) # получение таблицы и добавили резделитель '\\t'"
   ]
  },
  {
   "cell_type": "code",
   "execution_count": 2,
   "metadata": {},
   "outputs": [
    {
     "name": "stdout",
     "output_type": "stream",
     "text": [
      "<class 'pandas.core.frame.DataFrame'>\n",
      "RangeIndex: 23699 entries, 0 to 23698\n",
      "Data columns (total 22 columns):\n",
      "total_images            23699 non-null int64\n",
      "last_price              23699 non-null float64\n",
      "total_area              23699 non-null float64\n",
      "first_day_exposition    23699 non-null object\n",
      "rooms                   23699 non-null int64\n",
      "ceiling_height          14504 non-null float64\n",
      "floors_total            23613 non-null float64\n",
      "living_area             21796 non-null float64\n",
      "floor                   23699 non-null int64\n",
      "is_apartment            2775 non-null object\n",
      "studio                  23699 non-null bool\n",
      "open_plan               23699 non-null bool\n",
      "kitchen_area            21421 non-null float64\n",
      "balcony                 12180 non-null float64\n",
      "locality_name           23650 non-null object\n",
      "airports_nearest        18157 non-null float64\n",
      "cityCenters_nearest     18180 non-null float64\n",
      "parks_around3000        18181 non-null float64\n",
      "parks_nearest           8079 non-null float64\n",
      "ponds_around3000        18181 non-null float64\n",
      "ponds_nearest           9110 non-null float64\n",
      "days_exposition         20518 non-null float64\n",
      "dtypes: bool(2), float64(14), int64(3), object(3)\n",
      "memory usage: 3.7+ MB\n"
     ]
    }
   ],
   "source": [
    "data.info() # получение общей информации о данных в таблице"
   ]
  },
  {
   "cell_type": "code",
   "execution_count": 55,
   "metadata": {},
   "outputs": [
    {
     "data": {
      "text/plain": [
       "count    23699.000000\n",
       "mean         2.743758\n",
       "std          0.987138\n",
       "min          1.000000\n",
       "25%          2.600000\n",
       "50%          2.700000\n",
       "75%          2.700000\n",
       "max        100.000000\n",
       "Name: ceiling_height, dtype: float64"
      ]
     },
     "execution_count": 55,
     "metadata": {},
     "output_type": "execute_result"
    }
   ],
   "source": [
    "\n",
    "data['last_price'].min() # 12190.0\n",
    "data['last_price'].max() # 763000000.0\n",
    "data['first_day_exposition'].value_counts()\n",
    "data['rooms'].value_counts()\n",
    "data['ceiling_height'].describe()\n",
    "data['floors_total'].describe()\n",
    "data['living_area'].describe()\n",
    "data['floor'].value_counts()\n",
    "data['is_apartment'].value_counts() # False 2725, True 50\n",
    "data['kitchen_area'].describe()\n",
    "data['balcony'].value_counts()\n",
    "data['locality_name'].unique()\n",
    "data['ceiling_height'].describe(include='o')\n"
   ]
  },
  {
   "cell_type": "markdown",
   "metadata": {},
   "source": [
    "### Вывод"
   ]
  },
  {
   "cell_type": "markdown",
   "metadata": {},
   "source": [
    "В таблице 22 столбца и 23699 строк. Тип данных во всех столбцах — bool, float64, int64, object.\n",
    "\n",
    "В названиях колонок нет нарушений, однако, количество значений в столбцах различается. Значит, в данных есть пропущенные значения. \n",
    "\n",
    "С слодбцах поочередно проводим проверку ланных при помощи метода value_counts(). Для некоторых столбцов смотрим минимальные и максимальные значения, например для last_price. Увидели, что самая дешевая квартира стоила 12190. В столбцах total_images, total_area, rooms, floors_total, living_area, floor, kitchen_area, balcony,  не обнаружили ничего необычного.  В столбце first_day_exposition дата записана в формате гггг-мм-дд и слитно со временем, что делает восприятие таких данных неудобным. Видим также, что большинство объявлений было опубликованы в начале 2018 и уонце 2017 г. В столбце ceiling_height видим странные значения высоты потолка, такие как 100 и 27 метров, возможно ошибка при выгрузке или при вводе. В столбце is_apartment в исходных данных ожидается булев тип, однако в информации о данных видим тип object. Возможно, дынные были некоректно заполнены или не заполнены вовсе. В locality_name видно, что что-то пропущено и встречаются варианты поселок Мурино и посёлок Мурино.\n",
    "\n",
    "Данные были выгружены из двух источников, возможно, это стало причиной такого большого количества пропусков. Необходимо порабатать с ними.\n",
    "\n"
   ]
  },
  {
   "cell_type": "markdown",
   "metadata": {},
   "source": [
    "## Предобработка данных"
   ]
  },
  {
   "cell_type": "code",
   "execution_count": 4,
   "metadata": {},
   "outputs": [
    {
     "data": {
      "text/plain": [
       "total_images                0\n",
       "last_price                  0\n",
       "total_area                  0\n",
       "first_day_exposition        0\n",
       "rooms                       0\n",
       "ceiling_height           9195\n",
       "floors_total               86\n",
       "living_area              1903\n",
       "floor                       0\n",
       "is_apartment            20924\n",
       "studio                      0\n",
       "open_plan                   0\n",
       "kitchen_area             2278\n",
       "balcony                 11519\n",
       "locality_name              49\n",
       "airports_nearest         5542\n",
       "cityCenters_nearest      5519\n",
       "parks_around3000         5518\n",
       "parks_nearest           15620\n",
       "ponds_around3000         5518\n",
       "ponds_nearest           14589\n",
       "days_exposition          3181\n",
       "dtype: int64"
      ]
     },
     "execution_count": 4,
     "metadata": {},
     "output_type": "execute_result"
    }
   ],
   "source": [
    "# используем метод isna(), чтобы найти пропущенные значения в столбцах, где данные, очевидно, пропущенны. Посчитали их припомощи метода len()\n",
    "data.isna().sum()"
   ]
  },
  {
   "cell_type": "code",
   "execution_count": 57,
   "metadata": {},
   "outputs": [],
   "source": [
    "# работа над заменой пропусков в ceiling_height; заменили все пропуски на стандартную высоту потолков в новостройке\n",
    "data.loc[data['ceiling_height'].isna(), 'ceiling_height'] = 2.7\n",
    "\n",
    "\n",
    "# работа над заменой пропусков в living_area; логичнее заменить пропуски на медианное значение. \n",
    "#data.loc[data['living_area'].isna(), 'living_area'] = data['living_area'].sort_values(ascending=True).median()\n",
    "data['living_ratio'] = data['living_area'] / data['total_area']\n",
    "# вставляем и  заполненем с группировкой по комнатам\n",
    "data['living_ratio'] = data['living_ratio'].fillna(data['living_ratio'].median()) \n",
    "# заполняем пропуски жилой площади\n",
    "isna_filter = data['living_area'].isna()\n",
    "data.loc[isna_filter, 'living_area'] = data.loc[isna_filter, 'total_area'] * data.loc[isna_filter, 'living_ratio']  \n",
    "\n",
    "# работа над заменой пропусков в is_apartment; доля пропусков существенна, однако их стоит заменить на False, так как люди имеющие апартаменты ответили бы \"да\".\n",
    "data.loc[data['is_apartment'].isna(), 'is_apartment'] = False\n",
    "\n",
    "# работа над заменой пропусков в kitchen_area; их доля составляет 9.6%. Поменяем их на медианное значение.\n",
    "data.loc[data['kitchen_area'].isna(), 'kitchen_area'] = data['kitchen_area'].sort_values(ascending=True).median()\n",
    "\n",
    "# работа над заменой пропусков в balcony; логично заменить пропуски на 0, так как если человек не указал количество балконов, видимо их нет\n",
    "data.loc[data['balcony'].isna(), 'balcony'] = 0\n",
    "\n",
    "# работа над заменой пропусков в locality_name; здесь пропуски можно заменить на unknown, их доля незначительна\n",
    "data['locality_name'] = data['locality_name'].fillna('unknown')\n",
    "\n"
   ]
  },
  {
   "cell_type": "code",
   "execution_count": 6,
   "metadata": {},
   "outputs": [
    {
     "data": {
      "text/plain": [
       "<matplotlib.axes._subplots.AxesSubplot at 0x7f1e1b656a90>"
      ]
     },
     "execution_count": 6,
     "metadata": {},
     "output_type": "execute_result"
    },
    {
     "data": {
      "image/png": "[encoded data removed]",
      "text/plain": [
       "<Figure size 432x288 with 1 Axes>"
      ]
     },
     "metadata": {
      "needs_background": "light"
     },
     "output_type": "display_data"
    }
   ],
   "source": [
    "# работа над заменой пропусков в days_exposition\n",
    "# сначала смотрим, где встречаются эти пропуски\n",
    "\n",
    "data['first_day_exposition'] = pd.to_datetime(data['first_day_exposition'], format='%Y-%m-%dT%H:%M:%S')\n",
    "# создаем столбец, смотрим пропущена дата или нет\n",
    "data['days_exposition_missing'] = data['days_exposition'].isna().astype(int)\n",
    "# строим график, видим, что пропуски в конце наблюдаемого периода, логично их не заполнять, так как это скорее всего открытые объявления\n",
    "data.groupby('first_day_exposition').agg({'days_exposition_missing': 'sum'}).plot()\n",
    "\n",
    "\n",
    "                "
   ]
  },
  {
   "cell_type": "code",
   "execution_count": 7,
   "metadata": {},
   "outputs": [],
   "source": [
    "data['locality_name'] = data['locality_name'].str.replace('поселок', 'посёлок')"
   ]
  },
  {
   "cell_type": "code",
   "execution_count": 8,
   "metadata": {},
   "outputs": [
    {
     "name": "stdout",
     "output_type": "stream",
     "text": [
      "<class 'pandas.core.frame.DataFrame'>\n",
      "RangeIndex: 23699 entries, 0 to 23698\n",
      "Data columns (total 23 columns):\n",
      "total_images               23699 non-null int64\n",
      "last_price                 23699 non-null float64\n",
      "total_area                 23699 non-null float64\n",
      "first_day_exposition       23699 non-null datetime64[ns]\n",
      "rooms                      23699 non-null int64\n",
      "ceiling_height             23699 non-null float64\n",
      "floors_total               23699 non-null float64\n",
      "living_area                23699 non-null float64\n",
      "floor                      23699 non-null int64\n",
      "is_apartment               23699 non-null bool\n",
      "studio                     23699 non-null bool\n",
      "open_plan                  23699 non-null bool\n",
      "kitchen_area               23699 non-null float64\n",
      "balcony                    23699 non-null float64\n",
      "locality_name              23699 non-null object\n",
      "airports_nearest           23699 non-null float64\n",
      "cityCenters_nearest        23699 non-null float64\n",
      "parks_around3000           23699 non-null float64\n",
      "parks_nearest              23699 non-null float64\n",
      "ponds_around3000           23699 non-null float64\n",
      "ponds_nearest              23699 non-null float64\n",
      "days_exposition            20518 non-null float64\n",
      "days_exposition_missing    23699 non-null int64\n",
      "dtypes: bool(3), datetime64[ns](1), float64(14), int64(4), object(1)\n",
      "memory usage: 3.7+ MB\n"
     ]
    }
   ],
   "source": [
    "data.info()"
   ]
  },
  {
   "cell_type": "markdown",
   "metadata": {},
   "source": [
    "### Вывод"
   ]
  },
  {
   "cell_type": "markdown",
   "metadata": {},
   "source": [
    "Методом data.isna().sum() были выявлены пропуски в следующих столбцах: living_area, floors_total, ceiling_height, is_apartment, kitchen_area, balcony, locality_name, airports_nearest, cityCenters_nearest, parks_around3000, parks_nearest, ponds_around3000, ponds_nearest и  days_exposition.  \n",
    "\n",
    "Для заполнения пропусков использовали:\n",
    "- для колонок с высотой потолков и этажностью нашли средние значения в интернете;\n",
    "- для is_apartment установили значение False вместо пропусков, так как логично предположить, что люди, владеющие апартаментами, указали бы это;\n",
    "- в колонке с количеством балконов пропуски заменили на 0 (если человек не указал балкон, скорее всего его нет);\n",
    "- в days_exposition следует не заменять пропуски, так как они возникают в основном за 2019 год, скорее всего это просто открытые объявления;\n",
    "- в locality_name пропуски заменилина unknown;\n",
    "- для остальных колонок, где встречаются пропуски, кажется логичным заменить их на медианные значения.\n",
    "\n",
    "Во время заполнения пропусков также произвели замену некоторых типов данных. Столбец first_day_exposition перевели в datetime64, is_apartment полностью в bool. Также убрали варианты \"поселок\" и заменила на \"посёлок\".\n",
    "\n",
    "В итоге мы увидели достаточно большое количество пропусков. Основная причина, скорее всего, заключается в том, что часть данных заполнялась людьми вручную. "
   ]
  },
  {
   "cell_type": "markdown",
   "metadata": {},
   "source": [
    "\n",
    "## Расчёты и добавление результатов в таблицу"
   ]
  },
  {
   "cell_type": "code",
   "execution_count": 9,
   "metadata": {},
   "outputs": [],
   "source": [
    "# расчитываем стоимость кв метра исходя из стоимости и площади квартиры и добавляем ноый столбец\n",
    "data['square_meter'] = data['last_price'] / data['total_area']\n"
   ]
  },
  {
   "cell_type": "code",
   "execution_count": 10,
   "metadata": {},
   "outputs": [],
   "source": [
    "# содаем колонки с днем, месяцем и годом публикации\n",
    "data['weekday'] = data['first_day_exposition'].dt.weekday\n",
    "data['month'] = data['first_day_exposition'].dt.month\n",
    "data['year'] = data['first_day_exposition'].dt.year\n"
   ]
  },
  {
   "cell_type": "code",
   "execution_count": 11,
   "metadata": {},
   "outputs": [],
   "source": [
    "# создаем функцию, чтобы разбить этажи на группы\n",
    "def floors(row):\n",
    "    if row['floor'] == 1:\n",
    "        return 'первый'\n",
    "    if row['floor'] == row['floors_total']:\n",
    "        return 'последний'\n",
    "    else:\n",
    "        return 'другой'\n",
    "data['floor_group'] = data.apply(floors, axis=1)\n"
   ]
  },
  {
   "cell_type": "code",
   "execution_count": 12,
   "metadata": {},
   "outputs": [],
   "source": [
    "# создаем 2 столбца и добавляем в них соотношение жилой и общей площади и площади кухни к общей\n",
    "data['living_to_total'] = data['living_area'] / data['total_area']\n",
    "data['kitchen_to_living'] = data['kitchen_area'] / data['total_area']"
   ]
  },
  {
   "cell_type": "markdown",
   "metadata": {},
   "source": [
    "### Вывод\n",
    "В данном пунке были добавлены столбцы со следующими показателями:\n",
    "- стоимость квадратного метра;\n",
    "- день, месяц и год публикации;\n",
    "- этажность разбитую на группы;\n",
    "- соотношение жилой и общей площади и площади кухни к общей"
   ]
  },
  {
   "cell_type": "markdown",
   "metadata": {},
   "source": [
    "## Исследовательский анализ данных"
   ]
  },
  {
   "cell_type": "code",
   "execution_count": 13,
   "metadata": {},
   "outputs": [
    {
     "data": {
      "image/png": "[encoded data removed]",
      "text/plain": [
       "<Figure size 432x288 with 1 Axes>"
      ]
     },
     "metadata": {
      "needs_background": "light"
     },
     "output_type": "display_data"
    },
    {
     "name": "stdout",
     "output_type": "stream",
     "text": [
      "count    23699.000000\n",
      "mean        60.348651\n",
      "std         35.654083\n",
      "min         12.000000\n",
      "25%         40.000000\n",
      "50%         52.000000\n",
      "75%         69.900000\n",
      "max        900.000000\n",
      "Name: total_area, dtype: float64\n"
     ]
    }
   ],
   "source": [
    "# изучение параметров: площадь, цена, число комнат, высота потолков\n",
    "# строим гистграмму \n",
    "import matplotlib.pyplot as plt \n",
    "data.plot(y = 'total_area', kind = 'hist', title = 'Площадь')\n",
    "plt.xlabel('Площать')\n",
    "plt.ylabel('Количество')\n",
    "plt.show()\n",
    "# смотрим список характерных значений\n",
    "print(data['total_area'].describe())"
   ]
  },
  {
   "cell_type": "code",
   "execution_count": 14,
   "metadata": {},
   "outputs": [
    {
     "data": {
      "image/png": "[encoded data removed]",
      "text/plain": [
       "<Figure size 432x288 with 1 Axes>"
      ]
     },
     "metadata": {
      "needs_background": "light"
     },
     "output_type": "display_data"
    },
    {
     "name": "stdout",
     "output_type": "stream",
     "text": [
      "count        23699.000000\n",
      "mean       6541548.771552\n",
      "std       10887013.267545\n",
      "min          12190.000000\n",
      "25%        3400000.000000\n",
      "50%        4650000.000000\n",
      "75%        6800000.000000\n",
      "max      763000000.000000\n",
      "Name: last_price, dtype: object\n"
     ]
    }
   ],
   "source": [
    "# строим гистграмму \n",
    "data.plot(y = 'last_price', kind = 'hist', title ='Цена')\n",
    "plt.xlabel('Цена')\n",
    "plt.ylabel('Количество')\n",
    "plt.show()\n",
    "# смотрим список характерных значений\n",
    "print(data['last_price'].describe().apply(lambda x: format(x, 'f')))"
   ]
  },
  {
   "cell_type": "markdown",
   "metadata": {},
   "source": [
    "Из гистограммы видим, что средняя цена  6541548, медианная цена 4650000. Минимальная и максимальная цена вызывает вопросы, скорее всего придется работать с выбросами. "
   ]
  },
  {
   "cell_type": "code",
   "execution_count": 15,
   "metadata": {},
   "outputs": [
    {
     "data": {
      "image/png": "[encoded data removed]",
      "text/plain": [
       "<Figure size 432x288 with 1 Axes>"
      ]
     },
     "metadata": {
      "needs_background": "light"
     },
     "output_type": "display_data"
    },
    {
     "name": "stdout",
     "output_type": "stream",
     "text": [
      "count    23699.000000\n",
      "mean         2.743758\n",
      "std          0.987138\n",
      "min          1.000000\n",
      "25%          2.600000\n",
      "50%          2.700000\n",
      "75%          2.700000\n",
      "max        100.000000\n",
      "Name: ceiling_height, dtype: float64\n"
     ]
    }
   ],
   "source": [
    "# строим гистграмму \n",
    "data.plot(y = 'ceiling_height', kind = 'hist', bins = 10, range=(0,100),  title ='Высота потолков')\n",
    "plt.xlabel('Высота потолка')\n",
    "plt.ylabel('Количество')\n",
    "plt.show()\n",
    "# смотрим список характерных значений\n",
    "print(data['ceiling_height'].describe())\n",
    "high_ceiling = data.query('ceiling_height > 4')\n",
    "low_ceiling = data.query('ceiling_height < 2')\n"
   ]
  },
  {
   "cell_type": "markdown",
   "metadata": {},
   "source": [
    "Видим, что средняя и медианная потолков составляет 2.7 метра. Можно наблюдать странные значения в минимальном и максимальном значениях."
   ]
  },
  {
   "cell_type": "code",
   "execution_count": 16,
   "metadata": {},
   "outputs": [
    {
     "data": {
      "image/png": "[encoded data removed]",
      "text/plain": [
       "<Figure size 432x288 with 1 Axes>"
      ]
     },
     "metadata": {
      "needs_background": "light"
     },
     "output_type": "display_data"
    },
    {
     "name": "stdout",
     "output_type": "stream",
     "text": [
      "count    23699.000000\n",
      "mean         2.070636\n",
      "std          1.078405\n",
      "min          0.000000\n",
      "25%          1.000000\n",
      "50%          2.000000\n",
      "75%          3.000000\n",
      "max         19.000000\n",
      "Name: rooms, dtype: float64\n"
     ]
    }
   ],
   "source": [
    "# строим гистграмму \n",
    "data.plot(y = 'rooms', kind = 'hist', title = 'Число комнат')\n",
    "plt.xlabel('Комнаты')\n",
    "plt.ylabel('Количество')\n",
    "plt.show()\n",
    "# смотрим список характерных значений\n",
    "print(data['rooms'].describe())"
   ]
  },
  {
   "cell_type": "markdown",
   "metadata": {},
   "source": [
    "Из гистограммы видим, что среднее и медианное количество комнат - 2. Также даные говорят о том, что в основном представлены квартиры от 1 до 3 комнат, есть аномалии, их обработаем позже."
   ]
  },
  {
   "cell_type": "code",
   "execution_count": 17,
   "metadata": {},
   "outputs": [
    {
     "data": {
      "image/png": "[encoded data removed]",
      "text/plain": [
       "<Figure size 432x288 with 1 Axes>"
      ]
     },
     "metadata": {
      "needs_background": "light"
     },
     "output_type": "display_data"
    },
    {
     "name": "stdout",
     "output_type": "stream",
     "text": [
      "count    20518.000000\n",
      "mean       180.888634\n",
      "std        219.727988\n",
      "min          1.000000\n",
      "25%         45.000000\n",
      "50%         95.000000\n",
      "75%        232.000000\n",
      "max       1580.000000\n",
      "Name: days_exposition, dtype: float64\n"
     ]
    }
   ],
   "source": [
    "# изучаем время продажи квартир, строим гистограмму\n",
    "data.plot(y = 'days_exposition', kind = 'hist', title = 'Время продажи квартир')\n",
    "plt.xlabel('Время продажи')\n",
    "plt.ylabel('Количество')\n",
    "plt.show()\n",
    "# смотрим список характерных значений\n",
    "print(data['days_exposition'].describe())\n"
   ]
  },
  {
   "cell_type": "markdown",
   "metadata": {},
   "source": [
    "Среднее время продажи квартиры - 180 дней.\n",
    "Медианное время продажи - 95 дней. Эти данные мы взяли из таблицы, полученной методом describe(), где среднее это - mean, а медианное это 50%.\n",
    "Мы видим, что обычно продажа длится не более 230 дней. По границам квартилей можно оценить  быструю и долгую продажу, это 45 дней и 232 дня соответственно. Мы видим, что в основном квартиры продаются за примерно 180 дней, долгие продажи на графике просматриваются до значения 500, а значения больше 500 практически сливаются с нулем. Это и есть необычно долгие продажи."
   ]
  },
  {
   "cell_type": "code",
   "execution_count": 18,
   "metadata": {},
   "outputs": [
    {
     "data": {
      "image/png": "[encoded data removed]",
      "text/plain": [
       "<Figure size 432x288 with 1 Axes>"
      ]
     },
     "metadata": {
      "needs_background": "light"
     },
     "output_type": "display_data"
    },
    {
     "data": {
      "image/png": "[encoded data removed]",
      "text/plain": [
       "<Figure size 432x288 with 1 Axes>"
      ]
     },
     "metadata": {
      "needs_background": "light"
     },
     "output_type": "display_data"
    },
    {
     "data": {
      "image/png": "[encoded data removed]",
      "text/plain": [
       "<Figure size 432x288 with 1 Axes>"
      ]
     },
     "metadata": {
      "needs_background": "light"
     },
     "output_type": "display_data"
    }
   ],
   "source": [
    "data.boxplot(column = 'days_exposition')\n",
    "plt.show()\n",
    "data.boxplot(column = 'total_area')\n",
    "plt.show()\n",
    "data.boxplot(column = 'rooms')\n",
    "plt.show()\n"
   ]
  },
  {
   "cell_type": "markdown",
   "metadata": {},
   "source": [
    "Диаграмма размаха подтверждает, что значения больше 500 выходит за пределы размаха (1.5 кв), а это значит, это и есть необычно долгие продажи. Нижний размах совпадает с нулем, это значит, что даже продажи быстрее, чем 45 дней не являются аномалиями, однако являются редкими. \n",
    "Далее необходимо убрать выбросы из столбца rooms. Из диаграмм видим, что квартиры с более чем 6 комнатами являются аномалиями.\n",
    "В столбце total_area выбросы начинаются со значения 180 м.\n",
    "Для last_price нормальной ценой можно считать от 1000000 до 35000000.\n",
    "Уберем эти значения.\n"
   ]
  },
  {
   "cell_type": "code",
   "execution_count": 19,
   "metadata": {},
   "outputs": [],
   "source": [
    "data.query('last_price > 1000000 and last_price < 35000000')\n",
    "new_data = data.query('days_exposition < 500 and rooms < 6 and total_area < 180 and ceiling_height < 5')\n"
   ]
  },
  {
   "cell_type": "code",
   "execution_count": 20,
   "metadata": {},
   "outputs": [
    {
     "data": {
      "image/png": "[encoded data removed]",
      "text/plain": [
       "<Figure size 576x288 with 1 Axes>"
      ]
     },
     "metadata": {
      "needs_background": "light"
     },
     "output_type": "display_data"
    },
    {
     "name": "stdout",
     "output_type": "stream",
     "text": [
      "0.1999719559799376\n"
     ]
    }
   ],
   "source": [
    "# Далее необходимо выявить засисимости между стоимотью квартиры и ее площадью\n",
    "new_data.plot(kind = 'scatter', x='square_meter', y='total_area', title ='Зависимость между площадью и стоимостью',  grid=True, figsize=(8,4))\n",
    "plt.show()\n",
    "print(new_data['square_meter'].corr(new_data['total_area']))\n"
   ]
  },
  {
   "cell_type": "code",
   "execution_count": 21,
   "metadata": {},
   "outputs": [
    {
     "data": {
      "text/html": [
       "<div>\n",
       "<style scoped>\n",
       "    .dataframe tbody tr th:only-of-type {\n",
       "        vertical-align: middle;\n",
       "    }\n",
       "\n",
       "    .dataframe tbody tr th {\n",
       "        vertical-align: top;\n",
       "    }\n",
       "\n",
       "    .dataframe thead th {\n",
       "        text-align: right;\n",
       "    }\n",
       "</style>\n",
       "<table border=\"1\" class=\"dataframe\">\n",
       "  <thead>\n",
       "    <tr style=\"text-align: right;\">\n",
       "      <th></th>\n",
       "      <th>last_price</th>\n",
       "    </tr>\n",
       "    <tr>\n",
       "      <th>rooms</th>\n",
       "      <th></th>\n",
       "    </tr>\n",
       "  </thead>\n",
       "  <tbody>\n",
       "    <tr>\n",
       "      <td>0</td>\n",
       "      <td>2.856248e+06</td>\n",
       "    </tr>\n",
       "    <tr>\n",
       "      <td>1</td>\n",
       "      <td>3.764206e+06</td>\n",
       "    </tr>\n",
       "    <tr>\n",
       "      <td>2</td>\n",
       "      <td>5.346325e+06</td>\n",
       "    </tr>\n",
       "    <tr>\n",
       "      <td>3</td>\n",
       "      <td>7.531625e+06</td>\n",
       "    </tr>\n",
       "    <tr>\n",
       "      <td>4</td>\n",
       "      <td>1.039657e+07</td>\n",
       "    </tr>\n",
       "    <tr>\n",
       "      <td>5</td>\n",
       "      <td>1.345066e+07</td>\n",
       "    </tr>\n",
       "  </tbody>\n",
       "</table>\n",
       "</div>"
      ],
      "text/plain": [
       "         last_price\n",
       "rooms              \n",
       "0      2.856248e+06\n",
       "1      3.764206e+06\n",
       "2      5.346325e+06\n",
       "3      7.531625e+06\n",
       "4      1.039657e+07\n",
       "5      1.345066e+07"
      ]
     },
     "metadata": {},
     "output_type": "display_data"
    },
    {
     "data": {
      "text/plain": [
       "<matplotlib.axes._subplots.AxesSubplot at 0x7f1e12a1c710>"
      ]
     },
     "execution_count": 21,
     "metadata": {},
     "output_type": "execute_result"
    },
    {
     "data": {
      "image/png": "[encoded data removed]",
      "text/plain": [
       "<Figure size 432x288 with 1 Axes>"
      ]
     },
     "metadata": {
      "needs_background": "light"
     },
     "output_type": "display_data"
    }
   ],
   "source": [
    "# зависимость цены от количества комнат\n",
    "rooms_prices = new_data.pivot_table(index='rooms', values='last_price', aggfunc='mean')\n",
    "display(rooms_prices)\n",
    "rooms_prices.plot(title = 'Зависимость цены от количества комнат')"
   ]
  },
  {
   "cell_type": "code",
   "execution_count": 22,
   "metadata": {},
   "outputs": [
    {
     "name": "stdout",
     "output_type": "stream",
     "text": [
      "-0.2530744567755955\n"
     ]
    }
   ],
   "source": [
    "# зависимость цены от удаленности от центра\n",
    "print(new_data['last_price'].corr(new_data['cityCenters_nearest']))"
   ]
  },
  {
   "cell_type": "code",
   "execution_count": 23,
   "metadata": {},
   "outputs": [
    {
     "name": "stdout",
     "output_type": "stream",
     "text": [
      "count        2215.000000\n",
      "mean      4291911.996388\n",
      "std       3087423.898432\n",
      "min        440000.000000\n",
      "25%       2700000.000000\n",
      "50%       3750000.000000\n",
      "75%       5000000.000000\n",
      "max      50000000.000000\n",
      "Name: last_price, dtype: object \n",
      "\n",
      "count        2482.000000\n",
      "mean      5240652.017325\n",
      "std       4410213.606982\n",
      "min         12190.000000\n",
      "25%       2972500.000000\n",
      "50%       4150000.000000\n",
      "75%       6000000.000000\n",
      "max      64990000.000000\n",
      "Name: last_price, dtype: object\n",
      "count        13818.000000\n",
      "mean       5768200.680923\n",
      "std        4765706.767074\n",
      "min         450000.000000\n",
      "25%        3500000.000000\n",
      "50%        4600000.000000\n",
      "75%        6500000.000000\n",
      "max      124000000.000000\n",
      "Name: last_price, dtype: object\n"
     ]
    }
   ],
   "source": [
    "# зависимость цены от того, на каком этаже расположена квартира: первом, последнем или другом\n",
    "first_floor = new_data.query('floor_group == \"первый\"')\n",
    "last_floor = new_data.query('floor_group == \"последний\"')\n",
    "other_floor = new_data.query('floor_group == \"другой\"')\n",
    "\n",
    "print(first_floor['last_price'].describe().apply(lambda x: format(x, 'f')), '\\n')\n",
    "print(last_floor['last_price'].describe().apply(lambda x: format(x, 'f')))\n",
    "print(other_floor['last_price'].describe().apply(lambda x: format(x, 'f')))"
   ]
  },
  {
   "cell_type": "code",
   "execution_count": 24,
   "metadata": {},
   "outputs": [
    {
     "data": {
      "text/html": [
       "<div>\n",
       "<style scoped>\n",
       "    .dataframe tbody tr th:only-of-type {\n",
       "        vertical-align: middle;\n",
       "    }\n",
       "\n",
       "    .dataframe tbody tr th {\n",
       "        vertical-align: top;\n",
       "    }\n",
       "\n",
       "    .dataframe thead th {\n",
       "        text-align: right;\n",
       "    }\n",
       "</style>\n",
       "<table border=\"1\" class=\"dataframe\">\n",
       "  <thead>\n",
       "    <tr style=\"text-align: right;\">\n",
       "      <th></th>\n",
       "      <th>last_price</th>\n",
       "    </tr>\n",
       "    <tr>\n",
       "      <th>weekday</th>\n",
       "      <th></th>\n",
       "    </tr>\n",
       "  </thead>\n",
       "  <tbody>\n",
       "    <tr>\n",
       "      <td>0</td>\n",
       "      <td>5.477777e+06</td>\n",
       "    </tr>\n",
       "    <tr>\n",
       "      <td>1</td>\n",
       "      <td>5.563800e+06</td>\n",
       "    </tr>\n",
       "    <tr>\n",
       "      <td>2</td>\n",
       "      <td>5.408428e+06</td>\n",
       "    </tr>\n",
       "    <tr>\n",
       "      <td>3</td>\n",
       "      <td>5.616195e+06</td>\n",
       "    </tr>\n",
       "    <tr>\n",
       "      <td>4</td>\n",
       "      <td>5.528364e+06</td>\n",
       "    </tr>\n",
       "    <tr>\n",
       "      <td>5</td>\n",
       "      <td>5.629015e+06</td>\n",
       "    </tr>\n",
       "    <tr>\n",
       "      <td>6</td>\n",
       "      <td>5.382201e+06</td>\n",
       "    </tr>\n",
       "  </tbody>\n",
       "</table>\n",
       "</div>"
      ],
      "text/plain": [
       "           last_price\n",
       "weekday              \n",
       "0        5.477777e+06\n",
       "1        5.563800e+06\n",
       "2        5.408428e+06\n",
       "3        5.616195e+06\n",
       "4        5.528364e+06\n",
       "5        5.629015e+06\n",
       "6        5.382201e+06"
      ]
     },
     "metadata": {},
     "output_type": "display_data"
    },
    {
     "name": "stdout",
     "output_type": "stream",
     "text": [
      "0.0014218456607801994\n"
     ]
    },
    {
     "data": {
      "text/html": [
       "<div>\n",
       "<style scoped>\n",
       "    .dataframe tbody tr th:only-of-type {\n",
       "        vertical-align: middle;\n",
       "    }\n",
       "\n",
       "    .dataframe tbody tr th {\n",
       "        vertical-align: top;\n",
       "    }\n",
       "\n",
       "    .dataframe thead th {\n",
       "        text-align: right;\n",
       "    }\n",
       "</style>\n",
       "<table border=\"1\" class=\"dataframe\">\n",
       "  <thead>\n",
       "    <tr style=\"text-align: right;\">\n",
       "      <th></th>\n",
       "      <th>last_price</th>\n",
       "    </tr>\n",
       "    <tr>\n",
       "      <th>month</th>\n",
       "      <th></th>\n",
       "    </tr>\n",
       "  </thead>\n",
       "  <tbody>\n",
       "    <tr>\n",
       "      <td>1</td>\n",
       "      <td>5.473083e+06</td>\n",
       "    </tr>\n",
       "    <tr>\n",
       "      <td>2</td>\n",
       "      <td>5.510435e+06</td>\n",
       "    </tr>\n",
       "    <tr>\n",
       "      <td>3</td>\n",
       "      <td>5.371554e+06</td>\n",
       "    </tr>\n",
       "    <tr>\n",
       "      <td>4</td>\n",
       "      <td>5.499017e+06</td>\n",
       "    </tr>\n",
       "    <tr>\n",
       "      <td>5</td>\n",
       "      <td>5.617407e+06</td>\n",
       "    </tr>\n",
       "    <tr>\n",
       "      <td>6</td>\n",
       "      <td>5.544395e+06</td>\n",
       "    </tr>\n",
       "    <tr>\n",
       "      <td>7</td>\n",
       "      <td>5.574002e+06</td>\n",
       "    </tr>\n",
       "    <tr>\n",
       "      <td>8</td>\n",
       "      <td>5.530397e+06</td>\n",
       "    </tr>\n",
       "    <tr>\n",
       "      <td>9</td>\n",
       "      <td>5.732533e+06</td>\n",
       "    </tr>\n",
       "    <tr>\n",
       "      <td>10</td>\n",
       "      <td>5.344186e+06</td>\n",
       "    </tr>\n",
       "    <tr>\n",
       "      <td>11</td>\n",
       "      <td>5.619204e+06</td>\n",
       "    </tr>\n",
       "    <tr>\n",
       "      <td>12</td>\n",
       "      <td>5.447697e+06</td>\n",
       "    </tr>\n",
       "  </tbody>\n",
       "</table>\n",
       "</div>"
      ],
      "text/plain": [
       "         last_price\n",
       "month              \n",
       "1      5.473083e+06\n",
       "2      5.510435e+06\n",
       "3      5.371554e+06\n",
       "4      5.499017e+06\n",
       "5      5.617407e+06\n",
       "6      5.544395e+06\n",
       "7      5.574002e+06\n",
       "8      5.530397e+06\n",
       "9      5.732533e+06\n",
       "10     5.344186e+06\n",
       "11     5.619204e+06\n",
       "12     5.447697e+06"
      ]
     },
     "metadata": {},
     "output_type": "display_data"
    },
    {
     "name": "stdout",
     "output_type": "stream",
     "text": [
      "0.004881443373224366\n"
     ]
    },
    {
     "data": {
      "text/html": [
       "<div>\n",
       "<style scoped>\n",
       "    .dataframe tbody tr th:only-of-type {\n",
       "        vertical-align: middle;\n",
       "    }\n",
       "\n",
       "    .dataframe tbody tr th {\n",
       "        vertical-align: top;\n",
       "    }\n",
       "\n",
       "    .dataframe thead th {\n",
       "        text-align: right;\n",
       "    }\n",
       "</style>\n",
       "<table border=\"1\" class=\"dataframe\">\n",
       "  <thead>\n",
       "    <tr style=\"text-align: right;\">\n",
       "      <th></th>\n",
       "      <th>last_price</th>\n",
       "    </tr>\n",
       "    <tr>\n",
       "      <th>year</th>\n",
       "      <th></th>\n",
       "    </tr>\n",
       "  </thead>\n",
       "  <tbody>\n",
       "    <tr>\n",
       "      <td>2015</td>\n",
       "      <td>6.290271e+06</td>\n",
       "    </tr>\n",
       "    <tr>\n",
       "      <td>2016</td>\n",
       "      <td>5.806899e+06</td>\n",
       "    </tr>\n",
       "    <tr>\n",
       "      <td>2017</td>\n",
       "      <td>5.600258e+06</td>\n",
       "    </tr>\n",
       "    <tr>\n",
       "      <td>2018</td>\n",
       "      <td>5.316143e+06</td>\n",
       "    </tr>\n",
       "    <tr>\n",
       "      <td>2019</td>\n",
       "      <td>5.526337e+06</td>\n",
       "    </tr>\n",
       "  </tbody>\n",
       "</table>\n",
       "</div>"
      ],
      "text/plain": [
       "        last_price\n",
       "year              \n",
       "2015  6.290271e+06\n",
       "2016  5.806899e+06\n",
       "2017  5.600258e+06\n",
       "2018  5.316143e+06\n",
       "2019  5.526337e+06"
      ]
     },
     "metadata": {},
     "output_type": "display_data"
    },
    {
     "name": "stdout",
     "output_type": "stream",
     "text": [
      "-0.03913395416571097\n"
     ]
    }
   ],
   "source": [
    "# зависимость цены от даты размещения: дня недели, месяца и года\n",
    "weekday_price = new_data.pivot_table(index='weekday', values='last_price', aggfunc='mean')\n",
    "display(weekday_price)\n",
    "print(new_data['last_price'].corr(new_data['weekday']))\n",
    "\n",
    "month_price = new_data.pivot_table(index='month', values='last_price', aggfunc='mean')\n",
    "display(month_price)\n",
    "print(new_data['last_price'].corr(new_data['month']))\n",
    "\n",
    "year_price = new_data.pivot_table(index='year', values='last_price', aggfunc='mean')\n",
    "display(year_price)\n",
    "print(new_data['last_price'].corr(new_data['year']))"
   ]
  },
  {
   "cell_type": "markdown",
   "metadata": {},
   "source": [
    "В итоге можно наблюдать следующее:\n",
    "1) Есть зависимость цены от площади -  чем больше площадь, тем выше цена.\n",
    "2) Есть зависимость цены от количества комнат - чем больше комнат, тем выше цена.\n",
    "3) Есть зависимость цены от удаленности от центра - цена ниже, если центр дальше.\n",
    "4) Есть зависимость цены от того, на каком этаже расположена квартира: первом, последнем или другом - на первом этаже квартиры дешевле.\n",
    "5) Есть зависимость цены от от даты размещения: дня недели, месяца и года, однако она слабая. "
   ]
  },
  {
   "cell_type": "code",
   "execution_count": 25,
   "metadata": {},
   "outputs": [
    {
     "name": "stdout",
     "output_type": "stream",
     "text": [
      "                   days_exposition\n",
      "locality_name                     \n",
      "Санкт-Петербург              12191\n",
      "посёлок Мурино                 515\n",
      "посёлок Шушары                 385\n",
      "Всеволожск                     308\n",
      "Колпино                        292\n",
      "посёлок Парголово              286\n",
      "Пушкин                         276\n",
      "деревня Кудрово                266\n",
      "Гатчина                        243\n",
      "Выборг                         193\n"
     ]
    }
   ],
   "source": [
    "# далее ищем 10 населённых пунктов с наибольшим числом объявлений\n",
    "top_10_locality = new_data.groupby(\n",
    "    ['locality_name']).agg({'days_exposition': 'count'}).sort_values(by='days_exposition', ascending=False\n",
    "                                                                                                   )\n",
    "print(top_10_locality.head(10))"
   ]
  },
  {
   "cell_type": "code",
   "execution_count": 26,
   "metadata": {},
   "outputs": [
    {
     "name": "stdout",
     "output_type": "stream",
     "text": [
      "Средняя стоимость в Санкт-Петербурге 110060\n"
     ]
    }
   ],
   "source": [
    "# находим среднюю стоимость  квадратного метра в Санкт-Петербурге \n",
    "spb = new_data.query('locality_name == \"Санкт-Петербург\"')\n",
    "spb_mean1 = spb['square_meter'].mean()\n",
    "spb_mean = (\"%.0f\" % spb_mean1)\n",
    "print('Средняя стоимость в Санкт-Петербурге', spb_mean)"
   ]
  },
  {
   "cell_type": "code",
   "execution_count": 27,
   "metadata": {},
   "outputs": [
    {
     "name": "stdout",
     "output_type": "stream",
     "text": [
      "Средняя стоимость в посёлке Мурино  85957\n"
     ]
    }
   ],
   "source": [
    "# находим среднюю стоимость  квадратного метра в посёлке Мурино  \n",
    "murino = new_data.query('locality_name == \"посёлок Мурино\"')\n",
    "murino_mean1 = murino['square_meter'].mean()\n",
    "murino_mean = (\"%.0f\" % murino_mean1)\n",
    "print('Средняя стоимость в посёлке Мурино ', murino_mean)"
   ]
  },
  {
   "cell_type": "code",
   "execution_count": 28,
   "metadata": {},
   "outputs": [
    {
     "name": "stdout",
     "output_type": "stream",
     "text": [
      "Средняя стоимость в посёлке Шушары 110060\n"
     ]
    }
   ],
   "source": [
    "# находим среднюю стоимость  квадратного метра в посёлке Шушары \n",
    "shushari = new_data.query('locality_name == \"посёлок Шушары\"')\n",
    "shushari_mean1 = shushari['square_meter'].mean()\n",
    "shushari_mean = (\"%.0f\" % spb_mean1)\n",
    "print('Средняя стоимость в посёлке Шушары', shushari_mean)"
   ]
  },
  {
   "cell_type": "code",
   "execution_count": 29,
   "metadata": {},
   "outputs": [
    {
     "name": "stdout",
     "output_type": "stream",
     "text": [
      "Средняя стоимость в Всеволожске 68606\n"
     ]
    }
   ],
   "source": [
    "# находим среднюю стоимость  квадратного метра в Всеволожске \n",
    "vsev = new_data.query('locality_name == \"Всеволожск\"')\n",
    "vsev_mean1 = vsev['square_meter'].mean()\n",
    "vsev_mean = (\"%.0f\" % vsev_mean1)\n",
    "print('Средняя стоимость в Всеволожске', vsev_mean)"
   ]
  },
  {
   "cell_type": "code",
   "execution_count": 30,
   "metadata": {},
   "outputs": [
    {
     "name": "stdout",
     "output_type": "stream",
     "text": [
      "Средняя стоимость в Колпино 74672\n"
     ]
    }
   ],
   "source": [
    "# находим среднюю стоимость  квадратного метра в Колпино \n",
    "koplino = new_data.query('locality_name == \"Колпино\"')\n",
    "koplino_mean1 = koplino['square_meter'].mean()\n",
    "koplino_mean = (\"%.0f\" % koplino_mean1)\n",
    "print('Средняя стоимость в Колпино', koplino_mean)"
   ]
  },
  {
   "cell_type": "code",
   "execution_count": 31,
   "metadata": {},
   "outputs": [
    {
     "name": "stdout",
     "output_type": "stream",
     "text": [
      "Средняя стоимость в посёлке Парголово  89361\n"
     ]
    }
   ],
   "source": [
    "# находим среднюю стоимость  квадратного метра в посёлке Парголово  \n",
    "pargolovo = new_data.query('locality_name == \"посёлок Парголово\"')\n",
    "pargolovo_mean1 = pargolovo['square_meter'].mean()\n",
    "pargolovo_mean = (\"%.0f\" % pargolovo_mean1)\n",
    "print('Средняя стоимость в посёлке Парголово ', pargolovo_mean)"
   ]
  },
  {
   "cell_type": "code",
   "execution_count": 32,
   "metadata": {},
   "outputs": [
    {
     "name": "stdout",
     "output_type": "stream",
     "text": [
      "Средняя стоимость в Пушкине 101892\n"
     ]
    }
   ],
   "source": [
    "# находим среднюю стоимость  квадратного метра в Пушкине\n",
    "pushkin = new_data.query('locality_name == \"Пушкин\"')\n",
    "pushkin_mean1 = pushkin['square_meter'].mean()\n",
    "pushkin_mean = (\"%.0f\" % pushkin_mean1)\n",
    "print('Средняя стоимость в Пушкине', pushkin_mean)"
   ]
  },
  {
   "cell_type": "code",
   "execution_count": 33,
   "metadata": {},
   "outputs": [
    {
     "name": "stdout",
     "output_type": "stream",
     "text": [
      "Средняя стоимость в деревне Кудрово 92657\n"
     ]
    }
   ],
   "source": [
    "# находим среднюю стоимость  квадратного метра деревне Кудрово \n",
    "kudrovo = new_data.query('locality_name == \"деревня Кудрово\"')\n",
    "kudrovo_mean1 = kudrovo['square_meter'].mean()\n",
    "kudrovo_mean = (\"%.0f\" % kudrovo_mean1)\n",
    "print('Средняя стоимость в деревне Кудрово', kudrovo_mean)"
   ]
  },
  {
   "cell_type": "code",
   "execution_count": 34,
   "metadata": {},
   "outputs": [
    {
     "name": "stdout",
     "output_type": "stream",
     "text": [
      "Средняя стоимость в Гатчине 68077\n"
     ]
    }
   ],
   "source": [
    "# находим среднюю стоимость  квадратного метра в Гатчине \n",
    "gatchina = new_data.query('locality_name == \"Гатчина\"')\n",
    "gatchina_mean1 = gatchina['square_meter'].mean()\n",
    "gatchina_mean = (\"%.0f\" % gatchina_mean1)\n",
    "print('Средняя стоимость в Гатчине', gatchina_mean)"
   ]
  },
  {
   "cell_type": "code",
   "execution_count": 35,
   "metadata": {},
   "outputs": [
    {
     "name": "stdout",
     "output_type": "stream",
     "text": [
      "Средняя стоимость в Выборге 57011\n"
     ]
    }
   ],
   "source": [
    "# находим среднюю стоимость  квадратного метра в Выборге \n",
    "viborg = new_data.query('locality_name == \"Выборг\"')\n",
    "viborg_mean1 = viborg['square_meter'].mean()\n",
    "viborg_mean = (\"%.0f\" % viborg_mean1)\n",
    "print('Средняя стоимость в Выборге', viborg_mean)"
   ]
  },
  {
   "cell_type": "markdown",
   "metadata": {},
   "source": [
    "Населенные пункты с самой высокой стоимостью жилья это - Санкт-Петербург, Шушары и Пушкин.\n",
    "Населенные пункты с самой низкой стоимостью жилья это Выборг, Всеволожск и Гатчина."
   ]
  },
  {
   "cell_type": "code",
   "execution_count": 36,
   "metadata": {},
   "outputs": [
    {
     "name": "stderr",
     "output_type": "stream",
     "text": [
      "/opt/conda/lib/python3.7/site-packages/ipykernel_launcher.py:3: SettingWithCopyWarning: \n",
      "A value is trying to be set on a copy of a slice from a DataFrame.\n",
      "Try using .loc[row_indexer,col_indexer] = value instead\n",
      "\n",
      "See the caveats in the documentation: http://pandas.pydata.org/pandas-docs/stable/user_guide/indexing.html#returning-a-view-versus-a-copy\n",
      "  This is separate from the ipykernel package so we can avoid doing imports until\n"
     ]
    },
    {
     "data": {
      "text/plain": [
       "<matplotlib.axes._subplots.AxesSubplot at 0x7f1e12ae5810>"
      ]
     },
     "execution_count": 36,
     "metadata": {},
     "output_type": "execute_result"
    },
    {
     "data": {
      "image/png": "[encoded data removed]",
      "text/plain": [
       "<Figure size 864x216 with 1 Axes>"
      ]
     },
     "metadata": {
      "needs_background": "light"
     },
     "output_type": "display_data"
    }
   ],
   "source": [
    "# Изучаем предложения квартир\n",
    "spb_data = new_data.query('locality_name == \"Санкт-Петербург\"')\n",
    "spb_data['centre_distance_km'] = (spb_data['cityCenters_nearest'] / 1000).round()\n",
    "spb_data.groupby(['centre_distance_km']).agg({'last_price': 'mean'}).round().plot(figsize=(12,3))"
   ]
  },
  {
   "cell_type": "markdown",
   "metadata": {},
   "source": [
    "Построили график, который показывает, как меняется цена на каждом км отдаления от центра. Из графика вы видим, что цена резко меняется на занчении 7 км. Это значит, что квартиры \"в центре\" находятся не далее, чем 7 км. \n",
    "Интересно также наблюдать скачек цен после 25 км. Возможно, это какой-то элитный поселок. "
   ]
  },
  {
   "cell_type": "code",
   "execution_count": 37,
   "metadata": {},
   "outputs": [
    {
     "data": {
      "text/plain": [
       "Санкт-Петербург    2147\n",
       "unknown              11\n",
       "Name: locality_name, dtype: int64"
      ]
     },
     "execution_count": 37,
     "metadata": {},
     "output_type": "execute_result"
    }
   ],
   "source": [
    "# Выделяем и изучаем сегмент квартир в центр\n",
    "flats_centre = new_data.query('cityCenters_nearest <= 7000')\n",
    "# посмотрим, какие значение locality_name остались в датафрейме\n",
    "flats_centre['locality_name'].value_counts()"
   ]
  },
  {
   "cell_type": "code",
   "execution_count": 38,
   "metadata": {},
   "outputs": [
    {
     "data": {
      "text/plain": [
       "count    2158.000000\n",
       "mean       77.408387\n",
       "std        32.224279\n",
       "min        12.000000\n",
       "25%        52.275000\n",
       "50%        72.000000\n",
       "75%        96.000000\n",
       "max       179.600000\n",
       "Name: total_area, dtype: float64"
      ]
     },
     "execution_count": 38,
     "metadata": {},
     "output_type": "execute_result"
    },
    {
     "data": {
      "image/png": "[encoded data removed]",
      "text/plain": [
       "<Figure size 432x288 with 1 Axes>"
      ]
     },
     "metadata": {
      "needs_background": "light"
     },
     "output_type": "display_data"
    }
   ],
   "source": [
    "# изучиv следующие параметры: площадь, цена, число комнат, высота потолков\n",
    "# посмотрим на площадь\n",
    "flats_centre['total_area'].hist()\n",
    "plt.title('Площадь')\n",
    "flats_centre['total_area'].describe()"
   ]
  },
  {
   "cell_type": "code",
   "execution_count": 39,
   "metadata": {},
   "outputs": [
    {
     "data": {
      "text/plain": [
       "count         2158.000000\n",
       "mean      10593644.920760\n",
       "std        8552630.944392\n",
       "min        1600000.000000\n",
       "25%        6200000.000000\n",
       "50%        8277475.000000\n",
       "75%       11972500.000000\n",
       "max      124000000.000000\n",
       "Name: last_price, dtype: object"
      ]
     },
     "execution_count": 39,
     "metadata": {},
     "output_type": "execute_result"
    },
    {
     "data": {
      "image/png": "[encoded data removed]",
      "text/plain": [
       "<Figure size 432x288 with 1 Axes>"
      ]
     },
     "metadata": {
      "needs_background": "light"
     },
     "output_type": "display_data"
    }
   ],
   "source": [
    "# посмотрим на цену\n",
    "flats_centre['last_price'].hist()\n",
    "plt.title('Цена')\n",
    "flats_centre['last_price'].describe().apply(lambda x: format(x, 'f'))"
   ]
  },
  {
   "cell_type": "code",
   "execution_count": 40,
   "metadata": {},
   "outputs": [
    {
     "data": {
      "text/plain": [
       "count    2158.000000\n",
       "mean        2.528267\n",
       "std         1.069616\n",
       "min         0.000000\n",
       "25%         2.000000\n",
       "50%         2.000000\n",
       "75%         3.000000\n",
       "max         5.000000\n",
       "Name: rooms, dtype: float64"
      ]
     },
     "execution_count": 40,
     "metadata": {},
     "output_type": "execute_result"
    },
    {
     "data": {
      "image/png": "[encoded data removed]",
      "text/plain": [
       "<Figure size 432x288 with 1 Axes>"
      ]
     },
     "metadata": {
      "needs_background": "light"
     },
     "output_type": "display_data"
    }
   ],
   "source": [
    "# посмотрим на число комнат\n",
    "flats_centre['rooms'].hist()\n",
    "plt.title('Число комнат')\n",
    "flats_centre['rooms'].describe()"
   ]
  },
  {
   "cell_type": "code",
   "execution_count": 41,
   "metadata": {},
   "outputs": [
    {
     "data": {
      "text/plain": [
       "count    2158.000000\n",
       "mean        2.920181\n",
       "std         0.317108\n",
       "min         2.400000\n",
       "25%         2.700000\n",
       "50%         2.750000\n",
       "75%         3.100000\n",
       "max         4.800000\n",
       "Name: ceiling_height, dtype: float64"
      ]
     },
     "execution_count": 41,
     "metadata": {},
     "output_type": "execute_result"
    },
    {
     "data": {
      "image/png": "[encoded data removed]",
      "text/plain": [
       "<Figure size 432x288 with 1 Axes>"
      ]
     },
     "metadata": {
      "needs_background": "light"
     },
     "output_type": "display_data"
    }
   ],
   "source": [
    "# посмотрим на высоту потолков\n",
    "flats_centre['ceiling_height'].hist()\n",
    "plt.title('Высота потолков')\n",
    "flats_centre['ceiling_height'].describe()"
   ]
  },
  {
   "cell_type": "markdown",
   "metadata": {},
   "source": [
    "Тз гистограмм видим, что в центре превалируют небольшие квартиры плозадью от 30 до 160 метров, со стандартной высотой потолков (2.7 метра), средняя цена превышает 8000000 рублей и эти квартиры в основном 2х или 3х комнатные."
   ]
  },
  {
   "cell_type": "code",
   "execution_count": 42,
   "metadata": {},
   "outputs": [
    {
     "data": {
      "text/html": [
       "<div>\n",
       "<style scoped>\n",
       "    .dataframe tbody tr th:only-of-type {\n",
       "        vertical-align: middle;\n",
       "    }\n",
       "\n",
       "    .dataframe tbody tr th {\n",
       "        vertical-align: top;\n",
       "    }\n",
       "\n",
       "    .dataframe thead th {\n",
       "        text-align: right;\n",
       "    }\n",
       "</style>\n",
       "<table border=\"1\" class=\"dataframe\">\n",
       "  <thead>\n",
       "    <tr style=\"text-align: right;\">\n",
       "      <th></th>\n",
       "      <th>last_price</th>\n",
       "    </tr>\n",
       "    <tr>\n",
       "      <th>rooms</th>\n",
       "      <th></th>\n",
       "    </tr>\n",
       "  </thead>\n",
       "  <tbody>\n",
       "    <tr>\n",
       "      <td>0</td>\n",
       "      <td>4.143273e+06</td>\n",
       "    </tr>\n",
       "    <tr>\n",
       "      <td>1</td>\n",
       "      <td>6.513363e+06</td>\n",
       "    </tr>\n",
       "    <tr>\n",
       "      <td>2</td>\n",
       "      <td>8.978067e+06</td>\n",
       "    </tr>\n",
       "    <tr>\n",
       "      <td>3</td>\n",
       "      <td>1.262267e+07</td>\n",
       "    </tr>\n",
       "    <tr>\n",
       "      <td>4</td>\n",
       "      <td>1.395467e+07</td>\n",
       "    </tr>\n",
       "    <tr>\n",
       "      <td>5</td>\n",
       "      <td>1.484689e+07</td>\n",
       "    </tr>\n",
       "  </tbody>\n",
       "</table>\n",
       "</div>"
      ],
      "text/plain": [
       "         last_price\n",
       "rooms              \n",
       "0      4.143273e+06\n",
       "1      6.513363e+06\n",
       "2      8.978067e+06\n",
       "3      1.262267e+07\n",
       "4      1.395467e+07\n",
       "5      1.484689e+07"
      ]
     },
     "metadata": {},
     "output_type": "display_data"
    },
    {
     "data": {
      "text/plain": [
       "<matplotlib.axes._subplots.AxesSubplot at 0x7f1e1be50250>"
      ]
     },
     "execution_count": 42,
     "metadata": {},
     "output_type": "execute_result"
    },
    {
     "data": {
      "image/png": "[encoded data removed]",
      "text/plain": [
       "<Figure size 432x288 with 1 Axes>"
      ]
     },
     "metadata": {
      "needs_background": "light"
     },
     "output_type": "display_data"
    }
   ],
   "source": [
    "# выделим факторы, которые влияют на стоимость квартиры (число комнат, этаж, удалённость от центра, дата размещения объявления)\n",
    "# начнем с числа комнат\n",
    "rooms_prices_centre = flats_centre.pivot_table(index='rooms', values='last_price', aggfunc='mean')\n",
    "display(rooms_prices_centre)\n",
    "rooms_prices.plot(title = 'Зависимость цены от количества комнат')\n"
   ]
  },
  {
   "cell_type": "code",
   "execution_count": 43,
   "metadata": {},
   "outputs": [
    {
     "name": "stdout",
     "output_type": "stream",
     "text": [
      "0.15920318710354034\n"
     ]
    },
    {
     "data": {
      "image/png": "[encoded data removed]",
      "text/plain": [
       "<Figure size 432x288 with 1 Axes>"
      ]
     },
     "metadata": {
      "needs_background": "light"
     },
     "output_type": "display_data"
    }
   ],
   "source": [
    "# зависимость между этажем и ценой\n",
    "flats_centre['floor'].value_counts().plot(style='o')\n",
    "print(flats_centre['last_price'].corr(flats_centre['floor']))"
   ]
  },
  {
   "cell_type": "code",
   "execution_count": 44,
   "metadata": {},
   "outputs": [
    {
     "name": "stdout",
     "output_type": "stream",
     "text": [
      "-0.030800103372010196\n"
     ]
    }
   ],
   "source": [
    "# зависимость между ценой и удаленностью от центра\n",
    "print(flats_centre['last_price'].corr(flats_centre['cityCenters_nearest']))"
   ]
  },
  {
   "cell_type": "code",
   "execution_count": 45,
   "metadata": {},
   "outputs": [
    {
     "data": {
      "text/html": [
       "<div>\n",
       "<style scoped>\n",
       "    .dataframe tbody tr th:only-of-type {\n",
       "        vertical-align: middle;\n",
       "    }\n",
       "\n",
       "    .dataframe tbody tr th {\n",
       "        vertical-align: top;\n",
       "    }\n",
       "\n",
       "    .dataframe thead th {\n",
       "        text-align: right;\n",
       "    }\n",
       "</style>\n",
       "<table border=\"1\" class=\"dataframe\">\n",
       "  <thead>\n",
       "    <tr style=\"text-align: right;\">\n",
       "      <th></th>\n",
       "      <th>last_price</th>\n",
       "    </tr>\n",
       "    <tr>\n",
       "      <th>first_day_exposition</th>\n",
       "      <th></th>\n",
       "    </tr>\n",
       "  </thead>\n",
       "  <tbody>\n",
       "    <tr>\n",
       "      <td>2015-02-26</td>\n",
       "      <td>7700000.0</td>\n",
       "    </tr>\n",
       "    <tr>\n",
       "      <td>2015-03-12</td>\n",
       "      <td>5900000.0</td>\n",
       "    </tr>\n",
       "    <tr>\n",
       "      <td>2015-03-23</td>\n",
       "      <td>3400000.0</td>\n",
       "    </tr>\n",
       "    <tr>\n",
       "      <td>2015-04-06</td>\n",
       "      <td>13400000.0</td>\n",
       "    </tr>\n",
       "    <tr>\n",
       "      <td>2015-04-28</td>\n",
       "      <td>11000000.0</td>\n",
       "    </tr>\n",
       "    <tr>\n",
       "      <td>...</td>\n",
       "      <td>...</td>\n",
       "    </tr>\n",
       "    <tr>\n",
       "      <td>2019-04-12</td>\n",
       "      <td>9000000.0</td>\n",
       "    </tr>\n",
       "    <tr>\n",
       "      <td>2019-04-16</td>\n",
       "      <td>6190000.0</td>\n",
       "    </tr>\n",
       "    <tr>\n",
       "      <td>2019-04-18</td>\n",
       "      <td>7200000.0</td>\n",
       "    </tr>\n",
       "    <tr>\n",
       "      <td>2019-04-22</td>\n",
       "      <td>7700000.0</td>\n",
       "    </tr>\n",
       "    <tr>\n",
       "      <td>2019-04-26</td>\n",
       "      <td>11270000.0</td>\n",
       "    </tr>\n",
       "  </tbody>\n",
       "</table>\n",
       "<p>809 rows × 1 columns</p>\n",
       "</div>"
      ],
      "text/plain": [
       "                      last_price\n",
       "first_day_exposition            \n",
       "2015-02-26             7700000.0\n",
       "2015-03-12             5900000.0\n",
       "2015-03-23             3400000.0\n",
       "2015-04-06            13400000.0\n",
       "2015-04-28            11000000.0\n",
       "...                          ...\n",
       "2019-04-12             9000000.0\n",
       "2019-04-16             6190000.0\n",
       "2019-04-18             7200000.0\n",
       "2019-04-22             7700000.0\n",
       "2019-04-26            11270000.0\n",
       "\n",
       "[809 rows x 1 columns]"
      ]
     },
     "metadata": {},
     "output_type": "display_data"
    },
    {
     "data": {
      "text/plain": [
       "<matplotlib.axes._subplots.AxesSubplot at 0x7f1e1bd17d10>"
      ]
     },
     "execution_count": 45,
     "metadata": {},
     "output_type": "execute_result"
    },
    {
     "data": {
      "image/png": "[encoded data removed]",
      "text/plain": [
       "<Figure size 432x288 with 1 Axes>"
      ]
     },
     "metadata": {
      "needs_background": "light"
     },
     "output_type": "display_data"
    }
   ],
   "source": [
    "# зависимость между этажем и даты размещения объявления\n",
    "price_to_date = (flats_centre.pivot_table(index='first_day_exposition', values='last_price', aggfunc='median').round())\n",
    "display(price_to_date)\n",
    "price_to_date.plot()\n"
   ]
  },
  {
   "cell_type": "markdown",
   "metadata": {},
   "source": [
    "### Вывод"
   ]
  },
  {
   "cell_type": "markdown",
   "metadata": {},
   "source": [
    "\n",
    "Главным фактором, влияющим на стоимоcть квартиры в центре, являются количество комнат. \n",
    "Этаж слабо влияет на цену, однако небольшая зависимость есть.\n",
    "Из данных видно, что на графике зависимости цены от дня есть пики, однако это можно объяснить продажей отдельных дорогих квартир.\n",
    "Зависимость между ценой и удаленностью от центра здесь практически нет, тк квартиры и так расположены в центре. \n",
    "\n",
    "Если сравнить факторы, влияющие на стоимость квартир в центре и во всех районах, которые исследовались выше, можно заметить, что удаленность от центра играла важную роль, когда речь шла обо всех квартирах из базы данных, однако, эта зависимость исчезла, когда мы рассматривали квартиры в центре.\n",
    "Также наблюдается более сильная зависимость от этажа во всем городе, а то время как в центре этаж не так сильно влияет на стоимость.\n",
    "Самая сильная зависимость, которая просматривается и в центре и во всем городе, это зависимость цены от количества комнат.\n",
    "Самая несущественная зависимость наблюдается между ценой и датой продажи."
   ]
  },
  {
   "cell_type": "code",
   "execution_count": null,
   "metadata": {},
   "outputs": [],
   "source": []
  },
  {
   "cell_type": "markdown",
   "metadata": {},
   "source": [
    "## Общий вывод"
   ]
  },
  {
   "cell_type": "markdown",
   "metadata": {},
   "source": [
    "В данном проекте были проанализированы данные архива объявлений о продаже квартир в Санкт-Петербурге и соседних населённых пунктах за несколько лет. Необходимо было выявить рыночную стоимость объектов недвижимости, установить параметры, построить автоматизированную систему: она отследит аномалии и мошенническую деятельность.\n",
    "\n",
    "По каждой квартире на продажу были доступны два вида данных. Первые вписаны пользователем, вторые получены автоматически на основе картографических данных. Например, расстояние до центра, аэропорта, ближайшего парка и водоёма.\n",
    "\n",
    "На первом этапы выгрузили данные. Прежде чем приступить к их изучению необходимо было воспользоваться разделителем 'sep' для того, чтобы данные имели читаемый вид. Далее изучили данные и определили и изучили пропущенные значения. \n",
    "\n",
    "В таблице изначально было 22 столбца и 23699 строк. Тип данных во всех столбцах — bool, float64, int64, object.\n",
    "С столбцах поочередно провели проверку данных при помощи методов value_counts(), min(), max(). Во многих столбцах было много пропусков. Данные были выгружены из двух источников, в том числе, один из источников заполнялся вручную, возможно, это стало причиной такого большого количества пропусков. Пропуски заполнялись различными данными:\n",
    "- в ceiling_height заменили все пропуски на стандартную высоту потолков в новостройке;\n",
    "- в floors_total произвели замену на среднюю высоту многоквартирных домов, т.е 16;\n",
    "- в is_apartment доля пропусков существенна, однако их стоит заменить на False, так как люди имеющие апартаменты ответили бы \"да\";\n",
    "- в balcony логично заменить пропуски на 0, так как если человек не указал количество балконов, видимо их нет;\n",
    "- в locality_name здесь пропуски можно заменить на unknown, их доля незначительна;\n",
    "- в airports_nearest, cityCenters_nearest, parks_around3000, parks_nearest, ponds_around3000, ponds_nearest пропуски заменили на медианные значения.\n",
    "Во время заполнения пропусков также произвели замену некоторых типов данных. Столбец first_day_exposition перевели в datetime64, is_apartment полностью в bool. Также убрали варианты \"поселок\" и заменила на \"посёлок\".\n",
    "\n",
    "На следующем этапе проекта посчитали и добавили данные:\n",
    "- цену квадратного метра;\n",
    "- день недели, месяц и год публикации объявления;\n",
    "- этаж квартиры; варианты — первый, последний, другой;\n",
    "- соотношение жилой и общей площади, а также отношение площади кухни к общей.\n",
    "\n",
    "На этапе исследовательского анализа сначала были изучены следующие параметры: площадь, цена, число комнат, высота потолков и время продажи квартир. Для этого были построены гистограммы и диаграммы размаха для каждого параметра. Это позволило выявить аномалии в данных и избавиться от них.\n",
    "Так диаграмма размаха для времени продажи подтверждает, что значения больше 500 выходит за пределы размаха (1.5 кв), а это значит, это и есть необычно долгие продажи. Нижний размах совпадает с нулем, это значит, что даже продажи быстрее, чем 45 дней не являются аномалиями, однако являются редкими. Были обнаружены выбросы в столбце rooms. Из диаграмм видим, что квартиры с более чем 6 комнатами являются аномалиями. В столбце total_area выбросы начинаются со значения 180 м. Для last_price нормальной ценой можно считать от 1000000 до 35000000.\n",
    "\n",
    "На следующем этапе исследовали зависимость цены от от площади, числа комнат, удалённости от центра и от того, на каком этаже расположена квартира: первом, последнем или другом. Также изучили зависимость от даты размещения: дня недели, месяца и года. В итоге выявили зависимости цены от первых 4х факторов (чем больше площадь, тем выше цена, чем больше комнат, тем выше цена, цена ниже, если центр дальше, на первом этаже квартиры дешевле). Было также выявлено, что зависимость цены  от даты размещения есть, однако она слабая. \n",
    "\n",
    "Далее выбрали 10 населённых пунктов с наибольшим числом объявлений. Посчитали среднюю цену квадратного метра в этих населённых пунктах и выделили населённые пункты с самой высокой и низкой стоимостью жилья ( Санкт-Петербург, Шушары, Пушкин \n",
    "Выборг, Всеволожск и Гатчина соответственно).\n",
    "\n",
    "Далее выяснили, какая область входит в центр - 7 км. Для этого построили график зависимости изменения цены от километра удаления от центра и изучили объявления в этих рамках. Проанализировали следующие параметры: площадь, цена, число комнат, высота потолков. Также выделите факторы, которые влияют на стоимость квартиры. Главным фактором является количество комнат. Наблюдали слабую зависимость между ценой и этажом, однако заметили, что зависимости между ценой и удаленностью от центра здесь практически нет, т.к. квартиры и так расположены в центре. \n",
    "\n",
    "Далее сравнили факторы, влияющие на стоимость квартир в центре и во всех районах, которые исследовались выше и заметили, что удаленность от центра играла важную роль, когда речь шла обо всех квартирах из базы данных, однако, эта зависимость исчезла, когда мы рассматривали квартиры в центре.\n",
    "Также наблюдается более сильная зависимость от этажа во всем городе, а то время как в центре этаж не так сильно влияет на стоимость.\n",
    "Самая сильная зависимость, которая просматривается и в центре и во всем городе, это зависимость цены от количества комнат.\n",
    "Самая несущественная зависимость наблюдается между ценой и датой продажи.\n",
    "\n",
    "\n",
    "\n",
    "\n"
   ]
  },
  {
   "cell_type": "markdown",
   "metadata": {},
   "source": []
  },
  {
   "cell_type": "markdown",
   "metadata": {},
   "source": [
    "## Чек-лист готовности проекта\n",
    "\n",
    "Поставьте 'x' в выполненных пунктах. Далее нажмите Shift+Enter."
   ]
  },
  {
   "cell_type": "markdown",
   "metadata": {},
   "source": [
    "- [x]  открыт файл\n",
    "- [x]  файлы изучены (выведены первые строки, метод info())\n",
    "- [x]  определены пропущенные значения\n",
    "- [x]  заполнены пропущенные значения\n",
    "- [x]  есть пояснение, какие пропущенные значения обнаружены\n",
    "- [x]  изменены типы данных\n",
    "- [x]  есть пояснение, в каких столбцах изменены типы и почему\n",
    "- [x]  посчитано и добавлено в таблицу: цена квадратного метра\n",
    "- [x]  посчитано и добавлено в таблицу: день недели, месяц и год публикации объявления\n",
    "- [x]  посчитано и добавлено в таблицу: этаж квартиры; варианты — первый, последний, другой\n",
    "- [x]  посчитано и добавлено в таблицу: соотношение жилой и общей площади, а также отношение площади кухни к общей\n",
    "- [x]  изучены следующие параметры: площадь, цена, число комнат, высота потолков\n",
    "- [x]  построены гистограммы для каждого параметра\n",
    "- [x]  выполнено задание: \"Изучите время продажи квартиры. Постройте гистограмму. Посчитайте среднее и медиану. Опишите, сколько обычно занимает продажа. Когда можно считать, что продажи прошли очень быстро, а когда необычно долго?\"\n",
    "- [x]  выполнено задание: \"Уберите редкие и выбивающиеся значения. Опишите, какие особенности обнаружили.\"\n",
    "- [x]  выполнено задание: \"Какие факторы больше всего влияют на стоимость квартиры? Изучите, зависит ли цена от квадратного метра, числа комнат, этажа (первого или последнего), удалённости от центра. Также изучите зависимость от даты размещения: дня недели, месяца и года. \"Выберите 10 населённых пунктов с наибольшим числом объявлений. Посчитайте среднюю цену квадратного метра в этих населённых пунктах. Выделите населённые пункты с самой высокой и низкой стоимостью жилья. Эти данные можно найти по имени в столбце '*locality_name'*. \"\n",
    "- [x]  выполнено задание: \"Изучите предложения квартир: для каждой квартиры есть информация о расстоянии до центра. Выделите квартиры в Санкт-Петербурге (*'locality_name'*). Ваша задача — выяснить, какая область входит в центр. Создайте столбец с расстоянием до центра в километрах: округлите до целых значений. После этого посчитайте среднюю цену для каждого километра. Постройте график: он должен показывать, как цена зависит от удалённости от центра. Определите границу, где график сильно меняется — это и будет центральная зона. \"\n",
    "- [x]  выполнено задание: \"Выделите сегмент квартир в центре. Проанализируйте эту территорию и изучите следующие параметры: площадь, цена, число комнат, высота потолков. Также выделите факторы, которые влияют на стоимость квартиры (число комнат, этаж, удалённость от центра, дата размещения объявления). Сделайте выводы. Отличаются ли они от общих выводов по всему городу?\"\n",
    "- [x]  в каждом этапе есть выводы\n",
    "- [x]  есть общий вывод"
   ]
  },
  {
   "cell_type": "code",
   "execution_count": null,
   "metadata": {},
   "outputs": [],
   "source": []
  },
  {
   "cell_type": "code",
   "execution_count": null,
   "metadata": {},
   "outputs": [],
   "source": []
  }
 ],
 "metadata": {
  "ExecuteTimeLog": [
   {
    "duration": 581,
    "start_time": "2022-01-03T15:21:05.028Z"
   },
   {
    "duration": 65,
    "start_time": "2022-01-03T15:26:01.646Z"
   },
   {
    "duration": 60,
    "start_time": "2022-01-03T15:26:14.052Z"
   },
   {
    "duration": 88,
    "start_time": "2022-01-03T15:26:43.666Z"
   },
   {
    "duration": 11,
    "start_time": "2022-01-03T15:28:30.289Z"
   },
   {
    "duration": 6,
    "start_time": "2022-01-03T15:40:24.867Z"
   },
   {
    "duration": 10,
    "start_time": "2022-01-03T15:41:04.879Z"
   },
   {
    "duration": 19,
    "start_time": "2022-01-03T15:41:42.998Z"
   },
   {
    "duration": 10,
    "start_time": "2022-01-03T15:41:51.715Z"
   },
   {
    "duration": 8,
    "start_time": "2022-01-03T15:42:36.345Z"
   },
   {
    "duration": 16,
    "start_time": "2022-01-03T15:43:21.686Z"
   },
   {
    "duration": 23,
    "start_time": "2022-01-03T15:44:15.691Z"
   },
   {
    "duration": 16,
    "start_time": "2022-01-03T15:54:38.579Z"
   },
   {
    "duration": 28,
    "start_time": "2022-01-03T15:55:41.193Z"
   },
   {
    "duration": 17,
    "start_time": "2022-01-03T15:58:27.663Z"
   },
   {
    "duration": 19,
    "start_time": "2022-01-03T15:59:51.628Z"
   },
   {
    "duration": 18,
    "start_time": "2022-01-03T16:00:29.732Z"
   },
   {
    "duration": 21,
    "start_time": "2022-01-03T16:01:51.122Z"
   },
   {
    "duration": 23,
    "start_time": "2022-01-03T16:08:22.864Z"
   },
   {
    "duration": 24,
    "start_time": "2022-01-03T16:08:59.643Z"
   },
   {
    "duration": 27,
    "start_time": "2022-01-03T16:13:11.355Z"
   },
   {
    "duration": 27,
    "start_time": "2022-01-03T16:15:44.206Z"
   },
   {
    "duration": 28,
    "start_time": "2022-01-03T16:21:32.094Z"
   },
   {
    "duration": 28,
    "start_time": "2022-01-03T16:21:43.524Z"
   },
   {
    "duration": 29,
    "start_time": "2022-01-03T16:23:38.710Z"
   },
   {
    "duration": 31,
    "start_time": "2022-01-03T16:24:35.050Z"
   },
   {
    "duration": 32,
    "start_time": "2022-01-03T16:25:36.521Z"
   },
   {
    "duration": 6,
    "start_time": "2022-01-03T16:31:50.399Z"
   },
   {
    "duration": 10,
    "start_time": "2022-01-03T16:36:48.206Z"
   },
   {
    "duration": 3141,
    "start_time": "2022-01-03T16:39:18.273Z"
   },
   {
    "duration": 5,
    "start_time": "2022-01-03T16:41:12.960Z"
   },
   {
    "duration": 10,
    "start_time": "2022-01-03T16:41:44.903Z"
   },
   {
    "duration": 10,
    "start_time": "2022-01-03T16:47:11.072Z"
   },
   {
    "duration": 14,
    "start_time": "2022-01-03T16:47:40.976Z"
   },
   {
    "duration": 15,
    "start_time": "2022-01-03T16:57:39.531Z"
   },
   {
    "duration": 2975,
    "start_time": "2022-01-03T16:57:54.783Z"
   },
   {
    "duration": 17,
    "start_time": "2022-01-03T16:58:00.695Z"
   },
   {
    "duration": 161,
    "start_time": "2022-01-03T17:04:25.486Z"
   },
   {
    "duration": 21,
    "start_time": "2022-01-03T17:04:59.320Z"
   },
   {
    "duration": 22,
    "start_time": "2022-01-03T17:05:16.710Z"
   },
   {
    "duration": 19,
    "start_time": "2022-01-03T17:06:35.278Z"
   },
   {
    "duration": 21,
    "start_time": "2022-01-03T17:13:17.688Z"
   },
   {
    "duration": 22,
    "start_time": "2022-01-03T17:15:18.148Z"
   },
   {
    "duration": 25,
    "start_time": "2022-01-03T19:35:40.687Z"
   },
   {
    "duration": 34,
    "start_time": "2022-01-03T19:35:52.875Z"
   },
   {
    "duration": 27,
    "start_time": "2022-01-03T19:36:03.049Z"
   },
   {
    "duration": 633,
    "start_time": "2022-01-03T19:36:18.314Z"
   },
   {
    "duration": 11,
    "start_time": "2022-01-03T19:36:18.948Z"
   },
   {
    "duration": 48,
    "start_time": "2022-01-03T19:36:18.961Z"
   },
   {
    "duration": 8,
    "start_time": "2022-01-03T19:36:19.010Z"
   },
   {
    "duration": 29,
    "start_time": "2022-01-03T19:36:19.019Z"
   },
   {
    "duration": 24,
    "start_time": "2022-01-03T19:36:25.681Z"
   },
   {
    "duration": 28,
    "start_time": "2022-01-03T19:36:42.243Z"
   },
   {
    "duration": 3294,
    "start_time": "2022-01-03T19:37:27.075Z"
   },
   {
    "duration": 30,
    "start_time": "2022-01-03T19:37:40.203Z"
   },
   {
    "duration": 26,
    "start_time": "2022-01-03T19:38:56.659Z"
   },
   {
    "duration": 24,
    "start_time": "2022-01-03T19:39:14.396Z"
   },
   {
    "duration": 3871,
    "start_time": "2022-01-03T19:39:28.307Z"
   },
   {
    "duration": 29,
    "start_time": "2022-01-03T19:39:38.592Z"
   },
   {
    "duration": 379,
    "start_time": "2022-01-03T21:41:57.911Z"
   },
   {
    "duration": 909,
    "start_time": "2022-01-03T21:43:00.666Z"
   },
   {
    "duration": 15,
    "start_time": "2022-01-03T21:43:01.578Z"
   },
   {
    "duration": 74,
    "start_time": "2022-01-03T21:43:01.599Z"
   },
   {
    "duration": 11,
    "start_time": "2022-01-03T21:43:01.676Z"
   },
   {
    "duration": 93,
    "start_time": "2022-01-03T21:43:01.690Z"
   },
   {
    "duration": 68,
    "start_time": "2022-01-03T21:43:09.114Z"
   },
   {
    "duration": 62,
    "start_time": "2022-01-03T21:46:03.490Z"
   },
   {
    "duration": 147,
    "start_time": "2022-01-03T22:00:31.774Z"
   },
   {
    "duration": 152,
    "start_time": "2022-01-03T22:02:56.036Z"
   },
   {
    "duration": 129,
    "start_time": "2022-01-03T22:03:14.995Z"
   },
   {
    "duration": 6269,
    "start_time": "2022-01-03T22:17:00.594Z"
   },
   {
    "duration": 227542,
    "start_time": "2022-01-03T22:21:39.223Z"
   },
   {
    "duration": 228005,
    "start_time": "2022-01-03T22:28:24.099Z"
   },
   {
    "duration": 127,
    "start_time": "2022-01-03T22:36:49.381Z"
   },
   {
    "duration": 116,
    "start_time": "2022-01-03T22:37:00.226Z"
   },
   {
    "duration": 119,
    "start_time": "2022-01-03T22:38:21.413Z"
   },
   {
    "duration": 109,
    "start_time": "2022-01-03T22:38:56.307Z"
   },
   {
    "duration": 110,
    "start_time": "2022-01-03T22:39:03.997Z"
   },
   {
    "duration": 356,
    "start_time": "2022-01-03T22:41:19.806Z"
   },
   {
    "duration": 110,
    "start_time": "2022-01-03T22:41:33.780Z"
   },
   {
    "duration": 241,
    "start_time": "2022-01-04T11:06:12.247Z"
   },
   {
    "duration": 213,
    "start_time": "2022-01-04T11:08:36.325Z"
   },
   {
    "duration": 767,
    "start_time": "2022-01-04T11:09:05.800Z"
   },
   {
    "duration": 11,
    "start_time": "2022-01-04T11:09:06.569Z"
   },
   {
    "duration": 48,
    "start_time": "2022-01-04T11:09:06.582Z"
   },
   {
    "duration": 8,
    "start_time": "2022-01-04T11:09:06.632Z"
   },
   {
    "duration": 61,
    "start_time": "2022-01-04T11:09:06.642Z"
   },
   {
    "duration": 320,
    "start_time": "2022-01-04T11:09:06.705Z"
   },
   {
    "duration": 10,
    "start_time": "2022-01-04T11:19:43.507Z"
   },
   {
    "duration": 14,
    "start_time": "2022-01-04T11:26:44.086Z"
   },
   {
    "duration": 10,
    "start_time": "2022-01-04T11:26:46.458Z"
   },
   {
    "duration": 276,
    "start_time": "2022-01-04T11:51:41.768Z"
   },
   {
    "duration": 471,
    "start_time": "2022-01-06T11:21:45.164Z"
   },
   {
    "duration": 912,
    "start_time": "2022-01-06T11:22:13.534Z"
   },
   {
    "duration": 24,
    "start_time": "2022-01-06T11:22:14.449Z"
   },
   {
    "duration": 50,
    "start_time": "2022-01-06T11:22:14.477Z"
   },
   {
    "duration": 39,
    "start_time": "2022-01-06T11:22:14.531Z"
   },
   {
    "duration": 94,
    "start_time": "2022-01-06T11:22:14.573Z"
   },
   {
    "duration": 498,
    "start_time": "2022-01-06T11:22:14.669Z"
   },
   {
    "duration": 23,
    "start_time": "2022-01-06T11:22:15.170Z"
   },
   {
    "duration": 16,
    "start_time": "2022-01-06T11:22:15.196Z"
   },
   {
    "duration": 6,
    "start_time": "2022-01-06T11:22:15.214Z"
   },
   {
    "duration": 42,
    "start_time": "2022-01-06T12:10:35.614Z"
   },
   {
    "duration": 351,
    "start_time": "2022-01-06T12:22:41.254Z"
   },
   {
    "duration": 859,
    "start_time": "2022-01-06T12:22:51.746Z"
   },
   {
    "duration": 15,
    "start_time": "2022-01-06T12:22:52.607Z"
   },
   {
    "duration": 61,
    "start_time": "2022-01-06T12:22:52.625Z"
   },
   {
    "duration": 11,
    "start_time": "2022-01-06T12:22:52.689Z"
   },
   {
    "duration": 96,
    "start_time": "2022-01-06T12:22:52.702Z"
   },
   {
    "duration": 483,
    "start_time": "2022-01-06T12:22:52.800Z"
   },
   {
    "duration": 22,
    "start_time": "2022-01-06T12:22:53.286Z"
   },
   {
    "duration": 14,
    "start_time": "2022-01-06T12:22:53.312Z"
   },
   {
    "duration": 6,
    "start_time": "2022-01-06T12:22:53.328Z"
   },
   {
    "duration": 340,
    "start_time": "2022-01-06T12:22:53.363Z"
   },
   {
    "duration": 303,
    "start_time": "2022-01-06T12:23:02.493Z"
   },
   {
    "duration": 11,
    "start_time": "2022-01-06T12:23:09.453Z"
   },
   {
    "duration": 17,
    "start_time": "2022-01-06T12:24:38.059Z"
   },
   {
    "duration": 50,
    "start_time": "2022-01-06T12:25:08.147Z"
   },
   {
    "duration": 1036,
    "start_time": "2022-01-06T12:34:03.411Z"
   },
   {
    "duration": 995,
    "start_time": "2022-01-06T12:34:41.951Z"
   },
   {
    "duration": 7,
    "start_time": "2022-01-06T13:06:44.683Z"
   },
   {
    "duration": 86,
    "start_time": "2022-01-06T13:17:45.061Z"
   },
   {
    "duration": 17,
    "start_time": "2022-01-06T13:17:51.171Z"
   },
   {
    "duration": 566,
    "start_time": "2022-01-06T13:29:19.818Z"
   },
   {
    "duration": 590,
    "start_time": "2022-01-06T13:30:50.161Z"
   },
   {
    "duration": 328,
    "start_time": "2022-01-06T13:33:17.545Z"
   },
   {
    "duration": 323,
    "start_time": "2022-01-06T13:36:10.500Z"
   },
   {
    "duration": 332,
    "start_time": "2022-01-06T13:38:40.258Z"
   },
   {
    "duration": 638,
    "start_time": "2022-01-06T13:39:03.493Z"
   },
   {
    "duration": 89,
    "start_time": "2022-01-06T13:41:58.480Z"
   },
   {
    "duration": 438,
    "start_time": "2022-01-06T13:42:34.400Z"
   },
   {
    "duration": 441,
    "start_time": "2022-01-06T13:42:43.082Z"
   },
   {
    "duration": 699,
    "start_time": "2022-01-06T13:42:48.654Z"
   },
   {
    "duration": 323,
    "start_time": "2022-01-06T13:43:17.439Z"
   },
   {
    "duration": 444,
    "start_time": "2022-01-06T13:45:34.095Z"
   },
   {
    "duration": 464,
    "start_time": "2022-01-06T13:46:21.700Z"
   },
   {
    "duration": 625,
    "start_time": "2022-01-06T13:47:02.574Z"
   },
   {
    "duration": 3883,
    "start_time": "2022-01-06T13:47:10.691Z"
   },
   {
    "duration": 618,
    "start_time": "2022-01-06T13:47:56.010Z"
   },
   {
    "duration": 312,
    "start_time": "2022-01-06T13:48:05.492Z"
   },
   {
    "duration": 518,
    "start_time": "2022-01-06T13:48:17.823Z"
   },
   {
    "duration": 299,
    "start_time": "2022-01-06T14:27:11.407Z"
   },
   {
    "duration": 330,
    "start_time": "2022-01-06T14:27:27.662Z"
   },
   {
    "duration": 301,
    "start_time": "2022-01-06T14:31:12.330Z"
   },
   {
    "duration": 305,
    "start_time": "2022-01-06T14:31:29.782Z"
   },
   {
    "duration": 337,
    "start_time": "2022-01-06T14:36:13.729Z"
   },
   {
    "duration": 335,
    "start_time": "2022-01-06T14:38:01.528Z"
   },
   {
    "duration": 326,
    "start_time": "2022-01-06T14:43:04.262Z"
   },
   {
    "duration": 10030,
    "start_time": "2022-01-06T14:49:50.563Z"
   },
   {
    "duration": 507,
    "start_time": "2022-01-06T14:52:24.069Z"
   },
   {
    "duration": 655,
    "start_time": "2022-01-06T14:52:59.198Z"
   },
   {
    "duration": 90,
    "start_time": "2022-01-06T14:53:22.466Z"
   },
   {
    "duration": 802,
    "start_time": "2022-01-06T14:53:32.307Z"
   },
   {
    "duration": 95,
    "start_time": "2022-01-06T14:54:15.591Z"
   },
   {
    "duration": 711,
    "start_time": "2022-01-06T14:54:19.589Z"
   },
   {
    "duration": 368,
    "start_time": "2022-01-06T14:54:29.470Z"
   },
   {
    "duration": 364,
    "start_time": "2022-01-06T14:54:57.349Z"
   },
   {
    "duration": 387,
    "start_time": "2022-01-06T14:55:12.098Z"
   },
   {
    "duration": 336,
    "start_time": "2022-01-06T14:55:36.991Z"
   },
   {
    "duration": 356,
    "start_time": "2022-01-06T14:58:07.831Z"
   },
   {
    "duration": 340,
    "start_time": "2022-01-06T14:58:44.398Z"
   },
   {
    "duration": 354,
    "start_time": "2022-01-06T15:13:43.232Z"
   },
   {
    "duration": 432,
    "start_time": "2022-01-06T15:14:11.154Z"
   },
   {
    "duration": 453,
    "start_time": "2022-01-06T15:26:53.081Z"
   },
   {
    "duration": 482,
    "start_time": "2022-01-06T15:27:38.497Z"
   },
   {
    "duration": 480,
    "start_time": "2022-01-06T15:27:41.932Z"
   },
   {
    "duration": 452,
    "start_time": "2022-01-06T15:29:49.754Z"
   },
   {
    "duration": 274,
    "start_time": "2022-01-06T16:04:03.899Z"
   },
   {
    "duration": 228,
    "start_time": "2022-01-06T16:05:22.998Z"
   },
   {
    "duration": 106,
    "start_time": "2022-01-06T16:06:44.644Z"
   },
   {
    "duration": 89,
    "start_time": "2022-01-06T16:06:48.952Z"
   },
   {
    "duration": 118,
    "start_time": "2022-01-06T16:06:52.426Z"
   },
   {
    "duration": 461,
    "start_time": "2022-01-06T16:06:59.752Z"
   },
   {
    "duration": 346,
    "start_time": "2022-01-06T16:14:32.200Z"
   },
   {
    "duration": 231,
    "start_time": "2022-01-06T16:14:38.425Z"
   },
   {
    "duration": 64,
    "start_time": "2022-01-06T16:17:50.763Z"
   },
   {
    "duration": 321,
    "start_time": "2022-01-06T16:33:10.528Z"
   },
   {
    "duration": 556,
    "start_time": "2022-01-06T16:34:16.507Z"
   },
   {
    "duration": 443,
    "start_time": "2022-01-06T16:39:30.720Z"
   },
   {
    "duration": 748,
    "start_time": "2022-01-06T16:40:28.599Z"
   },
   {
    "duration": 864,
    "start_time": "2022-01-06T16:46:34.761Z"
   },
   {
    "duration": 754,
    "start_time": "2022-01-06T16:49:48.738Z"
   },
   {
    "duration": 433,
    "start_time": "2022-01-06T19:11:11.506Z"
   },
   {
    "duration": 436,
    "start_time": "2022-01-06T19:11:35.892Z"
   },
   {
    "duration": 494,
    "start_time": "2022-01-06T19:17:17.017Z"
   },
   {
    "duration": 742,
    "start_time": "2022-01-06T19:17:48.989Z"
   },
   {
    "duration": 795,
    "start_time": "2022-01-06T19:19:16.364Z"
   },
   {
    "duration": 844,
    "start_time": "2022-01-06T19:28:44.636Z"
   },
   {
    "duration": 973,
    "start_time": "2022-01-06T19:28:58.936Z"
   },
   {
    "duration": 292,
    "start_time": "2022-01-06T19:29:21.884Z"
   },
   {
    "duration": 789,
    "start_time": "2022-01-06T19:29:28.806Z"
   },
   {
    "duration": 314,
    "start_time": "2022-01-06T19:30:00.243Z"
   },
   {
    "duration": 101,
    "start_time": "2022-01-06T19:30:09.905Z"
   },
   {
    "duration": 773,
    "start_time": "2022-01-06T19:30:31.633Z"
   },
   {
    "duration": 88,
    "start_time": "2022-01-06T19:30:43.865Z"
   },
   {
    "duration": 878,
    "start_time": "2022-01-06T19:31:03.705Z"
   },
   {
    "duration": 1125,
    "start_time": "2022-01-06T19:32:13.468Z"
   },
   {
    "duration": 1024,
    "start_time": "2022-01-06T19:32:24.624Z"
   },
   {
    "duration": 769,
    "start_time": "2022-01-06T19:32:36.360Z"
   },
   {
    "duration": 220,
    "start_time": "2022-01-08T11:20:08.307Z"
   },
   {
    "duration": 618,
    "start_time": "2022-01-08T11:20:46.974Z"
   },
   {
    "duration": 10,
    "start_time": "2022-01-08T11:20:47.594Z"
   },
   {
    "duration": 42,
    "start_time": "2022-01-08T11:20:47.608Z"
   },
   {
    "duration": 8,
    "start_time": "2022-01-08T11:20:47.652Z"
   },
   {
    "duration": 45,
    "start_time": "2022-01-08T11:20:47.661Z"
   },
   {
    "duration": 288,
    "start_time": "2022-01-08T11:20:47.707Z"
   },
   {
    "duration": 14,
    "start_time": "2022-01-08T11:20:47.996Z"
   },
   {
    "duration": 13,
    "start_time": "2022-01-08T11:20:48.013Z"
   },
   {
    "duration": 15,
    "start_time": "2022-01-08T11:20:48.027Z"
   },
   {
    "duration": 12,
    "start_time": "2022-01-08T11:20:48.044Z"
   },
   {
    "duration": 594,
    "start_time": "2022-01-08T11:20:48.057Z"
   },
   {
    "duration": 4,
    "start_time": "2022-01-08T11:20:48.653Z"
   },
   {
    "duration": 191,
    "start_time": "2022-01-08T11:20:48.658Z"
   },
   {
    "duration": 217,
    "start_time": "2022-01-08T11:20:48.851Z"
   },
   {
    "duration": 205,
    "start_time": "2022-01-08T11:20:49.069Z"
   },
   {
    "duration": 213,
    "start_time": "2022-01-08T11:20:49.276Z"
   },
   {
    "duration": 205,
    "start_time": "2022-01-08T11:20:49.491Z"
   },
   {
    "duration": 134,
    "start_time": "2022-01-08T11:20:49.697Z"
   },
   {
    "duration": 42,
    "start_time": "2022-01-08T11:20:49.833Z"
   },
   {
    "duration": 524,
    "start_time": "2022-01-08T11:20:49.877Z"
   },
   {
    "duration": 7,
    "start_time": "2022-01-08T11:28:42.371Z"
   },
   {
    "duration": 429,
    "start_time": "2022-01-08T11:28:51.957Z"
   },
   {
    "duration": 7,
    "start_time": "2022-01-08T11:29:17.371Z"
   },
   {
    "duration": 449,
    "start_time": "2022-01-08T11:29:23.828Z"
   },
   {
    "duration": 486,
    "start_time": "2022-01-08T11:29:27.485Z"
   },
   {
    "duration": 503,
    "start_time": "2022-01-08T11:30:05.953Z"
   },
   {
    "duration": 435,
    "start_time": "2022-01-08T11:31:20.062Z"
   },
   {
    "duration": 468,
    "start_time": "2022-01-08T11:32:28.909Z"
   },
   {
    "duration": 157,
    "start_time": "2022-01-08T11:36:27.810Z"
   },
   {
    "duration": 240,
    "start_time": "2022-01-08T11:40:16.520Z"
   },
   {
    "duration": 348,
    "start_time": "2022-01-08T11:41:50.088Z"
   },
   {
    "duration": 645,
    "start_time": "2022-01-08T11:45:09.197Z"
   },
   {
    "duration": 380,
    "start_time": "2022-01-08T11:45:24.992Z"
   },
   {
    "duration": 10,
    "start_time": "2022-01-08T11:55:10.586Z"
   },
   {
    "duration": 486,
    "start_time": "2022-01-08T11:55:31.810Z"
   },
   {
    "duration": 181,
    "start_time": "2022-01-08T11:55:41.545Z"
   },
   {
    "duration": 10,
    "start_time": "2022-01-08T11:56:15.354Z"
   },
   {
    "duration": 441,
    "start_time": "2022-01-08T11:56:17.849Z"
   },
   {
    "duration": 164,
    "start_time": "2022-01-08T11:56:20.595Z"
   },
   {
    "duration": 197,
    "start_time": "2022-01-08T11:57:31.692Z"
   },
   {
    "duration": 241,
    "start_time": "2022-01-08T11:57:37.205Z"
   },
   {
    "duration": 4,
    "start_time": "2022-01-08T11:59:54.991Z"
   },
   {
    "duration": 5,
    "start_time": "2022-01-08T12:11:25.378Z"
   },
   {
    "duration": 370,
    "start_time": "2022-01-08T12:13:07.324Z"
   },
   {
    "duration": 374,
    "start_time": "2022-01-08T12:13:20.116Z"
   },
   {
    "duration": 13,
    "start_time": "2022-01-08T12:20:42.722Z"
   },
   {
    "duration": 458,
    "start_time": "2022-01-08T12:20:44.486Z"
   },
   {
    "duration": 187,
    "start_time": "2022-01-08T12:20:48.036Z"
   },
   {
    "duration": 5,
    "start_time": "2022-01-08T12:20:54.087Z"
   },
   {
    "duration": 4,
    "start_time": "2022-01-08T12:21:00.006Z"
   },
   {
    "duration": 14,
    "start_time": "2022-01-08T12:21:07.445Z"
   },
   {
    "duration": 430,
    "start_time": "2022-01-08T12:21:16.437Z"
   },
   {
    "duration": 165,
    "start_time": "2022-01-08T12:21:17.660Z"
   },
   {
    "duration": 5,
    "start_time": "2022-01-08T12:21:18.898Z"
   },
   {
    "duration": 5,
    "start_time": "2022-01-08T12:21:24.173Z"
   },
   {
    "duration": 15,
    "start_time": "2022-01-08T12:23:04.227Z"
   },
   {
    "duration": 15,
    "start_time": "2022-01-08T12:23:07.757Z"
   },
   {
    "duration": 4,
    "start_time": "2022-01-08T12:23:14.518Z"
   },
   {
    "duration": 277,
    "start_time": "2022-01-08T12:25:42.020Z"
   },
   {
    "duration": 265,
    "start_time": "2022-01-08T12:25:57.161Z"
   },
   {
    "duration": 20,
    "start_time": "2022-01-08T12:26:08.141Z"
   },
   {
    "duration": 13,
    "start_time": "2022-01-08T12:28:20.167Z"
   },
   {
    "duration": 4628,
    "start_time": "2022-01-08T12:28:54.173Z"
   },
   {
    "duration": 5049,
    "start_time": "2022-01-08T12:30:18.877Z"
   },
   {
    "duration": 5566,
    "start_time": "2022-01-08T12:31:53.788Z"
   },
   {
    "duration": 694,
    "start_time": "2022-01-08T12:32:29.548Z"
   },
   {
    "duration": 15,
    "start_time": "2022-01-08T12:32:30.244Z"
   },
   {
    "duration": 46,
    "start_time": "2022-01-08T12:32:30.261Z"
   },
   {
    "duration": 32,
    "start_time": "2022-01-08T12:32:30.310Z"
   },
   {
    "duration": 72,
    "start_time": "2022-01-08T12:32:30.344Z"
   },
   {
    "duration": 311,
    "start_time": "2022-01-08T12:32:30.418Z"
   },
   {
    "duration": 15,
    "start_time": "2022-01-08T12:32:30.731Z"
   },
   {
    "duration": 43,
    "start_time": "2022-01-08T12:32:30.747Z"
   },
   {
    "duration": 29,
    "start_time": "2022-01-08T12:32:30.793Z"
   },
   {
    "duration": 44,
    "start_time": "2022-01-08T12:32:30.825Z"
   },
   {
    "duration": 648,
    "start_time": "2022-01-08T12:32:30.871Z"
   },
   {
    "duration": 5,
    "start_time": "2022-01-08T12:32:31.521Z"
   },
   {
    "duration": 275,
    "start_time": "2022-01-08T12:32:31.528Z"
   },
   {
    "duration": 250,
    "start_time": "2022-01-08T12:32:31.805Z"
   },
   {
    "duration": 237,
    "start_time": "2022-01-08T12:32:32.057Z"
   },
   {
    "duration": 200,
    "start_time": "2022-01-08T12:32:32.296Z"
   },
   {
    "duration": 243,
    "start_time": "2022-01-08T12:32:32.498Z"
   },
   {
    "duration": 463,
    "start_time": "2022-01-08T12:32:32.743Z"
   },
   {
    "duration": 14,
    "start_time": "2022-01-08T12:32:33.208Z"
   },
   {
    "duration": 494,
    "start_time": "2022-01-08T12:32:33.224Z"
   },
   {
    "duration": 221,
    "start_time": "2022-01-08T12:32:33.720Z"
   },
   {
    "duration": 6,
    "start_time": "2022-01-08T12:32:33.943Z"
   },
   {
    "duration": 5364,
    "start_time": "2022-01-08T12:32:33.951Z"
   },
   {
    "duration": 7,
    "start_time": "2022-01-08T12:32:54.580Z"
   },
   {
    "duration": 14,
    "start_time": "2022-01-08T12:33:05.623Z"
   },
   {
    "duration": 14,
    "start_time": "2022-01-08T12:35:52.196Z"
   },
   {
    "duration": 95,
    "start_time": "2022-01-08T12:38:43.037Z"
   },
   {
    "duration": 16,
    "start_time": "2022-01-08T12:43:40.245Z"
   },
   {
    "duration": 171,
    "start_time": "2022-01-08T12:44:45.773Z"
   },
   {
    "duration": 225,
    "start_time": "2022-01-08T12:45:30.560Z"
   },
   {
    "duration": 15,
    "start_time": "2022-01-08T12:45:39.548Z"
   },
   {
    "duration": 35,
    "start_time": "2022-01-08T12:47:51.620Z"
   },
   {
    "duration": 32,
    "start_time": "2022-01-08T12:48:36.323Z"
   },
   {
    "duration": 14,
    "start_time": "2022-01-08T12:52:02.760Z"
   },
   {
    "duration": 480,
    "start_time": "2022-01-08T12:52:03.828Z"
   },
   {
    "duration": 10,
    "start_time": "2022-01-08T13:05:55.487Z"
   },
   {
    "duration": 202,
    "start_time": "2022-01-08T13:13:58.866Z"
   },
   {
    "duration": 192,
    "start_time": "2022-01-08T13:14:05.701Z"
   },
   {
    "duration": 9,
    "start_time": "2022-01-08T13:14:20.300Z"
   },
   {
    "duration": 199,
    "start_time": "2022-01-08T13:16:09.197Z"
   },
   {
    "duration": 9,
    "start_time": "2022-01-08T13:16:48.881Z"
   },
   {
    "duration": 71,
    "start_time": "2022-01-08T13:18:18.489Z"
   },
   {
    "duration": 11,
    "start_time": "2022-01-08T13:18:29.767Z"
   },
   {
    "duration": 8,
    "start_time": "2022-01-08T13:20:43.122Z"
   },
   {
    "duration": 8,
    "start_time": "2022-01-08T13:24:06.773Z"
   },
   {
    "duration": 9,
    "start_time": "2022-01-08T13:25:21.835Z"
   },
   {
    "duration": 7,
    "start_time": "2022-01-08T13:27:03.643Z"
   },
   {
    "duration": 7,
    "start_time": "2022-01-08T13:31:15.111Z"
   },
   {
    "duration": 7,
    "start_time": "2022-01-08T13:31:40.058Z"
   },
   {
    "duration": 8,
    "start_time": "2022-01-08T13:31:55.805Z"
   },
   {
    "duration": 10,
    "start_time": "2022-01-08T13:32:30.259Z"
   },
   {
    "duration": 8,
    "start_time": "2022-01-08T13:32:33.617Z"
   },
   {
    "duration": 8,
    "start_time": "2022-01-08T13:32:44.231Z"
   },
   {
    "duration": 8,
    "start_time": "2022-01-08T13:33:59.795Z"
   },
   {
    "duration": 7,
    "start_time": "2022-01-08T13:36:16.318Z"
   },
   {
    "duration": 6,
    "start_time": "2022-01-08T13:37:36.049Z"
   },
   {
    "duration": 9,
    "start_time": "2022-01-08T13:38:51.051Z"
   },
   {
    "duration": 10,
    "start_time": "2022-01-08T13:52:57.445Z"
   },
   {
    "duration": 181,
    "start_time": "2022-01-08T13:55:58.205Z"
   },
   {
    "duration": 8,
    "start_time": "2022-01-08T14:26:08.502Z"
   },
   {
    "duration": 12,
    "start_time": "2022-01-08T14:26:44.671Z"
   },
   {
    "duration": 168,
    "start_time": "2022-01-08T14:29:15.246Z"
   },
   {
    "duration": 380,
    "start_time": "2022-01-08T14:35:06.979Z"
   },
   {
    "duration": 191,
    "start_time": "2022-01-08T14:35:34.987Z"
   },
   {
    "duration": 249,
    "start_time": "2022-01-08T14:36:41.252Z"
   },
   {
    "duration": 253,
    "start_time": "2022-01-08T14:36:53.618Z"
   },
   {
    "duration": 215,
    "start_time": "2022-01-08T14:38:41.359Z"
   },
   {
    "duration": 74,
    "start_time": "2022-01-08T14:39:15.415Z"
   },
   {
    "duration": 175,
    "start_time": "2022-01-08T14:39:19.172Z"
   },
   {
    "duration": 172,
    "start_time": "2022-01-08T14:40:42.880Z"
   },
   {
    "duration": 261,
    "start_time": "2022-01-08T14:42:00.114Z"
   },
   {
    "duration": 167,
    "start_time": "2022-01-08T14:50:04.391Z"
   },
   {
    "duration": 4719,
    "start_time": "2022-01-08T14:52:37.207Z"
   },
   {
    "duration": 5986,
    "start_time": "2022-01-08T14:52:43.765Z"
   },
   {
    "duration": 5626,
    "start_time": "2022-01-08T14:53:11.381Z"
   },
   {
    "duration": 5056,
    "start_time": "2022-01-08T14:53:50.125Z"
   },
   {
    "duration": 5964,
    "start_time": "2022-01-08T14:54:02.162Z"
   },
   {
    "duration": 203,
    "start_time": "2022-01-08T14:54:57.442Z"
   },
   {
    "duration": 100,
    "start_time": "2022-01-08T14:55:53.301Z"
   },
   {
    "duration": 293,
    "start_time": "2022-01-08T14:56:07.175Z"
   },
   {
    "duration": 140,
    "start_time": "2022-01-08T14:56:43.535Z"
   },
   {
    "duration": 212,
    "start_time": "2022-01-08T14:57:14.109Z"
   },
   {
    "duration": 134,
    "start_time": "2022-01-08T14:57:55.470Z"
   },
   {
    "duration": 191,
    "start_time": "2022-01-08T14:59:29.416Z"
   },
   {
    "duration": 6,
    "start_time": "2022-01-08T15:02:56.806Z"
   },
   {
    "duration": 250,
    "start_time": "2022-01-08T15:09:05.478Z"
   },
   {
    "duration": 473,
    "start_time": "2022-01-08T15:10:22.557Z"
   },
   {
    "duration": 221,
    "start_time": "2022-01-08T15:10:36.036Z"
   },
   {
    "duration": 810,
    "start_time": "2022-01-10T05:47:47.762Z"
   },
   {
    "duration": 18,
    "start_time": "2022-01-10T05:47:48.574Z"
   },
   {
    "duration": 46,
    "start_time": "2022-01-10T05:47:48.595Z"
   },
   {
    "duration": 13,
    "start_time": "2022-01-10T05:47:48.644Z"
   },
   {
    "duration": 72,
    "start_time": "2022-01-10T05:47:48.660Z"
   },
   {
    "duration": 1773,
    "start_time": "2022-01-10T05:47:48.735Z"
   },
   {
    "duration": 34,
    "start_time": "2022-01-10T05:47:50.510Z"
   },
   {
    "duration": 20,
    "start_time": "2022-01-10T05:47:50.549Z"
   },
   {
    "duration": 6,
    "start_time": "2022-01-10T05:47:50.573Z"
   },
   {
    "duration": 52,
    "start_time": "2022-01-10T05:47:50.581Z"
   },
   {
    "duration": 812,
    "start_time": "2022-01-10T05:47:50.636Z"
   },
   {
    "duration": 9,
    "start_time": "2022-01-10T05:47:51.450Z"
   },
   {
    "duration": 328,
    "start_time": "2022-01-10T05:47:51.461Z"
   },
   {
    "duration": 363,
    "start_time": "2022-01-10T05:47:51.791Z"
   },
   {
    "duration": 369,
    "start_time": "2022-01-10T05:47:52.157Z"
   },
   {
    "duration": 354,
    "start_time": "2022-01-10T05:47:52.529Z"
   },
   {
    "duration": 377,
    "start_time": "2022-01-10T05:47:52.886Z"
   },
   {
    "duration": 802,
    "start_time": "2022-01-10T05:47:53.265Z"
   },
   {
    "duration": 20,
    "start_time": "2022-01-10T05:47:54.070Z"
   },
   {
    "duration": 703,
    "start_time": "2022-01-10T05:47:54.093Z"
   },
   {
    "duration": 328,
    "start_time": "2022-01-10T05:47:54.798Z"
   },
   {
    "duration": 8,
    "start_time": "2022-01-10T05:47:55.128Z"
   },
   {
    "duration": 34,
    "start_time": "2022-01-10T05:47:55.141Z"
   },
   {
    "duration": 80,
    "start_time": "2022-01-10T05:47:55.177Z"
   },
   {
    "duration": 11,
    "start_time": "2022-01-10T05:47:55.259Z"
   },
   {
    "duration": 12,
    "start_time": "2022-01-10T05:47:55.272Z"
   },
   {
    "duration": 17,
    "start_time": "2022-01-10T05:47:55.317Z"
   },
   {
    "duration": 10,
    "start_time": "2022-01-10T05:47:55.336Z"
   },
   {
    "duration": 12,
    "start_time": "2022-01-10T05:47:55.348Z"
   },
   {
    "duration": 10,
    "start_time": "2022-01-10T05:47:55.362Z"
   },
   {
    "duration": 50,
    "start_time": "2022-01-10T05:47:55.374Z"
   },
   {
    "duration": 13,
    "start_time": "2022-01-10T05:47:55.426Z"
   },
   {
    "duration": 9,
    "start_time": "2022-01-10T05:47:55.442Z"
   },
   {
    "duration": 10,
    "start_time": "2022-01-10T05:47:55.453Z"
   },
   {
    "duration": 9,
    "start_time": "2022-01-10T05:47:55.465Z"
   },
   {
    "duration": 382,
    "start_time": "2022-01-10T05:47:55.477Z"
   },
   {
    "duration": 14,
    "start_time": "2022-01-10T05:47:55.862Z"
   },
   {
    "duration": 326,
    "start_time": "2022-01-10T05:47:55.879Z"
   },
   {
    "duration": 328,
    "start_time": "2022-01-10T05:47:56.208Z"
   },
   {
    "duration": 326,
    "start_time": "2022-01-10T05:47:56.538Z"
   },
   {
    "duration": 307,
    "start_time": "2022-01-10T05:47:56.867Z"
   },
   {
    "duration": 331,
    "start_time": "2022-01-10T05:47:57.176Z"
   },
   {
    "duration": 265,
    "start_time": "2022-01-10T05:47:57.509Z"
   },
   {
    "duration": 6,
    "start_time": "2022-01-10T05:47:57.777Z"
   },
   {
    "duration": 423,
    "start_time": "2022-01-10T05:47:57.785Z"
   },
   {
    "duration": 435,
    "start_time": "2022-01-10T10:34:46.975Z"
   },
   {
    "duration": 1348,
    "start_time": "2022-01-10T10:35:00.648Z"
   },
   {
    "duration": 26,
    "start_time": "2022-01-10T10:35:02.000Z"
   },
   {
    "duration": 84,
    "start_time": "2022-01-10T10:35:02.029Z"
   },
   {
    "duration": 11,
    "start_time": "2022-01-10T10:35:02.116Z"
   },
   {
    "duration": 98,
    "start_time": "2022-01-10T10:35:02.129Z"
   },
   {
    "duration": 508,
    "start_time": "2022-01-10T10:35:02.230Z"
   },
   {
    "duration": 49,
    "start_time": "2022-01-10T10:35:02.741Z"
   },
   {
    "duration": 23,
    "start_time": "2022-01-10T10:35:02.796Z"
   },
   {
    "duration": 14,
    "start_time": "2022-01-10T10:35:02.823Z"
   },
   {
    "duration": 25,
    "start_time": "2022-01-10T10:35:02.859Z"
   },
   {
    "duration": 1072,
    "start_time": "2022-01-10T10:35:02.887Z"
   },
   {
    "duration": 7,
    "start_time": "2022-01-10T10:35:03.961Z"
   },
   {
    "duration": 324,
    "start_time": "2022-01-10T10:35:03.970Z"
   },
   {
    "duration": 352,
    "start_time": "2022-01-10T10:35:04.297Z"
   },
   {
    "duration": 342,
    "start_time": "2022-01-10T10:35:04.660Z"
   },
   {
    "duration": 536,
    "start_time": "2022-01-10T10:35:05.005Z"
   },
   {
    "duration": 529,
    "start_time": "2022-01-10T10:35:05.544Z"
   },
   {
    "duration": 687,
    "start_time": "2022-01-10T10:35:06.076Z"
   },
   {
    "duration": 33,
    "start_time": "2022-01-10T10:35:06.767Z"
   },
   {
    "duration": 1037,
    "start_time": "2022-01-10T10:35:06.803Z"
   },
   {
    "duration": 321,
    "start_time": "2022-01-10T10:35:07.845Z"
   },
   {
    "duration": 6,
    "start_time": "2022-01-10T10:35:08.169Z"
   },
   {
    "duration": 138,
    "start_time": "2022-01-10T10:35:08.180Z"
   },
   {
    "duration": 88,
    "start_time": "2022-01-10T10:35:08.321Z"
   },
   {
    "duration": 13,
    "start_time": "2022-01-10T10:35:08.412Z"
   },
   {
    "duration": 13,
    "start_time": "2022-01-10T10:35:08.460Z"
   },
   {
    "duration": 10,
    "start_time": "2022-01-10T10:35:08.475Z"
   },
   {
    "duration": 10,
    "start_time": "2022-01-10T10:35:08.488Z"
   },
   {
    "duration": 62,
    "start_time": "2022-01-10T10:35:08.501Z"
   },
   {
    "duration": 12,
    "start_time": "2022-01-10T10:35:08.565Z"
   },
   {
    "duration": 12,
    "start_time": "2022-01-10T10:35:08.580Z"
   },
   {
    "duration": 17,
    "start_time": "2022-01-10T10:35:08.595Z"
   },
   {
    "duration": 55,
    "start_time": "2022-01-10T10:35:08.617Z"
   },
   {
    "duration": 12,
    "start_time": "2022-01-10T10:35:08.674Z"
   },
   {
    "duration": 12,
    "start_time": "2022-01-10T10:35:08.688Z"
   },
   {
    "duration": 378,
    "start_time": "2022-01-10T10:35:08.703Z"
   },
   {
    "duration": 13,
    "start_time": "2022-01-10T10:35:09.083Z"
   },
   {
    "duration": 323,
    "start_time": "2022-01-10T10:35:09.098Z"
   },
   {
    "duration": 376,
    "start_time": "2022-01-10T10:35:09.423Z"
   },
   {
    "duration": 331,
    "start_time": "2022-01-10T10:35:09.802Z"
   },
   {
    "duration": 323,
    "start_time": "2022-01-10T10:35:10.136Z"
   },
   {
    "duration": 329,
    "start_time": "2022-01-10T10:35:10.462Z"
   },
   {
    "duration": 392,
    "start_time": "2022-01-10T10:35:10.795Z"
   },
   {
    "duration": 7,
    "start_time": "2022-01-10T10:35:11.190Z"
   },
   {
    "duration": 592,
    "start_time": "2022-01-10T10:35:11.200Z"
   },
   {
    "duration": 411,
    "start_time": "2022-01-10T10:45:57.857Z"
   },
   {
    "duration": 328,
    "start_time": "2022-01-10T10:46:19.558Z"
   },
   {
    "duration": 370,
    "start_time": "2022-01-10T10:46:26.839Z"
   },
   {
    "duration": 322,
    "start_time": "2022-01-10T10:46:29.447Z"
   },
   {
    "duration": 364,
    "start_time": "2022-01-10T10:46:46.583Z"
   },
   {
    "duration": 321,
    "start_time": "2022-01-10T10:48:34.451Z"
   },
   {
    "duration": 326,
    "start_time": "2022-01-10T10:50:21.845Z"
   },
   {
    "duration": 586,
    "start_time": "2022-01-10T10:50:27.103Z"
   },
   {
    "duration": 108,
    "start_time": "2022-01-10T10:50:49.744Z"
   },
   {
    "duration": 60,
    "start_time": "2022-01-10T10:50:58.822Z"
   },
   {
    "duration": 29,
    "start_time": "2022-01-10T11:01:24.769Z"
   },
   {
    "duration": 39,
    "start_time": "2022-01-10T14:21:48.331Z"
   }
  ],
  "kernelspec": {
   "display_name": "Python 3 (ipykernel)",
   "language": "python",
   "name": "python3"
  },
  "language_info": {
   "codemirror_mode": {
    "name": "ipython",
    "version": 3
   },
   "file_extension": ".py",
   "mimetype": "text/x-python",
   "name": "python",
   "nbconvert_exporter": "python",
   "pygments_lexer": "ipython3",
   "version": "3.9.5"
  },
  "toc": {
   "base_numbering": 1,
   "nav_menu": {},
   "number_sections": true,
   "sideBar": true,
   "skip_h1_title": true,
   "title_cell": "Содержание",
   "title_sidebar": "Contents",
   "toc_cell": true,
   "toc_position": {},
   "toc_section_display": true,
   "toc_window_display": false
  }
 },
 "nbformat": 4,
 "nbformat_minor": 2
}

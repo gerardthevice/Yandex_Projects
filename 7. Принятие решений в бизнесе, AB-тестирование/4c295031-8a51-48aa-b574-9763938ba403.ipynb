{
 "cells": [
  {
   "cell_type": "markdown",
   "metadata": {},
   "source": [
    "# Анализ и приоритизация гипотез"
   ]
  },
  {
   "cell_type": "markdown",
   "metadata": {},
   "source": [
    "Проект для рупного интернет-магазина. Вместе с отделом маркетинга был подготовлен список гипотез для увеличения выручки.\n",
    "Необходимо приоритизировать гипотезы, запустить A/B-тест и проанализировать результаты."
   ]
  },
  {
   "cell_type": "markdown",
   "metadata": {},
   "source": [
    "## Предподготовка данных"
   ]
  },
  {
   "cell_type": "code",
   "execution_count": 45,
   "metadata": {},
   "outputs": [],
   "source": [
    "# выгрузим необходимые библиотеки\n",
    "import pandas as pd\n",
    "import numpy as np\n",
    "import scipy.stats as stats\n",
    "import datetime as dt\n",
    "from matplotlib import pyplot as plt\n",
    "pd.set_option(\"max_colwidth\", 70)\n",
    "\n",
    "\n",
    "import warnings\n",
    "warnings.filterwarnings('ignore')"
   ]
  },
  {
   "cell_type": "code",
   "execution_count": 46,
   "metadata": {},
   "outputs": [
    {
     "data": {
      "text/html": [
       "<div>\n",
       "<style scoped>\n",
       "    .dataframe tbody tr th:only-of-type {\n",
       "        vertical-align: middle;\n",
       "    }\n",
       "\n",
       "    .dataframe tbody tr th {\n",
       "        vertical-align: top;\n",
       "    }\n",
       "\n",
       "    .dataframe thead th {\n",
       "        text-align: right;\n",
       "    }\n",
       "</style>\n",
       "<table border=\"1\" class=\"dataframe\">\n",
       "  <thead>\n",
       "    <tr style=\"text-align: right;\">\n",
       "      <th></th>\n",
       "      <th>Hypothesis</th>\n",
       "      <th>Reach</th>\n",
       "      <th>Impact</th>\n",
       "      <th>Confidence</th>\n",
       "      <th>Efforts</th>\n",
       "    </tr>\n",
       "  </thead>\n",
       "  <tbody>\n",
       "    <tr>\n",
       "      <th>0</th>\n",
       "      <td>Добавить два новых канала привлечения трафика, что позволит привле...</td>\n",
       "      <td>3</td>\n",
       "      <td>10</td>\n",
       "      <td>8</td>\n",
       "      <td>6</td>\n",
       "    </tr>\n",
       "    <tr>\n",
       "      <th>1</th>\n",
       "      <td>Запустить собственную службу доставки, что сократит срок доставки ...</td>\n",
       "      <td>2</td>\n",
       "      <td>5</td>\n",
       "      <td>4</td>\n",
       "      <td>10</td>\n",
       "    </tr>\n",
       "    <tr>\n",
       "      <th>2</th>\n",
       "      <td>Добавить блоки рекомендаций товаров на сайт интернет магазина, что...</td>\n",
       "      <td>8</td>\n",
       "      <td>3</td>\n",
       "      <td>7</td>\n",
       "      <td>3</td>\n",
       "    </tr>\n",
       "    <tr>\n",
       "      <th>3</th>\n",
       "      <td>Изменить структура категорий, что увеличит конверсию, т.к. пользов...</td>\n",
       "      <td>8</td>\n",
       "      <td>3</td>\n",
       "      <td>3</td>\n",
       "      <td>8</td>\n",
       "    </tr>\n",
       "    <tr>\n",
       "      <th>4</th>\n",
       "      <td>Изменить цвет фона главной страницы, чтобы увеличить вовлеченность...</td>\n",
       "      <td>3</td>\n",
       "      <td>1</td>\n",
       "      <td>1</td>\n",
       "      <td>1</td>\n",
       "    </tr>\n",
       "    <tr>\n",
       "      <th>5</th>\n",
       "      <td>Добавить страницу отзывов клиентов о магазине, что позволит увелич...</td>\n",
       "      <td>3</td>\n",
       "      <td>2</td>\n",
       "      <td>2</td>\n",
       "      <td>3</td>\n",
       "    </tr>\n",
       "    <tr>\n",
       "      <th>6</th>\n",
       "      <td>Показать на главной странице баннеры с актуальными акциями и распр...</td>\n",
       "      <td>5</td>\n",
       "      <td>3</td>\n",
       "      <td>8</td>\n",
       "      <td>3</td>\n",
       "    </tr>\n",
       "    <tr>\n",
       "      <th>7</th>\n",
       "      <td>Добавить форму подписки на все основные страницы, чтобы собрать ба...</td>\n",
       "      <td>10</td>\n",
       "      <td>7</td>\n",
       "      <td>8</td>\n",
       "      <td>5</td>\n",
       "    </tr>\n",
       "    <tr>\n",
       "      <th>8</th>\n",
       "      <td>Запустить акцию, дающую скидку на товар в день рождения</td>\n",
       "      <td>1</td>\n",
       "      <td>9</td>\n",
       "      <td>9</td>\n",
       "      <td>5</td>\n",
       "    </tr>\n",
       "  </tbody>\n",
       "</table>\n",
       "</div>"
      ],
      "text/plain": [
       "                                                              Hypothesis  \\\n",
       "0  Добавить два новых канала привлечения трафика, что позволит привле...   \n",
       "1  Запустить собственную службу доставки, что сократит срок доставки ...   \n",
       "2  Добавить блоки рекомендаций товаров на сайт интернет магазина, что...   \n",
       "3  Изменить структура категорий, что увеличит конверсию, т.к. пользов...   \n",
       "4  Изменить цвет фона главной страницы, чтобы увеличить вовлеченность...   \n",
       "5  Добавить страницу отзывов клиентов о магазине, что позволит увелич...   \n",
       "6  Показать на главной странице баннеры с актуальными акциями и распр...   \n",
       "7  Добавить форму подписки на все основные страницы, чтобы собрать ба...   \n",
       "8                Запустить акцию, дающую скидку на товар в день рождения   \n",
       "\n",
       "   Reach  Impact  Confidence  Efforts  \n",
       "0      3      10           8        6  \n",
       "1      2       5           4       10  \n",
       "2      8       3           7        3  \n",
       "3      8       3           3        8  \n",
       "4      3       1           1        1  \n",
       "5      3       2           2        3  \n",
       "6      5       3           8        3  \n",
       "7     10       7           8        5  \n",
       "8      1       9           9        5  "
      ]
     },
     "metadata": {},
     "output_type": "display_data"
    },
    {
     "name": "stdout",
     "output_type": "stream",
     "text": [
      "<class 'pandas.core.frame.DataFrame'>\n",
      "RangeIndex: 9 entries, 0 to 8\n",
      "Data columns (total 5 columns):\n",
      " #   Column      Non-Null Count  Dtype \n",
      "---  ------      --------------  ----- \n",
      " 0   Hypothesis  9 non-null      object\n",
      " 1   Reach       9 non-null      int64 \n",
      " 2   Impact      9 non-null      int64 \n",
      " 3   Confidence  9 non-null      int64 \n",
      " 4   Efforts     9 non-null      int64 \n",
      "dtypes: int64(4), object(1)\n",
      "memory usage: 488.0+ bytes\n"
     ]
    }
   ],
   "source": [
    "# выгружаем таблицу с денными по гипотезам и изучаем данные при помощи функции info()\n",
    "hypothesis = pd.read_csv('/datasets/hypothesis.csv')\n",
    "display(hypothesis.head(10))\n",
    "hypothesis.info()"
   ]
  },
  {
   "cell_type": "markdown",
   "metadata": {},
   "source": [
    "Таблица маленькая, видно, что с ней все в порядке."
   ]
  },
  {
   "cell_type": "code",
   "execution_count": 47,
   "metadata": {},
   "outputs": [
    {
     "data": {
      "text/html": [
       "<div>\n",
       "<style scoped>\n",
       "    .dataframe tbody tr th:only-of-type {\n",
       "        vertical-align: middle;\n",
       "    }\n",
       "\n",
       "    .dataframe tbody tr th {\n",
       "        vertical-align: top;\n",
       "    }\n",
       "\n",
       "    .dataframe thead th {\n",
       "        text-align: right;\n",
       "    }\n",
       "</style>\n",
       "<table border=\"1\" class=\"dataframe\">\n",
       "  <thead>\n",
       "    <tr style=\"text-align: right;\">\n",
       "      <th></th>\n",
       "      <th>transactionId</th>\n",
       "      <th>visitorId</th>\n",
       "      <th>date</th>\n",
       "      <th>revenue</th>\n",
       "      <th>group</th>\n",
       "    </tr>\n",
       "  </thead>\n",
       "  <tbody>\n",
       "    <tr>\n",
       "      <th>0</th>\n",
       "      <td>3667963787</td>\n",
       "      <td>3312258926</td>\n",
       "      <td>2019-08-15</td>\n",
       "      <td>1650</td>\n",
       "      <td>B</td>\n",
       "    </tr>\n",
       "    <tr>\n",
       "      <th>1</th>\n",
       "      <td>2804400009</td>\n",
       "      <td>3642806036</td>\n",
       "      <td>2019-08-15</td>\n",
       "      <td>730</td>\n",
       "      <td>B</td>\n",
       "    </tr>\n",
       "    <tr>\n",
       "      <th>2</th>\n",
       "      <td>2961555356</td>\n",
       "      <td>4069496402</td>\n",
       "      <td>2019-08-15</td>\n",
       "      <td>400</td>\n",
       "      <td>A</td>\n",
       "    </tr>\n",
       "    <tr>\n",
       "      <th>3</th>\n",
       "      <td>3797467345</td>\n",
       "      <td>1196621759</td>\n",
       "      <td>2019-08-15</td>\n",
       "      <td>9759</td>\n",
       "      <td>B</td>\n",
       "    </tr>\n",
       "    <tr>\n",
       "      <th>4</th>\n",
       "      <td>2282983706</td>\n",
       "      <td>2322279887</td>\n",
       "      <td>2019-08-15</td>\n",
       "      <td>2308</td>\n",
       "      <td>B</td>\n",
       "    </tr>\n",
       "    <tr>\n",
       "      <th>5</th>\n",
       "      <td>182168103</td>\n",
       "      <td>935554773</td>\n",
       "      <td>2019-08-15</td>\n",
       "      <td>2210</td>\n",
       "      <td>B</td>\n",
       "    </tr>\n",
       "    <tr>\n",
       "      <th>6</th>\n",
       "      <td>398296753</td>\n",
       "      <td>2900797465</td>\n",
       "      <td>2019-08-15</td>\n",
       "      <td>1860</td>\n",
       "      <td>B</td>\n",
       "    </tr>\n",
       "    <tr>\n",
       "      <th>7</th>\n",
       "      <td>2626614568</td>\n",
       "      <td>78758296</td>\n",
       "      <td>2019-08-15</td>\n",
       "      <td>1044</td>\n",
       "      <td>A</td>\n",
       "    </tr>\n",
       "    <tr>\n",
       "      <th>8</th>\n",
       "      <td>1576988021</td>\n",
       "      <td>295230930</td>\n",
       "      <td>2019-08-15</td>\n",
       "      <td>13710</td>\n",
       "      <td>A</td>\n",
       "    </tr>\n",
       "    <tr>\n",
       "      <th>9</th>\n",
       "      <td>1506739906</td>\n",
       "      <td>1882260405</td>\n",
       "      <td>2019-08-15</td>\n",
       "      <td>1855</td>\n",
       "      <td>B</td>\n",
       "    </tr>\n",
       "  </tbody>\n",
       "</table>\n",
       "</div>"
      ],
      "text/plain": [
       "   transactionId   visitorId        date  revenue group\n",
       "0     3667963787  3312258926  2019-08-15     1650     B\n",
       "1     2804400009  3642806036  2019-08-15      730     B\n",
       "2     2961555356  4069496402  2019-08-15      400     A\n",
       "3     3797467345  1196621759  2019-08-15     9759     B\n",
       "4     2282983706  2322279887  2019-08-15     2308     B\n",
       "5      182168103   935554773  2019-08-15     2210     B\n",
       "6      398296753  2900797465  2019-08-15     1860     B\n",
       "7     2626614568    78758296  2019-08-15     1044     A\n",
       "8     1576988021   295230930  2019-08-15    13710     A\n",
       "9     1506739906  1882260405  2019-08-15     1855     B"
      ]
     },
     "metadata": {},
     "output_type": "display_data"
    },
    {
     "name": "stdout",
     "output_type": "stream",
     "text": [
      "<class 'pandas.core.frame.DataFrame'>\n",
      "RangeIndex: 1197 entries, 0 to 1196\n",
      "Data columns (total 5 columns):\n",
      " #   Column         Non-Null Count  Dtype \n",
      "---  ------         --------------  ----- \n",
      " 0   transactionId  1197 non-null   int64 \n",
      " 1   visitorId      1197 non-null   int64 \n",
      " 2   date           1197 non-null   object\n",
      " 3   revenue        1197 non-null   int64 \n",
      " 4   group          1197 non-null   object\n",
      "dtypes: int64(3), object(2)\n",
      "memory usage: 46.9+ KB\n"
     ]
    }
   ],
   "source": [
    "# выгружаем таблицу с денными по А/В тестам и изучаем данные при помощи функции info()\n",
    "orders = pd.read_csv('/datasets/orders.csv', sep=',')\n",
    "display(orders.head(10))\n",
    "orders.info()"
   ]
  },
  {
   "cell_type": "code",
   "execution_count": 48,
   "metadata": {},
   "outputs": [
    {
     "name": "stdout",
     "output_type": "stream",
     "text": [
      "Количество явных дубликатов 0\n"
     ]
    }
   ],
   "source": [
    "# проверим на наличие дубликатов\n",
    "print('Количество явных дубликатов', orders.duplicated().sum())"
   ]
  },
  {
   "cell_type": "code",
   "execution_count": 49,
   "metadata": {},
   "outputs": [
    {
     "data": {
      "text/html": [
       "<div>\n",
       "<style scoped>\n",
       "    .dataframe tbody tr th:only-of-type {\n",
       "        vertical-align: middle;\n",
       "    }\n",
       "\n",
       "    .dataframe tbody tr th {\n",
       "        vertical-align: top;\n",
       "    }\n",
       "\n",
       "    .dataframe thead th {\n",
       "        text-align: right;\n",
       "    }\n",
       "</style>\n",
       "<table border=\"1\" class=\"dataframe\">\n",
       "  <thead>\n",
       "    <tr style=\"text-align: right;\">\n",
       "      <th></th>\n",
       "      <th>date</th>\n",
       "      <th>group</th>\n",
       "      <th>visitors</th>\n",
       "    </tr>\n",
       "  </thead>\n",
       "  <tbody>\n",
       "    <tr>\n",
       "      <th>0</th>\n",
       "      <td>2019-08-01</td>\n",
       "      <td>A</td>\n",
       "      <td>719</td>\n",
       "    </tr>\n",
       "    <tr>\n",
       "      <th>1</th>\n",
       "      <td>2019-08-02</td>\n",
       "      <td>A</td>\n",
       "      <td>619</td>\n",
       "    </tr>\n",
       "    <tr>\n",
       "      <th>2</th>\n",
       "      <td>2019-08-03</td>\n",
       "      <td>A</td>\n",
       "      <td>507</td>\n",
       "    </tr>\n",
       "    <tr>\n",
       "      <th>3</th>\n",
       "      <td>2019-08-04</td>\n",
       "      <td>A</td>\n",
       "      <td>717</td>\n",
       "    </tr>\n",
       "    <tr>\n",
       "      <th>4</th>\n",
       "      <td>2019-08-05</td>\n",
       "      <td>A</td>\n",
       "      <td>756</td>\n",
       "    </tr>\n",
       "    <tr>\n",
       "      <th>5</th>\n",
       "      <td>2019-08-06</td>\n",
       "      <td>A</td>\n",
       "      <td>667</td>\n",
       "    </tr>\n",
       "    <tr>\n",
       "      <th>6</th>\n",
       "      <td>2019-08-07</td>\n",
       "      <td>A</td>\n",
       "      <td>644</td>\n",
       "    </tr>\n",
       "    <tr>\n",
       "      <th>7</th>\n",
       "      <td>2019-08-08</td>\n",
       "      <td>A</td>\n",
       "      <td>610</td>\n",
       "    </tr>\n",
       "    <tr>\n",
       "      <th>8</th>\n",
       "      <td>2019-08-09</td>\n",
       "      <td>A</td>\n",
       "      <td>617</td>\n",
       "    </tr>\n",
       "    <tr>\n",
       "      <th>9</th>\n",
       "      <td>2019-08-10</td>\n",
       "      <td>A</td>\n",
       "      <td>406</td>\n",
       "    </tr>\n",
       "  </tbody>\n",
       "</table>\n",
       "</div>"
      ],
      "text/plain": [
       "         date group  visitors\n",
       "0  2019-08-01     A       719\n",
       "1  2019-08-02     A       619\n",
       "2  2019-08-03     A       507\n",
       "3  2019-08-04     A       717\n",
       "4  2019-08-05     A       756\n",
       "5  2019-08-06     A       667\n",
       "6  2019-08-07     A       644\n",
       "7  2019-08-08     A       610\n",
       "8  2019-08-09     A       617\n",
       "9  2019-08-10     A       406"
      ]
     },
     "metadata": {},
     "output_type": "display_data"
    },
    {
     "name": "stdout",
     "output_type": "stream",
     "text": [
      "<class 'pandas.core.frame.DataFrame'>\n",
      "RangeIndex: 62 entries, 0 to 61\n",
      "Data columns (total 3 columns):\n",
      " #   Column    Non-Null Count  Dtype \n",
      "---  ------    --------------  ----- \n",
      " 0   date      62 non-null     object\n",
      " 1   group     62 non-null     object\n",
      " 2   visitors  62 non-null     int64 \n",
      "dtypes: int64(1), object(2)\n",
      "memory usage: 1.6+ KB\n"
     ]
    }
   ],
   "source": [
    "# выгружаем вторую таблицу с денными по А/В тестам и изучаем данные при помощи функции info()\n",
    "visitors = pd.read_csv('/datasets/visitors.csv', sep=',')\n",
    "display(visitors.head(10))\n",
    "visitors.info()"
   ]
  },
  {
   "cell_type": "code",
   "execution_count": 50,
   "metadata": {},
   "outputs": [
    {
     "name": "stdout",
     "output_type": "stream",
     "text": [
      "Количество явных дубликатов 0\n"
     ]
    }
   ],
   "source": [
    "print('Количество явных дубликатов', visitors.duplicated().sum())"
   ]
  },
  {
   "cell_type": "markdown",
   "metadata": {},
   "source": [
    "### Вывод\n",
    "С данными все в порядке - нет пропусков и дубликатов. "
   ]
  },
  {
   "cell_type": "markdown",
   "metadata": {},
   "source": [
    "## Приоритизация гипотез"
   ]
  },
  {
   "cell_type": "code",
   "execution_count": 51,
   "metadata": {},
   "outputs": [
    {
     "data": {
      "text/html": [
       "<div>\n",
       "<style scoped>\n",
       "    .dataframe tbody tr th:only-of-type {\n",
       "        vertical-align: middle;\n",
       "    }\n",
       "\n",
       "    .dataframe tbody tr th {\n",
       "        vertical-align: top;\n",
       "    }\n",
       "\n",
       "    .dataframe thead th {\n",
       "        text-align: right;\n",
       "    }\n",
       "</style>\n",
       "<table border=\"1\" class=\"dataframe\">\n",
       "  <thead>\n",
       "    <tr style=\"text-align: right;\">\n",
       "      <th></th>\n",
       "      <th>Hypothesis</th>\n",
       "      <th>Reach</th>\n",
       "      <th>Impact</th>\n",
       "      <th>Confidence</th>\n",
       "      <th>Efforts</th>\n",
       "    </tr>\n",
       "  </thead>\n",
       "  <tbody>\n",
       "    <tr>\n",
       "      <th>0</th>\n",
       "      <td>Добавить два новых канала привлечения трафика, что позволит привле...</td>\n",
       "      <td>3</td>\n",
       "      <td>10</td>\n",
       "      <td>8</td>\n",
       "      <td>6</td>\n",
       "    </tr>\n",
       "    <tr>\n",
       "      <th>1</th>\n",
       "      <td>Запустить собственную службу доставки, что сократит срок доставки ...</td>\n",
       "      <td>2</td>\n",
       "      <td>5</td>\n",
       "      <td>4</td>\n",
       "      <td>10</td>\n",
       "    </tr>\n",
       "    <tr>\n",
       "      <th>2</th>\n",
       "      <td>Добавить блоки рекомендаций товаров на сайт интернет магазина, что...</td>\n",
       "      <td>8</td>\n",
       "      <td>3</td>\n",
       "      <td>7</td>\n",
       "      <td>3</td>\n",
       "    </tr>\n",
       "    <tr>\n",
       "      <th>3</th>\n",
       "      <td>Изменить структура категорий, что увеличит конверсию, т.к. пользов...</td>\n",
       "      <td>8</td>\n",
       "      <td>3</td>\n",
       "      <td>3</td>\n",
       "      <td>8</td>\n",
       "    </tr>\n",
       "    <tr>\n",
       "      <th>4</th>\n",
       "      <td>Изменить цвет фона главной страницы, чтобы увеличить вовлеченность...</td>\n",
       "      <td>3</td>\n",
       "      <td>1</td>\n",
       "      <td>1</td>\n",
       "      <td>1</td>\n",
       "    </tr>\n",
       "    <tr>\n",
       "      <th>5</th>\n",
       "      <td>Добавить страницу отзывов клиентов о магазине, что позволит увелич...</td>\n",
       "      <td>3</td>\n",
       "      <td>2</td>\n",
       "      <td>2</td>\n",
       "      <td>3</td>\n",
       "    </tr>\n",
       "    <tr>\n",
       "      <th>6</th>\n",
       "      <td>Показать на главной странице баннеры с актуальными акциями и распр...</td>\n",
       "      <td>5</td>\n",
       "      <td>3</td>\n",
       "      <td>8</td>\n",
       "      <td>3</td>\n",
       "    </tr>\n",
       "    <tr>\n",
       "      <th>7</th>\n",
       "      <td>Добавить форму подписки на все основные страницы, чтобы собрать ба...</td>\n",
       "      <td>10</td>\n",
       "      <td>7</td>\n",
       "      <td>8</td>\n",
       "      <td>5</td>\n",
       "    </tr>\n",
       "    <tr>\n",
       "      <th>8</th>\n",
       "      <td>Запустить акцию, дающую скидку на товар в день рождения</td>\n",
       "      <td>1</td>\n",
       "      <td>9</td>\n",
       "      <td>9</td>\n",
       "      <td>5</td>\n",
       "    </tr>\n",
       "  </tbody>\n",
       "</table>\n",
       "</div>"
      ],
      "text/plain": [
       "                                                              Hypothesis  \\\n",
       "0  Добавить два новых канала привлечения трафика, что позволит привле...   \n",
       "1  Запустить собственную службу доставки, что сократит срок доставки ...   \n",
       "2  Добавить блоки рекомендаций товаров на сайт интернет магазина, что...   \n",
       "3  Изменить структура категорий, что увеличит конверсию, т.к. пользов...   \n",
       "4  Изменить цвет фона главной страницы, чтобы увеличить вовлеченность...   \n",
       "5  Добавить страницу отзывов клиентов о магазине, что позволит увелич...   \n",
       "6  Показать на главной странице баннеры с актуальными акциями и распр...   \n",
       "7  Добавить форму подписки на все основные страницы, чтобы собрать ба...   \n",
       "8                Запустить акцию, дающую скидку на товар в день рождения   \n",
       "\n",
       "   Reach  Impact  Confidence  Efforts  \n",
       "0      3      10           8        6  \n",
       "1      2       5           4       10  \n",
       "2      8       3           7        3  \n",
       "3      8       3           3        8  \n",
       "4      3       1           1        1  \n",
       "5      3       2           2        3  \n",
       "6      5       3           8        3  \n",
       "7     10       7           8        5  \n",
       "8      1       9           9        5  "
      ]
     },
     "metadata": {},
     "output_type": "display_data"
    }
   ],
   "source": [
    "# посмотрим на таблицу с названиями гипотез\n",
    "display(hypothesis)"
   ]
  },
  {
   "cell_type": "markdown",
   "metadata": {},
   "source": [
    "###  Фреймворк ICE для приоритизации гипотез"
   ]
  },
  {
   "cell_type": "code",
   "execution_count": 52,
   "metadata": {},
   "outputs": [
    {
     "name": "stdout",
     "output_type": "stream",
     "text": [
      "                                                              Hypothesis   ICE\n",
      "8                Запустить акцию, дающую скидку на товар в день рождения  16.0\n",
      "0  Добавить два новых канала привлечения трафика, что позволит привле...  13.0\n",
      "7  Добавить форму подписки на все основные страницы, чтобы собрать ба...  11.0\n",
      "6  Показать на главной странице баннеры с актуальными акциями и распр...   8.0\n",
      "2  Добавить блоки рекомендаций товаров на сайт интернет магазина, что...   7.0\n",
      "1  Запустить собственную службу доставки, что сократит срок доставки ...   2.0\n",
      "5  Добавить страницу отзывов клиентов о магазине, что позволит увелич...   1.0\n",
      "3  Изменить структура категорий, что увеличит конверсию, т.к. пользов...   1.0\n",
      "4  Изменить цвет фона главной страницы, чтобы увеличить вовлеченность...   1.0\n"
     ]
    }
   ],
   "source": [
    "# применим фреймворк ICE для приоритизации гипотез\n",
    "hypothesis['ICE'] = hypothesis['Impact'] * hypothesis['Confidence'] / hypothesis['Efforts']\n",
    "print(hypothesis[['Hypothesis', 'ICE']].sort_values(by='ICE', ascending=False).round())"
   ]
  },
  {
   "cell_type": "markdown",
   "metadata": {},
   "source": [
    "По итогам оценки приоритизации гипотез по методу ICE можно выделить следующие гипотезы:\n",
    "- Запустить акцию, дающую скидку на товар\n",
    "- Добавить два новых канала привлечения трафика\n",
    "- Добавить форму подписки на все основные страницы"
   ]
  },
  {
   "cell_type": "markdown",
   "metadata": {},
   "source": [
    "###  Фреймворк RICE для приоритизации гипотез"
   ]
  },
  {
   "cell_type": "code",
   "execution_count": 9,
   "metadata": {},
   "outputs": [
    {
     "name": "stdout",
     "output_type": "stream",
     "text": [
      "                                          Hypothesis   RICE\n",
      "7  Добавить форму подписки на все основные страни...  112.0\n",
      "2  Добавить блоки рекомендаций товаров на сайт ин...   56.0\n",
      "0  Добавить два новых канала привлечения трафика,...   40.0\n",
      "6  Показать на главной странице баннеры с актуаль...   40.0\n",
      "8  Запустить акцию, дающую скидку на товар в день...   16.2\n",
      "3  Изменить структура категорий, что увеличит кон...    9.0\n",
      "1  Запустить собственную службу доставки, что сок...    4.0\n",
      "5  Добавить страницу отзывов клиентов о магазине,...    4.0\n",
      "4  Изменить цвет фона главной страницы, чтобы уве...    3.0\n"
     ]
    }
   ],
   "source": [
    "# применим фреймворк RICE для приоритизации гипотез\n",
    "hypothesis['RICE'] = (hypothesis['Reach'] * hypothesis['Impact'] * hypothesis['Confidence']) / hypothesis[\n",
    "    'Efforts'\n",
    "]\n",
    "print(hypothesis[['Hypothesis', 'RICE']].sort_values(by='RICE', ascending=False))"
   ]
  },
  {
   "cell_type": "markdown",
   "metadata": {},
   "source": [
    "По итогам оценки приоритизации гипотез по методу RICE можно выделить следующие гипотезы:\n",
    "- Добавить форму подписки на все основные страницы\n",
    "- Добавить блоки рекомендаций товаров на сайт\n",
    "-  Добавить два новых канала привлечения трафика"
   ]
  },
  {
   "cell_type": "markdown",
   "metadata": {},
   "source": [
    "### Вывод\n",
    "По итогам анализа приоритизации гипотез двумя методам (ICE и RICE) видно, что самыми приоритетными является следующие гипотезы.\n",
    "По ICE: \n",
    "- Запустить акцию, дающую скидку на товар (8)\n",
    "- Добавить два новых канала привлечения трафика (0)\n",
    "- Добавить форму подписки на все основные страницы (7)\n",
    "\n",
    "По RICE:\n",
    "- Добавить форму подписки на все основные страницы (7)\n",
    "- Добавить блоки рекомендаций товаров на сайт (2)\n",
    "- Добавить два новых канала привлечения трафика (0)\n",
    "\n",
    "Видно, что два теста дали разные результаты. В тесте ICE в топ-3 не попала гипотеза 2, а то время как в тесте RICE она заняла второе место. В топ-3 присутствует гипотеза 0 и 7. Гипотеза 8 занята первое мето по тесту ICE, но не попала в топ-3 по тесту RICE. Это могло произвойти, так как тест RICE учитывает еще один параметр - охват(Reach), то есть скольких пользователей затронет изменение, которое мы хотим внести. Таким образом, стоит приоритизировать гипотезы 7 и 0."
   ]
  },
  {
   "cell_type": "markdown",
   "metadata": {},
   "source": [
    "## Анализ A/B-теста "
   ]
  },
  {
   "cell_type": "code",
   "execution_count": 10,
   "metadata": {},
   "outputs": [
    {
     "data": {
      "text/html": [
       "<div>\n",
       "<style scoped>\n",
       "    .dataframe tbody tr th:only-of-type {\n",
       "        vertical-align: middle;\n",
       "    }\n",
       "\n",
       "    .dataframe tbody tr th {\n",
       "        vertical-align: top;\n",
       "    }\n",
       "\n",
       "    .dataframe thead th {\n",
       "        text-align: right;\n",
       "    }\n",
       "</style>\n",
       "<table border=\"1\" class=\"dataframe\">\n",
       "  <thead>\n",
       "    <tr style=\"text-align: right;\">\n",
       "      <th></th>\n",
       "      <th>transactionId</th>\n",
       "      <th>visitorId</th>\n",
       "      <th>date</th>\n",
       "      <th>revenue</th>\n",
       "      <th>group</th>\n",
       "    </tr>\n",
       "  </thead>\n",
       "  <tbody>\n",
       "    <tr>\n",
       "      <th>0</th>\n",
       "      <td>3667963787</td>\n",
       "      <td>3312258926</td>\n",
       "      <td>2019-08-15</td>\n",
       "      <td>1650</td>\n",
       "      <td>B</td>\n",
       "    </tr>\n",
       "    <tr>\n",
       "      <th>1</th>\n",
       "      <td>2804400009</td>\n",
       "      <td>3642806036</td>\n",
       "      <td>2019-08-15</td>\n",
       "      <td>730</td>\n",
       "      <td>B</td>\n",
       "    </tr>\n",
       "    <tr>\n",
       "      <th>2</th>\n",
       "      <td>2961555356</td>\n",
       "      <td>4069496402</td>\n",
       "      <td>2019-08-15</td>\n",
       "      <td>400</td>\n",
       "      <td>A</td>\n",
       "    </tr>\n",
       "    <tr>\n",
       "      <th>3</th>\n",
       "      <td>3797467345</td>\n",
       "      <td>1196621759</td>\n",
       "      <td>2019-08-15</td>\n",
       "      <td>9759</td>\n",
       "      <td>B</td>\n",
       "    </tr>\n",
       "    <tr>\n",
       "      <th>4</th>\n",
       "      <td>2282983706</td>\n",
       "      <td>2322279887</td>\n",
       "      <td>2019-08-15</td>\n",
       "      <td>2308</td>\n",
       "      <td>B</td>\n",
       "    </tr>\n",
       "    <tr>\n",
       "      <th>5</th>\n",
       "      <td>182168103</td>\n",
       "      <td>935554773</td>\n",
       "      <td>2019-08-15</td>\n",
       "      <td>2210</td>\n",
       "      <td>B</td>\n",
       "    </tr>\n",
       "    <tr>\n",
       "      <th>6</th>\n",
       "      <td>398296753</td>\n",
       "      <td>2900797465</td>\n",
       "      <td>2019-08-15</td>\n",
       "      <td>1860</td>\n",
       "      <td>B</td>\n",
       "    </tr>\n",
       "    <tr>\n",
       "      <th>7</th>\n",
       "      <td>2626614568</td>\n",
       "      <td>78758296</td>\n",
       "      <td>2019-08-15</td>\n",
       "      <td>1044</td>\n",
       "      <td>A</td>\n",
       "    </tr>\n",
       "    <tr>\n",
       "      <th>8</th>\n",
       "      <td>1576988021</td>\n",
       "      <td>295230930</td>\n",
       "      <td>2019-08-15</td>\n",
       "      <td>13710</td>\n",
       "      <td>A</td>\n",
       "    </tr>\n",
       "    <tr>\n",
       "      <th>9</th>\n",
       "      <td>1506739906</td>\n",
       "      <td>1882260405</td>\n",
       "      <td>2019-08-15</td>\n",
       "      <td>1855</td>\n",
       "      <td>B</td>\n",
       "    </tr>\n",
       "  </tbody>\n",
       "</table>\n",
       "</div>"
      ],
      "text/plain": [
       "   transactionId   visitorId        date  revenue group\n",
       "0     3667963787  3312258926  2019-08-15     1650     B\n",
       "1     2804400009  3642806036  2019-08-15      730     B\n",
       "2     2961555356  4069496402  2019-08-15      400     A\n",
       "3     3797467345  1196621759  2019-08-15     9759     B\n",
       "4     2282983706  2322279887  2019-08-15     2308     B\n",
       "5      182168103   935554773  2019-08-15     2210     B\n",
       "6      398296753  2900797465  2019-08-15     1860     B\n",
       "7     2626614568    78758296  2019-08-15     1044     A\n",
       "8     1576988021   295230930  2019-08-15    13710     A\n",
       "9     1506739906  1882260405  2019-08-15     1855     B"
      ]
     },
     "metadata": {},
     "output_type": "display_data"
    },
    {
     "data": {
      "text/html": [
       "<div>\n",
       "<style scoped>\n",
       "    .dataframe tbody tr th:only-of-type {\n",
       "        vertical-align: middle;\n",
       "    }\n",
       "\n",
       "    .dataframe tbody tr th {\n",
       "        vertical-align: top;\n",
       "    }\n",
       "\n",
       "    .dataframe thead th {\n",
       "        text-align: right;\n",
       "    }\n",
       "</style>\n",
       "<table border=\"1\" class=\"dataframe\">\n",
       "  <thead>\n",
       "    <tr style=\"text-align: right;\">\n",
       "      <th></th>\n",
       "      <th>date</th>\n",
       "      <th>group</th>\n",
       "      <th>visitors</th>\n",
       "    </tr>\n",
       "  </thead>\n",
       "  <tbody>\n",
       "    <tr>\n",
       "      <th>0</th>\n",
       "      <td>2019-08-01</td>\n",
       "      <td>A</td>\n",
       "      <td>719</td>\n",
       "    </tr>\n",
       "    <tr>\n",
       "      <th>1</th>\n",
       "      <td>2019-08-02</td>\n",
       "      <td>A</td>\n",
       "      <td>619</td>\n",
       "    </tr>\n",
       "    <tr>\n",
       "      <th>2</th>\n",
       "      <td>2019-08-03</td>\n",
       "      <td>A</td>\n",
       "      <td>507</td>\n",
       "    </tr>\n",
       "    <tr>\n",
       "      <th>3</th>\n",
       "      <td>2019-08-04</td>\n",
       "      <td>A</td>\n",
       "      <td>717</td>\n",
       "    </tr>\n",
       "    <tr>\n",
       "      <th>4</th>\n",
       "      <td>2019-08-05</td>\n",
       "      <td>A</td>\n",
       "      <td>756</td>\n",
       "    </tr>\n",
       "    <tr>\n",
       "      <th>5</th>\n",
       "      <td>2019-08-06</td>\n",
       "      <td>A</td>\n",
       "      <td>667</td>\n",
       "    </tr>\n",
       "    <tr>\n",
       "      <th>6</th>\n",
       "      <td>2019-08-07</td>\n",
       "      <td>A</td>\n",
       "      <td>644</td>\n",
       "    </tr>\n",
       "    <tr>\n",
       "      <th>7</th>\n",
       "      <td>2019-08-08</td>\n",
       "      <td>A</td>\n",
       "      <td>610</td>\n",
       "    </tr>\n",
       "    <tr>\n",
       "      <th>8</th>\n",
       "      <td>2019-08-09</td>\n",
       "      <td>A</td>\n",
       "      <td>617</td>\n",
       "    </tr>\n",
       "    <tr>\n",
       "      <th>9</th>\n",
       "      <td>2019-08-10</td>\n",
       "      <td>A</td>\n",
       "      <td>406</td>\n",
       "    </tr>\n",
       "  </tbody>\n",
       "</table>\n",
       "</div>"
      ],
      "text/plain": [
       "         date group  visitors\n",
       "0  2019-08-01     A       719\n",
       "1  2019-08-02     A       619\n",
       "2  2019-08-03     A       507\n",
       "3  2019-08-04     A       717\n",
       "4  2019-08-05     A       756\n",
       "5  2019-08-06     A       667\n",
       "6  2019-08-07     A       644\n",
       "7  2019-08-08     A       610\n",
       "8  2019-08-09     A       617\n",
       "9  2019-08-10     A       406"
      ]
     },
     "metadata": {},
     "output_type": "display_data"
    }
   ],
   "source": [
    "# посмотри дата фреймы еще раз\n",
    "display(orders.head(10))\n",
    "display(visitors.head(10))"
   ]
  },
  {
   "cell_type": "markdown",
   "metadata": {},
   "source": [
    "### Подготовка данных orders"
   ]
  },
  {
   "cell_type": "code",
   "execution_count": 11,
   "metadata": {},
   "outputs": [],
   "source": [
    "# переведемт данные в нужный тип\n",
    "orders['date'] = orders['date'].map(\n",
    "    lambda x: dt.datetime.strptime(x, '%Y-%m-%d')\n",
    ")\n",
    "\n"
   ]
  },
  {
   "cell_type": "code",
   "execution_count": 12,
   "metadata": {},
   "outputs": [
    {
     "name": "stdout",
     "output_type": "stream",
     "text": [
      "<class 'pandas.core.frame.DataFrame'>\n",
      "RangeIndex: 1197 entries, 0 to 1196\n",
      "Data columns (total 5 columns):\n",
      " #   Column         Non-Null Count  Dtype         \n",
      "---  ------         --------------  -----         \n",
      " 0   transactionId  1197 non-null   int64         \n",
      " 1   visitorId      1197 non-null   int64         \n",
      " 2   date           1197 non-null   datetime64[ns]\n",
      " 3   revenue        1197 non-null   int64         \n",
      " 4   group          1197 non-null   object        \n",
      "dtypes: datetime64[ns](1), int64(3), object(1)\n",
      "memory usage: 46.9+ KB\n"
     ]
    }
   ],
   "source": [
    "# проверим\n",
    "orders.info()"
   ]
  },
  {
   "cell_type": "code",
   "execution_count": 13,
   "metadata": {},
   "outputs": [
    {
     "data": {
      "text/html": [
       "<div>\n",
       "<style scoped>\n",
       "    .dataframe tbody tr th:only-of-type {\n",
       "        vertical-align: middle;\n",
       "    }\n",
       "\n",
       "    .dataframe tbody tr th {\n",
       "        vertical-align: top;\n",
       "    }\n",
       "\n",
       "    .dataframe thead th {\n",
       "        text-align: right;\n",
       "    }\n",
       "</style>\n",
       "<table border=\"1\" class=\"dataframe\">\n",
       "  <thead>\n",
       "    <tr style=\"text-align: right;\">\n",
       "      <th></th>\n",
       "      <th>revenue</th>\n",
       "      <th>percent</th>\n",
       "    </tr>\n",
       "    <tr>\n",
       "      <th>group</th>\n",
       "      <th></th>\n",
       "      <th></th>\n",
       "    </tr>\n",
       "  </thead>\n",
       "  <tbody>\n",
       "    <tr>\n",
       "      <th>A</th>\n",
       "      <td>557</td>\n",
       "      <td>46.5</td>\n",
       "    </tr>\n",
       "    <tr>\n",
       "      <th>B</th>\n",
       "      <td>640</td>\n",
       "      <td>53.5</td>\n",
       "    </tr>\n",
       "  </tbody>\n",
       "</table>\n",
       "</div>"
      ],
      "text/plain": [
       "       revenue  percent\n",
       "group                  \n",
       "A          557     46.5\n",
       "B          640     53.5"
      ]
     },
     "metadata": {},
     "output_type": "display_data"
    },
    {
     "data": {
      "text/plain": [
       "Text(0.5, 1.0, 'Доли А/В в таблице orders')"
      ]
     },
     "execution_count": 13,
     "metadata": {},
     "output_type": "execute_result"
    },
    {
     "data": {
      "image/png": "[encoded data removed]",
      "text/plain": [
       "<Figure size 432x288 with 1 Axes>"
      ]
     },
     "metadata": {},
     "output_type": "display_data"
    }
   ],
   "source": [
    "# сделаем свобную таблицу, чтобы посмотретть доли\n",
    "a_b_total = orders.pivot_table(index='group', values='revenue', aggfunc='count')\n",
    "a_b_total['percent'] = (a_b_total['revenue'] / a_b_total['revenue'].sum() * 100).round(1)\n",
    "display(a_b_total)\n",
    "a_b_total.plot(kind='pie', y='percent')\n",
    "plt.title('Доли А/В в таблице orders')"
   ]
  },
  {
   "cell_type": "code",
   "execution_count": 14,
   "metadata": {},
   "outputs": [
    {
     "data": {
      "text/html": [
       "<div>\n",
       "<style scoped>\n",
       "    .dataframe tbody tr th:only-of-type {\n",
       "        vertical-align: middle;\n",
       "    }\n",
       "\n",
       "    .dataframe tbody tr th {\n",
       "        vertical-align: top;\n",
       "    }\n",
       "\n",
       "    .dataframe thead th {\n",
       "        text-align: right;\n",
       "    }\n",
       "</style>\n",
       "<table border=\"1\" class=\"dataframe\">\n",
       "  <thead>\n",
       "    <tr style=\"text-align: right;\">\n",
       "      <th></th>\n",
       "      <th>groups</th>\n",
       "      <th>group_name</th>\n",
       "    </tr>\n",
       "    <tr>\n",
       "      <th>visitorId</th>\n",
       "      <th></th>\n",
       "      <th></th>\n",
       "    </tr>\n",
       "  </thead>\n",
       "  <tbody>\n",
       "    <tr>\n",
       "      <th>8300375</th>\n",
       "      <td>2</td>\n",
       "      <td>[B, A]</td>\n",
       "    </tr>\n",
       "    <tr>\n",
       "      <th>199603092</th>\n",
       "      <td>2</td>\n",
       "      <td>[A, B]</td>\n",
       "    </tr>\n",
       "    <tr>\n",
       "      <th>232979603</th>\n",
       "      <td>2</td>\n",
       "      <td>[B, A]</td>\n",
       "    </tr>\n",
       "    <tr>\n",
       "      <th>237748145</th>\n",
       "      <td>2</td>\n",
       "      <td>[B, A]</td>\n",
       "    </tr>\n",
       "    <tr>\n",
       "      <th>276558944</th>\n",
       "      <td>2</td>\n",
       "      <td>[B, A]</td>\n",
       "    </tr>\n",
       "    <tr>\n",
       "      <th>351125977</th>\n",
       "      <td>2</td>\n",
       "      <td>[B, A]</td>\n",
       "    </tr>\n",
       "    <tr>\n",
       "      <th>393266494</th>\n",
       "      <td>2</td>\n",
       "      <td>[A, B]</td>\n",
       "    </tr>\n",
       "    <tr>\n",
       "      <th>457167155</th>\n",
       "      <td>2</td>\n",
       "      <td>[B, A]</td>\n",
       "    </tr>\n",
       "    <tr>\n",
       "      <th>471551937</th>\n",
       "      <td>2</td>\n",
       "      <td>[A, B]</td>\n",
       "    </tr>\n",
       "    <tr>\n",
       "      <th>477780734</th>\n",
       "      <td>2</td>\n",
       "      <td>[A, B]</td>\n",
       "    </tr>\n",
       "    <tr>\n",
       "      <th>818047933</th>\n",
       "      <td>2</td>\n",
       "      <td>[A, B]</td>\n",
       "    </tr>\n",
       "    <tr>\n",
       "      <th>963407295</th>\n",
       "      <td>2</td>\n",
       "      <td>[B, A]</td>\n",
       "    </tr>\n",
       "    <tr>\n",
       "      <th>1230306981</th>\n",
       "      <td>2</td>\n",
       "      <td>[A, B]</td>\n",
       "    </tr>\n",
       "    <tr>\n",
       "      <th>1294878855</th>\n",
       "      <td>2</td>\n",
       "      <td>[B, A]</td>\n",
       "    </tr>\n",
       "    <tr>\n",
       "      <th>1316129916</th>\n",
       "      <td>2</td>\n",
       "      <td>[A, B]</td>\n",
       "    </tr>\n",
       "    <tr>\n",
       "      <th>1333886533</th>\n",
       "      <td>2</td>\n",
       "      <td>[A, B]</td>\n",
       "    </tr>\n",
       "    <tr>\n",
       "      <th>1404934699</th>\n",
       "      <td>2</td>\n",
       "      <td>[B, A]</td>\n",
       "    </tr>\n",
       "    <tr>\n",
       "      <th>1602967004</th>\n",
       "      <td>2</td>\n",
       "      <td>[B, A]</td>\n",
       "    </tr>\n",
       "    <tr>\n",
       "      <th>1614305549</th>\n",
       "      <td>2</td>\n",
       "      <td>[B, A]</td>\n",
       "    </tr>\n",
       "    <tr>\n",
       "      <th>1648269707</th>\n",
       "      <td>2</td>\n",
       "      <td>[B, A]</td>\n",
       "    </tr>\n",
       "    <tr>\n",
       "      <th>1668030113</th>\n",
       "      <td>2</td>\n",
       "      <td>[B, A]</td>\n",
       "    </tr>\n",
       "    <tr>\n",
       "      <th>1738359350</th>\n",
       "      <td>2</td>\n",
       "      <td>[A, B]</td>\n",
       "    </tr>\n",
       "    <tr>\n",
       "      <th>1801183820</th>\n",
       "      <td>2</td>\n",
       "      <td>[B, A]</td>\n",
       "    </tr>\n",
       "    <tr>\n",
       "      <th>1959144690</th>\n",
       "      <td>2</td>\n",
       "      <td>[A, B]</td>\n",
       "    </tr>\n",
       "    <tr>\n",
       "      <th>2038680547</th>\n",
       "      <td>2</td>\n",
       "      <td>[B, A]</td>\n",
       "    </tr>\n",
       "    <tr>\n",
       "      <th>2044997962</th>\n",
       "      <td>2</td>\n",
       "      <td>[A, B]</td>\n",
       "    </tr>\n",
       "    <tr>\n",
       "      <th>2378935119</th>\n",
       "      <td>2</td>\n",
       "      <td>[A, B]</td>\n",
       "    </tr>\n",
       "    <tr>\n",
       "      <th>2458001652</th>\n",
       "      <td>2</td>\n",
       "      <td>[A, B]</td>\n",
       "    </tr>\n",
       "    <tr>\n",
       "      <th>2579882178</th>\n",
       "      <td>2</td>\n",
       "      <td>[A, B]</td>\n",
       "    </tr>\n",
       "    <tr>\n",
       "      <th>2587333274</th>\n",
       "      <td>2</td>\n",
       "      <td>[B, A]</td>\n",
       "    </tr>\n",
       "    <tr>\n",
       "      <th>2600415354</th>\n",
       "      <td>2</td>\n",
       "      <td>[B, A]</td>\n",
       "    </tr>\n",
       "    <tr>\n",
       "      <th>2654030115</th>\n",
       "      <td>2</td>\n",
       "      <td>[B, A]</td>\n",
       "    </tr>\n",
       "    <tr>\n",
       "      <th>2686716486</th>\n",
       "      <td>2</td>\n",
       "      <td>[A, B]</td>\n",
       "    </tr>\n",
       "    <tr>\n",
       "      <th>2712142231</th>\n",
       "      <td>2</td>\n",
       "      <td>[B, A]</td>\n",
       "    </tr>\n",
       "    <tr>\n",
       "      <th>2716752286</th>\n",
       "      <td>2</td>\n",
       "      <td>[B, A]</td>\n",
       "    </tr>\n",
       "    <tr>\n",
       "      <th>2780786433</th>\n",
       "      <td>2</td>\n",
       "      <td>[A, B]</td>\n",
       "    </tr>\n",
       "    <tr>\n",
       "      <th>2927087541</th>\n",
       "      <td>2</td>\n",
       "      <td>[A, B]</td>\n",
       "    </tr>\n",
       "    <tr>\n",
       "      <th>2949041841</th>\n",
       "      <td>2</td>\n",
       "      <td>[A, B]</td>\n",
       "    </tr>\n",
       "    <tr>\n",
       "      <th>2954449915</th>\n",
       "      <td>2</td>\n",
       "      <td>[A, B]</td>\n",
       "    </tr>\n",
       "    <tr>\n",
       "      <th>3062433592</th>\n",
       "      <td>2</td>\n",
       "      <td>[B, A]</td>\n",
       "    </tr>\n",
       "    <tr>\n",
       "      <th>3202540741</th>\n",
       "      <td>2</td>\n",
       "      <td>[A, B]</td>\n",
       "    </tr>\n",
       "    <tr>\n",
       "      <th>3234906277</th>\n",
       "      <td>2</td>\n",
       "      <td>[B, A]</td>\n",
       "    </tr>\n",
       "    <tr>\n",
       "      <th>3656415546</th>\n",
       "      <td>2</td>\n",
       "      <td>[A, B]</td>\n",
       "    </tr>\n",
       "    <tr>\n",
       "      <th>3717692402</th>\n",
       "      <td>2</td>\n",
       "      <td>[B, A]</td>\n",
       "    </tr>\n",
       "    <tr>\n",
       "      <th>3766097110</th>\n",
       "      <td>2</td>\n",
       "      <td>[A, B]</td>\n",
       "    </tr>\n",
       "    <tr>\n",
       "      <th>3803269165</th>\n",
       "      <td>2</td>\n",
       "      <td>[A, B]</td>\n",
       "    </tr>\n",
       "    <tr>\n",
       "      <th>3891541246</th>\n",
       "      <td>2</td>\n",
       "      <td>[A, B]</td>\n",
       "    </tr>\n",
       "    <tr>\n",
       "      <th>3941795274</th>\n",
       "      <td>2</td>\n",
       "      <td>[A, B]</td>\n",
       "    </tr>\n",
       "    <tr>\n",
       "      <th>3951559397</th>\n",
       "      <td>2</td>\n",
       "      <td>[B, A]</td>\n",
       "    </tr>\n",
       "    <tr>\n",
       "      <th>3957174400</th>\n",
       "      <td>2</td>\n",
       "      <td>[A, B]</td>\n",
       "    </tr>\n",
       "    <tr>\n",
       "      <th>3963646447</th>\n",
       "      <td>2</td>\n",
       "      <td>[A, B]</td>\n",
       "    </tr>\n",
       "    <tr>\n",
       "      <th>3972127743</th>\n",
       "      <td>2</td>\n",
       "      <td>[B, A]</td>\n",
       "    </tr>\n",
       "    <tr>\n",
       "      <th>3984495233</th>\n",
       "      <td>2</td>\n",
       "      <td>[B, A]</td>\n",
       "    </tr>\n",
       "    <tr>\n",
       "      <th>4069496402</th>\n",
       "      <td>2</td>\n",
       "      <td>[A, B]</td>\n",
       "    </tr>\n",
       "    <tr>\n",
       "      <th>4120364173</th>\n",
       "      <td>2</td>\n",
       "      <td>[A, B]</td>\n",
       "    </tr>\n",
       "    <tr>\n",
       "      <th>4186807279</th>\n",
       "      <td>2</td>\n",
       "      <td>[B, A]</td>\n",
       "    </tr>\n",
       "    <tr>\n",
       "      <th>4256040402</th>\n",
       "      <td>2</td>\n",
       "      <td>[B, A]</td>\n",
       "    </tr>\n",
       "    <tr>\n",
       "      <th>4266935830</th>\n",
       "      <td>2</td>\n",
       "      <td>[A, B]</td>\n",
       "    </tr>\n",
       "  </tbody>\n",
       "</table>\n",
       "</div>"
      ],
      "text/plain": [
       "            groups group_name\n",
       "visitorId                    \n",
       "8300375          2     [B, A]\n",
       "199603092        2     [A, B]\n",
       "232979603        2     [B, A]\n",
       "237748145        2     [B, A]\n",
       "276558944        2     [B, A]\n",
       "351125977        2     [B, A]\n",
       "393266494        2     [A, B]\n",
       "457167155        2     [B, A]\n",
       "471551937        2     [A, B]\n",
       "477780734        2     [A, B]\n",
       "818047933        2     [A, B]\n",
       "963407295        2     [B, A]\n",
       "1230306981       2     [A, B]\n",
       "1294878855       2     [B, A]\n",
       "1316129916       2     [A, B]\n",
       "1333886533       2     [A, B]\n",
       "1404934699       2     [B, A]\n",
       "1602967004       2     [B, A]\n",
       "1614305549       2     [B, A]\n",
       "1648269707       2     [B, A]\n",
       "1668030113       2     [B, A]\n",
       "1738359350       2     [A, B]\n",
       "1801183820       2     [B, A]\n",
       "1959144690       2     [A, B]\n",
       "2038680547       2     [B, A]\n",
       "2044997962       2     [A, B]\n",
       "2378935119       2     [A, B]\n",
       "2458001652       2     [A, B]\n",
       "2579882178       2     [A, B]\n",
       "2587333274       2     [B, A]\n",
       "2600415354       2     [B, A]\n",
       "2654030115       2     [B, A]\n",
       "2686716486       2     [A, B]\n",
       "2712142231       2     [B, A]\n",
       "2716752286       2     [B, A]\n",
       "2780786433       2     [A, B]\n",
       "2927087541       2     [A, B]\n",
       "2949041841       2     [A, B]\n",
       "2954449915       2     [A, B]\n",
       "3062433592       2     [B, A]\n",
       "3202540741       2     [A, B]\n",
       "3234906277       2     [B, A]\n",
       "3656415546       2     [A, B]\n",
       "3717692402       2     [B, A]\n",
       "3766097110       2     [A, B]\n",
       "3803269165       2     [A, B]\n",
       "3891541246       2     [A, B]\n",
       "3941795274       2     [A, B]\n",
       "3951559397       2     [B, A]\n",
       "3957174400       2     [A, B]\n",
       "3963646447       2     [A, B]\n",
       "3972127743       2     [B, A]\n",
       "3984495233       2     [B, A]\n",
       "4069496402       2     [A, B]\n",
       "4120364173       2     [A, B]\n",
       "4186807279       2     [B, A]\n",
       "4256040402       2     [B, A]\n",
       "4266935830       2     [A, B]"
      ]
     },
     "metadata": {},
     "output_type": "display_data"
    }
   ],
   "source": [
    "# проверим пересечение пользоватлей по группам\n",
    "dup_users = orders.groupby('visitorId').agg({'group': ['nunique', 'unique']})\n",
    "dup_users.columns = ['groups', 'group_name']\n",
    "dup_users = dup_users.query('groups > 1')\n",
    "display(dup_users)"
   ]
  },
  {
   "cell_type": "code",
   "execution_count": null,
   "metadata": {},
   "outputs": [],
   "source": []
  },
  {
   "cell_type": "markdown",
   "metadata": {},
   "source": [
    "### Подготовка данных visitors"
   ]
  },
  {
   "cell_type": "code",
   "execution_count": 15,
   "metadata": {},
   "outputs": [],
   "source": [
    "# переведемт данные в нужный тип\n",
    "visitors['date'] = visitors['date'].map(\n",
    "    lambda x: dt.datetime.strptime(x, '%Y-%m-%d')\n",
    ")"
   ]
  },
  {
   "cell_type": "code",
   "execution_count": 16,
   "metadata": {},
   "outputs": [
    {
     "name": "stdout",
     "output_type": "stream",
     "text": [
      "<class 'pandas.core.frame.DataFrame'>\n",
      "RangeIndex: 62 entries, 0 to 61\n",
      "Data columns (total 3 columns):\n",
      " #   Column    Non-Null Count  Dtype         \n",
      "---  ------    --------------  -----         \n",
      " 0   date      62 non-null     datetime64[ns]\n",
      " 1   group     62 non-null     object        \n",
      " 2   visitors  62 non-null     int64         \n",
      "dtypes: datetime64[ns](1), int64(1), object(1)\n",
      "memory usage: 1.6+ KB\n"
     ]
    }
   ],
   "source": [
    "# проверим\n",
    "visitors.info()"
   ]
  },
  {
   "cell_type": "code",
   "execution_count": 17,
   "metadata": {},
   "outputs": [
    {
     "data": {
      "text/html": [
       "<div>\n",
       "<style scoped>\n",
       "    .dataframe tbody tr th:only-of-type {\n",
       "        vertical-align: middle;\n",
       "    }\n",
       "\n",
       "    .dataframe tbody tr th {\n",
       "        vertical-align: top;\n",
       "    }\n",
       "\n",
       "    .dataframe thead th {\n",
       "        text-align: right;\n",
       "    }\n",
       "</style>\n",
       "<table border=\"1\" class=\"dataframe\">\n",
       "  <thead>\n",
       "    <tr style=\"text-align: right;\">\n",
       "      <th></th>\n",
       "      <th>visitors</th>\n",
       "      <th>percent</th>\n",
       "    </tr>\n",
       "    <tr>\n",
       "      <th>group</th>\n",
       "      <th></th>\n",
       "      <th></th>\n",
       "    </tr>\n",
       "  </thead>\n",
       "  <tbody>\n",
       "    <tr>\n",
       "      <th>A</th>\n",
       "      <td>31</td>\n",
       "      <td>50.0</td>\n",
       "    </tr>\n",
       "    <tr>\n",
       "      <th>B</th>\n",
       "      <td>31</td>\n",
       "      <td>50.0</td>\n",
       "    </tr>\n",
       "  </tbody>\n",
       "</table>\n",
       "</div>"
      ],
      "text/plain": [
       "       visitors  percent\n",
       "group                   \n",
       "A            31     50.0\n",
       "B            31     50.0"
      ]
     },
     "metadata": {},
     "output_type": "display_data"
    },
    {
     "data": {
      "text/plain": [
       "Text(0.5, 1.0, 'Доли А/В в таблице visitors')"
      ]
     },
     "execution_count": 17,
     "metadata": {},
     "output_type": "execute_result"
    },
    {
     "data": {
      "image/png": "[encoded data removed]",
      "text/plain": [
       "<Figure size 432x288 with 1 Axes>"
      ]
     },
     "metadata": {},
     "output_type": "display_data"
    }
   ],
   "source": [
    "# смотрим доли в сводной таблице\n",
    "a_b_total = visitors.pivot_table(index='group', values='visitors', aggfunc='count')\n",
    "a_b_total['percent'] = (a_b_total['visitors'] / a_b_total['visitors'].sum() * 100).round(1)\n",
    "display(a_b_total)\n",
    "a_b_total.plot(kind='pie', y='percent')\n",
    "plt.title('Доли А/В в таблице visitors')"
   ]
  },
  {
   "cell_type": "markdown",
   "metadata": {},
   "source": [
    "В итоге проверили данные на распределение по группам - доли составляют 46/54 в таблице orders и 50/50 в таблице visitors. \n",
    "Проверили типы данных, перевели данные в столбцах date  в datetime.\n"
   ]
  },
  {
   "cell_type": "markdown",
   "metadata": {},
   "source": [
    "### Подготовка кумулятивных данных"
   ]
  },
  {
   "cell_type": "code",
   "execution_count": 18,
   "metadata": {},
   "outputs": [
    {
     "name": "stdout",
     "output_type": "stream",
     "text": [
      "        date group  orders  buyers  revenue  visitors\n",
      "0 2019-08-01     A      24      20   148579       719\n",
      "1 2019-08-01     B      21      20   101217       713\n",
      "2 2019-08-02     A      44      38   242401      1338\n",
      "3 2019-08-02     B      45      43   266748      1294\n",
      "4 2019-08-03     A      68      62   354874      1845\n"
     ]
    }
   ],
   "source": [
    "# готовим данные\n",
    "# создаем массив уникальных пар значений дат и групп теста\n",
    "datesGroups = orders[['date','group']].drop_duplicates()\n",
    "\n",
    "ordersAggregated = datesGroups.apply(lambda x: orders[np.logical_and(orders['date'] <= x['date'], orders['group'] == x['group'])]\\\n",
    ".agg({'date' : 'max', 'group' : 'max', 'transactionId' : 'nunique', 'visitorId' : 'nunique', 'revenue' : 'sum'}), axis=1).sort_values(by=['date','group'])\n",
    "\n",
    "# получим агрегированные кумулятивные по дням данные о посетителях интернет-магазина\n",
    "visitorsAggregated = datesGroups.apply(lambda x: visitors[np.logical_and(visitors['date'] <= x['date'], visitors['group'] == x['group'])].agg({'date' : 'max', 'group' : 'max', 'visitors' : 'sum'}), axis=1).sort_values(by=['date','group'])\n",
    "\n",
    "# oбъединим обе таблицы в одну с понятными названиями столбцов\n",
    "cumulativeData = ordersAggregated.merge(visitorsAggregated, left_on=['date', 'group'], right_on=['date', 'group'])\n",
    "cumulativeData.columns = ['date', 'group', 'orders', 'buyers', 'revenue', 'visitors']\n",
    "\n",
    "print(cumulativeData.head(5)) \n"
   ]
  },
  {
   "cell_type": "markdown",
   "metadata": {},
   "source": [
    "### График выручки по группам"
   ]
  },
  {
   "cell_type": "code",
   "execution_count": 19,
   "metadata": {},
   "outputs": [
    {
     "data": {
      "image/png": "[encoded data removed]",
      "text/plain": [
       "<Figure size 1080x360 with 1 Axes>"
      ]
     },
     "metadata": {
      "needs_background": "light"
     },
     "output_type": "display_data"
    }
   ],
   "source": [
    "# датафрейм с кумулятивным количеством заказов и кумулятивной выручкой по дням в группе А\n",
    "cumulativeRevenueA = cumulativeData[cumulativeData['group']=='A'][['date','revenue', 'orders']]\n",
    "\n",
    "# датафрейм с кумулятивным количеством заказов и кумулятивной выручкой по дням в группе B\n",
    "cumulativeRevenueB = cumulativeData[cumulativeData['group']=='B'][['date','revenue', 'orders']]\n",
    "plt.figure(figsize = (15, 5))\n",
    "plt.plot(cumulativeRevenueA['date'], cumulativeRevenueA['revenue'], label='A')\n",
    "plt.plot(cumulativeRevenueB['date'], cumulativeRevenueB['revenue'], label='B')\n",
    "plt.title('График выручки по группам')\n",
    "plt.legend()\n",
    "plt.grid()"
   ]
  },
  {
   "cell_type": "markdown",
   "metadata": {},
   "source": [
    "На графике видно, что выручка в группе В сделала скачок 2019-08-19 и продолжила стабильно расти. Возможно, причина скачка - крупная покупка на большую сумму или резконе увеличение количества заказов. \n",
    "Выручка в группе А была ниже на протяжении всего исследования, однако тоже росла. "
   ]
  },
  {
   "cell_type": "markdown",
   "metadata": {},
   "source": [
    "### График среднего чека по группам"
   ]
  },
  {
   "cell_type": "code",
   "execution_count": 20,
   "metadata": {},
   "outputs": [
    {
     "data": {
      "image/png": "[encoded data removed]",
      "text/plain": [
       "<Figure size 1080x360 with 1 Axes>"
      ]
     },
     "metadata": {
      "needs_background": "light"
     },
     "output_type": "display_data"
    }
   ],
   "source": [
    "plt.figure(figsize = (15, 5))\n",
    "plt.plot(cumulativeRevenueA['date'], cumulativeRevenueA['revenue']/cumulativeRevenueA['orders'], label='A')\n",
    "plt.plot(cumulativeRevenueB['date'], cumulativeRevenueB['revenue']/cumulativeRevenueB['orders'], label='B')\n",
    "plt.title('График среднего чека по группам')\n",
    "plt.legend()\n",
    "plt.grid()\n"
   ]
  },
  {
   "cell_type": "markdown",
   "metadata": {},
   "source": [
    "В группе В снова наблюдается скачок, который мы видели на графике выручки. Это значит, что средний чек резко увеличиося (скорее всего из-за заказа на большую сумму), но после наблюдается падение кумулятивного среднего чека в группе В.\n",
    "\n",
    "В группе А наблюдался рост до 2019-08-13, после чего рост замедлился, и средний чек остается примрно на одном и том же уровне."
   ]
  },
  {
   "cell_type": "markdown",
   "metadata": {},
   "source": [
    "### График относительного изменения кумулятивного среднего чека группы B к группе A"
   ]
  },
  {
   "cell_type": "code",
   "execution_count": 21,
   "metadata": {},
   "outputs": [
    {
     "data": {
      "image/png": "[encoded data removed]",
      "text/plain": [
       "<Figure size 1080x360 with 1 Axes>"
      ]
     },
     "metadata": {
      "needs_background": "light"
     },
     "output_type": "display_data"
    }
   ],
   "source": [
    "# собираем данные в одном датафрейме\n",
    "mergedCumulativeRevenue = cumulativeRevenueA.merge(cumulativeRevenueB, left_on='date', right_on='date', how='left', suffixes=['A', 'B'])\n",
    "\n",
    "# cтроим отношение средних чеков\n",
    "plt.figure(figsize = (15, 5))\n",
    "plt.plot(mergedCumulativeRevenue['date'], (mergedCumulativeRevenue['revenueB']/mergedCumulativeRevenue['ordersB'])/(mergedCumulativeRevenue['revenueA']/mergedCumulativeRevenue['ordersA'])-1)\n",
    "plt.axhline(y=0, color='black', linestyle='--') \n",
    "plt.title('График относительного изменения кумулятивного среднего чека группы B к группе A')\n",
    "plt.grid()"
   ]
  },
  {
   "cell_type": "markdown",
   "metadata": {},
   "source": [
    "На графике относительного изменения кумулятивного среднего чека группы B к группе A видны скачки в нескольких местах.\n",
    "Дело может быть в крупных заказах или выбросах. Тем не менее в конце график стабьльно идет вниз."
   ]
  },
  {
   "cell_type": "markdown",
   "metadata": {},
   "source": [
    "### График кумулятивной конверсии по группам"
   ]
  },
  {
   "cell_type": "code",
   "execution_count": 22,
   "metadata": {},
   "outputs": [
    {
     "data": {
      "text/plain": [
       "(18109.0, 18139.0, 0.02, 0.04)"
      ]
     },
     "execution_count": 22,
     "metadata": {},
     "output_type": "execute_result"
    },
    {
     "data": {
      "image/png": "[encoded data removed]",
      "text/plain": [
       "<Figure size 1080x360 with 1 Axes>"
      ]
     },
     "metadata": {
      "needs_background": "light"
     },
     "output_type": "display_data"
    }
   ],
   "source": [
    "# считаем кумулятивную конверсию\n",
    "cumulativeData['conversion'] = cumulativeData['orders']/cumulativeData['visitors']\n",
    "\n",
    "cumulativeDataA = cumulativeData[cumulativeData['group']=='A']\n",
    "cumulativeDataB = cumulativeData[cumulativeData['group']=='B']\n",
    "\n",
    "# строим графики\n",
    "plt.figure(figsize = (15, 5))\n",
    "plt.plot(cumulativeDataA['date'], cumulativeDataA['conversion'], label='A')\n",
    "plt.plot(cumulativeDataB['date'], cumulativeDataB['conversion'], label='B')\n",
    "plt.grid()\n",
    "plt.legend()\n",
    "plt.title('График кумулятивной конверсии по группам')\n",
    "\n",
    "from datetime import datetime\n",
    "plt.axis([datetime.strptime('2019-08-01', '%Y-%m-%d'), datetime.strptime('2019-08-31', '%Y-%m-%d'), 0.020, 0.040])\n"
   ]
  },
  {
   "cell_type": "markdown",
   "metadata": {},
   "source": [
    "На графике видны колебания в начале периода, однако после они выровнялись и идут параллельно.\n"
   ]
  },
  {
   "cell_type": "markdown",
   "metadata": {},
   "source": [
    "### График относительного изменения кумулятивной конверсии группы B к группе A"
   ]
  },
  {
   "cell_type": "code",
   "execution_count": 23,
   "metadata": {},
   "outputs": [
    {
     "data": {
      "text/plain": [
       "<matplotlib.lines.Line2D at 0x7f07046b2af0>"
      ]
     },
     "execution_count": 23,
     "metadata": {},
     "output_type": "execute_result"
    },
    {
     "data": {
      "image/png": "[encoded data removed]",
      "text/plain": [
       "<Figure size 1080x360 with 1 Axes>"
      ]
     },
     "metadata": {
      "needs_background": "light"
     },
     "output_type": "display_data"
    }
   ],
   "source": [
    "mergedCumulativeConversions = cumulativeDataA[['date','conversion']].merge(cumulativeDataB[['date','conversion']], left_on='date', right_on='date', how='left', suffixes=['A', 'B'])\n",
    "plt.figure(figsize = (15, 5))\n",
    "plt.plot(mergedCumulativeConversions['date'], mergedCumulativeConversions['conversionB']/mergedCumulativeConversions['conversionA']-1, label=\"График относительного изменения кумулятивной конверсии группы B к группе A\")\n",
    "plt.grid()\n",
    "plt.legend()\n",
    "\n",
    "plt.axhline(y=0, color='black', linestyle='--')\n",
    "plt.axhline(y=-0.1, color='grey', linestyle='--')\n"
   ]
  },
  {
   "cell_type": "markdown",
   "metadata": {},
   "source": [
    "Группа А проигрывала группе В, но вырвалась вперед. Однако, для того, чтобы сделать выводы, нужно проверить данные на выбросы."
   ]
  },
  {
   "cell_type": "markdown",
   "metadata": {},
   "source": [
    "### Точечный график количества заказов по пользователям"
   ]
  },
  {
   "cell_type": "code",
   "execution_count": 24,
   "metadata": {},
   "outputs": [
    {
     "name": "stdout",
     "output_type": "stream",
     "text": [
      "       visitorId  orders\n",
      "1023  4256040402      11\n",
      "591   2458001652      11\n",
      "569   2378935119       9\n",
      "487   2038680547       8\n",
      "44     199603092       5\n",
      "744   3062433592       5\n",
      "55     237748145       5\n",
      "917   3803269165       5\n",
      "299   1230306981       5\n",
      "897   3717692402       5\n"
     ]
    }
   ],
   "source": [
    "# подсчитаем количество заказов по пользователям\n",
    "ordersByUsers = (\n",
    "    orders.groupby('visitorId', as_index=False)\n",
    "    .agg({'transactionId': pd.Series.nunique})\n",
    ")\n",
    "\n",
    "ordersByUsers.columns = ['visitorId', 'orders']\n",
    "\n",
    "print(ordersByUsers.sort_values(by='orders', ascending=False).head(10)) "
   ]
  },
  {
   "cell_type": "markdown",
   "metadata": {},
   "source": [
    "Из таблицы видим пользователей, которые совершали в два раза больше заказов, чем в среднем по выборке.\n"
   ]
  },
  {
   "cell_type": "code",
   "execution_count": 25,
   "metadata": {},
   "outputs": [
    {
     "data": {
      "text/plain": [
       "Text(0.5, 1.0, 'Гистрограмма распределения количества заказов на одного пользователя')"
      ]
     },
     "execution_count": 25,
     "metadata": {},
     "output_type": "execute_result"
    },
    {
     "data": {
      "image/png": "[encoded data removed]",
      "text/plain": [
       "<Figure size 1080x360 with 1 Axes>"
      ]
     },
     "metadata": {
      "needs_background": "light"
     },
     "output_type": "display_data"
    }
   ],
   "source": [
    "# построим гистрограмму распределения количества заказов на одного пользователя\n",
    "plt.figure(figsize = (15, 5))\n",
    "plt.hist(ordersByUsers['orders']) \n",
    "plt.grid()\n",
    "plt.title('Гистрограмма распределения количества заказов на одного пользователя')"
   ]
  },
  {
   "cell_type": "markdown",
   "metadata": {},
   "source": [
    "Из гистограммы видно, что обычно пользователи совершают 1 заказ или реже 2 заказа."
   ]
  },
  {
   "cell_type": "code",
   "execution_count": 26,
   "metadata": {},
   "outputs": [
    {
     "data": {
      "text/plain": [
       "Text(0.5, 1.0, 'Точечный график числа заказов на одного пользователя')"
      ]
     },
     "execution_count": 26,
     "metadata": {},
     "output_type": "execute_result"
    },
    {
     "data": {
      "image/png": "[encoded data removed]",
      "text/plain": [
       "<Figure size 432x288 with 1 Axes>"
      ]
     },
     "metadata": {
      "needs_background": "light"
     },
     "output_type": "display_data"
    }
   ],
   "source": [
    "# построим точечный график числа заказов на одного пользователя\n",
    "x_values = pd.Series(range(0,len(ordersByUsers)))\n",
    "\n",
    "plt.scatter(x_values, ordersByUsers['orders']) \n",
    "plt.title('Точечный график числа заказов на одного пользователя')"
   ]
  },
  {
   "cell_type": "markdown",
   "metadata": {},
   "source": [
    "Из гистограммы видно, что 5 и более заказов стречается довольно редко, а пользователи с более, чем 8 заказами уже похожи на аномалии."
   ]
  },
  {
   "cell_type": "markdown",
   "metadata": {},
   "source": [
    "### Подсчет 95-й и 99-й перцентили количества заказов на пользователя"
   ]
  },
  {
   "cell_type": "code",
   "execution_count": 27,
   "metadata": {},
   "outputs": [
    {
     "data": {
      "text/plain": [
       "'95-й и 99-й перцентили количества заказов на пользователя:'"
      ]
     },
     "metadata": {},
     "output_type": "display_data"
    },
    {
     "data": {
      "text/plain": [
       "array([2., 4.])"
      ]
     },
     "metadata": {},
     "output_type": "display_data"
    }
   ],
   "source": [
    "# чтобы проверить, что считать аномалиями, нужно посмотреть на 95 и 99 перцентиль\n",
    "percentile = np.percentile(ordersByUsers['orders'], [95, 99])\n",
    "display('95-й и 99-й перцентили количества заказов на пользователя:', percentile)"
   ]
  },
  {
   "cell_type": "markdown",
   "metadata": {},
   "source": [
    "Таким образом, видно, что менее 1% пользователей делают более 4 заказов, и не более 5% - 2 заказа. \n",
    "Возьмем эти данные за нижнюю границу и отсеим аномалии по ней."
   ]
  },
  {
   "cell_type": "markdown",
   "metadata": {},
   "source": [
    "### Точечный график стоимостей заказов"
   ]
  },
  {
   "cell_type": "code",
   "execution_count": 28,
   "metadata": {},
   "outputs": [
    {
     "data": {
      "text/plain": [
       "(array([1.195e+03, 1.000e+00, 0.000e+00, 0.000e+00, 0.000e+00, 0.000e+00,\n",
       "        0.000e+00, 0.000e+00, 0.000e+00, 1.000e+00]),\n",
       " array([5.000000e+01, 1.294950e+05, 2.589400e+05, 3.883850e+05,\n",
       "        5.178300e+05, 6.472750e+05, 7.767200e+05, 9.061650e+05,\n",
       "        1.035610e+06, 1.165055e+06, 1.294500e+06]),\n",
       " <BarContainer object of 10 artists>)"
      ]
     },
     "execution_count": 28,
     "metadata": {},
     "output_type": "execute_result"
    },
    {
     "data": {
      "image/png": "[encoded data removed]",
      "text/plain": [
       "<Figure size 1080x360 with 1 Axes>"
      ]
     },
     "metadata": {
      "needs_background": "light"
     },
     "output_type": "display_data"
    }
   ],
   "source": [
    "# построим гистрограмму стоимости заказов \n",
    "plt.figure(figsize = (15, 5))\n",
    "plt.grid()\n",
    "plt.title('Гистрограмма стоимости заказов')\n",
    "plt.hist(orders['revenue']) "
   ]
  },
  {
   "cell_type": "markdown",
   "metadata": {},
   "source": [
    "Гистограмма не очень информативна, но видно, что стоимость заказов о осномном не доходит до 200000."
   ]
  },
  {
   "cell_type": "code",
   "execution_count": 29,
   "metadata": {},
   "outputs": [
    {
     "data": {
      "text/plain": [
       "Text(0.5, 1.0, 'Точечный график стоимости заказов')"
      ]
     },
     "execution_count": 29,
     "metadata": {},
     "output_type": "execute_result"
    },
    {
     "data": {
      "image/png": "[encoded data removed]",
      "text/plain": [
       "<Figure size 1080x360 with 1 Axes>"
      ]
     },
     "metadata": {
      "needs_background": "light"
     },
     "output_type": "display_data"
    }
   ],
   "source": [
    "# построим точечный график стоимости заказов\n",
    "x_values = pd.Series(range(0,len(orders['revenue'])))\n",
    "plt.figure(figsize = (15, 5))\n",
    "plt.grid()\n",
    "plt.scatter(x_values, orders['revenue']) \n",
    "plt.title('Точечный график стоимости заказов')"
   ]
  },
  {
   "cell_type": "markdown",
   "metadata": {},
   "source": [
    "Из точечной диаграммы видно, что заказы редко превышают 50000 р. \n",
    "Также обнаружили заказ на более, чем 1200000, что очень довольно странно. Нужно посмотреть на персентиль перед тем, как принять эти данные за аномалии."
   ]
  },
  {
   "cell_type": "markdown",
   "metadata": {},
   "source": [
    "### Подсчет 95-й и 99-й перцентили стоимости заказов"
   ]
  },
  {
   "cell_type": "code",
   "execution_count": 30,
   "metadata": {},
   "outputs": [
    {
     "data": {
      "text/plain": [
       "'95-й и 99-й перцентили стоимости заказов:'"
      ]
     },
     "metadata": {},
     "output_type": "display_data"
    },
    {
     "data": {
      "text/plain": [
       "array([28000. , 58233.2])"
      ]
     },
     "metadata": {},
     "output_type": "display_data"
    }
   ],
   "source": [
    "# чтобы проверить, что считать аномалиями, нужно посмотреть на 95 и 99 перцентиль\n",
    "percentile = np.percentile(orders['revenue'], [95, 99])\n",
    "display('95-й и 99-й перцентили стоимости заказов:', percentile)"
   ]
  },
  {
   "cell_type": "markdown",
   "metadata": {},
   "source": [
    "Теперь ясно, что не более 5% заказов стоят более 28000, а заказы дороже 58000 составляют 1%. \n",
    "Таким образом, все заказы дороже 28000 будут аномалиями."
   ]
  },
  {
   "cell_type": "markdown",
   "metadata": {},
   "source": [
    "### Статистическая значимость различий в конверсии между группами по «сырым» данным"
   ]
  },
  {
   "cell_type": "code",
   "execution_count": 31,
   "metadata": {},
   "outputs": [
    {
     "data": {
      "text/html": [
       "<div>\n",
       "<style scoped>\n",
       "    .dataframe tbody tr th:only-of-type {\n",
       "        vertical-align: middle;\n",
       "    }\n",
       "\n",
       "    .dataframe tbody tr th {\n",
       "        vertical-align: top;\n",
       "    }\n",
       "\n",
       "    .dataframe thead th {\n",
       "        text-align: right;\n",
       "    }\n",
       "</style>\n",
       "<table border=\"1\" class=\"dataframe\">\n",
       "  <thead>\n",
       "    <tr style=\"text-align: right;\">\n",
       "      <th></th>\n",
       "      <th>date</th>\n",
       "      <th>ordersPerDateA</th>\n",
       "      <th>revenuePerDateA</th>\n",
       "      <th>ordersPerDateB</th>\n",
       "      <th>revenuePerDateB</th>\n",
       "      <th>ordersCummulativeA</th>\n",
       "      <th>revenueCummulativeA</th>\n",
       "      <th>ordersCummulativeB</th>\n",
       "      <th>revenueCummulativeB</th>\n",
       "      <th>visitorsPerDateA</th>\n",
       "      <th>visitorsPerDateB</th>\n",
       "      <th>visitorsCummulativeA</th>\n",
       "      <th>visitorsCummulativeB</th>\n",
       "    </tr>\n",
       "  </thead>\n",
       "  <tbody>\n",
       "    <tr>\n",
       "      <th>0</th>\n",
       "      <td>2019-08-01</td>\n",
       "      <td>24</td>\n",
       "      <td>148579</td>\n",
       "      <td>21</td>\n",
       "      <td>101217</td>\n",
       "      <td>24</td>\n",
       "      <td>148579</td>\n",
       "      <td>21</td>\n",
       "      <td>101217</td>\n",
       "      <td>719</td>\n",
       "      <td>713</td>\n",
       "      <td>719</td>\n",
       "      <td>713</td>\n",
       "    </tr>\n",
       "    <tr>\n",
       "      <th>1</th>\n",
       "      <td>2019-08-02</td>\n",
       "      <td>20</td>\n",
       "      <td>93822</td>\n",
       "      <td>24</td>\n",
       "      <td>165531</td>\n",
       "      <td>44</td>\n",
       "      <td>242401</td>\n",
       "      <td>45</td>\n",
       "      <td>266748</td>\n",
       "      <td>619</td>\n",
       "      <td>581</td>\n",
       "      <td>1338</td>\n",
       "      <td>1294</td>\n",
       "    </tr>\n",
       "    <tr>\n",
       "      <th>2</th>\n",
       "      <td>2019-08-03</td>\n",
       "      <td>24</td>\n",
       "      <td>112473</td>\n",
       "      <td>16</td>\n",
       "      <td>114248</td>\n",
       "      <td>68</td>\n",
       "      <td>354874</td>\n",
       "      <td>61</td>\n",
       "      <td>380996</td>\n",
       "      <td>507</td>\n",
       "      <td>509</td>\n",
       "      <td>1845</td>\n",
       "      <td>1803</td>\n",
       "    </tr>\n",
       "    <tr>\n",
       "      <th>3</th>\n",
       "      <td>2019-08-04</td>\n",
       "      <td>16</td>\n",
       "      <td>70825</td>\n",
       "      <td>17</td>\n",
       "      <td>108571</td>\n",
       "      <td>84</td>\n",
       "      <td>425699</td>\n",
       "      <td>78</td>\n",
       "      <td>489567</td>\n",
       "      <td>717</td>\n",
       "      <td>770</td>\n",
       "      <td>2562</td>\n",
       "      <td>2573</td>\n",
       "    </tr>\n",
       "    <tr>\n",
       "      <th>4</th>\n",
       "      <td>2019-08-05</td>\n",
       "      <td>25</td>\n",
       "      <td>124218</td>\n",
       "      <td>23</td>\n",
       "      <td>92428</td>\n",
       "      <td>109</td>\n",
       "      <td>549917</td>\n",
       "      <td>101</td>\n",
       "      <td>581995</td>\n",
       "      <td>756</td>\n",
       "      <td>707</td>\n",
       "      <td>3318</td>\n",
       "      <td>3280</td>\n",
       "    </tr>\n",
       "  </tbody>\n",
       "</table>\n",
       "</div>"
      ],
      "text/plain": [
       "        date  ordersPerDateA  revenuePerDateA  ordersPerDateB  \\\n",
       "0 2019-08-01              24           148579              21   \n",
       "1 2019-08-02              20            93822              24   \n",
       "2 2019-08-03              24           112473              16   \n",
       "3 2019-08-04              16            70825              17   \n",
       "4 2019-08-05              25           124218              23   \n",
       "\n",
       "   revenuePerDateB  ordersCummulativeA  revenueCummulativeA  \\\n",
       "0           101217                  24               148579   \n",
       "1           165531                  44               242401   \n",
       "2           114248                  68               354874   \n",
       "3           108571                  84               425699   \n",
       "4            92428                 109               549917   \n",
       "\n",
       "   ordersCummulativeB  revenueCummulativeB  visitorsPerDateA  \\\n",
       "0                  21               101217               719   \n",
       "1                  45               266748               619   \n",
       "2                  61               380996               507   \n",
       "3                  78               489567               717   \n",
       "4                 101               581995               756   \n",
       "\n",
       "   visitorsPerDateB  visitorsCummulativeA  visitorsCummulativeB  \n",
       "0               713                   719                   713  \n",
       "1               581                  1338                  1294  \n",
       "2               509                  1845                  1803  \n",
       "3               770                  2562                  2573  \n",
       "4               707                  3318                  3280  "
      ]
     },
     "metadata": {},
     "output_type": "display_data"
    }
   ],
   "source": [
    "# подготовим данные для анализа \n",
    "visitorsADaily = visitors[visitors['group'] == 'A'][['date', 'visitors']]\n",
    "visitorsADaily.columns = ['date', 'visitorsPerDateA']\n",
    "\n",
    "visitorsACummulative = visitorsADaily.apply(\n",
    "    lambda x: visitorsADaily[visitorsADaily['date'] <= x['date']].agg(\n",
    "        {'date': 'max', 'visitorsPerDateA': 'sum'}\n",
    "    ),\n",
    "    axis=1,\n",
    ")\n",
    "visitorsACummulative.columns = ['date', 'visitorsCummulativeA']\n",
    "\n",
    "visitorsBDaily = visitors[visitors['group'] == 'B'][['date', 'visitors']]\n",
    "visitorsBDaily.columns = ['date', 'visitorsPerDateB']\n",
    "\n",
    "visitorsBCummulative = visitorsBDaily.apply(\n",
    "    lambda x: visitorsBDaily[visitorsBDaily['date'] <= x['date']].agg(\n",
    "        {'date': 'max', 'visitorsPerDateB': 'sum'}\n",
    "    ),\n",
    "    axis=1,\n",
    ")\n",
    "visitorsBCummulative.columns = ['date', 'visitorsCummulativeB']\n",
    "\n",
    "ordersADaily = (\n",
    "    orders[orders['group'] == 'A'][['date', 'transactionId', 'visitorId', 'revenue']]\n",
    "    .groupby('date', as_index=False)\n",
    "    .agg({'transactionId': pd.Series.nunique, 'revenue': 'sum'})\n",
    ")\n",
    "ordersADaily.columns = ['date', 'ordersPerDateA', 'revenuePerDateA']\n",
    "\n",
    "ordersACummulative = ordersADaily.apply(\n",
    "    lambda x: ordersADaily[ordersADaily['date'] <= x['date']].agg(\n",
    "        {'date': 'max', 'ordersPerDateA': 'sum', 'revenuePerDateA': 'sum'}\n",
    "    ),\n",
    "    axis=1,\n",
    ").sort_values(by=['date'])\n",
    "ordersACummulative.columns = [\n",
    "    'date',\n",
    "    'ordersCummulativeA',\n",
    "    'revenueCummulativeA',\n",
    "]\n",
    "\n",
    "ordersBDaily = (\n",
    "    orders[orders['group'] == 'B'][['date', 'transactionId', 'visitorId', 'revenue']]\n",
    "    .groupby('date', as_index=False)\n",
    "    .agg({'transactionId': pd.Series.nunique, 'revenue': 'sum'})\n",
    ")\n",
    "ordersBDaily.columns = ['date', 'ordersPerDateB', 'revenuePerDateB']\n",
    "\n",
    "ordersBCummulative = ordersBDaily.apply(\n",
    "    lambda x: ordersBDaily[ordersBDaily['date'] <= x['date']].agg(\n",
    "        {'date': 'max', 'ordersPerDateB': 'sum', 'revenuePerDateB': 'sum'}\n",
    "    ),\n",
    "    axis=1,\n",
    ").sort_values(by=['date'])\n",
    "ordersBCummulative.columns = [\n",
    "    'date',\n",
    "    'ordersCummulativeB',\n",
    "    'revenueCummulativeB',\n",
    "]\n",
    "\n",
    "data = (\n",
    "    ordersADaily.merge(\n",
    "        ordersBDaily, left_on='date', right_on='date', how='left'\n",
    "    )\n",
    "    .merge(ordersACummulative, left_on='date', right_on='date', how='left')\n",
    "    .merge(ordersBCummulative, left_on='date', right_on='date', how='left')\n",
    "    .merge(visitorsADaily, left_on='date', right_on='date', how='left')\n",
    "    .merge(visitorsBDaily, left_on='date', right_on='date', how='left')\n",
    "    .merge(visitorsACummulative, left_on='date', right_on='date', how='left')\n",
    "    .merge(visitorsBCummulative, left_on='date', right_on='date', how='left')\n",
    ")\n",
    "\n",
    "display(data.head(5)) \n"
   ]
  },
  {
   "cell_type": "code",
   "execution_count": 37,
   "metadata": {},
   "outputs": [
    {
     "name": "stdout",
     "output_type": "stream",
     "text": [
      "alpha = 0.05\n",
      "p_value = 0.017\n",
      "0.138\n"
     ]
    }
   ],
   "source": [
    "# cоздаем переменные  для пользователей, которые заказывали хотя бы 1 раз\n",
    "ordersByUsersA = (\n",
    "    orders[orders['group'] == 'A']\n",
    "    .groupby('visitorId', as_index=False)\n",
    "    .agg({'transactionId': pd.Series.nunique})\n",
    ")\n",
    "ordersByUsersA.columns = ['visitorId', 'orders']\n",
    "\n",
    "ordersByUsersB = (\n",
    "    orders[orders['group'] == 'B']\n",
    "    .groupby('visitorId', as_index=False)\n",
    "    .agg({'transactionId': pd.Series.nunique})\n",
    ")\n",
    "ordersByUsersB.columns = ['visitorId', 'orders']\n",
    "\n",
    "# объявим переменные, в которых пользователям из разных групп будет соответствовать количество заказов\n",
    "# тем, кто ничего не заказал, будут соответствовать нули\n",
    "\n",
    "sampleA = pd.concat(\n",
    "    [ordersByUsersA['orders'],pd.Series(\n",
    "        0, index=np.arange(data['visitorsPerDateA'].sum() - len(ordersByUsersA['orders'])), name='orders')],axis=0)\n",
    "\n",
    "sampleB = pd.concat(\n",
    "    [ordersByUsersB['orders'],pd.Series(\n",
    "        0, index=np.arange(data['visitorsPerDateB'].sum() - len(ordersByUsersB['orders'])), name='orders')],axis=0)\n",
    "\n",
    "print('alpha =', 0.05)\n",
    "print(\"p_value = {0:.3f}\".format(stats.mannwhitneyu(sampleA, sampleB)[1]))\n",
    "print(\"{0:.3f}\".format(sampleB.mean() / sampleA.mean() - 1))"
   ]
  },
  {
   "cell_type": "markdown",
   "metadata": {},
   "source": [
    "Нулевую гипотезу о том, что конверсия по сырым данным равна, ОТВЕРАГАЕМ, так как p_value меньше alpha.\n",
    "Анализ сырых данных показывает, что разница между конверсией групп А и В имеет статистическую значимость.\n",
    "Относительный прирост конверсии - 13,8%"
   ]
  },
  {
   "cell_type": "markdown",
   "metadata": {},
   "source": [
    "### Статистическая значимость различий в среднем чеке заказа между группами по «сырым» данным"
   ]
  },
  {
   "cell_type": "code",
   "execution_count": 38,
   "metadata": {},
   "outputs": [
    {
     "name": "stdout",
     "output_type": "stream",
     "text": [
      "alpha = 0.05\n",
      "p_value = 0.729\n",
      "0.259\n"
     ]
    }
   ],
   "source": [
    "# найдём относительные различия в среднем чеке между группами\n",
    "print('alpha =', 0.05)\n",
    "print('p_value = {0:.3f}'.format(\n",
    "    stats.mannwhitneyu(orders[orders['group']=='A']['revenue'], orders[orders['group']=='B']['revenue'])[1]))\n",
    "print('{0:.3f}'.format(\n",
    "    orders[orders['group']=='B']['revenue'].mean()/orders[orders['group']=='A']['revenue'].mean()-1)) "
   ]
  },
  {
   "cell_type": "markdown",
   "metadata": {},
   "source": [
    "Нулевая гипотеза Н0 - средний чек между группами равен, Н1 - средний чек различен.\n",
    "По итогам теста p_value больше alpha, значит НЕ отвергаем нулевую гипотезу - статистически значимой разницы в чеках по сырым данным нет.\n",
    "Средний чек по группе В немного ниже, чем по группе А."
   ]
  },
  {
   "cell_type": "markdown",
   "metadata": {},
   "source": [
    "###  Статистическая значимость различий в конверсии между группами по «очищенным» данным"
   ]
  },
  {
   "cell_type": "code",
   "execution_count": 39,
   "metadata": {},
   "outputs": [
    {
     "data": {
      "text/plain": [
       "18    199603092\n",
       "23    237748145\n",
       "37    249864742\n",
       "68    457167155\n",
       "68    611059232\n",
       "Name: visitorId, dtype: int64"
      ]
     },
     "metadata": {},
     "output_type": "display_data"
    },
    {
     "data": {
      "text/plain": [
       "(20,)"
      ]
     },
     "metadata": {},
     "output_type": "display_data"
    }
   ],
   "source": [
    "# примим за наомальных пользователей тех, кто совершил более 2х покупок\n",
    "usersWithManyOrders = pd.concat(\n",
    "    [\n",
    "        ordersByUsersA[ordersByUsersA['orders'] > 2]['visitorId'],\n",
    "        ordersByUsersB[ordersByUsersB['orders'] > 2]['visitorId'],\n",
    "    ],\n",
    "    axis=0,\n",
    ")\n",
    "abnormalUsers = (\n",
    "    pd.concat([usersWithManyOrders], axis=0)\n",
    "    .drop_duplicates()\n",
    "    .sort_values()\n",
    ")\n",
    "display(abnormalUsers.head(5))\n",
    "display(abnormalUsers.shape)"
   ]
  },
  {
   "cell_type": "markdown",
   "metadata": {},
   "source": [
    "В итоге видно, что в данных есть 20 аномальных пользователей."
   ]
  },
  {
   "cell_type": "code",
   "execution_count": 41,
   "metadata": {},
   "outputs": [
    {
     "name": "stdout",
     "output_type": "stream",
     "text": [
      "alpha = 0.05\n",
      "p_value = 0.012\n",
      "0.170\n"
     ]
    }
   ],
   "source": [
    "# подготовим выборки количества заказов по группам теста\n",
    "sampleAFiltered = pd.concat(\n",
    "    [\n",
    "        ordersByUsersA[\n",
    "            np.logical_not(ordersByUsersA['visitorId'].isin(abnormalUsers))\n",
    "        ]['orders'],\n",
    "        pd.Series(\n",
    "            0,\n",
    "            index=np.arange(\n",
    "                data['visitorsPerDateA'].sum() - len(ordersByUsersA['orders'])\n",
    "            ),\n",
    "            name='orders',\n",
    "        ),\n",
    "    ],\n",
    "    axis=0,\n",
    ")\n",
    "\n",
    "sampleBFiltered = pd.concat(\n",
    "    [\n",
    "        ordersByUsersB[\n",
    "            np.logical_not(ordersByUsersB['visitorId'].isin(abnormalUsers))\n",
    "        ]['orders'],\n",
    "        pd.Series(\n",
    "            0,\n",
    "            index=np.arange(\n",
    "                data['visitorsPerDateB'].sum() - len(ordersByUsersB['orders'])\n",
    "            ),\n",
    "            name='orders',\n",
    "        ),\n",
    "    ],\n",
    "    axis=0,\n",
    ") \n",
    "\n",
    "print('alpha =', 0.05)\n",
    "print('p_value = {0:.3f}'.format(stats.mannwhitneyu(sampleAFiltered, sampleBFiltered)[1]))\n",
    "print('{0:.3f}'.format(sampleBFiltered.mean()/sampleAFiltered.mean()-1)) "
   ]
  },
  {
   "cell_type": "markdown",
   "metadata": {},
   "source": [
    "При нулевой гипотезе (Н0) о том, что конверсии групп равны p_value меньше, чем alpha, что значит, что ОТВЕРГАЕМ нулевую гипотезу. Разница конверсий по очещенным данным имеет статистичнскую значимость.\n",
    "\n",
    "Конверсия группы В выше, чем конверсия группы А, но данные практически не изменились,если сравнивать их с тестом по сырым данным."
   ]
  },
  {
   "cell_type": "markdown",
   "metadata": {},
   "source": [
    "### Статистическая значимость различий в среднем чеке заказа между группами по «очищенным» данным"
   ]
  },
  {
   "cell_type": "code",
   "execution_count": 44,
   "metadata": {},
   "outputs": [
    {
     "name": "stdout",
     "output_type": "stream",
     "text": [
      "1099    148427295\n",
      "18      199603092\n",
      "928     204675465\n",
      "23      237748145\n",
      "37      249864742\n",
      "Name: visitorId, dtype: int64\n",
      "(74,)\n"
     ]
    }
   ],
   "source": [
    "# смотрим заказы дороже 28000\n",
    "usersWithExpensiveOrders = orders[orders['revenue'] > 28000]['visitorId']\n",
    "abnormalUsers = (\n",
    "    pd.concat([usersWithManyOrders, usersWithExpensiveOrders], axis=0)\n",
    "    .drop_duplicates()\n",
    "    .sort_values()\n",
    ")\n",
    "abnormalUsers = (\n",
    "    pd.concat([usersWithManyOrders, usersWithExpensiveOrders], axis=0)\n",
    "    .drop_duplicates()\n",
    "    .sort_values()\n",
    ")\n",
    "print(abnormalUsers.head(5))\n",
    "print(abnormalUsers.shape) "
   ]
  },
  {
   "cell_type": "markdown",
   "metadata": {},
   "source": [
    "Видим 74 заказа дороже 28000."
   ]
  },
  {
   "cell_type": "code",
   "execution_count": 47,
   "metadata": {},
   "outputs": [],
   "source": [
    "sampleAFiltered = pd.concat(\n",
    "    [\n",
    "        ordersByUsersA[\n",
    "            np.logical_not(ordersByUsersA['visitorId'].isin(abnormalUsers))\n",
    "        ]['orders'],\n",
    "        pd.Series(\n",
    "            0,\n",
    "            index=np.arange(\n",
    "                data['visitorsPerDateA'].sum() - len(ordersByUsersA['orders'])\n",
    "            ),\n",
    "            name='orders',\n",
    "        ),\n",
    "    ],\n",
    "    axis=0,\n",
    ")\n",
    "\n",
    "sampleBFiltered = pd.concat(\n",
    "    [\n",
    "        ordersByUsersB[\n",
    "            np.logical_not(ordersByUsersB['visitorId'].isin(abnormalUsers))\n",
    "        ]['orders'],\n",
    "        pd.Series(\n",
    "            0,\n",
    "            index=np.arange(\n",
    "                data['visitorsPerDateB'].sum() - len(ordersByUsersB['orders'])\n",
    "            ),\n",
    "            name='orders',\n",
    "        ),\n",
    "    ],\n",
    "    axis=0,\n",
    ") "
   ]
  },
  {
   "cell_type": "code",
   "execution_count": 50,
   "metadata": {
    "scrolled": true
   },
   "outputs": [
    {
     "name": "stdout",
     "output_type": "stream",
     "text": [
      "alpha = 0.05\n",
      "p_value = 0.738\n",
      "-0.020\n"
     ]
    }
   ],
   "source": [
    "print('alpha =', 0.05)\n",
    "print(\n",
    "    'p_value = {0:.3f}'.format(\n",
    "        stats.mannwhitneyu(\n",
    "            orders[\n",
    "                np.logical_and(\n",
    "                    orders['group'] == 'A',\n",
    "                    np.logical_not(orders['visitorId'].isin(abnormalUsers)),\n",
    "                )\n",
    "            ]['revenue'],\n",
    "            orders[\n",
    "                np.logical_and(\n",
    "                    orders['group'] == 'B',\n",
    "                    np.logical_not(orders['visitorId'].isin(abnormalUsers)),\n",
    "                )\n",
    "            ]['revenue'],\n",
    "        )[1]\n",
    "    )\n",
    ")\n",
    "\n",
    "print(\n",
    "    \"{0:.3f}\".format(\n",
    "        orders[\n",
    "            np.logical_and(\n",
    "                orders['group'] == 'B',\n",
    "                np.logical_not(orders['visitorId'].isin(abnormalUsers)),\n",
    "            )\n",
    "        ]['revenue'].mean()\n",
    "        / orders[\n",
    "            np.logical_and(\n",
    "                orders['group'] == 'A',\n",
    "                np.logical_not(orders['visitorId'].isin(abnormalUsers)),\n",
    "            )\n",
    "        ]['revenue'].mean()\n",
    "        - 1\n",
    "    )\n",
    ") "
   ]
  },
  {
   "cell_type": "markdown",
   "metadata": {},
   "source": [
    "Н0 - средний чек по группам равен, Н1 - средний чек различается.\n",
    "p_value больше, чем alpha - НЕ отвергаем нулевую гипотезу, то есть разницы нет.\n",
    "Видно, что p_value увеличилось, но не на много, но разница между сегментами сократилась с 17% до 2%."
   ]
  },
  {
   "cell_type": "markdown",
   "metadata": {},
   "source": [
    "## Вывод"
   ]
  },
  {
   "cell_type": "markdown",
   "metadata": {},
   "source": [
    "В проекте был проведен анализ приоритизиции гипотез с использованием фреймворка ICE и RICE.\n",
    "\n",
    "По итогам видно,что два теста дали разные результаты. В тесте ICE в топ-3 не попала гипотеза 2, а то время как в тесте RICE она заняла второе место. В топ-3 присутствует гипотеза 0 и 7. Гипотеза 8 занята первое мето по тесту ICE, но не попала в топ-3 по тесту RICE. Это могло произвойти, так как тест RICE учитывает еще один параметр - охват(Reach), то есть скольких пользователей затронет изменение, которое мы хотим внести. Таким образом, стоит приоритизировать гипотезы 7 и 0.\n",
    "\n",
    "Во второй части проекта был проведен анализ А/В теста, по итогам которого удалось выяснить следущее.\n",
    "\n",
    "Конверсия:\n",
    "-  разница между конверсией групп А и В имеет статистическую значимость по сырым данным, относительный прирост конверсии - 13,8%;\n",
    "- разница конверсий групп А и В имеет имеет статистичнскую значимость по очищенным данным, в сравнении с сырыми данными разница нехначительная.\n",
    "Итого: есть статистически значимые различия по конверсии между группами  по «сырым» и по данным после фильтрации аномалий.\n",
    "\n",
    "\n",
    "Средний чек:\n",
    "- статистически значимой разницы в чеках по сырым данным нет;\n",
    "- статистически значимой разницы в чеках по очищенным  данным нет, но разница между сегментами сократилась с 17% до 2%.\n",
    "Итого: нет статистически значимого различия по среднему чеку между группами ни по «сырым», ни по данным после фильтрации аномалий.\n",
    "\n",
    "Исходя из обнаруженных фактов, тест следует остановить и признать его успешным. Конверсия сегрмента В выше сегмента А. Однако ращница в среднем чеке отсутствует.\n",
    "\n"
   ]
  },
  {
   "cell_type": "code",
   "execution_count": null,
   "metadata": {},
   "outputs": [],
   "source": []
  }
 ],
 "metadata": {
  "ExecuteTimeLog": [
   {
    "duration": 775,
    "start_time": "2022-03-17T09:41:31.134Z"
   },
   {
    "duration": 43,
    "start_time": "2022-03-17T09:42:47.909Z"
   },
   {
    "duration": 56,
    "start_time": "2022-03-17T09:47:15.047Z"
   },
   {
    "duration": 5,
    "start_time": "2022-03-17T09:50:05.978Z"
   },
   {
    "duration": 6,
    "start_time": "2022-03-17T09:50:31.666Z"
   },
   {
    "duration": 46,
    "start_time": "2022-03-17T09:51:24.639Z"
   },
   {
    "duration": 5,
    "start_time": "2022-03-17T09:52:09.944Z"
   },
   {
    "duration": 4,
    "start_time": "2022-03-17T09:56:55.435Z"
   },
   {
    "duration": 8,
    "start_time": "2022-03-17T10:01:35.798Z"
   },
   {
    "duration": 10,
    "start_time": "2022-03-17T10:02:25.353Z"
   },
   {
    "duration": 8,
    "start_time": "2022-03-17T10:10:13.472Z"
   },
   {
    "duration": 436,
    "start_time": "2022-03-17T11:05:04.889Z"
   },
   {
    "duration": 577,
    "start_time": "2022-03-17T11:05:23.984Z"
   },
   {
    "duration": 29,
    "start_time": "2022-03-17T11:05:24.563Z"
   },
   {
    "duration": 29,
    "start_time": "2022-03-17T11:05:24.595Z"
   },
   {
    "duration": 427,
    "start_time": "2022-03-17T11:05:24.626Z"
   },
   {
    "duration": 0,
    "start_time": "2022-03-17T11:05:25.054Z"
   },
   {
    "duration": 0,
    "start_time": "2022-03-17T11:05:25.055Z"
   },
   {
    "duration": 0,
    "start_time": "2022-03-17T11:05:25.056Z"
   },
   {
    "duration": 0,
    "start_time": "2022-03-17T11:05:25.057Z"
   },
   {
    "duration": 0,
    "start_time": "2022-03-17T11:05:25.058Z"
   },
   {
    "duration": 0,
    "start_time": "2022-03-17T11:05:25.060Z"
   },
   {
    "duration": 372,
    "start_time": "2022-03-17T11:06:44.762Z"
   },
   {
    "duration": 404,
    "start_time": "2022-03-17T11:09:12.249Z"
   },
   {
    "duration": 367,
    "start_time": "2022-03-17T11:09:21.263Z"
   },
   {
    "duration": 14,
    "start_time": "2022-03-17T11:13:00.918Z"
   },
   {
    "duration": 633,
    "start_time": "2022-03-17T11:13:12.601Z"
   },
   {
    "duration": 24,
    "start_time": "2022-03-17T11:13:13.236Z"
   },
   {
    "duration": 32,
    "start_time": "2022-03-17T11:13:13.262Z"
   },
   {
    "duration": 4,
    "start_time": "2022-03-17T11:13:13.297Z"
   },
   {
    "duration": 20,
    "start_time": "2022-03-17T11:13:13.303Z"
   },
   {
    "duration": 7,
    "start_time": "2022-03-17T11:13:13.332Z"
   },
   {
    "duration": 12,
    "start_time": "2022-03-17T11:13:13.340Z"
   },
   {
    "duration": 7,
    "start_time": "2022-03-17T11:13:13.354Z"
   },
   {
    "duration": 14,
    "start_time": "2022-03-17T11:13:13.363Z"
   },
   {
    "duration": 3,
    "start_time": "2022-03-17T11:13:13.379Z"
   },
   {
    "duration": 440,
    "start_time": "2022-03-17T11:16:34.802Z"
   },
   {
    "duration": 3,
    "start_time": "2022-03-17T11:16:44.413Z"
   },
   {
    "duration": 1244,
    "start_time": "2022-03-21T09:52:57.811Z"
   },
   {
    "duration": 99,
    "start_time": "2022-03-21T09:53:04.575Z"
   },
   {
    "duration": 46,
    "start_time": "2022-03-21T09:53:07.781Z"
   },
   {
    "duration": 5,
    "start_time": "2022-03-21T09:53:08.713Z"
   },
   {
    "duration": 26,
    "start_time": "2022-03-21T09:53:09.627Z"
   },
   {
    "duration": 9,
    "start_time": "2022-03-21T09:53:15.497Z"
   },
   {
    "duration": 9,
    "start_time": "2022-03-21T09:53:17.435Z"
   },
   {
    "duration": 10,
    "start_time": "2022-03-21T09:53:20.217Z"
   },
   {
    "duration": 14,
    "start_time": "2022-03-21T09:53:29.214Z"
   },
   {
    "duration": 955,
    "start_time": "2022-03-21T09:55:39.952Z"
   },
   {
    "duration": 1083,
    "start_time": "2022-03-21T09:56:53.224Z"
   },
   {
    "duration": 91,
    "start_time": "2022-03-21T09:56:54.309Z"
   },
   {
    "duration": 52,
    "start_time": "2022-03-21T09:56:54.401Z"
   },
   {
    "duration": 5,
    "start_time": "2022-03-21T09:56:54.455Z"
   },
   {
    "duration": 28,
    "start_time": "2022-03-21T09:56:54.462Z"
   },
   {
    "duration": 7,
    "start_time": "2022-03-21T09:56:54.492Z"
   },
   {
    "duration": 10,
    "start_time": "2022-03-21T09:56:54.501Z"
   },
   {
    "duration": 25,
    "start_time": "2022-03-21T09:56:54.513Z"
   },
   {
    "duration": 19,
    "start_time": "2022-03-21T09:56:54.540Z"
   },
   {
    "duration": 780,
    "start_time": "2022-03-21T09:56:54.561Z"
   },
   {
    "duration": 4,
    "start_time": "2022-03-21T09:57:16.623Z"
   },
   {
    "duration": 697,
    "start_time": "2022-03-21T09:57:21.895Z"
   },
   {
    "duration": 1091,
    "start_time": "2022-03-21T09:58:17.610Z"
   },
   {
    "duration": 82,
    "start_time": "2022-03-21T09:58:18.703Z"
   },
   {
    "duration": 50,
    "start_time": "2022-03-21T09:58:18.786Z"
   },
   {
    "duration": 5,
    "start_time": "2022-03-21T09:58:18.838Z"
   },
   {
    "duration": 27,
    "start_time": "2022-03-21T09:58:18.845Z"
   },
   {
    "duration": 8,
    "start_time": "2022-03-21T09:58:18.873Z"
   },
   {
    "duration": 10,
    "start_time": "2022-03-21T09:58:18.883Z"
   },
   {
    "duration": 8,
    "start_time": "2022-03-21T09:58:18.895Z"
   },
   {
    "duration": 34,
    "start_time": "2022-03-21T09:58:18.905Z"
   },
   {
    "duration": 821,
    "start_time": "2022-03-21T09:58:18.941Z"
   },
   {
    "duration": 631,
    "start_time": "2022-03-21T09:59:34.639Z"
   },
   {
    "duration": 938,
    "start_time": "2022-03-21T09:59:39.114Z"
   },
   {
    "duration": 45,
    "start_time": "2022-03-21T10:01:48.152Z"
   },
   {
    "duration": 1024,
    "start_time": "2022-03-21T10:02:27.577Z"
   },
   {
    "duration": 92,
    "start_time": "2022-03-21T10:02:28.604Z"
   },
   {
    "duration": 46,
    "start_time": "2022-03-21T10:02:28.698Z"
   },
   {
    "duration": 6,
    "start_time": "2022-03-21T10:02:28.746Z"
   },
   {
    "duration": 29,
    "start_time": "2022-03-21T10:02:28.753Z"
   },
   {
    "duration": 8,
    "start_time": "2022-03-21T10:02:28.783Z"
   },
   {
    "duration": 10,
    "start_time": "2022-03-21T10:02:28.793Z"
   },
   {
    "duration": 30,
    "start_time": "2022-03-21T10:02:28.805Z"
   },
   {
    "duration": 18,
    "start_time": "2022-03-21T10:02:28.837Z"
   },
   {
    "duration": 13,
    "start_time": "2022-03-21T10:02:28.858Z"
   },
   {
    "duration": 827,
    "start_time": "2022-03-21T10:03:23.324Z"
   },
   {
    "duration": 614,
    "start_time": "2022-03-21T10:03:32.140Z"
   },
   {
    "duration": 3,
    "start_time": "2022-03-21T10:03:51.047Z"
   },
   {
    "duration": 30,
    "start_time": "2022-03-21T10:03:55.143Z"
   },
   {
    "duration": 49,
    "start_time": "2022-03-21T10:04:00.955Z"
   },
   {
    "duration": 49,
    "start_time": "2022-03-21T10:04:16.548Z"
   },
   {
    "duration": 6,
    "start_time": "2022-03-21T10:04:17.086Z"
   },
   {
    "duration": 27,
    "start_time": "2022-03-21T10:04:17.731Z"
   },
   {
    "duration": 10,
    "start_time": "2022-03-21T10:04:19.550Z"
   },
   {
    "duration": 10,
    "start_time": "2022-03-21T10:04:20.644Z"
   },
   {
    "duration": 9,
    "start_time": "2022-03-21T10:04:22.335Z"
   },
   {
    "duration": 14,
    "start_time": "2022-03-21T10:04:24.805Z"
   },
   {
    "duration": 12,
    "start_time": "2022-03-21T10:04:25.739Z"
   },
   {
    "duration": 11,
    "start_time": "2022-03-21T10:04:43.835Z"
   },
   {
    "duration": 159,
    "start_time": "2022-03-21T10:13:58.117Z"
   },
   {
    "duration": 154,
    "start_time": "2022-03-21T10:14:42.536Z"
   },
   {
    "duration": 147,
    "start_time": "2022-03-21T10:15:04.786Z"
   },
   {
    "duration": 140,
    "start_time": "2022-03-21T10:15:17.798Z"
   },
   {
    "duration": 90,
    "start_time": "2022-03-21T10:19:55.517Z"
   },
   {
    "duration": 29,
    "start_time": "2022-03-21T10:24:14.399Z"
   },
   {
    "duration": 5,
    "start_time": "2022-03-21T10:25:01.685Z"
   },
   {
    "duration": 4,
    "start_time": "2022-03-21T10:28:10.539Z"
   },
   {
    "duration": 11,
    "start_time": "2022-03-21T10:28:27.254Z"
   },
   {
    "duration": 148,
    "start_time": "2022-03-21T10:32:02.152Z"
   },
   {
    "duration": 129,
    "start_time": "2022-03-21T10:32:30.362Z"
   },
   {
    "duration": 82,
    "start_time": "2022-03-21T15:47:44.549Z"
   },
   {
    "duration": 14,
    "start_time": "2022-03-21T15:50:14.063Z"
   },
   {
    "duration": 13,
    "start_time": "2022-03-21T15:50:17.015Z"
   },
   {
    "duration": 1593,
    "start_time": "2022-03-21T15:51:08.369Z"
   },
   {
    "duration": 123,
    "start_time": "2022-03-21T15:51:09.966Z"
   },
   {
    "duration": 59,
    "start_time": "2022-03-21T15:51:10.092Z"
   },
   {
    "duration": 8,
    "start_time": "2022-03-21T15:51:10.154Z"
   },
   {
    "duration": 41,
    "start_time": "2022-03-21T15:51:10.165Z"
   },
   {
    "duration": 8,
    "start_time": "2022-03-21T15:51:10.209Z"
   },
   {
    "duration": 32,
    "start_time": "2022-03-21T15:51:10.220Z"
   },
   {
    "duration": 14,
    "start_time": "2022-03-21T15:51:10.254Z"
   },
   {
    "duration": 11,
    "start_time": "2022-03-21T15:51:10.271Z"
   },
   {
    "duration": 70,
    "start_time": "2022-03-21T15:51:10.288Z"
   },
   {
    "duration": 19,
    "start_time": "2022-03-21T15:51:10.361Z"
   },
   {
    "duration": 20,
    "start_time": "2022-03-21T15:51:10.383Z"
   },
   {
    "duration": 294,
    "start_time": "2022-03-21T15:51:10.406Z"
   },
   {
    "duration": 172,
    "start_time": "2022-03-21T15:51:10.703Z"
   },
   {
    "duration": 7,
    "start_time": "2022-03-21T15:51:10.878Z"
   },
   {
    "duration": 18,
    "start_time": "2022-03-21T15:51:10.888Z"
   },
   {
    "duration": 237,
    "start_time": "2022-03-21T15:51:10.909Z"
   },
   {
    "duration": 528,
    "start_time": "2022-03-21T15:51:11.148Z"
   },
   {
    "duration": 391,
    "start_time": "2022-03-21T15:53:10.794Z"
   },
   {
    "duration": 448,
    "start_time": "2022-03-21T15:55:08.787Z"
   },
   {
    "duration": 345,
    "start_time": "2022-03-21T15:55:30.627Z"
   },
   {
    "duration": 289,
    "start_time": "2022-03-21T16:03:51.412Z"
   },
   {
    "duration": 337,
    "start_time": "2022-03-21T16:04:35.663Z"
   },
   {
    "duration": 478,
    "start_time": "2022-03-21T16:12:31.164Z"
   },
   {
    "duration": 363,
    "start_time": "2022-03-21T16:18:49.658Z"
   },
   {
    "duration": 582,
    "start_time": "2022-03-21T16:20:40.591Z"
   },
   {
    "duration": 388,
    "start_time": "2022-03-21T16:21:12.758Z"
   },
   {
    "duration": 413,
    "start_time": "2022-03-21T16:23:04.334Z"
   },
   {
    "duration": 410,
    "start_time": "2022-03-21T16:23:08.623Z"
   },
   {
    "duration": 423,
    "start_time": "2022-03-21T16:24:02.339Z"
   },
   {
    "duration": 395,
    "start_time": "2022-03-21T16:24:20.971Z"
   },
   {
    "duration": 406,
    "start_time": "2022-03-21T16:24:40.736Z"
   },
   {
    "duration": 1420,
    "start_time": "2022-03-21T16:25:18.929Z"
   },
   {
    "duration": 101,
    "start_time": "2022-03-21T16:25:20.352Z"
   },
   {
    "duration": 59,
    "start_time": "2022-03-21T16:25:20.455Z"
   },
   {
    "duration": 9,
    "start_time": "2022-03-21T16:25:20.517Z"
   },
   {
    "duration": 39,
    "start_time": "2022-03-21T16:25:20.529Z"
   },
   {
    "duration": 6,
    "start_time": "2022-03-21T16:25:20.571Z"
   },
   {
    "duration": 15,
    "start_time": "2022-03-21T16:25:20.579Z"
   },
   {
    "duration": 15,
    "start_time": "2022-03-21T16:25:20.596Z"
   },
   {
    "duration": 38,
    "start_time": "2022-03-21T16:25:20.613Z"
   },
   {
    "duration": 21,
    "start_time": "2022-03-21T16:25:20.653Z"
   },
   {
    "duration": 19,
    "start_time": "2022-03-21T16:25:20.676Z"
   },
   {
    "duration": 56,
    "start_time": "2022-03-21T16:25:20.698Z"
   },
   {
    "duration": 396,
    "start_time": "2022-03-21T16:25:20.757Z"
   },
   {
    "duration": 241,
    "start_time": "2022-03-21T16:25:21.157Z"
   },
   {
    "duration": 6,
    "start_time": "2022-03-21T16:25:21.401Z"
   },
   {
    "duration": 34,
    "start_time": "2022-03-21T16:25:21.410Z"
   },
   {
    "duration": 216,
    "start_time": "2022-03-21T16:25:21.447Z"
   },
   {
    "duration": 500,
    "start_time": "2022-03-21T16:25:21.665Z"
   },
   {
    "duration": 523,
    "start_time": "2022-03-21T16:25:22.167Z"
   },
   {
    "duration": 343,
    "start_time": "2022-03-21T16:25:22.692Z"
   },
   {
    "duration": 469,
    "start_time": "2022-03-21T16:25:23.037Z"
   },
   {
    "duration": 551,
    "start_time": "2022-03-21T16:25:23.509Z"
   },
   {
    "duration": 394,
    "start_time": "2022-03-21T16:26:49.424Z"
   },
   {
    "duration": 370,
    "start_time": "2022-03-21T16:28:17.160Z"
   },
   {
    "duration": 489,
    "start_time": "2022-03-21T16:32:54.108Z"
   },
   {
    "duration": 539,
    "start_time": "2022-03-21T16:33:20.020Z"
   },
   {
    "duration": 465,
    "start_time": "2022-03-21T16:33:52.871Z"
   },
   {
    "duration": 523,
    "start_time": "2022-03-21T16:35:40.092Z"
   },
   {
    "duration": 463,
    "start_time": "2022-03-21T16:37:18.925Z"
   },
   {
    "duration": 401,
    "start_time": "2022-03-21T16:45:44.201Z"
   },
   {
    "duration": 409,
    "start_time": "2022-03-21T16:45:55.957Z"
   },
   {
    "duration": 385,
    "start_time": "2022-03-21T16:50:18.479Z"
   },
   {
    "duration": 413,
    "start_time": "2022-03-21T16:50:59.496Z"
   },
   {
    "duration": 1449,
    "start_time": "2022-03-21T16:51:29.632Z"
   },
   {
    "duration": 98,
    "start_time": "2022-03-21T16:51:31.083Z"
   },
   {
    "duration": 61,
    "start_time": "2022-03-21T16:51:31.184Z"
   },
   {
    "duration": 8,
    "start_time": "2022-03-21T16:51:31.248Z"
   },
   {
    "duration": 46,
    "start_time": "2022-03-21T16:51:31.259Z"
   },
   {
    "duration": 7,
    "start_time": "2022-03-21T16:51:31.308Z"
   },
   {
    "duration": 32,
    "start_time": "2022-03-21T16:51:31.318Z"
   },
   {
    "duration": 19,
    "start_time": "2022-03-21T16:51:31.352Z"
   },
   {
    "duration": 13,
    "start_time": "2022-03-21T16:51:31.373Z"
   },
   {
    "duration": 55,
    "start_time": "2022-03-21T16:51:31.388Z"
   },
   {
    "duration": 21,
    "start_time": "2022-03-21T16:51:31.446Z"
   },
   {
    "duration": 26,
    "start_time": "2022-03-21T16:51:31.469Z"
   },
   {
    "duration": 264,
    "start_time": "2022-03-21T16:51:31.497Z"
   },
   {
    "duration": 187,
    "start_time": "2022-03-21T16:51:31.765Z"
   },
   {
    "duration": 6,
    "start_time": "2022-03-21T16:51:31.954Z"
   },
   {
    "duration": 16,
    "start_time": "2022-03-21T16:51:31.963Z"
   },
   {
    "duration": 226,
    "start_time": "2022-03-21T16:51:31.981Z"
   },
   {
    "duration": 503,
    "start_time": "2022-03-21T16:51:32.209Z"
   },
   {
    "duration": 484,
    "start_time": "2022-03-21T16:51:32.714Z"
   },
   {
    "duration": 347,
    "start_time": "2022-03-21T16:51:33.200Z"
   },
   {
    "duration": 453,
    "start_time": "2022-03-21T16:51:33.549Z"
   },
   {
    "duration": 514,
    "start_time": "2022-03-21T16:51:34.004Z"
   },
   {
    "duration": 0,
    "start_time": "2022-03-21T16:51:34.520Z"
   },
   {
    "duration": 382,
    "start_time": "2022-03-21T16:51:50.324Z"
   },
   {
    "duration": 350,
    "start_time": "2022-03-21T16:51:58.848Z"
   },
   {
    "duration": 5,
    "start_time": "2022-03-21T16:52:17.478Z"
   },
   {
    "duration": 1346,
    "start_time": "2022-03-21T16:52:27.083Z"
   },
   {
    "duration": 93,
    "start_time": "2022-03-21T16:52:28.433Z"
   },
   {
    "duration": 58,
    "start_time": "2022-03-21T16:52:28.528Z"
   },
   {
    "duration": 8,
    "start_time": "2022-03-21T16:52:28.589Z"
   },
   {
    "duration": 38,
    "start_time": "2022-03-21T16:52:28.599Z"
   },
   {
    "duration": 6,
    "start_time": "2022-03-21T16:52:28.639Z"
   },
   {
    "duration": 16,
    "start_time": "2022-03-21T16:52:28.647Z"
   },
   {
    "duration": 15,
    "start_time": "2022-03-21T16:52:28.665Z"
   },
   {
    "duration": 13,
    "start_time": "2022-03-21T16:52:28.683Z"
   },
   {
    "duration": 60,
    "start_time": "2022-03-21T16:52:28.700Z"
   },
   {
    "duration": 1038,
    "start_time": "2022-03-21T16:52:28.762Z"
   },
   {
    "duration": 0,
    "start_time": "2022-03-21T16:52:29.802Z"
   },
   {
    "duration": 0,
    "start_time": "2022-03-21T16:52:29.804Z"
   },
   {
    "duration": 0,
    "start_time": "2022-03-21T16:52:29.805Z"
   },
   {
    "duration": 0,
    "start_time": "2022-03-21T16:52:29.807Z"
   },
   {
    "duration": 0,
    "start_time": "2022-03-21T16:52:29.809Z"
   },
   {
    "duration": 0,
    "start_time": "2022-03-21T16:52:29.810Z"
   },
   {
    "duration": 0,
    "start_time": "2022-03-21T16:52:29.812Z"
   },
   {
    "duration": 0,
    "start_time": "2022-03-21T16:52:29.813Z"
   },
   {
    "duration": 0,
    "start_time": "2022-03-21T16:52:29.815Z"
   },
   {
    "duration": 0,
    "start_time": "2022-03-21T16:52:29.817Z"
   },
   {
    "duration": 0,
    "start_time": "2022-03-21T16:52:29.819Z"
   },
   {
    "duration": 0,
    "start_time": "2022-03-21T16:52:29.821Z"
   },
   {
    "duration": 13,
    "start_time": "2022-03-21T16:52:41.952Z"
   },
   {
    "duration": 5,
    "start_time": "2022-03-21T16:53:04.983Z"
   },
   {
    "duration": 13,
    "start_time": "2022-03-21T16:53:28.664Z"
   },
   {
    "duration": 1398,
    "start_time": "2022-03-21T16:53:40.011Z"
   },
   {
    "duration": 96,
    "start_time": "2022-03-21T16:53:41.412Z"
   },
   {
    "duration": 59,
    "start_time": "2022-03-21T16:53:41.510Z"
   },
   {
    "duration": 8,
    "start_time": "2022-03-21T16:53:41.573Z"
   },
   {
    "duration": 45,
    "start_time": "2022-03-21T16:53:41.584Z"
   },
   {
    "duration": 7,
    "start_time": "2022-03-21T16:53:41.642Z"
   },
   {
    "duration": 31,
    "start_time": "2022-03-21T16:53:41.651Z"
   },
   {
    "duration": 42,
    "start_time": "2022-03-21T16:53:41.684Z"
   },
   {
    "duration": 39,
    "start_time": "2022-03-21T16:53:41.729Z"
   },
   {
    "duration": 49,
    "start_time": "2022-03-21T16:53:41.772Z"
   },
   {
    "duration": 38,
    "start_time": "2022-03-21T16:53:41.824Z"
   },
   {
    "duration": 48,
    "start_time": "2022-03-21T16:53:41.864Z"
   },
   {
    "duration": 266,
    "start_time": "2022-03-21T16:53:41.914Z"
   },
   {
    "duration": 177,
    "start_time": "2022-03-21T16:53:42.183Z"
   },
   {
    "duration": 6,
    "start_time": "2022-03-21T16:53:42.362Z"
   },
   {
    "duration": 22,
    "start_time": "2022-03-21T16:53:42.369Z"
   },
   {
    "duration": 227,
    "start_time": "2022-03-21T16:53:42.393Z"
   },
   {
    "duration": 525,
    "start_time": "2022-03-21T16:53:42.622Z"
   },
   {
    "duration": 479,
    "start_time": "2022-03-21T16:53:43.150Z"
   },
   {
    "duration": 370,
    "start_time": "2022-03-21T16:53:43.631Z"
   },
   {
    "duration": 484,
    "start_time": "2022-03-21T16:53:44.004Z"
   },
   {
    "duration": 375,
    "start_time": "2022-03-21T16:53:44.490Z"
   },
   {
    "duration": 481,
    "start_time": "2022-03-21T16:53:44.868Z"
   },
   {
    "duration": 447,
    "start_time": "2022-03-21T16:54:08.236Z"
   },
   {
    "duration": 446,
    "start_time": "2022-03-21T16:54:34.678Z"
   },
   {
    "duration": 543,
    "start_time": "2022-03-21T16:54:55.202Z"
   },
   {
    "duration": 467,
    "start_time": "2022-03-21T16:55:23.295Z"
   },
   {
    "duration": 483,
    "start_time": "2022-03-21T16:55:48.923Z"
   },
   {
    "duration": 1667,
    "start_time": "2022-03-21T22:01:14.093Z"
   },
   {
    "duration": 118,
    "start_time": "2022-03-21T22:01:15.763Z"
   },
   {
    "duration": 59,
    "start_time": "2022-03-21T22:01:15.884Z"
   },
   {
    "duration": 7,
    "start_time": "2022-03-21T22:01:15.947Z"
   },
   {
    "duration": 39,
    "start_time": "2022-03-21T22:01:15.956Z"
   },
   {
    "duration": 7,
    "start_time": "2022-03-21T22:01:15.997Z"
   },
   {
    "duration": 38,
    "start_time": "2022-03-21T22:01:16.006Z"
   },
   {
    "duration": 13,
    "start_time": "2022-03-21T22:01:16.047Z"
   },
   {
    "duration": 11,
    "start_time": "2022-03-21T22:01:16.062Z"
   },
   {
    "duration": 19,
    "start_time": "2022-03-21T22:01:16.077Z"
   },
   {
    "duration": 60,
    "start_time": "2022-03-21T22:01:16.098Z"
   },
   {
    "duration": 19,
    "start_time": "2022-03-21T22:01:16.160Z"
   },
   {
    "duration": 275,
    "start_time": "2022-03-21T22:01:16.181Z"
   },
   {
    "duration": 174,
    "start_time": "2022-03-21T22:01:16.458Z"
   },
   {
    "duration": 11,
    "start_time": "2022-03-21T22:01:16.634Z"
   },
   {
    "duration": 20,
    "start_time": "2022-03-21T22:01:16.647Z"
   },
   {
    "duration": 221,
    "start_time": "2022-03-21T22:01:16.669Z"
   },
   {
    "duration": 505,
    "start_time": "2022-03-21T22:01:16.893Z"
   },
   {
    "duration": 500,
    "start_time": "2022-03-21T22:01:17.401Z"
   },
   {
    "duration": 361,
    "start_time": "2022-03-21T22:01:17.903Z"
   },
   {
    "duration": 480,
    "start_time": "2022-03-21T22:01:18.267Z"
   },
   {
    "duration": 366,
    "start_time": "2022-03-21T22:01:18.749Z"
   },
   {
    "duration": 478,
    "start_time": "2022-03-21T22:01:19.117Z"
   },
   {
    "duration": 341,
    "start_time": "2022-03-21T22:01:58.259Z"
   },
   {
    "duration": 138,
    "start_time": "2022-03-21T22:09:06.340Z"
   },
   {
    "duration": 302,
    "start_time": "2022-03-21T22:09:23.392Z"
   },
   {
    "duration": 244,
    "start_time": "2022-03-21T22:13:19.609Z"
   },
   {
    "duration": 270,
    "start_time": "2022-03-21T22:15:54.182Z"
   },
   {
    "duration": 7,
    "start_time": "2022-03-21T22:20:11.426Z"
   },
   {
    "duration": 7,
    "start_time": "2022-03-21T22:20:17.774Z"
   },
   {
    "duration": 8,
    "start_time": "2022-03-21T22:21:53.886Z"
   },
   {
    "duration": 280,
    "start_time": "2022-03-21T22:28:22.433Z"
   },
   {
    "duration": 292,
    "start_time": "2022-03-21T22:28:35.328Z"
   },
   {
    "duration": 265,
    "start_time": "2022-03-21T22:29:28.564Z"
   },
   {
    "duration": 205,
    "start_time": "2022-03-21T22:32:27.577Z"
   },
   {
    "duration": 257,
    "start_time": "2022-03-21T22:32:48.644Z"
   },
   {
    "duration": 268,
    "start_time": "2022-03-21T22:33:16.336Z"
   },
   {
    "duration": 199,
    "start_time": "2022-03-21T22:38:51.746Z"
   },
   {
    "duration": 268,
    "start_time": "2022-03-21T22:39:20.298Z"
   },
   {
    "duration": 9,
    "start_time": "2022-03-21T22:41:23.425Z"
   },
   {
    "duration": 53,
    "start_time": "2022-03-22T10:10:06.717Z"
   },
   {
    "duration": 1347,
    "start_time": "2022-03-22T10:11:06.880Z"
   },
   {
    "duration": 1589,
    "start_time": "2022-03-22T10:11:08.230Z"
   },
   {
    "duration": 571,
    "start_time": "2022-03-22T10:11:09.821Z"
   },
   {
    "duration": 6,
    "start_time": "2022-03-22T10:11:10.394Z"
   },
   {
    "duration": 55,
    "start_time": "2022-03-22T10:11:10.401Z"
   },
   {
    "duration": 17,
    "start_time": "2022-03-22T10:11:10.458Z"
   },
   {
    "duration": 47,
    "start_time": "2022-03-22T10:11:10.477Z"
   },
   {
    "duration": 28,
    "start_time": "2022-03-22T10:11:10.526Z"
   },
   {
    "duration": 71,
    "start_time": "2022-03-22T10:11:10.555Z"
   },
   {
    "duration": 27,
    "start_time": "2022-03-22T10:11:10.629Z"
   },
   {
    "duration": 18,
    "start_time": "2022-03-22T10:11:10.658Z"
   },
   {
    "duration": 25,
    "start_time": "2022-03-22T10:11:10.677Z"
   },
   {
    "duration": 137,
    "start_time": "2022-03-22T10:11:10.704Z"
   },
   {
    "duration": 83,
    "start_time": "2022-03-22T10:11:10.843Z"
   },
   {
    "duration": 3,
    "start_time": "2022-03-22T10:11:10.928Z"
   },
   {
    "duration": 31,
    "start_time": "2022-03-22T10:11:10.933Z"
   },
   {
    "duration": 123,
    "start_time": "2022-03-22T10:11:10.966Z"
   },
   {
    "duration": 291,
    "start_time": "2022-03-22T10:11:11.091Z"
   },
   {
    "duration": 266,
    "start_time": "2022-03-22T10:11:11.384Z"
   },
   {
    "duration": 211,
    "start_time": "2022-03-22T10:11:11.652Z"
   },
   {
    "duration": 357,
    "start_time": "2022-03-22T10:11:11.864Z"
   },
   {
    "duration": 191,
    "start_time": "2022-03-22T10:11:12.222Z"
   },
   {
    "duration": 284,
    "start_time": "2022-03-22T10:11:12.415Z"
   },
   {
    "duration": 165,
    "start_time": "2022-03-22T10:11:12.701Z"
   },
   {
    "duration": 142,
    "start_time": "2022-03-22T10:11:12.868Z"
   },
   {
    "duration": 117,
    "start_time": "2022-03-22T10:11:13.012Z"
   },
   {
    "duration": 6,
    "start_time": "2022-03-22T10:11:13.130Z"
   },
   {
    "duration": 216,
    "start_time": "2022-03-22T10:11:13.138Z"
   },
   {
    "duration": 152,
    "start_time": "2022-03-22T10:11:13.355Z"
   },
   {
    "duration": 5,
    "start_time": "2022-03-22T10:11:13.509Z"
   },
   {
    "duration": 221,
    "start_time": "2022-03-22T10:11:13.515Z"
   },
   {
    "duration": 163,
    "start_time": "2022-03-22T10:26:08.238Z"
   },
   {
    "duration": 164,
    "start_time": "2022-03-22T10:26:56.874Z"
   },
   {
    "duration": 10,
    "start_time": "2022-03-22T10:33:33.840Z"
   },
   {
    "duration": 10,
    "start_time": "2022-03-22T10:34:57.446Z"
   },
   {
    "duration": 9,
    "start_time": "2022-03-22T10:39:54.664Z"
   },
   {
    "duration": 1210,
    "start_time": "2022-03-23T09:15:01.348Z"
   },
   {
    "duration": 98,
    "start_time": "2022-03-23T09:15:02.560Z"
   },
   {
    "duration": 32,
    "start_time": "2022-03-23T09:15:02.660Z"
   },
   {
    "duration": 29,
    "start_time": "2022-03-23T09:15:02.694Z"
   },
   {
    "duration": 47,
    "start_time": "2022-03-23T09:15:02.724Z"
   },
   {
    "duration": 5,
    "start_time": "2022-03-23T09:15:02.772Z"
   },
   {
    "duration": 25,
    "start_time": "2022-03-23T09:15:02.778Z"
   },
   {
    "duration": 27,
    "start_time": "2022-03-23T09:15:02.805Z"
   },
   {
    "duration": 20,
    "start_time": "2022-03-23T09:15:02.833Z"
   },
   {
    "duration": 62,
    "start_time": "2022-03-23T09:15:02.855Z"
   },
   {
    "duration": 58,
    "start_time": "2022-03-23T09:15:02.919Z"
   },
   {
    "duration": 35,
    "start_time": "2022-03-23T09:15:02.979Z"
   },
   {
    "duration": 164,
    "start_time": "2022-03-23T09:15:03.016Z"
   },
   {
    "duration": 85,
    "start_time": "2022-03-23T09:15:03.182Z"
   },
   {
    "duration": 4,
    "start_time": "2022-03-23T09:15:03.268Z"
   },
   {
    "duration": 30,
    "start_time": "2022-03-23T09:15:03.274Z"
   },
   {
    "duration": 137,
    "start_time": "2022-03-23T09:15:03.306Z"
   },
   {
    "duration": 268,
    "start_time": "2022-03-23T09:15:03.445Z"
   },
   {
    "duration": 269,
    "start_time": "2022-03-23T09:15:03.715Z"
   },
   {
    "duration": 209,
    "start_time": "2022-03-23T09:15:03.986Z"
   },
   {
    "duration": 386,
    "start_time": "2022-03-23T09:15:04.196Z"
   },
   {
    "duration": 216,
    "start_time": "2022-03-23T09:15:04.584Z"
   },
   {
    "duration": 348,
    "start_time": "2022-03-23T09:15:04.802Z"
   },
   {
    "duration": 134,
    "start_time": "2022-03-23T09:15:05.152Z"
   },
   {
    "duration": 151,
    "start_time": "2022-03-23T09:15:05.288Z"
   },
   {
    "duration": 132,
    "start_time": "2022-03-23T09:15:05.441Z"
   },
   {
    "duration": 6,
    "start_time": "2022-03-23T09:15:05.574Z"
   },
   {
    "duration": 256,
    "start_time": "2022-03-23T09:15:05.583Z"
   },
   {
    "duration": 177,
    "start_time": "2022-03-23T09:15:05.841Z"
   },
   {
    "duration": 6,
    "start_time": "2022-03-23T09:15:06.019Z"
   },
   {
    "duration": 225,
    "start_time": "2022-03-23T09:15:06.038Z"
   },
   {
    "duration": 158,
    "start_time": "2022-03-23T09:15:06.264Z"
   },
   {
    "duration": 20,
    "start_time": "2022-03-23T09:15:06.424Z"
   },
   {
    "duration": 1561,
    "start_time": "2022-03-23T09:15:53.427Z"
   },
   {
    "duration": 1739,
    "start_time": "2022-03-23T09:17:10.617Z"
   },
   {
    "duration": 1102,
    "start_time": "2022-03-23T09:17:31.398Z"
   },
   {
    "duration": 90,
    "start_time": "2022-03-23T09:17:32.502Z"
   },
   {
    "duration": 33,
    "start_time": "2022-03-23T09:17:32.594Z"
   },
   {
    "duration": 5,
    "start_time": "2022-03-23T09:17:32.629Z"
   },
   {
    "duration": 40,
    "start_time": "2022-03-23T09:17:32.636Z"
   },
   {
    "duration": 23,
    "start_time": "2022-03-23T09:17:32.678Z"
   },
   {
    "duration": 28,
    "start_time": "2022-03-23T09:17:32.703Z"
   },
   {
    "duration": 28,
    "start_time": "2022-03-23T09:17:32.732Z"
   },
   {
    "duration": 8,
    "start_time": "2022-03-23T09:17:32.762Z"
   },
   {
    "duration": 29,
    "start_time": "2022-03-23T09:17:32.773Z"
   },
   {
    "duration": 28,
    "start_time": "2022-03-23T09:17:32.804Z"
   },
   {
    "duration": 50,
    "start_time": "2022-03-23T09:17:32.834Z"
   },
   {
    "duration": 178,
    "start_time": "2022-03-23T09:17:32.886Z"
   },
   {
    "duration": 89,
    "start_time": "2022-03-23T09:17:33.066Z"
   },
   {
    "duration": 4,
    "start_time": "2022-03-23T09:17:33.156Z"
   },
   {
    "duration": 46,
    "start_time": "2022-03-23T09:17:33.162Z"
   },
   {
    "duration": 142,
    "start_time": "2022-03-23T09:17:33.210Z"
   },
   {
    "duration": 267,
    "start_time": "2022-03-23T09:17:33.354Z"
   },
   {
    "duration": 257,
    "start_time": "2022-03-23T09:17:33.622Z"
   },
   {
    "duration": 192,
    "start_time": "2022-03-23T09:17:33.881Z"
   },
   {
    "duration": 285,
    "start_time": "2022-03-23T09:17:34.075Z"
   },
   {
    "duration": 210,
    "start_time": "2022-03-23T09:17:34.362Z"
   },
   {
    "duration": 297,
    "start_time": "2022-03-23T09:17:34.573Z"
   },
   {
    "duration": 131,
    "start_time": "2022-03-23T09:17:34.872Z"
   },
   {
    "duration": 161,
    "start_time": "2022-03-23T09:17:35.005Z"
   },
   {
    "duration": 129,
    "start_time": "2022-03-23T09:17:35.168Z"
   },
   {
    "duration": 6,
    "start_time": "2022-03-23T09:17:35.298Z"
   },
   {
    "duration": 243,
    "start_time": "2022-03-23T09:17:35.308Z"
   },
   {
    "duration": 159,
    "start_time": "2022-03-23T09:17:35.553Z"
   },
   {
    "duration": 7,
    "start_time": "2022-03-23T09:17:35.714Z"
   },
   {
    "duration": 219,
    "start_time": "2022-03-23T09:17:35.737Z"
   },
   {
    "duration": 154,
    "start_time": "2022-03-23T09:17:35.958Z"
   },
   {
    "duration": 24,
    "start_time": "2022-03-23T09:17:36.114Z"
   },
   {
    "duration": 1378,
    "start_time": "2022-03-23T09:17:36.140Z"
   },
   {
    "duration": 83,
    "start_time": "2022-03-23T09:18:11.099Z"
   },
   {
    "duration": 1448,
    "start_time": "2022-03-23T09:18:27.281Z"
   },
   {
    "duration": 1876,
    "start_time": "2022-03-23T09:19:21.760Z"
   },
   {
    "duration": 139,
    "start_time": "2022-03-23T09:20:57.050Z"
   },
   {
    "duration": 11,
    "start_time": "2022-03-23T09:21:02.988Z"
   },
   {
    "duration": 1362,
    "start_time": "2022-03-23T09:21:06.189Z"
   },
   {
    "duration": 1448,
    "start_time": "2022-03-23T09:21:32.981Z"
   },
   {
    "duration": 1337,
    "start_time": "2022-03-23T09:21:56.333Z"
   },
   {
    "duration": 4,
    "start_time": "2022-03-23T09:24:33.101Z"
   },
   {
    "duration": 22,
    "start_time": "2022-03-23T09:24:33.547Z"
   },
   {
    "duration": 44,
    "start_time": "2022-03-23T09:24:34.476Z"
   },
   {
    "duration": 6,
    "start_time": "2022-03-23T09:24:34.949Z"
   },
   {
    "duration": 22,
    "start_time": "2022-03-23T09:24:35.466Z"
   },
   {
    "duration": 5,
    "start_time": "2022-03-23T09:24:35.951Z"
   },
   {
    "duration": 8,
    "start_time": "2022-03-23T09:24:37.385Z"
   },
   {
    "duration": 8,
    "start_time": "2022-03-23T09:24:38.264Z"
   },
   {
    "duration": 8,
    "start_time": "2022-03-23T09:24:39.622Z"
   },
   {
    "duration": 12,
    "start_time": "2022-03-23T09:24:41.487Z"
   },
   {
    "duration": 10,
    "start_time": "2022-03-23T09:24:42.443Z"
   },
   {
    "duration": 11,
    "start_time": "2022-03-23T09:24:42.865Z"
   },
   {
    "duration": 128,
    "start_time": "2022-03-23T09:24:43.326Z"
   },
   {
    "duration": 72,
    "start_time": "2022-03-23T09:24:43.781Z"
   },
   {
    "duration": 4,
    "start_time": "2022-03-23T09:24:44.737Z"
   },
   {
    "duration": 11,
    "start_time": "2022-03-23T09:24:46.025Z"
   },
   {
    "duration": 133,
    "start_time": "2022-03-23T09:24:46.039Z"
   },
   {
    "duration": 264,
    "start_time": "2022-03-23T09:24:47.276Z"
   },
   {
    "duration": 189,
    "start_time": "2022-03-23T09:24:48.278Z"
   },
   {
    "duration": 191,
    "start_time": "2022-03-23T09:24:49.598Z"
   },
   {
    "duration": 273,
    "start_time": "2022-03-23T09:24:50.989Z"
   },
   {
    "duration": 210,
    "start_time": "2022-03-23T09:24:52.438Z"
   },
   {
    "duration": 335,
    "start_time": "2022-03-23T09:24:53.932Z"
   },
   {
    "duration": 120,
    "start_time": "2022-03-23T09:24:55.526Z"
   },
   {
    "duration": 134,
    "start_time": "2022-03-23T09:24:56.492Z"
   },
   {
    "duration": 124,
    "start_time": "2022-03-23T09:24:57.536Z"
   },
   {
    "duration": 7,
    "start_time": "2022-03-23T09:24:59.017Z"
   },
   {
    "duration": 158,
    "start_time": "2022-03-23T09:25:00.681Z"
   },
   {
    "duration": 255,
    "start_time": "2022-03-23T09:25:01.766Z"
   },
   {
    "duration": 7,
    "start_time": "2022-03-23T09:25:03.345Z"
   },
   {
    "duration": 209,
    "start_time": "2022-03-23T09:25:05.090Z"
   },
   {
    "duration": 146,
    "start_time": "2022-03-23T09:25:06.058Z"
   },
   {
    "duration": 11,
    "start_time": "2022-03-23T09:25:07.891Z"
   },
   {
    "duration": 1831,
    "start_time": "2022-03-23T09:25:10.553Z"
   },
   {
    "duration": 1429,
    "start_time": "2022-03-23T09:29:06.913Z"
   },
   {
    "duration": 1391,
    "start_time": "2022-03-23T09:29:13.301Z"
   },
   {
    "duration": 1634,
    "start_time": "2022-03-23T09:37:40.874Z"
   },
   {
    "duration": 1003,
    "start_time": "2022-03-23T09:37:56.567Z"
   },
   {
    "duration": 85,
    "start_time": "2022-03-23T09:37:57.572Z"
   },
   {
    "duration": 42,
    "start_time": "2022-03-23T09:37:57.659Z"
   },
   {
    "duration": 5,
    "start_time": "2022-03-23T09:37:57.704Z"
   },
   {
    "duration": 22,
    "start_time": "2022-03-23T09:37:57.711Z"
   },
   {
    "duration": 6,
    "start_time": "2022-03-23T09:37:57.735Z"
   },
   {
    "duration": 10,
    "start_time": "2022-03-23T09:37:57.743Z"
   },
   {
    "duration": 12,
    "start_time": "2022-03-23T09:37:57.755Z"
   },
   {
    "duration": 8,
    "start_time": "2022-03-23T09:37:57.768Z"
   },
   {
    "duration": 18,
    "start_time": "2022-03-23T09:37:57.779Z"
   },
   {
    "duration": 20,
    "start_time": "2022-03-23T09:37:57.799Z"
   },
   {
    "duration": 12,
    "start_time": "2022-03-23T09:37:57.837Z"
   },
   {
    "duration": 163,
    "start_time": "2022-03-23T09:37:57.851Z"
   },
   {
    "duration": 84,
    "start_time": "2022-03-23T09:37:58.016Z"
   },
   {
    "duration": 4,
    "start_time": "2022-03-23T09:37:58.102Z"
   },
   {
    "duration": 14,
    "start_time": "2022-03-23T09:37:58.107Z"
   },
   {
    "duration": 134,
    "start_time": "2022-03-23T09:37:58.122Z"
   },
   {
    "duration": 271,
    "start_time": "2022-03-23T09:37:58.258Z"
   },
   {
    "duration": 272,
    "start_time": "2022-03-23T09:37:58.531Z"
   },
   {
    "duration": 211,
    "start_time": "2022-03-23T09:37:58.804Z"
   },
   {
    "duration": 329,
    "start_time": "2022-03-23T09:37:59.017Z"
   },
   {
    "duration": 216,
    "start_time": "2022-03-23T09:37:59.347Z"
   },
   {
    "duration": 312,
    "start_time": "2022-03-23T09:37:59.564Z"
   },
   {
    "duration": 116,
    "start_time": "2022-03-23T09:37:59.880Z"
   },
   {
    "duration": 161,
    "start_time": "2022-03-23T09:37:59.998Z"
   },
   {
    "duration": 128,
    "start_time": "2022-03-23T09:38:00.161Z"
   },
   {
    "duration": 6,
    "start_time": "2022-03-23T09:38:00.290Z"
   },
   {
    "duration": 256,
    "start_time": "2022-03-23T09:38:00.299Z"
   },
   {
    "duration": 158,
    "start_time": "2022-03-23T09:38:00.556Z"
   },
   {
    "duration": 7,
    "start_time": "2022-03-23T09:38:00.716Z"
   },
   {
    "duration": 236,
    "start_time": "2022-03-23T09:38:00.724Z"
   },
   {
    "duration": 158,
    "start_time": "2022-03-23T09:38:00.962Z"
   },
   {
    "duration": 21,
    "start_time": "2022-03-23T09:38:01.121Z"
   },
   {
    "duration": 1756,
    "start_time": "2022-03-23T09:38:01.144Z"
   },
   {
    "duration": 1674,
    "start_time": "2022-03-23T09:38:14.523Z"
   },
   {
    "duration": 1701,
    "start_time": "2022-03-23T09:45:42.758Z"
   },
   {
    "duration": 150,
    "start_time": "2022-03-23T09:52:26.849Z"
   },
   {
    "duration": 11,
    "start_time": "2022-03-23T09:52:31.639Z"
   },
   {
    "duration": 10,
    "start_time": "2022-03-23T09:52:36.105Z"
   },
   {
    "duration": 2,
    "start_time": "2022-03-23T09:56:04.787Z"
   },
   {
    "duration": 30,
    "start_time": "2022-03-23T09:59:24.265Z"
   },
   {
    "duration": 110,
    "start_time": "2022-03-23T10:10:39.893Z"
   },
   {
    "duration": 10,
    "start_time": "2022-03-23T10:10:46.001Z"
   },
   {
    "duration": 9,
    "start_time": "2022-03-23T10:10:57.736Z"
   },
   {
    "duration": 1784,
    "start_time": "2022-03-23T10:14:10.352Z"
   },
   {
    "duration": 16,
    "start_time": "2022-03-23T10:14:49.714Z"
   },
   {
    "duration": 8,
    "start_time": "2022-03-23T10:17:34.506Z"
   },
   {
    "duration": 16,
    "start_time": "2022-03-23T10:17:35.351Z"
   },
   {
    "duration": 14,
    "start_time": "2022-03-23T10:17:37.777Z"
   },
   {
    "duration": 15,
    "start_time": "2022-03-23T10:18:38.348Z"
   },
   {
    "duration": 1762,
    "start_time": "2022-03-24T09:34:49.235Z"
   },
   {
    "duration": 142,
    "start_time": "2022-03-24T09:34:55.990Z"
   },
   {
    "duration": 276,
    "start_time": "2022-03-24T09:36:12.486Z"
   },
   {
    "duration": 15,
    "start_time": "2022-03-24T09:36:23.711Z"
   },
   {
    "duration": 5,
    "start_time": "2022-03-24T09:37:12.558Z"
   },
   {
    "duration": 36,
    "start_time": "2022-03-24T09:37:19.816Z"
   },
   {
    "duration": 14,
    "start_time": "2022-03-24T09:37:27.129Z"
   },
   {
    "duration": 6,
    "start_time": "2022-03-24T09:37:38.091Z"
   },
   {
    "duration": 30,
    "start_time": "2022-03-24T09:37:41.902Z"
   },
   {
    "duration": 42,
    "start_time": "2022-03-24T09:37:46.029Z"
   },
   {
    "duration": 7,
    "start_time": "2022-03-24T09:37:46.501Z"
   },
   {
    "duration": 30,
    "start_time": "2022-03-24T09:37:47.017Z"
   },
   {
    "duration": 7,
    "start_time": "2022-03-24T09:37:47.866Z"
   },
   {
    "duration": 12,
    "start_time": "2022-03-24T09:37:50.744Z"
   },
   {
    "duration": 14,
    "start_time": "2022-03-24T09:38:04.340Z"
   },
   {
    "duration": 12,
    "start_time": "2022-03-24T09:38:30.013Z"
   },
   {
    "duration": 21,
    "start_time": "2022-03-24T09:39:05.644Z"
   },
   {
    "duration": 17,
    "start_time": "2022-03-24T09:39:10.382Z"
   },
   {
    "duration": 115,
    "start_time": "2022-03-24T09:39:15.628Z"
   },
   {
    "duration": 19,
    "start_time": "2022-03-24T09:39:18.385Z"
   },
   {
    "duration": 7,
    "start_time": "2022-03-24T09:39:48.035Z"
   },
   {
    "duration": 44,
    "start_time": "2022-03-24T09:39:49.761Z"
   },
   {
    "duration": 41,
    "start_time": "2022-03-24T09:39:50.741Z"
   },
   {
    "duration": 7,
    "start_time": "2022-03-24T09:39:51.204Z"
   },
   {
    "duration": 28,
    "start_time": "2022-03-24T09:39:52.133Z"
   },
   {
    "duration": 6,
    "start_time": "2022-03-24T09:39:52.698Z"
   },
   {
    "duration": 12,
    "start_time": "2022-03-24T09:39:55.033Z"
   },
   {
    "duration": 13,
    "start_time": "2022-03-24T09:39:57.102Z"
   },
   {
    "duration": 4,
    "start_time": "2022-03-24T09:40:09.524Z"
   },
   {
    "duration": 30,
    "start_time": "2022-03-24T09:40:10.448Z"
   },
   {
    "duration": 40,
    "start_time": "2022-03-24T09:40:11.212Z"
   },
   {
    "duration": 7,
    "start_time": "2022-03-24T09:40:11.632Z"
   },
   {
    "duration": 28,
    "start_time": "2022-03-24T09:40:12.050Z"
   },
   {
    "duration": 6,
    "start_time": "2022-03-24T09:40:12.524Z"
   },
   {
    "duration": 11,
    "start_time": "2022-03-24T09:40:14.663Z"
   },
   {
    "duration": 13,
    "start_time": "2022-03-24T09:40:16.735Z"
   },
   {
    "duration": 5,
    "start_time": "2022-03-24T09:40:24.909Z"
   },
   {
    "duration": 30,
    "start_time": "2022-03-24T09:40:25.874Z"
   },
   {
    "duration": 39,
    "start_time": "2022-03-24T09:40:26.552Z"
   },
   {
    "duration": 8,
    "start_time": "2022-03-24T09:40:26.894Z"
   },
   {
    "duration": 29,
    "start_time": "2022-03-24T09:40:27.310Z"
   },
   {
    "duration": 8,
    "start_time": "2022-03-24T09:40:27.735Z"
   },
   {
    "duration": 17,
    "start_time": "2022-03-24T09:40:29.701Z"
   },
   {
    "duration": 18,
    "start_time": "2022-03-24T09:40:31.036Z"
   },
   {
    "duration": 6,
    "start_time": "2022-03-24T09:40:41.728Z"
   },
   {
    "duration": 31,
    "start_time": "2022-03-24T09:40:43.212Z"
   },
   {
    "duration": 41,
    "start_time": "2022-03-24T09:40:44.182Z"
   },
   {
    "duration": 7,
    "start_time": "2022-03-24T09:40:44.610Z"
   },
   {
    "duration": 30,
    "start_time": "2022-03-24T09:40:45.287Z"
   },
   {
    "duration": 6,
    "start_time": "2022-03-24T09:40:45.852Z"
   },
   {
    "duration": 12,
    "start_time": "2022-03-24T09:40:48.407Z"
   },
   {
    "duration": 19,
    "start_time": "2022-03-24T09:40:50.215Z"
   }
  ],
  "kernelspec": {
   "display_name": "Python 3 (ipykernel)",
   "language": "python",
   "name": "python3"
  },
  "language_info": {
   "codemirror_mode": {
    "name": "ipython",
    "version": 3
   },
   "file_extension": ".py",
   "mimetype": "text/x-python",
   "name": "python",
   "nbconvert_exporter": "python",
   "pygments_lexer": "ipython3",
   "version": "3.9.5"
  },
  "toc": {
   "base_numbering": 1,
   "nav_menu": {},
   "number_sections": true,
   "sideBar": true,
   "skip_h1_title": true,
   "title_cell": "Table of Contents",
   "title_sidebar": "Contents",
   "toc_cell": false,
   "toc_position": {},
   "toc_section_display": true,
   "toc_window_display": false
  }
 },
 "nbformat": 4,
 "nbformat_minor": 2
}
